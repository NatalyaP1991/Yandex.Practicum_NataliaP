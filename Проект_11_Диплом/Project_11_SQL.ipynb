{
  "cells": [
    {
      "cell_type": "markdown",
      "metadata": {
        "id": "R20AyJUIb6eu"
      },
      "source": [
        "# Работа с SQL"
      ]
    },
    {
      "cell_type": "markdown",
      "metadata": {
        "id": "WsVHWbkGb6eu"
      },
      "source": [
        "Ваша компания купила крупный сервис для чтения книг по подписке. Необходимо проанализировать базу данных. В ней — информация о книгах, издательствах, авторах, а также пользовательские обзоры книг. Эти данные помогут сформулировать ценностное предложение для нового продукта."
      ]
    },
    {
      "cell_type": "markdown",
      "metadata": {
        "toc": true,
        "id": "fpoSoWPSb6ev"
      },
      "source": [
        "<h1>Содержание<span class=\"tocSkip\"></span></h1>\n",
        "<div class=\"toc\"><ul class=\"toc-item\"><li><span><a href=\"#Задания\" data-toc-modified-id=\"Задания-1\"><span class=\"toc-item-num\">1&nbsp;&nbsp;</span>Задания</a></span></li><li><span><a href=\"#Описание-данных\" data-toc-modified-id=\"Описание-данных-2\"><span class=\"toc-item-num\">2&nbsp;&nbsp;</span>Описание данных</a></span></li><li><span><a href=\"#Импорт-библиотек.-Подключение-к-БД.-Изучение-данных\" data-toc-modified-id=\"Импорт-библиотек.-Подключение-к-БД.-Изучение-данных-3\"><span class=\"toc-item-num\">3&nbsp;&nbsp;</span>Импорт библиотек. Подключение к БД. Изучение данных</a></span></li><li><span><a href=\"#Задание-№1\" data-toc-modified-id=\"Задание-№1-4\"><span class=\"toc-item-num\">4&nbsp;&nbsp;</span>Задание №1</a></span></li><li><span><a href=\"#Задание-№2\" data-toc-modified-id=\"Задание-№2-5\"><span class=\"toc-item-num\">5&nbsp;&nbsp;</span>Задание №2</a></span></li><li><span><a href=\"#Задание-№3\" data-toc-modified-id=\"Задание-№3-6\"><span class=\"toc-item-num\">6&nbsp;&nbsp;</span>Задание №3</a></span></li><li><span><a href=\"#Задание-№4\" data-toc-modified-id=\"Задание-№4-7\"><span class=\"toc-item-num\">7&nbsp;&nbsp;</span>Задание №4</a></span></li><li><span><a href=\"#Задание-№5\" data-toc-modified-id=\"Задание-№5-8\"><span class=\"toc-item-num\">8&nbsp;&nbsp;</span>Задание №5</a></span></li></ul></div>"
      ]
    },
    {
      "cell_type": "markdown",
      "metadata": {
        "id": "SiDrIdH_b6ew"
      },
      "source": [
        "## Задания"
      ]
    },
    {
      "cell_type": "markdown",
      "metadata": {
        "id": "47TzaCMSb6ew"
      },
      "source": [
        "1.\tПосчитайте, сколько книг вышло после 1 января 2000 года;\n",
        "2.\tДля каждой книги посчитайте количество обзоров и среднюю оценку;\n",
        "3.\tОпределите издательство, которое выпустило наибольшее число книг толще 50 страниц — так вы исключите из анализа брошюры;\n",
        "4.\tОпределите автора с самой высокой средней оценкой книг — учитывайте только книги с 50 и более оценками;\n",
        "5.\tПосчитайте среднее количество обзоров от пользователей, которые поставили больше 50 оценок."
      ]
    },
    {
      "cell_type": "markdown",
      "metadata": {
        "id": "oHhvAb-vb6ex"
      },
      "source": [
        "## Описание данных"
      ]
    },
    {
      "cell_type": "markdown",
      "metadata": {
        "id": "sKbjzm8Jb6ey"
      },
      "source": [
        "**Таблица books**\n",
        "\n",
        "Содержит данные о книгах:\n",
        "-\tbook_id — идентификатор книги;\n",
        "-\tauthor_id — идентификатор автора;\n",
        "-\ttitle — название книги;\n",
        "-\tnum_pages — количество страниц;\n",
        "-\tpublication_date — дата публикации книги;\n",
        "-\tpublisher_id — идентификатор издателя.\n",
        "\n",
        "**Таблица authors**\n",
        "\n",
        "Содержит данные об авторах:\n",
        "-\tauthor_id — идентификатор автора;\n",
        "-\tauthor — имя автора.\n",
        "\n",
        "**Таблица publishers**\n",
        "\n",
        "Содержит данные об издательствах:\n",
        "-\tpublisher_id — идентификатор издательства;\n",
        "-\tpublisher — название издательства;\n",
        "\n",
        "**Таблица ratings**\n",
        "\n",
        "Содержит данные о пользовательских оценках книг:\n",
        "-\trating_id — идентификатор оценки;\n",
        "-\tbook_id — идентификатор книги;\n",
        "-\tusername — имя пользователя, оставившего оценку;\n",
        "-\trating — оценка книги.\n",
        "\n",
        "**Таблица reviews**\n",
        "\n",
        "Содержит данные о пользовательских обзорах на книги:\n",
        "-\treview_id — идентификатор обзора;\n",
        "-\tbook_id — идентификатор книги;\n",
        "-\tusername — имя пользователя, написавшего обзор;\n",
        "-\ttext — текст обзора."
      ]
    },
    {
      "cell_type": "markdown",
      "metadata": {
        "id": "oMMT2xISb6ez"
      },
      "source": [
        "<div class=\"alert alert-block alert-success\">\n",
        "    \n",
        "\n",
        "__Комментарий от ревьюера №1 (OK)__ \n",
        "\n",
        "Хорошее начало проекта с заголовком, описанием и интерактивным меню.\n",
        "</div>"
      ]
    },
    {
      "cell_type": "markdown",
      "metadata": {
        "id": "aUHHEfKrb6ez"
      },
      "source": [
        "## Импорт библиотек. Подключение к БД. Изучение данных "
      ]
    },
    {
      "cell_type": "code",
      "execution_count": null,
      "metadata": {
        "id": "ZGzrDloJb6ez"
      },
      "outputs": [],
      "source": [
        "import pandas as pd\n",
        "from sqlalchemy import create_engine\n",
        "import datetime as dt"
      ]
    },
    {
      "cell_type": "code",
      "execution_count": null,
      "metadata": {
        "id": "3J3twjjgb6e1"
      },
      "outputs": [],
      "source": [
        "# устанавливаем параметры\n",
        "db_config = {'user': 'praktikum_student', \n",
        " 'pwd': 'Sdf4$2;d-d30pp', \n",
        " 'host': 'rc1b-wcoijxj3yxfsf3fs.mdb.yandexcloud.net',\n",
        " 'port': 6432, # порт подключения\n",
        " 'db': 'data-analyst-final-project-db'} # название базы данных\n",
        "\n",
        "connection_string = 'postgresql://{}:{}@{}:{}/{}'.format(db_config['user'],\n",
        " db_config['pwd'],\n",
        " db_config['host'],\n",
        " db_config['port'],\n",
        " db_config['db'])\n",
        "\n",
        "# сохраняем коннектор\n",
        "engine = create_engine(connection_string, connect_args={'sslmode':'require'}) \n"
      ]
    },
    {
      "cell_type": "markdown",
      "metadata": {
        "id": "OQIjM9Ylb6e1"
      },
      "source": [
        "**Выведем все таблицы**"
      ]
    },
    {
      "cell_type": "code",
      "execution_count": null,
      "metadata": {
        "scrolled": false,
        "id": "EdnEZ7yCb6e1",
        "outputId": "4d328aa7-3c65-4da5-dd02-ff3132fb7082"
      },
      "outputs": [
        {
          "name": "stdout",
          "output_type": "stream",
          "text": [
            "Таблица - \"books\"\n"
          ]
        },
        {
          "data": {
            "text/html": [
              "<div>\n",
              "<style scoped>\n",
              "    .dataframe tbody tr th:only-of-type {\n",
              "        vertical-align: middle;\n",
              "    }\n",
              "\n",
              "    .dataframe tbody tr th {\n",
              "        vertical-align: top;\n",
              "    }\n",
              "\n",
              "    .dataframe thead th {\n",
              "        text-align: right;\n",
              "    }\n",
              "</style>\n",
              "<table border=\"1\" class=\"dataframe\">\n",
              "  <thead>\n",
              "    <tr style=\"text-align: right;\">\n",
              "      <th></th>\n",
              "      <th>book_id</th>\n",
              "      <th>author_id</th>\n",
              "      <th>title</th>\n",
              "      <th>num_pages</th>\n",
              "      <th>publication_date</th>\n",
              "      <th>publisher_id</th>\n",
              "    </tr>\n",
              "  </thead>\n",
              "  <tbody>\n",
              "    <tr>\n",
              "      <th>0</th>\n",
              "      <td>1</td>\n",
              "      <td>546</td>\n",
              "      <td>'Salem's Lot</td>\n",
              "      <td>594</td>\n",
              "      <td>2005-11-01</td>\n",
              "      <td>93</td>\n",
              "    </tr>\n",
              "    <tr>\n",
              "      <th>1</th>\n",
              "      <td>2</td>\n",
              "      <td>465</td>\n",
              "      <td>1 000 Places to See Before You Die</td>\n",
              "      <td>992</td>\n",
              "      <td>2003-05-22</td>\n",
              "      <td>336</td>\n",
              "    </tr>\n",
              "    <tr>\n",
              "      <th>2</th>\n",
              "      <td>3</td>\n",
              "      <td>407</td>\n",
              "      <td>13 Little Blue Envelopes (Little Blue Envelope...</td>\n",
              "      <td>322</td>\n",
              "      <td>2010-12-21</td>\n",
              "      <td>135</td>\n",
              "    </tr>\n",
              "    <tr>\n",
              "      <th>3</th>\n",
              "      <td>4</td>\n",
              "      <td>82</td>\n",
              "      <td>1491: New Revelations of the Americas Before C...</td>\n",
              "      <td>541</td>\n",
              "      <td>2006-10-10</td>\n",
              "      <td>309</td>\n",
              "    </tr>\n",
              "    <tr>\n",
              "      <th>4</th>\n",
              "      <td>5</td>\n",
              "      <td>125</td>\n",
              "      <td>1776</td>\n",
              "      <td>386</td>\n",
              "      <td>2006-07-04</td>\n",
              "      <td>268</td>\n",
              "    </tr>\n",
              "  </tbody>\n",
              "</table>\n",
              "</div>"
            ],
            "text/plain": [
              "   book_id  author_id                                              title  \\\n",
              "0        1        546                                       'Salem's Lot   \n",
              "1        2        465                 1 000 Places to See Before You Die   \n",
              "2        3        407  13 Little Blue Envelopes (Little Blue Envelope...   \n",
              "3        4         82  1491: New Revelations of the Americas Before C...   \n",
              "4        5        125                                               1776   \n",
              "\n",
              "   num_pages publication_date  publisher_id  \n",
              "0        594       2005-11-01            93  \n",
              "1        992       2003-05-22           336  \n",
              "2        322       2010-12-21           135  \n",
              "3        541       2006-10-10           309  \n",
              "4        386       2006-07-04           268  "
            ]
          },
          "metadata": {},
          "output_type": "display_data"
        },
        {
          "name": "stdout",
          "output_type": "stream",
          "text": [
            "<class 'pandas.core.frame.DataFrame'>\n",
            "RangeIndex: 1000 entries, 0 to 999\n",
            "Data columns (total 6 columns):\n",
            " #   Column            Non-Null Count  Dtype \n",
            "---  ------            --------------  ----- \n",
            " 0   book_id           1000 non-null   int64 \n",
            " 1   author_id         1000 non-null   int64 \n",
            " 2   title             1000 non-null   object\n",
            " 3   num_pages         1000 non-null   int64 \n",
            " 4   publication_date  1000 non-null   object\n",
            " 5   publisher_id      1000 non-null   int64 \n",
            "dtypes: int64(4), object(2)\n",
            "memory usage: 47.0+ KB\n",
            "None\n",
            "*********************************\n",
            "Таблица - \"authors\"\n"
          ]
        },
        {
          "data": {
            "text/html": [
              "<div>\n",
              "<style scoped>\n",
              "    .dataframe tbody tr th:only-of-type {\n",
              "        vertical-align: middle;\n",
              "    }\n",
              "\n",
              "    .dataframe tbody tr th {\n",
              "        vertical-align: top;\n",
              "    }\n",
              "\n",
              "    .dataframe thead th {\n",
              "        text-align: right;\n",
              "    }\n",
              "</style>\n",
              "<table border=\"1\" class=\"dataframe\">\n",
              "  <thead>\n",
              "    <tr style=\"text-align: right;\">\n",
              "      <th></th>\n",
              "      <th>author_id</th>\n",
              "      <th>author</th>\n",
              "    </tr>\n",
              "  </thead>\n",
              "  <tbody>\n",
              "    <tr>\n",
              "      <th>0</th>\n",
              "      <td>1</td>\n",
              "      <td>A.S. Byatt</td>\n",
              "    </tr>\n",
              "    <tr>\n",
              "      <th>1</th>\n",
              "      <td>2</td>\n",
              "      <td>Aesop/Laura Harris/Laura Gibbs</td>\n",
              "    </tr>\n",
              "    <tr>\n",
              "      <th>2</th>\n",
              "      <td>3</td>\n",
              "      <td>Agatha Christie</td>\n",
              "    </tr>\n",
              "    <tr>\n",
              "      <th>3</th>\n",
              "      <td>4</td>\n",
              "      <td>Alan Brennert</td>\n",
              "    </tr>\n",
              "    <tr>\n",
              "      <th>4</th>\n",
              "      <td>5</td>\n",
              "      <td>Alan Moore/David   Lloyd</td>\n",
              "    </tr>\n",
              "  </tbody>\n",
              "</table>\n",
              "</div>"
            ],
            "text/plain": [
              "   author_id                          author\n",
              "0          1                      A.S. Byatt\n",
              "1          2  Aesop/Laura Harris/Laura Gibbs\n",
              "2          3                 Agatha Christie\n",
              "3          4                   Alan Brennert\n",
              "4          5        Alan Moore/David   Lloyd"
            ]
          },
          "metadata": {},
          "output_type": "display_data"
        },
        {
          "name": "stdout",
          "output_type": "stream",
          "text": [
            "<class 'pandas.core.frame.DataFrame'>\n",
            "RangeIndex: 636 entries, 0 to 635\n",
            "Data columns (total 2 columns):\n",
            " #   Column     Non-Null Count  Dtype \n",
            "---  ------     --------------  ----- \n",
            " 0   author_id  636 non-null    int64 \n",
            " 1   author     636 non-null    object\n",
            "dtypes: int64(1), object(1)\n",
            "memory usage: 10.1+ KB\n",
            "None\n",
            "*********************************\n",
            "Таблица - \"publishers\"\n"
          ]
        },
        {
          "data": {
            "text/html": [
              "<div>\n",
              "<style scoped>\n",
              "    .dataframe tbody tr th:only-of-type {\n",
              "        vertical-align: middle;\n",
              "    }\n",
              "\n",
              "    .dataframe tbody tr th {\n",
              "        vertical-align: top;\n",
              "    }\n",
              "\n",
              "    .dataframe thead th {\n",
              "        text-align: right;\n",
              "    }\n",
              "</style>\n",
              "<table border=\"1\" class=\"dataframe\">\n",
              "  <thead>\n",
              "    <tr style=\"text-align: right;\">\n",
              "      <th></th>\n",
              "      <th>publisher_id</th>\n",
              "      <th>publisher</th>\n",
              "    </tr>\n",
              "  </thead>\n",
              "  <tbody>\n",
              "    <tr>\n",
              "      <th>0</th>\n",
              "      <td>1</td>\n",
              "      <td>Ace</td>\n",
              "    </tr>\n",
              "    <tr>\n",
              "      <th>1</th>\n",
              "      <td>2</td>\n",
              "      <td>Ace Book</td>\n",
              "    </tr>\n",
              "    <tr>\n",
              "      <th>2</th>\n",
              "      <td>3</td>\n",
              "      <td>Ace Books</td>\n",
              "    </tr>\n",
              "    <tr>\n",
              "      <th>3</th>\n",
              "      <td>4</td>\n",
              "      <td>Ace Hardcover</td>\n",
              "    </tr>\n",
              "    <tr>\n",
              "      <th>4</th>\n",
              "      <td>5</td>\n",
              "      <td>Addison Wesley Publishing Company</td>\n",
              "    </tr>\n",
              "  </tbody>\n",
              "</table>\n",
              "</div>"
            ],
            "text/plain": [
              "   publisher_id                          publisher\n",
              "0             1                                Ace\n",
              "1             2                           Ace Book\n",
              "2             3                          Ace Books\n",
              "3             4                      Ace Hardcover\n",
              "4             5  Addison Wesley Publishing Company"
            ]
          },
          "metadata": {},
          "output_type": "display_data"
        },
        {
          "name": "stdout",
          "output_type": "stream",
          "text": [
            "<class 'pandas.core.frame.DataFrame'>\n",
            "RangeIndex: 340 entries, 0 to 339\n",
            "Data columns (total 2 columns):\n",
            " #   Column        Non-Null Count  Dtype \n",
            "---  ------        --------------  ----- \n",
            " 0   publisher_id  340 non-null    int64 \n",
            " 1   publisher     340 non-null    object\n",
            "dtypes: int64(1), object(1)\n",
            "memory usage: 5.4+ KB\n",
            "None\n",
            "*********************************\n",
            "Таблица - \"ratings\"\n"
          ]
        },
        {
          "data": {
            "text/html": [
              "<div>\n",
              "<style scoped>\n",
              "    .dataframe tbody tr th:only-of-type {\n",
              "        vertical-align: middle;\n",
              "    }\n",
              "\n",
              "    .dataframe tbody tr th {\n",
              "        vertical-align: top;\n",
              "    }\n",
              "\n",
              "    .dataframe thead th {\n",
              "        text-align: right;\n",
              "    }\n",
              "</style>\n",
              "<table border=\"1\" class=\"dataframe\">\n",
              "  <thead>\n",
              "    <tr style=\"text-align: right;\">\n",
              "      <th></th>\n",
              "      <th>rating_id</th>\n",
              "      <th>book_id</th>\n",
              "      <th>username</th>\n",
              "      <th>rating</th>\n",
              "    </tr>\n",
              "  </thead>\n",
              "  <tbody>\n",
              "    <tr>\n",
              "      <th>0</th>\n",
              "      <td>1</td>\n",
              "      <td>1</td>\n",
              "      <td>ryanfranco</td>\n",
              "      <td>4</td>\n",
              "    </tr>\n",
              "    <tr>\n",
              "      <th>1</th>\n",
              "      <td>2</td>\n",
              "      <td>1</td>\n",
              "      <td>grantpatricia</td>\n",
              "      <td>2</td>\n",
              "    </tr>\n",
              "    <tr>\n",
              "      <th>2</th>\n",
              "      <td>3</td>\n",
              "      <td>1</td>\n",
              "      <td>brandtandrea</td>\n",
              "      <td>5</td>\n",
              "    </tr>\n",
              "    <tr>\n",
              "      <th>3</th>\n",
              "      <td>4</td>\n",
              "      <td>2</td>\n",
              "      <td>lorichen</td>\n",
              "      <td>3</td>\n",
              "    </tr>\n",
              "    <tr>\n",
              "      <th>4</th>\n",
              "      <td>5</td>\n",
              "      <td>2</td>\n",
              "      <td>mariokeller</td>\n",
              "      <td>2</td>\n",
              "    </tr>\n",
              "  </tbody>\n",
              "</table>\n",
              "</div>"
            ],
            "text/plain": [
              "   rating_id  book_id       username  rating\n",
              "0          1        1     ryanfranco       4\n",
              "1          2        1  grantpatricia       2\n",
              "2          3        1   brandtandrea       5\n",
              "3          4        2       lorichen       3\n",
              "4          5        2    mariokeller       2"
            ]
          },
          "metadata": {},
          "output_type": "display_data"
        },
        {
          "name": "stdout",
          "output_type": "stream",
          "text": [
            "<class 'pandas.core.frame.DataFrame'>\n",
            "RangeIndex: 6456 entries, 0 to 6455\n",
            "Data columns (total 4 columns):\n",
            " #   Column     Non-Null Count  Dtype \n",
            "---  ------     --------------  ----- \n",
            " 0   rating_id  6456 non-null   int64 \n",
            " 1   book_id    6456 non-null   int64 \n",
            " 2   username   6456 non-null   object\n",
            " 3   rating     6456 non-null   int64 \n",
            "dtypes: int64(3), object(1)\n",
            "memory usage: 201.9+ KB\n",
            "None\n",
            "*********************************\n",
            "Таблица - \"reviews\"\n"
          ]
        },
        {
          "data": {
            "text/html": [
              "<div>\n",
              "<style scoped>\n",
              "    .dataframe tbody tr th:only-of-type {\n",
              "        vertical-align: middle;\n",
              "    }\n",
              "\n",
              "    .dataframe tbody tr th {\n",
              "        vertical-align: top;\n",
              "    }\n",
              "\n",
              "    .dataframe thead th {\n",
              "        text-align: right;\n",
              "    }\n",
              "</style>\n",
              "<table border=\"1\" class=\"dataframe\">\n",
              "  <thead>\n",
              "    <tr style=\"text-align: right;\">\n",
              "      <th></th>\n",
              "      <th>review_id</th>\n",
              "      <th>book_id</th>\n",
              "      <th>username</th>\n",
              "      <th>text</th>\n",
              "    </tr>\n",
              "  </thead>\n",
              "  <tbody>\n",
              "    <tr>\n",
              "      <th>0</th>\n",
              "      <td>1</td>\n",
              "      <td>1</td>\n",
              "      <td>brandtandrea</td>\n",
              "      <td>Mention society tell send professor analysis. ...</td>\n",
              "    </tr>\n",
              "    <tr>\n",
              "      <th>1</th>\n",
              "      <td>2</td>\n",
              "      <td>1</td>\n",
              "      <td>ryanfranco</td>\n",
              "      <td>Foot glass pretty audience hit themselves. Amo...</td>\n",
              "    </tr>\n",
              "    <tr>\n",
              "      <th>2</th>\n",
              "      <td>3</td>\n",
              "      <td>2</td>\n",
              "      <td>lorichen</td>\n",
              "      <td>Listen treat keep worry. Miss husband tax but ...</td>\n",
              "    </tr>\n",
              "    <tr>\n",
              "      <th>3</th>\n",
              "      <td>4</td>\n",
              "      <td>3</td>\n",
              "      <td>johnsonamanda</td>\n",
              "      <td>Finally month interesting blue could nature cu...</td>\n",
              "    </tr>\n",
              "    <tr>\n",
              "      <th>4</th>\n",
              "      <td>5</td>\n",
              "      <td>3</td>\n",
              "      <td>scotttamara</td>\n",
              "      <td>Nation purpose heavy give wait song will. List...</td>\n",
              "    </tr>\n",
              "  </tbody>\n",
              "</table>\n",
              "</div>"
            ],
            "text/plain": [
              "   review_id  book_id       username  \\\n",
              "0          1        1   brandtandrea   \n",
              "1          2        1     ryanfranco   \n",
              "2          3        2       lorichen   \n",
              "3          4        3  johnsonamanda   \n",
              "4          5        3    scotttamara   \n",
              "\n",
              "                                                text  \n",
              "0  Mention society tell send professor analysis. ...  \n",
              "1  Foot glass pretty audience hit themselves. Amo...  \n",
              "2  Listen treat keep worry. Miss husband tax but ...  \n",
              "3  Finally month interesting blue could nature cu...  \n",
              "4  Nation purpose heavy give wait song will. List...  "
            ]
          },
          "metadata": {},
          "output_type": "display_data"
        },
        {
          "name": "stdout",
          "output_type": "stream",
          "text": [
            "<class 'pandas.core.frame.DataFrame'>\n",
            "RangeIndex: 2793 entries, 0 to 2792\n",
            "Data columns (total 4 columns):\n",
            " #   Column     Non-Null Count  Dtype \n",
            "---  ------     --------------  ----- \n",
            " 0   review_id  2793 non-null   int64 \n",
            " 1   book_id    2793 non-null   int64 \n",
            " 2   username   2793 non-null   object\n",
            " 3   text       2793 non-null   object\n",
            "dtypes: int64(2), object(2)\n",
            "memory usage: 87.4+ KB\n",
            "None\n",
            "*********************************\n"
          ]
        }
      ],
      "source": [
        "for table in ['books', 'authors', 'publishers', 'ratings', 'reviews']:\n",
        "    query = ''' SELECT * FROM {}; \n",
        "    '''.format(table) \n",
        "\n",
        "    request = pd.io.sql.read_sql(query, con = engine) \n",
        "\n",
        "    print(f'Таблица - \"{table}\"')\n",
        "    display(request.head())\n",
        "    print(request.info())\n",
        "    print('*********************************')"
      ]
    },
    {
      "cell_type": "markdown",
      "metadata": {
        "id": "CZfHAuNZb6e2"
      },
      "source": [
        "**Данные в порядке, пропусков нет**"
      ]
    },
    {
      "cell_type": "markdown",
      "metadata": {
        "id": "1LH7PVXZb6e2"
      },
      "source": [
        "Запишем каждую таблицу в отдельные датафреймы, чтобы проверять наши запросы"
      ]
    },
    {
      "cell_type": "code",
      "execution_count": null,
      "metadata": {
        "id": "efbQURsNb6e3"
      },
      "outputs": [],
      "source": [
        "query_books = ''' SELECT * FROM books; ''' \n",
        "books = pd.io.sql.read_sql(query_books, con = engine)\n",
        "\n",
        "query_reviews = ''' SELECT * FROM reviews; ''' \n",
        "reviews = pd.io.sql.read_sql(query_reviews, con = engine)\n",
        "\n",
        "query_ratings = ''' SELECT * FROM ratings; ''' \n",
        "ratings = pd.io.sql.read_sql(query_ratings, con = engine)\n",
        "\n",
        "query_publishers = ''' SELECT * FROM publishers; ''' \n",
        "publishers = pd.io.sql.read_sql(query_publishers, con = engine)\n",
        "\n",
        "query_authors = ''' SELECT * FROM authors; ''' \n",
        "authors = pd.io.sql.read_sql(query_authors, con = engine)\n"
      ]
    },
    {
      "cell_type": "markdown",
      "metadata": {
        "id": "7-Y-Dqstb6e3"
      },
      "source": [
        "## Задание №1 "
      ]
    },
    {
      "cell_type": "markdown",
      "metadata": {
        "id": "-tFPW-9rb6e3"
      },
      "source": [
        "**Посчитайте, сколько книг вышло после 1 января 2000 года**"
      ]
    },
    {
      "cell_type": "code",
      "execution_count": null,
      "metadata": {
        "id": "ANPCKxjTb6e3",
        "outputId": "e11c33c0-ece4-4e0f-a145-1cf58c0355e9"
      },
      "outputs": [
        {
          "name": "stdout",
          "output_type": "stream",
          "text": [
            "После 1 января 2000 года вышло 819 книг\n"
          ]
        }
      ],
      "source": [
        "query_1 = ''' \n",
        "SELECT COUNT(*) \n",
        "FROM books\n",
        "WHERE publication_date > '2000-1-1'; \n",
        "''' \n",
        "\n",
        "request_1 = pd.io.sql.read_sql(query_1, con = engine)\n",
        "\n",
        "\n",
        "print(f'После 1 января 2000 года вышло {request_1.iloc[0,0]} книг')"
      ]
    },
    {
      "cell_type": "markdown",
      "metadata": {
        "id": "T3LkJ9acb6e4"
      },
      "source": [
        "Проверка средствами Python"
      ]
    },
    {
      "cell_type": "code",
      "execution_count": null,
      "metadata": {
        "id": "GFC1Yeudb6e4",
        "outputId": "df3c6018-4aaf-4327-8ca5-dc9f085998f8"
      },
      "outputs": [
        {
          "data": {
            "text/plain": [
              "819"
            ]
          },
          "execution_count": 6,
          "metadata": {},
          "output_type": "execute_result"
        }
      ],
      "source": [
        "books['publication_date'] = books['publication_date'].astype('datetime64')\n",
        "books[books['publication_date']>'2000-01-01']['book_id'].count()"
      ]
    },
    {
      "cell_type": "markdown",
      "metadata": {
        "id": "I-jcf-2gb6e4"
      },
      "source": [
        "**Вывод: После 1 января 2000 года вышло 819 книг**"
      ]
    },
    {
      "cell_type": "markdown",
      "metadata": {
        "id": "kjl_A4-rb6e5"
      },
      "source": [
        "[*Назад к содержанию*](#Содержание)"
      ]
    },
    {
      "cell_type": "markdown",
      "metadata": {
        "id": "hzRmlXMDb6e5"
      },
      "source": [
        "## Задание №2 "
      ]
    },
    {
      "cell_type": "markdown",
      "metadata": {
        "id": "VD0XF6Yeb6e5"
      },
      "source": [
        "**Для каждой книги посчитайте количество обзоров и среднюю оценку**"
      ]
    },
    {
      "cell_type": "code",
      "execution_count": null,
      "metadata": {
        "id": "wkIAHsc6b6e5",
        "outputId": "00b8b84e-c06c-49c7-a1f0-fc976d16a0fe"
      },
      "outputs": [
        {
          "data": {
            "text/html": [
              "<div>\n",
              "<style scoped>\n",
              "    .dataframe tbody tr th:only-of-type {\n",
              "        vertical-align: middle;\n",
              "    }\n",
              "\n",
              "    .dataframe tbody tr th {\n",
              "        vertical-align: top;\n",
              "    }\n",
              "\n",
              "    .dataframe thead th {\n",
              "        text-align: right;\n",
              "    }\n",
              "</style>\n",
              "<table border=\"1\" class=\"dataframe\">\n",
              "  <thead>\n",
              "    <tr style=\"text-align: right;\">\n",
              "      <th></th>\n",
              "      <th>book_id</th>\n",
              "      <th>title</th>\n",
              "      <th>avg_rating</th>\n",
              "      <th>reviews</th>\n",
              "    </tr>\n",
              "  </thead>\n",
              "  <tbody>\n",
              "    <tr>\n",
              "      <th>0</th>\n",
              "      <td>652</td>\n",
              "      <td>The Body in the Library (Miss Marple  #3)</td>\n",
              "      <td>4.500000</td>\n",
              "      <td>2.0</td>\n",
              "    </tr>\n",
              "    <tr>\n",
              "      <th>1</th>\n",
              "      <td>273</td>\n",
              "      <td>Galápagos</td>\n",
              "      <td>4.500000</td>\n",
              "      <td>2.0</td>\n",
              "    </tr>\n",
              "    <tr>\n",
              "      <th>2</th>\n",
              "      <td>51</td>\n",
              "      <td>A Tree Grows in Brooklyn</td>\n",
              "      <td>4.250000</td>\n",
              "      <td>5.0</td>\n",
              "    </tr>\n",
              "    <tr>\n",
              "      <th>3</th>\n",
              "      <td>951</td>\n",
              "      <td>Undaunted Courage: The Pioneering First Missio...</td>\n",
              "      <td>4.000000</td>\n",
              "      <td>2.0</td>\n",
              "    </tr>\n",
              "    <tr>\n",
              "      <th>4</th>\n",
              "      <td>839</td>\n",
              "      <td>The Prophet</td>\n",
              "      <td>4.285714</td>\n",
              "      <td>4.0</td>\n",
              "    </tr>\n",
              "    <tr>\n",
              "      <th>...</th>\n",
              "      <td>...</td>\n",
              "      <td>...</td>\n",
              "      <td>...</td>\n",
              "      <td>...</td>\n",
              "    </tr>\n",
              "    <tr>\n",
              "      <th>995</th>\n",
              "      <td>64</td>\n",
              "      <td>Alice in Wonderland</td>\n",
              "      <td>4.230769</td>\n",
              "      <td>4.0</td>\n",
              "    </tr>\n",
              "    <tr>\n",
              "      <th>996</th>\n",
              "      <td>55</td>\n",
              "      <td>A Woman of Substance (Emma Harte Saga #1)</td>\n",
              "      <td>5.000000</td>\n",
              "      <td>2.0</td>\n",
              "    </tr>\n",
              "    <tr>\n",
              "      <th>997</th>\n",
              "      <td>148</td>\n",
              "      <td>Christine</td>\n",
              "      <td>3.428571</td>\n",
              "      <td>3.0</td>\n",
              "    </tr>\n",
              "    <tr>\n",
              "      <th>998</th>\n",
              "      <td>790</td>\n",
              "      <td>The Magicians' Guild (Black Magician Trilogy  #1)</td>\n",
              "      <td>3.500000</td>\n",
              "      <td>2.0</td>\n",
              "    </tr>\n",
              "    <tr>\n",
              "      <th>999</th>\n",
              "      <td>828</td>\n",
              "      <td>The Plot Against America</td>\n",
              "      <td>3.000000</td>\n",
              "      <td>2.0</td>\n",
              "    </tr>\n",
              "  </tbody>\n",
              "</table>\n",
              "<p>1000 rows × 4 columns</p>\n",
              "</div>"
            ],
            "text/plain": [
              "     book_id                                              title  avg_rating  \\\n",
              "0        652          The Body in the Library (Miss Marple  #3)    4.500000   \n",
              "1        273                                          Galápagos    4.500000   \n",
              "2         51                           A Tree Grows in Brooklyn    4.250000   \n",
              "3        951  Undaunted Courage: The Pioneering First Missio...    4.000000   \n",
              "4        839                                        The Prophet    4.285714   \n",
              "..       ...                                                ...         ...   \n",
              "995       64                                Alice in Wonderland    4.230769   \n",
              "996       55          A Woman of Substance (Emma Harte Saga #1)    5.000000   \n",
              "997      148                                          Christine    3.428571   \n",
              "998      790  The Magicians' Guild (Black Magician Trilogy  #1)    3.500000   \n",
              "999      828                           The Plot Against America    3.000000   \n",
              "\n",
              "     reviews  \n",
              "0        2.0  \n",
              "1        2.0  \n",
              "2        5.0  \n",
              "3        2.0  \n",
              "4        4.0  \n",
              "..       ...  \n",
              "995      4.0  \n",
              "996      2.0  \n",
              "997      3.0  \n",
              "998      2.0  \n",
              "999      2.0  \n",
              "\n",
              "[1000 rows x 4 columns]"
            ]
          },
          "execution_count": 7,
          "metadata": {},
          "output_type": "execute_result"
        }
      ],
      "source": [
        "query_2 = ''' \n",
        "\n",
        "SELECT \n",
        "      books.book_id,    \n",
        "      books.title,\n",
        "      avg_r.avg_rating,\n",
        "      count_rev.reviews\n",
        "FROM books\n",
        "LEFT JOIN (SELECT book_id,\n",
        "                  AVG(rating) avg_rating\n",
        "           FROM ratings\n",
        "           GROUP BY book_id\n",
        "                ) AS avg_r ON avg_r.book_id = books.book_id\n",
        "LEFT JOIN (SELECT book_id,\n",
        "                  COUNT(review_id) AS reviews\n",
        "                FROM reviews\n",
        "                GROUP BY book_id\n",
        "                ) AS count_rev ON count_rev.book_id = books.book_id\n",
        "                \n",
        "; ''' \n",
        "\n",
        "request_2 = pd.io.sql.read_sql(query_2, con = engine)\n",
        "request_2"
      ]
    },
    {
      "cell_type": "markdown",
      "metadata": {
        "id": "sWQmVes-b6e5"
      },
      "source": [
        "[*Назад к содержанию*](#Содержание)"
      ]
    },
    {
      "cell_type": "markdown",
      "metadata": {
        "id": "S33eKLZlb6e6"
      },
      "source": [
        "## Задание №3 "
      ]
    },
    {
      "cell_type": "markdown",
      "metadata": {
        "id": "BicVObsPb6e6"
      },
      "source": [
        "**Определите издательство, которое выпустило наибольшее число книг толще 50 страниц — так вы исключите из анализа брошюры**"
      ]
    },
    {
      "cell_type": "code",
      "execution_count": null,
      "metadata": {
        "id": "EqUTL4aCb6e6",
        "outputId": "6872e89e-0576-4c1f-f83a-c4fcb9793a66"
      },
      "outputs": [
        {
          "data": {
            "text/html": [
              "<div>\n",
              "<style scoped>\n",
              "    .dataframe tbody tr th:only-of-type {\n",
              "        vertical-align: middle;\n",
              "    }\n",
              "\n",
              "    .dataframe tbody tr th {\n",
              "        vertical-align: top;\n",
              "    }\n",
              "\n",
              "    .dataframe thead th {\n",
              "        text-align: right;\n",
              "    }\n",
              "</style>\n",
              "<table border=\"1\" class=\"dataframe\">\n",
              "  <thead>\n",
              "    <tr style=\"text-align: right;\">\n",
              "      <th></th>\n",
              "      <th>publisher_id</th>\n",
              "      <th>publisher</th>\n",
              "      <th>count_books</th>\n",
              "    </tr>\n",
              "  </thead>\n",
              "  <tbody>\n",
              "    <tr>\n",
              "      <th>0</th>\n",
              "      <td>212</td>\n",
              "      <td>Penguin Books</td>\n",
              "      <td>42</td>\n",
              "    </tr>\n",
              "  </tbody>\n",
              "</table>\n",
              "</div>"
            ],
            "text/plain": [
              "   publisher_id      publisher  count_books\n",
              "0           212  Penguin Books           42"
            ]
          },
          "execution_count": 8,
          "metadata": {},
          "output_type": "execute_result"
        }
      ],
      "source": [
        "query_3 = ''' \n",
        "SELECT\n",
        "    pub.publisher_id,\n",
        "    pub.publisher,\n",
        "    pub.count_books\n",
        "FROM\n",
        "    (SELECT \n",
        "           books.publisher_id AS publisher_id,\n",
        "           publishers.publisher AS publisher,\n",
        "           COUNT(books.book_id) AS count_books\n",
        "    FROM books \n",
        "    LEFT JOIN publishers ON books.publisher_id=publishers.publisher_id\n",
        "    WHERE num_pages > 50\n",
        "    GROUP BY books.publisher_id, publishers.publisher\n",
        "    ORDER BY count_books DESC) AS pub\n",
        "LIMIT 1\n",
        "; ''' \n",
        "\n",
        "request_3 = pd.io.sql.read_sql(query_3, con = engine)\n",
        "request_3"
      ]
    },
    {
      "cell_type": "markdown",
      "metadata": {
        "id": "XbQciK3Pb6e6"
      },
      "source": [
        "Проверка средствами Python"
      ]
    },
    {
      "cell_type": "code",
      "execution_count": null,
      "metadata": {
        "id": "Vv8KJgIYb6e6",
        "outputId": "ed6aef0c-927a-4844-c607-4c9781558472"
      },
      "outputs": [
        {
          "data": {
            "text/html": [
              "<div>\n",
              "<style scoped>\n",
              "    .dataframe tbody tr th:only-of-type {\n",
              "        vertical-align: middle;\n",
              "    }\n",
              "\n",
              "    .dataframe tbody tr th {\n",
              "        vertical-align: top;\n",
              "    }\n",
              "\n",
              "    .dataframe thead th {\n",
              "        text-align: right;\n",
              "    }\n",
              "</style>\n",
              "<table border=\"1\" class=\"dataframe\">\n",
              "  <thead>\n",
              "    <tr style=\"text-align: right;\">\n",
              "      <th></th>\n",
              "      <th>publisher_id</th>\n",
              "      <th>book_id</th>\n",
              "    </tr>\n",
              "  </thead>\n",
              "  <tbody>\n",
              "    <tr>\n",
              "      <th>207</th>\n",
              "      <td>212</td>\n",
              "      <td>42</td>\n",
              "    </tr>\n",
              "    <tr>\n",
              "      <th>302</th>\n",
              "      <td>309</td>\n",
              "      <td>31</td>\n",
              "    </tr>\n",
              "    <tr>\n",
              "      <th>111</th>\n",
              "      <td>116</td>\n",
              "      <td>25</td>\n",
              "    </tr>\n",
              "    <tr>\n",
              "      <th>212</th>\n",
              "      <td>217</td>\n",
              "      <td>24</td>\n",
              "    </tr>\n",
              "    <tr>\n",
              "      <th>31</th>\n",
              "      <td>33</td>\n",
              "      <td>19</td>\n",
              "    </tr>\n",
              "    <tr>\n",
              "      <th>...</th>\n",
              "      <td>...</td>\n",
              "      <td>...</td>\n",
              "    </tr>\n",
              "    <tr>\n",
              "      <th>83</th>\n",
              "      <td>86</td>\n",
              "      <td>1</td>\n",
              "    </tr>\n",
              "    <tr>\n",
              "      <th>199</th>\n",
              "      <td>204</td>\n",
              "      <td>1</td>\n",
              "    </tr>\n",
              "    <tr>\n",
              "      <th>200</th>\n",
              "      <td>205</td>\n",
              "      <td>1</td>\n",
              "    </tr>\n",
              "    <tr>\n",
              "      <th>82</th>\n",
              "      <td>85</td>\n",
              "      <td>1</td>\n",
              "    </tr>\n",
              "    <tr>\n",
              "      <th>333</th>\n",
              "      <td>340</td>\n",
              "      <td>1</td>\n",
              "    </tr>\n",
              "  </tbody>\n",
              "</table>\n",
              "<p>334 rows × 2 columns</p>\n",
              "</div>"
            ],
            "text/plain": [
              "     publisher_id  book_id\n",
              "207           212       42\n",
              "302           309       31\n",
              "111           116       25\n",
              "212           217       24\n",
              "31             33       19\n",
              "..            ...      ...\n",
              "83             86        1\n",
              "199           204        1\n",
              "200           205        1\n",
              "82             85        1\n",
              "333           340        1\n",
              "\n",
              "[334 rows x 2 columns]"
            ]
          },
          "execution_count": 9,
          "metadata": {},
          "output_type": "execute_result"
        }
      ],
      "source": [
        "books.query('num_pages > 50')[['publisher_id',\n",
        "                             'num_pages', \n",
        "                             'book_id']].groupby('publisher_id')['book_id'].count().reset_index().sort_values(by='book_id',ascending=False)\n"
      ]
    },
    {
      "cell_type": "code",
      "execution_count": null,
      "metadata": {
        "id": "lxRyhcoWb6e7",
        "outputId": "e347c234-dca7-4fe0-c604-b247465bed22"
      },
      "outputs": [
        {
          "data": {
            "text/html": [
              "<div>\n",
              "<style scoped>\n",
              "    .dataframe tbody tr th:only-of-type {\n",
              "        vertical-align: middle;\n",
              "    }\n",
              "\n",
              "    .dataframe tbody tr th {\n",
              "        vertical-align: top;\n",
              "    }\n",
              "\n",
              "    .dataframe thead th {\n",
              "        text-align: right;\n",
              "    }\n",
              "</style>\n",
              "<table border=\"1\" class=\"dataframe\">\n",
              "  <thead>\n",
              "    <tr style=\"text-align: right;\">\n",
              "      <th></th>\n",
              "      <th>publisher_id</th>\n",
              "      <th>publisher</th>\n",
              "    </tr>\n",
              "  </thead>\n",
              "  <tbody>\n",
              "    <tr>\n",
              "      <th>211</th>\n",
              "      <td>212</td>\n",
              "      <td>Penguin Books</td>\n",
              "    </tr>\n",
              "  </tbody>\n",
              "</table>\n",
              "</div>"
            ],
            "text/plain": [
              "     publisher_id      publisher\n",
              "211           212  Penguin Books"
            ]
          },
          "execution_count": 10,
          "metadata": {},
          "output_type": "execute_result"
        }
      ],
      "source": [
        "publishers.query('publisher_id == 212')"
      ]
    },
    {
      "cell_type": "markdown",
      "metadata": {
        "id": "PPu0EpUib6e7"
      },
      "source": [
        "**Вывод: Издательство, которое выпустило наибольшее число книг, толще 50 страниц - это \"Penguin Books\" выпустили 42 книги**"
      ]
    },
    {
      "cell_type": "markdown",
      "metadata": {
        "id": "RPG-m3ZMb6e7"
      },
      "source": [
        "[*Назад к содержанию*](#Содержание)"
      ]
    },
    {
      "cell_type": "markdown",
      "metadata": {
        "id": "WCPdWZomb6e7"
      },
      "source": [
        "## Задание №4 "
      ]
    },
    {
      "cell_type": "markdown",
      "metadata": {
        "id": "WpVlbY8xb6e7"
      },
      "source": [
        "**Определите автора с самой высокой средней оценкой книг — учитывайте только книги с 50 и более оценками**"
      ]
    },
    {
      "cell_type": "code",
      "execution_count": null,
      "metadata": {
        "id": "ZihBOUtQb6e8",
        "outputId": "82b609cb-11ec-4784-823a-c02c1e1818f5"
      },
      "outputs": [
        {
          "data": {
            "text/html": [
              "<div>\n",
              "<style scoped>\n",
              "    .dataframe tbody tr th:only-of-type {\n",
              "        vertical-align: middle;\n",
              "    }\n",
              "\n",
              "    .dataframe tbody tr th {\n",
              "        vertical-align: top;\n",
              "    }\n",
              "\n",
              "    .dataframe thead th {\n",
              "        text-align: right;\n",
              "    }\n",
              "</style>\n",
              "<table border=\"1\" class=\"dataframe\">\n",
              "  <thead>\n",
              "    <tr style=\"text-align: right;\">\n",
              "      <th></th>\n",
              "      <th>author</th>\n",
              "      <th>avg_avg_rating</th>\n",
              "    </tr>\n",
              "  </thead>\n",
              "  <tbody>\n",
              "    <tr>\n",
              "      <th>0</th>\n",
              "      <td>J.K. Rowling/Mary GrandPré</td>\n",
              "      <td>4.283844</td>\n",
              "    </tr>\n",
              "  </tbody>\n",
              "</table>\n",
              "</div>"
            ],
            "text/plain": [
              "                       author  avg_avg_rating\n",
              "0  J.K. Rowling/Mary GrandPré        4.283844"
            ]
          },
          "execution_count": 11,
          "metadata": {},
          "output_type": "execute_result"
        }
      ],
      "source": [
        "query_4 = ''' \n",
        "SELECT \n",
        "    a_avg.author,\n",
        "    AVG(a_avg.avg_rating) AS avg_avg_rating\n",
        "FROM\n",
        "    (SELECT \n",
        "           authors.author AS author,\n",
        "           AVG(ratings.rating) AS avg_rating\n",
        "     FROM books\n",
        "     LEFT JOIN authors ON books.author_id = authors.author_id\n",
        "     LEFT JOIN ratings ON books.book_id = ratings.book_id\n",
        "     GROUP BY books.book_id, authors.author_id\n",
        "     HAVING COUNT(ratings.rating_id) >= 50) AS a_avg \n",
        "GROUP BY a_avg.author\n",
        "ORDER BY avg_avg_rating DESC\n",
        "LIMIT 1\n",
        "    \n",
        "; ''' \n",
        "\n",
        "request_4 = pd.io.sql.read_sql(query_4, con = engine)\n",
        "request_4\n"
      ]
    },
    {
      "cell_type": "markdown",
      "metadata": {
        "id": "9nCYD1JUb6e8"
      },
      "source": [
        "**Вывод: Самую высокую оценку получает - J.K. Rowling/Mary GrandPré - 4.283844. Все любят Гарри Поттера** "
      ]
    },
    {
      "cell_type": "markdown",
      "metadata": {
        "id": "nh8NV5FMb6e8"
      },
      "source": [
        "[*Назад к содержанию*](#Содержание)"
      ]
    },
    {
      "cell_type": "markdown",
      "metadata": {
        "id": "O98732jGb6e8"
      },
      "source": [
        "## Задание №5 "
      ]
    },
    {
      "cell_type": "markdown",
      "metadata": {
        "id": "w9r4e6Gdb6e8"
      },
      "source": [
        "**Посчитайте среднее количество обзоров от пользователей, которые поставили больше 50 оценок**"
      ]
    },
    {
      "cell_type": "code",
      "execution_count": null,
      "metadata": {
        "id": "VzCyLVfzb6e8",
        "outputId": "f3cac064-4bbe-4a8e-c63e-061feb243594"
      },
      "outputs": [
        {
          "data": {
            "text/html": [
              "<div>\n",
              "<style scoped>\n",
              "    .dataframe tbody tr th:only-of-type {\n",
              "        vertical-align: middle;\n",
              "    }\n",
              "\n",
              "    .dataframe tbody tr th {\n",
              "        vertical-align: top;\n",
              "    }\n",
              "\n",
              "    .dataframe thead th {\n",
              "        text-align: right;\n",
              "    }\n",
              "</style>\n",
              "<table border=\"1\" class=\"dataframe\">\n",
              "  <thead>\n",
              "    <tr style=\"text-align: right;\">\n",
              "      <th></th>\n",
              "      <th>avg_review</th>\n",
              "    </tr>\n",
              "  </thead>\n",
              "  <tbody>\n",
              "    <tr>\n",
              "      <th>0</th>\n",
              "      <td>24.333333</td>\n",
              "    </tr>\n",
              "  </tbody>\n",
              "</table>\n",
              "</div>"
            ],
            "text/plain": [
              "   avg_review\n",
              "0   24.333333"
            ]
          },
          "execution_count": 12,
          "metadata": {},
          "output_type": "execute_result"
        }
      ],
      "source": [
        "query_5 = ''' \n",
        "SELECT\n",
        "      AVG(rev.count_reviews) AS avg_review\n",
        "FROM\n",
        "    (SELECT\n",
        "           username,\n",
        "           COUNT(review_id) AS count_reviews\n",
        "    FROM reviews\n",
        "    WHERE username IN (SELECT username\n",
        "                       FROM ratings\n",
        "                       GROUP BY username\n",
        "                       HAVING COUNT(rating_id) > 50)\n",
        "    GROUP BY  username) AS rev\n",
        "; ''' \n",
        "\n",
        "request_5 = pd.io.sql.read_sql(query_5, con = engine)\n",
        "request_5"
      ]
    },
    {
      "cell_type": "markdown",
      "metadata": {
        "id": "_1262BASb6e9"
      },
      "source": [
        "Проверка средствами Python"
      ]
    },
    {
      "cell_type": "code",
      "execution_count": null,
      "metadata": {
        "id": "no_6GujYb6e9",
        "outputId": "ebb297bd-e53d-46a0-8d20-b7ce81d38f7e"
      },
      "outputs": [
        {
          "data": {
            "text/html": [
              "<div>\n",
              "<style scoped>\n",
              "    .dataframe tbody tr th:only-of-type {\n",
              "        vertical-align: middle;\n",
              "    }\n",
              "\n",
              "    .dataframe tbody tr th {\n",
              "        vertical-align: top;\n",
              "    }\n",
              "\n",
              "    .dataframe thead th {\n",
              "        text-align: right;\n",
              "    }\n",
              "</style>\n",
              "<table border=\"1\" class=\"dataframe\">\n",
              "  <thead>\n",
              "    <tr style=\"text-align: right;\">\n",
              "      <th></th>\n",
              "      <th>username</th>\n",
              "      <th>rating_id</th>\n",
              "    </tr>\n",
              "  </thead>\n",
              "  <tbody>\n",
              "    <tr>\n",
              "      <th>57</th>\n",
              "      <td>jennifermiller</td>\n",
              "      <td>53</td>\n",
              "    </tr>\n",
              "    <tr>\n",
              "      <th>83</th>\n",
              "      <td>martinadam</td>\n",
              "      <td>56</td>\n",
              "    </tr>\n",
              "    <tr>\n",
              "      <th>104</th>\n",
              "      <td>paul88</td>\n",
              "      <td>56</td>\n",
              "    </tr>\n",
              "    <tr>\n",
              "      <th>110</th>\n",
              "      <td>richard89</td>\n",
              "      <td>55</td>\n",
              "    </tr>\n",
              "    <tr>\n",
              "      <th>123</th>\n",
              "      <td>sfitzgerald</td>\n",
              "      <td>55</td>\n",
              "    </tr>\n",
              "    <tr>\n",
              "      <th>153</th>\n",
              "      <td>xdavis</td>\n",
              "      <td>51</td>\n",
              "    </tr>\n",
              "  </tbody>\n",
              "</table>\n",
              "</div>"
            ],
            "text/plain": [
              "           username  rating_id\n",
              "57   jennifermiller         53\n",
              "83       martinadam         56\n",
              "104          paul88         56\n",
              "110       richard89         55\n",
              "123     sfitzgerald         55\n",
              "153          xdavis         51"
            ]
          },
          "execution_count": 13,
          "metadata": {},
          "output_type": "execute_result"
        }
      ],
      "source": [
        "users = ratings.groupby('username')['rating_id'].count().reset_index()\n",
        "users = users.query('rating_id > 50')\n",
        "users"
      ]
    },
    {
      "cell_type": "code",
      "execution_count": null,
      "metadata": {
        "id": "0eqKkv4Ab6e9",
        "outputId": "fbfb0f5c-6487-41e1-de4d-2699409c3d92"
      },
      "outputs": [
        {
          "data": {
            "text/plain": [
              "24.333333333333332"
            ]
          },
          "execution_count": 14,
          "metadata": {},
          "output_type": "execute_result"
        }
      ],
      "source": [
        "users_lst = users[\"username\"].tolist()\n",
        "reviews.query('username in @users_lst').groupby('username')['review_id'].count().mean()\n"
      ]
    },
    {
      "cell_type": "markdown",
      "metadata": {
        "id": "kMOIQC7Bb6e9"
      },
      "source": [
        "**Вывод:  среднее количество обзоров от пользователей, которые поставили больше 50 оценок равно  или 24.3(3)**"
      ]
    },
    {
      "cell_type": "markdown",
      "metadata": {
        "id": "vfiX_OKpb6e-"
      },
      "source": [
        "[*Назад к содержанию*](#Содержание)"
      ]
    }
  ],
  "metadata": {
    "ExecuteTimeLog": [
      {
        "duration": 34,
        "start_time": "2022-06-14T07:03:33.399Z"
      },
      {
        "duration": 470,
        "start_time": "2022-06-14T07:04:08.024Z"
      },
      {
        "duration": 34,
        "start_time": "2022-06-14T07:04:13.888Z"
      },
      {
        "duration": 169,
        "start_time": "2022-06-14T07:05:02.618Z"
      },
      {
        "duration": 48,
        "start_time": "2022-06-14T07:05:31.015Z"
      },
      {
        "duration": 9,
        "start_time": "2022-06-14T07:05:54.168Z"
      },
      {
        "duration": 7,
        "start_time": "2022-06-14T07:06:21.666Z"
      },
      {
        "duration": 8,
        "start_time": "2022-06-14T07:07:33.031Z"
      },
      {
        "duration": 22,
        "start_time": "2022-06-14T07:07:34.695Z"
      },
      {
        "duration": 12,
        "start_time": "2022-06-14T07:08:26.881Z"
      },
      {
        "duration": 36,
        "start_time": "2022-06-14T07:09:02.141Z"
      },
      {
        "duration": 7,
        "start_time": "2022-06-14T07:09:04.510Z"
      },
      {
        "duration": 16,
        "start_time": "2022-06-14T07:10:03.886Z"
      },
      {
        "duration": 13,
        "start_time": "2022-06-14T07:10:52.905Z"
      },
      {
        "duration": 9,
        "start_time": "2022-06-14T07:11:05.909Z"
      },
      {
        "duration": 7,
        "start_time": "2022-06-14T07:11:14.565Z"
      },
      {
        "duration": 458,
        "start_time": "2022-06-14T07:12:24.345Z"
      },
      {
        "duration": 33,
        "start_time": "2022-06-14T07:12:24.805Z"
      },
      {
        "duration": 132,
        "start_time": "2022-06-14T07:12:24.840Z"
      },
      {
        "duration": 41,
        "start_time": "2022-06-14T07:12:24.977Z"
      },
      {
        "duration": 7,
        "start_time": "2022-06-14T07:12:25.020Z"
      },
      {
        "duration": 7,
        "start_time": "2022-06-14T07:12:25.029Z"
      },
      {
        "duration": 40,
        "start_time": "2022-06-14T07:12:25.037Z"
      },
      {
        "duration": 11,
        "start_time": "2022-06-14T07:12:25.078Z"
      },
      {
        "duration": 12,
        "start_time": "2022-06-14T07:12:25.090Z"
      },
      {
        "duration": 7,
        "start_time": "2022-06-14T07:12:25.104Z"
      },
      {
        "duration": 25,
        "start_time": "2022-06-14T07:12:25.112Z"
      },
      {
        "duration": 12,
        "start_time": "2022-06-14T07:12:25.138Z"
      },
      {
        "duration": 9,
        "start_time": "2022-06-14T07:12:25.151Z"
      },
      {
        "duration": 20,
        "start_time": "2022-06-14T07:12:25.162Z"
      },
      {
        "duration": 477,
        "start_time": "2022-06-14T07:56:52.689Z"
      },
      {
        "duration": 42,
        "start_time": "2022-06-14T07:56:53.168Z"
      },
      {
        "duration": 602,
        "start_time": "2022-06-14T07:56:53.212Z"
      },
      {
        "duration": 327,
        "start_time": "2022-06-14T07:56:53.815Z"
      },
      {
        "duration": 64,
        "start_time": "2022-06-14T07:56:54.144Z"
      },
      {
        "duration": 7,
        "start_time": "2022-06-14T07:56:54.210Z"
      },
      {
        "duration": 81,
        "start_time": "2022-06-14T07:56:54.219Z"
      },
      {
        "duration": 69,
        "start_time": "2022-06-14T07:56:54.302Z"
      },
      {
        "duration": 14,
        "start_time": "2022-06-14T07:56:54.372Z"
      },
      {
        "duration": 7,
        "start_time": "2022-06-14T07:56:54.388Z"
      },
      {
        "duration": 76,
        "start_time": "2022-06-14T07:56:54.397Z"
      },
      {
        "duration": 69,
        "start_time": "2022-06-14T07:56:54.475Z"
      },
      {
        "duration": 10,
        "start_time": "2022-06-14T07:56:54.545Z"
      },
      {
        "duration": 9,
        "start_time": "2022-06-14T07:56:54.557Z"
      }
    ],
    "kernelspec": {
      "display_name": "Python 3 (ipykernel)",
      "language": "python",
      "name": "python3"
    },
    "language_info": {
      "codemirror_mode": {
        "name": "ipython",
        "version": 3
      },
      "file_extension": ".py",
      "mimetype": "text/x-python",
      "name": "python",
      "nbconvert_exporter": "python",
      "pygments_lexer": "ipython3",
      "version": "3.9.5"
    },
    "toc": {
      "base_numbering": 1,
      "nav_menu": {},
      "number_sections": true,
      "sideBar": true,
      "skip_h1_title": true,
      "title_cell": "Содержание",
      "title_sidebar": "Contents",
      "toc_cell": true,
      "toc_position": {},
      "toc_section_display": true,
      "toc_window_display": false
    },
    "colab": {
      "name": "5f81931d-20f3-4bb3-8617-790d3d9d3d05.ipynb",
      "provenance": []
    }
  },
  "nbformat": 4,
  "nbformat_minor": 0
}