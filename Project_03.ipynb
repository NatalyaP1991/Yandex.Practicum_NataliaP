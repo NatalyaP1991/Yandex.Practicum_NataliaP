{
  "cells": [
    {
      "cell_type": "markdown",
      "metadata": {
        "id": "w6LqyplB33c8"
      },
      "source": [
        "# Определение перспективного тарифа для телеком компании при помощи анализа поведения клиентов"
      ]
    },
    {
      "cell_type": "markdown",
      "metadata": {
        "toc": true,
        "id": "i8GMEBJo33c8"
      },
      "source": [
        "<h1>Содержание<span class=\"tocSkip\"></span></h1>\n",
        "<div class=\"toc\"><ul class=\"toc-item\"><li><span><a href=\"#Описание-проекта\" data-toc-modified-id=\"Описание-проекта-1\"><span class=\"toc-item-num\">1&nbsp;&nbsp;</span>Описание проекта</a></span></li><li><span><a href=\"#Ознакомление-с-данными-и-их-описание\" data-toc-modified-id=\"Ознакомление-с-данными-и-их-описание-2\"><span class=\"toc-item-num\">2&nbsp;&nbsp;</span>Ознакомление с данными и их описание</a></span></li><li><span><a href=\"#Предобработка-данных\" data-toc-modified-id=\"Предобработка-данных-3\"><span class=\"toc-item-num\">3&nbsp;&nbsp;</span>Предобработка данных</a></span><ul class=\"toc-item\"><li><span><a href=\"#Изменение-типов-данных\" data-toc-modified-id=\"Изменение-типов-данных-3.1\"><span class=\"toc-item-num\">3.1&nbsp;&nbsp;</span>Изменение типов данных</a></span></li><li><span><a href=\"#Добавление-столбца-месяц\" data-toc-modified-id=\"Добавление-столбца-месяц-3.2\"><span class=\"toc-item-num\">3.2&nbsp;&nbsp;</span>Добавление столбца месяц</a></span></li><li><span><a href=\"#Проверка-на-дубликаты\" data-toc-modified-id=\"Проверка-на-дубликаты-3.3\"><span class=\"toc-item-num\">3.3&nbsp;&nbsp;</span>Проверка на дубликаты</a></span></li><li><span><a href=\"#Проверка-нулевых-значений-в-данных-длительности-звонков-в-calls-и-сессий-в-internet\" data-toc-modified-id=\"Проверка-нулевых-значений-в-данных-длительности-звонков-в-calls-и-сессий-в-internet-3.4\"><span class=\"toc-item-num\">3.4&nbsp;&nbsp;</span>Проверка нулевых значений в данных длительности звонков в calls и сессий в internet</a></span></li></ul></li><li><span><a href=\"#Подготовка-данных\" data-toc-modified-id=\"Подготовка-данных-4\"><span class=\"toc-item-num\">4&nbsp;&nbsp;</span>Подготовка данных</a></span><ul class=\"toc-item\"><li><span><a href=\"#Подсчет-для-каждого-пользователя-количества-сделанных-звонков-и-израсходованных-минут-разговора-по-месяцам\" data-toc-modified-id=\"Подсчет-для-каждого-пользователя-количества-сделанных-звонков-и-израсходованных-минут-разговора-по-месяцам-4.1\"><span class=\"toc-item-num\">4.1&nbsp;&nbsp;</span>Подсчет для каждого пользователя количества сделанных звонков и израсходованных минут разговора по месяцам</a></span></li><li><span><a href=\"#Подсчет-для-каждого-пользователя-количества-отправленных-сообщений-по-месяцам\" data-toc-modified-id=\"Подсчет-для-каждого-пользователя-количества-отправленных-сообщений-по-месяцам-4.2\"><span class=\"toc-item-num\">4.2&nbsp;&nbsp;</span>Подсчет для каждого пользователя количества отправленных сообщений по месяцам</a></span></li><li><span><a href=\"#Подсчет-для-каждого-пользователя-объема-израсходованного-интернет-трафика-по-месяцам\" data-toc-modified-id=\"Подсчет-для-каждого-пользователя-объема-израсходованного-интернет-трафика-по-месяцам-4.3\"><span class=\"toc-item-num\">4.3&nbsp;&nbsp;</span>Подсчет для каждого пользователя объема израсходованного интернет-трафика по месяцам</a></span></li><li><span><a href=\"#Подсчет-помесячной-выручки-с-каждого-пользователя\" data-toc-modified-id=\"Подсчет-помесячной-выручки-с-каждого-пользователя-4.4\"><span class=\"toc-item-num\">4.4&nbsp;&nbsp;</span>Подсчет помесячной выручки с каждого пользователя</a></span></li></ul></li><li><span><a href=\"#Анализ-данных\" data-toc-modified-id=\"Анализ-данных-5\"><span class=\"toc-item-num\">5&nbsp;&nbsp;</span>Анализ данных</a></span><ul class=\"toc-item\"><li><span><a href=\"#Оценка-сколько-минут-разговора-требуется-пользователям-каждого-тарифа-в-месяц\" data-toc-modified-id=\"Оценка-сколько-минут-разговора-требуется-пользователям-каждого-тарифа-в-месяц-5.1\"><span class=\"toc-item-num\">5.1&nbsp;&nbsp;</span>Оценка сколько минут разговора требуется пользователям каждого тарифа в месяц</a></span></li><li><span><a href=\"#Оценка-сколько-сообщений-требуется-пользователям-каждого-тарифа-в-месяц\" data-toc-modified-id=\"Оценка-сколько-сообщений-требуется-пользователям-каждого-тарифа-в-месяц-5.2\"><span class=\"toc-item-num\">5.2&nbsp;&nbsp;</span>Оценка сколько сообщений требуется пользователям каждого тарифа в месяц</a></span></li><li><span><a href=\"#Оценка-какой-объём-интернет-трафика-требуется-пользователям-каждого-тарифа-в-месяц\" data-toc-modified-id=\"Оценка-какой-объём-интернет-трафика-требуется-пользователям-каждого-тарифа-в-месяц-5.3\"><span class=\"toc-item-num\">5.3&nbsp;&nbsp;</span>Оценка какой объём интернет-трафика требуется пользователям каждого тарифа в месяц</a></span></li><li><span><a href=\"#Оценка-&quot;переплат&quot;\" data-toc-modified-id=\"Оценка-&quot;переплат&quot;-5.4\"><span class=\"toc-item-num\">5.4&nbsp;&nbsp;</span>Оценка \"переплат\"</a></span></li></ul></li><li><span><a href=\"#Проверка-гипотез\" data-toc-modified-id=\"Проверка-гипотез-6\"><span class=\"toc-item-num\">6&nbsp;&nbsp;</span>Проверка гипотез</a></span><ul class=\"toc-item\"><li><span><a href=\"#Проверка-гипотезы:-средняя-выручка-пользователей-тарифов-«Ультра»-и-«Смарт»-различаются\" data-toc-modified-id=\"Проверка-гипотезы:-средняя-выручка-пользователей-тарифов-«Ультра»-и-«Смарт»-различаются-6.1\"><span class=\"toc-item-num\">6.1&nbsp;&nbsp;</span>Проверка гипотезы: средняя выручка пользователей тарифов «Ультра» и «Смарт» различаются</a></span></li><li><span><a href=\"#Проверка-гипотезы:-средняя-выручка-пользователей-из-Москвы-отличается-от-выручки-пользователей-из-других-регионов.\" data-toc-modified-id=\"Проверка-гипотезы:-средняя-выручка-пользователей-из-Москвы-отличается-от-выручки-пользователей-из-других-регионов.-6.2\"><span class=\"toc-item-num\">6.2&nbsp;&nbsp;</span>Проверка гипотезы: средняя выручка пользователей из Москвы отличается от выручки пользователей из других регионов.</a></span></li></ul></li><li><span><a href=\"#Общий-вывод\" data-toc-modified-id=\"Общий-вывод-7\"><span class=\"toc-item-num\">7&nbsp;&nbsp;</span>Общий вывод</a></span></li></ul></div>"
      ]
    },
    {
      "cell_type": "markdown",
      "metadata": {
        "id": "k5UHctEy33c-"
      },
      "source": [
        "## Описание проекта"
      ]
    },
    {
      "cell_type": "markdown",
      "metadata": {
        "id": "MFTZVfIF33c_"
      },
      "source": [
        "Вы аналитик компании «Мегалайн» — федерального оператора сотовой связи. Клиентам предлагают два тарифных плана: Смарт и Ультра. Чтобы скорректировать рекламный бюджет, коммерческий департамент хочет понять, какой тариф приносит больше денег. Вам предстоит сделать предварительный анализ тарифов на небольшой выборке клиентов. В вашем распоряжении данные 500 пользователей «Мегалайна»: кто они, откуда, каким тарифом пользуются, сколько звонков и сообщений каждый отправил за 2018 год. Нужно проанализировать поведение клиентов и сделать вывод — какой тариф лучше."
      ]
    },
    {
      "cell_type": "markdown",
      "metadata": {
        "id": "Eupn1NZu33dA"
      },
      "source": [
        "Описание тарифов\n",
        "\n",
        "Тариф Смарт</font></b>:\n",
        "\n",
        "- Ежемесячная плата: 550 рублей\n",
        "- Включено 500 минут разговора, 50 сообщений и 15 Гб интернет-трафика\n",
        "- Стоимость услуг сверх тарифного пакета:\n",
        "- минута разговора: 3 рубля\n",
        "- сообщение: 3 рубля\n",
        "- 1 Гб интернет-трафика: 200 рублей\n",
        "\n",
        "Тариф Ультра</font></b>:\n",
        "\n",
        "- Ежемесячная плата: 1950 рублей\n",
        "- Включено 3000 минут разговора, 1000 сообщений и 30 Гб интернет-трафика\n",
        "- Стоимость услуг сверх тарифного пакета:\n",
        "- минута разговора: 1 рубль\n",
        "- сообщение: 1 рубль\n",
        "- 1 Гб интернет-трафика: 150 рублей\n"
      ]
    },
    {
      "cell_type": "markdown",
      "metadata": {
        "id": "xX6qw0hu33dB"
      },
      "source": [
        "Необходимо описать поведение клиентов оператора, исходя из выборки:\n",
        "- сколько минут разговора, сколько сообщений и какой объём интернет-трафика требуется пользователям каждого тарифа в месяц?; \n",
        "- посчитать среднее количество, дисперсию и стандартное отклонение. Построить гистограммы. Описать распределения."
      ]
    },
    {
      "cell_type": "markdown",
      "metadata": {
        "id": "DcOehcEh33dB"
      },
      "source": [
        "Проверить гипотезы:\n",
        "- средняя выручка пользователей тарифов «Ультра» и «Смарт» различаются;\n",
        "- средняя выручка пользователей из Москвы отличается от выручки пользователей из других регионов.\n"
      ]
    },
    {
      "cell_type": "markdown",
      "metadata": {
        "id": "_8YAejPc33dC"
      },
      "source": [
        "Импорт библиотек"
      ]
    },
    {
      "cell_type": "code",
      "execution_count": null,
      "metadata": {
        "id": "F5tF1M5c33dD"
      },
      "outputs": [],
      "source": [
        "import pandas as pd\n",
        "import numpy as np\n",
        "import matplotlib.pyplot as plt\n",
        "from scipy import stats as st\n",
        "import warnings \n",
        "warnings.filterwarnings('ignore')\n"
      ]
    },
    {
      "cell_type": "markdown",
      "metadata": {
        "id": "RfTQaOTg33dE"
      },
      "source": [
        "##  Ознакомление с данными и их описание"
      ]
    },
    {
      "cell_type": "markdown",
      "metadata": {
        "id": "oJYzhqrD33dE"
      },
      "source": [
        "Прочтем данные и запишим их в соответствующие переменные"
      ]
    },
    {
      "cell_type": "code",
      "execution_count": null,
      "metadata": {
        "id": "v19zrzKQ33dF"
      },
      "outputs": [],
      "source": [
        "calls = pd.read_csv('/datasets/calls.csv')\n",
        "internet = pd.read_csv('/datasets/internet.csv')\n",
        "messages = pd.read_csv('/datasets/messages.csv')\n",
        "tariffs = pd.read_csv('/datasets/tariffs.csv')\n",
        "users = pd.read_csv('/datasets/users.csv')"
      ]
    },
    {
      "cell_type": "markdown",
      "metadata": {
        "id": "W1mqH_1O33dF"
      },
      "source": [
        "Посмотрим общую информацию и описание для всех датасетов"
      ]
    },
    {
      "cell_type": "code",
      "execution_count": null,
      "metadata": {
        "id": "Kb5hG06j33dF",
        "outputId": "883e29fc-e7a7-4b01-cfc6-07c04ed70e9b"
      },
      "outputs": [
        {
          "name": "stdout",
          "output_type": "stream",
          "text": [
            "<class 'pandas.core.frame.DataFrame'>\n",
            "RangeIndex: 202607 entries, 0 to 202606\n",
            "Data columns (total 4 columns):\n",
            " #   Column     Non-Null Count   Dtype  \n",
            "---  ------     --------------   -----  \n",
            " 0   id         202607 non-null  object \n",
            " 1   call_date  202607 non-null  object \n",
            " 2   duration   202607 non-null  float64\n",
            " 3   user_id    202607 non-null  int64  \n",
            "dtypes: float64(1), int64(1), object(2)\n",
            "memory usage: 6.2+ MB\n"
          ]
        }
      ],
      "source": [
        "calls.info()"
      ]
    },
    {
      "cell_type": "markdown",
      "metadata": {
        "id": "L9W6mDKE33dL"
      },
      "source": [
        "- id — уникальный номер звонка\n",
        "- call_date — дата звонка\n",
        "- duration — длительность звонка в минутах\n",
        "- user_id — идентификатор пользователя, сделавшего звонок\n"
      ]
    },
    {
      "cell_type": "code",
      "execution_count": null,
      "metadata": {
        "id": "MBNWKK7833dM",
        "outputId": "8cf6a2a8-183b-4bb3-979e-a0df83cd0fca"
      },
      "outputs": [
        {
          "data": {
            "text/html": [
              "<div>\n",
              "<style scoped>\n",
              "    .dataframe tbody tr th:only-of-type {\n",
              "        vertical-align: middle;\n",
              "    }\n",
              "\n",
              "    .dataframe tbody tr th {\n",
              "        vertical-align: top;\n",
              "    }\n",
              "\n",
              "    .dataframe thead th {\n",
              "        text-align: right;\n",
              "    }\n",
              "</style>\n",
              "<table border=\"1\" class=\"dataframe\">\n",
              "  <thead>\n",
              "    <tr style=\"text-align: right;\">\n",
              "      <th></th>\n",
              "      <th>duration</th>\n",
              "      <th>user_id</th>\n",
              "    </tr>\n",
              "  </thead>\n",
              "  <tbody>\n",
              "    <tr>\n",
              "      <th>count</th>\n",
              "      <td>202607.000000</td>\n",
              "      <td>202607.000000</td>\n",
              "    </tr>\n",
              "    <tr>\n",
              "      <th>mean</th>\n",
              "      <td>6.755887</td>\n",
              "      <td>1253.940619</td>\n",
              "    </tr>\n",
              "    <tr>\n",
              "      <th>std</th>\n",
              "      <td>5.843365</td>\n",
              "      <td>144.722751</td>\n",
              "    </tr>\n",
              "    <tr>\n",
              "      <th>min</th>\n",
              "      <td>0.000000</td>\n",
              "      <td>1000.000000</td>\n",
              "    </tr>\n",
              "    <tr>\n",
              "      <th>25%</th>\n",
              "      <td>1.300000</td>\n",
              "      <td>1126.000000</td>\n",
              "    </tr>\n",
              "    <tr>\n",
              "      <th>50%</th>\n",
              "      <td>6.000000</td>\n",
              "      <td>1260.000000</td>\n",
              "    </tr>\n",
              "    <tr>\n",
              "      <th>75%</th>\n",
              "      <td>10.700000</td>\n",
              "      <td>1379.000000</td>\n",
              "    </tr>\n",
              "    <tr>\n",
              "      <th>max</th>\n",
              "      <td>38.000000</td>\n",
              "      <td>1499.000000</td>\n",
              "    </tr>\n",
              "  </tbody>\n",
              "</table>\n",
              "</div>"
            ],
            "text/plain": [
              "            duration        user_id\n",
              "count  202607.000000  202607.000000\n",
              "mean        6.755887    1253.940619\n",
              "std         5.843365     144.722751\n",
              "min         0.000000    1000.000000\n",
              "25%         1.300000    1126.000000\n",
              "50%         6.000000    1260.000000\n",
              "75%        10.700000    1379.000000\n",
              "max        38.000000    1499.000000"
            ]
          },
          "execution_count": 4,
          "metadata": {},
          "output_type": "execute_result"
        }
      ],
      "source": [
        "calls.describe()"
      ]
    },
    {
      "cell_type": "code",
      "execution_count": null,
      "metadata": {
        "id": "TfhzZjVd33dM",
        "outputId": "2f8f2544-2506-4c42-fba1-11d8b174dcc4"
      },
      "outputs": [
        {
          "name": "stdout",
          "output_type": "stream",
          "text": [
            "<class 'pandas.core.frame.DataFrame'>\n",
            "RangeIndex: 149396 entries, 0 to 149395\n",
            "Data columns (total 5 columns):\n",
            " #   Column        Non-Null Count   Dtype  \n",
            "---  ------        --------------   -----  \n",
            " 0   Unnamed: 0    149396 non-null  int64  \n",
            " 1   id            149396 non-null  object \n",
            " 2   mb_used       149396 non-null  float64\n",
            " 3   session_date  149396 non-null  object \n",
            " 4   user_id       149396 non-null  int64  \n",
            "dtypes: float64(1), int64(2), object(2)\n",
            "memory usage: 5.7+ MB\n"
          ]
        }
      ],
      "source": [
        "internet.info()"
      ]
    },
    {
      "cell_type": "markdown",
      "metadata": {
        "id": "NZaKLyPq33dN"
      },
      "source": [
        "- id — уникальный номер сессии\n",
        "- mb_used — объём потраченного за сессию интернет-трафика (в мегабайтах)\n",
        "- session_date — дата интернет-сессии\n",
        "- user_id — идентификатор пользователя\n"
      ]
    },
    {
      "cell_type": "code",
      "execution_count": null,
      "metadata": {
        "id": "k6PnTHm733dN",
        "outputId": "a58637fa-590c-4671-b0aa-51712e193cdb"
      },
      "outputs": [
        {
          "data": {
            "text/html": [
              "<div>\n",
              "<style scoped>\n",
              "    .dataframe tbody tr th:only-of-type {\n",
              "        vertical-align: middle;\n",
              "    }\n",
              "\n",
              "    .dataframe tbody tr th {\n",
              "        vertical-align: top;\n",
              "    }\n",
              "\n",
              "    .dataframe thead th {\n",
              "        text-align: right;\n",
              "    }\n",
              "</style>\n",
              "<table border=\"1\" class=\"dataframe\">\n",
              "  <thead>\n",
              "    <tr style=\"text-align: right;\">\n",
              "      <th></th>\n",
              "      <th>Unnamed: 0</th>\n",
              "      <th>mb_used</th>\n",
              "      <th>user_id</th>\n",
              "    </tr>\n",
              "  </thead>\n",
              "  <tbody>\n",
              "    <tr>\n",
              "      <th>count</th>\n",
              "      <td>149396.000000</td>\n",
              "      <td>149396.000000</td>\n",
              "      <td>149396.000000</td>\n",
              "    </tr>\n",
              "    <tr>\n",
              "      <th>mean</th>\n",
              "      <td>74697.500000</td>\n",
              "      <td>370.192426</td>\n",
              "      <td>1252.099842</td>\n",
              "    </tr>\n",
              "    <tr>\n",
              "      <th>std</th>\n",
              "      <td>43127.054745</td>\n",
              "      <td>278.300951</td>\n",
              "      <td>144.050823</td>\n",
              "    </tr>\n",
              "    <tr>\n",
              "      <th>min</th>\n",
              "      <td>0.000000</td>\n",
              "      <td>0.000000</td>\n",
              "      <td>1000.000000</td>\n",
              "    </tr>\n",
              "    <tr>\n",
              "      <th>25%</th>\n",
              "      <td>37348.750000</td>\n",
              "      <td>138.187500</td>\n",
              "      <td>1130.000000</td>\n",
              "    </tr>\n",
              "    <tr>\n",
              "      <th>50%</th>\n",
              "      <td>74697.500000</td>\n",
              "      <td>348.015000</td>\n",
              "      <td>1251.000000</td>\n",
              "    </tr>\n",
              "    <tr>\n",
              "      <th>75%</th>\n",
              "      <td>112046.250000</td>\n",
              "      <td>559.552500</td>\n",
              "      <td>1380.000000</td>\n",
              "    </tr>\n",
              "    <tr>\n",
              "      <th>max</th>\n",
              "      <td>149395.000000</td>\n",
              "      <td>1724.830000</td>\n",
              "      <td>1499.000000</td>\n",
              "    </tr>\n",
              "  </tbody>\n",
              "</table>\n",
              "</div>"
            ],
            "text/plain": [
              "          Unnamed: 0        mb_used        user_id\n",
              "count  149396.000000  149396.000000  149396.000000\n",
              "mean    74697.500000     370.192426    1252.099842\n",
              "std     43127.054745     278.300951     144.050823\n",
              "min         0.000000       0.000000    1000.000000\n",
              "25%     37348.750000     138.187500    1130.000000\n",
              "50%     74697.500000     348.015000    1251.000000\n",
              "75%    112046.250000     559.552500    1380.000000\n",
              "max    149395.000000    1724.830000    1499.000000"
            ]
          },
          "execution_count": 6,
          "metadata": {},
          "output_type": "execute_result"
        }
      ],
      "source": [
        "internet.describe()"
      ]
    },
    {
      "cell_type": "code",
      "execution_count": null,
      "metadata": {
        "id": "eEvnXvnT33dO",
        "outputId": "846e08e1-ed94-40dc-f00b-b97dee972049"
      },
      "outputs": [
        {
          "name": "stdout",
          "output_type": "stream",
          "text": [
            "<class 'pandas.core.frame.DataFrame'>\n",
            "RangeIndex: 123036 entries, 0 to 123035\n",
            "Data columns (total 3 columns):\n",
            " #   Column        Non-Null Count   Dtype \n",
            "---  ------        --------------   ----- \n",
            " 0   id            123036 non-null  object\n",
            " 1   message_date  123036 non-null  object\n",
            " 2   user_id       123036 non-null  int64 \n",
            "dtypes: int64(1), object(2)\n",
            "memory usage: 2.8+ MB\n"
          ]
        }
      ],
      "source": [
        "messages.info()"
      ]
    },
    {
      "cell_type": "markdown",
      "metadata": {
        "id": "Vj5Ff2Ou33dO"
      },
      "source": [
        "- id — уникальный номер сообщения\n",
        "- message_date — дата сообщения\n",
        "- user_id — идентификатор пользователя, отправившего сообщение\n"
      ]
    },
    {
      "cell_type": "code",
      "execution_count": null,
      "metadata": {
        "id": "QhDiBb5433dP",
        "outputId": "b08bef13-66c8-47c7-a8a2-e0c61e8672e9"
      },
      "outputs": [
        {
          "data": {
            "text/html": [
              "<div>\n",
              "<style scoped>\n",
              "    .dataframe tbody tr th:only-of-type {\n",
              "        vertical-align: middle;\n",
              "    }\n",
              "\n",
              "    .dataframe tbody tr th {\n",
              "        vertical-align: top;\n",
              "    }\n",
              "\n",
              "    .dataframe thead th {\n",
              "        text-align: right;\n",
              "    }\n",
              "</style>\n",
              "<table border=\"1\" class=\"dataframe\">\n",
              "  <thead>\n",
              "    <tr style=\"text-align: right;\">\n",
              "      <th></th>\n",
              "      <th>user_id</th>\n",
              "    </tr>\n",
              "  </thead>\n",
              "  <tbody>\n",
              "    <tr>\n",
              "      <th>count</th>\n",
              "      <td>123036.000000</td>\n",
              "    </tr>\n",
              "    <tr>\n",
              "      <th>mean</th>\n",
              "      <td>1256.989410</td>\n",
              "    </tr>\n",
              "    <tr>\n",
              "      <th>std</th>\n",
              "      <td>143.523967</td>\n",
              "    </tr>\n",
              "    <tr>\n",
              "      <th>min</th>\n",
              "      <td>1000.000000</td>\n",
              "    </tr>\n",
              "    <tr>\n",
              "      <th>25%</th>\n",
              "      <td>1134.000000</td>\n",
              "    </tr>\n",
              "    <tr>\n",
              "      <th>50%</th>\n",
              "      <td>1271.000000</td>\n",
              "    </tr>\n",
              "    <tr>\n",
              "      <th>75%</th>\n",
              "      <td>1381.000000</td>\n",
              "    </tr>\n",
              "    <tr>\n",
              "      <th>max</th>\n",
              "      <td>1499.000000</td>\n",
              "    </tr>\n",
              "  </tbody>\n",
              "</table>\n",
              "</div>"
            ],
            "text/plain": [
              "             user_id\n",
              "count  123036.000000\n",
              "mean     1256.989410\n",
              "std       143.523967\n",
              "min      1000.000000\n",
              "25%      1134.000000\n",
              "50%      1271.000000\n",
              "75%      1381.000000\n",
              "max      1499.000000"
            ]
          },
          "execution_count": 8,
          "metadata": {},
          "output_type": "execute_result"
        }
      ],
      "source": [
        "messages.describe()"
      ]
    },
    {
      "cell_type": "code",
      "execution_count": null,
      "metadata": {
        "id": "0ehBczf033dP",
        "outputId": "28d343c4-5438-47c3-d445-189a7ea26731"
      },
      "outputs": [
        {
          "name": "stdout",
          "output_type": "stream",
          "text": [
            "<class 'pandas.core.frame.DataFrame'>\n",
            "RangeIndex: 2 entries, 0 to 1\n",
            "Data columns (total 8 columns):\n",
            " #   Column                 Non-Null Count  Dtype \n",
            "---  ------                 --------------  ----- \n",
            " 0   messages_included      2 non-null      int64 \n",
            " 1   mb_per_month_included  2 non-null      int64 \n",
            " 2   minutes_included       2 non-null      int64 \n",
            " 3   rub_monthly_fee        2 non-null      int64 \n",
            " 4   rub_per_gb             2 non-null      int64 \n",
            " 5   rub_per_message        2 non-null      int64 \n",
            " 6   rub_per_minute         2 non-null      int64 \n",
            " 7   tariff_name            2 non-null      object\n",
            "dtypes: int64(7), object(1)\n",
            "memory usage: 256.0+ bytes\n"
          ]
        }
      ],
      "source": [
        "tariffs.info()"
      ]
    },
    {
      "cell_type": "markdown",
      "metadata": {
        "id": "R3JwJ-IF33dQ"
      },
      "source": [
        "- tariff_name — название тарифа\n",
        "- rub_monthly_fee — ежемесячная абонентская плата в рублях\n",
        "- minutes_included — количество минут разговора в месяц, включённых в абонентскую плату\n",
        "- messages_included — количество сообщений в месяц, включённых в абонентскую плату\n",
        "- mb_per_month_included — объём интернет-трафика, включённого в абонентскую плату (в мегабайтах)\n",
        "- rub_per_minute — стоимость минуты разговора сверх тарифного пакета (например, если в тарифе 100 минут разговора в месяц, то со 101 минуты будет взиматься плата)\n",
        "- rub_per_message — стоимость отправки сообщения сверх тарифного пакета\n",
        "- rub_per_gb — стоимость дополнительного гигабайта интернет-трафика сверх тарифного пакета (1 гигабайт = 1024 мегабайта)"
      ]
    },
    {
      "cell_type": "code",
      "execution_count": null,
      "metadata": {
        "id": "d1pOxemB33dQ",
        "outputId": "6487bcb0-8288-413d-bc0f-6fabc05ed261"
      },
      "outputs": [
        {
          "data": {
            "text/html": [
              "<div>\n",
              "<style scoped>\n",
              "    .dataframe tbody tr th:only-of-type {\n",
              "        vertical-align: middle;\n",
              "    }\n",
              "\n",
              "    .dataframe tbody tr th {\n",
              "        vertical-align: top;\n",
              "    }\n",
              "\n",
              "    .dataframe thead th {\n",
              "        text-align: right;\n",
              "    }\n",
              "</style>\n",
              "<table border=\"1\" class=\"dataframe\">\n",
              "  <thead>\n",
              "    <tr style=\"text-align: right;\">\n",
              "      <th></th>\n",
              "      <th>count</th>\n",
              "      <th>mean</th>\n",
              "      <th>std</th>\n",
              "      <th>min</th>\n",
              "      <th>25%</th>\n",
              "      <th>50%</th>\n",
              "      <th>75%</th>\n",
              "      <th>max</th>\n",
              "    </tr>\n",
              "  </thead>\n",
              "  <tbody>\n",
              "    <tr>\n",
              "      <th>messages_included</th>\n",
              "      <td>2.0</td>\n",
              "      <td>525.0</td>\n",
              "      <td>671.751442</td>\n",
              "      <td>50.0</td>\n",
              "      <td>287.5</td>\n",
              "      <td>525.0</td>\n",
              "      <td>762.5</td>\n",
              "      <td>1000.0</td>\n",
              "    </tr>\n",
              "    <tr>\n",
              "      <th>mb_per_month_included</th>\n",
              "      <td>2.0</td>\n",
              "      <td>23040.0</td>\n",
              "      <td>10861.160159</td>\n",
              "      <td>15360.0</td>\n",
              "      <td>19200.0</td>\n",
              "      <td>23040.0</td>\n",
              "      <td>26880.0</td>\n",
              "      <td>30720.0</td>\n",
              "    </tr>\n",
              "    <tr>\n",
              "      <th>minutes_included</th>\n",
              "      <td>2.0</td>\n",
              "      <td>1750.0</td>\n",
              "      <td>1767.766953</td>\n",
              "      <td>500.0</td>\n",
              "      <td>1125.0</td>\n",
              "      <td>1750.0</td>\n",
              "      <td>2375.0</td>\n",
              "      <td>3000.0</td>\n",
              "    </tr>\n",
              "    <tr>\n",
              "      <th>rub_monthly_fee</th>\n",
              "      <td>2.0</td>\n",
              "      <td>1250.0</td>\n",
              "      <td>989.949494</td>\n",
              "      <td>550.0</td>\n",
              "      <td>900.0</td>\n",
              "      <td>1250.0</td>\n",
              "      <td>1600.0</td>\n",
              "      <td>1950.0</td>\n",
              "    </tr>\n",
              "    <tr>\n",
              "      <th>rub_per_gb</th>\n",
              "      <td>2.0</td>\n",
              "      <td>175.0</td>\n",
              "      <td>35.355339</td>\n",
              "      <td>150.0</td>\n",
              "      <td>162.5</td>\n",
              "      <td>175.0</td>\n",
              "      <td>187.5</td>\n",
              "      <td>200.0</td>\n",
              "    </tr>\n",
              "    <tr>\n",
              "      <th>rub_per_message</th>\n",
              "      <td>2.0</td>\n",
              "      <td>2.0</td>\n",
              "      <td>1.414214</td>\n",
              "      <td>1.0</td>\n",
              "      <td>1.5</td>\n",
              "      <td>2.0</td>\n",
              "      <td>2.5</td>\n",
              "      <td>3.0</td>\n",
              "    </tr>\n",
              "    <tr>\n",
              "      <th>rub_per_minute</th>\n",
              "      <td>2.0</td>\n",
              "      <td>2.0</td>\n",
              "      <td>1.414214</td>\n",
              "      <td>1.0</td>\n",
              "      <td>1.5</td>\n",
              "      <td>2.0</td>\n",
              "      <td>2.5</td>\n",
              "      <td>3.0</td>\n",
              "    </tr>\n",
              "  </tbody>\n",
              "</table>\n",
              "</div>"
            ],
            "text/plain": [
              "                       count     mean           std      min      25%  \\\n",
              "messages_included        2.0    525.0    671.751442     50.0    287.5   \n",
              "mb_per_month_included    2.0  23040.0  10861.160159  15360.0  19200.0   \n",
              "minutes_included         2.0   1750.0   1767.766953    500.0   1125.0   \n",
              "rub_monthly_fee          2.0   1250.0    989.949494    550.0    900.0   \n",
              "rub_per_gb               2.0    175.0     35.355339    150.0    162.5   \n",
              "rub_per_message          2.0      2.0      1.414214      1.0      1.5   \n",
              "rub_per_minute           2.0      2.0      1.414214      1.0      1.5   \n",
              "\n",
              "                           50%      75%      max  \n",
              "messages_included        525.0    762.5   1000.0  \n",
              "mb_per_month_included  23040.0  26880.0  30720.0  \n",
              "minutes_included        1750.0   2375.0   3000.0  \n",
              "rub_monthly_fee         1250.0   1600.0   1950.0  \n",
              "rub_per_gb               175.0    187.5    200.0  \n",
              "rub_per_message            2.0      2.5      3.0  \n",
              "rub_per_minute             2.0      2.5      3.0  "
            ]
          },
          "execution_count": 10,
          "metadata": {},
          "output_type": "execute_result"
        }
      ],
      "source": [
        "tariffs.describe().T"
      ]
    },
    {
      "cell_type": "code",
      "execution_count": null,
      "metadata": {
        "id": "1f5edNTT33dR",
        "outputId": "ff9d020c-82ff-49e3-96f4-6159a1afa478"
      },
      "outputs": [
        {
          "name": "stdout",
          "output_type": "stream",
          "text": [
            "<class 'pandas.core.frame.DataFrame'>\n",
            "RangeIndex: 500 entries, 0 to 499\n",
            "Data columns (total 8 columns):\n",
            " #   Column      Non-Null Count  Dtype \n",
            "---  ------      --------------  ----- \n",
            " 0   user_id     500 non-null    int64 \n",
            " 1   age         500 non-null    int64 \n",
            " 2   churn_date  38 non-null     object\n",
            " 3   city        500 non-null    object\n",
            " 4   first_name  500 non-null    object\n",
            " 5   last_name   500 non-null    object\n",
            " 6   reg_date    500 non-null    object\n",
            " 7   tariff      500 non-null    object\n",
            "dtypes: int64(2), object(6)\n",
            "memory usage: 31.4+ KB\n"
          ]
        }
      ],
      "source": [
        "users.info()"
      ]
    },
    {
      "cell_type": "markdown",
      "metadata": {
        "id": "lrIdbPII33dR"
      },
      "source": [
        "- user_id — уникальный идентификатор пользователя\n",
        "- first_name — имя пользователя\n",
        "- last_name — фамилия пользователя\n",
        "- age — возраст пользователя (годы)\n",
        "- reg_date — дата подключения тарифа (день, месяц, год)\n",
        "- churn_date — дата прекращения пользования тарифом (если значение пропущено, то тариф ещё действовал на момент выгрузки данных)\n",
        "- city — город проживания пользователя\n",
        "- tariff — название тарифного плана\n"
      ]
    },
    {
      "cell_type": "code",
      "execution_count": null,
      "metadata": {
        "id": "B4MryJuq33dS",
        "outputId": "6f7171be-11b3-401e-82ab-32e305693b09"
      },
      "outputs": [
        {
          "data": {
            "text/html": [
              "<div>\n",
              "<style scoped>\n",
              "    .dataframe tbody tr th:only-of-type {\n",
              "        vertical-align: middle;\n",
              "    }\n",
              "\n",
              "    .dataframe tbody tr th {\n",
              "        vertical-align: top;\n",
              "    }\n",
              "\n",
              "    .dataframe thead th {\n",
              "        text-align: right;\n",
              "    }\n",
              "</style>\n",
              "<table border=\"1\" class=\"dataframe\">\n",
              "  <thead>\n",
              "    <tr style=\"text-align: right;\">\n",
              "      <th></th>\n",
              "      <th>user_id</th>\n",
              "      <th>age</th>\n",
              "    </tr>\n",
              "  </thead>\n",
              "  <tbody>\n",
              "    <tr>\n",
              "      <th>count</th>\n",
              "      <td>500.000000</td>\n",
              "      <td>500.00000</td>\n",
              "    </tr>\n",
              "    <tr>\n",
              "      <th>mean</th>\n",
              "      <td>1249.500000</td>\n",
              "      <td>46.58800</td>\n",
              "    </tr>\n",
              "    <tr>\n",
              "      <th>std</th>\n",
              "      <td>144.481833</td>\n",
              "      <td>16.66763</td>\n",
              "    </tr>\n",
              "    <tr>\n",
              "      <th>min</th>\n",
              "      <td>1000.000000</td>\n",
              "      <td>18.00000</td>\n",
              "    </tr>\n",
              "    <tr>\n",
              "      <th>25%</th>\n",
              "      <td>1124.750000</td>\n",
              "      <td>32.00000</td>\n",
              "    </tr>\n",
              "    <tr>\n",
              "      <th>50%</th>\n",
              "      <td>1249.500000</td>\n",
              "      <td>46.00000</td>\n",
              "    </tr>\n",
              "    <tr>\n",
              "      <th>75%</th>\n",
              "      <td>1374.250000</td>\n",
              "      <td>62.00000</td>\n",
              "    </tr>\n",
              "    <tr>\n",
              "      <th>max</th>\n",
              "      <td>1499.000000</td>\n",
              "      <td>75.00000</td>\n",
              "    </tr>\n",
              "  </tbody>\n",
              "</table>\n",
              "</div>"
            ],
            "text/plain": [
              "           user_id        age\n",
              "count   500.000000  500.00000\n",
              "mean   1249.500000   46.58800\n",
              "std     144.481833   16.66763\n",
              "min    1000.000000   18.00000\n",
              "25%    1124.750000   32.00000\n",
              "50%    1249.500000   46.00000\n",
              "75%    1374.250000   62.00000\n",
              "max    1499.000000   75.00000"
            ]
          },
          "execution_count": 12,
          "metadata": {},
          "output_type": "execute_result"
        }
      ],
      "source": [
        "users.describe()"
      ]
    },
    {
      "cell_type": "markdown",
      "metadata": {
        "id": "M-ImAHjf33dS"
      },
      "source": [
        "Вывод:\n",
        "- пропуски в датасете users в столбце \"churn_date\" (дата прекращения пользования тарифом). В описании указано, что если значение пропущено, то тариф ещё действовал на момент выгрузки данных. Значит оставляем данные как есть.\n",
        "- датасет users изменить тип данных в reg_date (дата подключения тарифа) на datetime и добавить столбец месяца (необходимо для подсчета по месяцам);\n",
        "- датасет calls тип данных столбца \"call_date\" изменить на datetime;\n",
        "- датасет messages тип данных столбца \"message_date\" изменить на datetime;\n",
        "- датасет internet тип данных столбеца \"session_date\" изменить на datetime;\n",
        "- проверить данные на дубликаты;\n",
        "- проверить нулевые значения в длительностях calls и internet;\n",
        "- данные в tariffs это справочная информация."
      ]
    },
    {
      "cell_type": "markdown",
      "metadata": {
        "id": "AsRp-MbI33dT"
      },
      "source": [
        "##  Предобработка данных"
      ]
    },
    {
      "cell_type": "markdown",
      "metadata": {
        "id": "2A19bpS_33dT"
      },
      "source": [
        "### Изменение типов данных "
      ]
    },
    {
      "cell_type": "markdown",
      "metadata": {
        "id": "ZmHpSUgT33dU"
      },
      "source": [
        "Напишем функцию изменения типов данных в датасетах users, calls, messages, internet на \"datetime\"."
      ]
    },
    {
      "cell_type": "code",
      "execution_count": null,
      "metadata": {
        "id": "x0h-wSmJ33dU"
      },
      "outputs": [],
      "source": [
        "def date_to(dataframes):\n",
        "    for df in dataframes:\n",
        "        for column in df.columns:\n",
        "            if 'date' in column:\n",
        "                df[column] = pd.to_datetime(df[column], format = '%Y-%m-%d')"
      ]
    },
    {
      "cell_type": "markdown",
      "metadata": {
        "id": "kvh7BPNJ33dU"
      },
      "source": [
        "Применим функцию к датафреймам"
      ]
    },
    {
      "cell_type": "code",
      "execution_count": null,
      "metadata": {
        "id": "Dc6ZFS2S33dV"
      },
      "outputs": [],
      "source": [
        "date_to([users, calls, messages, internet])"
      ]
    },
    {
      "cell_type": "markdown",
      "metadata": {
        "id": "owWh9zzH33dV"
      },
      "source": [
        "Проверим замену тепов данных"
      ]
    },
    {
      "cell_type": "code",
      "execution_count": null,
      "metadata": {
        "id": "fJGSTdrV33dV",
        "outputId": "df9c29e7-22c1-4288-d7e5-ffab811ab312"
      },
      "outputs": [
        {
          "name": "stdout",
          "output_type": "stream",
          "text": [
            "<class 'pandas.core.frame.DataFrame'>\n",
            "RangeIndex: 500 entries, 0 to 499\n",
            "Data columns (total 8 columns):\n",
            " #   Column      Non-Null Count  Dtype         \n",
            "---  ------      --------------  -----         \n",
            " 0   user_id     500 non-null    int64         \n",
            " 1   age         500 non-null    int64         \n",
            " 2   churn_date  38 non-null     datetime64[ns]\n",
            " 3   city        500 non-null    object        \n",
            " 4   first_name  500 non-null    object        \n",
            " 5   last_name   500 non-null    object        \n",
            " 6   reg_date    500 non-null    datetime64[ns]\n",
            " 7   tariff      500 non-null    object        \n",
            "dtypes: datetime64[ns](2), int64(2), object(4)\n",
            "memory usage: 31.4+ KB\n"
          ]
        }
      ],
      "source": [
        "users.info()"
      ]
    },
    {
      "cell_type": "code",
      "execution_count": null,
      "metadata": {
        "id": "HjyrkJ5r33dW",
        "outputId": "156f90f5-08ff-4bc0-e32c-11aa66c35afd"
      },
      "outputs": [
        {
          "name": "stdout",
          "output_type": "stream",
          "text": [
            "<class 'pandas.core.frame.DataFrame'>\n",
            "RangeIndex: 202607 entries, 0 to 202606\n",
            "Data columns (total 4 columns):\n",
            " #   Column     Non-Null Count   Dtype         \n",
            "---  ------     --------------   -----         \n",
            " 0   id         202607 non-null  object        \n",
            " 1   call_date  202607 non-null  datetime64[ns]\n",
            " 2   duration   202607 non-null  float64       \n",
            " 3   user_id    202607 non-null  int64         \n",
            "dtypes: datetime64[ns](1), float64(1), int64(1), object(1)\n",
            "memory usage: 6.2+ MB\n"
          ]
        }
      ],
      "source": [
        "calls.info()"
      ]
    },
    {
      "cell_type": "code",
      "execution_count": null,
      "metadata": {
        "id": "Fv90UOSI33dW",
        "outputId": "deee917f-3218-445d-80eb-7843b51d73fb"
      },
      "outputs": [
        {
          "name": "stdout",
          "output_type": "stream",
          "text": [
            "<class 'pandas.core.frame.DataFrame'>\n",
            "RangeIndex: 123036 entries, 0 to 123035\n",
            "Data columns (total 3 columns):\n",
            " #   Column        Non-Null Count   Dtype         \n",
            "---  ------        --------------   -----         \n",
            " 0   id            123036 non-null  object        \n",
            " 1   message_date  123036 non-null  datetime64[ns]\n",
            " 2   user_id       123036 non-null  int64         \n",
            "dtypes: datetime64[ns](1), int64(1), object(1)\n",
            "memory usage: 2.8+ MB\n"
          ]
        }
      ],
      "source": [
        "messages.info()"
      ]
    },
    {
      "cell_type": "code",
      "execution_count": null,
      "metadata": {
        "id": "SZgXaFy433dX",
        "outputId": "acde4752-3c90-4e20-a71b-85a99779df98"
      },
      "outputs": [
        {
          "name": "stdout",
          "output_type": "stream",
          "text": [
            "<class 'pandas.core.frame.DataFrame'>\n",
            "RangeIndex: 149396 entries, 0 to 149395\n",
            "Data columns (total 5 columns):\n",
            " #   Column        Non-Null Count   Dtype         \n",
            "---  ------        --------------   -----         \n",
            " 0   Unnamed: 0    149396 non-null  int64         \n",
            " 1   id            149396 non-null  object        \n",
            " 2   mb_used       149396 non-null  float64       \n",
            " 3   session_date  149396 non-null  datetime64[ns]\n",
            " 4   user_id       149396 non-null  int64         \n",
            "dtypes: datetime64[ns](1), float64(1), int64(2), object(1)\n",
            "memory usage: 5.7+ MB\n"
          ]
        }
      ],
      "source": [
        "internet.info()"
      ]
    },
    {
      "cell_type": "markdown",
      "metadata": {
        "id": "DVqJTmb-33dX"
      },
      "source": [
        "Все даты в формате datetime"
      ]
    },
    {
      "cell_type": "markdown",
      "metadata": {
        "id": "qRybfN6y33dY"
      },
      "source": [
        "### Добавление столбца месяц"
      ]
    },
    {
      "cell_type": "code",
      "execution_count": null,
      "metadata": {
        "id": "BVCqJZfN33dZ"
      },
      "outputs": [],
      "source": [
        "calls['month'] = calls['call_date'].dt.month\n",
        "messages['month'] = messages['message_date'].dt.month\n",
        "internet['month'] = internet['session_date'].dt.month\n",
        "users['month'] = users['reg_date'].dt.month"
      ]
    },
    {
      "cell_type": "markdown",
      "metadata": {
        "id": "vnPcK2IX33da"
      },
      "source": [
        "Проверим добавление столбца"
      ]
    },
    {
      "cell_type": "code",
      "execution_count": null,
      "metadata": {
        "id": "gOmALuKk33da",
        "outputId": "cdafd662-dd07-476f-bb27-9b3fb2134a7f"
      },
      "outputs": [
        {
          "data": {
            "text/html": [
              "<div>\n",
              "<style scoped>\n",
              "    .dataframe tbody tr th:only-of-type {\n",
              "        vertical-align: middle;\n",
              "    }\n",
              "\n",
              "    .dataframe tbody tr th {\n",
              "        vertical-align: top;\n",
              "    }\n",
              "\n",
              "    .dataframe thead th {\n",
              "        text-align: right;\n",
              "    }\n",
              "</style>\n",
              "<table border=\"1\" class=\"dataframe\">\n",
              "  <thead>\n",
              "    <tr style=\"text-align: right;\">\n",
              "      <th></th>\n",
              "      <th>user_id</th>\n",
              "      <th>age</th>\n",
              "      <th>churn_date</th>\n",
              "      <th>city</th>\n",
              "      <th>first_name</th>\n",
              "      <th>last_name</th>\n",
              "      <th>reg_date</th>\n",
              "      <th>tariff</th>\n",
              "      <th>month</th>\n",
              "    </tr>\n",
              "  </thead>\n",
              "  <tbody>\n",
              "    <tr>\n",
              "      <th>0</th>\n",
              "      <td>1000</td>\n",
              "      <td>52</td>\n",
              "      <td>NaT</td>\n",
              "      <td>Краснодар</td>\n",
              "      <td>Рафаил</td>\n",
              "      <td>Верещагин</td>\n",
              "      <td>2018-05-25</td>\n",
              "      <td>ultra</td>\n",
              "      <td>5</td>\n",
              "    </tr>\n",
              "    <tr>\n",
              "      <th>1</th>\n",
              "      <td>1001</td>\n",
              "      <td>41</td>\n",
              "      <td>NaT</td>\n",
              "      <td>Москва</td>\n",
              "      <td>Иван</td>\n",
              "      <td>Ежов</td>\n",
              "      <td>2018-11-01</td>\n",
              "      <td>smart</td>\n",
              "      <td>11</td>\n",
              "    </tr>\n",
              "    <tr>\n",
              "      <th>2</th>\n",
              "      <td>1002</td>\n",
              "      <td>59</td>\n",
              "      <td>NaT</td>\n",
              "      <td>Стерлитамак</td>\n",
              "      <td>Евгений</td>\n",
              "      <td>Абрамович</td>\n",
              "      <td>2018-06-17</td>\n",
              "      <td>smart</td>\n",
              "      <td>6</td>\n",
              "    </tr>\n",
              "    <tr>\n",
              "      <th>3</th>\n",
              "      <td>1003</td>\n",
              "      <td>23</td>\n",
              "      <td>NaT</td>\n",
              "      <td>Москва</td>\n",
              "      <td>Белла</td>\n",
              "      <td>Белякова</td>\n",
              "      <td>2018-08-17</td>\n",
              "      <td>ultra</td>\n",
              "      <td>8</td>\n",
              "    </tr>\n",
              "    <tr>\n",
              "      <th>4</th>\n",
              "      <td>1004</td>\n",
              "      <td>68</td>\n",
              "      <td>NaT</td>\n",
              "      <td>Новокузнецк</td>\n",
              "      <td>Татьяна</td>\n",
              "      <td>Авдеенко</td>\n",
              "      <td>2018-05-14</td>\n",
              "      <td>ultra</td>\n",
              "      <td>5</td>\n",
              "    </tr>\n",
              "  </tbody>\n",
              "</table>\n",
              "</div>"
            ],
            "text/plain": [
              "   user_id  age churn_date         city first_name  last_name   reg_date  \\\n",
              "0     1000   52        NaT    Краснодар     Рафаил  Верещагин 2018-05-25   \n",
              "1     1001   41        NaT       Москва       Иван       Ежов 2018-11-01   \n",
              "2     1002   59        NaT  Стерлитамак    Евгений  Абрамович 2018-06-17   \n",
              "3     1003   23        NaT       Москва      Белла   Белякова 2018-08-17   \n",
              "4     1004   68        NaT  Новокузнецк    Татьяна   Авдеенко 2018-05-14   \n",
              "\n",
              "  tariff  month  \n",
              "0  ultra      5  \n",
              "1  smart     11  \n",
              "2  smart      6  \n",
              "3  ultra      8  \n",
              "4  ultra      5  "
            ]
          },
          "execution_count": 22,
          "metadata": {},
          "output_type": "execute_result"
        }
      ],
      "source": [
        "users.head()"
      ]
    },
    {
      "cell_type": "code",
      "execution_count": null,
      "metadata": {
        "id": "cuKqim-833db",
        "outputId": "7a69569b-db8a-49c3-e722-3690a7ff00ce"
      },
      "outputs": [
        {
          "data": {
            "text/html": [
              "<div>\n",
              "<style scoped>\n",
              "    .dataframe tbody tr th:only-of-type {\n",
              "        vertical-align: middle;\n",
              "    }\n",
              "\n",
              "    .dataframe tbody tr th {\n",
              "        vertical-align: top;\n",
              "    }\n",
              "\n",
              "    .dataframe thead th {\n",
              "        text-align: right;\n",
              "    }\n",
              "</style>\n",
              "<table border=\"1\" class=\"dataframe\">\n",
              "  <thead>\n",
              "    <tr style=\"text-align: right;\">\n",
              "      <th></th>\n",
              "      <th>id</th>\n",
              "      <th>call_date</th>\n",
              "      <th>duration</th>\n",
              "      <th>user_id</th>\n",
              "      <th>month</th>\n",
              "    </tr>\n",
              "  </thead>\n",
              "  <tbody>\n",
              "    <tr>\n",
              "      <th>0</th>\n",
              "      <td>1000_0</td>\n",
              "      <td>2018-07-25</td>\n",
              "      <td>0.00</td>\n",
              "      <td>1000</td>\n",
              "      <td>7</td>\n",
              "    </tr>\n",
              "    <tr>\n",
              "      <th>1</th>\n",
              "      <td>1000_1</td>\n",
              "      <td>2018-08-17</td>\n",
              "      <td>0.00</td>\n",
              "      <td>1000</td>\n",
              "      <td>8</td>\n",
              "    </tr>\n",
              "    <tr>\n",
              "      <th>2</th>\n",
              "      <td>1000_2</td>\n",
              "      <td>2018-06-11</td>\n",
              "      <td>2.85</td>\n",
              "      <td>1000</td>\n",
              "      <td>6</td>\n",
              "    </tr>\n",
              "    <tr>\n",
              "      <th>3</th>\n",
              "      <td>1000_3</td>\n",
              "      <td>2018-09-21</td>\n",
              "      <td>13.80</td>\n",
              "      <td>1000</td>\n",
              "      <td>9</td>\n",
              "    </tr>\n",
              "    <tr>\n",
              "      <th>4</th>\n",
              "      <td>1000_4</td>\n",
              "      <td>2018-12-15</td>\n",
              "      <td>5.18</td>\n",
              "      <td>1000</td>\n",
              "      <td>12</td>\n",
              "    </tr>\n",
              "  </tbody>\n",
              "</table>\n",
              "</div>"
            ],
            "text/plain": [
              "       id  call_date  duration  user_id  month\n",
              "0  1000_0 2018-07-25      0.00     1000      7\n",
              "1  1000_1 2018-08-17      0.00     1000      8\n",
              "2  1000_2 2018-06-11      2.85     1000      6\n",
              "3  1000_3 2018-09-21     13.80     1000      9\n",
              "4  1000_4 2018-12-15      5.18     1000     12"
            ]
          },
          "execution_count": 23,
          "metadata": {},
          "output_type": "execute_result"
        }
      ],
      "source": [
        "calls.head()"
      ]
    },
    {
      "cell_type": "code",
      "execution_count": null,
      "metadata": {
        "id": "Ixf1Nbfd33db",
        "outputId": "a86f96b5-14bf-48e2-834f-f2e04797c991"
      },
      "outputs": [
        {
          "data": {
            "text/html": [
              "<div>\n",
              "<style scoped>\n",
              "    .dataframe tbody tr th:only-of-type {\n",
              "        vertical-align: middle;\n",
              "    }\n",
              "\n",
              "    .dataframe tbody tr th {\n",
              "        vertical-align: top;\n",
              "    }\n",
              "\n",
              "    .dataframe thead th {\n",
              "        text-align: right;\n",
              "    }\n",
              "</style>\n",
              "<table border=\"1\" class=\"dataframe\">\n",
              "  <thead>\n",
              "    <tr style=\"text-align: right;\">\n",
              "      <th></th>\n",
              "      <th>id</th>\n",
              "      <th>message_date</th>\n",
              "      <th>user_id</th>\n",
              "      <th>month</th>\n",
              "    </tr>\n",
              "  </thead>\n",
              "  <tbody>\n",
              "    <tr>\n",
              "      <th>0</th>\n",
              "      <td>1000_0</td>\n",
              "      <td>2018-06-27</td>\n",
              "      <td>1000</td>\n",
              "      <td>6</td>\n",
              "    </tr>\n",
              "    <tr>\n",
              "      <th>1</th>\n",
              "      <td>1000_1</td>\n",
              "      <td>2018-10-08</td>\n",
              "      <td>1000</td>\n",
              "      <td>10</td>\n",
              "    </tr>\n",
              "    <tr>\n",
              "      <th>2</th>\n",
              "      <td>1000_2</td>\n",
              "      <td>2018-08-04</td>\n",
              "      <td>1000</td>\n",
              "      <td>8</td>\n",
              "    </tr>\n",
              "    <tr>\n",
              "      <th>3</th>\n",
              "      <td>1000_3</td>\n",
              "      <td>2018-06-16</td>\n",
              "      <td>1000</td>\n",
              "      <td>6</td>\n",
              "    </tr>\n",
              "    <tr>\n",
              "      <th>4</th>\n",
              "      <td>1000_4</td>\n",
              "      <td>2018-12-05</td>\n",
              "      <td>1000</td>\n",
              "      <td>12</td>\n",
              "    </tr>\n",
              "  </tbody>\n",
              "</table>\n",
              "</div>"
            ],
            "text/plain": [
              "       id message_date  user_id  month\n",
              "0  1000_0   2018-06-27     1000      6\n",
              "1  1000_1   2018-10-08     1000     10\n",
              "2  1000_2   2018-08-04     1000      8\n",
              "3  1000_3   2018-06-16     1000      6\n",
              "4  1000_4   2018-12-05     1000     12"
            ]
          },
          "execution_count": 24,
          "metadata": {},
          "output_type": "execute_result"
        }
      ],
      "source": [
        "messages.head()"
      ]
    },
    {
      "cell_type": "code",
      "execution_count": null,
      "metadata": {
        "id": "Dze2tYdh33db",
        "outputId": "6b3a1fb9-5412-49d8-f6de-27fc75a122a8"
      },
      "outputs": [
        {
          "data": {
            "text/html": [
              "<div>\n",
              "<style scoped>\n",
              "    .dataframe tbody tr th:only-of-type {\n",
              "        vertical-align: middle;\n",
              "    }\n",
              "\n",
              "    .dataframe tbody tr th {\n",
              "        vertical-align: top;\n",
              "    }\n",
              "\n",
              "    .dataframe thead th {\n",
              "        text-align: right;\n",
              "    }\n",
              "</style>\n",
              "<table border=\"1\" class=\"dataframe\">\n",
              "  <thead>\n",
              "    <tr style=\"text-align: right;\">\n",
              "      <th></th>\n",
              "      <th>Unnamed: 0</th>\n",
              "      <th>id</th>\n",
              "      <th>mb_used</th>\n",
              "      <th>session_date</th>\n",
              "      <th>user_id</th>\n",
              "      <th>month</th>\n",
              "    </tr>\n",
              "  </thead>\n",
              "  <tbody>\n",
              "    <tr>\n",
              "      <th>0</th>\n",
              "      <td>0</td>\n",
              "      <td>1000_0</td>\n",
              "      <td>112.95</td>\n",
              "      <td>2018-11-25</td>\n",
              "      <td>1000</td>\n",
              "      <td>11</td>\n",
              "    </tr>\n",
              "    <tr>\n",
              "      <th>1</th>\n",
              "      <td>1</td>\n",
              "      <td>1000_1</td>\n",
              "      <td>1052.81</td>\n",
              "      <td>2018-09-07</td>\n",
              "      <td>1000</td>\n",
              "      <td>9</td>\n",
              "    </tr>\n",
              "    <tr>\n",
              "      <th>2</th>\n",
              "      <td>2</td>\n",
              "      <td>1000_2</td>\n",
              "      <td>1197.26</td>\n",
              "      <td>2018-06-25</td>\n",
              "      <td>1000</td>\n",
              "      <td>6</td>\n",
              "    </tr>\n",
              "    <tr>\n",
              "      <th>3</th>\n",
              "      <td>3</td>\n",
              "      <td>1000_3</td>\n",
              "      <td>550.27</td>\n",
              "      <td>2018-08-22</td>\n",
              "      <td>1000</td>\n",
              "      <td>8</td>\n",
              "    </tr>\n",
              "    <tr>\n",
              "      <th>4</th>\n",
              "      <td>4</td>\n",
              "      <td>1000_4</td>\n",
              "      <td>302.56</td>\n",
              "      <td>2018-09-24</td>\n",
              "      <td>1000</td>\n",
              "      <td>9</td>\n",
              "    </tr>\n",
              "  </tbody>\n",
              "</table>\n",
              "</div>"
            ],
            "text/plain": [
              "   Unnamed: 0      id  mb_used session_date  user_id  month\n",
              "0           0  1000_0   112.95   2018-11-25     1000     11\n",
              "1           1  1000_1  1052.81   2018-09-07     1000      9\n",
              "2           2  1000_2  1197.26   2018-06-25     1000      6\n",
              "3           3  1000_3   550.27   2018-08-22     1000      8\n",
              "4           4  1000_4   302.56   2018-09-24     1000      9"
            ]
          },
          "execution_count": 25,
          "metadata": {},
          "output_type": "execute_result"
        }
      ],
      "source": [
        "internet.head()"
      ]
    },
    {
      "cell_type": "markdown",
      "metadata": {
        "id": "fxo4_Op_33dc"
      },
      "source": [
        "### Проверка на дубликаты"
      ]
    },
    {
      "cell_type": "code",
      "execution_count": null,
      "metadata": {
        "id": "s50lXAlb33dc",
        "outputId": "e3e3e7b3-5981-4889-db19-80a3fad68c2e"
      },
      "outputs": [
        {
          "data": {
            "text/plain": [
              "0"
            ]
          },
          "execution_count": 26,
          "metadata": {},
          "output_type": "execute_result"
        }
      ],
      "source": [
        "users.duplicated().sum()"
      ]
    },
    {
      "cell_type": "code",
      "execution_count": null,
      "metadata": {
        "id": "o4TF415333dc",
        "outputId": "c811a2eb-4b21-4763-d2ef-bb5e8bc9411b"
      },
      "outputs": [
        {
          "data": {
            "text/plain": [
              "0"
            ]
          },
          "execution_count": 27,
          "metadata": {},
          "output_type": "execute_result"
        }
      ],
      "source": [
        "calls.duplicated().sum()"
      ]
    },
    {
      "cell_type": "code",
      "execution_count": null,
      "metadata": {
        "id": "Db3_IJwZ33dc",
        "outputId": "c2ea8b3a-9358-42e8-ca18-ff387c78ea2d"
      },
      "outputs": [
        {
          "data": {
            "text/plain": [
              "0"
            ]
          },
          "execution_count": 28,
          "metadata": {},
          "output_type": "execute_result"
        }
      ],
      "source": [
        "messages.duplicated().sum()"
      ]
    },
    {
      "cell_type": "code",
      "execution_count": null,
      "metadata": {
        "id": "ONvqWdC233dd",
        "outputId": "f1830362-6f37-4691-cce4-dbcb53ae34ba"
      },
      "outputs": [
        {
          "data": {
            "text/plain": [
              "0"
            ]
          },
          "execution_count": 29,
          "metadata": {},
          "output_type": "execute_result"
        }
      ],
      "source": [
        "internet.duplicated().sum()"
      ]
    },
    {
      "cell_type": "markdown",
      "metadata": {
        "id": "RSd2jy-333dd"
      },
      "source": [
        "Дубликатов в данных нет"
      ]
    },
    {
      "cell_type": "markdown",
      "metadata": {
        "id": "76Rg1gUQ33dd"
      },
      "source": [
        "### Проверка нулевых значений в данных длительности звонков в calls и сессий в internet"
      ]
    },
    {
      "cell_type": "markdown",
      "metadata": {
        "id": "haWgP-4V33dd"
      },
      "source": [
        "Посмотрим длительность (duration) в таблице calls"
      ]
    },
    {
      "cell_type": "markdown",
      "metadata": {
        "id": "kh2zkQN233dd"
      },
      "source": [
        "Построим гистрограмму распределелния времени звонков"
      ]
    },
    {
      "cell_type": "code",
      "execution_count": null,
      "metadata": {
        "id": "VTZjhyGL33dd",
        "outputId": "cb49230c-3bcc-4c4a-e85d-f14b6ee28791"
      },
      "outputs": [
        {
          "data": {
            "image/png": "[encoded data removed]",
            "text/plain": [
              "<Figure size 432x288 with 1 Axes>"
            ]
          },
          "metadata": {
            "needs_background": "light"
          },
          "output_type": "display_data"
        }
      ],
      "source": [
        "calls['duration'].plot(kind='hist', ec='black', bins=50)\n",
        "plt.show()"
      ]
    },
    {
      "cell_type": "markdown",
      "metadata": {
        "id": "AYbGplk333de"
      },
      "source": [
        "В описании сказано: «Мегалайн» всегда округляет вверх значения минут и мегабайтов. Если пользователь проговорил всего 1 секунду, в тарифе засчитывается целая минута.\n",
        "Округляем в большую сторону до минуты все звонки при помощи np.ceil:"
      ]
    },
    {
      "cell_type": "code",
      "execution_count": null,
      "metadata": {
        "id": "kTCx7w0V33de",
        "outputId": "d98aa31f-b1e7-43d3-c506-08dcd9b7ad06"
      },
      "outputs": [
        {
          "data": {
            "text/html": [
              "<div>\n",
              "<style scoped>\n",
              "    .dataframe tbody tr th:only-of-type {\n",
              "        vertical-align: middle;\n",
              "    }\n",
              "\n",
              "    .dataframe tbody tr th {\n",
              "        vertical-align: top;\n",
              "    }\n",
              "\n",
              "    .dataframe thead th {\n",
              "        text-align: right;\n",
              "    }\n",
              "</style>\n",
              "<table border=\"1\" class=\"dataframe\">\n",
              "  <thead>\n",
              "    <tr style=\"text-align: right;\">\n",
              "      <th></th>\n",
              "      <th>id</th>\n",
              "      <th>call_date</th>\n",
              "      <th>duration</th>\n",
              "      <th>user_id</th>\n",
              "      <th>month</th>\n",
              "    </tr>\n",
              "  </thead>\n",
              "  <tbody>\n",
              "    <tr>\n",
              "      <th>0</th>\n",
              "      <td>1000_0</td>\n",
              "      <td>2018-07-25</td>\n",
              "      <td>0.0</td>\n",
              "      <td>1000</td>\n",
              "      <td>7</td>\n",
              "    </tr>\n",
              "    <tr>\n",
              "      <th>1</th>\n",
              "      <td>1000_1</td>\n",
              "      <td>2018-08-17</td>\n",
              "      <td>0.0</td>\n",
              "      <td>1000</td>\n",
              "      <td>8</td>\n",
              "    </tr>\n",
              "    <tr>\n",
              "      <th>2</th>\n",
              "      <td>1000_2</td>\n",
              "      <td>2018-06-11</td>\n",
              "      <td>3.0</td>\n",
              "      <td>1000</td>\n",
              "      <td>6</td>\n",
              "    </tr>\n",
              "    <tr>\n",
              "      <th>3</th>\n",
              "      <td>1000_3</td>\n",
              "      <td>2018-09-21</td>\n",
              "      <td>14.0</td>\n",
              "      <td>1000</td>\n",
              "      <td>9</td>\n",
              "    </tr>\n",
              "    <tr>\n",
              "      <th>4</th>\n",
              "      <td>1000_4</td>\n",
              "      <td>2018-12-15</td>\n",
              "      <td>6.0</td>\n",
              "      <td>1000</td>\n",
              "      <td>12</td>\n",
              "    </tr>\n",
              "  </tbody>\n",
              "</table>\n",
              "</div>"
            ],
            "text/plain": [
              "       id  call_date  duration  user_id  month\n",
              "0  1000_0 2018-07-25       0.0     1000      7\n",
              "1  1000_1 2018-08-17       0.0     1000      8\n",
              "2  1000_2 2018-06-11       3.0     1000      6\n",
              "3  1000_3 2018-09-21      14.0     1000      9\n",
              "4  1000_4 2018-12-15       6.0     1000     12"
            ]
          },
          "execution_count": 31,
          "metadata": {},
          "output_type": "execute_result"
        }
      ],
      "source": [
        "calls['duration'] = np.ceil(calls['duration'])\n",
        "calls.head()"
      ]
    },
    {
      "cell_type": "markdown",
      "metadata": {
        "id": "pTo0aj3333df"
      },
      "source": [
        "Повторно смотрим гистограмму"
      ]
    },
    {
      "cell_type": "code",
      "execution_count": null,
      "metadata": {
        "id": "KuGEXkZN33df",
        "outputId": "261d2b04-f36a-4806-9af8-883b060959d0"
      },
      "outputs": [
        {
          "data": {
            "image/png": "[encoded data removed]",
            "text/plain": [
              "<Figure size 432x288 with 1 Axes>"
            ]
          },
          "metadata": {
            "needs_background": "light"
          },
          "output_type": "display_data"
        }
      ],
      "source": [
        "calls['duration'].plot(kind='hist', ec='black', bins=50)\n",
        "plt.show()"
      ]
    },
    {
      "cell_type": "markdown",
      "metadata": {
        "id": "zSybIdbg33df"
      },
      "source": [
        "Пик в области нуля не ушел, только уменьшился, значит это не секундные звонки."
      ]
    },
    {
      "cell_type": "markdown",
      "metadata": {
        "id": "QsQ1IufD33df"
      },
      "source": [
        "Посмотрим отдельно нулевые звонки"
      ]
    },
    {
      "cell_type": "code",
      "execution_count": null,
      "metadata": {
        "id": "gxy7mkJz33df",
        "outputId": "5662040c-3324-4055-c348-02926c9f5405"
      },
      "outputs": [
        {
          "data": {
            "text/html": [
              "<div>\n",
              "<style scoped>\n",
              "    .dataframe tbody tr th:only-of-type {\n",
              "        vertical-align: middle;\n",
              "    }\n",
              "\n",
              "    .dataframe tbody tr th {\n",
              "        vertical-align: top;\n",
              "    }\n",
              "\n",
              "    .dataframe thead th {\n",
              "        text-align: right;\n",
              "    }\n",
              "</style>\n",
              "<table border=\"1\" class=\"dataframe\">\n",
              "  <thead>\n",
              "    <tr style=\"text-align: right;\">\n",
              "      <th></th>\n",
              "      <th>id</th>\n",
              "      <th>call_date</th>\n",
              "      <th>duration</th>\n",
              "      <th>user_id</th>\n",
              "      <th>month</th>\n",
              "    </tr>\n",
              "  </thead>\n",
              "  <tbody>\n",
              "    <tr>\n",
              "      <th>0</th>\n",
              "      <td>1000_0</td>\n",
              "      <td>2018-07-25</td>\n",
              "      <td>0.0</td>\n",
              "      <td>1000</td>\n",
              "      <td>7</td>\n",
              "    </tr>\n",
              "    <tr>\n",
              "      <th>1</th>\n",
              "      <td>1000_1</td>\n",
              "      <td>2018-08-17</td>\n",
              "      <td>0.0</td>\n",
              "      <td>1000</td>\n",
              "      <td>8</td>\n",
              "    </tr>\n",
              "    <tr>\n",
              "      <th>5</th>\n",
              "      <td>1000_5</td>\n",
              "      <td>2018-11-02</td>\n",
              "      <td>0.0</td>\n",
              "      <td>1000</td>\n",
              "      <td>11</td>\n",
              "    </tr>\n",
              "    <tr>\n",
              "      <th>6</th>\n",
              "      <td>1000_6</td>\n",
              "      <td>2018-10-18</td>\n",
              "      <td>0.0</td>\n",
              "      <td>1000</td>\n",
              "      <td>10</td>\n",
              "    </tr>\n",
              "    <tr>\n",
              "      <th>9</th>\n",
              "      <td>1000_9</td>\n",
              "      <td>2018-08-15</td>\n",
              "      <td>0.0</td>\n",
              "      <td>1000</td>\n",
              "      <td>8</td>\n",
              "    </tr>\n",
              "    <tr>\n",
              "      <th>...</th>\n",
              "      <td>...</td>\n",
              "      <td>...</td>\n",
              "      <td>...</td>\n",
              "      <td>...</td>\n",
              "      <td>...</td>\n",
              "    </tr>\n",
              "    <tr>\n",
              "      <th>202590</th>\n",
              "      <td>1499_203</td>\n",
              "      <td>2018-12-03</td>\n",
              "      <td>0.0</td>\n",
              "      <td>1499</td>\n",
              "      <td>12</td>\n",
              "    </tr>\n",
              "    <tr>\n",
              "      <th>202592</th>\n",
              "      <td>1499_205</td>\n",
              "      <td>2018-10-13</td>\n",
              "      <td>0.0</td>\n",
              "      <td>1499</td>\n",
              "      <td>10</td>\n",
              "    </tr>\n",
              "    <tr>\n",
              "      <th>202593</th>\n",
              "      <td>1499_206</td>\n",
              "      <td>2018-12-26</td>\n",
              "      <td>0.0</td>\n",
              "      <td>1499</td>\n",
              "      <td>12</td>\n",
              "    </tr>\n",
              "    <tr>\n",
              "      <th>202594</th>\n",
              "      <td>1499_207</td>\n",
              "      <td>2018-10-28</td>\n",
              "      <td>0.0</td>\n",
              "      <td>1499</td>\n",
              "      <td>10</td>\n",
              "    </tr>\n",
              "    <tr>\n",
              "      <th>202596</th>\n",
              "      <td>1499_209</td>\n",
              "      <td>2018-12-16</td>\n",
              "      <td>0.0</td>\n",
              "      <td>1499</td>\n",
              "      <td>12</td>\n",
              "    </tr>\n",
              "  </tbody>\n",
              "</table>\n",
              "<p>39613 rows × 5 columns</p>\n",
              "</div>"
            ],
            "text/plain": [
              "              id  call_date  duration  user_id  month\n",
              "0         1000_0 2018-07-25       0.0     1000      7\n",
              "1         1000_1 2018-08-17       0.0     1000      8\n",
              "5         1000_5 2018-11-02       0.0     1000     11\n",
              "6         1000_6 2018-10-18       0.0     1000     10\n",
              "9         1000_9 2018-08-15       0.0     1000      8\n",
              "...          ...        ...       ...      ...    ...\n",
              "202590  1499_203 2018-12-03       0.0     1499     12\n",
              "202592  1499_205 2018-10-13       0.0     1499     10\n",
              "202593  1499_206 2018-12-26       0.0     1499     12\n",
              "202594  1499_207 2018-10-28       0.0     1499     10\n",
              "202596  1499_209 2018-12-16       0.0     1499     12\n",
              "\n",
              "[39613 rows x 5 columns]"
            ]
          },
          "execution_count": 33,
          "metadata": {},
          "output_type": "execute_result"
        }
      ],
      "source": [
        "calls.query('duration == 0.0')"
      ]
    },
    {
      "cell_type": "markdown",
      "metadata": {
        "id": "n8OrHFCK33df"
      },
      "source": [
        "Почти 40000 строк. Скорее всего это \"не дозвонившиеся\" из-за прерывания связи или \"занято\" у абонента, кому звонили.\n",
        "В описании проекта сказано, что \"В данных вы найдёте звонки с нулевой продолжительностью. Это не ошибка: нулями обозначены пропущенные звонки, поэтому их не нужно удалять\". Оставим как есть"
      ]
    },
    {
      "cell_type": "markdown",
      "metadata": {
        "id": "V-V3_L_L33dg"
      },
      "source": [
        "Посмотрим нулевые значения в расходовании трафика (mb_used ) в таблице  internet"
      ]
    },
    {
      "cell_type": "markdown",
      "metadata": {
        "id": "tfA16Rsz33dg"
      },
      "source": [
        "Построим гистограмму распределения использования интернет-трафика"
      ]
    },
    {
      "cell_type": "code",
      "execution_count": null,
      "metadata": {
        "id": "Ks2280HP33dg",
        "outputId": "f34eaafc-8eac-4451-e1b6-292b2e45204f"
      },
      "outputs": [
        {
          "data": {
            "image/png": "[encoded data removed]",
            "text/plain": [
              "<Figure size 432x288 with 1 Axes>"
            ]
          },
          "metadata": {
            "needs_background": "light"
          },
          "output_type": "display_data"
        }
      ],
      "source": [
        "internet['mb_used'].plot(kind='hist', ec='black', bins=50)\n",
        "plt.show()"
      ]
    },
    {
      "cell_type": "markdown",
      "metadata": {
        "id": "yeApDR6P33dg"
      },
      "source": [
        "Ожидаемый вид гистограммы, схожий по распределению с длительностью звонков. В описании сказано: «Мегалайн» всегда округляет вверх значения минут и мегабайтов. \n",
        "Округляем в большую сторону до минуты все звонки при помощи np.ceil:"
      ]
    },
    {
      "cell_type": "code",
      "execution_count": null,
      "metadata": {
        "id": "4GiHWbvU33dh",
        "outputId": "b990a9b6-d5e9-43fa-8ea2-757c7727e07b"
      },
      "outputs": [
        {
          "data": {
            "text/html": [
              "<div>\n",
              "<style scoped>\n",
              "    .dataframe tbody tr th:only-of-type {\n",
              "        vertical-align: middle;\n",
              "    }\n",
              "\n",
              "    .dataframe tbody tr th {\n",
              "        vertical-align: top;\n",
              "    }\n",
              "\n",
              "    .dataframe thead th {\n",
              "        text-align: right;\n",
              "    }\n",
              "</style>\n",
              "<table border=\"1\" class=\"dataframe\">\n",
              "  <thead>\n",
              "    <tr style=\"text-align: right;\">\n",
              "      <th></th>\n",
              "      <th>Unnamed: 0</th>\n",
              "      <th>id</th>\n",
              "      <th>mb_used</th>\n",
              "      <th>session_date</th>\n",
              "      <th>user_id</th>\n",
              "      <th>month</th>\n",
              "    </tr>\n",
              "  </thead>\n",
              "  <tbody>\n",
              "    <tr>\n",
              "      <th>0</th>\n",
              "      <td>0</td>\n",
              "      <td>1000_0</td>\n",
              "      <td>113.0</td>\n",
              "      <td>2018-11-25</td>\n",
              "      <td>1000</td>\n",
              "      <td>11</td>\n",
              "    </tr>\n",
              "    <tr>\n",
              "      <th>1</th>\n",
              "      <td>1</td>\n",
              "      <td>1000_1</td>\n",
              "      <td>1053.0</td>\n",
              "      <td>2018-09-07</td>\n",
              "      <td>1000</td>\n",
              "      <td>9</td>\n",
              "    </tr>\n",
              "    <tr>\n",
              "      <th>2</th>\n",
              "      <td>2</td>\n",
              "      <td>1000_2</td>\n",
              "      <td>1198.0</td>\n",
              "      <td>2018-06-25</td>\n",
              "      <td>1000</td>\n",
              "      <td>6</td>\n",
              "    </tr>\n",
              "    <tr>\n",
              "      <th>3</th>\n",
              "      <td>3</td>\n",
              "      <td>1000_3</td>\n",
              "      <td>551.0</td>\n",
              "      <td>2018-08-22</td>\n",
              "      <td>1000</td>\n",
              "      <td>8</td>\n",
              "    </tr>\n",
              "    <tr>\n",
              "      <th>4</th>\n",
              "      <td>4</td>\n",
              "      <td>1000_4</td>\n",
              "      <td>303.0</td>\n",
              "      <td>2018-09-24</td>\n",
              "      <td>1000</td>\n",
              "      <td>9</td>\n",
              "    </tr>\n",
              "  </tbody>\n",
              "</table>\n",
              "</div>"
            ],
            "text/plain": [
              "   Unnamed: 0      id  mb_used session_date  user_id  month\n",
              "0           0  1000_0    113.0   2018-11-25     1000     11\n",
              "1           1  1000_1   1053.0   2018-09-07     1000      9\n",
              "2           2  1000_2   1198.0   2018-06-25     1000      6\n",
              "3           3  1000_3    551.0   2018-08-22     1000      8\n",
              "4           4  1000_4    303.0   2018-09-24     1000      9"
            ]
          },
          "execution_count": 35,
          "metadata": {},
          "output_type": "execute_result"
        }
      ],
      "source": [
        "internet['mb_used'] = internet['mb_used'].apply(np.ceil)\n",
        "internet.head()"
      ]
    },
    {
      "cell_type": "markdown",
      "metadata": {
        "id": "hYKR1Er933dh"
      },
      "source": [
        "Повторно смотрим гистограмму"
      ]
    },
    {
      "cell_type": "code",
      "execution_count": null,
      "metadata": {
        "id": "IUZL0c5i33dh",
        "outputId": "e57abed7-190a-43a1-d7f3-cba0ecdad882"
      },
      "outputs": [
        {
          "data": {
            "image/png": "[encoded data removed]",
            "text/plain": [
              "<Figure size 432x288 with 1 Axes>"
            ]
          },
          "metadata": {
            "needs_background": "light"
          },
          "output_type": "display_data"
        }
      ],
      "source": [
        "internet['mb_used'].plot(kind='hist', ec='black', bins=50)\n",
        "plt.show()"
      ]
    },
    {
      "cell_type": "markdown",
      "metadata": {
        "id": "YwjCn2qJ33dh"
      },
      "source": [
        "Пик даже не уменьшился"
      ]
    },
    {
      "cell_type": "markdown",
      "metadata": {
        "id": "usLTIYlA33dh"
      },
      "source": [
        "Посмотрим отдельно нулевой трафик"
      ]
    },
    {
      "cell_type": "code",
      "execution_count": null,
      "metadata": {
        "id": "BlHc6puC33di",
        "outputId": "1eaa7eda-f6ae-47bf-d9f1-2fde6a6aafa3"
      },
      "outputs": [
        {
          "data": {
            "text/html": [
              "<div>\n",
              "<style scoped>\n",
              "    .dataframe tbody tr th:only-of-type {\n",
              "        vertical-align: middle;\n",
              "    }\n",
              "\n",
              "    .dataframe tbody tr th {\n",
              "        vertical-align: top;\n",
              "    }\n",
              "\n",
              "    .dataframe thead th {\n",
              "        text-align: right;\n",
              "    }\n",
              "</style>\n",
              "<table border=\"1\" class=\"dataframe\">\n",
              "  <thead>\n",
              "    <tr style=\"text-align: right;\">\n",
              "      <th></th>\n",
              "      <th>Unnamed: 0</th>\n",
              "      <th>id</th>\n",
              "      <th>mb_used</th>\n",
              "      <th>session_date</th>\n",
              "      <th>user_id</th>\n",
              "      <th>month</th>\n",
              "    </tr>\n",
              "  </thead>\n",
              "  <tbody>\n",
              "    <tr>\n",
              "      <th>11</th>\n",
              "      <td>11</td>\n",
              "      <td>1000_11</td>\n",
              "      <td>0.0</td>\n",
              "      <td>2018-08-28</td>\n",
              "      <td>1000</td>\n",
              "      <td>8</td>\n",
              "    </tr>\n",
              "    <tr>\n",
              "      <th>38</th>\n",
              "      <td>38</td>\n",
              "      <td>1000_38</td>\n",
              "      <td>0.0</td>\n",
              "      <td>2018-11-27</td>\n",
              "      <td>1000</td>\n",
              "      <td>11</td>\n",
              "    </tr>\n",
              "    <tr>\n",
              "      <th>46</th>\n",
              "      <td>46</td>\n",
              "      <td>1000_46</td>\n",
              "      <td>0.0</td>\n",
              "      <td>2018-06-30</td>\n",
              "      <td>1000</td>\n",
              "      <td>6</td>\n",
              "    </tr>\n",
              "    <tr>\n",
              "      <th>67</th>\n",
              "      <td>67</td>\n",
              "      <td>1000_67</td>\n",
              "      <td>0.0</td>\n",
              "      <td>2018-06-16</td>\n",
              "      <td>1000</td>\n",
              "      <td>6</td>\n",
              "    </tr>\n",
              "    <tr>\n",
              "      <th>72</th>\n",
              "      <td>72</td>\n",
              "      <td>1000_72</td>\n",
              "      <td>0.0</td>\n",
              "      <td>2018-06-15</td>\n",
              "      <td>1000</td>\n",
              "      <td>6</td>\n",
              "    </tr>\n",
              "    <tr>\n",
              "      <th>...</th>\n",
              "      <td>...</td>\n",
              "      <td>...</td>\n",
              "      <td>...</td>\n",
              "      <td>...</td>\n",
              "      <td>...</td>\n",
              "      <td>...</td>\n",
              "    </tr>\n",
              "    <tr>\n",
              "      <th>149380</th>\n",
              "      <td>149380</td>\n",
              "      <td>1499_141</td>\n",
              "      <td>0.0</td>\n",
              "      <td>2018-12-11</td>\n",
              "      <td>1499</td>\n",
              "      <td>12</td>\n",
              "    </tr>\n",
              "    <tr>\n",
              "      <th>149381</th>\n",
              "      <td>149381</td>\n",
              "      <td>1499_142</td>\n",
              "      <td>0.0</td>\n",
              "      <td>2018-11-01</td>\n",
              "      <td>1499</td>\n",
              "      <td>11</td>\n",
              "    </tr>\n",
              "    <tr>\n",
              "      <th>149383</th>\n",
              "      <td>149383</td>\n",
              "      <td>1499_144</td>\n",
              "      <td>0.0</td>\n",
              "      <td>2018-11-27</td>\n",
              "      <td>1499</td>\n",
              "      <td>11</td>\n",
              "    </tr>\n",
              "    <tr>\n",
              "      <th>149386</th>\n",
              "      <td>149386</td>\n",
              "      <td>1499_147</td>\n",
              "      <td>0.0</td>\n",
              "      <td>2018-10-21</td>\n",
              "      <td>1499</td>\n",
              "      <td>10</td>\n",
              "    </tr>\n",
              "    <tr>\n",
              "      <th>149393</th>\n",
              "      <td>149393</td>\n",
              "      <td>1499_154</td>\n",
              "      <td>0.0</td>\n",
              "      <td>2018-10-27</td>\n",
              "      <td>1499</td>\n",
              "      <td>10</td>\n",
              "    </tr>\n",
              "  </tbody>\n",
              "</table>\n",
              "<p>19598 rows × 6 columns</p>\n",
              "</div>"
            ],
            "text/plain": [
              "        Unnamed: 0        id  mb_used session_date  user_id  month\n",
              "11              11   1000_11      0.0   2018-08-28     1000      8\n",
              "38              38   1000_38      0.0   2018-11-27     1000     11\n",
              "46              46   1000_46      0.0   2018-06-30     1000      6\n",
              "67              67   1000_67      0.0   2018-06-16     1000      6\n",
              "72              72   1000_72      0.0   2018-06-15     1000      6\n",
              "...            ...       ...      ...          ...      ...    ...\n",
              "149380      149380  1499_141      0.0   2018-12-11     1499     12\n",
              "149381      149381  1499_142      0.0   2018-11-01     1499     11\n",
              "149383      149383  1499_144      0.0   2018-11-27     1499     11\n",
              "149386      149386  1499_147      0.0   2018-10-21     1499     10\n",
              "149393      149393  1499_154      0.0   2018-10-27     1499     10\n",
              "\n",
              "[19598 rows x 6 columns]"
            ]
          },
          "execution_count": 37,
          "metadata": {},
          "output_type": "execute_result"
        }
      ],
      "source": [
        "internet.query('mb_used == 0')"
      ]
    },
    {
      "cell_type": "markdown",
      "metadata": {
        "id": "WuRyv3HP33di"
      },
      "source": [
        "Строк с нулевым трафиком почти 20000. Скорее всего это сессии, когда подключение к интернету было включено, но в дальнейшем ни одной операции произведено не было. Удалим эти строки."
      ]
    },
    {
      "cell_type": "code",
      "execution_count": null,
      "metadata": {
        "id": "R4xhR-pZ33di"
      },
      "outputs": [],
      "source": [
        "internet['mb_used'] = internet['mb_used'].replace(0, np.NaN)\n",
        "internet = internet.dropna()"
      ]
    },
    {
      "cell_type": "code",
      "execution_count": null,
      "metadata": {
        "id": "0_42t2DX33di",
        "outputId": "8d0de8f7-42d0-4e0b-c2d8-0ac15bbee7d6"
      },
      "outputs": [
        {
          "data": {
            "image/png": "[encoded data removed]",
            "text/plain": [
              "<Figure size 432x288 with 1 Axes>"
            ]
          },
          "metadata": {
            "needs_background": "light"
          },
          "output_type": "display_data"
        }
      ],
      "source": [
        "internet['mb_used'].plot(kind='hist', ec='black', bins=50)\n",
        "plt.show()"
      ]
    },
    {
      "cell_type": "markdown",
      "metadata": {
        "id": "nkhsROtL33di"
      },
      "source": [
        "Удалили нуливые сессии и звонки из данных."
      ]
    },
    {
      "cell_type": "markdown",
      "metadata": {
        "id": "8D41EwaG33dj"
      },
      "source": [
        "##  Подготовка данных"
      ]
    },
    {
      "cell_type": "markdown",
      "metadata": {
        "id": "ILPCICAj33dj"
      },
      "source": [
        "### Подсчет для каждого пользователя количества сделанных звонков и израсходованных минут разговора по месяцам"
      ]
    },
    {
      "cell_type": "markdown",
      "metadata": {
        "id": "52jXxMBu33dj"
      },
      "source": [
        "Создадим новую таблицу с подсчетом суммарной длительности звонков и количества звонков для каждого пользователя по месяцам"
      ]
    },
    {
      "cell_type": "code",
      "execution_count": null,
      "metadata": {
        "id": "sBcX9zEv33dj"
      },
      "outputs": [],
      "source": [
        "user_calls = calls.groupby(['user_id', 'month'])\\\n",
        "                  .agg({'duration':'sum', 'id':'count'})\\\n",
        "                  .reset_index()\\\n",
        "                  .rename(columns={'duration':'month_calls_duration','id':'calls_total_in_month'})"
      ]
    },
    {
      "cell_type": "code",
      "execution_count": null,
      "metadata": {
        "id": "3JcpBEob33dk",
        "outputId": "c348f650-1e87-4c62-d9fc-9e905358a5ac"
      },
      "outputs": [
        {
          "data": {
            "text/html": [
              "<div>\n",
              "<style scoped>\n",
              "    .dataframe tbody tr th:only-of-type {\n",
              "        vertical-align: middle;\n",
              "    }\n",
              "\n",
              "    .dataframe tbody tr th {\n",
              "        vertical-align: top;\n",
              "    }\n",
              "\n",
              "    .dataframe thead th {\n",
              "        text-align: right;\n",
              "    }\n",
              "</style>\n",
              "<table border=\"1\" class=\"dataframe\">\n",
              "  <thead>\n",
              "    <tr style=\"text-align: right;\">\n",
              "      <th></th>\n",
              "      <th>user_id</th>\n",
              "      <th>month</th>\n",
              "      <th>month_calls_duration</th>\n",
              "      <th>calls_total_in_month</th>\n",
              "    </tr>\n",
              "  </thead>\n",
              "  <tbody>\n",
              "    <tr>\n",
              "      <th>1473</th>\n",
              "      <td>1237</td>\n",
              "      <td>12</td>\n",
              "      <td>590.0</td>\n",
              "      <td>81</td>\n",
              "    </tr>\n",
              "    <tr>\n",
              "      <th>2981</th>\n",
              "      <td>1468</td>\n",
              "      <td>10</td>\n",
              "      <td>195.0</td>\n",
              "      <td>26</td>\n",
              "    </tr>\n",
              "    <tr>\n",
              "      <th>3111</th>\n",
              "      <td>1487</td>\n",
              "      <td>12</td>\n",
              "      <td>155.0</td>\n",
              "      <td>30</td>\n",
              "    </tr>\n",
              "    <tr>\n",
              "      <th>1762</th>\n",
              "      <td>1282</td>\n",
              "      <td>8</td>\n",
              "      <td>672.0</td>\n",
              "      <td>94</td>\n",
              "    </tr>\n",
              "    <tr>\n",
              "      <th>3051</th>\n",
              "      <td>1478</td>\n",
              "      <td>11</td>\n",
              "      <td>249.0</td>\n",
              "      <td>33</td>\n",
              "    </tr>\n",
              "    <tr>\n",
              "      <th>2774</th>\n",
              "      <td>1434</td>\n",
              "      <td>12</td>\n",
              "      <td>560.0</td>\n",
              "      <td>81</td>\n",
              "    </tr>\n",
              "    <tr>\n",
              "      <th>2584</th>\n",
              "      <td>1408</td>\n",
              "      <td>6</td>\n",
              "      <td>597.0</td>\n",
              "      <td>83</td>\n",
              "    </tr>\n",
              "    <tr>\n",
              "      <th>2518</th>\n",
              "      <td>1396</td>\n",
              "      <td>5</td>\n",
              "      <td>473.0</td>\n",
              "      <td>66</td>\n",
              "    </tr>\n",
              "    <tr>\n",
              "      <th>2335</th>\n",
              "      <td>1374</td>\n",
              "      <td>10</td>\n",
              "      <td>617.0</td>\n",
              "      <td>72</td>\n",
              "    </tr>\n",
              "    <tr>\n",
              "      <th>452</th>\n",
              "      <td>1071</td>\n",
              "      <td>4</td>\n",
              "      <td>321.0</td>\n",
              "      <td>36</td>\n",
              "    </tr>\n",
              "  </tbody>\n",
              "</table>\n",
              "</div>"
            ],
            "text/plain": [
              "      user_id  month  month_calls_duration  calls_total_in_month\n",
              "1473     1237     12                 590.0                    81\n",
              "2981     1468     10                 195.0                    26\n",
              "3111     1487     12                 155.0                    30\n",
              "1762     1282      8                 672.0                    94\n",
              "3051     1478     11                 249.0                    33\n",
              "2774     1434     12                 560.0                    81\n",
              "2584     1408      6                 597.0                    83\n",
              "2518     1396      5                 473.0                    66\n",
              "2335     1374     10                 617.0                    72\n",
              "452      1071      4                 321.0                    36"
            ]
          },
          "execution_count": 41,
          "metadata": {},
          "output_type": "execute_result"
        }
      ],
      "source": [
        "user_calls.sample(10)"
      ]
    },
    {
      "cell_type": "markdown",
      "metadata": {
        "id": "0PkU_-8r33dk"
      },
      "source": [
        "### Подсчет для каждого пользователя количества отправленных сообщений по месяцам"
      ]
    },
    {
      "cell_type": "code",
      "execution_count": null,
      "metadata": {
        "id": "HO-1mW6v33dk"
      },
      "outputs": [],
      "source": [
        "user_messages = messages.groupby(['user_id', 'month'])\\\n",
        "                  .agg({'id':'count'})\\\n",
        "                  .reset_index()\\\n",
        "                  .rename(columns={'id':'message_total_in_month'})"
      ]
    },
    {
      "cell_type": "code",
      "execution_count": null,
      "metadata": {
        "id": "ksGs6Zxq33dk",
        "outputId": "f7adeace-b1bc-4af7-d2f1-78d593c8b735"
      },
      "outputs": [
        {
          "data": {
            "text/html": [
              "<div>\n",
              "<style scoped>\n",
              "    .dataframe tbody tr th:only-of-type {\n",
              "        vertical-align: middle;\n",
              "    }\n",
              "\n",
              "    .dataframe tbody tr th {\n",
              "        vertical-align: top;\n",
              "    }\n",
              "\n",
              "    .dataframe thead th {\n",
              "        text-align: right;\n",
              "    }\n",
              "</style>\n",
              "<table border=\"1\" class=\"dataframe\">\n",
              "  <thead>\n",
              "    <tr style=\"text-align: right;\">\n",
              "      <th></th>\n",
              "      <th>user_id</th>\n",
              "      <th>month</th>\n",
              "      <th>message_total_in_month</th>\n",
              "    </tr>\n",
              "  </thead>\n",
              "  <tbody>\n",
              "    <tr>\n",
              "      <th>1592</th>\n",
              "      <td>1308</td>\n",
              "      <td>10</td>\n",
              "      <td>35</td>\n",
              "    </tr>\n",
              "    <tr>\n",
              "      <th>703</th>\n",
              "      <td>1133</td>\n",
              "      <td>12</td>\n",
              "      <td>31</td>\n",
              "    </tr>\n",
              "    <tr>\n",
              "      <th>1771</th>\n",
              "      <td>1338</td>\n",
              "      <td>5</td>\n",
              "      <td>21</td>\n",
              "    </tr>\n",
              "    <tr>\n",
              "      <th>1866</th>\n",
              "      <td>1356</td>\n",
              "      <td>5</td>\n",
              "      <td>133</td>\n",
              "    </tr>\n",
              "    <tr>\n",
              "      <th>1964</th>\n",
              "      <td>1375</td>\n",
              "      <td>7</td>\n",
              "      <td>65</td>\n",
              "    </tr>\n",
              "    <tr>\n",
              "      <th>238</th>\n",
              "      <td>1045</td>\n",
              "      <td>3</td>\n",
              "      <td>58</td>\n",
              "    </tr>\n",
              "    <tr>\n",
              "      <th>2049</th>\n",
              "      <td>1385</td>\n",
              "      <td>11</td>\n",
              "      <td>126</td>\n",
              "    </tr>\n",
              "    <tr>\n",
              "      <th>1050</th>\n",
              "      <td>1197</td>\n",
              "      <td>11</td>\n",
              "      <td>25</td>\n",
              "    </tr>\n",
              "    <tr>\n",
              "      <th>650</th>\n",
              "      <td>1122</td>\n",
              "      <td>11</td>\n",
              "      <td>83</td>\n",
              "    </tr>\n",
              "    <tr>\n",
              "      <th>576</th>\n",
              "      <td>1104</td>\n",
              "      <td>10</td>\n",
              "      <td>73</td>\n",
              "    </tr>\n",
              "  </tbody>\n",
              "</table>\n",
              "</div>"
            ],
            "text/plain": [
              "      user_id  month  message_total_in_month\n",
              "1592     1308     10                      35\n",
              "703      1133     12                      31\n",
              "1771     1338      5                      21\n",
              "1866     1356      5                     133\n",
              "1964     1375      7                      65\n",
              "238      1045      3                      58\n",
              "2049     1385     11                     126\n",
              "1050     1197     11                      25\n",
              "650      1122     11                      83\n",
              "576      1104     10                      73"
            ]
          },
          "execution_count": 43,
          "metadata": {},
          "output_type": "execute_result"
        }
      ],
      "source": [
        "user_messages.sample(10)"
      ]
    },
    {
      "cell_type": "markdown",
      "metadata": {
        "id": "M6TEGyIW33dk"
      },
      "source": [
        "### Подсчет для каждого пользователя объема израсходованного интернет-трафика по месяцам"
      ]
    },
    {
      "cell_type": "code",
      "execution_count": null,
      "metadata": {
        "id": "3gthUD0V33dl"
      },
      "outputs": [],
      "source": [
        "user_mb_internet = internet.groupby(['user_id', 'month'])\\\n",
        "                        .agg({'mb_used':'sum'})\\\n",
        "                        .reset_index()\\\n",
        "                        .rename(columns={'mb_used':'mb_total_in_month'})"
      ]
    },
    {
      "cell_type": "code",
      "execution_count": null,
      "metadata": {
        "id": "LhBbqSPk33dl",
        "outputId": "617dc3f2-c991-4ecc-b970-6ce4e44a02e0"
      },
      "outputs": [
        {
          "data": {
            "text/html": [
              "<div>\n",
              "<style scoped>\n",
              "    .dataframe tbody tr th:only-of-type {\n",
              "        vertical-align: middle;\n",
              "    }\n",
              "\n",
              "    .dataframe tbody tr th {\n",
              "        vertical-align: top;\n",
              "    }\n",
              "\n",
              "    .dataframe thead th {\n",
              "        text-align: right;\n",
              "    }\n",
              "</style>\n",
              "<table border=\"1\" class=\"dataframe\">\n",
              "  <thead>\n",
              "    <tr style=\"text-align: right;\">\n",
              "      <th></th>\n",
              "      <th>user_id</th>\n",
              "      <th>month</th>\n",
              "      <th>mb_total_in_month</th>\n",
              "    </tr>\n",
              "  </thead>\n",
              "  <tbody>\n",
              "    <tr>\n",
              "      <th>2691</th>\n",
              "      <td>1421</td>\n",
              "      <td>12</td>\n",
              "      <td>14625.0</td>\n",
              "    </tr>\n",
              "    <tr>\n",
              "      <th>3079</th>\n",
              "      <td>1479</td>\n",
              "      <td>11</td>\n",
              "      <td>22467.0</td>\n",
              "    </tr>\n",
              "    <tr>\n",
              "      <th>2207</th>\n",
              "      <td>1352</td>\n",
              "      <td>5</td>\n",
              "      <td>17735.0</td>\n",
              "    </tr>\n",
              "    <tr>\n",
              "      <th>354</th>\n",
              "      <td>1056</td>\n",
              "      <td>5</td>\n",
              "      <td>17452.0</td>\n",
              "    </tr>\n",
              "    <tr>\n",
              "      <th>2118</th>\n",
              "      <td>1335</td>\n",
              "      <td>11</td>\n",
              "      <td>15164.0</td>\n",
              "    </tr>\n",
              "    <tr>\n",
              "      <th>1378</th>\n",
              "      <td>1217</td>\n",
              "      <td>4</td>\n",
              "      <td>17190.0</td>\n",
              "    </tr>\n",
              "    <tr>\n",
              "      <th>2488</th>\n",
              "      <td>1391</td>\n",
              "      <td>12</td>\n",
              "      <td>28697.0</td>\n",
              "    </tr>\n",
              "    <tr>\n",
              "      <th>2415</th>\n",
              "      <td>1381</td>\n",
              "      <td>4</td>\n",
              "      <td>28383.0</td>\n",
              "    </tr>\n",
              "    <tr>\n",
              "      <th>2738</th>\n",
              "      <td>1428</td>\n",
              "      <td>8</td>\n",
              "      <td>7044.0</td>\n",
              "    </tr>\n",
              "    <tr>\n",
              "      <th>527</th>\n",
              "      <td>1083</td>\n",
              "      <td>11</td>\n",
              "      <td>19406.0</td>\n",
              "    </tr>\n",
              "  </tbody>\n",
              "</table>\n",
              "</div>"
            ],
            "text/plain": [
              "      user_id  month  mb_total_in_month\n",
              "2691     1421     12            14625.0\n",
              "3079     1479     11            22467.0\n",
              "2207     1352      5            17735.0\n",
              "354      1056      5            17452.0\n",
              "2118     1335     11            15164.0\n",
              "1378     1217      4            17190.0\n",
              "2488     1391     12            28697.0\n",
              "2415     1381      4            28383.0\n",
              "2738     1428      8             7044.0\n",
              "527      1083     11            19406.0"
            ]
          },
          "execution_count": 45,
          "metadata": {},
          "output_type": "execute_result"
        }
      ],
      "source": [
        "user_mb_internet.sample(10)"
      ]
    },
    {
      "cell_type": "markdown",
      "metadata": {
        "id": "aNX23Kf133dl"
      },
      "source": [
        "### Подсчет помесячной выручки с каждого пользователя "
      ]
    },
    {
      "cell_type": "markdown",
      "metadata": {
        "id": "dh65M-N-33dl"
      },
      "source": [
        "Возьмем из каждого имеющегося датафрейма нужную информацию и склеим эти данные в один датафрейм df_users"
      ]
    },
    {
      "cell_type": "code",
      "execution_count": null,
      "metadata": {
        "id": "94LtRPf733dl"
      },
      "outputs": [],
      "source": [
        "df_users = user_calls.merge(user_messages, on = ['user_id','month'], how = 'outer')  #  количество звонков и сообщений для каждого пользователя"
      ]
    },
    {
      "cell_type": "code",
      "execution_count": null,
      "metadata": {
        "id": "V1XbKpTn33dm"
      },
      "outputs": [],
      "source": [
        "df_users = df_users.merge(user_mb_internet, on=['user_id','month'], how = 'outer') # присоединим общий траффик "
      ]
    },
    {
      "cell_type": "code",
      "execution_count": null,
      "metadata": {
        "id": "dMe27eLI33dm"
      },
      "outputs": [],
      "source": [
        "df_users = df_users.merge(users, on='user_id', how='left') # присоединим пользователя"
      ]
    },
    {
      "cell_type": "code",
      "execution_count": null,
      "metadata": {
        "id": "obqtaswQ33dn",
        "outputId": "2ffd7379-6ea4-46c8-9aed-8d7ed3e1e323"
      },
      "outputs": [
        {
          "data": {
            "text/plain": [
              "Index(['user_id', 'month_x', 'month_calls_duration', 'calls_total_in_month',\n",
              "       'message_total_in_month', 'mb_total_in_month', 'age', 'churn_date',\n",
              "       'city', 'first_name', 'last_name', 'reg_date', 'tariff', 'month_y'],\n",
              "      dtype='object')"
            ]
          },
          "execution_count": 49,
          "metadata": {},
          "output_type": "execute_result"
        }
      ],
      "source": [
        "df_users.columns"
      ]
    },
    {
      "cell_type": "code",
      "execution_count": null,
      "metadata": {
        "id": "t3B79o9y33dn",
        "outputId": "e74b95ec-1b1b-4816-e877-bdddde892796"
      },
      "outputs": [
        {
          "data": {
            "text/plain": [
              "Index(['messages_included', 'mb_per_month_included', 'minutes_included',\n",
              "       'rub_monthly_fee', 'rub_per_gb', 'rub_per_message', 'rub_per_minute',\n",
              "       'tariff_name'],\n",
              "      dtype='object')"
            ]
          },
          "execution_count": 50,
          "metadata": {},
          "output_type": "execute_result"
        }
      ],
      "source": [
        "tariffs.columns"
      ]
    },
    {
      "cell_type": "markdown",
      "metadata": {
        "id": "caWKqold33dn"
      },
      "source": [
        "Для присоединения тарифа к таблице, необходимо изменить наименование столбца df_users (от users) c \"tariff\" на \"tariff_name\" для склеивания"
      ]
    },
    {
      "cell_type": "code",
      "execution_count": null,
      "metadata": {
        "id": "kCELZ2qX33dn"
      },
      "outputs": [],
      "source": [
        "df_users = df_users.rename(columns={'tariff':'tariff_name'})"
      ]
    },
    {
      "cell_type": "code",
      "execution_count": null,
      "metadata": {
        "id": "vN536FDl33dn"
      },
      "outputs": [],
      "source": [
        "df_users = df_users.merge(tariffs, on='tariff_name', how='left') # тариф присоединяем"
      ]
    },
    {
      "cell_type": "code",
      "execution_count": null,
      "metadata": {
        "id": "3P-stkAe33do",
        "outputId": "99f521c8-598f-434d-d1db-37cb38c73151"
      },
      "outputs": [
        {
          "data": {
            "text/html": [
              "<div>\n",
              "<style scoped>\n",
              "    .dataframe tbody tr th:only-of-type {\n",
              "        vertical-align: middle;\n",
              "    }\n",
              "\n",
              "    .dataframe tbody tr th {\n",
              "        vertical-align: top;\n",
              "    }\n",
              "\n",
              "    .dataframe thead th {\n",
              "        text-align: right;\n",
              "    }\n",
              "</style>\n",
              "<table border=\"1\" class=\"dataframe\">\n",
              "  <thead>\n",
              "    <tr style=\"text-align: right;\">\n",
              "      <th></th>\n",
              "      <th>user_id</th>\n",
              "      <th>month_x</th>\n",
              "      <th>month_calls_duration</th>\n",
              "      <th>calls_total_in_month</th>\n",
              "      <th>message_total_in_month</th>\n",
              "      <th>mb_total_in_month</th>\n",
              "      <th>age</th>\n",
              "      <th>churn_date</th>\n",
              "      <th>city</th>\n",
              "      <th>first_name</th>\n",
              "      <th>...</th>\n",
              "      <th>reg_date</th>\n",
              "      <th>tariff_name</th>\n",
              "      <th>month_y</th>\n",
              "      <th>messages_included</th>\n",
              "      <th>mb_per_month_included</th>\n",
              "      <th>minutes_included</th>\n",
              "      <th>rub_monthly_fee</th>\n",
              "      <th>rub_per_gb</th>\n",
              "      <th>rub_per_message</th>\n",
              "      <th>rub_per_minute</th>\n",
              "    </tr>\n",
              "  </thead>\n",
              "  <tbody>\n",
              "    <tr>\n",
              "      <th>0</th>\n",
              "      <td>1000</td>\n",
              "      <td>5</td>\n",
              "      <td>159.0</td>\n",
              "      <td>22.0</td>\n",
              "      <td>22.0</td>\n",
              "      <td>2256.0</td>\n",
              "      <td>52</td>\n",
              "      <td>NaT</td>\n",
              "      <td>Краснодар</td>\n",
              "      <td>Рафаил</td>\n",
              "      <td>...</td>\n",
              "      <td>2018-05-25</td>\n",
              "      <td>ultra</td>\n",
              "      <td>5</td>\n",
              "      <td>1000</td>\n",
              "      <td>30720</td>\n",
              "      <td>3000</td>\n",
              "      <td>1950</td>\n",
              "      <td>150</td>\n",
              "      <td>1</td>\n",
              "      <td>1</td>\n",
              "    </tr>\n",
              "    <tr>\n",
              "      <th>1</th>\n",
              "      <td>1000</td>\n",
              "      <td>6</td>\n",
              "      <td>172.0</td>\n",
              "      <td>43.0</td>\n",
              "      <td>60.0</td>\n",
              "      <td>23257.0</td>\n",
              "      <td>52</td>\n",
              "      <td>NaT</td>\n",
              "      <td>Краснодар</td>\n",
              "      <td>Рафаил</td>\n",
              "      <td>...</td>\n",
              "      <td>2018-05-25</td>\n",
              "      <td>ultra</td>\n",
              "      <td>5</td>\n",
              "      <td>1000</td>\n",
              "      <td>30720</td>\n",
              "      <td>3000</td>\n",
              "      <td>1950</td>\n",
              "      <td>150</td>\n",
              "      <td>1</td>\n",
              "      <td>1</td>\n",
              "    </tr>\n",
              "    <tr>\n",
              "      <th>2</th>\n",
              "      <td>1000</td>\n",
              "      <td>7</td>\n",
              "      <td>340.0</td>\n",
              "      <td>47.0</td>\n",
              "      <td>75.0</td>\n",
              "      <td>14016.0</td>\n",
              "      <td>52</td>\n",
              "      <td>NaT</td>\n",
              "      <td>Краснодар</td>\n",
              "      <td>Рафаил</td>\n",
              "      <td>...</td>\n",
              "      <td>2018-05-25</td>\n",
              "      <td>ultra</td>\n",
              "      <td>5</td>\n",
              "      <td>1000</td>\n",
              "      <td>30720</td>\n",
              "      <td>3000</td>\n",
              "      <td>1950</td>\n",
              "      <td>150</td>\n",
              "      <td>1</td>\n",
              "      <td>1</td>\n",
              "    </tr>\n",
              "    <tr>\n",
              "      <th>3</th>\n",
              "      <td>1000</td>\n",
              "      <td>8</td>\n",
              "      <td>408.0</td>\n",
              "      <td>52.0</td>\n",
              "      <td>81.0</td>\n",
              "      <td>14070.0</td>\n",
              "      <td>52</td>\n",
              "      <td>NaT</td>\n",
              "      <td>Краснодар</td>\n",
              "      <td>Рафаил</td>\n",
              "      <td>...</td>\n",
              "      <td>2018-05-25</td>\n",
              "      <td>ultra</td>\n",
              "      <td>5</td>\n",
              "      <td>1000</td>\n",
              "      <td>30720</td>\n",
              "      <td>3000</td>\n",
              "      <td>1950</td>\n",
              "      <td>150</td>\n",
              "      <td>1</td>\n",
              "      <td>1</td>\n",
              "    </tr>\n",
              "    <tr>\n",
              "      <th>4</th>\n",
              "      <td>1000</td>\n",
              "      <td>9</td>\n",
              "      <td>466.0</td>\n",
              "      <td>58.0</td>\n",
              "      <td>57.0</td>\n",
              "      <td>14581.0</td>\n",
              "      <td>52</td>\n",
              "      <td>NaT</td>\n",
              "      <td>Краснодар</td>\n",
              "      <td>Рафаил</td>\n",
              "      <td>...</td>\n",
              "      <td>2018-05-25</td>\n",
              "      <td>ultra</td>\n",
              "      <td>5</td>\n",
              "      <td>1000</td>\n",
              "      <td>30720</td>\n",
              "      <td>3000</td>\n",
              "      <td>1950</td>\n",
              "      <td>150</td>\n",
              "      <td>1</td>\n",
              "      <td>1</td>\n",
              "    </tr>\n",
              "  </tbody>\n",
              "</table>\n",
              "<p>5 rows × 21 columns</p>\n",
              "</div>"
            ],
            "text/plain": [
              "   user_id  month_x  month_calls_duration  calls_total_in_month  \\\n",
              "0     1000        5                 159.0                  22.0   \n",
              "1     1000        6                 172.0                  43.0   \n",
              "2     1000        7                 340.0                  47.0   \n",
              "3     1000        8                 408.0                  52.0   \n",
              "4     1000        9                 466.0                  58.0   \n",
              "\n",
              "   message_total_in_month  mb_total_in_month  age churn_date       city  \\\n",
              "0                    22.0             2256.0   52        NaT  Краснодар   \n",
              "1                    60.0            23257.0   52        NaT  Краснодар   \n",
              "2                    75.0            14016.0   52        NaT  Краснодар   \n",
              "3                    81.0            14070.0   52        NaT  Краснодар   \n",
              "4                    57.0            14581.0   52        NaT  Краснодар   \n",
              "\n",
              "  first_name  ...   reg_date tariff_name month_y  messages_included  \\\n",
              "0     Рафаил  ... 2018-05-25       ultra       5               1000   \n",
              "1     Рафаил  ... 2018-05-25       ultra       5               1000   \n",
              "2     Рафаил  ... 2018-05-25       ultra       5               1000   \n",
              "3     Рафаил  ... 2018-05-25       ultra       5               1000   \n",
              "4     Рафаил  ... 2018-05-25       ultra       5               1000   \n",
              "\n",
              "   mb_per_month_included  minutes_included  rub_monthly_fee  rub_per_gb  \\\n",
              "0                  30720              3000             1950         150   \n",
              "1                  30720              3000             1950         150   \n",
              "2                  30720              3000             1950         150   \n",
              "3                  30720              3000             1950         150   \n",
              "4                  30720              3000             1950         150   \n",
              "\n",
              "   rub_per_message  rub_per_minute  \n",
              "0                1               1  \n",
              "1                1               1  \n",
              "2                1               1  \n",
              "3                1               1  \n",
              "4                1               1  \n",
              "\n",
              "[5 rows x 21 columns]"
            ]
          },
          "execution_count": 53,
          "metadata": {},
          "output_type": "execute_result"
        }
      ],
      "source": [
        "df_users.head()"
      ]
    },
    {
      "cell_type": "markdown",
      "metadata": {
        "id": "nzi_p5QY33do"
      },
      "source": [
        "Посмотрим пропуски"
      ]
    },
    {
      "cell_type": "code",
      "execution_count": null,
      "metadata": {
        "id": "Vvk72KPW33do",
        "outputId": "bf5d5133-aad7-4078-a407-b14692396fcb"
      },
      "outputs": [
        {
          "data": {
            "text/plain": [
              "user_id                      0\n",
              "month_x                      0\n",
              "month_calls_duration        40\n",
              "calls_total_in_month        40\n",
              "message_total_in_month     497\n",
              "mb_total_in_month           13\n",
              "age                          0\n",
              "churn_date                3027\n",
              "city                         0\n",
              "first_name                   0\n",
              "last_name                    0\n",
              "reg_date                     0\n",
              "tariff_name                  0\n",
              "month_y                      0\n",
              "messages_included            0\n",
              "mb_per_month_included        0\n",
              "minutes_included             0\n",
              "rub_monthly_fee              0\n",
              "rub_per_gb                   0\n",
              "rub_per_message              0\n",
              "rub_per_minute               0\n",
              "dtype: int64"
            ]
          },
          "execution_count": 54,
          "metadata": {},
          "output_type": "execute_result"
        }
      ],
      "source": [
        "df_users.isna().sum()"
      ]
    },
    {
      "cell_type": "markdown",
      "metadata": {
        "id": "oUQYR5aW33dp"
      },
      "source": [
        "Посмотрим, нет ли у нас пользователей, которые ни разу не звонили, не отправляли смс и не заходили в интернет"
      ]
    },
    {
      "cell_type": "code",
      "execution_count": null,
      "metadata": {
        "id": "Z_TSKQTP33dp",
        "outputId": "bb8bcb2c-dd61-436d-d654-dd58eee39ac6"
      },
      "outputs": [
        {
          "data": {
            "text/html": [
              "<div>\n",
              "<style scoped>\n",
              "    .dataframe tbody tr th:only-of-type {\n",
              "        vertical-align: middle;\n",
              "    }\n",
              "\n",
              "    .dataframe tbody tr th {\n",
              "        vertical-align: top;\n",
              "    }\n",
              "\n",
              "    .dataframe thead th {\n",
              "        text-align: right;\n",
              "    }\n",
              "</style>\n",
              "<table border=\"1\" class=\"dataframe\">\n",
              "  <thead>\n",
              "    <tr style=\"text-align: right;\">\n",
              "      <th></th>\n",
              "      <th>user_id</th>\n",
              "      <th>month_x</th>\n",
              "      <th>month_calls_duration</th>\n",
              "      <th>calls_total_in_month</th>\n",
              "      <th>message_total_in_month</th>\n",
              "      <th>mb_total_in_month</th>\n",
              "      <th>age</th>\n",
              "      <th>churn_date</th>\n",
              "      <th>city</th>\n",
              "      <th>first_name</th>\n",
              "      <th>...</th>\n",
              "      <th>reg_date</th>\n",
              "      <th>tariff_name</th>\n",
              "      <th>month_y</th>\n",
              "      <th>messages_included</th>\n",
              "      <th>mb_per_month_included</th>\n",
              "      <th>minutes_included</th>\n",
              "      <th>rub_monthly_fee</th>\n",
              "      <th>rub_per_gb</th>\n",
              "      <th>rub_per_message</th>\n",
              "      <th>rub_per_minute</th>\n",
              "    </tr>\n",
              "  </thead>\n",
              "  <tbody>\n",
              "  </tbody>\n",
              "</table>\n",
              "<p>0 rows × 21 columns</p>\n",
              "</div>"
            ],
            "text/plain": [
              "Empty DataFrame\n",
              "Columns: [user_id, month_x, month_calls_duration, calls_total_in_month, message_total_in_month, mb_total_in_month, age, churn_date, city, first_name, last_name, reg_date, tariff_name, month_y, messages_included, mb_per_month_included, minutes_included, rub_monthly_fee, rub_per_gb, rub_per_message, rub_per_minute]\n",
              "Index: []\n",
              "\n",
              "[0 rows x 21 columns]"
            ]
          },
          "execution_count": 55,
          "metadata": {},
          "output_type": "execute_result"
        }
      ],
      "source": [
        "df_users[(df_users['month_calls_duration'].isnull()) & (df_users['message_total_in_month'].isnull()) &\n",
        "                 (df_users['mb_total_in_month'].isnull())]"
      ]
    },
    {
      "cell_type": "markdown",
      "metadata": {
        "id": "1fmCo2j733dp"
      },
      "source": [
        "Таких пользователей нет, значит все они активные, просто в какой-то период времени не пользовались каким-либо видом связи. Поставим нули пользоваелям,которые не тратят интернет и не пишут смс"
      ]
    },
    {
      "cell_type": "code",
      "execution_count": null,
      "metadata": {
        "id": "65DK5LbY33dq"
      },
      "outputs": [],
      "source": [
        "df_users['month_calls_duration'] = df_users['month_calls_duration'].fillna(0)\n",
        "df_users['calls_total_in_month'] = df_users['calls_total_in_month'].fillna(0)\n",
        "df_users['message_total_in_month'] = df_users['message_total_in_month'].fillna(0)\n",
        "df_users['mb_total_in_month'] = df_users['mb_total_in_month'].fillna(0)"
      ]
    },
    {
      "cell_type": "code",
      "execution_count": null,
      "metadata": {
        "id": "WZz0kjf_33dq",
        "outputId": "982b0f7a-21e7-4684-84e0-6ebb04a22e96"
      },
      "outputs": [
        {
          "data": {
            "text/plain": [
              "user_id                      0\n",
              "month_x                      0\n",
              "month_calls_duration         0\n",
              "calls_total_in_month         0\n",
              "message_total_in_month       0\n",
              "mb_total_in_month            0\n",
              "age                          0\n",
              "churn_date                3027\n",
              "city                         0\n",
              "first_name                   0\n",
              "last_name                    0\n",
              "reg_date                     0\n",
              "tariff_name                  0\n",
              "month_y                      0\n",
              "messages_included            0\n",
              "mb_per_month_included        0\n",
              "minutes_included             0\n",
              "rub_monthly_fee              0\n",
              "rub_per_gb                   0\n",
              "rub_per_message              0\n",
              "rub_per_minute               0\n",
              "dtype: int64"
            ]
          },
          "execution_count": 57,
          "metadata": {},
          "output_type": "execute_result"
        }
      ],
      "source": [
        "df_users.isna().sum()"
      ]
    },
    {
      "cell_type": "markdown",
      "metadata": {
        "id": "1aCe9O1433dr"
      },
      "source": [
        "Напишем функцию подсчета помесячной выручки с каждого пользователя"
      ]
    },
    {
      "cell_type": "markdown",
      "metadata": {
        "id": "GGNH3Ajh33dr"
      },
      "source": [
        "Для подсчета выручки необходимо: вычесть бесплатный лимит из суммарного количества звонков, сообщений и интернет-трафика; остаток умножить на значение из тарифного плана; прибавить абонентскую плату, соответствующую тарифному плану"
      ]
    },
    {
      "cell_type": "code",
      "execution_count": null,
      "metadata": {
        "id": "L22nSuJ633dr"
      },
      "outputs": [],
      "source": [
        "def profit_month_users(row):\n",
        "    sms = (row['message_total_in_month'] - row['messages_included']) * row['rub_per_message']\n",
        "    mins = (row['month_calls_duration'] - row['minutes_included']) * row['rub_per_minute']\n",
        "    mbs = np.ceil((row['mb_total_in_month'] - row['mb_per_month_included']) * row['rub_per_gb'] / 1024) # перевод в Гб\n",
        "    total = 0\n",
        "    for i in [sms, mins, mbs]:\n",
        "        if i > 0:\n",
        "            total += i\n",
        "    return total"
      ]
    },
    {
      "cell_type": "code",
      "execution_count": null,
      "metadata": {
        "id": "NxMj74kS33dt"
      },
      "outputs": [],
      "source": [
        "df_users['profit_month'] = df_users.apply(lambda x: profit_month_users(x), axis=1) # применим функцию"
      ]
    },
    {
      "cell_type": "code",
      "execution_count": null,
      "metadata": {
        "id": "C566bCGh33dt"
      },
      "outputs": [],
      "source": [
        "df_users['total_paid'] = df_users['rub_monthly_fee'] + df_users['profit_month'] # прибавляем абонентскую плату для получения полной выручки"
      ]
    },
    {
      "cell_type": "code",
      "execution_count": null,
      "metadata": {
        "id": "ws5AUViX33dt",
        "outputId": "492301c5-b75a-4e82-df6a-61c80a7e7473"
      },
      "outputs": [
        {
          "data": {
            "text/html": [
              "<div>\n",
              "<style scoped>\n",
              "    .dataframe tbody tr th:only-of-type {\n",
              "        vertical-align: middle;\n",
              "    }\n",
              "\n",
              "    .dataframe tbody tr th {\n",
              "        vertical-align: top;\n",
              "    }\n",
              "\n",
              "    .dataframe thead th {\n",
              "        text-align: right;\n",
              "    }\n",
              "</style>\n",
              "<table border=\"1\" class=\"dataframe\">\n",
              "  <thead>\n",
              "    <tr style=\"text-align: right;\">\n",
              "      <th></th>\n",
              "      <th>user_id</th>\n",
              "      <th>month_x</th>\n",
              "      <th>month_calls_duration</th>\n",
              "      <th>calls_total_in_month</th>\n",
              "      <th>message_total_in_month</th>\n",
              "      <th>mb_total_in_month</th>\n",
              "      <th>age</th>\n",
              "      <th>churn_date</th>\n",
              "      <th>city</th>\n",
              "      <th>first_name</th>\n",
              "      <th>last_name</th>\n",
              "      <th>reg_date</th>\n",
              "      <th>tariff_name</th>\n",
              "      <th>month_y</th>\n",
              "      <th>messages_included</th>\n",
              "      <th>mb_per_month_included</th>\n",
              "      <th>minutes_included</th>\n",
              "      <th>rub_monthly_fee</th>\n",
              "      <th>rub_per_gb</th>\n",
              "      <th>rub_per_message</th>\n",
              "      <th>rub_per_minute</th>\n",
              "      <th>profit_month</th>\n",
              "      <th>total_paid</th>\n",
              "    </tr>\n",
              "  </thead>\n",
              "  <tbody>\n",
              "    <tr>\n",
              "      <th>1949</th>\n",
              "      <td>1311</td>\n",
              "      <td>9</td>\n",
              "      <td>270.0</td>\n",
              "      <td>33.0</td>\n",
              "      <td>60.0</td>\n",
              "      <td>17224.0</td>\n",
              "      <td>33</td>\n",
              "      <td>NaT</td>\n",
              "      <td>Тверь</td>\n",
              "      <td>Лолита</td>\n",
              "      <td>Крылова</td>\n",
              "      <td>2018-08-03</td>\n",
              "      <td>smart</td>\n",
              "      <td>8</td>\n",
              "      <td>50</td>\n",
              "      <td>15360</td>\n",
              "      <td>500</td>\n",
              "      <td>550</td>\n",
              "      <td>200</td>\n",
              "      <td>3</td>\n",
              "      <td>3</td>\n",
              "      <td>395.0</td>\n",
              "      <td>945.0</td>\n",
              "    </tr>\n",
              "    <tr>\n",
              "      <th>1618</th>\n",
              "      <td>1260</td>\n",
              "      <td>11</td>\n",
              "      <td>518.0</td>\n",
              "      <td>76.0</td>\n",
              "      <td>0.0</td>\n",
              "      <td>14641.0</td>\n",
              "      <td>56</td>\n",
              "      <td>NaT</td>\n",
              "      <td>Москва</td>\n",
              "      <td>Афанасий</td>\n",
              "      <td>Горбунов</td>\n",
              "      <td>2018-07-16</td>\n",
              "      <td>smart</td>\n",
              "      <td>7</td>\n",
              "      <td>50</td>\n",
              "      <td>15360</td>\n",
              "      <td>500</td>\n",
              "      <td>550</td>\n",
              "      <td>200</td>\n",
              "      <td>3</td>\n",
              "      <td>3</td>\n",
              "      <td>54.0</td>\n",
              "      <td>604.0</td>\n",
              "    </tr>\n",
              "    <tr>\n",
              "      <th>1710</th>\n",
              "      <td>1274</td>\n",
              "      <td>10</td>\n",
              "      <td>728.0</td>\n",
              "      <td>83.0</td>\n",
              "      <td>84.0</td>\n",
              "      <td>16101.0</td>\n",
              "      <td>53</td>\n",
              "      <td>NaT</td>\n",
              "      <td>Волгоград</td>\n",
              "      <td>Аксён</td>\n",
              "      <td>Еремин</td>\n",
              "      <td>2018-05-03</td>\n",
              "      <td>smart</td>\n",
              "      <td>5</td>\n",
              "      <td>50</td>\n",
              "      <td>15360</td>\n",
              "      <td>500</td>\n",
              "      <td>550</td>\n",
              "      <td>200</td>\n",
              "      <td>3</td>\n",
              "      <td>3</td>\n",
              "      <td>931.0</td>\n",
              "      <td>1481.0</td>\n",
              "    </tr>\n",
              "    <tr>\n",
              "      <th>2229</th>\n",
              "      <td>1358</td>\n",
              "      <td>4</td>\n",
              "      <td>531.0</td>\n",
              "      <td>72.0</td>\n",
              "      <td>55.0</td>\n",
              "      <td>8902.0</td>\n",
              "      <td>64</td>\n",
              "      <td>NaT</td>\n",
              "      <td>Ставрополь</td>\n",
              "      <td>Демьян</td>\n",
              "      <td>Логинов</td>\n",
              "      <td>2018-02-21</td>\n",
              "      <td>smart</td>\n",
              "      <td>2</td>\n",
              "      <td>50</td>\n",
              "      <td>15360</td>\n",
              "      <td>500</td>\n",
              "      <td>550</td>\n",
              "      <td>200</td>\n",
              "      <td>3</td>\n",
              "      <td>3</td>\n",
              "      <td>108.0</td>\n",
              "      <td>658.0</td>\n",
              "    </tr>\n",
              "    <tr>\n",
              "      <th>1686</th>\n",
              "      <td>1270</td>\n",
              "      <td>12</td>\n",
              "      <td>315.0</td>\n",
              "      <td>46.0</td>\n",
              "      <td>48.0</td>\n",
              "      <td>16701.0</td>\n",
              "      <td>18</td>\n",
              "      <td>NaT</td>\n",
              "      <td>Нижневартовск</td>\n",
              "      <td>Мальвина</td>\n",
              "      <td>Вешнякова</td>\n",
              "      <td>2018-07-01</td>\n",
              "      <td>ultra</td>\n",
              "      <td>7</td>\n",
              "      <td>1000</td>\n",
              "      <td>30720</td>\n",
              "      <td>3000</td>\n",
              "      <td>1950</td>\n",
              "      <td>150</td>\n",
              "      <td>1</td>\n",
              "      <td>1</td>\n",
              "      <td>0.0</td>\n",
              "      <td>1950.0</td>\n",
              "    </tr>\n",
              "    <tr>\n",
              "      <th>2074</th>\n",
              "      <td>1331</td>\n",
              "      <td>7</td>\n",
              "      <td>537.0</td>\n",
              "      <td>81.0</td>\n",
              "      <td>71.0</td>\n",
              "      <td>32447.0</td>\n",
              "      <td>26</td>\n",
              "      <td>NaT</td>\n",
              "      <td>Москва</td>\n",
              "      <td>Юлия</td>\n",
              "      <td>Малинина</td>\n",
              "      <td>2018-04-12</td>\n",
              "      <td>ultra</td>\n",
              "      <td>4</td>\n",
              "      <td>1000</td>\n",
              "      <td>30720</td>\n",
              "      <td>3000</td>\n",
              "      <td>1950</td>\n",
              "      <td>150</td>\n",
              "      <td>1</td>\n",
              "      <td>1</td>\n",
              "      <td>253.0</td>\n",
              "      <td>2203.0</td>\n",
              "    </tr>\n",
              "    <tr>\n",
              "      <th>1085</th>\n",
              "      <td>1174</td>\n",
              "      <td>4</td>\n",
              "      <td>666.0</td>\n",
              "      <td>92.0</td>\n",
              "      <td>66.0</td>\n",
              "      <td>19938.0</td>\n",
              "      <td>29</td>\n",
              "      <td>NaT</td>\n",
              "      <td>Санкт-Петербург</td>\n",
              "      <td>Лолита</td>\n",
              "      <td>Розанова</td>\n",
              "      <td>2018-02-17</td>\n",
              "      <td>smart</td>\n",
              "      <td>2</td>\n",
              "      <td>50</td>\n",
              "      <td>15360</td>\n",
              "      <td>500</td>\n",
              "      <td>550</td>\n",
              "      <td>200</td>\n",
              "      <td>3</td>\n",
              "      <td>3</td>\n",
              "      <td>1441.0</td>\n",
              "      <td>1991.0</td>\n",
              "    </tr>\n",
              "    <tr>\n",
              "      <th>1601</th>\n",
              "      <td>1256</td>\n",
              "      <td>10</td>\n",
              "      <td>662.0</td>\n",
              "      <td>91.0</td>\n",
              "      <td>103.0</td>\n",
              "      <td>22225.0</td>\n",
              "      <td>55</td>\n",
              "      <td>NaT</td>\n",
              "      <td>Санкт-Петербург</td>\n",
              "      <td>Алевтина</td>\n",
              "      <td>Панфилова</td>\n",
              "      <td>2018-09-28</td>\n",
              "      <td>smart</td>\n",
              "      <td>9</td>\n",
              "      <td>50</td>\n",
              "      <td>15360</td>\n",
              "      <td>500</td>\n",
              "      <td>550</td>\n",
              "      <td>200</td>\n",
              "      <td>3</td>\n",
              "      <td>3</td>\n",
              "      <td>1986.0</td>\n",
              "      <td>2536.0</td>\n",
              "    </tr>\n",
              "    <tr>\n",
              "      <th>2736</th>\n",
              "      <td>1429</td>\n",
              "      <td>11</td>\n",
              "      <td>273.0</td>\n",
              "      <td>37.0</td>\n",
              "      <td>0.0</td>\n",
              "      <td>18823.0</td>\n",
              "      <td>54</td>\n",
              "      <td>NaT</td>\n",
              "      <td>Санкт-Петербург</td>\n",
              "      <td>Джулия</td>\n",
              "      <td>Белякова</td>\n",
              "      <td>2018-01-26</td>\n",
              "      <td>smart</td>\n",
              "      <td>1</td>\n",
              "      <td>50</td>\n",
              "      <td>15360</td>\n",
              "      <td>500</td>\n",
              "      <td>550</td>\n",
              "      <td>200</td>\n",
              "      <td>3</td>\n",
              "      <td>3</td>\n",
              "      <td>677.0</td>\n",
              "      <td>1227.0</td>\n",
              "    </tr>\n",
              "    <tr>\n",
              "      <th>707</th>\n",
              "      <td>1113</td>\n",
              "      <td>12</td>\n",
              "      <td>710.0</td>\n",
              "      <td>91.0</td>\n",
              "      <td>37.0</td>\n",
              "      <td>11580.0</td>\n",
              "      <td>52</td>\n",
              "      <td>NaT</td>\n",
              "      <td>Чита</td>\n",
              "      <td>Харитон</td>\n",
              "      <td>Булгаков</td>\n",
              "      <td>2018-01-24</td>\n",
              "      <td>smart</td>\n",
              "      <td>1</td>\n",
              "      <td>50</td>\n",
              "      <td>15360</td>\n",
              "      <td>500</td>\n",
              "      <td>550</td>\n",
              "      <td>200</td>\n",
              "      <td>3</td>\n",
              "      <td>3</td>\n",
              "      <td>630.0</td>\n",
              "      <td>1180.0</td>\n",
              "    </tr>\n",
              "  </tbody>\n",
              "</table>\n",
              "</div>"
            ],
            "text/plain": [
              "      user_id  month_x  month_calls_duration  calls_total_in_month  \\\n",
              "1949     1311        9                 270.0                  33.0   \n",
              "1618     1260       11                 518.0                  76.0   \n",
              "1710     1274       10                 728.0                  83.0   \n",
              "2229     1358        4                 531.0                  72.0   \n",
              "1686     1270       12                 315.0                  46.0   \n",
              "2074     1331        7                 537.0                  81.0   \n",
              "1085     1174        4                 666.0                  92.0   \n",
              "1601     1256       10                 662.0                  91.0   \n",
              "2736     1429       11                 273.0                  37.0   \n",
              "707      1113       12                 710.0                  91.0   \n",
              "\n",
              "      message_total_in_month  mb_total_in_month  age churn_date  \\\n",
              "1949                    60.0            17224.0   33        NaT   \n",
              "1618                     0.0            14641.0   56        NaT   \n",
              "1710                    84.0            16101.0   53        NaT   \n",
              "2229                    55.0             8902.0   64        NaT   \n",
              "1686                    48.0            16701.0   18        NaT   \n",
              "2074                    71.0            32447.0   26        NaT   \n",
              "1085                    66.0            19938.0   29        NaT   \n",
              "1601                   103.0            22225.0   55        NaT   \n",
              "2736                     0.0            18823.0   54        NaT   \n",
              "707                     37.0            11580.0   52        NaT   \n",
              "\n",
              "                 city first_name  last_name   reg_date tariff_name  month_y  \\\n",
              "1949            Тверь     Лолита    Крылова 2018-08-03       smart        8   \n",
              "1618           Москва   Афанасий   Горбунов 2018-07-16       smart        7   \n",
              "1710        Волгоград      Аксён     Еремин 2018-05-03       smart        5   \n",
              "2229       Ставрополь     Демьян    Логинов 2018-02-21       smart        2   \n",
              "1686    Нижневартовск   Мальвина  Вешнякова 2018-07-01       ultra        7   \n",
              "2074           Москва       Юлия   Малинина 2018-04-12       ultra        4   \n",
              "1085  Санкт-Петербург     Лолита   Розанова 2018-02-17       smart        2   \n",
              "1601  Санкт-Петербург   Алевтина  Панфилова 2018-09-28       smart        9   \n",
              "2736  Санкт-Петербург     Джулия   Белякова 2018-01-26       smart        1   \n",
              "707              Чита    Харитон   Булгаков 2018-01-24       smart        1   \n",
              "\n",
              "      messages_included  mb_per_month_included  minutes_included  \\\n",
              "1949                 50                  15360               500   \n",
              "1618                 50                  15360               500   \n",
              "1710                 50                  15360               500   \n",
              "2229                 50                  15360               500   \n",
              "1686               1000                  30720              3000   \n",
              "2074               1000                  30720              3000   \n",
              "1085                 50                  15360               500   \n",
              "1601                 50                  15360               500   \n",
              "2736                 50                  15360               500   \n",
              "707                  50                  15360               500   \n",
              "\n",
              "      rub_monthly_fee  rub_per_gb  rub_per_message  rub_per_minute  \\\n",
              "1949              550         200                3               3   \n",
              "1618              550         200                3               3   \n",
              "1710              550         200                3               3   \n",
              "2229              550         200                3               3   \n",
              "1686             1950         150                1               1   \n",
              "2074             1950         150                1               1   \n",
              "1085              550         200                3               3   \n",
              "1601              550         200                3               3   \n",
              "2736              550         200                3               3   \n",
              "707               550         200                3               3   \n",
              "\n",
              "      profit_month  total_paid  \n",
              "1949         395.0       945.0  \n",
              "1618          54.0       604.0  \n",
              "1710         931.0      1481.0  \n",
              "2229         108.0       658.0  \n",
              "1686           0.0      1950.0  \n",
              "2074         253.0      2203.0  \n",
              "1085        1441.0      1991.0  \n",
              "1601        1986.0      2536.0  \n",
              "2736         677.0      1227.0  \n",
              "707          630.0      1180.0  "
            ]
          },
          "execution_count": 61,
          "metadata": {},
          "output_type": "execute_result"
        }
      ],
      "source": [
        "pd.set_option('display.max_columns', None)\n",
        "df_users.sort_values(by='total_paid').sample(10) # смотрим результат"
      ]
    },
    {
      "cell_type": "markdown",
      "metadata": {
        "id": "a1TV2nfm33dv"
      },
      "source": [
        "##  Анализ данных"
      ]
    },
    {
      "cell_type": "markdown",
      "metadata": {
        "id": "VVrvJQS333dv"
      },
      "source": [
        "Описание поведения клиентов оператора, исходя из выборки.\n",
        "Сколько минут разговора, сколько сообщений и какой объём интернет-трафика требуется пользователям каждого тарифа\n",
        "в месяц?"
      ]
    },
    {
      "cell_type": "code",
      "execution_count": null,
      "metadata": {
        "id": "Cl-eZ4YU33dv",
        "outputId": "cdb12acc-fbb5-43ca-f7a4-61837f15b81c"
      },
      "outputs": [
        {
          "data": {
            "text/html": [
              "<div>\n",
              "<style scoped>\n",
              "    .dataframe tbody tr th:only-of-type {\n",
              "        vertical-align: middle;\n",
              "    }\n",
              "\n",
              "    .dataframe tbody tr th {\n",
              "        vertical-align: top;\n",
              "    }\n",
              "\n",
              "    .dataframe thead th {\n",
              "        text-align: right;\n",
              "    }\n",
              "</style>\n",
              "<table border=\"1\" class=\"dataframe\">\n",
              "  <thead>\n",
              "    <tr style=\"text-align: right;\">\n",
              "      <th></th>\n",
              "      <th>profit_month</th>\n",
              "      <th>total_paid</th>\n",
              "    </tr>\n",
              "  </thead>\n",
              "  <tbody>\n",
              "    <tr>\n",
              "      <th>count</th>\n",
              "      <td>3214.000000</td>\n",
              "      <td>3214.000000</td>\n",
              "    </tr>\n",
              "    <tr>\n",
              "      <th>mean</th>\n",
              "      <td>508.019913</td>\n",
              "      <td>1487.080274</td>\n",
              "    </tr>\n",
              "    <tr>\n",
              "      <th>std</th>\n",
              "      <td>734.264223</td>\n",
              "      <td>784.043394</td>\n",
              "    </tr>\n",
              "    <tr>\n",
              "      <th>min</th>\n",
              "      <td>0.000000</td>\n",
              "      <td>550.000000</td>\n",
              "    </tr>\n",
              "    <tr>\n",
              "      <th>25%</th>\n",
              "      <td>0.000000</td>\n",
              "      <td>694.000000</td>\n",
              "    </tr>\n",
              "    <tr>\n",
              "      <th>50%</th>\n",
              "      <td>105.500000</td>\n",
              "      <td>1563.500000</td>\n",
              "    </tr>\n",
              "    <tr>\n",
              "      <th>75%</th>\n",
              "      <td>841.000000</td>\n",
              "      <td>1950.000000</td>\n",
              "    </tr>\n",
              "    <tr>\n",
              "      <th>max</th>\n",
              "      <td>6162.000000</td>\n",
              "      <td>6712.000000</td>\n",
              "    </tr>\n",
              "  </tbody>\n",
              "</table>\n",
              "</div>"
            ],
            "text/plain": [
              "       profit_month   total_paid\n",
              "count   3214.000000  3214.000000\n",
              "mean     508.019913  1487.080274\n",
              "std      734.264223   784.043394\n",
              "min        0.000000   550.000000\n",
              "25%        0.000000   694.000000\n",
              "50%      105.500000  1563.500000\n",
              "75%      841.000000  1950.000000\n",
              "max     6162.000000  6712.000000"
            ]
          },
          "execution_count": 62,
          "metadata": {},
          "output_type": "execute_result"
        }
      ],
      "source": [
        "df_users[['profit_month', 'total_paid']].describe()"
      ]
    },
    {
      "cell_type": "markdown",
      "metadata": {
        "id": "RAu2TuWa33dw"
      },
      "source": [
        "### Оценка сколько минут разговора требуется пользователям каждого тарифа в месяц"
      ]
    },
    {
      "cell_type": "markdown",
      "metadata": {
        "id": "dUR7VWky33dw"
      },
      "source": [
        "Построим гистограммы для каждого тарифного плана "
      ]
    },
    {
      "cell_type": "code",
      "execution_count": null,
      "metadata": {
        "id": "0Ob5CZ0A33dw",
        "outputId": "3b0eec82-63ef-49a2-8c6c-b60f917f613e"
      },
      "outputs": [
        {
          "data": {
            "image/png": "[encoded data removed]",
            "text/plain": [
              "<Figure size 432x288 with 1 Axes>"
            ]
          },
          "metadata": {
            "needs_background": "light"
          },
          "output_type": "display_data"
        }
      ],
      "source": [
        "df_users[df_users['tariff_name'] == 'smart']['month_calls_duration'].plot(kind = 'hist', bins = 10, ec = 'black')\n",
        "plt.title('Тариф \"Смарт\". Звонки в месяц, в минутах')\n",
        "plt.xlabel('Длитетельность звонков', fontsize = 12)\n",
        "plt.ylabel('Частота появления', fontsize = 12);"
      ]
    },
    {
      "cell_type": "code",
      "execution_count": null,
      "metadata": {
        "id": "cXGoBEXP33dw",
        "outputId": "b2f5ee0e-3d76-4265-96a9-d2da1dc5c613"
      },
      "outputs": [
        {
          "data": {
            "image/png": "[encoded data removed]",
            "text/plain": [
              "<Figure size 432x288 with 1 Axes>"
            ]
          },
          "metadata": {
            "needs_background": "light"
          },
          "output_type": "display_data"
        }
      ],
      "source": [
        "df_users[df_users['tariff_name'] == 'ultra']['month_calls_duration'].plot(kind = 'hist', bins = 10, ec = 'black')\n",
        "plt.title('Тариф \"Ультра\". Звонки в месяц, в минутах')\n",
        "plt.xlabel('Длитетельность звонков', fontsize = 12)\n",
        "plt.ylabel('Частота появления', fontsize = 12);"
      ]
    },
    {
      "cell_type": "code",
      "execution_count": null,
      "metadata": {
        "id": "xgNrixrE33dx",
        "outputId": "fab17d64-f05b-4653-bcdc-ba939aad84f7"
      },
      "outputs": [
        {
          "data": {
            "text/html": [
              "<style  type=\"text/css\" >\n",
              "</style><table id=\"T_034a6_\" ><thead>    <tr>        <th class=\"blank\" ></th>        <th class=\"blank level0\" ></th>        <th class=\"col_heading level0 col0\" colspan=\"4\">month_calls_duration</th>    </tr>    <tr>        <th class=\"blank\" ></th>        <th class=\"blank level1\" ></th>        <th class=\"col_heading level1 col0\" >median</th>        <th class=\"col_heading level1 col1\" >mean</th>        <th class=\"col_heading level1 col2\" >var</th>        <th class=\"col_heading level1 col3\" >std</th>    </tr>    <tr>        <th class=\"index_name level0\" >tariff_name</th>        <th class=\"index_name level1\" >minutes_included</th>        <th class=\"blank\" ></th>        <th class=\"blank\" ></th>        <th class=\"blank\" ></th>        <th class=\"blank\" ></th>    </tr></thead><tbody>\n",
              "                <tr>\n",
              "                        <th id=\"T_034a6_level0_row0\" class=\"row_heading level0 row0\" >smart</th>\n",
              "                        <th id=\"T_034a6_level1_row0\" class=\"row_heading level1 row0\" >500</th>\n",
              "                        <td id=\"T_034a6_row0_col0\" class=\"data row0 col0\" >422.00</td>\n",
              "                        <td id=\"T_034a6_row0_col1\" class=\"data row0 col1\" >417.93</td>\n",
              "                        <td id=\"T_034a6_row0_col2\" class=\"data row0 col2\" >36219.32</td>\n",
              "                        <td id=\"T_034a6_row0_col3\" class=\"data row0 col3\" >190.31</td>\n",
              "            </tr>\n",
              "            <tr>\n",
              "                        <th id=\"T_034a6_level0_row1\" class=\"row_heading level0 row1\" >ultra</th>\n",
              "                        <th id=\"T_034a6_level1_row1\" class=\"row_heading level1 row1\" >3000</th>\n",
              "                        <td id=\"T_034a6_row1_col0\" class=\"data row1 col0\" >518.00</td>\n",
              "                        <td id=\"T_034a6_row1_col1\" class=\"data row1 col1\" >526.62</td>\n",
              "                        <td id=\"T_034a6_row1_col2\" class=\"data row1 col2\" >100873.63</td>\n",
              "                        <td id=\"T_034a6_row1_col3\" class=\"data row1 col3\" >317.61</td>\n",
              "            </tr>\n",
              "    </tbody></table>"
            ],
            "text/plain": [
              "<pandas.io.formats.style.Styler at 0x7f2d4e9aed30>"
            ]
          },
          "execution_count": 65,
          "metadata": {},
          "output_type": "execute_result"
        }
      ],
      "source": [
        "df_users.groupby(['tariff_name','minutes_included'])\\\n",
        "  .agg({'month_calls_duration':['median','mean','var','std']})\\\n",
        "  .style.format(\"{:.2f}\")"
      ]
    },
    {
      "cell_type": "markdown",
      "metadata": {
        "id": "13Rcs9Co33dx"
      },
      "source": [
        "На Смарте люди в месяц говорят около 420 минут, на Ультре 520 минут в месяц. То есть на Смарте люди подходят разговаривают в рамках своего тарифа, а на Ультре у них остается запас 2500 минут. Среднее и медиана лежат рядом и там и там — ничего выбивающегося нет."
      ]
    },
    {
      "cell_type": "markdown",
      "metadata": {
        "id": "wPRa-g-U33dx"
      },
      "source": [
        "### Оценка сколько сообщений требуется пользователям каждого тарифа в месяц"
      ]
    },
    {
      "cell_type": "markdown",
      "metadata": {
        "id": "nG-pzDMJ33dx"
      },
      "source": [
        "Построим гистограммы для каждого тарифного плана "
      ]
    },
    {
      "cell_type": "code",
      "execution_count": null,
      "metadata": {
        "id": "_I790KAZ33dy",
        "outputId": "8fc5ed94-8aee-464f-d34a-9c377475d7dd"
      },
      "outputs": [
        {
          "data": {
            "image/png": "[encoded data removed]",
            "text/plain": [
              "<Figure size 432x288 with 1 Axes>"
            ]
          },
          "metadata": {
            "needs_background": "light"
          },
          "output_type": "display_data"
        }
      ],
      "source": [
        "df_users[df_users['tariff_name'] == 'smart']['message_total_in_month'].plot(kind='hist', bins=10, ec = 'black')\n",
        "plt.title('Тариф \"Смарт\". СМС в месяц, шт.')\n",
        "plt.xlabel('Количество СМС', fontsize = 12)\n",
        "plt.ylabel('Частота появления', fontsize = 12);"
      ]
    },
    {
      "cell_type": "code",
      "execution_count": null,
      "metadata": {
        "id": "jpcPtKih33dy",
        "outputId": "14ed9e6e-f1df-446f-8a47-4fdd53a11a60"
      },
      "outputs": [
        {
          "data": {
            "image/png": "[encoded data removed]",
            "text/plain": [
              "<Figure size 432x288 with 1 Axes>"
            ]
          },
          "metadata": {
            "needs_background": "light"
          },
          "output_type": "display_data"
        }
      ],
      "source": [
        "df_users[df_users['tariff_name'] == 'ultra']['message_total_in_month'].plot(kind='hist', bins=10, ec = 'black')\n",
        "plt.title('Тариф \"Ультра\". СМС в месяц, шт.')\n",
        "plt.xlabel('Количество СМС', fontsize = 12)\n",
        "plt.ylabel('Частота появления', fontsize = 12);"
      ]
    },
    {
      "cell_type": "code",
      "execution_count": null,
      "metadata": {
        "id": "IFgDwc7233dy",
        "outputId": "5e91cb59-9386-4f18-8bdf-054dac034bd6"
      },
      "outputs": [
        {
          "data": {
            "text/html": [
              "<style  type=\"text/css\" >\n",
              "</style><table id=\"T_5b2a0_\" ><thead>    <tr>        <th class=\"blank\" ></th>        <th class=\"blank level0\" ></th>        <th class=\"col_heading level0 col0\" colspan=\"4\">message_total_in_month</th>    </tr>    <tr>        <th class=\"blank\" ></th>        <th class=\"blank level1\" ></th>        <th class=\"col_heading level1 col0\" >median</th>        <th class=\"col_heading level1 col1\" >mean</th>        <th class=\"col_heading level1 col2\" >var</th>        <th class=\"col_heading level1 col3\" >std</th>    </tr>    <tr>        <th class=\"index_name level0\" >tariff_name</th>        <th class=\"index_name level1\" >messages_included</th>        <th class=\"blank\" ></th>        <th class=\"blank\" ></th>        <th class=\"blank\" ></th>        <th class=\"blank\" ></th>    </tr></thead><tbody>\n",
              "                <tr>\n",
              "                        <th id=\"T_5b2a0_level0_row0\" class=\"row_heading level0 row0\" >smart</th>\n",
              "                        <th id=\"T_5b2a0_level1_row0\" class=\"row_heading level1 row0\" >50</th>\n",
              "                        <td id=\"T_5b2a0_row0_col0\" class=\"data row0 col0\" >28.00</td>\n",
              "                        <td id=\"T_5b2a0_row0_col1\" class=\"data row0 col1\" >33.38</td>\n",
              "                        <td id=\"T_5b2a0_row0_col2\" class=\"data row0 col2\" >796.81</td>\n",
              "                        <td id=\"T_5b2a0_row0_col3\" class=\"data row0 col3\" >28.23</td>\n",
              "            </tr>\n",
              "            <tr>\n",
              "                        <th id=\"T_5b2a0_level0_row1\" class=\"row_heading level0 row1\" >ultra</th>\n",
              "                        <th id=\"T_5b2a0_level1_row1\" class=\"row_heading level1 row1\" >1000</th>\n",
              "                        <td id=\"T_5b2a0_row1_col0\" class=\"data row1 col0\" >38.00</td>\n",
              "                        <td id=\"T_5b2a0_row1_col1\" class=\"data row1 col1\" >49.36</td>\n",
              "                        <td id=\"T_5b2a0_row1_col2\" class=\"data row1 col2\" >2285.27</td>\n",
              "                        <td id=\"T_5b2a0_row1_col3\" class=\"data row1 col3\" >47.80</td>\n",
              "            </tr>\n",
              "    </tbody></table>"
            ],
            "text/plain": [
              "<pandas.io.formats.style.Styler at 0x7f2d4ea03490>"
            ]
          },
          "execution_count": 68,
          "metadata": {},
          "output_type": "execute_result"
        }
      ],
      "source": [
        "df_users.groupby(['tariff_name','messages_included'])\\\n",
        "  .agg({'message_total_in_month':['median','mean','var','std']})\\\n",
        "  .style.format(\"{:.2f}\")"
      ]
    },
    {
      "cell_type": "markdown",
      "metadata": {
        "id": "kQvYY3Yw33dz"
      },
      "source": [
        "Все в рамках тарифа. На тарифе \"Ультра\" вообще практически не используется пакет смс"
      ]
    },
    {
      "cell_type": "markdown",
      "metadata": {
        "id": "KrjF5PkE33dz"
      },
      "source": [
        "### Оценка какой объём интернет-трафика требуется пользователям каждого тарифа в месяц"
      ]
    },
    {
      "cell_type": "markdown",
      "metadata": {
        "id": "ePRjYS9d33dz"
      },
      "source": [
        "Построим гистограммы для каждого тарифного плана "
      ]
    },
    {
      "cell_type": "code",
      "execution_count": null,
      "metadata": {
        "id": "723fe9ZV33dz",
        "outputId": "907d0ce6-b802-4f3c-a3df-1f6f020b80a4"
      },
      "outputs": [
        {
          "data": {
            "image/png": "[encoded data removed]",
            "text/plain": [
              "<Figure size 432x288 with 1 Axes>"
            ]
          },
          "metadata": {
            "needs_background": "light"
          },
          "output_type": "display_data"
        }
      ],
      "source": [
        "df_users[df_users['tariff_name'] == 'smart']['mb_total_in_month'].plot(kind='hist', bins=10, ec = 'black')\n",
        "plt.title('Тариф \"Смарт\". Трафик в месяц, Мб')\n",
        "plt.xlabel('Количество Мб', fontsize = 12)\n",
        "plt.ylabel('Частота появления', fontsize = 12);"
      ]
    },
    {
      "cell_type": "code",
      "execution_count": null,
      "metadata": {
        "id": "aLRzOQkf33dz",
        "outputId": "d44d1b63-dda1-4288-b7f6-81c3250d3797"
      },
      "outputs": [
        {
          "data": {
            "image/png": "[encoded data removed]",
            "text/plain": [
              "<Figure size 432x288 with 1 Axes>"
            ]
          },
          "metadata": {
            "needs_background": "light"
          },
          "output_type": "display_data"
        }
      ],
      "source": [
        "df_users[df_users['tariff_name'] == 'ultra']['mb_total_in_month'].plot(kind='hist', bins=10, ec = 'black')\n",
        "plt.title('Тариф \"Смарт\". Трафик в месяц, Мб')\n",
        "plt.xlabel('Количество Мб', fontsize = 12)\n",
        "plt.ylabel('Частота появления', fontsize = 12);"
      ]
    },
    {
      "cell_type": "code",
      "execution_count": null,
      "metadata": {
        "id": "I2b73jF933d0",
        "outputId": "606eb046-e901-408a-ce76-fb5846ccb30e"
      },
      "outputs": [
        {
          "data": {
            "text/html": [
              "<style  type=\"text/css\" >\n",
              "</style><table id=\"T_acadf_\" ><thead>    <tr>        <th class=\"blank\" ></th>        <th class=\"blank level0\" ></th>        <th class=\"col_heading level0 col0\" colspan=\"4\">mb_total_in_month</th>    </tr>    <tr>        <th class=\"blank\" ></th>        <th class=\"blank level1\" ></th>        <th class=\"col_heading level1 col0\" >median</th>        <th class=\"col_heading level1 col1\" >mean</th>        <th class=\"col_heading level1 col2\" >var</th>        <th class=\"col_heading level1 col3\" >std</th>    </tr>    <tr>        <th class=\"index_name level0\" >tariff_name</th>        <th class=\"index_name level1\" >mb_per_month_included</th>        <th class=\"blank\" ></th>        <th class=\"blank\" ></th>        <th class=\"blank\" ></th>        <th class=\"blank\" ></th>    </tr></thead><tbody>\n",
              "                <tr>\n",
              "                        <th id=\"T_acadf_level0_row0\" class=\"row_heading level0 row0\" >smart</th>\n",
              "                        <th id=\"T_acadf_level1_row0\" class=\"row_heading level1 row0\" >15360</th>\n",
              "                        <td id=\"T_acadf_row0_col0\" class=\"data row0 col0\" >16531.00</td>\n",
              "                        <td id=\"T_acadf_row0_col1\" class=\"data row0 col1\" >16229.19</td>\n",
              "                        <td id=\"T_acadf_row0_col2\" class=\"data row0 col2\" >34545911.13</td>\n",
              "                        <td id=\"T_acadf_row0_col3\" class=\"data row0 col3\" >5877.58</td>\n",
              "            </tr>\n",
              "            <tr>\n",
              "                        <th id=\"T_acadf_level0_row1\" class=\"row_heading level0 row1\" >ultra</th>\n",
              "                        <th id=\"T_acadf_level1_row1\" class=\"row_heading level1 row1\" >30720</th>\n",
              "                        <td id=\"T_acadf_row1_col0\" class=\"data row1 col0\" >19324.00</td>\n",
              "                        <td id=\"T_acadf_row1_col1\" class=\"data row1 col1\" >19486.90</td>\n",
              "                        <td id=\"T_acadf_row1_col2\" class=\"data row1 col2\" >101935621.05</td>\n",
              "                        <td id=\"T_acadf_row1_col3\" class=\"data row1 col3\" >10096.32</td>\n",
              "            </tr>\n",
              "    </tbody></table>"
            ],
            "text/plain": [
              "<pandas.io.formats.style.Styler at 0x7f2d4eabec40>"
            ]
          },
          "execution_count": 71,
          "metadata": {},
          "output_type": "execute_result"
        }
      ],
      "source": [
        "df_users.groupby(['tariff_name','mb_per_month_included'])\\\n",
        "  .agg({'mb_total_in_month':['median','mean','var','std']})\\\n",
        "  .style.format(\"{:.2f}\")"
      ]
    },
    {
      "cell_type": "markdown",
      "metadata": {
        "id": "0KFMzmI933d0"
      },
      "source": [
        "Среднее и медиана лежат рядом в обоих тарифах. На \"Смарте\" люди выходят за пределы тарифа, у \"Ультры\" снова запас — в 10 Гб."
      ]
    },
    {
      "cell_type": "markdown",
      "metadata": {
        "id": "bkuawFGT33d0"
      },
      "source": [
        "### Оценка \"переплат\""
      ]
    },
    {
      "cell_type": "code",
      "execution_count": null,
      "metadata": {
        "id": "j4USdVxp33d0",
        "outputId": "0dd3923b-0d6d-4a50-bc8c-0d49231e4520"
      },
      "outputs": [
        {
          "data": {
            "text/plain": [
              "smart    2229\n",
              "ultra     985\n",
              "Name: tariff_name, dtype: int64"
            ]
          },
          "execution_count": 72,
          "metadata": {},
          "output_type": "execute_result"
        }
      ],
      "source": [
        "df_users['tariff_name'].value_counts()"
      ]
    },
    {
      "cell_type": "code",
      "execution_count": null,
      "metadata": {
        "id": "cFxR3ile33d1",
        "outputId": "0cb6ffed-e8b8-4ffd-a649-79c4cbfdc8cf"
      },
      "outputs": [
        {
          "data": {
            "text/html": [
              "<style  type=\"text/css\" >\n",
              "</style><table id=\"T_7b5f7_\" ><thead>    <tr>        <th class=\"blank\" ></th>        <th class=\"blank level0\" ></th>        <th class=\"col_heading level0 col0\" colspan=\"4\">total_paid</th>    </tr>    <tr>        <th class=\"blank\" ></th>        <th class=\"blank level1\" ></th>        <th class=\"col_heading level1 col0\" >median</th>        <th class=\"col_heading level1 col1\" >mean</th>        <th class=\"col_heading level1 col2\" >var</th>        <th class=\"col_heading level1 col3\" >std</th>    </tr>    <tr>        <th class=\"index_name level0\" >tariff_name</th>        <th class=\"index_name level1\" >rub_monthly_fee</th>        <th class=\"blank\" ></th>        <th class=\"blank\" ></th>        <th class=\"blank\" ></th>        <th class=\"blank\" ></th>    </tr></thead><tbody>\n",
              "                <tr>\n",
              "                        <th id=\"T_7b5f7_level0_row0\" class=\"row_heading level0 row0\" >smart</th>\n",
              "                        <th id=\"T_7b5f7_level1_row0\" class=\"row_heading level1 row0\" >550</th>\n",
              "                        <td id=\"T_7b5f7_row0_col0\" class=\"data row0 col0\" >960.00</td>\n",
              "                        <td id=\"T_7b5f7_row0_col1\" class=\"data row0 col1\" >1233.64</td>\n",
              "                        <td id=\"T_7b5f7_row0_col2\" class=\"data row0 col2\" >620699.73</td>\n",
              "                        <td id=\"T_7b5f7_row0_col3\" class=\"data row0 col3\" >787.84</td>\n",
              "            </tr>\n",
              "            <tr>\n",
              "                        <th id=\"T_7b5f7_level0_row1\" class=\"row_heading level0 row1\" >ultra</th>\n",
              "                        <th id=\"T_7b5f7_level1_row1\" class=\"row_heading level1 row1\" >1950</th>\n",
              "                        <td id=\"T_7b5f7_row1_col0\" class=\"data row1 col0\" >1950.00</td>\n",
              "                        <td id=\"T_7b5f7_row1_col1\" class=\"data row1 col1\" >2060.60</td>\n",
              "                        <td id=\"T_7b5f7_row1_col2\" class=\"data row1 col2\" >127060.63</td>\n",
              "                        <td id=\"T_7b5f7_row1_col3\" class=\"data row1 col3\" >356.46</td>\n",
              "            </tr>\n",
              "    </tbody></table>"
            ],
            "text/plain": [
              "<pandas.io.formats.style.Styler at 0x7f2d4eaa4880>"
            ]
          },
          "execution_count": 73,
          "metadata": {},
          "output_type": "execute_result"
        }
      ],
      "source": [
        "df_users.groupby(['tariff_name','rub_monthly_fee'])\\\n",
        "  .agg({'total_paid':['median','mean','var','std']})\\\n",
        "  .style.format(\"{:.2f}\")"
      ]
    },
    {
      "cell_type": "markdown",
      "metadata": {
        "id": "glDr5XBe33d1"
      },
      "source": [
        "Ультру в основном платят по тарифу и мелкими группами превышают абонентскую плату. У \"Смарта\" пользователи чаще вылезают за абонентскую плату."
      ]
    },
    {
      "cell_type": "markdown",
      "metadata": {
        "id": "SzelTYVx33d1"
      },
      "source": [
        "Посмотрим сколько абонентов по каждому тарифу превышают абонентскую плату"
      ]
    },
    {
      "cell_type": "code",
      "execution_count": null,
      "metadata": {
        "id": "8C0MeNba33d1",
        "outputId": "7dfcffd3-cba1-49e4-d98b-0c0225bee36d"
      },
      "outputs": [
        {
          "data": {
            "text/html": [
              "<div>\n",
              "<style scoped>\n",
              "    .dataframe tbody tr th:only-of-type {\n",
              "        vertical-align: middle;\n",
              "    }\n",
              "\n",
              "    .dataframe tbody tr th {\n",
              "        vertical-align: top;\n",
              "    }\n",
              "\n",
              "    .dataframe thead th {\n",
              "        text-align: right;\n",
              "    }\n",
              "</style>\n",
              "<table border=\"1\" class=\"dataframe\">\n",
              "  <thead>\n",
              "    <tr style=\"text-align: right;\">\n",
              "      <th></th>\n",
              "      <th>user_id</th>\n",
              "      <th>month_x</th>\n",
              "      <th>month_calls_duration</th>\n",
              "      <th>calls_total_in_month</th>\n",
              "      <th>message_total_in_month</th>\n",
              "      <th>mb_total_in_month</th>\n",
              "      <th>age</th>\n",
              "      <th>churn_date</th>\n",
              "      <th>city</th>\n",
              "      <th>first_name</th>\n",
              "      <th>last_name</th>\n",
              "      <th>reg_date</th>\n",
              "      <th>tariff_name</th>\n",
              "      <th>month_y</th>\n",
              "      <th>messages_included</th>\n",
              "      <th>mb_per_month_included</th>\n",
              "      <th>minutes_included</th>\n",
              "      <th>rub_monthly_fee</th>\n",
              "      <th>rub_per_gb</th>\n",
              "      <th>rub_per_message</th>\n",
              "      <th>rub_per_minute</th>\n",
              "      <th>profit_month</th>\n",
              "      <th>total_paid</th>\n",
              "    </tr>\n",
              "  </thead>\n",
              "  <tbody>\n",
              "    <tr>\n",
              "      <th>159</th>\n",
              "      <td>1024</td>\n",
              "      <td>11</td>\n",
              "      <td>1146.0</td>\n",
              "      <td>157.0</td>\n",
              "      <td>0.0</td>\n",
              "      <td>43146.0</td>\n",
              "      <td>73</td>\n",
              "      <td>NaT</td>\n",
              "      <td>Санкт-Петербург</td>\n",
              "      <td>Иулиан</td>\n",
              "      <td>Антипов</td>\n",
              "      <td>2018-10-31</td>\n",
              "      <td>ultra</td>\n",
              "      <td>10</td>\n",
              "      <td>1000</td>\n",
              "      <td>30720</td>\n",
              "      <td>3000</td>\n",
              "      <td>1950</td>\n",
              "      <td>150</td>\n",
              "      <td>1</td>\n",
              "      <td>1</td>\n",
              "      <td>1821.0</td>\n",
              "      <td>3771.0</td>\n",
              "    </tr>\n",
              "    <tr>\n",
              "      <th>160</th>\n",
              "      <td>1024</td>\n",
              "      <td>12</td>\n",
              "      <td>949.0</td>\n",
              "      <td>136.0</td>\n",
              "      <td>0.0</td>\n",
              "      <td>35985.0</td>\n",
              "      <td>73</td>\n",
              "      <td>NaT</td>\n",
              "      <td>Санкт-Петербург</td>\n",
              "      <td>Иулиан</td>\n",
              "      <td>Антипов</td>\n",
              "      <td>2018-10-31</td>\n",
              "      <td>ultra</td>\n",
              "      <td>10</td>\n",
              "      <td>1000</td>\n",
              "      <td>30720</td>\n",
              "      <td>3000</td>\n",
              "      <td>1950</td>\n",
              "      <td>150</td>\n",
              "      <td>1</td>\n",
              "      <td>1</td>\n",
              "      <td>772.0</td>\n",
              "      <td>2722.0</td>\n",
              "    </tr>\n",
              "    <tr>\n",
              "      <th>311</th>\n",
              "      <td>1050</td>\n",
              "      <td>7</td>\n",
              "      <td>209.0</td>\n",
              "      <td>35.0</td>\n",
              "      <td>52.0</td>\n",
              "      <td>35205.0</td>\n",
              "      <td>44</td>\n",
              "      <td>2018-10-03</td>\n",
              "      <td>Тюмень</td>\n",
              "      <td>Рузана</td>\n",
              "      <td>Аничкина</td>\n",
              "      <td>2018-06-16</td>\n",
              "      <td>ultra</td>\n",
              "      <td>6</td>\n",
              "      <td>1000</td>\n",
              "      <td>30720</td>\n",
              "      <td>3000</td>\n",
              "      <td>1950</td>\n",
              "      <td>150</td>\n",
              "      <td>1</td>\n",
              "      <td>1</td>\n",
              "      <td>657.0</td>\n",
              "      <td>2607.0</td>\n",
              "    </tr>\n",
              "    <tr>\n",
              "      <th>383</th>\n",
              "      <td>1060</td>\n",
              "      <td>12</td>\n",
              "      <td>1233.0</td>\n",
              "      <td>184.0</td>\n",
              "      <td>52.0</td>\n",
              "      <td>43973.0</td>\n",
              "      <td>46</td>\n",
              "      <td>NaT</td>\n",
              "      <td>Калуга</td>\n",
              "      <td>Яков</td>\n",
              "      <td>Рудаков</td>\n",
              "      <td>2018-11-24</td>\n",
              "      <td>ultra</td>\n",
              "      <td>11</td>\n",
              "      <td>1000</td>\n",
              "      <td>30720</td>\n",
              "      <td>3000</td>\n",
              "      <td>1950</td>\n",
              "      <td>150</td>\n",
              "      <td>1</td>\n",
              "      <td>1</td>\n",
              "      <td>1942.0</td>\n",
              "      <td>3892.0</td>\n",
              "    </tr>\n",
              "    <tr>\n",
              "      <th>782</th>\n",
              "      <td>1124</td>\n",
              "      <td>10</td>\n",
              "      <td>1225.0</td>\n",
              "      <td>152.0</td>\n",
              "      <td>121.0</td>\n",
              "      <td>49789.0</td>\n",
              "      <td>54</td>\n",
              "      <td>NaT</td>\n",
              "      <td>Махачкала</td>\n",
              "      <td>Альбин</td>\n",
              "      <td>Андрианов</td>\n",
              "      <td>2018-09-24</td>\n",
              "      <td>ultra</td>\n",
              "      <td>9</td>\n",
              "      <td>1000</td>\n",
              "      <td>30720</td>\n",
              "      <td>3000</td>\n",
              "      <td>1950</td>\n",
              "      <td>150</td>\n",
              "      <td>1</td>\n",
              "      <td>1</td>\n",
              "      <td>2794.0</td>\n",
              "      <td>4744.0</td>\n",
              "    </tr>\n",
              "    <tr>\n",
              "      <th>...</th>\n",
              "      <td>...</td>\n",
              "      <td>...</td>\n",
              "      <td>...</td>\n",
              "      <td>...</td>\n",
              "      <td>...</td>\n",
              "      <td>...</td>\n",
              "      <td>...</td>\n",
              "      <td>...</td>\n",
              "      <td>...</td>\n",
              "      <td>...</td>\n",
              "      <td>...</td>\n",
              "      <td>...</td>\n",
              "      <td>...</td>\n",
              "      <td>...</td>\n",
              "      <td>...</td>\n",
              "      <td>...</td>\n",
              "      <td>...</td>\n",
              "      <td>...</td>\n",
              "      <td>...</td>\n",
              "      <td>...</td>\n",
              "      <td>...</td>\n",
              "      <td>...</td>\n",
              "      <td>...</td>\n",
              "    </tr>\n",
              "    <tr>\n",
              "      <th>3195</th>\n",
              "      <td>1231</td>\n",
              "      <td>9</td>\n",
              "      <td>0.0</td>\n",
              "      <td>0.0</td>\n",
              "      <td>188.0</td>\n",
              "      <td>33220.0</td>\n",
              "      <td>63</td>\n",
              "      <td>NaT</td>\n",
              "      <td>Чебоксары</td>\n",
              "      <td>Касьян</td>\n",
              "      <td>Авдюков</td>\n",
              "      <td>2018-05-23</td>\n",
              "      <td>ultra</td>\n",
              "      <td>5</td>\n",
              "      <td>1000</td>\n",
              "      <td>30720</td>\n",
              "      <td>3000</td>\n",
              "      <td>1950</td>\n",
              "      <td>150</td>\n",
              "      <td>1</td>\n",
              "      <td>1</td>\n",
              "      <td>367.0</td>\n",
              "      <td>2317.0</td>\n",
              "    </tr>\n",
              "    <tr>\n",
              "      <th>3196</th>\n",
              "      <td>1231</td>\n",
              "      <td>10</td>\n",
              "      <td>0.0</td>\n",
              "      <td>0.0</td>\n",
              "      <td>185.0</td>\n",
              "      <td>31060.0</td>\n",
              "      <td>63</td>\n",
              "      <td>NaT</td>\n",
              "      <td>Чебоксары</td>\n",
              "      <td>Касьян</td>\n",
              "      <td>Авдюков</td>\n",
              "      <td>2018-05-23</td>\n",
              "      <td>ultra</td>\n",
              "      <td>5</td>\n",
              "      <td>1000</td>\n",
              "      <td>30720</td>\n",
              "      <td>3000</td>\n",
              "      <td>1950</td>\n",
              "      <td>150</td>\n",
              "      <td>1</td>\n",
              "      <td>1</td>\n",
              "      <td>50.0</td>\n",
              "      <td>2000.0</td>\n",
              "    </tr>\n",
              "    <tr>\n",
              "      <th>3198</th>\n",
              "      <td>1231</td>\n",
              "      <td>12</td>\n",
              "      <td>0.0</td>\n",
              "      <td>0.0</td>\n",
              "      <td>191.0</td>\n",
              "      <td>32481.0</td>\n",
              "      <td>63</td>\n",
              "      <td>NaT</td>\n",
              "      <td>Чебоксары</td>\n",
              "      <td>Касьян</td>\n",
              "      <td>Авдюков</td>\n",
              "      <td>2018-05-23</td>\n",
              "      <td>ultra</td>\n",
              "      <td>5</td>\n",
              "      <td>1000</td>\n",
              "      <td>30720</td>\n",
              "      <td>3000</td>\n",
              "      <td>1950</td>\n",
              "      <td>150</td>\n",
              "      <td>1</td>\n",
              "      <td>1</td>\n",
              "      <td>258.0</td>\n",
              "      <td>2208.0</td>\n",
              "    </tr>\n",
              "    <tr>\n",
              "      <th>3200</th>\n",
              "      <td>1328</td>\n",
              "      <td>11</td>\n",
              "      <td>0.0</td>\n",
              "      <td>0.0</td>\n",
              "      <td>8.0</td>\n",
              "      <td>35567.0</td>\n",
              "      <td>44</td>\n",
              "      <td>NaT</td>\n",
              "      <td>Мурманск</td>\n",
              "      <td>Рауль</td>\n",
              "      <td>Аркадьев</td>\n",
              "      <td>2018-10-16</td>\n",
              "      <td>ultra</td>\n",
              "      <td>10</td>\n",
              "      <td>1000</td>\n",
              "      <td>30720</td>\n",
              "      <td>3000</td>\n",
              "      <td>1950</td>\n",
              "      <td>150</td>\n",
              "      <td>1</td>\n",
              "      <td>1</td>\n",
              "      <td>711.0</td>\n",
              "      <td>2661.0</td>\n",
              "    </tr>\n",
              "    <tr>\n",
              "      <th>3201</th>\n",
              "      <td>1328</td>\n",
              "      <td>12</td>\n",
              "      <td>0.0</td>\n",
              "      <td>0.0</td>\n",
              "      <td>7.0</td>\n",
              "      <td>39461.0</td>\n",
              "      <td>44</td>\n",
              "      <td>NaT</td>\n",
              "      <td>Мурманск</td>\n",
              "      <td>Рауль</td>\n",
              "      <td>Аркадьев</td>\n",
              "      <td>2018-10-16</td>\n",
              "      <td>ultra</td>\n",
              "      <td>10</td>\n",
              "      <td>1000</td>\n",
              "      <td>30720</td>\n",
              "      <td>3000</td>\n",
              "      <td>1950</td>\n",
              "      <td>150</td>\n",
              "      <td>1</td>\n",
              "      <td>1</td>\n",
              "      <td>1281.0</td>\n",
              "      <td>3231.0</td>\n",
              "    </tr>\n",
              "  </tbody>\n",
              "</table>\n",
              "<p>134 rows × 23 columns</p>\n",
              "</div>"
            ],
            "text/plain": [
              "      user_id  month_x  month_calls_duration  calls_total_in_month  \\\n",
              "159      1024       11                1146.0                 157.0   \n",
              "160      1024       12                 949.0                 136.0   \n",
              "311      1050        7                 209.0                  35.0   \n",
              "383      1060       12                1233.0                 184.0   \n",
              "782      1124       10                1225.0                 152.0   \n",
              "...       ...      ...                   ...                   ...   \n",
              "3195     1231        9                   0.0                   0.0   \n",
              "3196     1231       10                   0.0                   0.0   \n",
              "3198     1231       12                   0.0                   0.0   \n",
              "3200     1328       11                   0.0                   0.0   \n",
              "3201     1328       12                   0.0                   0.0   \n",
              "\n",
              "      message_total_in_month  mb_total_in_month  age churn_date  \\\n",
              "159                      0.0            43146.0   73        NaT   \n",
              "160                      0.0            35985.0   73        NaT   \n",
              "311                     52.0            35205.0   44 2018-10-03   \n",
              "383                     52.0            43973.0   46        NaT   \n",
              "782                    121.0            49789.0   54        NaT   \n",
              "...                      ...                ...  ...        ...   \n",
              "3195                   188.0            33220.0   63        NaT   \n",
              "3196                   185.0            31060.0   63        NaT   \n",
              "3198                   191.0            32481.0   63        NaT   \n",
              "3200                     8.0            35567.0   44        NaT   \n",
              "3201                     7.0            39461.0   44        NaT   \n",
              "\n",
              "                 city first_name  last_name   reg_date tariff_name  month_y  \\\n",
              "159   Санкт-Петербург     Иулиан    Антипов 2018-10-31       ultra       10   \n",
              "160   Санкт-Петербург     Иулиан    Антипов 2018-10-31       ultra       10   \n",
              "311            Тюмень     Рузана   Аничкина 2018-06-16       ultra        6   \n",
              "383            Калуга       Яков    Рудаков 2018-11-24       ultra       11   \n",
              "782         Махачкала     Альбин  Андрианов 2018-09-24       ultra        9   \n",
              "...               ...        ...        ...        ...         ...      ...   \n",
              "3195        Чебоксары     Касьян    Авдюков 2018-05-23       ultra        5   \n",
              "3196        Чебоксары     Касьян    Авдюков 2018-05-23       ultra        5   \n",
              "3198        Чебоксары     Касьян    Авдюков 2018-05-23       ultra        5   \n",
              "3200         Мурманск      Рауль   Аркадьев 2018-10-16       ultra       10   \n",
              "3201         Мурманск      Рауль   Аркадьев 2018-10-16       ultra       10   \n",
              "\n",
              "      messages_included  mb_per_month_included  minutes_included  \\\n",
              "159                1000                  30720              3000   \n",
              "160                1000                  30720              3000   \n",
              "311                1000                  30720              3000   \n",
              "383                1000                  30720              3000   \n",
              "782                1000                  30720              3000   \n",
              "...                 ...                    ...               ...   \n",
              "3195               1000                  30720              3000   \n",
              "3196               1000                  30720              3000   \n",
              "3198               1000                  30720              3000   \n",
              "3200               1000                  30720              3000   \n",
              "3201               1000                  30720              3000   \n",
              "\n",
              "      rub_monthly_fee  rub_per_gb  rub_per_message  rub_per_minute  \\\n",
              "159              1950         150                1               1   \n",
              "160              1950         150                1               1   \n",
              "311              1950         150                1               1   \n",
              "383              1950         150                1               1   \n",
              "782              1950         150                1               1   \n",
              "...               ...         ...              ...             ...   \n",
              "3195             1950         150                1               1   \n",
              "3196             1950         150                1               1   \n",
              "3198             1950         150                1               1   \n",
              "3200             1950         150                1               1   \n",
              "3201             1950         150                1               1   \n",
              "\n",
              "      profit_month  total_paid  \n",
              "159         1821.0      3771.0  \n",
              "160          772.0      2722.0  \n",
              "311          657.0      2607.0  \n",
              "383         1942.0      3892.0  \n",
              "782         2794.0      4744.0  \n",
              "...            ...         ...  \n",
              "3195         367.0      2317.0  \n",
              "3196          50.0      2000.0  \n",
              "3198         258.0      2208.0  \n",
              "3200         711.0      2661.0  \n",
              "3201        1281.0      3231.0  \n",
              "\n",
              "[134 rows x 23 columns]"
            ]
          },
          "execution_count": 74,
          "metadata": {},
          "output_type": "execute_result"
        }
      ],
      "source": [
        "df_users[(df_users['total_paid'] > 1950)&(df_users['tariff_name'] == 'ultra')]"
      ]
    },
    {
      "cell_type": "code",
      "execution_count": null,
      "metadata": {
        "id": "iA8t5Vxt33d2",
        "outputId": "e9847130-4006-4f90-b1fd-f3bafde31d8c"
      },
      "outputs": [
        {
          "data": {
            "text/html": [
              "<div>\n",
              "<style scoped>\n",
              "    .dataframe tbody tr th:only-of-type {\n",
              "        vertical-align: middle;\n",
              "    }\n",
              "\n",
              "    .dataframe tbody tr th {\n",
              "        vertical-align: top;\n",
              "    }\n",
              "\n",
              "    .dataframe thead th {\n",
              "        text-align: right;\n",
              "    }\n",
              "</style>\n",
              "<table border=\"1\" class=\"dataframe\">\n",
              "  <thead>\n",
              "    <tr style=\"text-align: right;\">\n",
              "      <th></th>\n",
              "      <th>user_id</th>\n",
              "      <th>month_x</th>\n",
              "      <th>month_calls_duration</th>\n",
              "      <th>calls_total_in_month</th>\n",
              "      <th>message_total_in_month</th>\n",
              "      <th>mb_total_in_month</th>\n",
              "      <th>age</th>\n",
              "      <th>churn_date</th>\n",
              "      <th>city</th>\n",
              "      <th>first_name</th>\n",
              "      <th>last_name</th>\n",
              "      <th>reg_date</th>\n",
              "      <th>tariff_name</th>\n",
              "      <th>month_y</th>\n",
              "      <th>messages_included</th>\n",
              "      <th>mb_per_month_included</th>\n",
              "      <th>minutes_included</th>\n",
              "      <th>rub_monthly_fee</th>\n",
              "      <th>rub_per_gb</th>\n",
              "      <th>rub_per_message</th>\n",
              "      <th>rub_per_minute</th>\n",
              "      <th>profit_month</th>\n",
              "      <th>total_paid</th>\n",
              "    </tr>\n",
              "  </thead>\n",
              "  <tbody>\n",
              "    <tr>\n",
              "      <th>8</th>\n",
              "      <td>1001</td>\n",
              "      <td>11</td>\n",
              "      <td>430.0</td>\n",
              "      <td>59.0</td>\n",
              "      <td>0.0</td>\n",
              "      <td>18452.0</td>\n",
              "      <td>41</td>\n",
              "      <td>NaT</td>\n",
              "      <td>Москва</td>\n",
              "      <td>Иван</td>\n",
              "      <td>Ежов</td>\n",
              "      <td>2018-11-01</td>\n",
              "      <td>smart</td>\n",
              "      <td>11</td>\n",
              "      <td>50</td>\n",
              "      <td>15360</td>\n",
              "      <td>500</td>\n",
              "      <td>550</td>\n",
              "      <td>200</td>\n",
              "      <td>3</td>\n",
              "      <td>3</td>\n",
              "      <td>604.0</td>\n",
              "      <td>1154.0</td>\n",
              "    </tr>\n",
              "    <tr>\n",
              "      <th>11</th>\n",
              "      <td>1002</td>\n",
              "      <td>7</td>\n",
              "      <td>214.0</td>\n",
              "      <td>26.0</td>\n",
              "      <td>11.0</td>\n",
              "      <td>17601.0</td>\n",
              "      <td>59</td>\n",
              "      <td>NaT</td>\n",
              "      <td>Стерлитамак</td>\n",
              "      <td>Евгений</td>\n",
              "      <td>Абрамович</td>\n",
              "      <td>2018-06-17</td>\n",
              "      <td>smart</td>\n",
              "      <td>6</td>\n",
              "      <td>50</td>\n",
              "      <td>15360</td>\n",
              "      <td>500</td>\n",
              "      <td>550</td>\n",
              "      <td>200</td>\n",
              "      <td>3</td>\n",
              "      <td>3</td>\n",
              "      <td>438.0</td>\n",
              "      <td>988.0</td>\n",
              "    </tr>\n",
              "    <tr>\n",
              "      <th>12</th>\n",
              "      <td>1002</td>\n",
              "      <td>8</td>\n",
              "      <td>289.0</td>\n",
              "      <td>42.0</td>\n",
              "      <td>13.0</td>\n",
              "      <td>20347.0</td>\n",
              "      <td>59</td>\n",
              "      <td>NaT</td>\n",
              "      <td>Стерлитамак</td>\n",
              "      <td>Евгений</td>\n",
              "      <td>Абрамович</td>\n",
              "      <td>2018-06-17</td>\n",
              "      <td>smart</td>\n",
              "      <td>6</td>\n",
              "      <td>50</td>\n",
              "      <td>15360</td>\n",
              "      <td>500</td>\n",
              "      <td>550</td>\n",
              "      <td>200</td>\n",
              "      <td>3</td>\n",
              "      <td>3</td>\n",
              "      <td>975.0</td>\n",
              "      <td>1525.0</td>\n",
              "    </tr>\n",
              "    <tr>\n",
              "      <th>13</th>\n",
              "      <td>1002</td>\n",
              "      <td>9</td>\n",
              "      <td>206.0</td>\n",
              "      <td>36.0</td>\n",
              "      <td>4.0</td>\n",
              "      <td>16712.0</td>\n",
              "      <td>59</td>\n",
              "      <td>NaT</td>\n",
              "      <td>Стерлитамак</td>\n",
              "      <td>Евгений</td>\n",
              "      <td>Абрамович</td>\n",
              "      <td>2018-06-17</td>\n",
              "      <td>smart</td>\n",
              "      <td>6</td>\n",
              "      <td>50</td>\n",
              "      <td>15360</td>\n",
              "      <td>500</td>\n",
              "      <td>550</td>\n",
              "      <td>200</td>\n",
              "      <td>3</td>\n",
              "      <td>3</td>\n",
              "      <td>265.0</td>\n",
              "      <td>815.0</td>\n",
              "    </tr>\n",
              "    <tr>\n",
              "      <th>15</th>\n",
              "      <td>1002</td>\n",
              "      <td>11</td>\n",
              "      <td>243.0</td>\n",
              "      <td>32.0</td>\n",
              "      <td>16.0</td>\n",
              "      <td>18610.0</td>\n",
              "      <td>59</td>\n",
              "      <td>NaT</td>\n",
              "      <td>Стерлитамак</td>\n",
              "      <td>Евгений</td>\n",
              "      <td>Абрамович</td>\n",
              "      <td>2018-06-17</td>\n",
              "      <td>smart</td>\n",
              "      <td>6</td>\n",
              "      <td>50</td>\n",
              "      <td>15360</td>\n",
              "      <td>500</td>\n",
              "      <td>550</td>\n",
              "      <td>200</td>\n",
              "      <td>3</td>\n",
              "      <td>3</td>\n",
              "      <td>635.0</td>\n",
              "      <td>1185.0</td>\n",
              "    </tr>\n",
              "    <tr>\n",
              "      <th>...</th>\n",
              "      <td>...</td>\n",
              "      <td>...</td>\n",
              "      <td>...</td>\n",
              "      <td>...</td>\n",
              "      <td>...</td>\n",
              "      <td>...</td>\n",
              "      <td>...</td>\n",
              "      <td>...</td>\n",
              "      <td>...</td>\n",
              "      <td>...</td>\n",
              "      <td>...</td>\n",
              "      <td>...</td>\n",
              "      <td>...</td>\n",
              "      <td>...</td>\n",
              "      <td>...</td>\n",
              "      <td>...</td>\n",
              "      <td>...</td>\n",
              "      <td>...</td>\n",
              "      <td>...</td>\n",
              "      <td>...</td>\n",
              "      <td>...</td>\n",
              "      <td>...</td>\n",
              "      <td>...</td>\n",
              "    </tr>\n",
              "    <tr>\n",
              "      <th>3173</th>\n",
              "      <td>1499</td>\n",
              "      <td>12</td>\n",
              "      <td>492.0</td>\n",
              "      <td>69.0</td>\n",
              "      <td>66.0</td>\n",
              "      <td>13077.0</td>\n",
              "      <td>35</td>\n",
              "      <td>NaT</td>\n",
              "      <td>Пермь</td>\n",
              "      <td>Гектор</td>\n",
              "      <td>Корнилов</td>\n",
              "      <td>2018-09-27</td>\n",
              "      <td>smart</td>\n",
              "      <td>9</td>\n",
              "      <td>50</td>\n",
              "      <td>15360</td>\n",
              "      <td>500</td>\n",
              "      <td>550</td>\n",
              "      <td>200</td>\n",
              "      <td>3</td>\n",
              "      <td>3</td>\n",
              "      <td>48.0</td>\n",
              "      <td>598.0</td>\n",
              "    </tr>\n",
              "    <tr>\n",
              "      <th>3209</th>\n",
              "      <td>1489</td>\n",
              "      <td>9</td>\n",
              "      <td>0.0</td>\n",
              "      <td>0.0</td>\n",
              "      <td>32.0</td>\n",
              "      <td>17232.0</td>\n",
              "      <td>35</td>\n",
              "      <td>NaT</td>\n",
              "      <td>Санкт-Петербург</td>\n",
              "      <td>Павел</td>\n",
              "      <td>Гончаров</td>\n",
              "      <td>2018-08-15</td>\n",
              "      <td>smart</td>\n",
              "      <td>8</td>\n",
              "      <td>50</td>\n",
              "      <td>15360</td>\n",
              "      <td>500</td>\n",
              "      <td>550</td>\n",
              "      <td>200</td>\n",
              "      <td>3</td>\n",
              "      <td>3</td>\n",
              "      <td>366.0</td>\n",
              "      <td>916.0</td>\n",
              "    </tr>\n",
              "    <tr>\n",
              "      <th>3210</th>\n",
              "      <td>1489</td>\n",
              "      <td>10</td>\n",
              "      <td>0.0</td>\n",
              "      <td>0.0</td>\n",
              "      <td>21.0</td>\n",
              "      <td>19588.0</td>\n",
              "      <td>35</td>\n",
              "      <td>NaT</td>\n",
              "      <td>Санкт-Петербург</td>\n",
              "      <td>Павел</td>\n",
              "      <td>Гончаров</td>\n",
              "      <td>2018-08-15</td>\n",
              "      <td>smart</td>\n",
              "      <td>8</td>\n",
              "      <td>50</td>\n",
              "      <td>15360</td>\n",
              "      <td>500</td>\n",
              "      <td>550</td>\n",
              "      <td>200</td>\n",
              "      <td>3</td>\n",
              "      <td>3</td>\n",
              "      <td>826.0</td>\n",
              "      <td>1376.0</td>\n",
              "    </tr>\n",
              "    <tr>\n",
              "      <th>3211</th>\n",
              "      <td>1489</td>\n",
              "      <td>11</td>\n",
              "      <td>0.0</td>\n",
              "      <td>0.0</td>\n",
              "      <td>20.0</td>\n",
              "      <td>17516.0</td>\n",
              "      <td>35</td>\n",
              "      <td>NaT</td>\n",
              "      <td>Санкт-Петербург</td>\n",
              "      <td>Павел</td>\n",
              "      <td>Гончаров</td>\n",
              "      <td>2018-08-15</td>\n",
              "      <td>smart</td>\n",
              "      <td>8</td>\n",
              "      <td>50</td>\n",
              "      <td>15360</td>\n",
              "      <td>500</td>\n",
              "      <td>550</td>\n",
              "      <td>200</td>\n",
              "      <td>3</td>\n",
              "      <td>3</td>\n",
              "      <td>422.0</td>\n",
              "      <td>972.0</td>\n",
              "    </tr>\n",
              "    <tr>\n",
              "      <th>3212</th>\n",
              "      <td>1489</td>\n",
              "      <td>12</td>\n",
              "      <td>0.0</td>\n",
              "      <td>0.0</td>\n",
              "      <td>35.0</td>\n",
              "      <td>17341.0</td>\n",
              "      <td>35</td>\n",
              "      <td>NaT</td>\n",
              "      <td>Санкт-Петербург</td>\n",
              "      <td>Павел</td>\n",
              "      <td>Гончаров</td>\n",
              "      <td>2018-08-15</td>\n",
              "      <td>smart</td>\n",
              "      <td>8</td>\n",
              "      <td>50</td>\n",
              "      <td>15360</td>\n",
              "      <td>500</td>\n",
              "      <td>550</td>\n",
              "      <td>200</td>\n",
              "      <td>3</td>\n",
              "      <td>3</td>\n",
              "      <td>387.0</td>\n",
              "      <td>937.0</td>\n",
              "    </tr>\n",
              "  </tbody>\n",
              "</table>\n",
              "<p>1665 rows × 23 columns</p>\n",
              "</div>"
            ],
            "text/plain": [
              "      user_id  month_x  month_calls_duration  calls_total_in_month  \\\n",
              "8        1001       11                 430.0                  59.0   \n",
              "11       1002        7                 214.0                  26.0   \n",
              "12       1002        8                 289.0                  42.0   \n",
              "13       1002        9                 206.0                  36.0   \n",
              "15       1002       11                 243.0                  32.0   \n",
              "...       ...      ...                   ...                   ...   \n",
              "3173     1499       12                 492.0                  69.0   \n",
              "3209     1489        9                   0.0                   0.0   \n",
              "3210     1489       10                   0.0                   0.0   \n",
              "3211     1489       11                   0.0                   0.0   \n",
              "3212     1489       12                   0.0                   0.0   \n",
              "\n",
              "      message_total_in_month  mb_total_in_month  age churn_date  \\\n",
              "8                        0.0            18452.0   41        NaT   \n",
              "11                      11.0            17601.0   59        NaT   \n",
              "12                      13.0            20347.0   59        NaT   \n",
              "13                       4.0            16712.0   59        NaT   \n",
              "15                      16.0            18610.0   59        NaT   \n",
              "...                      ...                ...  ...        ...   \n",
              "3173                    66.0            13077.0   35        NaT   \n",
              "3209                    32.0            17232.0   35        NaT   \n",
              "3210                    21.0            19588.0   35        NaT   \n",
              "3211                    20.0            17516.0   35        NaT   \n",
              "3212                    35.0            17341.0   35        NaT   \n",
              "\n",
              "                 city first_name  last_name   reg_date tariff_name  month_y  \\\n",
              "8              Москва       Иван       Ежов 2018-11-01       smart       11   \n",
              "11        Стерлитамак    Евгений  Абрамович 2018-06-17       smart        6   \n",
              "12        Стерлитамак    Евгений  Абрамович 2018-06-17       smart        6   \n",
              "13        Стерлитамак    Евгений  Абрамович 2018-06-17       smart        6   \n",
              "15        Стерлитамак    Евгений  Абрамович 2018-06-17       smart        6   \n",
              "...               ...        ...        ...        ...         ...      ...   \n",
              "3173            Пермь     Гектор   Корнилов 2018-09-27       smart        9   \n",
              "3209  Санкт-Петербург      Павел   Гончаров 2018-08-15       smart        8   \n",
              "3210  Санкт-Петербург      Павел   Гончаров 2018-08-15       smart        8   \n",
              "3211  Санкт-Петербург      Павел   Гончаров 2018-08-15       smart        8   \n",
              "3212  Санкт-Петербург      Павел   Гончаров 2018-08-15       smart        8   \n",
              "\n",
              "      messages_included  mb_per_month_included  minutes_included  \\\n",
              "8                    50                  15360               500   \n",
              "11                   50                  15360               500   \n",
              "12                   50                  15360               500   \n",
              "13                   50                  15360               500   \n",
              "15                   50                  15360               500   \n",
              "...                 ...                    ...               ...   \n",
              "3173                 50                  15360               500   \n",
              "3209                 50                  15360               500   \n",
              "3210                 50                  15360               500   \n",
              "3211                 50                  15360               500   \n",
              "3212                 50                  15360               500   \n",
              "\n",
              "      rub_monthly_fee  rub_per_gb  rub_per_message  rub_per_minute  \\\n",
              "8                 550         200                3               3   \n",
              "11                550         200                3               3   \n",
              "12                550         200                3               3   \n",
              "13                550         200                3               3   \n",
              "15                550         200                3               3   \n",
              "...               ...         ...              ...             ...   \n",
              "3173              550         200                3               3   \n",
              "3209              550         200                3               3   \n",
              "3210              550         200                3               3   \n",
              "3211              550         200                3               3   \n",
              "3212              550         200                3               3   \n",
              "\n",
              "      profit_month  total_paid  \n",
              "8            604.0      1154.0  \n",
              "11           438.0       988.0  \n",
              "12           975.0      1525.0  \n",
              "13           265.0       815.0  \n",
              "15           635.0      1185.0  \n",
              "...            ...         ...  \n",
              "3173          48.0       598.0  \n",
              "3209         366.0       916.0  \n",
              "3210         826.0      1376.0  \n",
              "3211         422.0       972.0  \n",
              "3212         387.0       937.0  \n",
              "\n",
              "[1665 rows x 23 columns]"
            ]
          },
          "execution_count": 75,
          "metadata": {},
          "output_type": "execute_result"
        }
      ],
      "source": [
        "df_users[(df_users['total_paid'] > 550)&(df_users['tariff_name'] == 'smart')]"
      ]
    },
    {
      "cell_type": "markdown",
      "metadata": {
        "id": "Y6SUue7R33d2"
      },
      "source": [
        "Как видим, пользователей которые превышали тарифный план у \"Смарт\" довольно значительное количество (1665 абонентов из 2229, тут не учитывается уникальность абонента каждый абонет в конкретный месяц рассматривается заново). Посмотрим это наглядно"
      ]
    },
    {
      "cell_type": "markdown",
      "metadata": {
        "id": "GNd7IPYc33d2"
      },
      "source": [
        "Для удобства создадим колонку с превышением лимита: \"0\" - клиент не превышал месячные лимиты тарифа, \"1\" - превышал."
      ]
    },
    {
      "cell_type": "code",
      "execution_count": null,
      "metadata": {
        "id": "rlJYFjWG33d2"
      },
      "outputs": [],
      "source": [
        "df_users['overlimit'] = np.where(df_users['profit_month'] > 0, 1, 0)"
      ]
    },
    {
      "cell_type": "markdown",
      "metadata": {
        "id": "Ydli7yZN33d3"
      },
      "source": [
        "Построим круговую диаграмму по каждому тарифу, показывающую сколько пользователей превышают абонентскую плату и берут доп.услуги"
      ]
    },
    {
      "cell_type": "code",
      "execution_count": null,
      "metadata": {
        "id": "Oreg_LJS33d3",
        "outputId": "5851bd17-2be6-49c8-b106-6a29a1d789b2"
      },
      "outputs": [
        {
          "data": {
            "image/png": "[encoded data removed]",
            "text/plain": [
              "<Figure size 1440x360 with 2 Axes>"
            ]
          },
          "metadata": {},
          "output_type": "display_data"
        }
      ],
      "source": [
        "filter_list = ['smart', 'ultra']\n",
        "titles_list = ['Абоненты \"Смарт\"', 'Абоненты \"Ультра\"']\n",
        "rows = 1\n",
        "cols = 2\n",
        "filter_list_counter = 0\n",
        "\n",
        "sum_smart = df_users[df_users['tariff_name'] == 'smart'].count()['user_id']\n",
        "sum_ultra = df_users[df_users['tariff_name'] == 'ultra'].count()['user_id']\n",
        "\n",
        "\n",
        "def func_percent(percent): # напишем функцию вычисления проуентов пользователец\n",
        "    if percent < 75 and percent > 25:\n",
        "        value = float(percent/100.*sum_smart)\n",
        "    else:\n",
        "        value = float(percent/100.*sum_ultra)\n",
        "    return  \"{:.2f}%\\n\".format(percent, value)\n",
        "\n",
        "fig, axes = plt.subplots(rows, cols, figsize=(20,10))\n",
        "\n",
        "for r in range(rows):\n",
        "    for c in range(cols):\n",
        "        if filter_list[filter_list_counter] == 'smart':\n",
        "            colors = ['red', 'lightgreen']\n",
        "        else:\n",
        "            colors = ['lightblue', 'yellow']\n",
        "        filtered_df = df_users[df_users['tariff_name'] == filter_list[filter_list_counter]].groupby('overlimit')['user_id']\n",
        "        ax = filtered_df.count().plot(kind='pie',  fontsize=14, title=titles_list[filter_list_counter], \n",
        "                                           pctdistance=0.5,  figsize=(20,5),\n",
        "                                           autopct=lambda percent: func_percent(percent),startangle=200, ax=axes[c], colors=colors,\n",
        "                                           labels=None)\n",
        "\n",
        "        filter_list_counter += 1\n",
        "\n",
        "plt.tight_layout(pad=3) # впишем заголовок в область рисунка\n",
        "\n",
        "for ax in axes:\n",
        "    ax.legend(['В рамках тарифа', 'Доп. услуги'], bbox_to_anchor=(0.9,0.9), prop={'size':15})\n",
        "    ax.set_ylabel('')\n",
        "    ax.title.set_size(16)\n",
        "    ax.title.set_position([0.5, 0.5])"
      ]
    },
    {
      "cell_type": "markdown",
      "metadata": {
        "id": "7z30rwsH33d3"
      },
      "source": [
        "По тарифу \"Смарт\" примерно 75% клиентам не хватает заложенных в абонентскую плату минут, СМС, интернета и он берет дополнительные пакеты этих услуг.\n",
        "Почти всем клиентам тарифа \"Ультра\" всего хватает, кроме 13,6% - они тоже добирают доп.пакеты услуг сверх абонентской платы."
      ]
    },
    {
      "cell_type": "markdown",
      "metadata": {
        "id": "G5FrNt7c33d5"
      },
      "source": [
        "##  Проверка гипотез"
      ]
    },
    {
      "cell_type": "markdown",
      "metadata": {
        "id": "YptulsZ033d5"
      },
      "source": [
        "### Проверка гипотезы: средняя выручка пользователей тарифов «Ультра» и «Смарт» различаются"
      ]
    },
    {
      "cell_type": "markdown",
      "metadata": {
        "id": "cmJpTTta33d5"
      },
      "source": [
        "Сформулируем гипотезы:\n",
        "\n",
        "Нулевая гипотеза H0 - средняя выручка абонентов тарифа \"Смарт\" не отличается от средней выручки абонентов тарифа \"Ультра\".\n",
        "Альтернативная гипотеза Н1 - средняя выручка абонентов тарифа \"Смарт\" отличается от средней выручки абонентов тарифа \"Ультра\"."
      ]
    },
    {
      "cell_type": "markdown",
      "metadata": {
        "id": "i9PPSFzk33d5"
      },
      "source": [
        "Создадим 2 таблицы с выборкой по каждому тарифу"
      ]
    },
    {
      "cell_type": "code",
      "execution_count": null,
      "metadata": {
        "id": "J9LlPxQj33d5"
      },
      "outputs": [],
      "source": [
        "smart = df_users[df_users['tariff_name'] == 'smart']\n",
        "ultra = df_users[df_users['tariff_name'] == 'ultra']"
      ]
    },
    {
      "cell_type": "markdown",
      "metadata": {
        "id": "DTNHunE033d6"
      },
      "source": [
        "Поскольку наши массивы не зависят друг от друга будем использовать и в них более 30 строк, будем использовать распределение Стьюдента и t-тест, метод scipy.stats.ttest_ind "
      ]
    },
    {
      "cell_type": "markdown",
      "metadata": {
        "id": "QnykyZPF33d6"
      },
      "source": [
        "Критический уровень значимости задаем 0.05 (чтобы правильность вывода была не менее 95%)"
      ]
    },
    {
      "cell_type": "code",
      "execution_count": null,
      "metadata": {
        "id": "OX_b0gTZ33d6",
        "outputId": "45c8a9fc-a737-4491-c457-534e63181036"
      },
      "outputs": [
        {
          "name": "stdout",
          "output_type": "stream",
          "text": [
            "p-value: 1.620572799195892e-295\n",
            "Отвергаем нулевую гипотезу\n"
          ]
        }
      ],
      "source": [
        "alpha = 0.05\n",
        "results = st.ttest_ind(smart['total_paid'], ultra['total_paid'], equal_var = False)\n",
        "\n",
        "print('p-value:', results.pvalue)\n",
        "\n",
        "if (results.pvalue < alpha):\n",
        "    print(\"Отвергаем нулевую гипотезу\")\n",
        "else:\n",
        "    print(\"Не отвергаем нулевую гипотезу\")"
      ]
    },
    {
      "cell_type": "markdown",
      "metadata": {
        "id": "VV2cWeoL33d6"
      },
      "source": [
        "Нулевую гипотезу отвергаем.\n",
        "Верно утверждение, что средняя выручка абонентов тарифов \"Смарт\" и \"Ультра\" различается"
      ]
    },
    {
      "cell_type": "markdown",
      "metadata": {
        "id": "o1iXF9o833d6"
      },
      "source": [
        "Ради интереса проверим среднюю выручку по тарифам"
      ]
    },
    {
      "cell_type": "code",
      "execution_count": null,
      "metadata": {
        "id": "o-AbUzFn33d7",
        "outputId": "e492c4b5-2d56-4ea7-c5b6-0cf7b3594027"
      },
      "outputs": [
        {
          "name": "stdout",
          "output_type": "stream",
          "text": [
            "Средняя выручка по абонентам тарифа \"Смарт\" : 1233.64\n",
            "Средняя выручка по абонентам тарифа \"Ультра\" : 2060.60\n"
          ]
        }
      ],
      "source": [
        "print('Средняя выручка по абонентам тарифа \"Смарт\" : {:.2f}'.format(smart['total_paid'].mean()))\n",
        "print('Средняя выручка по абонентам тарифа \"Ультра\" : {:.2f}'.format(ultra['total_paid'].mean()))"
      ]
    },
    {
      "cell_type": "markdown",
      "metadata": {
        "id": "D1VHAwY333d7"
      },
      "source": [
        "Абоненты тарифа \"Ультра\" в среднем приносят больше денег, т.к. их абонентская плата в 3,5 раза выше, чем абонентская плата тарифа \"Смарт\" (1950р. и 550р. соответственно). Клиенты с тарифом \"Смарт\" часто (в 75% случаев) превышают пределы своего тарифа и заказывают доп. услуги, но всё равно не догоняют по тратам абонентов с тарифом \"Ультра\"."
      ]
    },
    {
      "cell_type": "markdown",
      "metadata": {
        "id": "cyWUXp-733d7"
      },
      "source": [
        "### Проверка гипотезы: средняя выручка пользователей из Москвы отличается от выручки пользователей из других регионов."
      ]
    },
    {
      "cell_type": "markdown",
      "metadata": {
        "id": "LPh8XtZd33d7"
      },
      "source": [
        "Сформулируем гипотезы:\n",
        "\n",
        "Нулевая гипотеза H0 - средняя выручка пользователей из Москвы не отличается от выручки пользователей из других регионов\n",
        "Альтернативная гипотеза H1 - средняя выручка пользователей из Москвы отличается от выручки пользователей из других регионов"
      ]
    },
    {
      "cell_type": "markdown",
      "metadata": {
        "id": "Jk63o21e33d8"
      },
      "source": [
        "Проверим уникальные значения столбца \"city\", чтобы исключить разные написания города Москва"
      ]
    },
    {
      "cell_type": "code",
      "execution_count": null,
      "metadata": {
        "id": "JTJ3zLdh33d8",
        "outputId": "48531a14-7385-4f1b-e375-195712e0c24d"
      },
      "outputs": [
        {
          "data": {
            "text/plain": [
              "array(['Краснодар', 'Москва', 'Стерлитамак', 'Новокузнецк',\n",
              "       'Набережные Челны', 'Ульяновск', 'Челябинск', 'Пермь', 'Тюмень',\n",
              "       'Самара', 'Санкт-Петербург', 'Иваново', 'Чебоксары', 'Омск', 'Уфа',\n",
              "       'Томск', 'Чита', 'Мурманск', 'Петрозаводск', 'Тверь',\n",
              "       'Екатеринбург', 'Махачкала', 'Вологда', 'Череповец', 'Ярославль',\n",
              "       'Сочи', 'Хабаровск', 'Ставрополь', 'Рязань', 'Улан-Удэ', 'Тула',\n",
              "       'Саратов', 'Ростов-на-Дону', 'Казань', 'Иркутск', 'Курск',\n",
              "       'Калуга', 'Якутск', 'Астрахань', 'Химки', 'Владикавказ',\n",
              "       'Волгоград', 'Саранск', 'Ижевск', 'Новосибирск', 'Брянск',\n",
              "       'Тольятти', 'Нижний Тагил', 'Орёл', 'Белгород', 'Воронеж',\n",
              "       'Курган', 'Барнаул', 'Красноярск', 'Архангельск', 'Липецк',\n",
              "       'Кемерово', 'Киров', 'Сургут', 'Пенза', 'Волжский', 'Магнитогорск',\n",
              "       'Нижний Новгород', 'Кострома', 'Владивосток', 'Тамбов', 'Балашиха',\n",
              "       'Севастополь', 'Калининград', 'Оренбург', 'Смоленск',\n",
              "       'Нижневартовск', 'Владимир', 'Новороссийск', 'Грозный', 'Подольск'],\n",
              "      dtype=object)"
            ]
          },
          "execution_count": 81,
          "metadata": {},
          "output_type": "execute_result"
        }
      ],
      "source": [
        "df_users['city'].unique()"
      ]
    },
    {
      "cell_type": "markdown",
      "metadata": {
        "id": "WIRMOofx33d8"
      },
      "source": [
        "Москва имеет один вариант написания"
      ]
    },
    {
      "cell_type": "markdown",
      "metadata": {
        "id": "TBcaNSUg33d9"
      },
      "source": [
        "Создадим две таблицы с выборками \"Москва\" и \"не Москва\""
      ]
    },
    {
      "cell_type": "code",
      "execution_count": null,
      "metadata": {
        "id": "AQtTSHdc33d9"
      },
      "outputs": [],
      "source": [
        "moscow = df_users[df_users['city'] == 'Москва']\n",
        "other = df_users[df_users['city'] != 'Москва']"
      ]
    },
    {
      "cell_type": "markdown",
      "metadata": {
        "id": "vBaO8p7W33d9"
      },
      "source": [
        "Поскольку наши массивы не зависят друг от друга будем использовать и в них более 30 строк, будем использовать распределение Стьюдента и t-тест, метод scipy.stats.ttest_ind "
      ]
    },
    {
      "cell_type": "markdown",
      "metadata": {
        "id": "HvADu7rR33d-"
      },
      "source": [
        "Критический уровень значимости задаем 0.05 (чтобы правильность вывода была не менее 95%)"
      ]
    },
    {
      "cell_type": "code",
      "execution_count": null,
      "metadata": {
        "id": "4DXG4ZQ833d-",
        "outputId": "938fa2f4-9c35-463a-ea4f-b860395a3089"
      },
      "outputs": [
        {
          "name": "stdout",
          "output_type": "stream",
          "text": [
            "p-values: 0.4553974892423337\n",
            "Не отвергаем нулевую гипотезу\n"
          ]
        }
      ],
      "source": [
        "alpha = 0.05\n",
        "\n",
        "results_m = st.ttest_ind(moscow['total_paid'], other['total_paid'], equal_var = False)\n",
        "\n",
        "print('p-values:',results_m.pvalue)\n",
        "\n",
        "if (results_m.pvalue < alpha):\n",
        "    print('Отвергаем нулевую гипотезу')\n",
        "else:\n",
        "    print('Не отвергаем нулевую гипотезу')\n"
      ]
    },
    {
      "cell_type": "markdown",
      "metadata": {
        "id": "PCykt1rk33d_"
      },
      "source": [
        "Не отвергаем нулевую гипотезу. Следовательно средняя выручка пользователей из Москвы не отличается от выручки пользователей из других регионов."
      ]
    },
    {
      "cell_type": "markdown",
      "metadata": {
        "id": "4nHoBnJc33d_"
      },
      "source": [
        "Посмотрим средние выручки"
      ]
    },
    {
      "cell_type": "code",
      "execution_count": null,
      "metadata": {
        "id": "RhnnDIMM33d_",
        "outputId": "156ea2c7-61c6-48f2-87f5-d462705e41a5"
      },
      "outputs": [
        {
          "name": "stdout",
          "output_type": "stream",
          "text": [
            "Средняя выручка по пользователю в месяц в Москве: 1507.48\n",
            "Средняя выручка по пользователю в месяц в регионах: 1482.29\n"
          ]
        }
      ],
      "source": [
        "print('Средняя выручка по пользователю в месяц в Москве: {:.2f}'.format(moscow['total_paid'].mean()))\n",
        "print('Средняя выручка по пользователю в месяц в регионах: {:.2f}'.format(other['total_paid'].mean()))"
      ]
    },
    {
      "cell_type": "markdown",
      "metadata": {
        "id": "cY0RlKo133d_"
      },
      "source": [
        "В Москве в среднем платят 26 рублей больше, эта разница статистически не значима."
      ]
    },
    {
      "cell_type": "markdown",
      "metadata": {
        "id": "eMhPjr_z33eA"
      },
      "source": [
        "##  Общий вывод"
      ]
    },
    {
      "cell_type": "markdown",
      "metadata": {
        "id": "jZa8d94Q33eA"
      },
      "source": [
        "- По тарифу \"Смарт\" примерно 75% клиентам не хватает заложенных в абонентскую плату минут, СМС, интернета и он берет дополнительные пакеты этих услуг.\n",
        "- Почти всем клиентам тарифа \"Ультра\" всего хватает, кроме 13% - они тоже добирают доп.пакеты услуг сверх абонентской платы.\n",
        "- СМС-ки никому не нужны на обоих тарифах. Но если в \"Смарте\" люди почти подходят к лимиту, то на \"Ультр\"е остается много неизрасходованных сообщений — возможно, стоит изменить тарифный план с переходом на доп. услуги по мэссенджерам\n",
        "-  Средняя выручка абонентов тарифов \"Смарт\" и \"Ультра\" различается. Абоненты тарифа \"Ультра\" в среднем приносят больше денег, т.к. их абонентская плата в 3,5 раза выше, чем абонентская плата тарифа \"Смарт\" (1950р. и 550р. соответственно).\n",
        "- Средняя выручка пользователей из Москвы не отличается от выручки пользователей из других регионов.\n",
        "\n",
        "Рекомендации оператору:\n",
        "- Исправить округление, много нулевых минут и трафика;\n",
        "- Подумать над оптимизацией тарифов в части смс, возможно выроботать промежуточный тариф с большей абоненткой платой, но и большим интернет трафиком.\n",
        "\n"
      ]
    }
  ],
  "metadata": {
    "ExecuteTimeLog": [
      {
        "duration": 102,
        "start_time": "2022-01-20T08:15:21.701Z"
      },
      {
        "duration": 120,
        "start_time": "2022-01-20T08:15:30.826Z"
      },
      {
        "duration": 953,
        "start_time": "2022-01-20T08:15:36.061Z"
      },
      {
        "duration": 139,
        "start_time": "2022-01-20T08:15:41.940Z"
      },
      {
        "duration": 394,
        "start_time": "2022-01-20T08:19:12.327Z"
      },
      {
        "duration": 2,
        "start_time": "2022-01-20T08:19:15.643Z"
      },
      {
        "duration": 7,
        "start_time": "2022-01-20T08:20:59.325Z"
      },
      {
        "duration": 318,
        "start_time": "2022-01-20T08:25:21.439Z"
      },
      {
        "duration": 20,
        "start_time": "2022-01-20T08:25:35.410Z"
      },
      {
        "duration": 15,
        "start_time": "2022-01-20T08:26:05.703Z"
      },
      {
        "duration": 26,
        "start_time": "2022-01-20T08:26:23.586Z"
      },
      {
        "duration": 13,
        "start_time": "2022-01-20T08:26:45.534Z"
      },
      {
        "duration": 12,
        "start_time": "2022-01-20T08:27:05.323Z"
      },
      {
        "duration": 13,
        "start_time": "2022-01-20T08:27:19.330Z"
      },
      {
        "duration": 6,
        "start_time": "2022-01-20T08:27:57.636Z"
      },
      {
        "duration": 24,
        "start_time": "2022-01-20T08:28:11.416Z"
      },
      {
        "duration": 335,
        "start_time": "2022-01-20T08:28:34.207Z"
      },
      {
        "duration": 365,
        "start_time": "2022-01-20T08:28:45.416Z"
      },
      {
        "duration": 5,
        "start_time": "2022-01-20T08:28:47.736Z"
      },
      {
        "duration": 12,
        "start_time": "2022-01-20T08:28:57.863Z"
      },
      {
        "duration": 24,
        "start_time": "2022-01-20T08:34:48.121Z"
      },
      {
        "duration": 116,
        "start_time": "2022-01-20T10:03:59.372Z"
      },
      {
        "duration": 67,
        "start_time": "2022-01-20T10:04:24.505Z"
      },
      {
        "duration": 373,
        "start_time": "2022-01-20T10:21:38.953Z"
      },
      {
        "duration": 19,
        "start_time": "2022-01-20T10:21:40.978Z"
      },
      {
        "duration": 337,
        "start_time": "2022-01-20T10:32:56.991Z"
      },
      {
        "duration": 566,
        "start_time": "2022-01-20T10:33:11.130Z"
      },
      {
        "duration": 327,
        "start_time": "2022-01-20T10:33:19.189Z"
      },
      {
        "duration": 24,
        "start_time": "2022-01-20T10:45:54.751Z"
      },
      {
        "duration": 3,
        "start_time": "2022-01-20T10:52:35.024Z"
      },
      {
        "duration": 59,
        "start_time": "2022-01-20T10:53:01.197Z"
      },
      {
        "duration": 10,
        "start_time": "2022-01-20T10:53:10.480Z"
      },
      {
        "duration": 8,
        "start_time": "2022-01-20T10:53:49.972Z"
      },
      {
        "duration": 7,
        "start_time": "2022-01-20T10:54:02.505Z"
      },
      {
        "duration": 8,
        "start_time": "2022-01-20T10:54:17.108Z"
      },
      {
        "duration": 8,
        "start_time": "2022-01-20T10:54:22.915Z"
      },
      {
        "duration": 14,
        "start_time": "2022-01-20T10:54:30.631Z"
      },
      {
        "duration": 6,
        "start_time": "2022-01-20T10:54:42.460Z"
      },
      {
        "duration": 13,
        "start_time": "2022-01-20T10:54:50.558Z"
      },
      {
        "duration": 11,
        "start_time": "2022-01-20T10:55:01.986Z"
      },
      {
        "duration": 11,
        "start_time": "2022-01-20T10:55:13.690Z"
      },
      {
        "duration": 955,
        "start_time": "2022-01-20T10:57:45.076Z"
      },
      {
        "duration": 106,
        "start_time": "2022-01-20T10:58:29.740Z"
      },
      {
        "duration": 3,
        "start_time": "2022-01-20T10:58:35.847Z"
      },
      {
        "duration": 770,
        "start_time": "2022-01-20T10:58:54.807Z"
      },
      {
        "duration": 3,
        "start_time": "2022-01-20T10:59:15.253Z"
      },
      {
        "duration": 1805,
        "start_time": "2022-01-20T10:59:16.516Z"
      },
      {
        "duration": 3,
        "start_time": "2022-01-20T11:00:39.868Z"
      },
      {
        "duration": 1529,
        "start_time": "2022-01-20T11:00:41.051Z"
      },
      {
        "duration": 10,
        "start_time": "2022-01-20T11:00:56.890Z"
      },
      {
        "duration": 8,
        "start_time": "2022-01-20T11:01:14.914Z"
      },
      {
        "duration": 7,
        "start_time": "2022-01-20T11:01:29.440Z"
      },
      {
        "duration": 10,
        "start_time": "2022-01-20T11:01:39.996Z"
      },
      {
        "duration": 3,
        "start_time": "2022-01-20T11:03:39.083Z"
      },
      {
        "duration": 46,
        "start_time": "2022-01-20T11:03:40.351Z"
      },
      {
        "duration": 9,
        "start_time": "2022-01-20T11:03:41.488Z"
      },
      {
        "duration": 11,
        "start_time": "2022-01-20T11:03:43.383Z"
      },
      {
        "duration": 11,
        "start_time": "2022-01-20T11:03:44.432Z"
      },
      {
        "duration": 11,
        "start_time": "2022-01-20T11:03:45.816Z"
      },
      {
        "duration": 112,
        "start_time": "2022-01-20T11:04:27.735Z"
      },
      {
        "duration": 7,
        "start_time": "2022-01-20T11:05:37.246Z"
      },
      {
        "duration": 324,
        "start_time": "2022-01-20T11:05:41.886Z"
      },
      {
        "duration": 80,
        "start_time": "2022-01-20T11:05:52.023Z"
      },
      {
        "duration": 34,
        "start_time": "2022-01-20T11:06:05.598Z"
      },
      {
        "duration": 48,
        "start_time": "2022-01-20T11:06:20.064Z"
      },
      {
        "duration": 233,
        "start_time": "2022-01-20T11:07:59.260Z"
      },
      {
        "duration": 261,
        "start_time": "2022-01-20T11:08:14.435Z"
      },
      {
        "duration": 10,
        "start_time": "2022-01-20T11:12:08.186Z"
      },
      {
        "duration": 233,
        "start_time": "2022-01-20T11:13:02.288Z"
      },
      {
        "duration": 23,
        "start_time": "2022-01-20T11:16:02.235Z"
      },
      {
        "duration": 23,
        "start_time": "2022-01-20T11:17:56.193Z"
      },
      {
        "duration": 237,
        "start_time": "2022-01-20T11:18:03.743Z"
      },
      {
        "duration": 24,
        "start_time": "2022-01-20T11:18:17.407Z"
      },
      {
        "duration": 239,
        "start_time": "2022-01-20T11:18:18.927Z"
      },
      {
        "duration": 220,
        "start_time": "2022-01-20T11:23:06.091Z"
      },
      {
        "duration": 10,
        "start_time": "2022-01-20T11:26:36.832Z"
      },
      {
        "duration": 236,
        "start_time": "2022-01-20T11:27:10.950Z"
      },
      {
        "duration": 104,
        "start_time": "2022-01-20T11:27:38.320Z"
      },
      {
        "duration": 20,
        "start_time": "2022-01-20T11:27:52.767Z"
      },
      {
        "duration": 18,
        "start_time": "2022-01-20T11:29:18.956Z"
      },
      {
        "duration": 225,
        "start_time": "2022-01-20T11:29:34.316Z"
      },
      {
        "duration": 340,
        "start_time": "2022-01-20T11:37:21.233Z"
      },
      {
        "duration": 3,
        "start_time": "2022-01-20T11:38:11.770Z"
      },
      {
        "duration": 394,
        "start_time": "2022-01-20T11:38:11.778Z"
      },
      {
        "duration": 18,
        "start_time": "2022-01-20T11:38:12.174Z"
      },
      {
        "duration": 24,
        "start_time": "2022-01-20T11:38:12.194Z"
      },
      {
        "duration": 15,
        "start_time": "2022-01-20T11:38:12.220Z"
      },
      {
        "duration": 24,
        "start_time": "2022-01-20T11:38:12.236Z"
      },
      {
        "duration": 12,
        "start_time": "2022-01-20T11:38:12.262Z"
      },
      {
        "duration": 11,
        "start_time": "2022-01-20T11:38:12.276Z"
      },
      {
        "duration": 5,
        "start_time": "2022-01-20T11:38:12.289Z"
      },
      {
        "duration": 25,
        "start_time": "2022-01-20T11:38:12.328Z"
      },
      {
        "duration": 5,
        "start_time": "2022-01-20T11:38:12.354Z"
      },
      {
        "duration": 16,
        "start_time": "2022-01-20T11:38:12.361Z"
      },
      {
        "duration": 3,
        "start_time": "2022-01-20T11:38:12.378Z"
      },
      {
        "duration": 89,
        "start_time": "2022-01-20T11:38:12.382Z"
      },
      {
        "duration": 6,
        "start_time": "2022-01-20T11:38:12.473Z"
      },
      {
        "duration": 17,
        "start_time": "2022-01-20T11:38:12.480Z"
      },
      {
        "duration": 33,
        "start_time": "2022-01-20T11:38:12.498Z"
      },
      {
        "duration": 13,
        "start_time": "2022-01-20T11:38:12.533Z"
      },
      {
        "duration": 4,
        "start_time": "2022-01-20T11:38:12.548Z"
      },
      {
        "duration": 74,
        "start_time": "2022-01-20T11:38:12.553Z"
      },
      {
        "duration": 11,
        "start_time": "2022-01-20T11:38:12.628Z"
      },
      {
        "duration": 8,
        "start_time": "2022-01-20T11:38:12.641Z"
      },
      {
        "duration": 8,
        "start_time": "2022-01-20T11:38:12.650Z"
      },
      {
        "duration": 16,
        "start_time": "2022-01-20T11:38:12.659Z"
      },
      {
        "duration": 8,
        "start_time": "2022-01-20T11:38:12.676Z"
      },
      {
        "duration": 114,
        "start_time": "2022-01-20T11:38:12.686Z"
      },
      {
        "duration": 55,
        "start_time": "2022-01-20T11:38:12.801Z"
      },
      {
        "duration": 55,
        "start_time": "2022-01-20T11:38:12.859Z"
      },
      {
        "duration": 247,
        "start_time": "2022-01-20T11:38:12.915Z"
      },
      {
        "duration": 9,
        "start_time": "2022-01-20T11:38:13.164Z"
      },
      {
        "duration": 253,
        "start_time": "2022-01-20T11:38:13.174Z"
      },
      {
        "duration": 17,
        "start_time": "2022-01-20T11:38:13.429Z"
      },
      {
        "duration": 311,
        "start_time": "2022-01-20T11:38:13.448Z"
      },
      {
        "duration": 9,
        "start_time": "2022-01-20T11:38:13.760Z"
      },
      {
        "duration": 243,
        "start_time": "2022-01-20T11:38:13.770Z"
      },
      {
        "duration": 22,
        "start_time": "2022-01-20T11:38:14.015Z"
      },
      {
        "duration": 17,
        "start_time": "2022-01-20T11:38:14.039Z"
      },
      {
        "duration": 250,
        "start_time": "2022-01-20T11:38:14.057Z"
      },
      {
        "duration": 29,
        "start_time": "2022-01-20T11:38:14.309Z"
      },
      {
        "duration": 22,
        "start_time": "2022-01-20T11:39:42.979Z"
      },
      {
        "duration": 7,
        "start_time": "2022-01-20T11:39:54.399Z"
      },
      {
        "duration": 7,
        "start_time": "2022-01-20T11:40:17.702Z"
      },
      {
        "duration": 8,
        "start_time": "2022-01-20T11:40:24.725Z"
      },
      {
        "duration": 8,
        "start_time": "2022-01-20T11:40:30.647Z"
      },
      {
        "duration": 18,
        "start_time": "2022-01-20T11:47:13.495Z"
      },
      {
        "duration": 8,
        "start_time": "2022-01-20T11:47:23.123Z"
      },
      {
        "duration": 6,
        "start_time": "2022-01-20T11:47:31.185Z"
      },
      {
        "duration": 6,
        "start_time": "2022-01-20T11:47:42.880Z"
      },
      {
        "duration": 23,
        "start_time": "2022-01-20T11:49:25.186Z"
      },
      {
        "duration": 15,
        "start_time": "2022-01-20T11:49:39.652Z"
      },
      {
        "duration": -98,
        "start_time": "2022-01-20T11:50:33.369Z"
      },
      {
        "duration": 444,
        "start_time": "2022-01-20T11:50:57.352Z"
      },
      {
        "duration": 8,
        "start_time": "2022-01-20T11:51:03.145Z"
      },
      {
        "duration": 8,
        "start_time": "2022-01-20T12:01:40.594Z"
      },
      {
        "duration": 8246,
        "start_time": "2022-01-20T12:03:52.347Z"
      },
      {
        "duration": 334,
        "start_time": "2022-01-20T12:07:05.760Z"
      },
      {
        "duration": 7,
        "start_time": "2022-01-20T12:07:25.309Z"
      },
      {
        "duration": 8,
        "start_time": "2022-01-20T12:08:13.549Z"
      },
      {
        "duration": 397,
        "start_time": "2022-01-20T12:08:30.012Z"
      },
      {
        "duration": 6,
        "start_time": "2022-01-20T12:13:15.722Z"
      },
      {
        "duration": 320,
        "start_time": "2022-01-20T12:13:17.961Z"
      },
      {
        "duration": 340,
        "start_time": "2022-01-20T12:13:25.504Z"
      },
      {
        "duration": 8,
        "start_time": "2022-01-20T12:13:32.411Z"
      },
      {
        "duration": 8,
        "start_time": "2022-01-20T12:14:31.753Z"
      },
      {
        "duration": 331,
        "start_time": "2022-01-20T12:16:21.711Z"
      },
      {
        "duration": 3,
        "start_time": "2022-01-20T12:16:37.294Z"
      },
      {
        "duration": 446,
        "start_time": "2022-01-20T12:16:37.298Z"
      },
      {
        "duration": 20,
        "start_time": "2022-01-20T12:16:37.746Z"
      },
      {
        "duration": 25,
        "start_time": "2022-01-20T12:16:37.768Z"
      },
      {
        "duration": 14,
        "start_time": "2022-01-20T12:16:37.795Z"
      },
      {
        "duration": 36,
        "start_time": "2022-01-20T12:16:37.811Z"
      },
      {
        "duration": 16,
        "start_time": "2022-01-20T12:16:37.849Z"
      },
      {
        "duration": 14,
        "start_time": "2022-01-20T12:16:37.867Z"
      },
      {
        "duration": 5,
        "start_time": "2022-01-20T12:16:37.884Z"
      },
      {
        "duration": 62,
        "start_time": "2022-01-20T12:16:37.891Z"
      },
      {
        "duration": 5,
        "start_time": "2022-01-20T12:16:37.955Z"
      },
      {
        "duration": 14,
        "start_time": "2022-01-20T12:16:37.962Z"
      },
      {
        "duration": 3,
        "start_time": "2022-01-20T12:16:37.977Z"
      },
      {
        "duration": 121,
        "start_time": "2022-01-20T12:16:37.981Z"
      },
      {
        "duration": 8,
        "start_time": "2022-01-20T12:16:38.104Z"
      },
      {
        "duration": 22,
        "start_time": "2022-01-20T12:16:38.128Z"
      },
      {
        "duration": 10,
        "start_time": "2022-01-20T12:16:38.152Z"
      },
      {
        "duration": 14,
        "start_time": "2022-01-20T12:16:38.163Z"
      },
      {
        "duration": 3,
        "start_time": "2022-01-20T12:16:38.178Z"
      },
      {
        "duration": 82,
        "start_time": "2022-01-20T12:16:38.182Z"
      },
      {
        "duration": 11,
        "start_time": "2022-01-20T12:16:38.265Z"
      },
      {
        "duration": 12,
        "start_time": "2022-01-20T12:16:38.277Z"
      },
      {
        "duration": 9,
        "start_time": "2022-01-20T12:16:38.291Z"
      },
      {
        "duration": 33,
        "start_time": "2022-01-20T12:16:38.301Z"
      },
      {
        "duration": 10,
        "start_time": "2022-01-20T12:16:38.336Z"
      },
      {
        "duration": 102,
        "start_time": "2022-01-20T12:16:38.347Z"
      },
      {
        "duration": 35,
        "start_time": "2022-01-20T12:16:38.453Z"
      },
      {
        "duration": 88,
        "start_time": "2022-01-20T12:16:38.490Z"
      },
      {
        "duration": 251,
        "start_time": "2022-01-20T12:16:38.580Z"
      },
      {
        "duration": 9,
        "start_time": "2022-01-20T12:16:38.833Z"
      },
      {
        "duration": 254,
        "start_time": "2022-01-20T12:16:38.843Z"
      },
      {
        "duration": 29,
        "start_time": "2022-01-20T12:16:39.099Z"
      },
      {
        "duration": 253,
        "start_time": "2022-01-20T12:16:39.130Z"
      },
      {
        "duration": 13,
        "start_time": "2022-01-20T12:16:39.384Z"
      },
      {
        "duration": 245,
        "start_time": "2022-01-20T12:16:39.399Z"
      },
      {
        "duration": 19,
        "start_time": "2022-01-20T12:16:39.645Z"
      },
      {
        "duration": 16,
        "start_time": "2022-01-20T12:16:39.666Z"
      },
      {
        "duration": 257,
        "start_time": "2022-01-20T12:16:39.684Z"
      },
      {
        "duration": 23,
        "start_time": "2022-01-20T12:16:39.942Z"
      },
      {
        "duration": 7,
        "start_time": "2022-01-20T12:16:39.967Z"
      },
      {
        "duration": 21,
        "start_time": "2022-01-20T12:16:39.975Z"
      },
      {
        "duration": 7,
        "start_time": "2022-01-20T12:16:39.997Z"
      },
      {
        "duration": 17653,
        "start_time": "2022-01-20T12:16:40.028Z"
      },
      {
        "duration": -175,
        "start_time": "2022-01-20T12:16:57.858Z"
      },
      {
        "duration": -181,
        "start_time": "2022-01-20T12:16:57.865Z"
      },
      {
        "duration": -194,
        "start_time": "2022-01-20T12:16:57.879Z"
      },
      {
        "duration": -197,
        "start_time": "2022-01-20T12:16:57.883Z"
      },
      {
        "duration": -201,
        "start_time": "2022-01-20T12:16:57.888Z"
      },
      {
        "duration": -203,
        "start_time": "2022-01-20T12:16:57.891Z"
      },
      {
        "duration": 8896,
        "start_time": "2022-01-20T12:17:47.828Z"
      },
      {
        "duration": 8685,
        "start_time": "2022-01-20T12:18:22.496Z"
      },
      {
        "duration": 8536,
        "start_time": "2022-01-20T12:19:03.131Z"
      },
      {
        "duration": 14,
        "start_time": "2022-01-20T12:19:26.781Z"
      },
      {
        "duration": 7,
        "start_time": "2022-01-20T12:19:34.404Z"
      },
      {
        "duration": 8,
        "start_time": "2022-01-20T12:20:05.438Z"
      },
      {
        "duration": 781,
        "start_time": "2022-01-20T12:20:06.359Z"
      },
      {
        "duration": 12,
        "start_time": "2022-01-20T12:20:29.351Z"
      },
      {
        "duration": 7,
        "start_time": "2022-01-20T12:20:30.276Z"
      },
      {
        "duration": 9,
        "start_time": "2022-01-20T12:20:32.809Z"
      },
      {
        "duration": 8,
        "start_time": "2022-01-20T12:20:33.787Z"
      },
      {
        "duration": 9,
        "start_time": "2022-01-20T12:20:36.228Z"
      },
      {
        "duration": 6,
        "start_time": "2022-01-20T12:20:38.105Z"
      },
      {
        "duration": 10,
        "start_time": "2022-01-20T12:20:39.010Z"
      },
      {
        "duration": 326,
        "start_time": "2022-01-20T12:21:13.244Z"
      },
      {
        "duration": 19,
        "start_time": "2022-01-20T12:21:18.564Z"
      },
      {
        "duration": 4,
        "start_time": "2022-01-20T12:24:49.618Z"
      },
      {
        "duration": 7,
        "start_time": "2022-01-20T12:25:50.799Z"
      },
      {
        "duration": 4,
        "start_time": "2022-01-20T12:31:58.200Z"
      },
      {
        "duration": 3,
        "start_time": "2022-01-20T12:32:04.654Z"
      },
      {
        "duration": 7,
        "start_time": "2022-01-20T12:32:18.735Z"
      },
      {
        "duration": 13,
        "start_time": "2022-01-20T12:32:31.973Z"
      },
      {
        "duration": 21,
        "start_time": "2022-01-20T12:32:43.107Z"
      },
      {
        "duration": 342,
        "start_time": "2022-01-20T12:33:00.084Z"
      },
      {
        "duration": 26,
        "start_time": "2022-01-20T12:33:07.856Z"
      },
      {
        "duration": 4,
        "start_time": "2022-01-20T12:33:10.796Z"
      },
      {
        "duration": 4,
        "start_time": "2022-01-20T12:33:13.470Z"
      },
      {
        "duration": 11,
        "start_time": "2022-01-20T12:33:21.916Z"
      },
      {
        "duration": 19,
        "start_time": "2022-01-20T12:33:28.586Z"
      },
      {
        "duration": 5,
        "start_time": "2022-01-20T12:33:30.420Z"
      },
      {
        "duration": 5,
        "start_time": "2022-01-20T12:38:21.877Z"
      },
      {
        "duration": 3,
        "start_time": "2022-01-20T12:38:25.427Z"
      },
      {
        "duration": 414,
        "start_time": "2022-01-20T12:38:25.435Z"
      },
      {
        "duration": 17,
        "start_time": "2022-01-20T12:38:25.851Z"
      },
      {
        "duration": 23,
        "start_time": "2022-01-20T12:38:25.870Z"
      },
      {
        "duration": 15,
        "start_time": "2022-01-20T12:38:25.894Z"
      },
      {
        "duration": 29,
        "start_time": "2022-01-20T12:38:25.911Z"
      },
      {
        "duration": 13,
        "start_time": "2022-01-20T12:38:25.942Z"
      },
      {
        "duration": 14,
        "start_time": "2022-01-20T12:38:25.956Z"
      },
      {
        "duration": 5,
        "start_time": "2022-01-20T12:38:25.973Z"
      },
      {
        "duration": 60,
        "start_time": "2022-01-20T12:38:25.980Z"
      },
      {
        "duration": 5,
        "start_time": "2022-01-20T12:38:26.042Z"
      },
      {
        "duration": 13,
        "start_time": "2022-01-20T12:38:26.049Z"
      },
      {
        "duration": 3,
        "start_time": "2022-01-20T12:38:26.063Z"
      },
      {
        "duration": 90,
        "start_time": "2022-01-20T12:38:26.067Z"
      },
      {
        "duration": 6,
        "start_time": "2022-01-20T12:38:26.159Z"
      },
      {
        "duration": 14,
        "start_time": "2022-01-20T12:38:26.167Z"
      },
      {
        "duration": 13,
        "start_time": "2022-01-20T12:38:26.183Z"
      },
      {
        "duration": 35,
        "start_time": "2022-01-20T12:38:26.198Z"
      },
      {
        "duration": 2,
        "start_time": "2022-01-20T12:38:26.235Z"
      },
      {
        "duration": 49,
        "start_time": "2022-01-20T12:38:26.239Z"
      },
      {
        "duration": 10,
        "start_time": "2022-01-20T12:38:26.289Z"
      },
      {
        "duration": 30,
        "start_time": "2022-01-20T12:38:26.300Z"
      },
      {
        "duration": 8,
        "start_time": "2022-01-20T12:38:26.332Z"
      },
      {
        "duration": 8,
        "start_time": "2022-01-20T12:38:26.343Z"
      },
      {
        "duration": 10,
        "start_time": "2022-01-20T12:38:26.352Z"
      },
      {
        "duration": 117,
        "start_time": "2022-01-20T12:38:26.363Z"
      },
      {
        "duration": 46,
        "start_time": "2022-01-20T12:38:26.482Z"
      },
      {
        "duration": 56,
        "start_time": "2022-01-20T12:38:26.529Z"
      },
      {
        "duration": 251,
        "start_time": "2022-01-20T12:38:26.586Z"
      },
      {
        "duration": 9,
        "start_time": "2022-01-20T12:38:26.838Z"
      },
      {
        "duration": 319,
        "start_time": "2022-01-20T12:38:26.849Z"
      },
      {
        "duration": 18,
        "start_time": "2022-01-20T12:38:27.169Z"
      },
      {
        "duration": 241,
        "start_time": "2022-01-20T12:38:27.188Z"
      },
      {
        "duration": 11,
        "start_time": "2022-01-20T12:38:27.431Z"
      },
      {
        "duration": 247,
        "start_time": "2022-01-20T12:38:27.444Z"
      },
      {
        "duration": 34,
        "start_time": "2022-01-20T12:38:27.693Z"
      },
      {
        "duration": 18,
        "start_time": "2022-01-20T12:38:27.729Z"
      },
      {
        "duration": 240,
        "start_time": "2022-01-20T12:38:27.749Z"
      },
      {
        "duration": 23,
        "start_time": "2022-01-20T12:38:27.991Z"
      },
      {
        "duration": 10,
        "start_time": "2022-01-20T12:38:28.027Z"
      },
      {
        "duration": 20,
        "start_time": "2022-01-20T12:38:28.038Z"
      },
      {
        "duration": 7,
        "start_time": "2022-01-20T12:38:28.059Z"
      },
      {
        "duration": 13,
        "start_time": "2022-01-20T12:38:28.067Z"
      },
      {
        "duration": 6,
        "start_time": "2022-01-20T12:38:28.081Z"
      },
      {
        "duration": 345,
        "start_time": "2022-01-20T12:38:28.088Z"
      },
      {
        "duration": 10,
        "start_time": "2022-01-20T12:38:28.425Z"
      },
      {
        "duration": 3,
        "start_time": "2022-01-20T12:38:28.433Z"
      },
      {
        "duration": 1,
        "start_time": "2022-01-20T12:38:28.437Z"
      },
      {
        "duration": -1,
        "start_time": "2022-01-20T12:38:28.440Z"
      },
      {
        "duration": -3,
        "start_time": "2022-01-20T12:38:28.443Z"
      },
      {
        "duration": -4,
        "start_time": "2022-01-20T12:38:28.446Z"
      },
      {
        "duration": -7,
        "start_time": "2022-01-20T12:38:28.450Z"
      },
      {
        "duration": -10,
        "start_time": "2022-01-20T12:38:28.454Z"
      },
      {
        "duration": -11,
        "start_time": "2022-01-20T12:38:28.457Z"
      },
      {
        "duration": 7,
        "start_time": "2022-01-20T12:42:52.452Z"
      },
      {
        "duration": 21,
        "start_time": "2022-01-20T12:42:55.487Z"
      },
      {
        "duration": 7,
        "start_time": "2022-01-20T12:43:41.512Z"
      },
      {
        "duration": 8,
        "start_time": "2022-01-20T12:51:39.445Z"
      },
      {
        "duration": 6,
        "start_time": "2022-01-20T12:51:40.529Z"
      },
      {
        "duration": 6,
        "start_time": "2022-01-20T12:51:51.747Z"
      },
      {
        "duration": 8,
        "start_time": "2022-01-20T12:51:55.188Z"
      },
      {
        "duration": 6,
        "start_time": "2022-01-20T12:51:56.236Z"
      },
      {
        "duration": 5,
        "start_time": "2022-01-20T12:52:03.550Z"
      },
      {
        "duration": 9,
        "start_time": "2022-01-20T12:52:11.508Z"
      },
      {
        "duration": 7,
        "start_time": "2022-01-20T12:52:12.579Z"
      },
      {
        "duration": 4,
        "start_time": "2022-01-20T12:52:16.795Z"
      },
      {
        "duration": 6,
        "start_time": "2022-01-20T12:52:20.611Z"
      },
      {
        "duration": 11,
        "start_time": "2022-01-20T12:52:29.092Z"
      },
      {
        "duration": 6,
        "start_time": "2022-01-20T12:52:32.725Z"
      },
      {
        "duration": 6,
        "start_time": "2022-01-20T12:54:52.380Z"
      },
      {
        "duration": 13,
        "start_time": "2022-01-20T12:57:47.974Z"
      },
      {
        "duration": 5,
        "start_time": "2022-01-20T13:00:16.547Z"
      },
      {
        "duration": 8,
        "start_time": "2022-01-20T13:00:24.426Z"
      },
      {
        "duration": 6,
        "start_time": "2022-01-20T13:00:50.716Z"
      },
      {
        "duration": 6,
        "start_time": "2022-01-20T13:00:54.091Z"
      },
      {
        "duration": 6,
        "start_time": "2022-01-20T13:00:55.044Z"
      },
      {
        "duration": 13,
        "start_time": "2022-01-20T13:01:12.080Z"
      },
      {
        "duration": 4,
        "start_time": "2022-01-20T13:04:26.162Z"
      },
      {
        "duration": 4,
        "start_time": "2022-01-20T13:05:08.726Z"
      },
      {
        "duration": 4,
        "start_time": "2022-01-20T13:05:35.655Z"
      },
      {
        "duration": 340,
        "start_time": "2022-01-20T13:08:09.892Z"
      },
      {
        "duration": 567,
        "start_time": "2022-01-20T13:08:27.818Z"
      },
      {
        "duration": 10150,
        "start_time": "2022-01-20T13:08:46.155Z"
      },
      {
        "duration": 333,
        "start_time": "2022-01-20T13:09:18.108Z"
      },
      {
        "duration": 3,
        "start_time": "2022-01-20T13:09:52.560Z"
      },
      {
        "duration": 366,
        "start_time": "2022-01-20T13:09:52.567Z"
      },
      {
        "duration": 18,
        "start_time": "2022-01-20T13:09:52.935Z"
      },
      {
        "duration": 22,
        "start_time": "2022-01-20T13:09:52.955Z"
      },
      {
        "duration": 15,
        "start_time": "2022-01-20T13:09:52.979Z"
      },
      {
        "duration": 49,
        "start_time": "2022-01-20T13:09:52.995Z"
      },
      {
        "duration": 12,
        "start_time": "2022-01-20T13:09:53.046Z"
      },
      {
        "duration": 11,
        "start_time": "2022-01-20T13:09:53.060Z"
      },
      {
        "duration": 6,
        "start_time": "2022-01-20T13:09:53.073Z"
      },
      {
        "duration": 54,
        "start_time": "2022-01-20T13:09:53.081Z"
      },
      {
        "duration": 5,
        "start_time": "2022-01-20T13:09:53.137Z"
      },
      {
        "duration": 15,
        "start_time": "2022-01-20T13:09:53.143Z"
      },
      {
        "duration": 5,
        "start_time": "2022-01-20T13:09:53.160Z"
      },
      {
        "duration": 75,
        "start_time": "2022-01-20T13:09:53.166Z"
      },
      {
        "duration": 6,
        "start_time": "2022-01-20T13:09:53.242Z"
      },
      {
        "duration": 16,
        "start_time": "2022-01-20T13:09:53.250Z"
      },
      {
        "duration": 9,
        "start_time": "2022-01-20T13:09:53.268Z"
      },
      {
        "duration": 11,
        "start_time": "2022-01-20T13:09:53.278Z"
      },
      {
        "duration": 3,
        "start_time": "2022-01-20T13:09:53.290Z"
      },
      {
        "duration": 74,
        "start_time": "2022-01-20T13:09:53.294Z"
      },
      {
        "duration": 10,
        "start_time": "2022-01-20T13:09:53.369Z"
      },
      {
        "duration": 10,
        "start_time": "2022-01-20T13:09:53.380Z"
      },
      {
        "duration": 10,
        "start_time": "2022-01-20T13:09:53.392Z"
      },
      {
        "duration": 32,
        "start_time": "2022-01-20T13:09:53.406Z"
      },
      {
        "duration": 8,
        "start_time": "2022-01-20T13:09:53.440Z"
      },
      {
        "duration": 92,
        "start_time": "2022-01-20T13:09:53.449Z"
      },
      {
        "duration": 32,
        "start_time": "2022-01-20T13:09:53.542Z"
      },
      {
        "duration": 64,
        "start_time": "2022-01-20T13:09:53.575Z"
      },
      {
        "duration": 245,
        "start_time": "2022-01-20T13:09:53.641Z"
      },
      {
        "duration": 9,
        "start_time": "2022-01-20T13:09:53.887Z"
      },
      {
        "duration": 257,
        "start_time": "2022-01-20T13:09:53.898Z"
      },
      {
        "duration": 17,
        "start_time": "2022-01-20T13:09:54.157Z"
      },
      {
        "duration": 246,
        "start_time": "2022-01-20T13:09:54.176Z"
      },
      {
        "duration": 10,
        "start_time": "2022-01-20T13:09:54.423Z"
      },
      {
        "duration": 251,
        "start_time": "2022-01-20T13:09:54.434Z"
      },
      {
        "duration": 21,
        "start_time": "2022-01-20T13:09:54.687Z"
      },
      {
        "duration": 35,
        "start_time": "2022-01-20T13:09:54.709Z"
      },
      {
        "duration": 253,
        "start_time": "2022-01-20T13:09:54.745Z"
      },
      {
        "duration": 34,
        "start_time": "2022-01-20T13:09:55.000Z"
      },
      {
        "duration": 10,
        "start_time": "2022-01-20T13:09:55.036Z"
      },
      {
        "duration": 18,
        "start_time": "2022-01-20T13:09:55.048Z"
      },
      {
        "duration": 6,
        "start_time": "2022-01-20T13:09:55.068Z"
      },
      {
        "duration": 12,
        "start_time": "2022-01-20T13:09:55.075Z"
      },
      {
        "duration": 6,
        "start_time": "2022-01-20T13:09:55.089Z"
      },
      {
        "duration": 8,
        "start_time": "2022-01-20T13:09:55.128Z"
      },
      {
        "duration": 95,
        "start_time": "2022-01-20T13:09:55.137Z"
      },
      {
        "duration": 8,
        "start_time": "2022-01-20T13:09:55.234Z"
      },
      {
        "duration": 3,
        "start_time": "2022-01-20T13:09:55.244Z"
      },
      {
        "duration": 4,
        "start_time": "2022-01-20T13:09:55.249Z"
      },
      {
        "duration": 5,
        "start_time": "2022-01-20T13:09:55.255Z"
      },
      {
        "duration": 7,
        "start_time": "2022-01-20T13:09:55.261Z"
      },
      {
        "duration": 59,
        "start_time": "2022-01-20T13:09:55.269Z"
      },
      {
        "duration": 7,
        "start_time": "2022-01-20T13:09:55.330Z"
      },
      {
        "duration": 14,
        "start_time": "2022-01-20T13:09:55.339Z"
      },
      {
        "duration": 6,
        "start_time": "2022-01-20T13:09:55.355Z"
      },
      {
        "duration": 8,
        "start_time": "2022-01-20T13:09:55.362Z"
      },
      {
        "duration": 4,
        "start_time": "2022-01-20T13:09:55.372Z"
      },
      {
        "duration": 11247,
        "start_time": "2022-01-20T13:09:55.377Z"
      },
      {
        "duration": 26,
        "start_time": "2022-01-20T13:10:06.600Z"
      },
      {
        "duration": 3,
        "start_time": "2022-01-20T13:11:16.700Z"
      },
      {
        "duration": 196,
        "start_time": "2022-01-20T13:11:22.200Z"
      },
      {
        "duration": 193,
        "start_time": "2022-01-20T13:11:25.403Z"
      },
      {
        "duration": 4,
        "start_time": "2022-01-20T13:11:26.628Z"
      },
      {
        "duration": 20,
        "start_time": "2022-01-20T13:11:52.039Z"
      },
      {
        "duration": 21,
        "start_time": "2022-01-20T13:13:09.655Z"
      },
      {
        "duration": 331,
        "start_time": "2022-01-20T13:16:49.153Z"
      },
      {
        "duration": 381,
        "start_time": "2022-01-20T13:16:56.073Z"
      },
      {
        "duration": 13,
        "start_time": "2022-01-20T13:17:02.580Z"
      },
      {
        "duration": 8929,
        "start_time": "2022-01-20T13:17:22.703Z"
      },
      {
        "duration": 6,
        "start_time": "2022-01-20T13:17:44.390Z"
      },
      {
        "duration": 7,
        "start_time": "2022-01-20T13:26:20.139Z"
      },
      {
        "duration": 1604,
        "start_time": "2022-01-20T13:26:35.154Z"
      },
      {
        "duration": 5,
        "start_time": "2022-01-20T13:26:46.979Z"
      },
      {
        "duration": 1305,
        "start_time": "2022-01-20T13:26:48.946Z"
      },
      {
        "duration": 1235,
        "start_time": "2022-01-20T13:27:14.621Z"
      },
      {
        "duration": 362,
        "start_time": "2022-01-20T13:40:55.882Z"
      },
      {
        "duration": 329,
        "start_time": "2022-01-20T13:41:05.122Z"
      },
      {
        "duration": 219,
        "start_time": "2022-01-20T13:41:14.856Z"
      },
      {
        "duration": 152,
        "start_time": "2022-01-20T13:43:23.707Z"
      },
      {
        "duration": 3,
        "start_time": "2022-01-20T13:43:30.594Z"
      },
      {
        "duration": 3,
        "start_time": "2022-01-20T13:43:39.698Z"
      },
      {
        "duration": 404,
        "start_time": "2022-01-20T13:43:39.705Z"
      },
      {
        "duration": 21,
        "start_time": "2022-01-20T13:43:40.110Z"
      },
      {
        "duration": 23,
        "start_time": "2022-01-20T13:43:40.133Z"
      },
      {
        "duration": 19,
        "start_time": "2022-01-20T13:43:40.158Z"
      },
      {
        "duration": 56,
        "start_time": "2022-01-20T13:43:40.179Z"
      },
      {
        "duration": 14,
        "start_time": "2022-01-20T13:43:40.237Z"
      },
      {
        "duration": 15,
        "start_time": "2022-01-20T13:43:40.253Z"
      },
      {
        "duration": 6,
        "start_time": "2022-01-20T13:43:40.270Z"
      },
      {
        "duration": 50,
        "start_time": "2022-01-20T13:43:40.278Z"
      },
      {
        "duration": 6,
        "start_time": "2022-01-20T13:43:40.329Z"
      },
      {
        "duration": 19,
        "start_time": "2022-01-20T13:43:40.336Z"
      },
      {
        "duration": 3,
        "start_time": "2022-01-20T13:43:40.356Z"
      },
      {
        "duration": 77,
        "start_time": "2022-01-20T13:43:40.361Z"
      },
      {
        "duration": 6,
        "start_time": "2022-01-20T13:43:40.439Z"
      },
      {
        "duration": 16,
        "start_time": "2022-01-20T13:43:40.447Z"
      },
      {
        "duration": 10,
        "start_time": "2022-01-20T13:43:40.464Z"
      },
      {
        "duration": 12,
        "start_time": "2022-01-20T13:43:40.475Z"
      },
      {
        "duration": 2,
        "start_time": "2022-01-20T13:43:40.489Z"
      },
      {
        "duration": 82,
        "start_time": "2022-01-20T13:43:40.493Z"
      },
      {
        "duration": 10,
        "start_time": "2022-01-20T13:43:40.577Z"
      },
      {
        "duration": 14,
        "start_time": "2022-01-20T13:43:40.588Z"
      },
      {
        "duration": 25,
        "start_time": "2022-01-20T13:43:40.603Z"
      },
      {
        "duration": 7,
        "start_time": "2022-01-20T13:43:40.631Z"
      },
      {
        "duration": 8,
        "start_time": "2022-01-20T13:43:40.640Z"
      },
      {
        "duration": 94,
        "start_time": "2022-01-20T13:43:40.650Z"
      },
      {
        "duration": 32,
        "start_time": "2022-01-20T13:43:40.745Z"
      },
      {
        "duration": 62,
        "start_time": "2022-01-20T13:43:40.779Z"
      },
      {
        "duration": 241,
        "start_time": "2022-01-20T13:43:40.844Z"
      },
      {
        "duration": 9,
        "start_time": "2022-01-20T13:43:41.086Z"
      },
      {
        "duration": 263,
        "start_time": "2022-01-20T13:43:41.097Z"
      },
      {
        "duration": 19,
        "start_time": "2022-01-20T13:43:41.362Z"
      },
      {
        "duration": 325,
        "start_time": "2022-01-20T13:43:41.383Z"
      },
      {
        "duration": 20,
        "start_time": "2022-01-20T13:43:41.710Z"
      },
      {
        "duration": 240,
        "start_time": "2022-01-20T13:43:41.732Z"
      },
      {
        "duration": 19,
        "start_time": "2022-01-20T13:43:41.974Z"
      },
      {
        "duration": 37,
        "start_time": "2022-01-20T13:43:41.995Z"
      },
      {
        "duration": 244,
        "start_time": "2022-01-20T13:43:42.034Z"
      },
      {
        "duration": 24,
        "start_time": "2022-01-20T13:43:42.280Z"
      },
      {
        "duration": 22,
        "start_time": "2022-01-20T13:43:42.306Z"
      },
      {
        "duration": 31,
        "start_time": "2022-01-20T13:43:42.330Z"
      },
      {
        "duration": 29,
        "start_time": "2022-01-20T13:43:42.362Z"
      },
      {
        "duration": 39,
        "start_time": "2022-01-20T13:43:42.393Z"
      },
      {
        "duration": 13,
        "start_time": "2022-01-20T13:43:42.434Z"
      },
      {
        "duration": 33,
        "start_time": "2022-01-20T13:43:42.449Z"
      },
      {
        "duration": 21,
        "start_time": "2022-01-20T13:43:42.484Z"
      },
      {
        "duration": 23,
        "start_time": "2022-01-20T13:43:42.507Z"
      },
      {
        "duration": 12,
        "start_time": "2022-01-20T13:43:42.532Z"
      },
      {
        "duration": 30,
        "start_time": "2022-01-20T13:43:42.545Z"
      },
      {
        "duration": 21,
        "start_time": "2022-01-20T13:43:42.576Z"
      },
      {
        "duration": 31,
        "start_time": "2022-01-20T13:43:42.598Z"
      },
      {
        "duration": 37,
        "start_time": "2022-01-20T13:43:42.630Z"
      },
      {
        "duration": 10,
        "start_time": "2022-01-20T13:43:42.668Z"
      },
      {
        "duration": 48,
        "start_time": "2022-01-20T13:43:42.680Z"
      },
      {
        "duration": 13,
        "start_time": "2022-01-20T13:43:42.729Z"
      },
      {
        "duration": 33,
        "start_time": "2022-01-20T13:43:42.744Z"
      },
      {
        "duration": 8,
        "start_time": "2022-01-20T13:43:42.778Z"
      },
      {
        "duration": 223,
        "start_time": "2022-01-20T13:43:42.788Z"
      },
      {
        "duration": 4,
        "start_time": "2022-01-20T13:43:43.012Z"
      },
      {
        "duration": 43,
        "start_time": "2022-01-20T13:43:43.017Z"
      },
      {
        "duration": 23,
        "start_time": "2022-01-20T13:43:43.061Z"
      },
      {
        "duration": 11,
        "start_time": "2022-01-20T13:43:43.086Z"
      },
      {
        "duration": 249,
        "start_time": "2022-01-20T13:43:43.098Z"
      },
      {
        "duration": 150,
        "start_time": "2022-01-20T13:44:29.905Z"
      },
      {
        "duration": 147,
        "start_time": "2022-01-20T13:45:03.363Z"
      },
      {
        "duration": 462,
        "start_time": "2022-01-20T13:45:27.376Z"
      },
      {
        "duration": -217,
        "start_time": "2022-01-20T13:45:45.936Z"
      },
      {
        "duration": 222,
        "start_time": "2022-01-20T13:45:59.508Z"
      },
      {
        "duration": 165,
        "start_time": "2022-01-20T13:46:12.847Z"
      },
      {
        "duration": 167,
        "start_time": "2022-01-20T13:46:15.674Z"
      },
      {
        "duration": 613,
        "start_time": "2022-01-20T13:46:33.694Z"
      },
      {
        "duration": 366,
        "start_time": "2022-01-20T13:46:49.083Z"
      },
      {
        "duration": 509,
        "start_time": "2022-01-20T13:47:05.015Z"
      },
      {
        "duration": 231,
        "start_time": "2022-01-20T13:47:24.159Z"
      },
      {
        "duration": 741,
        "start_time": "2022-01-20T13:47:30.035Z"
      },
      {
        "duration": 189,
        "start_time": "2022-01-20T13:47:39.220Z"
      },
      {
        "duration": 168,
        "start_time": "2022-01-20T13:48:11.943Z"
      },
      {
        "duration": 171,
        "start_time": "2022-01-20T13:48:45.927Z"
      },
      {
        "duration": 175,
        "start_time": "2022-01-20T13:49:35.051Z"
      },
      {
        "duration": 330,
        "start_time": "2022-01-21T07:11:25.715Z"
      },
      {
        "duration": 218,
        "start_time": "2022-01-21T07:11:49.707Z"
      },
      {
        "duration": 235,
        "start_time": "2022-01-21T07:11:59.830Z"
      },
      {
        "duration": 5,
        "start_time": "2022-01-21T07:12:46.610Z"
      },
      {
        "duration": 12,
        "start_time": "2022-01-21T07:15:48.064Z"
      },
      {
        "duration": 818,
        "start_time": "2022-01-21T07:15:56.251Z"
      },
      {
        "duration": 11,
        "start_time": "2022-01-21T07:17:49.068Z"
      },
      {
        "duration": 395,
        "start_time": "2022-01-21T07:22:12.265Z"
      },
      {
        "duration": 344,
        "start_time": "2022-01-21T07:22:19.696Z"
      },
      {
        "duration": 10,
        "start_time": "2022-01-21T07:22:35.488Z"
      },
      {
        "duration": 323,
        "start_time": "2022-01-21T07:23:15.544Z"
      },
      {
        "duration": 83,
        "start_time": "2022-01-21T07:23:37.130Z"
      },
      {
        "duration": 11,
        "start_time": "2022-01-21T07:26:23.559Z"
      },
      {
        "duration": 11,
        "start_time": "2022-01-21T07:26:57.001Z"
      },
      {
        "duration": 173,
        "start_time": "2022-01-21T07:28:40.090Z"
      },
      {
        "duration": 179,
        "start_time": "2022-01-21T07:28:43.057Z"
      },
      {
        "duration": 343,
        "start_time": "2022-01-21T07:30:36.027Z"
      },
      {
        "duration": 8550,
        "start_time": "2022-01-21T07:32:50.874Z"
      },
      {
        "duration": 8393,
        "start_time": "2022-01-21T07:33:24.202Z"
      },
      {
        "duration": 172,
        "start_time": "2022-01-21T07:33:47.452Z"
      },
      {
        "duration": 160,
        "start_time": "2022-01-21T07:34:22.436Z"
      },
      {
        "duration": 11,
        "start_time": "2022-01-21T07:35:02.102Z"
      },
      {
        "duration": 669,
        "start_time": "2022-01-21T07:38:29.498Z"
      },
      {
        "duration": 197,
        "start_time": "2022-01-21T07:38:41.058Z"
      },
      {
        "duration": 248,
        "start_time": "2022-01-21T07:38:57.786Z"
      },
      {
        "duration": 368,
        "start_time": "2022-01-21T07:39:32.536Z"
      },
      {
        "duration": 557,
        "start_time": "2022-01-21T07:39:37.939Z"
      },
      {
        "duration": 12,
        "start_time": "2022-01-21T07:39:44.242Z"
      },
      {
        "duration": 25,
        "start_time": "2022-01-21T07:41:53.856Z"
      },
      {
        "duration": 26,
        "start_time": "2022-01-21T07:43:58.194Z"
      },
      {
        "duration": 8,
        "start_time": "2022-01-21T07:44:06.144Z"
      },
      {
        "duration": 14,
        "start_time": "2022-01-21T07:44:21.443Z"
      },
      {
        "duration": 378,
        "start_time": "2022-01-21T07:44:30.576Z"
      },
      {
        "duration": 26,
        "start_time": "2022-01-21T07:44:38.587Z"
      },
      {
        "duration": 353,
        "start_time": "2022-01-21T07:46:04.998Z"
      },
      {
        "duration": 27,
        "start_time": "2022-01-21T07:46:15.230Z"
      },
      {
        "duration": 27,
        "start_time": "2022-01-21T07:47:40.487Z"
      },
      {
        "duration": 25,
        "start_time": "2022-01-21T07:47:56.973Z"
      },
      {
        "duration": 4,
        "start_time": "2022-01-21T07:48:08.803Z"
      },
      {
        "duration": 604,
        "start_time": "2022-01-21T07:48:27.918Z"
      },
      {
        "duration": 8,
        "start_time": "2022-01-21T07:48:52.815Z"
      },
      {
        "duration": 374,
        "start_time": "2022-01-21T07:49:05.676Z"
      },
      {
        "duration": 126,
        "start_time": "2022-01-21T07:50:40.284Z"
      },
      {
        "duration": 10,
        "start_time": "2022-01-21T07:50:43.967Z"
      },
      {
        "duration": 444,
        "start_time": "2022-01-21T07:53:24.344Z"
      },
      {
        "duration": 745,
        "start_time": "2022-01-21T07:54:01.824Z"
      },
      {
        "duration": 538,
        "start_time": "2022-01-21T07:56:28.864Z"
      },
      {
        "duration": 4,
        "start_time": "2022-01-21T07:56:39.273Z"
      },
      {
        "duration": 857,
        "start_time": "2022-01-21T07:56:53.576Z"
      },
      {
        "duration": 371,
        "start_time": "2022-01-21T07:57:13.628Z"
      },
      {
        "duration": 20,
        "start_time": "2022-01-21T07:59:31.004Z"
      },
      {
        "duration": 17,
        "start_time": "2022-01-21T07:59:48.952Z"
      },
      {
        "duration": 25,
        "start_time": "2022-01-21T07:59:56.914Z"
      },
      {
        "duration": 651,
        "start_time": "2022-01-21T08:03:22.626Z"
      },
      {
        "duration": 431,
        "start_time": "2022-01-21T08:03:32.610Z"
      },
      {
        "duration": 342,
        "start_time": "2022-01-21T08:03:41.365Z"
      },
      {
        "duration": 407,
        "start_time": "2022-01-21T08:03:51.851Z"
      },
      {
        "duration": 342,
        "start_time": "2022-01-21T08:04:17.138Z"
      },
      {
        "duration": 333,
        "start_time": "2022-01-21T08:04:24.039Z"
      },
      {
        "duration": 35,
        "start_time": "2022-01-21T08:04:35.229Z"
      },
      {
        "duration": 322,
        "start_time": "2022-01-21T08:04:51.822Z"
      },
      {
        "duration": 349,
        "start_time": "2022-01-21T08:05:03.073Z"
      },
      {
        "duration": 341,
        "start_time": "2022-01-21T08:05:13.001Z"
      },
      {
        "duration": 353,
        "start_time": "2022-01-21T08:05:28.787Z"
      },
      {
        "duration": 362,
        "start_time": "2022-01-21T08:05:37.411Z"
      },
      {
        "duration": 414,
        "start_time": "2022-01-21T08:05:45.063Z"
      },
      {
        "duration": 382,
        "start_time": "2022-01-21T08:06:02.579Z"
      },
      {
        "duration": 647,
        "start_time": "2022-01-21T08:11:38.538Z"
      },
      {
        "duration": 348,
        "start_time": "2022-01-21T08:11:43.489Z"
      },
      {
        "duration": 332,
        "start_time": "2022-01-21T08:12:01.430Z"
      },
      {
        "duration": 306,
        "start_time": "2022-01-21T08:12:15.040Z"
      },
      {
        "duration": 417,
        "start_time": "2022-01-21T08:13:22.206Z"
      },
      {
        "duration": 423,
        "start_time": "2022-01-21T08:15:26.391Z"
      },
      {
        "duration": 4,
        "start_time": "2022-01-21T08:31:27.481Z"
      },
      {
        "duration": 1745,
        "start_time": "2022-01-21T08:35:44.673Z"
      },
      {
        "duration": 143,
        "start_time": "2022-01-21T08:35:57.310Z"
      },
      {
        "duration": 164,
        "start_time": "2022-01-21T08:36:15.342Z"
      },
      {
        "duration": 142,
        "start_time": "2022-01-21T08:36:41.714Z"
      },
      {
        "duration": 222,
        "start_time": "2022-01-21T08:36:58.962Z"
      },
      {
        "duration": 6,
        "start_time": "2022-01-21T08:40:26.690Z"
      },
      {
        "duration": 916,
        "start_time": "2022-01-21T08:40:41.088Z"
      },
      {
        "duration": 11,
        "start_time": "2022-01-21T08:43:00.368Z"
      },
      {
        "duration": 321,
        "start_time": "2022-01-21T08:43:12.920Z"
      },
      {
        "duration": 349,
        "start_time": "2022-01-21T08:43:36.206Z"
      },
      {
        "duration": 3,
        "start_time": "2022-01-21T08:43:44.070Z"
      },
      {
        "duration": 3,
        "start_time": "2022-01-21T08:44:04.247Z"
      },
      {
        "duration": 4,
        "start_time": "2022-01-21T08:44:14.954Z"
      },
      {
        "duration": 3,
        "start_time": "2022-01-21T08:44:25.579Z"
      },
      {
        "duration": 2,
        "start_time": "2022-01-21T08:44:26.766Z"
      },
      {
        "duration": 5,
        "start_time": "2022-01-21T08:44:27.800Z"
      },
      {
        "duration": 3,
        "start_time": "2022-01-21T08:44:31.763Z"
      },
      {
        "duration": 4,
        "start_time": "2022-01-21T08:44:32.317Z"
      },
      {
        "duration": 3,
        "start_time": "2022-01-21T08:44:32.861Z"
      },
      {
        "duration": 3,
        "start_time": "2022-01-21T08:44:41.944Z"
      },
      {
        "duration": 372,
        "start_time": "2022-01-21T08:44:41.952Z"
      },
      {
        "duration": 18,
        "start_time": "2022-01-21T08:44:42.326Z"
      },
      {
        "duration": 24,
        "start_time": "2022-01-21T08:44:42.346Z"
      },
      {
        "duration": 15,
        "start_time": "2022-01-21T08:44:42.372Z"
      },
      {
        "duration": 48,
        "start_time": "2022-01-21T08:44:42.389Z"
      },
      {
        "duration": 13,
        "start_time": "2022-01-21T08:44:42.438Z"
      },
      {
        "duration": 11,
        "start_time": "2022-01-21T08:44:42.452Z"
      },
      {
        "duration": 5,
        "start_time": "2022-01-21T08:44:42.466Z"
      },
      {
        "duration": 55,
        "start_time": "2022-01-21T08:44:42.473Z"
      },
      {
        "duration": 7,
        "start_time": "2022-01-21T08:44:42.530Z"
      },
      {
        "duration": 15,
        "start_time": "2022-01-21T08:44:42.539Z"
      },
      {
        "duration": 3,
        "start_time": "2022-01-21T08:44:42.556Z"
      },
      {
        "duration": 96,
        "start_time": "2022-01-21T08:44:42.561Z"
      },
      {
        "duration": 9,
        "start_time": "2022-01-21T08:44:42.659Z"
      },
      {
        "duration": 15,
        "start_time": "2022-01-21T08:44:42.669Z"
      },
      {
        "duration": 10,
        "start_time": "2022-01-21T08:44:42.685Z"
      },
      {
        "duration": 40,
        "start_time": "2022-01-21T08:44:42.696Z"
      },
      {
        "duration": 2,
        "start_time": "2022-01-21T08:44:42.738Z"
      },
      {
        "duration": 48,
        "start_time": "2022-01-21T08:44:42.741Z"
      },
      {
        "duration": 10,
        "start_time": "2022-01-21T08:44:42.790Z"
      },
      {
        "duration": 27,
        "start_time": "2022-01-21T08:44:42.801Z"
      },
      {
        "duration": 7,
        "start_time": "2022-01-21T08:44:42.829Z"
      },
      {
        "duration": 8,
        "start_time": "2022-01-21T08:44:42.839Z"
      },
      {
        "duration": 8,
        "start_time": "2022-01-21T08:44:42.849Z"
      },
      {
        "duration": 108,
        "start_time": "2022-01-21T08:44:42.859Z"
      },
      {
        "duration": 33,
        "start_time": "2022-01-21T08:44:42.969Z"
      },
      {
        "duration": 60,
        "start_time": "2022-01-21T08:44:43.004Z"
      },
      {
        "duration": 245,
        "start_time": "2022-01-21T08:44:43.065Z"
      },
      {
        "duration": 16,
        "start_time": "2022-01-21T08:44:43.312Z"
      },
      {
        "duration": 255,
        "start_time": "2022-01-21T08:44:43.330Z"
      },
      {
        "duration": 20,
        "start_time": "2022-01-21T08:44:43.587Z"
      },
      {
        "duration": 245,
        "start_time": "2022-01-21T08:44:43.608Z"
      },
      {
        "duration": 12,
        "start_time": "2022-01-21T08:44:43.854Z"
      },
      {
        "duration": 249,
        "start_time": "2022-01-21T08:44:43.868Z"
      },
      {
        "duration": 25,
        "start_time": "2022-01-21T08:44:44.118Z"
      },
      {
        "duration": 17,
        "start_time": "2022-01-21T08:44:44.145Z"
      },
      {
        "duration": 332,
        "start_time": "2022-01-21T08:44:44.163Z"
      },
      {
        "duration": 32,
        "start_time": "2022-01-21T08:44:44.497Z"
      },
      {
        "duration": 8,
        "start_time": "2022-01-21T08:44:44.530Z"
      },
      {
        "duration": 22,
        "start_time": "2022-01-21T08:44:44.539Z"
      },
      {
        "duration": 10,
        "start_time": "2022-01-21T08:44:44.563Z"
      },
      {
        "duration": 19,
        "start_time": "2022-01-21T08:44:44.575Z"
      },
      {
        "duration": 32,
        "start_time": "2022-01-21T08:44:44.596Z"
      },
      {
        "duration": 8,
        "start_time": "2022-01-21T08:44:44.629Z"
      },
      {
        "duration": 11,
        "start_time": "2022-01-21T08:44:44.638Z"
      },
      {
        "duration": 8,
        "start_time": "2022-01-21T08:44:44.650Z"
      },
      {
        "duration": 4,
        "start_time": "2022-01-21T08:44:44.659Z"
      },
      {
        "duration": 5,
        "start_time": "2022-01-21T08:44:44.664Z"
      },
      {
        "duration": 6,
        "start_time": "2022-01-21T08:44:44.670Z"
      },
      {
        "duration": 52,
        "start_time": "2022-01-21T08:44:44.677Z"
      },
      {
        "duration": 18,
        "start_time": "2022-01-21T08:44:44.730Z"
      },
      {
        "duration": 6,
        "start_time": "2022-01-21T08:44:44.749Z"
      },
      {
        "duration": 12,
        "start_time": "2022-01-21T08:44:44.757Z"
      },
      {
        "duration": 4,
        "start_time": "2022-01-21T08:44:44.771Z"
      },
      {
        "duration": 5,
        "start_time": "2022-01-21T08:44:44.777Z"
      },
      {
        "duration": 3,
        "start_time": "2022-01-21T08:44:44.784Z"
      },
      {
        "duration": 211,
        "start_time": "2022-01-21T08:44:44.827Z"
      },
      {
        "duration": 4,
        "start_time": "2022-01-21T08:44:45.040Z"
      },
      {
        "duration": 24,
        "start_time": "2022-01-21T08:44:45.046Z"
      },
      {
        "duration": 15,
        "start_time": "2022-01-21T08:44:45.072Z"
      },
      {
        "duration": 210,
        "start_time": "2022-01-21T08:44:45.089Z"
      },
      {
        "duration": 188,
        "start_time": "2022-01-21T08:44:45.301Z"
      },
      {
        "duration": 12,
        "start_time": "2022-01-21T08:44:45.491Z"
      },
      {
        "duration": 186,
        "start_time": "2022-01-21T08:44:45.505Z"
      },
      {
        "duration": 169,
        "start_time": "2022-01-21T08:44:45.692Z"
      },
      {
        "duration": 12,
        "start_time": "2022-01-21T08:44:45.863Z"
      },
      {
        "duration": 212,
        "start_time": "2022-01-21T08:44:45.876Z"
      },
      {
        "duration": 248,
        "start_time": "2022-01-21T08:44:46.093Z"
      },
      {
        "duration": 12,
        "start_time": "2022-01-21T08:44:46.342Z"
      },
      {
        "duration": 4,
        "start_time": "2022-01-21T08:44:46.356Z"
      },
      {
        "duration": 14,
        "start_time": "2022-01-21T08:44:46.362Z"
      },
      {
        "duration": 60,
        "start_time": "2022-01-21T08:44:46.377Z"
      },
      {
        "duration": 25,
        "start_time": "2022-01-21T08:44:46.438Z"
      },
      {
        "duration": 3,
        "start_time": "2022-01-21T08:44:46.464Z"
      },
      {
        "duration": 366,
        "start_time": "2022-01-21T08:44:46.469Z"
      },
      {
        "duration": 154,
        "start_time": "2022-01-21T08:44:46.836Z"
      },
      {
        "duration": 4,
        "start_time": "2022-01-21T08:44:46.991Z"
      },
      {
        "duration": 30,
        "start_time": "2022-01-21T08:44:46.996Z"
      },
      {
        "duration": 21,
        "start_time": "2022-01-21T08:44:47.027Z"
      },
      {
        "duration": 3,
        "start_time": "2022-01-21T08:44:47.050Z"
      },
      {
        "duration": 6,
        "start_time": "2022-01-21T08:44:47.054Z"
      },
      {
        "duration": 12,
        "start_time": "2022-01-21T08:44:47.062Z"
      },
      {
        "duration": 3,
        "start_time": "2022-01-21T08:45:41.498Z"
      },
      {
        "duration": 3,
        "start_time": "2022-01-21T08:45:44.593Z"
      },
      {
        "duration": 19,
        "start_time": "2022-01-21T08:46:28.185Z"
      },
      {
        "duration": 167,
        "start_time": "2022-01-21T08:47:46.716Z"
      },
      {
        "duration": 4416,
        "start_time": "2022-01-21T08:51:32.991Z"
      },
      {
        "duration": 5,
        "start_time": "2022-01-21T08:51:58.640Z"
      },
      {
        "duration": 343,
        "start_time": "2022-01-21T08:52:16.756Z"
      },
      {
        "duration": 9015,
        "start_time": "2022-01-21T08:55:58.103Z"
      },
      {
        "duration": 4,
        "start_time": "2022-01-21T08:56:12.142Z"
      },
      {
        "duration": 4938,
        "start_time": "2022-01-21T08:56:45.862Z"
      },
      {
        "duration": 5,
        "start_time": "2022-01-21T08:57:07.519Z"
      },
      {
        "duration": 5,
        "start_time": "2022-01-21T08:57:10.651Z"
      },
      {
        "duration": 13,
        "start_time": "2022-01-21T08:58:30.318Z"
      },
      {
        "duration": 6,
        "start_time": "2022-01-21T08:58:50.220Z"
      },
      {
        "duration": 21,
        "start_time": "2022-01-21T08:58:51.418Z"
      },
      {
        "duration": 8817,
        "start_time": "2022-01-21T08:59:16.764Z"
      },
      {
        "duration": 5,
        "start_time": "2022-01-21T08:59:33.992Z"
      },
      {
        "duration": 602,
        "start_time": "2022-01-21T09:00:36.214Z"
      },
      {
        "duration": 4,
        "start_time": "2022-01-21T09:01:26.746Z"
      },
      {
        "duration": 5,
        "start_time": "2022-01-21T09:01:28.187Z"
      },
      {
        "duration": 8,
        "start_time": "2022-01-21T09:01:29.081Z"
      },
      {
        "duration": 18,
        "start_time": "2022-01-21T09:01:30.384Z"
      },
      {
        "duration": 4652,
        "start_time": "2022-01-21T09:02:04.323Z"
      },
      {
        "duration": 312,
        "start_time": "2022-01-21T09:02:08.665Z"
      },
      {
        "duration": 10,
        "start_time": "2022-01-21T09:02:25.050Z"
      },
      {
        "duration": 5,
        "start_time": "2022-01-21T09:02:27.291Z"
      },
      {
        "duration": 4678,
        "start_time": "2022-01-21T10:18:23.178Z"
      },
      {
        "duration": 5,
        "start_time": "2022-01-21T10:19:04.352Z"
      },
      {
        "duration": 4407,
        "start_time": "2022-01-21T10:19:09.853Z"
      },
      {
        "duration": 3,
        "start_time": "2022-01-21T10:19:22.276Z"
      },
      {
        "duration": 370,
        "start_time": "2022-01-21T10:19:22.284Z"
      },
      {
        "duration": 19,
        "start_time": "2022-01-21T10:19:22.656Z"
      },
      {
        "duration": 23,
        "start_time": "2022-01-21T10:19:22.677Z"
      },
      {
        "duration": 15,
        "start_time": "2022-01-21T10:19:22.701Z"
      },
      {
        "duration": 28,
        "start_time": "2022-01-21T10:19:22.718Z"
      },
      {
        "duration": 12,
        "start_time": "2022-01-21T10:19:22.748Z"
      },
      {
        "duration": 12,
        "start_time": "2022-01-21T10:19:22.762Z"
      },
      {
        "duration": 5,
        "start_time": "2022-01-21T10:19:22.777Z"
      },
      {
        "duration": 62,
        "start_time": "2022-01-21T10:19:22.784Z"
      },
      {
        "duration": 5,
        "start_time": "2022-01-21T10:19:22.848Z"
      },
      {
        "duration": 14,
        "start_time": "2022-01-21T10:19:22.854Z"
      },
      {
        "duration": 4,
        "start_time": "2022-01-21T10:19:22.870Z"
      },
      {
        "duration": 86,
        "start_time": "2022-01-21T10:19:22.876Z"
      },
      {
        "duration": 6,
        "start_time": "2022-01-21T10:19:22.964Z"
      },
      {
        "duration": 16,
        "start_time": "2022-01-21T10:19:22.972Z"
      },
      {
        "duration": 9,
        "start_time": "2022-01-21T10:19:22.990Z"
      },
      {
        "duration": 32,
        "start_time": "2022-01-21T10:19:23.001Z"
      },
      {
        "duration": 3,
        "start_time": "2022-01-21T10:19:23.035Z"
      },
      {
        "duration": 49,
        "start_time": "2022-01-21T10:19:23.040Z"
      },
      {
        "duration": 37,
        "start_time": "2022-01-21T10:19:23.091Z"
      },
      {
        "duration": 11,
        "start_time": "2022-01-21T10:19:23.130Z"
      },
      {
        "duration": 8,
        "start_time": "2022-01-21T10:19:23.143Z"
      },
      {
        "duration": 8,
        "start_time": "2022-01-21T10:19:23.156Z"
      },
      {
        "duration": 8,
        "start_time": "2022-01-21T10:19:23.167Z"
      },
      {
        "duration": 69,
        "start_time": "2022-01-21T10:19:23.228Z"
      },
      {
        "duration": 54,
        "start_time": "2022-01-21T10:19:23.299Z"
      },
      {
        "duration": 42,
        "start_time": "2022-01-21T10:19:23.355Z"
      },
      {
        "duration": 344,
        "start_time": "2022-01-21T10:19:23.398Z"
      },
      {
        "duration": 13,
        "start_time": "2022-01-21T10:19:23.745Z"
      },
      {
        "duration": 434,
        "start_time": "2022-01-21T10:19:23.760Z"
      },
      {
        "duration": 35,
        "start_time": "2022-01-21T10:19:24.196Z"
      },
      {
        "duration": 408,
        "start_time": "2022-01-21T10:19:24.233Z"
      },
      {
        "duration": 13,
        "start_time": "2022-01-21T10:19:24.643Z"
      },
      {
        "duration": 413,
        "start_time": "2022-01-21T10:19:24.659Z"
      },
      {
        "duration": 26,
        "start_time": "2022-01-21T10:19:25.074Z"
      },
      {
        "duration": 41,
        "start_time": "2022-01-21T10:19:25.102Z"
      },
      {
        "duration": 409,
        "start_time": "2022-01-21T10:19:25.145Z"
      },
      {
        "duration": 35,
        "start_time": "2022-01-21T10:19:25.556Z"
      },
      {
        "duration": 10,
        "start_time": "2022-01-21T10:19:25.593Z"
      },
      {
        "duration": 44,
        "start_time": "2022-01-21T10:19:25.605Z"
      },
      {
        "duration": 8,
        "start_time": "2022-01-21T10:19:25.651Z"
      },
      {
        "duration": 16,
        "start_time": "2022-01-21T10:19:25.661Z"
      },
      {
        "duration": 8,
        "start_time": "2022-01-21T10:19:25.679Z"
      },
      {
        "duration": 43,
        "start_time": "2022-01-21T10:19:25.689Z"
      },
      {
        "duration": 8,
        "start_time": "2022-01-21T10:19:25.734Z"
      },
      {
        "duration": 8,
        "start_time": "2022-01-21T10:19:25.743Z"
      },
      {
        "duration": 3,
        "start_time": "2022-01-21T10:19:25.753Z"
      },
      {
        "duration": 6,
        "start_time": "2022-01-21T10:19:25.758Z"
      },
      {
        "duration": 9,
        "start_time": "2022-01-21T10:19:25.765Z"
      },
      {
        "duration": 11,
        "start_time": "2022-01-21T10:19:25.775Z"
      },
      {
        "duration": 50,
        "start_time": "2022-01-21T10:19:25.787Z"
      },
      {
        "duration": 6,
        "start_time": "2022-01-21T10:19:25.838Z"
      },
      {
        "duration": 12,
        "start_time": "2022-01-21T10:19:25.846Z"
      },
      {
        "duration": 6,
        "start_time": "2022-01-21T10:19:25.859Z"
      },
      {
        "duration": 10,
        "start_time": "2022-01-21T10:19:25.867Z"
      },
      {
        "duration": 50,
        "start_time": "2022-01-21T10:19:25.879Z"
      },
      {
        "duration": 226,
        "start_time": "2022-01-21T10:19:25.930Z"
      },
      {
        "duration": 4,
        "start_time": "2022-01-21T10:19:26.157Z"
      },
      {
        "duration": 22,
        "start_time": "2022-01-21T10:19:26.162Z"
      },
      {
        "duration": 42,
        "start_time": "2022-01-21T10:19:26.185Z"
      },
      {
        "duration": 179,
        "start_time": "2022-01-21T10:19:26.229Z"
      },
      {
        "duration": 187,
        "start_time": "2022-01-21T10:19:26.409Z"
      },
      {
        "duration": 11,
        "start_time": "2022-01-21T10:19:26.598Z"
      },
      {
        "duration": 305,
        "start_time": "2022-01-21T10:19:26.610Z"
      },
      {
        "duration": 287,
        "start_time": "2022-01-21T10:19:26.917Z"
      },
      {
        "duration": 30,
        "start_time": "2022-01-21T10:19:27.206Z"
      },
      {
        "duration": 403,
        "start_time": "2022-01-21T10:19:27.239Z"
      },
      {
        "duration": 432,
        "start_time": "2022-01-21T10:19:27.649Z"
      },
      {
        "duration": 17,
        "start_time": "2022-01-21T10:19:28.084Z"
      },
      {
        "duration": 24,
        "start_time": "2022-01-21T10:19:28.103Z"
      },
      {
        "duration": 16,
        "start_time": "2022-01-21T10:19:28.130Z"
      },
      {
        "duration": 42,
        "start_time": "2022-01-21T10:19:28.148Z"
      },
      {
        "duration": 70,
        "start_time": "2022-01-21T10:19:28.193Z"
      },
      {
        "duration": 5,
        "start_time": "2022-01-21T10:19:28.265Z"
      },
      {
        "duration": 459,
        "start_time": "2022-01-21T10:19:28.272Z"
      },
      {
        "duration": 8,
        "start_time": "2022-01-21T10:19:28.733Z"
      },
      {
        "duration": 11,
        "start_time": "2022-01-21T10:19:28.743Z"
      },
      {
        "duration": 29,
        "start_time": "2022-01-21T10:19:28.756Z"
      },
      {
        "duration": 4,
        "start_time": "2022-01-21T10:19:28.787Z"
      },
      {
        "duration": 5,
        "start_time": "2022-01-21T10:20:15.717Z"
      },
      {
        "duration": 5,
        "start_time": "2022-01-21T10:24:34.217Z"
      },
      {
        "duration": 4,
        "start_time": "2022-01-21T10:31:54.912Z"
      },
      {
        "duration": 325,
        "start_time": "2022-01-21T10:41:48.712Z"
      },
      {
        "duration": 349,
        "start_time": "2022-01-21T10:41:53.764Z"
      },
      {
        "duration": 5,
        "start_time": "2022-01-21T10:42:01.017Z"
      },
      {
        "duration": 6,
        "start_time": "2022-01-21T10:43:20.727Z"
      },
      {
        "duration": 5,
        "start_time": "2022-01-21T10:46:33.720Z"
      },
      {
        "duration": 4,
        "start_time": "2022-01-21T10:48:07.669Z"
      },
      {
        "duration": 318,
        "start_time": "2022-01-21T10:48:36.740Z"
      },
      {
        "duration": 340,
        "start_time": "2022-01-21T10:48:42.591Z"
      },
      {
        "duration": 142,
        "start_time": "2022-01-21T10:49:21.889Z"
      },
      {
        "duration": 327,
        "start_time": "2022-01-21T10:49:35.708Z"
      },
      {
        "duration": 4,
        "start_time": "2022-01-21T10:49:42.769Z"
      },
      {
        "duration": 4,
        "start_time": "2022-01-21T10:51:46.523Z"
      },
      {
        "duration": 4,
        "start_time": "2022-01-21T10:56:13.235Z"
      },
      {
        "duration": 7,
        "start_time": "2022-01-21T10:56:29.261Z"
      },
      {
        "duration": 4467,
        "start_time": "2022-01-21T10:56:36.479Z"
      },
      {
        "duration": 3,
        "start_time": "2022-01-21T10:59:53.219Z"
      },
      {
        "duration": 348,
        "start_time": "2022-01-21T10:59:53.225Z"
      },
      {
        "duration": 19,
        "start_time": "2022-01-21T10:59:53.575Z"
      },
      {
        "duration": 22,
        "start_time": "2022-01-21T10:59:53.596Z"
      },
      {
        "duration": 15,
        "start_time": "2022-01-21T10:59:53.620Z"
      },
      {
        "duration": 25,
        "start_time": "2022-01-21T10:59:53.636Z"
      },
      {
        "duration": 13,
        "start_time": "2022-01-21T10:59:53.663Z"
      },
      {
        "duration": 13,
        "start_time": "2022-01-21T10:59:53.677Z"
      },
      {
        "duration": 6,
        "start_time": "2022-01-21T10:59:53.692Z"
      },
      {
        "duration": 28,
        "start_time": "2022-01-21T10:59:53.699Z"
      },
      {
        "duration": 5,
        "start_time": "2022-01-21T10:59:53.728Z"
      },
      {
        "duration": 16,
        "start_time": "2022-01-21T10:59:53.734Z"
      },
      {
        "duration": 3,
        "start_time": "2022-01-21T10:59:53.751Z"
      },
      {
        "duration": 59,
        "start_time": "2022-01-21T10:59:53.756Z"
      },
      {
        "duration": 5,
        "start_time": "2022-01-21T10:59:53.817Z"
      },
      {
        "duration": 16,
        "start_time": "2022-01-21T10:59:53.824Z"
      },
      {
        "duration": 8,
        "start_time": "2022-01-21T10:59:53.841Z"
      },
      {
        "duration": 11,
        "start_time": "2022-01-21T10:59:53.851Z"
      },
      {
        "duration": 11,
        "start_time": "2022-01-21T10:59:53.864Z"
      },
      {
        "duration": 48,
        "start_time": "2022-01-21T10:59:53.877Z"
      },
      {
        "duration": 11,
        "start_time": "2022-01-21T10:59:53.926Z"
      },
      {
        "duration": 8,
        "start_time": "2022-01-21T10:59:53.938Z"
      },
      {
        "duration": 11,
        "start_time": "2022-01-21T10:59:53.948Z"
      },
      {
        "duration": 9,
        "start_time": "2022-01-21T10:59:53.960Z"
      },
      {
        "duration": 10,
        "start_time": "2022-01-21T10:59:53.971Z"
      },
      {
        "duration": 75,
        "start_time": "2022-01-21T10:59:53.983Z"
      },
      {
        "duration": 39,
        "start_time": "2022-01-21T10:59:54.062Z"
      },
      {
        "duration": 43,
        "start_time": "2022-01-21T10:59:54.103Z"
      },
      {
        "duration": 319,
        "start_time": "2022-01-21T10:59:54.147Z"
      },
      {
        "duration": 63,
        "start_time": "2022-01-21T10:59:54.468Z"
      },
      {
        "duration": 280,
        "start_time": "2022-01-21T10:59:54.533Z"
      },
      {
        "duration": 26,
        "start_time": "2022-01-21T10:59:54.815Z"
      },
      {
        "duration": 234,
        "start_time": "2022-01-21T10:59:54.842Z"
      },
      {
        "duration": 9,
        "start_time": "2022-01-21T10:59:55.078Z"
      },
      {
        "duration": 241,
        "start_time": "2022-01-21T10:59:55.088Z"
      },
      {
        "duration": 18,
        "start_time": "2022-01-21T10:59:55.330Z"
      },
      {
        "duration": 17,
        "start_time": "2022-01-21T10:59:55.349Z"
      },
      {
        "duration": 249,
        "start_time": "2022-01-21T10:59:55.368Z"
      },
      {
        "duration": 21,
        "start_time": "2022-01-21T10:59:55.627Z"
      },
      {
        "duration": 7,
        "start_time": "2022-01-21T10:59:55.650Z"
      },
      {
        "duration": 17,
        "start_time": "2022-01-21T10:59:55.658Z"
      },
      {
        "duration": 6,
        "start_time": "2022-01-21T10:59:55.677Z"
      },
      {
        "duration": 11,
        "start_time": "2022-01-21T10:59:55.685Z"
      },
      {
        "duration": 36,
        "start_time": "2022-01-21T10:59:55.697Z"
      },
      {
        "duration": 8,
        "start_time": "2022-01-21T10:59:55.734Z"
      },
      {
        "duration": 11,
        "start_time": "2022-01-21T10:59:55.743Z"
      },
      {
        "duration": 7,
        "start_time": "2022-01-21T10:59:55.756Z"
      },
      {
        "duration": 3,
        "start_time": "2022-01-21T10:59:55.765Z"
      },
      {
        "duration": 5,
        "start_time": "2022-01-21T10:59:55.769Z"
      },
      {
        "duration": 6,
        "start_time": "2022-01-21T10:59:55.776Z"
      },
      {
        "duration": 47,
        "start_time": "2022-01-21T10:59:55.783Z"
      },
      {
        "duration": 18,
        "start_time": "2022-01-21T10:59:55.832Z"
      },
      {
        "duration": 6,
        "start_time": "2022-01-21T10:59:55.852Z"
      },
      {
        "duration": 16,
        "start_time": "2022-01-21T10:59:55.859Z"
      },
      {
        "duration": 4,
        "start_time": "2022-01-21T10:59:55.877Z"
      },
      {
        "duration": 8,
        "start_time": "2022-01-21T10:59:55.882Z"
      },
      {
        "duration": 36,
        "start_time": "2022-01-21T10:59:55.891Z"
      },
      {
        "duration": 200,
        "start_time": "2022-01-21T10:59:55.929Z"
      },
      {
        "duration": 11,
        "start_time": "2022-01-21T10:59:56.130Z"
      },
      {
        "duration": 28,
        "start_time": "2022-01-21T10:59:56.143Z"
      },
      {
        "duration": 17,
        "start_time": "2022-01-21T10:59:56.173Z"
      },
      {
        "duration": 203,
        "start_time": "2022-01-21T10:59:56.192Z"
      },
      {
        "duration": 189,
        "start_time": "2022-01-21T10:59:56.397Z"
      },
      {
        "duration": 14,
        "start_time": "2022-01-21T10:59:56.588Z"
      },
      {
        "duration": 296,
        "start_time": "2022-01-21T10:59:56.604Z"
      },
      {
        "duration": 180,
        "start_time": "2022-01-21T10:59:56.902Z"
      },
      {
        "duration": 14,
        "start_time": "2022-01-21T10:59:57.084Z"
      },
      {
        "duration": 198,
        "start_time": "2022-01-21T10:59:57.100Z"
      },
      {
        "duration": 183,
        "start_time": "2022-01-21T10:59:57.300Z"
      },
      {
        "duration": 14,
        "start_time": "2022-01-21T10:59:57.485Z"
      },
      {
        "duration": 6,
        "start_time": "2022-01-21T10:59:57.501Z"
      },
      {
        "duration": 13,
        "start_time": "2022-01-21T10:59:57.528Z"
      },
      {
        "duration": 27,
        "start_time": "2022-01-21T10:59:57.543Z"
      },
      {
        "duration": 64,
        "start_time": "2022-01-21T10:59:57.572Z"
      },
      {
        "duration": 4,
        "start_time": "2022-01-21T10:59:57.637Z"
      },
      {
        "duration": 305,
        "start_time": "2022-01-21T10:59:57.642Z"
      },
      {
        "duration": 6,
        "start_time": "2022-01-21T10:59:57.948Z"
      },
      {
        "duration": 9,
        "start_time": "2022-01-21T10:59:57.955Z"
      },
      {
        "duration": 23,
        "start_time": "2022-01-21T10:59:57.966Z"
      },
      {
        "duration": 15,
        "start_time": "2022-01-21T10:59:57.990Z"
      },
      {
        "duration": 16,
        "start_time": "2022-01-21T10:59:58.010Z"
      },
      {
        "duration": 9,
        "start_time": "2022-01-21T10:59:58.028Z"
      },
      {
        "duration": 14,
        "start_time": "2022-01-21T10:59:58.039Z"
      },
      {
        "duration": 9,
        "start_time": "2022-01-21T15:07:50.072Z"
      },
      {
        "duration": 8,
        "start_time": "2022-01-21T15:07:51.623Z"
      },
      {
        "duration": 8,
        "start_time": "2022-01-21T15:08:07.710Z"
      },
      {
        "duration": 7,
        "start_time": "2022-01-21T15:08:21.449Z"
      },
      {
        "duration": 7,
        "start_time": "2022-01-21T15:08:30.116Z"
      },
      {
        "duration": 8,
        "start_time": "2022-01-21T15:15:23.229Z"
      },
      {
        "duration": 332,
        "start_time": "2022-01-21T18:33:22.630Z"
      },
      {
        "duration": 4,
        "start_time": "2022-01-21T18:33:57.119Z"
      },
      {
        "duration": 357,
        "start_time": "2022-01-21T18:36:26.800Z"
      },
      {
        "duration": 3,
        "start_time": "2022-01-21T18:36:39.285Z"
      },
      {
        "duration": 362,
        "start_time": "2022-01-21T18:36:39.311Z"
      },
      {
        "duration": 18,
        "start_time": "2022-01-21T18:36:39.675Z"
      },
      {
        "duration": 23,
        "start_time": "2022-01-21T18:36:39.696Z"
      },
      {
        "duration": 15,
        "start_time": "2022-01-21T18:36:39.720Z"
      },
      {
        "duration": 24,
        "start_time": "2022-01-21T18:36:39.736Z"
      },
      {
        "duration": 12,
        "start_time": "2022-01-21T18:36:39.762Z"
      },
      {
        "duration": 11,
        "start_time": "2022-01-21T18:36:39.775Z"
      },
      {
        "duration": 5,
        "start_time": "2022-01-21T18:36:39.788Z"
      },
      {
        "duration": 46,
        "start_time": "2022-01-21T18:36:39.795Z"
      },
      {
        "duration": 5,
        "start_time": "2022-01-21T18:36:39.843Z"
      },
      {
        "duration": 14,
        "start_time": "2022-01-21T18:36:39.850Z"
      },
      {
        "duration": 4,
        "start_time": "2022-01-21T18:36:39.865Z"
      },
      {
        "duration": 78,
        "start_time": "2022-01-21T18:36:39.870Z"
      },
      {
        "duration": 6,
        "start_time": "2022-01-21T18:36:39.950Z"
      },
      {
        "duration": 14,
        "start_time": "2022-01-21T18:36:39.957Z"
      },
      {
        "duration": 9,
        "start_time": "2022-01-21T18:36:39.972Z"
      },
      {
        "duration": 10,
        "start_time": "2022-01-21T18:36:39.983Z"
      },
      {
        "duration": 2,
        "start_time": "2022-01-21T18:36:39.995Z"
      },
      {
        "duration": 73,
        "start_time": "2022-01-21T18:36:39.998Z"
      },
      {
        "duration": 9,
        "start_time": "2022-01-21T18:36:40.073Z"
      },
      {
        "duration": 9,
        "start_time": "2022-01-21T18:36:40.085Z"
      },
      {
        "duration": 7,
        "start_time": "2022-01-21T18:36:40.095Z"
      },
      {
        "duration": 30,
        "start_time": "2022-01-21T18:36:40.104Z"
      },
      {
        "duration": 8,
        "start_time": "2022-01-21T18:36:40.135Z"
      },
      {
        "duration": 92,
        "start_time": "2022-01-21T18:36:40.144Z"
      },
      {
        "duration": 35,
        "start_time": "2022-01-21T18:36:40.238Z"
      },
      {
        "duration": 65,
        "start_time": "2022-01-21T18:36:40.275Z"
      },
      {
        "duration": 242,
        "start_time": "2022-01-21T18:36:40.342Z"
      },
      {
        "duration": 9,
        "start_time": "2022-01-21T18:36:40.586Z"
      },
      {
        "duration": 276,
        "start_time": "2022-01-21T18:36:40.596Z"
      },
      {
        "duration": 17,
        "start_time": "2022-01-21T18:36:40.874Z"
      },
      {
        "duration": 260,
        "start_time": "2022-01-21T18:36:40.893Z"
      },
      {
        "duration": 14,
        "start_time": "2022-01-21T18:36:41.154Z"
      },
      {
        "duration": 367,
        "start_time": "2022-01-21T18:36:41.170Z"
      },
      {
        "duration": 17,
        "start_time": "2022-01-21T18:36:41.539Z"
      },
      {
        "duration": 16,
        "start_time": "2022-01-21T18:36:41.558Z"
      },
      {
        "duration": 245,
        "start_time": "2022-01-21T18:36:41.575Z"
      },
      {
        "duration": 23,
        "start_time": "2022-01-21T18:36:41.821Z"
      },
      {
        "duration": 7,
        "start_time": "2022-01-21T18:36:41.845Z"
      },
      {
        "duration": 18,
        "start_time": "2022-01-21T18:36:41.853Z"
      },
      {
        "duration": 6,
        "start_time": "2022-01-21T18:36:41.872Z"
      },
      {
        "duration": 12,
        "start_time": "2022-01-21T18:36:41.879Z"
      },
      {
        "duration": 6,
        "start_time": "2022-01-21T18:36:41.892Z"
      },
      {
        "duration": 7,
        "start_time": "2022-01-21T18:36:41.927Z"
      },
      {
        "duration": 7,
        "start_time": "2022-01-21T18:36:41.936Z"
      },
      {
        "duration": 7,
        "start_time": "2022-01-21T18:36:41.944Z"
      },
      {
        "duration": 3,
        "start_time": "2022-01-21T18:36:41.953Z"
      },
      {
        "duration": 4,
        "start_time": "2022-01-21T18:36:41.957Z"
      },
      {
        "duration": 4,
        "start_time": "2022-01-21T18:36:41.965Z"
      },
      {
        "duration": 6,
        "start_time": "2022-01-21T18:36:41.971Z"
      },
      {
        "duration": 52,
        "start_time": "2022-01-21T18:36:41.979Z"
      },
      {
        "duration": 8,
        "start_time": "2022-01-21T18:36:42.032Z"
      },
      {
        "duration": 14,
        "start_time": "2022-01-21T18:36:42.042Z"
      },
      {
        "duration": 6,
        "start_time": "2022-01-21T18:36:42.057Z"
      },
      {
        "duration": 8,
        "start_time": "2022-01-21T18:36:42.065Z"
      },
      {
        "duration": 4,
        "start_time": "2022-01-21T18:36:42.075Z"
      },
      {
        "duration": 225,
        "start_time": "2022-01-21T18:36:42.080Z"
      },
      {
        "duration": 5,
        "start_time": "2022-01-21T18:36:42.307Z"
      },
      {
        "duration": 26,
        "start_time": "2022-01-21T18:36:42.313Z"
      },
      {
        "duration": 14,
        "start_time": "2022-01-21T18:36:42.341Z"
      },
      {
        "duration": 185,
        "start_time": "2022-01-21T18:36:42.356Z"
      },
      {
        "duration": 178,
        "start_time": "2022-01-21T18:36:42.543Z"
      },
      {
        "duration": 15,
        "start_time": "2022-01-21T18:36:42.722Z"
      },
      {
        "duration": 182,
        "start_time": "2022-01-21T18:36:42.738Z"
      },
      {
        "duration": 175,
        "start_time": "2022-01-21T18:36:42.922Z"
      },
      {
        "duration": 12,
        "start_time": "2022-01-21T18:36:43.099Z"
      },
      {
        "duration": 190,
        "start_time": "2022-01-21T18:36:43.113Z"
      },
      {
        "duration": 178,
        "start_time": "2022-01-21T18:36:43.305Z"
      },
      {
        "duration": 11,
        "start_time": "2022-01-21T18:36:43.484Z"
      },
      {
        "duration": 6,
        "start_time": "2022-01-21T18:36:43.497Z"
      },
      {
        "duration": 26,
        "start_time": "2022-01-21T18:36:43.505Z"
      },
      {
        "duration": 25,
        "start_time": "2022-01-21T18:36:43.532Z"
      },
      {
        "duration": 23,
        "start_time": "2022-01-21T18:36:43.559Z"
      },
      {
        "duration": 3,
        "start_time": "2022-01-21T18:36:43.583Z"
      },
      {
        "duration": 355,
        "start_time": "2022-01-21T18:36:43.588Z"
      },
      {
        "duration": 6,
        "start_time": "2022-01-21T18:36:43.944Z"
      },
      {
        "duration": 6,
        "start_time": "2022-01-21T18:36:43.952Z"
      },
      {
        "duration": 4,
        "start_time": "2022-01-21T18:36:43.959Z"
      },
      {
        "duration": 7,
        "start_time": "2022-01-21T18:36:43.965Z"
      },
      {
        "duration": 6,
        "start_time": "2022-01-21T18:36:43.973Z"
      },
      {
        "duration": 5,
        "start_time": "2022-01-21T18:36:43.980Z"
      },
      {
        "duration": 6,
        "start_time": "2022-01-21T18:36:43.986Z"
      },
      {
        "duration": 313,
        "start_time": "2022-01-21T18:38:44.444Z"
      },
      {
        "duration": 426,
        "start_time": "2022-01-21T18:41:13.833Z"
      },
      {
        "duration": 332,
        "start_time": "2022-01-21T18:42:10.835Z"
      },
      {
        "duration": 1130,
        "start_time": "2022-01-21T18:45:40.401Z"
      },
      {
        "duration": 361,
        "start_time": "2022-01-21T18:45:41.533Z"
      },
      {
        "duration": 20,
        "start_time": "2022-01-21T18:45:41.896Z"
      },
      {
        "duration": 30,
        "start_time": "2022-01-21T18:45:41.918Z"
      },
      {
        "duration": 16,
        "start_time": "2022-01-21T18:45:41.950Z"
      },
      {
        "duration": 26,
        "start_time": "2022-01-21T18:45:41.968Z"
      },
      {
        "duration": 39,
        "start_time": "2022-01-21T18:45:41.996Z"
      },
      {
        "duration": 12,
        "start_time": "2022-01-21T18:45:42.037Z"
      },
      {
        "duration": 5,
        "start_time": "2022-01-21T18:45:42.051Z"
      },
      {
        "duration": 25,
        "start_time": "2022-01-21T18:45:42.058Z"
      },
      {
        "duration": 5,
        "start_time": "2022-01-21T18:45:42.084Z"
      },
      {
        "duration": 44,
        "start_time": "2022-01-21T18:45:42.091Z"
      },
      {
        "duration": 3,
        "start_time": "2022-01-21T18:45:42.136Z"
      },
      {
        "duration": 64,
        "start_time": "2022-01-21T18:45:42.140Z"
      },
      {
        "duration": 21,
        "start_time": "2022-01-21T18:45:42.206Z"
      },
      {
        "duration": 13,
        "start_time": "2022-01-21T18:45:42.228Z"
      },
      {
        "duration": 9,
        "start_time": "2022-01-21T18:45:42.243Z"
      },
      {
        "duration": 16,
        "start_time": "2022-01-21T18:45:42.253Z"
      },
      {
        "duration": 3,
        "start_time": "2022-01-21T18:45:42.270Z"
      },
      {
        "duration": 73,
        "start_time": "2022-01-21T18:45:42.275Z"
      },
      {
        "duration": 10,
        "start_time": "2022-01-21T18:45:42.349Z"
      },
      {
        "duration": 8,
        "start_time": "2022-01-21T18:45:42.360Z"
      },
      {
        "duration": 7,
        "start_time": "2022-01-21T18:45:42.371Z"
      },
      {
        "duration": 8,
        "start_time": "2022-01-21T18:45:42.380Z"
      },
      {
        "duration": 8,
        "start_time": "2022-01-21T18:45:42.389Z"
      },
      {
        "duration": 87,
        "start_time": "2022-01-21T18:45:42.428Z"
      },
      {
        "duration": 44,
        "start_time": "2022-01-21T18:45:42.517Z"
      },
      {
        "duration": 65,
        "start_time": "2022-01-21T18:45:42.563Z"
      },
      {
        "duration": 239,
        "start_time": "2022-01-21T18:45:42.630Z"
      },
      {
        "duration": 9,
        "start_time": "2022-01-21T18:45:42.871Z"
      },
      {
        "duration": 249,
        "start_time": "2022-01-21T18:45:42.882Z"
      },
      {
        "duration": 22,
        "start_time": "2022-01-21T18:45:43.133Z"
      },
      {
        "duration": 237,
        "start_time": "2022-01-21T18:45:43.156Z"
      },
      {
        "duration": 9,
        "start_time": "2022-01-21T18:45:43.395Z"
      },
      {
        "duration": 235,
        "start_time": "2022-01-21T18:45:43.406Z"
      },
      {
        "duration": 18,
        "start_time": "2022-01-21T18:45:43.643Z"
      },
      {
        "duration": 16,
        "start_time": "2022-01-21T18:45:43.663Z"
      },
      {
        "duration": 252,
        "start_time": "2022-01-21T18:45:43.681Z"
      },
      {
        "duration": 26,
        "start_time": "2022-01-21T18:45:43.934Z"
      },
      {
        "duration": 7,
        "start_time": "2022-01-21T18:45:43.962Z"
      },
      {
        "duration": 18,
        "start_time": "2022-01-21T18:45:43.970Z"
      },
      {
        "duration": 6,
        "start_time": "2022-01-21T18:45:43.990Z"
      },
      {
        "duration": 36,
        "start_time": "2022-01-21T18:45:43.997Z"
      },
      {
        "duration": 7,
        "start_time": "2022-01-21T18:45:44.034Z"
      },
      {
        "duration": 9,
        "start_time": "2022-01-21T18:45:44.042Z"
      },
      {
        "duration": 7,
        "start_time": "2022-01-21T18:45:44.053Z"
      },
      {
        "duration": 9,
        "start_time": "2022-01-21T18:45:44.061Z"
      },
      {
        "duration": 7,
        "start_time": "2022-01-21T18:45:44.071Z"
      },
      {
        "duration": 6,
        "start_time": "2022-01-21T18:45:44.079Z"
      },
      {
        "duration": 10,
        "start_time": "2022-01-21T18:45:44.087Z"
      },
      {
        "duration": 34,
        "start_time": "2022-01-21T18:45:44.098Z"
      },
      {
        "duration": 17,
        "start_time": "2022-01-21T18:45:44.134Z"
      },
      {
        "duration": 6,
        "start_time": "2022-01-21T18:45:44.152Z"
      },
      {
        "duration": 12,
        "start_time": "2022-01-21T18:45:44.160Z"
      },
      {
        "duration": 5,
        "start_time": "2022-01-21T18:45:44.173Z"
      },
      {
        "duration": 6,
        "start_time": "2022-01-21T18:45:44.180Z"
      },
      {
        "duration": 4,
        "start_time": "2022-01-21T18:45:44.187Z"
      },
      {
        "duration": 202,
        "start_time": "2022-01-21T18:45:44.227Z"
      },
      {
        "duration": 4,
        "start_time": "2022-01-21T18:45:44.430Z"
      },
      {
        "duration": 21,
        "start_time": "2022-01-21T18:45:44.436Z"
      },
      {
        "duration": 13,
        "start_time": "2022-01-21T18:45:44.458Z"
      },
      {
        "duration": 262,
        "start_time": "2022-01-21T18:45:44.472Z"
      },
      {
        "duration": 181,
        "start_time": "2022-01-21T18:45:44.735Z"
      },
      {
        "duration": 541,
        "start_time": "2022-01-21T18:45:44.918Z"
      },
      {
        "duration": 199,
        "start_time": "2022-01-21T18:45:45.461Z"
      },
      {
        "duration": 174,
        "start_time": "2022-01-21T18:45:45.661Z"
      },
      {
        "duration": 12,
        "start_time": "2022-01-21T18:45:45.837Z"
      },
      {
        "duration": 188,
        "start_time": "2022-01-21T18:45:45.854Z"
      },
      {
        "duration": 176,
        "start_time": "2022-01-21T18:45:46.044Z"
      },
      {
        "duration": 16,
        "start_time": "2022-01-21T18:45:46.221Z"
      },
      {
        "duration": 6,
        "start_time": "2022-01-21T18:45:46.238Z"
      },
      {
        "duration": 11,
        "start_time": "2022-01-21T18:45:46.245Z"
      },
      {
        "duration": 25,
        "start_time": "2022-01-21T18:45:46.257Z"
      },
      {
        "duration": 49,
        "start_time": "2022-01-21T18:45:46.284Z"
      },
      {
        "duration": 3,
        "start_time": "2022-01-21T18:45:46.334Z"
      },
      {
        "duration": 933,
        "start_time": "2022-01-21T18:45:46.339Z"
      },
      {
        "duration": -18895,
        "start_time": "2022-01-21T18:46:06.169Z"
      },
      {
        "duration": -18923,
        "start_time": "2022-01-21T18:46:06.198Z"
      },
      {
        "duration": -18949,
        "start_time": "2022-01-21T18:46:06.225Z"
      },
      {
        "duration": -19312,
        "start_time": "2022-01-21T18:46:06.588Z"
      },
      {
        "duration": -19342,
        "start_time": "2022-01-21T18:46:06.619Z"
      },
      {
        "duration": -19373,
        "start_time": "2022-01-21T18:46:06.651Z"
      },
      {
        "duration": -19401,
        "start_time": "2022-01-21T18:46:06.680Z"
      },
      {
        "duration": 859,
        "start_time": "2022-01-21T18:51:41.275Z"
      },
      {
        "duration": 874,
        "start_time": "2022-01-21T18:52:14.125Z"
      },
      {
        "duration": 456,
        "start_time": "2022-01-21T18:52:32.015Z"
      },
      {
        "duration": 1119,
        "start_time": "2022-01-21T18:55:04.413Z"
      },
      {
        "duration": 353,
        "start_time": "2022-01-21T18:55:21.694Z"
      },
      {
        "duration": 321,
        "start_time": "2022-01-21T18:59:04.255Z"
      },
      {
        "duration": 367,
        "start_time": "2022-01-21T18:59:08.881Z"
      },
      {
        "duration": 356,
        "start_time": "2022-01-21T18:59:18.374Z"
      },
      {
        "duration": 355,
        "start_time": "2022-01-21T18:59:53.384Z"
      },
      {
        "duration": 342,
        "start_time": "2022-01-21T18:59:59.807Z"
      },
      {
        "duration": 8968,
        "start_time": "2022-01-21T19:00:51.844Z"
      },
      {
        "duration": 9219,
        "start_time": "2022-01-21T19:01:21.066Z"
      },
      {
        "duration": 321,
        "start_time": "2022-01-21T19:01:43.106Z"
      },
      {
        "duration": 334,
        "start_time": "2022-01-21T19:01:55.897Z"
      },
      {
        "duration": 359,
        "start_time": "2022-01-21T19:02:13.883Z"
      },
      {
        "duration": 413,
        "start_time": "2022-01-21T19:02:19.494Z"
      },
      {
        "duration": 361,
        "start_time": "2022-01-21T19:02:29.048Z"
      },
      {
        "duration": 307,
        "start_time": "2022-01-21T19:02:50.334Z"
      },
      {
        "duration": 340,
        "start_time": "2022-01-21T19:03:02.072Z"
      },
      {
        "duration": 326,
        "start_time": "2022-01-21T19:03:12.206Z"
      },
      {
        "duration": 341,
        "start_time": "2022-01-21T19:03:23.976Z"
      },
      {
        "duration": 336,
        "start_time": "2022-01-21T19:03:31.675Z"
      },
      {
        "duration": 325,
        "start_time": "2022-01-21T19:04:18.213Z"
      },
      {
        "duration": 318,
        "start_time": "2022-01-21T19:04:27.920Z"
      },
      {
        "duration": 313,
        "start_time": "2022-01-21T19:04:41.514Z"
      },
      {
        "duration": 326,
        "start_time": "2022-01-21T19:05:25.990Z"
      },
      {
        "duration": 270,
        "start_time": "2022-01-21T19:05:48.807Z"
      },
      {
        "duration": 321,
        "start_time": "2022-01-21T19:05:58.297Z"
      },
      {
        "duration": 333,
        "start_time": "2022-01-21T19:07:21.587Z"
      },
      {
        "duration": 307,
        "start_time": "2022-01-21T19:07:57.327Z"
      },
      {
        "duration": 299,
        "start_time": "2022-01-21T19:09:21.756Z"
      },
      {
        "duration": 309,
        "start_time": "2022-01-21T19:09:35.228Z"
      },
      {
        "duration": 307,
        "start_time": "2022-01-21T19:09:52.959Z"
      },
      {
        "duration": 3,
        "start_time": "2022-01-21T19:11:07.428Z"
      },
      {
        "duration": 353,
        "start_time": "2022-01-21T19:11:07.453Z"
      },
      {
        "duration": 19,
        "start_time": "2022-01-21T19:11:07.808Z"
      },
      {
        "duration": 23,
        "start_time": "2022-01-21T19:11:07.829Z"
      },
      {
        "duration": 15,
        "start_time": "2022-01-21T19:11:07.854Z"
      },
      {
        "duration": 23,
        "start_time": "2022-01-21T19:11:07.871Z"
      },
      {
        "duration": 32,
        "start_time": "2022-01-21T19:11:07.896Z"
      },
      {
        "duration": 12,
        "start_time": "2022-01-21T19:11:07.929Z"
      },
      {
        "duration": 5,
        "start_time": "2022-01-21T19:11:07.943Z"
      },
      {
        "duration": 24,
        "start_time": "2022-01-21T19:11:07.949Z"
      },
      {
        "duration": 5,
        "start_time": "2022-01-21T19:11:07.975Z"
      },
      {
        "duration": 17,
        "start_time": "2022-01-21T19:11:07.981Z"
      },
      {
        "duration": 3,
        "start_time": "2022-01-21T19:11:08.027Z"
      },
      {
        "duration": 60,
        "start_time": "2022-01-21T19:11:08.031Z"
      },
      {
        "duration": 6,
        "start_time": "2022-01-21T19:11:08.093Z"
      },
      {
        "duration": 31,
        "start_time": "2022-01-21T19:11:08.100Z"
      },
      {
        "duration": 9,
        "start_time": "2022-01-21T19:11:08.133Z"
      },
      {
        "duration": 12,
        "start_time": "2022-01-21T19:11:08.144Z"
      },
      {
        "duration": 3,
        "start_time": "2022-01-21T19:11:08.157Z"
      },
      {
        "duration": 75,
        "start_time": "2022-01-21T19:11:08.162Z"
      },
      {
        "duration": 10,
        "start_time": "2022-01-21T19:11:08.239Z"
      },
      {
        "duration": 9,
        "start_time": "2022-01-21T19:11:08.250Z"
      },
      {
        "duration": 6,
        "start_time": "2022-01-21T19:11:08.261Z"
      },
      {
        "duration": 8,
        "start_time": "2022-01-21T19:11:08.270Z"
      },
      {
        "duration": 5,
        "start_time": "2022-01-21T19:11:08.280Z"
      },
      {
        "duration": 113,
        "start_time": "2022-01-21T19:11:08.286Z"
      },
      {
        "duration": 42,
        "start_time": "2022-01-21T19:11:08.400Z"
      },
      {
        "duration": 47,
        "start_time": "2022-01-21T19:11:08.443Z"
      },
      {
        "duration": 254,
        "start_time": "2022-01-21T19:11:08.491Z"
      },
      {
        "duration": 9,
        "start_time": "2022-01-21T19:11:08.747Z"
      },
      {
        "duration": 253,
        "start_time": "2022-01-21T19:11:08.758Z"
      },
      {
        "duration": 26,
        "start_time": "2022-01-21T19:11:09.013Z"
      },
      {
        "duration": 334,
        "start_time": "2022-01-21T19:11:09.040Z"
      },
      {
        "duration": 10,
        "start_time": "2022-01-21T19:11:09.375Z"
      },
      {
        "duration": 314,
        "start_time": "2022-01-21T19:11:09.387Z"
      },
      {
        "duration": 30,
        "start_time": "2022-01-21T19:11:09.703Z"
      },
      {
        "duration": 17,
        "start_time": "2022-01-21T19:11:09.736Z"
      },
      {
        "duration": 235,
        "start_time": "2022-01-21T19:11:09.756Z"
      },
      {
        "duration": 22,
        "start_time": "2022-01-21T19:11:09.993Z"
      },
      {
        "duration": 16,
        "start_time": "2022-01-21T19:11:10.017Z"
      },
      {
        "duration": 17,
        "start_time": "2022-01-21T19:11:10.035Z"
      },
      {
        "duration": 6,
        "start_time": "2022-01-21T19:11:10.054Z"
      },
      {
        "duration": 11,
        "start_time": "2022-01-21T19:11:10.062Z"
      },
      {
        "duration": 6,
        "start_time": "2022-01-21T19:11:10.075Z"
      },
      {
        "duration": 8,
        "start_time": "2022-01-21T19:11:10.083Z"
      },
      {
        "duration": 38,
        "start_time": "2022-01-21T19:11:10.093Z"
      },
      {
        "duration": 9,
        "start_time": "2022-01-21T19:11:10.132Z"
      },
      {
        "duration": 4,
        "start_time": "2022-01-21T19:11:10.142Z"
      },
      {
        "duration": 4,
        "start_time": "2022-01-21T19:11:10.147Z"
      },
      {
        "duration": 5,
        "start_time": "2022-01-21T19:11:10.153Z"
      },
      {
        "duration": 7,
        "start_time": "2022-01-21T19:11:10.160Z"
      },
      {
        "duration": 17,
        "start_time": "2022-01-21T19:11:10.168Z"
      },
      {
        "duration": 5,
        "start_time": "2022-01-21T19:11:10.187Z"
      },
      {
        "duration": 13,
        "start_time": "2022-01-21T19:11:10.227Z"
      },
      {
        "duration": 5,
        "start_time": "2022-01-21T19:11:10.241Z"
      },
      {
        "duration": 7,
        "start_time": "2022-01-21T19:11:10.247Z"
      },
      {
        "duration": 4,
        "start_time": "2022-01-21T19:11:10.255Z"
      },
      {
        "duration": 212,
        "start_time": "2022-01-21T19:11:10.260Z"
      },
      {
        "duration": 3,
        "start_time": "2022-01-21T19:11:10.474Z"
      },
      {
        "duration": 23,
        "start_time": "2022-01-21T19:11:10.479Z"
      },
      {
        "duration": 25,
        "start_time": "2022-01-21T19:11:10.503Z"
      },
      {
        "duration": 180,
        "start_time": "2022-01-21T19:11:10.529Z"
      },
      {
        "duration": 182,
        "start_time": "2022-01-21T19:11:10.711Z"
      },
      {
        "duration": 13,
        "start_time": "2022-01-21T19:11:10.894Z"
      },
      {
        "duration": 182,
        "start_time": "2022-01-21T19:11:10.909Z"
      },
      {
        "duration": 208,
        "start_time": "2022-01-21T19:11:11.093Z"
      },
      {
        "duration": 11,
        "start_time": "2022-01-21T19:11:11.303Z"
      },
      {
        "duration": 183,
        "start_time": "2022-01-21T19:11:11.326Z"
      },
      {
        "duration": 177,
        "start_time": "2022-01-21T19:11:11.511Z"
      },
      {
        "duration": 13,
        "start_time": "2022-01-21T19:11:11.690Z"
      },
      {
        "duration": 23,
        "start_time": "2022-01-21T19:11:11.705Z"
      },
      {
        "duration": 12,
        "start_time": "2022-01-21T19:11:11.729Z"
      },
      {
        "duration": 25,
        "start_time": "2022-01-21T19:11:11.746Z"
      },
      {
        "duration": 25,
        "start_time": "2022-01-21T19:11:11.773Z"
      },
      {
        "duration": 3,
        "start_time": "2022-01-21T19:11:11.827Z"
      },
      {
        "duration": 307,
        "start_time": "2022-01-21T19:11:11.832Z"
      },
      {
        "duration": 5,
        "start_time": "2022-01-21T19:11:12.140Z"
      },
      {
        "duration": 4,
        "start_time": "2022-01-21T19:11:12.147Z"
      },
      {
        "duration": 7,
        "start_time": "2022-01-21T19:11:12.153Z"
      },
      {
        "duration": 6,
        "start_time": "2022-01-21T19:11:12.161Z"
      },
      {
        "duration": 7,
        "start_time": "2022-01-21T19:11:12.168Z"
      },
      {
        "duration": 6,
        "start_time": "2022-01-21T19:11:12.176Z"
      },
      {
        "duration": 7,
        "start_time": "2022-01-21T19:11:12.184Z"
      },
      {
        "duration": 5,
        "start_time": "2022-01-21T19:13:51.814Z"
      },
      {
        "duration": 5,
        "start_time": "2022-01-21T19:13:57.073Z"
      },
      {
        "duration": 1059,
        "start_time": "2022-01-26T16:08:45.804Z"
      },
      {
        "duration": 350,
        "start_time": "2022-01-26T16:08:46.865Z"
      },
      {
        "duration": 18,
        "start_time": "2022-01-26T16:08:47.217Z"
      },
      {
        "duration": 29,
        "start_time": "2022-01-26T16:08:47.237Z"
      },
      {
        "duration": 15,
        "start_time": "2022-01-26T16:08:47.267Z"
      },
      {
        "duration": 48,
        "start_time": "2022-01-26T16:08:47.283Z"
      },
      {
        "duration": 14,
        "start_time": "2022-01-26T16:08:47.333Z"
      },
      {
        "duration": 12,
        "start_time": "2022-01-26T16:08:47.349Z"
      },
      {
        "duration": 6,
        "start_time": "2022-01-26T16:08:47.363Z"
      },
      {
        "duration": 54,
        "start_time": "2022-01-26T16:08:47.371Z"
      },
      {
        "duration": 6,
        "start_time": "2022-01-26T16:08:47.426Z"
      },
      {
        "duration": 24,
        "start_time": "2022-01-26T16:08:47.433Z"
      },
      {
        "duration": 2,
        "start_time": "2022-01-26T16:08:47.459Z"
      },
      {
        "duration": 80,
        "start_time": "2022-01-26T16:08:47.463Z"
      },
      {
        "duration": 6,
        "start_time": "2022-01-26T16:08:47.544Z"
      },
      {
        "duration": 18,
        "start_time": "2022-01-26T16:08:47.551Z"
      },
      {
        "duration": 9,
        "start_time": "2022-01-26T16:08:47.571Z"
      },
      {
        "duration": 31,
        "start_time": "2022-01-26T16:08:47.582Z"
      },
      {
        "duration": 4,
        "start_time": "2022-01-26T16:08:47.615Z"
      },
      {
        "duration": 55,
        "start_time": "2022-01-26T16:08:47.620Z"
      },
      {
        "duration": 10,
        "start_time": "2022-01-26T16:08:47.677Z"
      },
      {
        "duration": 26,
        "start_time": "2022-01-26T16:08:47.688Z"
      },
      {
        "duration": 8,
        "start_time": "2022-01-26T16:08:47.718Z"
      },
      {
        "duration": 8,
        "start_time": "2022-01-26T16:08:47.729Z"
      },
      {
        "duration": 7,
        "start_time": "2022-01-26T16:08:47.739Z"
      },
      {
        "duration": 112,
        "start_time": "2022-01-26T16:08:47.748Z"
      },
      {
        "duration": 35,
        "start_time": "2022-01-26T16:08:47.862Z"
      },
      {
        "duration": 60,
        "start_time": "2022-01-26T16:08:47.898Z"
      },
      {
        "duration": 271,
        "start_time": "2022-01-26T16:08:47.959Z"
      },
      {
        "duration": 10,
        "start_time": "2022-01-26T16:08:48.231Z"
      },
      {
        "duration": 267,
        "start_time": "2022-01-26T16:08:48.242Z"
      },
      {
        "duration": 17,
        "start_time": "2022-01-26T16:08:48.512Z"
      },
      {
        "duration": 256,
        "start_time": "2022-01-26T16:08:48.530Z"
      },
      {
        "duration": 10,
        "start_time": "2022-01-26T16:08:48.787Z"
      },
      {
        "duration": 253,
        "start_time": "2022-01-26T16:08:48.798Z"
      },
      {
        "duration": 16,
        "start_time": "2022-01-26T16:08:49.053Z"
      },
      {
        "duration": 17,
        "start_time": "2022-01-26T16:08:49.071Z"
      },
      {
        "duration": 264,
        "start_time": "2022-01-26T16:08:49.090Z"
      },
      {
        "duration": 23,
        "start_time": "2022-01-26T16:08:49.356Z"
      },
      {
        "duration": 7,
        "start_time": "2022-01-26T16:08:49.381Z"
      },
      {
        "duration": 33,
        "start_time": "2022-01-26T16:08:49.390Z"
      },
      {
        "duration": 6,
        "start_time": "2022-01-26T16:08:49.425Z"
      },
      {
        "duration": 18,
        "start_time": "2022-01-26T16:08:49.432Z"
      },
      {
        "duration": 6,
        "start_time": "2022-01-26T16:08:49.452Z"
      },
      {
        "duration": 15,
        "start_time": "2022-01-26T16:08:49.459Z"
      },
      {
        "duration": 7,
        "start_time": "2022-01-26T16:08:49.475Z"
      },
      {
        "duration": 7,
        "start_time": "2022-01-26T16:08:49.484Z"
      },
      {
        "duration": 20,
        "start_time": "2022-01-26T16:08:49.493Z"
      },
      {
        "duration": 5,
        "start_time": "2022-01-26T16:08:49.514Z"
      },
      {
        "duration": 6,
        "start_time": "2022-01-26T16:08:49.520Z"
      },
      {
        "duration": 7,
        "start_time": "2022-01-26T16:08:49.527Z"
      },
      {
        "duration": 17,
        "start_time": "2022-01-26T16:08:49.535Z"
      },
      {
        "duration": 7,
        "start_time": "2022-01-26T16:08:49.553Z"
      },
      {
        "duration": 12,
        "start_time": "2022-01-26T16:08:49.561Z"
      },
      {
        "duration": 37,
        "start_time": "2022-01-26T16:08:49.575Z"
      },
      {
        "duration": 6,
        "start_time": "2022-01-26T16:08:49.614Z"
      },
      {
        "duration": 5,
        "start_time": "2022-01-26T16:08:49.622Z"
      },
      {
        "duration": 212,
        "start_time": "2022-01-26T16:08:49.629Z"
      },
      {
        "duration": 3,
        "start_time": "2022-01-26T16:08:49.843Z"
      },
      {
        "duration": 21,
        "start_time": "2022-01-26T16:08:49.847Z"
      },
      {
        "duration": 13,
        "start_time": "2022-01-26T16:08:49.870Z"
      },
      {
        "duration": 260,
        "start_time": "2022-01-26T16:08:49.884Z"
      },
      {
        "duration": 201,
        "start_time": "2022-01-26T16:08:50.146Z"
      },
      {
        "duration": 695,
        "start_time": "2022-01-26T16:08:50.348Z"
      },
      {
        "duration": 195,
        "start_time": "2022-01-26T16:08:51.045Z"
      },
      {
        "duration": 182,
        "start_time": "2022-01-26T16:08:51.241Z"
      },
      {
        "duration": 12,
        "start_time": "2022-01-26T16:08:51.424Z"
      },
      {
        "duration": 213,
        "start_time": "2022-01-26T16:08:51.441Z"
      },
      {
        "duration": 191,
        "start_time": "2022-01-26T16:08:51.655Z"
      },
      {
        "duration": 12,
        "start_time": "2022-01-26T16:08:51.847Z"
      },
      {
        "duration": 5,
        "start_time": "2022-01-26T16:08:51.860Z"
      },
      {
        "duration": 13,
        "start_time": "2022-01-26T16:08:51.867Z"
      },
      {
        "duration": 49,
        "start_time": "2022-01-26T16:08:51.882Z"
      },
      {
        "duration": 24,
        "start_time": "2022-01-26T16:08:51.933Z"
      },
      {
        "duration": 2,
        "start_time": "2022-01-26T16:08:51.959Z"
      },
      {
        "duration": 794,
        "start_time": "2022-01-26T16:08:51.963Z"
      },
      {
        "duration": -58,
        "start_time": "2022-01-26T16:08:52.816Z"
      },
      {
        "duration": -78,
        "start_time": "2022-01-26T16:08:52.837Z"
      },
      {
        "duration": -89,
        "start_time": "2022-01-26T16:08:52.849Z"
      },
      {
        "duration": -101,
        "start_time": "2022-01-26T16:08:52.862Z"
      },
      {
        "duration": -106,
        "start_time": "2022-01-26T16:08:52.868Z"
      },
      {
        "duration": -119,
        "start_time": "2022-01-26T16:08:52.882Z"
      },
      {
        "duration": -124,
        "start_time": "2022-01-26T16:08:52.887Z"
      },
      {
        "duration": 12,
        "start_time": "2022-01-26T16:11:50.016Z"
      },
      {
        "duration": 19,
        "start_time": "2022-01-26T16:13:14.593Z"
      },
      {
        "duration": 3,
        "start_time": "2022-01-26T16:14:13.208Z"
      },
      {
        "duration": 18,
        "start_time": "2022-01-26T16:14:15.157Z"
      },
      {
        "duration": 348,
        "start_time": "2022-01-26T16:15:19.122Z"
      },
      {
        "duration": 3,
        "start_time": "2022-01-26T16:15:22.204Z"
      },
      {
        "duration": 350,
        "start_time": "2022-01-26T16:28:00.477Z"
      },
      {
        "duration": 1304,
        "start_time": "2022-01-26T16:32:57.064Z"
      },
      {
        "duration": 481,
        "start_time": "2022-01-26T16:32:58.371Z"
      },
      {
        "duration": 28,
        "start_time": "2022-01-26T16:32:58.855Z"
      },
      {
        "duration": 41,
        "start_time": "2022-01-26T16:32:58.886Z"
      },
      {
        "duration": 22,
        "start_time": "2022-01-26T16:32:58.929Z"
      },
      {
        "duration": 36,
        "start_time": "2022-01-26T16:32:58.953Z"
      },
      {
        "duration": 44,
        "start_time": "2022-01-26T16:32:58.991Z"
      },
      {
        "duration": 17,
        "start_time": "2022-01-26T16:32:59.039Z"
      },
      {
        "duration": 8,
        "start_time": "2022-01-26T16:32:59.059Z"
      },
      {
        "duration": 82,
        "start_time": "2022-01-26T16:32:59.069Z"
      },
      {
        "duration": 8,
        "start_time": "2022-01-26T16:32:59.153Z"
      },
      {
        "duration": 23,
        "start_time": "2022-01-26T16:32:59.164Z"
      },
      {
        "duration": 4,
        "start_time": "2022-01-26T16:32:59.190Z"
      },
      {
        "duration": 111,
        "start_time": "2022-01-26T16:32:59.197Z"
      },
      {
        "duration": 10,
        "start_time": "2022-01-26T16:32:59.322Z"
      },
      {
        "duration": 19,
        "start_time": "2022-01-26T16:32:59.335Z"
      },
      {
        "duration": 17,
        "start_time": "2022-01-26T16:32:59.356Z"
      },
      {
        "duration": 50,
        "start_time": "2022-01-26T16:32:59.376Z"
      },
      {
        "duration": 5,
        "start_time": "2022-01-26T16:32:59.428Z"
      },
      {
        "duration": 88,
        "start_time": "2022-01-26T16:32:59.435Z"
      },
      {
        "duration": 16,
        "start_time": "2022-01-26T16:32:59.525Z"
      },
      {
        "duration": 16,
        "start_time": "2022-01-26T16:32:59.543Z"
      },
      {
        "duration": 11,
        "start_time": "2022-01-26T16:32:59.565Z"
      },
      {
        "duration": 49,
        "start_time": "2022-01-26T16:32:59.580Z"
      },
      {
        "duration": 10,
        "start_time": "2022-01-26T16:32:59.631Z"
      },
      {
        "duration": 128,
        "start_time": "2022-01-26T16:32:59.643Z"
      },
      {
        "duration": 61,
        "start_time": "2022-01-26T16:32:59.774Z"
      },
      {
        "duration": 94,
        "start_time": "2022-01-26T16:32:59.838Z"
      },
      {
        "duration": 402,
        "start_time": "2022-01-26T16:32:59.935Z"
      },
      {
        "duration": 14,
        "start_time": "2022-01-26T16:33:00.339Z"
      },
      {
        "duration": 421,
        "start_time": "2022-01-26T16:33:00.355Z"
      },
      {
        "duration": 29,
        "start_time": "2022-01-26T16:33:00.779Z"
      },
      {
        "duration": 390,
        "start_time": "2022-01-26T16:33:00.823Z"
      },
      {
        "duration": 19,
        "start_time": "2022-01-26T16:33:01.216Z"
      },
      {
        "duration": 394,
        "start_time": "2022-01-26T16:33:01.237Z"
      },
      {
        "duration": 26,
        "start_time": "2022-01-26T16:33:01.633Z"
      },
      {
        "duration": 29,
        "start_time": "2022-01-26T16:33:01.661Z"
      },
      {
        "duration": 408,
        "start_time": "2022-01-26T16:33:01.693Z"
      },
      {
        "duration": 42,
        "start_time": "2022-01-26T16:33:02.104Z"
      },
      {
        "duration": 13,
        "start_time": "2022-01-26T16:33:02.149Z"
      },
      {
        "duration": 24,
        "start_time": "2022-01-26T16:33:02.165Z"
      },
      {
        "duration": 40,
        "start_time": "2022-01-26T16:33:02.192Z"
      },
      {
        "duration": 19,
        "start_time": "2022-01-26T16:33:02.234Z"
      },
      {
        "duration": 12,
        "start_time": "2022-01-26T16:33:02.255Z"
      },
      {
        "duration": 54,
        "start_time": "2022-01-26T16:33:02.270Z"
      },
      {
        "duration": 12,
        "start_time": "2022-01-26T16:33:02.326Z"
      },
      {
        "duration": 13,
        "start_time": "2022-01-26T16:33:02.340Z"
      },
      {
        "duration": 5,
        "start_time": "2022-01-26T16:33:02.355Z"
      },
      {
        "duration": 19,
        "start_time": "2022-01-26T16:33:02.363Z"
      },
      {
        "duration": 8,
        "start_time": "2022-01-26T16:33:02.384Z"
      },
      {
        "duration": 34,
        "start_time": "2022-01-26T16:33:02.394Z"
      },
      {
        "duration": 28,
        "start_time": "2022-01-26T16:33:02.430Z"
      },
      {
        "duration": 9,
        "start_time": "2022-01-26T16:33:02.460Z"
      },
      {
        "duration": 21,
        "start_time": "2022-01-26T16:33:02.472Z"
      },
      {
        "duration": 8,
        "start_time": "2022-01-26T16:33:02.523Z"
      },
      {
        "duration": 9,
        "start_time": "2022-01-26T16:33:02.533Z"
      },
      {
        "duration": 5,
        "start_time": "2022-01-26T16:33:02.544Z"
      },
      {
        "duration": 339,
        "start_time": "2022-01-26T16:33:02.552Z"
      },
      {
        "duration": 5,
        "start_time": "2022-01-26T16:33:02.894Z"
      },
      {
        "duration": 47,
        "start_time": "2022-01-26T16:33:02.901Z"
      },
      {
        "duration": 21,
        "start_time": "2022-01-26T16:33:02.950Z"
      },
      {
        "duration": 376,
        "start_time": "2022-01-26T16:33:02.973Z"
      },
      {
        "duration": 291,
        "start_time": "2022-01-26T16:33:03.351Z"
      },
      {
        "duration": 581,
        "start_time": "2022-01-26T16:33:03.644Z"
      },
      {
        "duration": 302,
        "start_time": "2022-01-26T16:33:04.229Z"
      },
      {
        "duration": 289,
        "start_time": "2022-01-26T16:33:04.534Z"
      },
      {
        "duration": 20,
        "start_time": "2022-01-26T16:33:04.826Z"
      },
      {
        "duration": 317,
        "start_time": "2022-01-26T16:33:04.856Z"
      },
      {
        "duration": 294,
        "start_time": "2022-01-26T16:33:05.176Z"
      },
      {
        "duration": 18,
        "start_time": "2022-01-26T16:33:05.472Z"
      },
      {
        "duration": 7,
        "start_time": "2022-01-26T16:33:05.492Z"
      },
      {
        "duration": 18,
        "start_time": "2022-01-26T16:33:05.523Z"
      },
      {
        "duration": 45,
        "start_time": "2022-01-26T16:33:05.543Z"
      },
      {
        "duration": 70,
        "start_time": "2022-01-26T16:33:05.590Z"
      },
      {
        "duration": 5,
        "start_time": "2022-01-26T16:33:05.663Z"
      },
      {
        "duration": 972,
        "start_time": "2022-01-26T16:33:05.670Z"
      },
      {
        "duration": -1760,
        "start_time": "2022-01-26T16:33:08.404Z"
      },
      {
        "duration": -1768,
        "start_time": "2022-01-26T16:33:08.414Z"
      },
      {
        "duration": -1774,
        "start_time": "2022-01-26T16:33:08.422Z"
      },
      {
        "duration": -1784,
        "start_time": "2022-01-26T16:33:08.433Z"
      },
      {
        "duration": -1790,
        "start_time": "2022-01-26T16:33:08.441Z"
      },
      {
        "duration": -1797,
        "start_time": "2022-01-26T16:33:08.450Z"
      },
      {
        "duration": -1804,
        "start_time": "2022-01-26T16:33:08.458Z"
      },
      {
        "duration": 951,
        "start_time": "2022-01-26T16:38:21.930Z"
      },
      {
        "duration": 908,
        "start_time": "2022-01-26T16:44:40.260Z"
      },
      {
        "duration": 601,
        "start_time": "2022-01-26T16:44:55.278Z"
      },
      {
        "duration": 1181,
        "start_time": "2022-01-26T16:45:25.567Z"
      },
      {
        "duration": 740,
        "start_time": "2022-01-26T16:46:37.566Z"
      },
      {
        "duration": 781,
        "start_time": "2022-01-26T16:46:45.545Z"
      },
      {
        "duration": 911,
        "start_time": "2022-01-26T16:46:53.964Z"
      },
      {
        "duration": 744,
        "start_time": "2022-01-26T16:47:54.726Z"
      },
      {
        "duration": 920,
        "start_time": "2022-01-26T16:48:02.154Z"
      },
      {
        "duration": 804,
        "start_time": "2022-01-26T16:48:19.164Z"
      },
      {
        "duration": 433,
        "start_time": "2022-01-26T16:48:31.105Z"
      },
      {
        "duration": 299,
        "start_time": "2022-01-26T16:51:29.079Z"
      },
      {
        "duration": 7272,
        "start_time": "2022-01-26T16:51:59.345Z"
      },
      {
        "duration": 333,
        "start_time": "2022-01-26T16:53:22.189Z"
      },
      {
        "duration": 35,
        "start_time": "2022-01-26T16:54:38.233Z"
      },
      {
        "duration": 17,
        "start_time": "2022-01-26T16:54:50.872Z"
      },
      {
        "duration": 12,
        "start_time": "2022-01-26T16:54:53.185Z"
      },
      {
        "duration": 12,
        "start_time": "2022-01-26T16:55:05.162Z"
      },
      {
        "duration": 60,
        "start_time": "2022-01-26T16:55:13.697Z"
      },
      {
        "duration": 16,
        "start_time": "2022-01-26T16:55:15.960Z"
      },
      {
        "duration": 3,
        "start_time": "2022-01-26T16:55:34.035Z"
      },
      {
        "duration": 475,
        "start_time": "2022-01-26T16:55:34.062Z"
      },
      {
        "duration": 28,
        "start_time": "2022-01-26T16:55:34.540Z"
      },
      {
        "duration": 56,
        "start_time": "2022-01-26T16:55:34.572Z"
      },
      {
        "duration": 23,
        "start_time": "2022-01-26T16:55:34.631Z"
      },
      {
        "duration": 69,
        "start_time": "2022-01-26T16:55:34.657Z"
      },
      {
        "duration": 20,
        "start_time": "2022-01-26T16:55:34.728Z"
      },
      {
        "duration": 22,
        "start_time": "2022-01-26T16:55:34.751Z"
      },
      {
        "duration": 50,
        "start_time": "2022-01-26T16:55:34.776Z"
      },
      {
        "duration": 42,
        "start_time": "2022-01-26T16:55:34.833Z"
      },
      {
        "duration": 8,
        "start_time": "2022-01-26T16:55:34.879Z"
      },
      {
        "duration": 49,
        "start_time": "2022-01-26T16:55:34.890Z"
      },
      {
        "duration": 5,
        "start_time": "2022-01-26T16:55:34.941Z"
      },
      {
        "duration": 116,
        "start_time": "2022-01-26T16:55:34.949Z"
      },
      {
        "duration": 9,
        "start_time": "2022-01-26T16:55:35.067Z"
      },
      {
        "duration": 22,
        "start_time": "2022-01-26T16:55:35.079Z"
      },
      {
        "duration": 14,
        "start_time": "2022-01-26T16:55:35.124Z"
      },
      {
        "duration": 16,
        "start_time": "2022-01-26T16:55:35.140Z"
      },
      {
        "duration": 5,
        "start_time": "2022-01-26T16:55:35.159Z"
      },
      {
        "duration": 61,
        "start_time": "2022-01-26T16:55:35.167Z"
      },
      {
        "duration": 3,
        "start_time": "2022-01-26T16:55:35.230Z"
      },
      {
        "duration": 17,
        "start_time": "2022-01-26T16:55:35.235Z"
      },
      {
        "duration": 13,
        "start_time": "2022-01-26T16:55:35.254Z"
      },
      {
        "duration": 15,
        "start_time": "2022-01-26T16:55:35.269Z"
      },
      {
        "duration": 41,
        "start_time": "2022-01-26T16:55:35.286Z"
      },
      {
        "duration": 9,
        "start_time": "2022-01-26T16:55:35.329Z"
      },
      {
        "duration": 133,
        "start_time": "2022-01-26T16:55:35.341Z"
      },
      {
        "duration": 60,
        "start_time": "2022-01-26T16:55:35.480Z"
      },
      {
        "duration": 83,
        "start_time": "2022-01-26T16:55:35.544Z"
      },
      {
        "duration": 404,
        "start_time": "2022-01-26T16:55:35.630Z"
      },
      {
        "duration": 14,
        "start_time": "2022-01-26T16:55:36.036Z"
      },
      {
        "duration": 460,
        "start_time": "2022-01-26T16:55:36.052Z"
      },
      {
        "duration": 32,
        "start_time": "2022-01-26T16:55:36.514Z"
      },
      {
        "duration": 406,
        "start_time": "2022-01-26T16:55:36.548Z"
      },
      {
        "duration": 15,
        "start_time": "2022-01-26T16:55:36.956Z"
      },
      {
        "duration": 412,
        "start_time": "2022-01-26T16:55:36.973Z"
      },
      {
        "duration": 36,
        "start_time": "2022-01-26T16:55:37.388Z"
      },
      {
        "duration": 22,
        "start_time": "2022-01-26T16:55:37.427Z"
      },
      {
        "duration": 494,
        "start_time": "2022-01-26T16:55:37.451Z"
      },
      {
        "duration": 30,
        "start_time": "2022-01-26T16:55:37.947Z"
      },
      {
        "duration": 11,
        "start_time": "2022-01-26T16:55:37.980Z"
      },
      {
        "duration": 292,
        "start_time": "2022-01-26T16:55:37.993Z"
      },
      {
        "duration": -2639,
        "start_time": "2022-01-26T16:55:40.926Z"
      },
      {
        "duration": -2691,
        "start_time": "2022-01-26T16:55:40.980Z"
      },
      {
        "duration": -2702,
        "start_time": "2022-01-26T16:55:40.992Z"
      },
      {
        "duration": -2708,
        "start_time": "2022-01-26T16:55:41.000Z"
      },
      {
        "duration": -2718,
        "start_time": "2022-01-26T16:55:41.011Z"
      },
      {
        "duration": -2725,
        "start_time": "2022-01-26T16:55:41.019Z"
      },
      {
        "duration": -2734,
        "start_time": "2022-01-26T16:55:41.030Z"
      },
      {
        "duration": -2741,
        "start_time": "2022-01-26T16:55:41.038Z"
      },
      {
        "duration": -2750,
        "start_time": "2022-01-26T16:55:41.048Z"
      },
      {
        "duration": -2759,
        "start_time": "2022-01-26T16:55:41.058Z"
      },
      {
        "duration": -2767,
        "start_time": "2022-01-26T16:55:41.067Z"
      },
      {
        "duration": -2791,
        "start_time": "2022-01-26T16:55:41.093Z"
      },
      {
        "duration": -2800,
        "start_time": "2022-01-26T16:55:41.103Z"
      },
      {
        "duration": -2808,
        "start_time": "2022-01-26T16:55:41.112Z"
      },
      {
        "duration": -2816,
        "start_time": "2022-01-26T16:55:41.121Z"
      },
      {
        "duration": -2823,
        "start_time": "2022-01-26T16:55:41.130Z"
      },
      {
        "duration": -2832,
        "start_time": "2022-01-26T16:55:41.140Z"
      },
      {
        "duration": -2839,
        "start_time": "2022-01-26T16:55:41.148Z"
      },
      {
        "duration": -2847,
        "start_time": "2022-01-26T16:55:41.158Z"
      },
      {
        "duration": -2853,
        "start_time": "2022-01-26T16:55:41.165Z"
      },
      {
        "duration": -2861,
        "start_time": "2022-01-26T16:55:41.174Z"
      },
      {
        "duration": -2868,
        "start_time": "2022-01-26T16:55:41.183Z"
      },
      {
        "duration": -2894,
        "start_time": "2022-01-26T16:55:41.210Z"
      },
      {
        "duration": -2901,
        "start_time": "2022-01-26T16:55:41.218Z"
      },
      {
        "duration": -2909,
        "start_time": "2022-01-26T16:55:41.227Z"
      },
      {
        "duration": -2915,
        "start_time": "2022-01-26T16:55:41.235Z"
      },
      {
        "duration": -2924,
        "start_time": "2022-01-26T16:55:41.245Z"
      },
      {
        "duration": -2930,
        "start_time": "2022-01-26T16:55:41.252Z"
      },
      {
        "duration": -2937,
        "start_time": "2022-01-26T16:55:41.261Z"
      },
      {
        "duration": -2945,
        "start_time": "2022-01-26T16:55:41.270Z"
      },
      {
        "duration": -2953,
        "start_time": "2022-01-26T16:55:41.280Z"
      },
      {
        "duration": -2960,
        "start_time": "2022-01-26T16:55:41.288Z"
      },
      {
        "duration": -2967,
        "start_time": "2022-01-26T16:55:41.296Z"
      },
      {
        "duration": -2990,
        "start_time": "2022-01-26T16:55:41.320Z"
      },
      {
        "duration": -2997,
        "start_time": "2022-01-26T16:55:41.329Z"
      },
      {
        "duration": -3004,
        "start_time": "2022-01-26T16:55:41.337Z"
      },
      {
        "duration": -3016,
        "start_time": "2022-01-26T16:55:41.351Z"
      },
      {
        "duration": -3025,
        "start_time": "2022-01-26T16:55:41.361Z"
      },
      {
        "duration": -3033,
        "start_time": "2022-01-26T16:55:41.370Z"
      },
      {
        "duration": -3040,
        "start_time": "2022-01-26T16:55:41.378Z"
      },
      {
        "duration": -3047,
        "start_time": "2022-01-26T16:55:41.387Z"
      },
      {
        "duration": -3055,
        "start_time": "2022-01-26T16:55:41.396Z"
      },
      {
        "duration": 6961,
        "start_time": "2022-01-26T17:00:16.227Z"
      },
      {
        "duration": 60,
        "start_time": "2022-01-26T17:01:31.473Z"
      },
      {
        "duration": 16,
        "start_time": "2022-01-26T17:01:36.172Z"
      },
      {
        "duration": 13,
        "start_time": "2022-01-26T17:01:38.814Z"
      },
      {
        "duration": 12,
        "start_time": "2022-01-26T17:01:40.363Z"
      },
      {
        "duration": 14,
        "start_time": "2022-01-26T17:01:42.316Z"
      },
      {
        "duration": 334,
        "start_time": "2022-01-26T17:01:58.677Z"
      },
      {
        "duration": 4,
        "start_time": "2022-01-26T17:02:10.850Z"
      },
      {
        "duration": 453,
        "start_time": "2022-01-26T17:02:10.873Z"
      },
      {
        "duration": 26,
        "start_time": "2022-01-26T17:02:11.328Z"
      },
      {
        "duration": 35,
        "start_time": "2022-01-26T17:02:11.358Z"
      },
      {
        "duration": 23,
        "start_time": "2022-01-26T17:02:11.423Z"
      },
      {
        "duration": 34,
        "start_time": "2022-01-26T17:02:11.448Z"
      },
      {
        "duration": 45,
        "start_time": "2022-01-26T17:02:11.485Z"
      },
      {
        "duration": 17,
        "start_time": "2022-01-26T17:02:11.532Z"
      },
      {
        "duration": 7,
        "start_time": "2022-01-26T17:02:11.552Z"
      },
      {
        "duration": 75,
        "start_time": "2022-01-26T17:02:11.563Z"
      },
      {
        "duration": 8,
        "start_time": "2022-01-26T17:02:11.641Z"
      },
      {
        "duration": 22,
        "start_time": "2022-01-26T17:02:11.651Z"
      },
      {
        "duration": 3,
        "start_time": "2022-01-26T17:02:11.675Z"
      },
      {
        "duration": 110,
        "start_time": "2022-01-26T17:02:11.680Z"
      },
      {
        "duration": 9,
        "start_time": "2022-01-26T17:02:11.792Z"
      },
      {
        "duration": 34,
        "start_time": "2022-01-26T17:02:11.803Z"
      },
      {
        "duration": 13,
        "start_time": "2022-01-26T17:02:11.839Z"
      },
      {
        "duration": 14,
        "start_time": "2022-01-26T17:02:11.855Z"
      },
      {
        "duration": 3,
        "start_time": "2022-01-26T17:02:11.871Z"
      },
      {
        "duration": 100,
        "start_time": "2022-01-26T17:02:11.876Z"
      },
      {
        "duration": 2,
        "start_time": "2022-01-26T17:02:11.978Z"
      },
      {
        "duration": 19,
        "start_time": "2022-01-26T17:02:11.983Z"
      },
      {
        "duration": 26,
        "start_time": "2022-01-26T17:02:12.004Z"
      },
      {
        "duration": 12,
        "start_time": "2022-01-26T17:02:12.033Z"
      },
      {
        "duration": 12,
        "start_time": "2022-01-26T17:02:12.048Z"
      },
      {
        "duration": 10,
        "start_time": "2022-01-26T17:02:12.062Z"
      },
      {
        "duration": 157,
        "start_time": "2022-01-26T17:02:12.074Z"
      },
      {
        "duration": 50,
        "start_time": "2022-01-26T17:02:12.236Z"
      },
      {
        "duration": 95,
        "start_time": "2022-01-26T17:02:12.290Z"
      },
      {
        "duration": 404,
        "start_time": "2022-01-26T17:02:12.387Z"
      },
      {
        "duration": 286,
        "start_time": "2022-01-26T17:02:12.794Z"
      },
      {
        "duration": -2831,
        "start_time": "2022-01-26T17:02:15.913Z"
      },
      {
        "duration": -2839,
        "start_time": "2022-01-26T17:02:15.923Z"
      },
      {
        "duration": -2858,
        "start_time": "2022-01-26T17:02:15.943Z"
      },
      {
        "duration": -2866,
        "start_time": "2022-01-26T17:02:15.952Z"
      },
      {
        "duration": -2872,
        "start_time": "2022-01-26T17:02:15.960Z"
      },
      {
        "duration": -2880,
        "start_time": "2022-01-26T17:02:15.969Z"
      },
      {
        "duration": -2887,
        "start_time": "2022-01-26T17:02:15.977Z"
      },
      {
        "duration": -2894,
        "start_time": "2022-01-26T17:02:15.986Z"
      },
      {
        "duration": -2901,
        "start_time": "2022-01-26T17:02:15.994Z"
      },
      {
        "duration": -2909,
        "start_time": "2022-01-26T17:02:16.004Z"
      },
      {
        "duration": -2916,
        "start_time": "2022-01-26T17:02:16.012Z"
      },
      {
        "duration": -2923,
        "start_time": "2022-01-26T17:02:16.020Z"
      },
      {
        "duration": -2930,
        "start_time": "2022-01-26T17:02:16.028Z"
      },
      {
        "duration": -2938,
        "start_time": "2022-01-26T17:02:16.038Z"
      },
      {
        "duration": -2957,
        "start_time": "2022-01-26T17:02:16.058Z"
      },
      {
        "duration": -2965,
        "start_time": "2022-01-26T17:02:16.068Z"
      },
      {
        "duration": -2972,
        "start_time": "2022-01-26T17:02:16.076Z"
      },
      {
        "duration": -2978,
        "start_time": "2022-01-26T17:02:16.084Z"
      },
      {
        "duration": -2984,
        "start_time": "2022-01-26T17:02:16.092Z"
      },
      {
        "duration": -2992,
        "start_time": "2022-01-26T17:02:16.101Z"
      },
      {
        "duration": -2999,
        "start_time": "2022-01-26T17:02:16.110Z"
      },
      {
        "duration": -3007,
        "start_time": "2022-01-26T17:02:16.119Z"
      },
      {
        "duration": -3013,
        "start_time": "2022-01-26T17:02:16.127Z"
      },
      {
        "duration": -3021,
        "start_time": "2022-01-26T17:02:16.136Z"
      },
      {
        "duration": -3028,
        "start_time": "2022-01-26T17:02:16.144Z"
      },
      {
        "duration": -3035,
        "start_time": "2022-01-26T17:02:16.153Z"
      },
      {
        "duration": -3054,
        "start_time": "2022-01-26T17:02:16.173Z"
      },
      {
        "duration": -3061,
        "start_time": "2022-01-26T17:02:16.181Z"
      },
      {
        "duration": -3069,
        "start_time": "2022-01-26T17:02:16.190Z"
      },
      {
        "duration": -3076,
        "start_time": "2022-01-26T17:02:16.199Z"
      },
      {
        "duration": -3083,
        "start_time": "2022-01-26T17:02:16.207Z"
      },
      {
        "duration": -3092,
        "start_time": "2022-01-26T17:02:16.217Z"
      },
      {
        "duration": -3098,
        "start_time": "2022-01-26T17:02:16.225Z"
      },
      {
        "duration": -3248,
        "start_time": "2022-01-26T17:02:16.376Z"
      },
      {
        "duration": -3264,
        "start_time": "2022-01-26T17:02:16.394Z"
      },
      {
        "duration": -3273,
        "start_time": "2022-01-26T17:02:16.404Z"
      },
      {
        "duration": -3279,
        "start_time": "2022-01-26T17:02:16.412Z"
      },
      {
        "duration": -3286,
        "start_time": "2022-01-26T17:02:16.421Z"
      },
      {
        "duration": -3292,
        "start_time": "2022-01-26T17:02:16.428Z"
      },
      {
        "duration": -3300,
        "start_time": "2022-01-26T17:02:16.438Z"
      },
      {
        "duration": -3308,
        "start_time": "2022-01-26T17:02:16.447Z"
      },
      {
        "duration": -3315,
        "start_time": "2022-01-26T17:02:16.455Z"
      },
      {
        "duration": -3321,
        "start_time": "2022-01-26T17:02:16.463Z"
      },
      {
        "duration": -3330,
        "start_time": "2022-01-26T17:02:16.473Z"
      },
      {
        "duration": -3337,
        "start_time": "2022-01-26T17:02:16.481Z"
      },
      {
        "duration": -3346,
        "start_time": "2022-01-26T17:02:16.491Z"
      },
      {
        "duration": -3365,
        "start_time": "2022-01-26T17:02:16.511Z"
      },
      {
        "duration": -3374,
        "start_time": "2022-01-26T17:02:16.522Z"
      },
      {
        "duration": -3381,
        "start_time": "2022-01-26T17:02:16.530Z"
      },
      {
        "duration": -3388,
        "start_time": "2022-01-26T17:02:16.539Z"
      },
      {
        "duration": -3395,
        "start_time": "2022-01-26T17:02:16.547Z"
      },
      {
        "duration": -3403,
        "start_time": "2022-01-26T17:02:16.557Z"
      },
      {
        "duration": -3409,
        "start_time": "2022-01-26T17:02:16.564Z"
      },
      {
        "duration": 424,
        "start_time": "2022-01-26T17:03:18.180Z"
      },
      {
        "duration": 15,
        "start_time": "2022-01-26T17:03:34.248Z"
      },
      {
        "duration": 387,
        "start_time": "2022-01-26T17:05:12.031Z"
      },
      {
        "duration": 5,
        "start_time": "2022-01-26T17:06:15.250Z"
      },
      {
        "duration": 8,
        "start_time": "2022-01-26T17:08:36.629Z"
      },
      {
        "duration": 8,
        "start_time": "2022-01-26T17:08:45.962Z"
      },
      {
        "duration": 35,
        "start_time": "2022-01-26T17:09:06.774Z"
      },
      {
        "duration": 1371,
        "start_time": "2022-01-26T17:14:54.123Z"
      },
      {
        "duration": 549,
        "start_time": "2022-01-26T17:14:55.497Z"
      },
      {
        "duration": 30,
        "start_time": "2022-01-26T17:14:56.049Z"
      },
      {
        "duration": 40,
        "start_time": "2022-01-26T17:14:56.083Z"
      },
      {
        "duration": 32,
        "start_time": "2022-01-26T17:14:56.126Z"
      },
      {
        "duration": 65,
        "start_time": "2022-01-26T17:14:56.160Z"
      },
      {
        "duration": 18,
        "start_time": "2022-01-26T17:14:56.228Z"
      },
      {
        "duration": 30,
        "start_time": "2022-01-26T17:14:56.250Z"
      },
      {
        "duration": 10,
        "start_time": "2022-01-26T17:14:56.284Z"
      },
      {
        "duration": 70,
        "start_time": "2022-01-26T17:14:56.297Z"
      },
      {
        "duration": 10,
        "start_time": "2022-01-26T17:14:56.370Z"
      },
      {
        "duration": 60,
        "start_time": "2022-01-26T17:14:56.383Z"
      },
      {
        "duration": 4,
        "start_time": "2022-01-26T17:14:56.446Z"
      },
      {
        "duration": 133,
        "start_time": "2022-01-26T17:14:56.453Z"
      },
      {
        "duration": 11,
        "start_time": "2022-01-26T17:14:56.589Z"
      },
      {
        "duration": 34,
        "start_time": "2022-01-26T17:14:56.602Z"
      },
      {
        "duration": 13,
        "start_time": "2022-01-26T17:14:56.639Z"
      },
      {
        "duration": 22,
        "start_time": "2022-01-26T17:14:56.654Z"
      },
      {
        "duration": 3,
        "start_time": "2022-01-26T17:14:56.679Z"
      },
      {
        "duration": 109,
        "start_time": "2022-01-26T17:14:56.685Z"
      },
      {
        "duration": 3,
        "start_time": "2022-01-26T17:14:56.797Z"
      },
      {
        "duration": 36,
        "start_time": "2022-01-26T17:14:56.803Z"
      },
      {
        "duration": 15,
        "start_time": "2022-01-26T17:14:56.847Z"
      },
      {
        "duration": 16,
        "start_time": "2022-01-26T17:14:56.868Z"
      },
      {
        "duration": 43,
        "start_time": "2022-01-26T17:14:56.887Z"
      },
      {
        "duration": 14,
        "start_time": "2022-01-26T17:14:56.933Z"
      },
      {
        "duration": 173,
        "start_time": "2022-01-26T17:14:56.951Z"
      },
      {
        "duration": 53,
        "start_time": "2022-01-26T17:14:57.126Z"
      },
      {
        "duration": 116,
        "start_time": "2022-01-26T17:14:57.182Z"
      },
      {
        "duration": 482,
        "start_time": "2022-01-26T17:14:57.301Z"
      },
      {
        "duration": 16,
        "start_time": "2022-01-26T17:14:57.786Z"
      },
      {
        "duration": 492,
        "start_time": "2022-01-26T17:14:57.805Z"
      },
      {
        "duration": 44,
        "start_time": "2022-01-26T17:14:58.300Z"
      },
      {
        "duration": 492,
        "start_time": "2022-01-26T17:14:58.347Z"
      },
      {
        "duration": 20,
        "start_time": "2022-01-26T17:14:58.843Z"
      },
      {
        "duration": 618,
        "start_time": "2022-01-26T17:14:58.866Z"
      },
      {
        "duration": 42,
        "start_time": "2022-01-26T17:14:59.487Z"
      },
      {
        "duration": 25,
        "start_time": "2022-01-26T17:14:59.532Z"
      },
      {
        "duration": 442,
        "start_time": "2022-01-26T17:14:59.560Z"
      },
      {
        "duration": 45,
        "start_time": "2022-01-26T17:15:00.004Z"
      },
      {
        "duration": 14,
        "start_time": "2022-01-26T17:15:00.051Z"
      },
      {
        "duration": 61,
        "start_time": "2022-01-26T17:15:00.068Z"
      },
      {
        "duration": 10,
        "start_time": "2022-01-26T17:15:00.132Z"
      },
      {
        "duration": 24,
        "start_time": "2022-01-26T17:15:00.144Z"
      },
      {
        "duration": 12,
        "start_time": "2022-01-26T17:15:00.171Z"
      },
      {
        "duration": 44,
        "start_time": "2022-01-26T17:15:00.186Z"
      },
      {
        "duration": 18,
        "start_time": "2022-01-26T17:15:00.232Z"
      },
      {
        "duration": 14,
        "start_time": "2022-01-26T17:15:00.253Z"
      },
      {
        "duration": 21,
        "start_time": "2022-01-26T17:15:00.270Z"
      },
      {
        "duration": 24,
        "start_time": "2022-01-26T17:15:00.294Z"
      },
      {
        "duration": 21,
        "start_time": "2022-01-26T17:15:00.324Z"
      },
      {
        "duration": 25,
        "start_time": "2022-01-26T17:15:00.347Z"
      },
      {
        "duration": 34,
        "start_time": "2022-01-26T17:15:00.374Z"
      },
      {
        "duration": 17,
        "start_time": "2022-01-26T17:15:00.411Z"
      },
      {
        "duration": 28,
        "start_time": "2022-01-26T17:15:00.431Z"
      },
      {
        "duration": 12,
        "start_time": "2022-01-26T17:15:00.462Z"
      },
      {
        "duration": 31,
        "start_time": "2022-01-26T17:15:00.476Z"
      },
      {
        "duration": 8,
        "start_time": "2022-01-26T17:15:00.522Z"
      },
      {
        "duration": 379,
        "start_time": "2022-01-26T17:15:00.532Z"
      },
      {
        "duration": 12,
        "start_time": "2022-01-26T17:15:00.914Z"
      },
      {
        "duration": 37,
        "start_time": "2022-01-26T17:15:00.928Z"
      },
      {
        "duration": 22,
        "start_time": "2022-01-26T17:15:00.967Z"
      },
      {
        "duration": 467,
        "start_time": "2022-01-26T17:15:00.993Z"
      },
      {
        "duration": 494,
        "start_time": "2022-01-26T17:15:01.463Z"
      },
      {
        "duration": 616,
        "start_time": "2022-01-26T17:15:01.959Z"
      },
      {
        "duration": 388,
        "start_time": "2022-01-26T17:15:02.578Z"
      },
      {
        "duration": 348,
        "start_time": "2022-01-26T17:15:02.969Z"
      },
      {
        "duration": 21,
        "start_time": "2022-01-26T17:15:03.325Z"
      },
      {
        "duration": 401,
        "start_time": "2022-01-26T17:15:03.350Z"
      },
      {
        "duration": 363,
        "start_time": "2022-01-26T17:15:03.754Z"
      },
      {
        "duration": 24,
        "start_time": "2022-01-26T17:15:04.124Z"
      },
      {
        "duration": 8,
        "start_time": "2022-01-26T17:15:04.151Z"
      },
      {
        "duration": 28,
        "start_time": "2022-01-26T17:15:04.163Z"
      },
      {
        "duration": 93,
        "start_time": "2022-01-26T17:15:04.193Z"
      },
      {
        "duration": 64,
        "start_time": "2022-01-26T17:15:04.289Z"
      },
      {
        "duration": 6,
        "start_time": "2022-01-26T17:15:04.355Z"
      },
      {
        "duration": 530,
        "start_time": "2022-01-26T17:15:04.364Z"
      },
      {
        "duration": 9,
        "start_time": "2022-01-26T17:15:04.897Z"
      },
      {
        "duration": 9,
        "start_time": "2022-01-26T17:15:04.924Z"
      },
      {
        "duration": 10,
        "start_time": "2022-01-26T17:15:04.935Z"
      },
      {
        "duration": 13,
        "start_time": "2022-01-26T17:15:04.947Z"
      },
      {
        "duration": 9,
        "start_time": "2022-01-26T17:15:04.962Z"
      },
      {
        "duration": 11,
        "start_time": "2022-01-26T17:15:04.973Z"
      },
      {
        "duration": 6,
        "start_time": "2022-01-26T17:15:05.024Z"
      },
      {
        "duration": 1572,
        "start_time": "2022-01-26T17:20:56.892Z"
      },
      {
        "duration": 484,
        "start_time": "2022-01-26T17:21:09.005Z"
      },
      {
        "duration": 4,
        "start_time": "2022-01-26T17:22:04.837Z"
      },
      {
        "duration": 468,
        "start_time": "2022-01-26T17:22:04.869Z"
      },
      {
        "duration": 25,
        "start_time": "2022-01-26T17:22:05.340Z"
      },
      {
        "duration": 34,
        "start_time": "2022-01-26T17:22:05.368Z"
      },
      {
        "duration": 37,
        "start_time": "2022-01-26T17:22:05.405Z"
      },
      {
        "duration": 34,
        "start_time": "2022-01-26T17:22:05.445Z"
      },
      {
        "duration": 50,
        "start_time": "2022-01-26T17:22:05.482Z"
      },
      {
        "duration": 18,
        "start_time": "2022-01-26T17:22:05.535Z"
      },
      {
        "duration": 114,
        "start_time": "2022-01-26T17:22:05.556Z"
      },
      {
        "duration": 52,
        "start_time": "2022-01-26T17:22:05.675Z"
      },
      {
        "duration": 9,
        "start_time": "2022-01-26T17:22:05.731Z"
      },
      {
        "duration": 22,
        "start_time": "2022-01-26T17:22:05.742Z"
      },
      {
        "duration": 5,
        "start_time": "2022-01-26T17:22:05.766Z"
      },
      {
        "duration": 116,
        "start_time": "2022-01-26T17:22:05.773Z"
      },
      {
        "duration": 9,
        "start_time": "2022-01-26T17:22:05.892Z"
      },
      {
        "duration": 35,
        "start_time": "2022-01-26T17:22:05.904Z"
      },
      {
        "duration": 16,
        "start_time": "2022-01-26T17:22:05.942Z"
      },
      {
        "duration": 18,
        "start_time": "2022-01-26T17:22:05.961Z"
      },
      {
        "duration": 117,
        "start_time": "2022-01-26T17:22:05.982Z"
      },
      {
        "duration": 145,
        "start_time": "2022-01-26T17:22:06.101Z"
      },
      {
        "duration": 3,
        "start_time": "2022-01-26T17:22:06.249Z"
      },
      {
        "duration": 79,
        "start_time": "2022-01-26T17:22:06.255Z"
      },
      {
        "duration": 101,
        "start_time": "2022-01-26T17:22:06.337Z"
      },
      {
        "duration": 139,
        "start_time": "2022-01-26T17:22:06.440Z"
      },
      {
        "duration": 59,
        "start_time": "2022-01-26T17:22:06.581Z"
      },
      {
        "duration": 29,
        "start_time": "2022-01-26T17:22:06.643Z"
      },
      {
        "duration": 123,
        "start_time": "2022-01-26T17:22:06.675Z"
      },
      {
        "duration": 57,
        "start_time": "2022-01-26T17:22:06.806Z"
      },
      {
        "duration": 90,
        "start_time": "2022-01-26T17:22:06.868Z"
      },
      {
        "duration": 431,
        "start_time": "2022-01-26T17:22:06.960Z"
      },
      {
        "duration": 14,
        "start_time": "2022-01-26T17:22:07.393Z"
      },
      {
        "duration": 555,
        "start_time": "2022-01-26T17:22:07.423Z"
      },
      {
        "duration": 27,
        "start_time": "2022-01-26T17:22:07.981Z"
      },
      {
        "duration": 457,
        "start_time": "2022-01-26T17:22:08.024Z"
      },
      {
        "duration": 16,
        "start_time": "2022-01-26T17:22:08.484Z"
      },
      {
        "duration": 493,
        "start_time": "2022-01-26T17:22:08.503Z"
      },
      {
        "duration": 41,
        "start_time": "2022-01-26T17:22:08.998Z"
      },
      {
        "duration": 323,
        "start_time": "2022-01-26T17:22:09.042Z"
      },
      {
        "duration": 762,
        "start_time": "2022-01-26T17:22:09.368Z"
      },
      {
        "duration": 33,
        "start_time": "2022-01-26T17:22:10.132Z"
      },
      {
        "duration": 127,
        "start_time": "2022-01-26T17:22:10.167Z"
      },
      {
        "duration": 192,
        "start_time": "2022-01-26T17:22:10.296Z"
      },
      {
        "duration": 196,
        "start_time": "2022-01-26T17:22:10.491Z"
      },
      {
        "duration": 275,
        "start_time": "2022-01-26T17:22:10.689Z"
      },
      {
        "duration": 152,
        "start_time": "2022-01-26T17:22:10.967Z"
      },
      {
        "duration": 150,
        "start_time": "2022-01-26T17:22:11.121Z"
      },
      {
        "duration": 181,
        "start_time": "2022-01-26T17:22:11.273Z"
      },
      {
        "duration": 300,
        "start_time": "2022-01-26T17:22:11.457Z"
      },
      {
        "duration": 273,
        "start_time": "2022-01-26T17:22:11.759Z"
      },
      {
        "duration": 282,
        "start_time": "2022-01-26T17:22:12.035Z"
      },
      {
        "duration": 171,
        "start_time": "2022-01-26T17:22:12.320Z"
      },
      {
        "duration": 207,
        "start_time": "2022-01-26T17:22:12.493Z"
      },
      {
        "duration": 388,
        "start_time": "2022-01-26T17:22:12.703Z"
      },
      {
        "duration": 229,
        "start_time": "2022-01-26T17:22:13.093Z"
      },
      {
        "duration": 146,
        "start_time": "2022-01-26T17:22:13.324Z"
      },
      {
        "duration": 182,
        "start_time": "2022-01-26T17:22:13.472Z"
      },
      {
        "duration": 226,
        "start_time": "2022-01-26T17:22:13.657Z"
      },
      {
        "duration": 235,
        "start_time": "2022-01-26T17:22:13.885Z"
      },
      {
        "duration": 585,
        "start_time": "2022-01-26T17:22:14.123Z"
      },
      {
        "duration": 13,
        "start_time": "2022-01-26T17:22:14.710Z"
      },
      {
        "duration": 327,
        "start_time": "2022-01-26T17:22:14.725Z"
      },
      {
        "duration": 117,
        "start_time": "2022-01-26T17:22:15.055Z"
      },
      {
        "duration": 479,
        "start_time": "2022-01-26T17:22:15.175Z"
      },
      {
        "duration": 336,
        "start_time": "2022-01-26T17:22:15.657Z"
      },
      {
        "duration": 32,
        "start_time": "2022-01-26T17:22:15.995Z"
      },
      {
        "duration": 340,
        "start_time": "2022-01-26T17:22:16.030Z"
      },
      {
        "duration": 322,
        "start_time": "2022-01-26T17:22:16.372Z"
      },
      {
        "duration": 34,
        "start_time": "2022-01-26T17:22:16.697Z"
      },
      {
        "duration": 647,
        "start_time": "2022-01-26T17:22:16.734Z"
      },
      {
        "duration": 316,
        "start_time": "2022-01-26T17:22:17.384Z"
      },
      {
        "duration": 28,
        "start_time": "2022-01-26T17:22:17.704Z"
      },
      {
        "duration": 142,
        "start_time": "2022-01-26T17:22:17.735Z"
      },
      {
        "duration": 77,
        "start_time": "2022-01-26T17:22:17.880Z"
      },
      {
        "duration": 80,
        "start_time": "2022-01-26T17:22:17.960Z"
      },
      {
        "duration": 43,
        "start_time": "2022-01-26T17:22:18.043Z"
      },
      {
        "duration": 35,
        "start_time": "2022-01-26T17:22:18.089Z"
      },
      {
        "duration": 581,
        "start_time": "2022-01-26T17:22:18.126Z"
      },
      {
        "duration": 19,
        "start_time": "2022-01-26T17:22:18.711Z"
      },
      {
        "duration": 7,
        "start_time": "2022-01-26T17:22:18.732Z"
      },
      {
        "duration": 9,
        "start_time": "2022-01-26T17:22:18.742Z"
      },
      {
        "duration": 7,
        "start_time": "2022-01-26T17:22:18.753Z"
      },
      {
        "duration": 8,
        "start_time": "2022-01-26T17:22:18.767Z"
      },
      {
        "duration": 49,
        "start_time": "2022-01-26T17:22:18.777Z"
      },
      {
        "duration": 6,
        "start_time": "2022-01-26T17:22:18.829Z"
      },
      {
        "duration": 1060,
        "start_time": "2022-01-26T19:18:22.429Z"
      },
      {
        "duration": 424,
        "start_time": "2022-01-26T19:18:23.490Z"
      },
      {
        "duration": 21,
        "start_time": "2022-01-26T19:18:23.916Z"
      },
      {
        "duration": 89,
        "start_time": "2022-01-26T19:18:23.938Z"
      },
      {
        "duration": 17,
        "start_time": "2022-01-26T19:18:24.028Z"
      },
      {
        "duration": 28,
        "start_time": "2022-01-26T19:18:24.047Z"
      },
      {
        "duration": 14,
        "start_time": "2022-01-26T19:18:24.113Z"
      },
      {
        "duration": 12,
        "start_time": "2022-01-26T19:18:24.129Z"
      },
      {
        "duration": 6,
        "start_time": "2022-01-26T19:18:24.143Z"
      },
      {
        "duration": 34,
        "start_time": "2022-01-26T19:18:24.152Z"
      },
      {
        "duration": 7,
        "start_time": "2022-01-26T19:18:24.188Z"
      },
      {
        "duration": 14,
        "start_time": "2022-01-26T19:18:24.212Z"
      },
      {
        "duration": 6,
        "start_time": "2022-01-26T19:18:24.228Z"
      },
      {
        "duration": 114,
        "start_time": "2022-01-26T19:18:24.236Z"
      },
      {
        "duration": 65,
        "start_time": "2022-01-26T19:18:24.352Z"
      },
      {
        "duration": 16,
        "start_time": "2022-01-26T19:18:24.419Z"
      },
      {
        "duration": 9,
        "start_time": "2022-01-26T19:18:24.437Z"
      },
      {
        "duration": 12,
        "start_time": "2022-01-26T19:18:24.448Z"
      },
      {
        "duration": 3,
        "start_time": "2022-01-26T19:18:24.461Z"
      },
      {
        "duration": 91,
        "start_time": "2022-01-26T19:18:24.466Z"
      },
      {
        "duration": 2,
        "start_time": "2022-01-26T19:18:24.559Z"
      },
      {
        "duration": 16,
        "start_time": "2022-01-26T19:18:24.562Z"
      },
      {
        "duration": 9,
        "start_time": "2022-01-26T19:18:24.579Z"
      },
      {
        "duration": 25,
        "start_time": "2022-01-26T19:18:24.590Z"
      },
      {
        "duration": 12,
        "start_time": "2022-01-26T19:18:24.617Z"
      },
      {
        "duration": 9,
        "start_time": "2022-01-26T19:18:24.631Z"
      },
      {
        "duration": 101,
        "start_time": "2022-01-26T19:18:24.644Z"
      },
      {
        "duration": 38,
        "start_time": "2022-01-26T19:18:24.747Z"
      },
      {
        "duration": 64,
        "start_time": "2022-01-26T19:18:24.786Z"
      },
      {
        "duration": 288,
        "start_time": "2022-01-26T19:18:24.852Z"
      },
      {
        "duration": 11,
        "start_time": "2022-01-26T19:18:25.141Z"
      },
      {
        "duration": 299,
        "start_time": "2022-01-26T19:18:25.153Z"
      },
      {
        "duration": 20,
        "start_time": "2022-01-26T19:18:25.454Z"
      },
      {
        "duration": 281,
        "start_time": "2022-01-26T19:18:25.475Z"
      },
      {
        "duration": 10,
        "start_time": "2022-01-26T19:18:25.757Z"
      },
      {
        "duration": 276,
        "start_time": "2022-01-26T19:18:25.768Z"
      },
      {
        "duration": 19,
        "start_time": "2022-01-26T19:18:26.046Z"
      },
      {
        "duration": 17,
        "start_time": "2022-01-26T19:18:26.066Z"
      },
      {
        "duration": 281,
        "start_time": "2022-01-26T19:18:26.085Z"
      },
      {
        "duration": 25,
        "start_time": "2022-01-26T19:18:26.368Z"
      },
      {
        "duration": 20,
        "start_time": "2022-01-26T19:18:26.395Z"
      },
      {
        "duration": 18,
        "start_time": "2022-01-26T19:18:26.416Z"
      },
      {
        "duration": 6,
        "start_time": "2022-01-26T19:18:26.436Z"
      },
      {
        "duration": 13,
        "start_time": "2022-01-26T19:18:26.443Z"
      },
      {
        "duration": 7,
        "start_time": "2022-01-26T19:18:26.458Z"
      },
      {
        "duration": 10,
        "start_time": "2022-01-26T19:18:26.467Z"
      },
      {
        "duration": 40,
        "start_time": "2022-01-26T19:18:26.478Z"
      },
      {
        "duration": 8,
        "start_time": "2022-01-26T19:18:26.519Z"
      },
      {
        "duration": 3,
        "start_time": "2022-01-26T19:18:26.529Z"
      },
      {
        "duration": 5,
        "start_time": "2022-01-26T19:18:26.533Z"
      },
      {
        "duration": 6,
        "start_time": "2022-01-26T19:18:26.539Z"
      },
      {
        "duration": 7,
        "start_time": "2022-01-26T19:18:26.546Z"
      },
      {
        "duration": 18,
        "start_time": "2022-01-26T19:18:26.554Z"
      },
      {
        "duration": 39,
        "start_time": "2022-01-26T19:18:26.574Z"
      },
      {
        "duration": 14,
        "start_time": "2022-01-26T19:18:26.614Z"
      },
      {
        "duration": 6,
        "start_time": "2022-01-26T19:18:26.629Z"
      },
      {
        "duration": 8,
        "start_time": "2022-01-26T19:18:26.636Z"
      },
      {
        "duration": 4,
        "start_time": "2022-01-26T19:18:26.645Z"
      },
      {
        "duration": 227,
        "start_time": "2022-01-26T19:18:26.651Z"
      },
      {
        "duration": 5,
        "start_time": "2022-01-26T19:18:26.879Z"
      },
      {
        "duration": 34,
        "start_time": "2022-01-26T19:18:26.885Z"
      },
      {
        "duration": 14,
        "start_time": "2022-01-26T19:18:26.921Z"
      },
      {
        "duration": 264,
        "start_time": "2022-01-26T19:18:26.936Z"
      },
      {
        "duration": 207,
        "start_time": "2022-01-26T19:18:27.201Z"
      },
      {
        "duration": 741,
        "start_time": "2022-01-26T19:18:27.411Z"
      },
      {
        "duration": 213,
        "start_time": "2022-01-26T19:18:28.153Z"
      },
      {
        "duration": 198,
        "start_time": "2022-01-26T19:18:28.367Z"
      },
      {
        "duration": 12,
        "start_time": "2022-01-26T19:18:28.567Z"
      },
      {
        "duration": 230,
        "start_time": "2022-01-26T19:18:28.581Z"
      },
      {
        "duration": 201,
        "start_time": "2022-01-26T19:18:28.813Z"
      },
      {
        "duration": 15,
        "start_time": "2022-01-26T19:18:29.016Z"
      },
      {
        "duration": 6,
        "start_time": "2022-01-26T19:18:29.033Z"
      },
      {
        "duration": 12,
        "start_time": "2022-01-26T19:18:29.041Z"
      },
      {
        "duration": 67,
        "start_time": "2022-01-26T19:18:29.055Z"
      },
      {
        "duration": 27,
        "start_time": "2022-01-26T19:18:29.124Z"
      },
      {
        "duration": 3,
        "start_time": "2022-01-26T19:18:29.152Z"
      },
      {
        "duration": 427,
        "start_time": "2022-01-26T19:18:29.157Z"
      },
      {
        "duration": 6,
        "start_time": "2022-01-26T19:18:29.585Z"
      },
      {
        "duration": 6,
        "start_time": "2022-01-26T19:18:29.593Z"
      },
      {
        "duration": 4,
        "start_time": "2022-01-26T19:18:29.612Z"
      },
      {
        "duration": 8,
        "start_time": "2022-01-26T19:18:29.621Z"
      },
      {
        "duration": 6,
        "start_time": "2022-01-26T19:18:29.630Z"
      },
      {
        "duration": 8,
        "start_time": "2022-01-26T19:18:29.638Z"
      },
      {
        "duration": 8,
        "start_time": "2022-01-26T19:18:29.647Z"
      },
      {
        "duration": 1793,
        "start_time": "2022-01-26T19:20:12.392Z"
      },
      {
        "duration": 22044,
        "start_time": "2022-01-26T19:20:18.463Z"
      },
      {
        "duration": 186,
        "start_time": "2022-01-26T19:20:41.669Z"
      },
      {
        "duration": 43208,
        "start_time": "2022-01-26T19:20:46.139Z"
      },
      {
        "duration": 1608,
        "start_time": "2022-01-26T19:22:12.445Z"
      },
      {
        "duration": 377,
        "start_time": "2022-01-26T19:22:14.054Z"
      },
      {
        "duration": 20,
        "start_time": "2022-01-26T19:22:14.433Z"
      },
      {
        "duration": 31,
        "start_time": "2022-01-26T19:22:14.455Z"
      },
      {
        "duration": 16,
        "start_time": "2022-01-26T19:22:14.488Z"
      },
      {
        "duration": 33,
        "start_time": "2022-01-26T19:22:14.506Z"
      },
      {
        "duration": 13,
        "start_time": "2022-01-26T19:22:14.541Z"
      },
      {
        "duration": 13,
        "start_time": "2022-01-26T19:22:14.557Z"
      },
      {
        "duration": 5,
        "start_time": "2022-01-26T19:22:14.572Z"
      },
      {
        "duration": 56,
        "start_time": "2022-01-26T19:22:14.579Z"
      },
      {
        "duration": 6,
        "start_time": "2022-01-26T19:22:14.637Z"
      },
      {
        "duration": 14,
        "start_time": "2022-01-26T19:22:14.645Z"
      },
      {
        "duration": 3,
        "start_time": "2022-01-26T19:22:14.660Z"
      },
      {
        "duration": 100,
        "start_time": "2022-01-26T19:22:14.665Z"
      },
      {
        "duration": 6,
        "start_time": "2022-01-26T19:22:14.766Z"
      },
      {
        "duration": 14,
        "start_time": "2022-01-26T19:22:14.774Z"
      },
      {
        "duration": 25,
        "start_time": "2022-01-26T19:22:14.790Z"
      },
      {
        "duration": 13,
        "start_time": "2022-01-26T19:22:14.817Z"
      },
      {
        "duration": 2,
        "start_time": "2022-01-26T19:22:14.832Z"
      },
      {
        "duration": 53,
        "start_time": "2022-01-26T19:22:14.836Z"
      },
      {
        "duration": 23,
        "start_time": "2022-01-26T19:22:14.890Z"
      },
      {
        "duration": 14,
        "start_time": "2022-01-26T19:22:14.914Z"
      },
      {
        "duration": 9,
        "start_time": "2022-01-26T19:22:14.933Z"
      },
      {
        "duration": 8,
        "start_time": "2022-01-26T19:22:14.945Z"
      },
      {
        "duration": 9,
        "start_time": "2022-01-26T19:22:14.955Z"
      },
      {
        "duration": 46,
        "start_time": "2022-01-26T19:22:14.966Z"
      },
      {
        "duration": 108,
        "start_time": "2022-01-26T19:22:15.014Z"
      },
      {
        "duration": 42,
        "start_time": "2022-01-26T19:22:15.124Z"
      },
      {
        "duration": 77,
        "start_time": "2022-01-26T19:22:15.168Z"
      },
      {
        "duration": 396,
        "start_time": "2022-01-26T19:22:15.247Z"
      },
      {
        "duration": 9,
        "start_time": "2022-01-26T19:22:15.645Z"
      },
      {
        "duration": 347,
        "start_time": "2022-01-26T19:22:15.656Z"
      },
      {
        "duration": 26,
        "start_time": "2022-01-26T19:22:16.004Z"
      },
      {
        "duration": 318,
        "start_time": "2022-01-26T19:22:16.032Z"
      },
      {
        "duration": 9,
        "start_time": "2022-01-26T19:22:16.352Z"
      },
      {
        "duration": 331,
        "start_time": "2022-01-26T19:22:16.362Z"
      },
      {
        "duration": 32,
        "start_time": "2022-01-26T19:22:16.695Z"
      },
      {
        "duration": 21,
        "start_time": "2022-01-26T19:22:16.729Z"
      },
      {
        "duration": 360,
        "start_time": "2022-01-26T19:22:16.752Z"
      },
      {
        "duration": 29,
        "start_time": "2022-01-26T19:22:17.114Z"
      },
      {
        "duration": 9,
        "start_time": "2022-01-26T19:22:17.145Z"
      },
      {
        "duration": 19,
        "start_time": "2022-01-26T19:22:17.155Z"
      },
      {
        "duration": 6,
        "start_time": "2022-01-26T19:22:17.176Z"
      },
      {
        "duration": 106,
        "start_time": "2022-01-26T19:22:17.184Z"
      },
      {
        "duration": 8,
        "start_time": "2022-01-26T19:22:17.291Z"
      },
      {
        "duration": 19,
        "start_time": "2022-01-26T19:22:17.300Z"
      },
      {
        "duration": 7,
        "start_time": "2022-01-26T19:22:17.321Z"
      },
      {
        "duration": 9,
        "start_time": "2022-01-26T19:22:17.330Z"
      },
      {
        "duration": 4,
        "start_time": "2022-01-26T19:22:17.340Z"
      },
      {
        "duration": 5,
        "start_time": "2022-01-26T19:22:17.346Z"
      },
      {
        "duration": 4,
        "start_time": "2022-01-26T19:22:17.353Z"
      },
      {
        "duration": 8,
        "start_time": "2022-01-26T19:22:17.359Z"
      },
      {
        "duration": 61,
        "start_time": "2022-01-26T19:22:17.368Z"
      },
      {
        "duration": 6,
        "start_time": "2022-01-26T19:22:17.430Z"
      },
      {
        "duration": 13,
        "start_time": "2022-01-26T19:22:17.438Z"
      },
      {
        "duration": 6,
        "start_time": "2022-01-26T19:22:17.452Z"
      },
      {
        "duration": 10,
        "start_time": "2022-01-26T19:22:17.460Z"
      },
      {
        "duration": 6,
        "start_time": "2022-01-26T19:22:17.472Z"
      },
      {
        "duration": 233,
        "start_time": "2022-01-26T19:22:17.513Z"
      },
      {
        "duration": 6,
        "start_time": "2022-01-26T19:22:17.747Z"
      },
      {
        "duration": 24,
        "start_time": "2022-01-26T19:22:17.754Z"
      },
      {
        "duration": 36,
        "start_time": "2022-01-26T19:22:17.779Z"
      },
      {
        "duration": 256,
        "start_time": "2022-01-26T19:22:17.816Z"
      },
      {
        "duration": 266,
        "start_time": "2022-01-26T19:22:18.074Z"
      },
      {
        "duration": 742,
        "start_time": "2022-01-26T19:22:18.342Z"
      },
      {
        "duration": 328,
        "start_time": "2022-01-26T19:22:19.086Z"
      },
      {
        "duration": 257,
        "start_time": "2022-01-26T19:22:19.416Z"
      },
      {
        "duration": 13,
        "start_time": "2022-01-26T19:22:19.678Z"
      },
      {
        "duration": 285,
        "start_time": "2022-01-26T19:22:19.693Z"
      },
      {
        "duration": 282,
        "start_time": "2022-01-26T19:22:19.980Z"
      },
      {
        "duration": 14,
        "start_time": "2022-01-26T19:22:20.264Z"
      },
      {
        "duration": 6,
        "start_time": "2022-01-26T19:22:20.280Z"
      },
      {
        "duration": 36,
        "start_time": "2022-01-26T19:22:20.287Z"
      },
      {
        "duration": 30,
        "start_time": "2022-01-26T19:22:20.325Z"
      },
      {
        "duration": 28,
        "start_time": "2022-01-26T19:22:20.357Z"
      },
      {
        "duration": 31,
        "start_time": "2022-01-26T19:22:20.387Z"
      },
      {
        "duration": 700,
        "start_time": "2022-01-26T19:22:20.420Z"
      },
      {
        "duration": -6,
        "start_time": "2022-01-26T19:22:21.129Z"
      },
      {
        "duration": -46,
        "start_time": "2022-01-26T19:22:21.170Z"
      },
      {
        "duration": -61,
        "start_time": "2022-01-26T19:22:21.186Z"
      },
      {
        "duration": -66,
        "start_time": "2022-01-26T19:22:21.193Z"
      },
      {
        "duration": -71,
        "start_time": "2022-01-26T19:22:21.200Z"
      },
      {
        "duration": -78,
        "start_time": "2022-01-26T19:22:21.208Z"
      },
      {
        "duration": -83,
        "start_time": "2022-01-26T19:22:21.214Z"
      },
      {
        "duration": -88,
        "start_time": "2022-01-26T19:22:21.221Z"
      },
      {
        "duration": 535,
        "start_time": "2022-01-26T19:23:22.017Z"
      },
      {
        "duration": 1210,
        "start_time": "2022-03-23T08:22:05.096Z"
      },
      {
        "duration": 360,
        "start_time": "2022-03-23T08:22:06.308Z"
      },
      {
        "duration": 27,
        "start_time": "2022-03-23T08:22:06.670Z"
      },
      {
        "duration": 30,
        "start_time": "2022-03-23T08:22:06.699Z"
      },
      {
        "duration": 37,
        "start_time": "2022-03-23T08:22:06.730Z"
      },
      {
        "duration": 27,
        "start_time": "2022-03-23T08:22:06.768Z"
      },
      {
        "duration": 18,
        "start_time": "2022-03-23T08:22:06.797Z"
      },
      {
        "duration": 13,
        "start_time": "2022-03-23T08:22:06.817Z"
      },
      {
        "duration": 33,
        "start_time": "2022-03-23T08:22:06.832Z"
      },
      {
        "duration": 27,
        "start_time": "2022-03-23T08:22:06.868Z"
      },
      {
        "duration": 9,
        "start_time": "2022-03-23T08:22:06.897Z"
      },
      {
        "duration": 14,
        "start_time": "2022-03-23T08:22:06.908Z"
      },
      {
        "duration": 6,
        "start_time": "2022-03-23T08:22:06.924Z"
      },
      {
        "duration": 98,
        "start_time": "2022-03-23T08:22:06.932Z"
      },
      {
        "duration": 10,
        "start_time": "2022-03-23T08:22:07.031Z"
      },
      {
        "duration": 34,
        "start_time": "2022-03-23T08:22:07.043Z"
      },
      {
        "duration": 14,
        "start_time": "2022-03-23T08:22:07.078Z"
      },
      {
        "duration": 17,
        "start_time": "2022-03-23T08:22:07.094Z"
      },
      {
        "duration": 3,
        "start_time": "2022-03-23T08:22:07.112Z"
      },
      {
        "duration": 74,
        "start_time": "2022-03-23T08:22:07.116Z"
      },
      {
        "duration": 2,
        "start_time": "2022-03-23T08:22:07.192Z"
      },
      {
        "duration": 14,
        "start_time": "2022-03-23T08:22:07.195Z"
      },
      {
        "duration": 10,
        "start_time": "2022-03-23T08:22:07.210Z"
      },
      {
        "duration": 8,
        "start_time": "2022-03-23T08:22:07.222Z"
      },
      {
        "duration": 31,
        "start_time": "2022-03-23T08:22:07.232Z"
      },
      {
        "duration": 5,
        "start_time": "2022-03-23T08:22:07.265Z"
      },
      {
        "duration": 105,
        "start_time": "2022-03-23T08:22:07.272Z"
      },
      {
        "duration": 46,
        "start_time": "2022-03-23T08:22:07.382Z"
      },
      {
        "duration": 86,
        "start_time": "2022-03-23T08:22:07.429Z"
      },
      {
        "duration": 198,
        "start_time": "2022-03-23T08:22:07.517Z"
      },
      {
        "duration": 10,
        "start_time": "2022-03-23T08:22:07.716Z"
      },
      {
        "duration": 187,
        "start_time": "2022-03-23T08:22:07.727Z"
      },
      {
        "duration": 20,
        "start_time": "2022-03-23T08:22:07.915Z"
      },
      {
        "duration": 190,
        "start_time": "2022-03-23T08:22:07.936Z"
      },
      {
        "duration": 13,
        "start_time": "2022-03-23T08:22:08.127Z"
      },
      {
        "duration": 172,
        "start_time": "2022-03-23T08:22:08.142Z"
      },
      {
        "duration": 20,
        "start_time": "2022-03-23T08:22:08.316Z"
      },
      {
        "duration": 35,
        "start_time": "2022-03-23T08:22:08.338Z"
      },
      {
        "duration": 183,
        "start_time": "2022-03-23T08:22:08.374Z"
      },
      {
        "duration": 27,
        "start_time": "2022-03-23T08:22:08.563Z"
      },
      {
        "duration": 9,
        "start_time": "2022-03-23T08:22:08.591Z"
      },
      {
        "duration": 30,
        "start_time": "2022-03-23T08:22:08.601Z"
      },
      {
        "duration": 8,
        "start_time": "2022-03-23T08:22:08.633Z"
      },
      {
        "duration": 26,
        "start_time": "2022-03-23T08:22:08.643Z"
      },
      {
        "duration": 8,
        "start_time": "2022-03-23T08:22:08.670Z"
      },
      {
        "duration": 8,
        "start_time": "2022-03-23T08:22:08.680Z"
      },
      {
        "duration": 7,
        "start_time": "2022-03-23T08:22:08.690Z"
      },
      {
        "duration": 8,
        "start_time": "2022-03-23T08:22:08.699Z"
      },
      {
        "duration": 5,
        "start_time": "2022-03-23T08:22:08.708Z"
      },
      {
        "duration": 7,
        "start_time": "2022-03-23T08:22:08.714Z"
      },
      {
        "duration": 7,
        "start_time": "2022-03-23T08:22:08.722Z"
      },
      {
        "duration": 8,
        "start_time": "2022-03-23T08:22:08.763Z"
      },
      {
        "duration": 19,
        "start_time": "2022-03-23T08:22:08.773Z"
      },
      {
        "duration": 7,
        "start_time": "2022-03-23T08:22:08.794Z"
      },
      {
        "duration": 13,
        "start_time": "2022-03-23T08:22:08.802Z"
      },
      {
        "duration": 4,
        "start_time": "2022-03-23T08:22:08.816Z"
      },
      {
        "duration": 12,
        "start_time": "2022-03-23T08:22:08.822Z"
      },
      {
        "duration": 4,
        "start_time": "2022-03-23T08:22:08.863Z"
      },
      {
        "duration": 115,
        "start_time": "2022-03-23T08:22:08.869Z"
      },
      {
        "duration": 4,
        "start_time": "2022-03-23T08:22:08.986Z"
      },
      {
        "duration": 28,
        "start_time": "2022-03-23T08:22:08.991Z"
      },
      {
        "duration": 15,
        "start_time": "2022-03-23T08:22:09.021Z"
      },
      {
        "duration": 234,
        "start_time": "2022-03-23T08:22:09.038Z"
      },
      {
        "duration": 147,
        "start_time": "2022-03-23T08:22:09.275Z"
      },
      {
        "duration": 58,
        "start_time": "2022-03-23T08:22:09.424Z"
      },
      {
        "duration": 137,
        "start_time": "2022-03-23T08:22:09.484Z"
      },
      {
        "duration": 134,
        "start_time": "2022-03-23T08:22:09.622Z"
      },
      {
        "duration": 14,
        "start_time": "2022-03-23T08:22:09.758Z"
      },
      {
        "duration": 149,
        "start_time": "2022-03-23T08:22:09.773Z"
      },
      {
        "duration": 143,
        "start_time": "2022-03-23T08:22:09.923Z"
      },
      {
        "duration": 12,
        "start_time": "2022-03-23T08:22:10.068Z"
      },
      {
        "duration": 7,
        "start_time": "2022-03-23T08:22:10.081Z"
      },
      {
        "duration": 13,
        "start_time": "2022-03-23T08:22:10.089Z"
      },
      {
        "duration": 27,
        "start_time": "2022-03-23T08:22:10.104Z"
      },
      {
        "duration": 57,
        "start_time": "2022-03-23T08:22:10.132Z"
      },
      {
        "duration": 7,
        "start_time": "2022-03-23T08:22:10.190Z"
      },
      {
        "duration": 431,
        "start_time": "2022-03-23T08:22:10.198Z"
      },
      {
        "duration": 6,
        "start_time": "2022-03-23T08:22:10.631Z"
      },
      {
        "duration": 8,
        "start_time": "2022-03-23T08:22:10.639Z"
      },
      {
        "duration": 16,
        "start_time": "2022-03-23T08:22:10.649Z"
      },
      {
        "duration": 6,
        "start_time": "2022-03-23T08:22:10.667Z"
      },
      {
        "duration": 10,
        "start_time": "2022-03-23T08:22:10.679Z"
      },
      {
        "duration": 9,
        "start_time": "2022-03-23T08:22:10.690Z"
      },
      {
        "duration": 8,
        "start_time": "2022-03-23T08:22:10.701Z"
      }
    ],
    "kernelspec": {
      "display_name": "Python 3 (ipykernel)",
      "language": "python",
      "name": "python3"
    },
    "language_info": {
      "codemirror_mode": {
        "name": "ipython",
        "version": 3
      },
      "file_extension": ".py",
      "mimetype": "text/x-python",
      "name": "python",
      "nbconvert_exporter": "python",
      "pygments_lexer": "ipython3",
      "version": "3.9.5"
    },
    "toc": {
      "base_numbering": 1,
      "nav_menu": {
        "height": "371.992px",
        "width": "361.992px"
      },
      "number_sections": true,
      "sideBar": true,
      "skip_h1_title": true,
      "title_cell": "Содержание",
      "title_sidebar": "Contents",
      "toc_cell": true,
      "toc_position": {
        "height": "calc(100% - 180px)",
        "left": "10px",
        "top": "150px",
        "width": "398.438px"
      },
      "toc_section_display": true,
      "toc_window_display": true
    },
    "colab": {
      "name": "Project_03.ipynb",
      "provenance": [],
      "collapsed_sections": []
    }
  },
  "nbformat": 4,
  "nbformat_minor": 0
}