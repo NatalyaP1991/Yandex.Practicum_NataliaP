{
  "cells": [
    {
      "cell_type": "markdown",
      "source": [
        "# Изучение закономерностей определяющих успешность игр"
      ],
      "metadata": {
        "id": "MHZ6iH4DffLZ"
      }
    },
    {
      "cell_type": "markdown",
      "metadata": {
        "toc": true,
        "id": "2fSt1Tsper4u"
      },
      "source": [
        "<h1>Содержание<span class=\"tocSkip\"></span></h1>\n",
        "<div class=\"toc\"><ul class=\"toc-item\"><li><span><a href=\"#Описание-проекта\" data-toc-modified-id=\"Описание-проекта-1\"><span class=\"toc-item-num\">1&nbsp;&nbsp;</span>Описание проекта</a></span></li><li><span><a href=\"#Просмотр-и-предобработка-данных\" data-toc-modified-id=\"Просмотр-и-предобработка-данных-2\"><span class=\"toc-item-num\">2&nbsp;&nbsp;</span>Просмотр и предобработка данных</a></span><ul class=\"toc-item\"><li><span><a href=\"#Переименование-столбцов\" data-toc-modified-id=\"Переименование-столбцов-2.1\"><span class=\"toc-item-num\">2.1&nbsp;&nbsp;</span>Переименование столбцов</a></span></li><li><span><a href=\"#Изменение-типов-данных\" data-toc-modified-id=\"Изменение-типов-данных-2.2\"><span class=\"toc-item-num\">2.2&nbsp;&nbsp;</span>Изменение типов данных</a></span></li><li><span><a href=\"#Заполнение-пропусков\" data-toc-modified-id=\"Заполнение-пропусков-2.3\"><span class=\"toc-item-num\">2.3&nbsp;&nbsp;</span>Заполнение пропусков</a></span></li><li><span><a href=\"#Подсчет-суммарных-продаж-во-всех-регионах\" data-toc-modified-id=\"Подсчет-суммарных-продаж-во-всех-регионах-2.4\"><span class=\"toc-item-num\">2.4&nbsp;&nbsp;</span>Подсчет суммарных продаж во всех регионах</a></span></li></ul></li><li><span><a href=\"#Исследовательский-анализ-данных\" data-toc-modified-id=\"Исследовательский-анализ-данных-3\"><span class=\"toc-item-num\">3&nbsp;&nbsp;</span>Исследовательский анализ данных</a></span><ul class=\"toc-item\"><li><span><a href=\"#Сколько-игр-выпускалось-в-разные-годы\" data-toc-modified-id=\"Сколько-игр-выпускалось-в-разные-годы-3.1\"><span class=\"toc-item-num\">3.1&nbsp;&nbsp;</span>Сколько игр выпускалось в разные годы</a></span></li><li><span><a href=\"#Просмотр-динамики-продаж-по-платформам\" data-toc-modified-id=\"Просмотр-динамики-продаж-по-платформам-3.2\"><span class=\"toc-item-num\">3.2&nbsp;&nbsp;</span>Просмотр динамики продаж по платформам</a></span></li><li><span><a href=\"#Просмотр-динамики-продаж-за-актуальный-период\" data-toc-modified-id=\"Просмотр-динамики-продаж-за-актуальный-период-3.3\"><span class=\"toc-item-num\">3.3&nbsp;&nbsp;</span>Просмотр динамики продаж за актуальный период</a></span></li><li><span><a href=\"#Просмотр-динамики-продаж-за-актуальный-период-ТОП-10-платформ\" data-toc-modified-id=\"Просмотр-динамики-продаж-за-актуальный-период-ТОП-10-платформ-3.4\"><span class=\"toc-item-num\">3.4&nbsp;&nbsp;</span>Просмотр динамики продаж за актуальный период ТОП-10 платформ</a></span></li><li><span><a href=\"#Влияние-на-продажи-отзывов-пользователей-и-критиков-внутри-одной-платформы\" data-toc-modified-id=\"Влияние-на-продажи-отзывов-пользователей-и-критиков-внутри-одной-платформы-3.5\"><span class=\"toc-item-num\">3.5&nbsp;&nbsp;</span>Влияние на продажи отзывов пользователей и критиков внутри одной платформы</a></span></li><li><span><a href=\"#Оценка-распределения-игр-по-жанрам\" data-toc-modified-id=\"Оценка-распределения-игр-по-жанрам-3.6\"><span class=\"toc-item-num\">3.6&nbsp;&nbsp;</span>Оценка распределения игр по жанрам</a></span></li></ul></li><li><span><a href=\"#Составление-портрета-пользователя-каждого-региона\" data-toc-modified-id=\"Составление-портрета-пользователя-каждого-региона-4\"><span class=\"toc-item-num\">4&nbsp;&nbsp;</span>Составление портрета пользователя каждого региона</a></span><ul class=\"toc-item\"><li><span><a href=\"#Оценка-долей-продаж\" data-toc-modified-id=\"Оценка-долей-продаж-4.1\"><span class=\"toc-item-num\">4.1&nbsp;&nbsp;</span>Оценка долей продаж</a></span></li><li><span><a href=\"#Оценка-самых-популярных-жанров\" data-toc-modified-id=\"Оценка-самых-популярных-жанров-4.2\"><span class=\"toc-item-num\">4.2&nbsp;&nbsp;</span>Оценка самых популярных жанров</a></span></li><li><span><a href=\"#Оценка-влияния-рейтинга-ESRB-на-продажи-в-отдельном-регионе\" data-toc-modified-id=\"Оценка-влияния-рейтинга-ESRB-на-продажи-в-отдельном-регионе-4.3\"><span class=\"toc-item-num\">4.3&nbsp;&nbsp;</span>Оценка влияния рейтинга ESRB на продажи в отдельном регионе</a></span></li></ul></li><li><span><a href=\"#Проверка-гипотез\" data-toc-modified-id=\"Проверка-гипотез-5\"><span class=\"toc-item-num\">5&nbsp;&nbsp;</span>Проверка гипотез</a></span><ul class=\"toc-item\"><li><span><a href=\"#Проверка-гипотезы:-средние-пользовательские-рейтинги-платформ-Xbox-One-и-PC-одинаковые\" data-toc-modified-id=\"Проверка-гипотезы:-средние-пользовательские-рейтинги-платформ-Xbox-One-и-PC-одинаковые-5.1\"><span class=\"toc-item-num\">5.1&nbsp;&nbsp;</span>Проверка гипотезы: средние пользовательские рейтинги платформ Xbox One и PC одинаковые</a></span></li><li><span><a href=\"#Проверка-гипотезы:-средние-пользовательские-рейтинги-жанров-Action-и-Sports-разные.\" data-toc-modified-id=\"Проверка-гипотезы:-средние-пользовательские-рейтинги-жанров-Action-и-Sports-разные.-5.2\"><span class=\"toc-item-num\">5.2&nbsp;&nbsp;</span>Проверка гипотезы: средние пользовательские рейтинги жанров Action и Sports разные.</a></span></li></ul></li><li><span><a href=\"#Общий-вывод\" data-toc-modified-id=\"Общий-вывод-6\"><span class=\"toc-item-num\">6&nbsp;&nbsp;</span>Общий вывод</a></span></li></ul></div>"
      ]
    },
    {
      "cell_type": "markdown",
      "metadata": {
        "id": "h6rRCGzAer4w"
      },
      "source": [
        "## Описание проекта"
      ]
    },
    {
      "cell_type": "markdown",
      "metadata": {
        "id": "Z4y_OKAMer4w"
      },
      "source": [
        "Вы работаете в интернет-магазине игр для платформ, который продаёт по всему миру компьютерные игры. Из открытых источников доступны исторические данные о продажах игр, оценки пользователей и экспертов, жанры и платформы (например, Xbox или PlayStation). Вам нужно выявить определяющие успешность игры закономерности. Это позволит сделать ставку на потенциально популярный продукт и спланировать рекламные кампании.\n",
        "Перед нами данные до 2016 года. Сейчас декабрь 2016 г., и мы планируете кампанию на 2017-й интернет-магазина «Стримчик».\n"
      ]
    },
    {
      "cell_type": "markdown",
      "metadata": {
        "id": "Yd_tgK4Cer4w"
      },
      "source": [
        "Описание данных\n",
        "- Name — название игры\n",
        "- Platform — платформа\n",
        "- Year_of_Release — год выпуска\n",
        "- Genre — жанр игры\n",
        "- NA_sales — продажи в Северной Америке (миллионы проданных копий)\n",
        "- EU_sales — продажи в Европе (миллионы проданных копий)\n",
        "- JP_sales — продажи в Японии (миллионы проданных копий)\n",
        "- Other_sales — продажи в других странах (миллионы проданных копий)\n",
        "- Critic_Score — оценка критиков (максимум 100)\n",
        "- User_Score — оценка пользователей (максимум 10)\n",
        "- Rating — рейтинг от организации ESRB (англ. Entertainment Software Rating Board). Эта ассоциация определяет рейтинг компьютерных игр и присваивает им подходящую возрастную категорию.\n",
        "\n",
        "Данные за 2016 год могут быть неполными.\n"
      ]
    },
    {
      "cell_type": "markdown",
      "metadata": {
        "id": "HwgKCuRcer4x"
      },
      "source": [
        "Категории рейтинга, согласно ESRB:\n",
        "\n",
        "- «EC» («Early childhood») — «Для детей младшего возраста»;\n",
        "- «E» («Everyone») — «Для всех»;\n",
        "- «E10+» («Everyone 10 and older») — «Для всех от 10 лет и старше»;\n",
        "- «T» («Teen») — «Подросткам»;\n",
        "- «M» («Mature») — «Для взрослых»;\n",
        "- «AO» («Adults Only 18+») — «Только для взрослых»."
      ]
    },
    {
      "cell_type": "markdown",
      "metadata": {
        "id": "2njJphoPer4x"
      },
      "source": [
        "## Просмотр и предобработка данных"
      ]
    },
    {
      "cell_type": "markdown",
      "metadata": {
        "id": "EAuPyZOJer4y"
      },
      "source": [
        "Загрузка всех необходимых библиотек и задаем настройки"
      ]
    },
    {
      "cell_type": "code",
      "execution_count": null,
      "metadata": {
        "id": "wdKJ52rner4y"
      },
      "outputs": [],
      "source": [
        "import pandas as pd\n",
        "import numpy as np\n",
        "import matplotlib.pyplot as plt\n",
        "from scipy import stats as st\n",
        "import seaborn as sns\n",
        "import warnings \n",
        "warnings.filterwarnings('ignore')\n",
        "%config InlineBackend.figure_format = 'retina'  # задаем четкие цифры на графиках\n",
        "from pylab import rcParams\n",
        "rcParams['figure.figsize'] = 14,6 # задаем размер графиков, если не задано будет другого"
      ]
    },
    {
      "cell_type": "markdown",
      "metadata": {
        "id": "fi8Yd1OTer4z"
      },
      "source": [
        "Прочтем данные и запишем в переменную"
      ]
    },
    {
      "cell_type": "code",
      "execution_count": null,
      "metadata": {
        "id": "eKFBQs6Ver4z"
      },
      "outputs": [],
      "source": [
        "df_games = pd.read_csv('/datasets/games.csv')"
      ]
    },
    {
      "cell_type": "markdown",
      "metadata": {
        "id": "MYuN2nVIer4z"
      },
      "source": [
        "Посмотрим информацию о данных"
      ]
    },
    {
      "cell_type": "code",
      "execution_count": null,
      "metadata": {
        "id": "Em6Xtf9Her4z",
        "outputId": "c6f694e8-ab42-4a68-c3a2-bf4c7dff5f88"
      },
      "outputs": [
        {
          "name": "stdout",
          "output_type": "stream",
          "text": [
            "<class 'pandas.core.frame.DataFrame'>\n",
            "RangeIndex: 16715 entries, 0 to 16714\n",
            "Data columns (total 11 columns):\n",
            "Name               16713 non-null object\n",
            "Platform           16715 non-null object\n",
            "Year_of_Release    16446 non-null float64\n",
            "Genre              16713 non-null object\n",
            "NA_sales           16715 non-null float64\n",
            "EU_sales           16715 non-null float64\n",
            "JP_sales           16715 non-null float64\n",
            "Other_sales        16715 non-null float64\n",
            "Critic_Score       8137 non-null float64\n",
            "User_Score         10014 non-null object\n",
            "Rating             9949 non-null object\n",
            "dtypes: float64(6), object(5)\n",
            "memory usage: 1.4+ MB\n"
          ]
        }
      ],
      "source": [
        "df_games.info()"
      ]
    },
    {
      "cell_type": "code",
      "execution_count": null,
      "metadata": {
        "id": "wGJNUZJOer40",
        "outputId": "c4a533b0-16c9-4852-8c3d-330d5c09c79d"
      },
      "outputs": [
        {
          "data": {
            "text/html": [
              "<div>\n",
              "<style scoped>\n",
              "    .dataframe tbody tr th:only-of-type {\n",
              "        vertical-align: middle;\n",
              "    }\n",
              "\n",
              "    .dataframe tbody tr th {\n",
              "        vertical-align: top;\n",
              "    }\n",
              "\n",
              "    .dataframe thead th {\n",
              "        text-align: right;\n",
              "    }\n",
              "</style>\n",
              "<table border=\"1\" class=\"dataframe\">\n",
              "  <thead>\n",
              "    <tr style=\"text-align: right;\">\n",
              "      <th></th>\n",
              "      <th>Year_of_Release</th>\n",
              "      <th>NA_sales</th>\n",
              "      <th>EU_sales</th>\n",
              "      <th>JP_sales</th>\n",
              "      <th>Other_sales</th>\n",
              "      <th>Critic_Score</th>\n",
              "    </tr>\n",
              "  </thead>\n",
              "  <tbody>\n",
              "    <tr>\n",
              "      <td>count</td>\n",
              "      <td>16446.000000</td>\n",
              "      <td>16715.000000</td>\n",
              "      <td>16715.000000</td>\n",
              "      <td>16715.000000</td>\n",
              "      <td>16715.000000</td>\n",
              "      <td>8137.000000</td>\n",
              "    </tr>\n",
              "    <tr>\n",
              "      <td>mean</td>\n",
              "      <td>2006.484616</td>\n",
              "      <td>0.263377</td>\n",
              "      <td>0.145060</td>\n",
              "      <td>0.077617</td>\n",
              "      <td>0.047342</td>\n",
              "      <td>68.967679</td>\n",
              "    </tr>\n",
              "    <tr>\n",
              "      <td>std</td>\n",
              "      <td>5.877050</td>\n",
              "      <td>0.813604</td>\n",
              "      <td>0.503339</td>\n",
              "      <td>0.308853</td>\n",
              "      <td>0.186731</td>\n",
              "      <td>13.938165</td>\n",
              "    </tr>\n",
              "    <tr>\n",
              "      <td>min</td>\n",
              "      <td>1980.000000</td>\n",
              "      <td>0.000000</td>\n",
              "      <td>0.000000</td>\n",
              "      <td>0.000000</td>\n",
              "      <td>0.000000</td>\n",
              "      <td>13.000000</td>\n",
              "    </tr>\n",
              "    <tr>\n",
              "      <td>25%</td>\n",
              "      <td>2003.000000</td>\n",
              "      <td>0.000000</td>\n",
              "      <td>0.000000</td>\n",
              "      <td>0.000000</td>\n",
              "      <td>0.000000</td>\n",
              "      <td>60.000000</td>\n",
              "    </tr>\n",
              "    <tr>\n",
              "      <td>50%</td>\n",
              "      <td>2007.000000</td>\n",
              "      <td>0.080000</td>\n",
              "      <td>0.020000</td>\n",
              "      <td>0.000000</td>\n",
              "      <td>0.010000</td>\n",
              "      <td>71.000000</td>\n",
              "    </tr>\n",
              "    <tr>\n",
              "      <td>75%</td>\n",
              "      <td>2010.000000</td>\n",
              "      <td>0.240000</td>\n",
              "      <td>0.110000</td>\n",
              "      <td>0.040000</td>\n",
              "      <td>0.030000</td>\n",
              "      <td>79.000000</td>\n",
              "    </tr>\n",
              "    <tr>\n",
              "      <td>max</td>\n",
              "      <td>2016.000000</td>\n",
              "      <td>41.360000</td>\n",
              "      <td>28.960000</td>\n",
              "      <td>10.220000</td>\n",
              "      <td>10.570000</td>\n",
              "      <td>98.000000</td>\n",
              "    </tr>\n",
              "  </tbody>\n",
              "</table>\n",
              "</div>"
            ],
            "text/plain": [
              "       Year_of_Release      NA_sales      EU_sales      JP_sales  \\\n",
              "count     16446.000000  16715.000000  16715.000000  16715.000000   \n",
              "mean       2006.484616      0.263377      0.145060      0.077617   \n",
              "std           5.877050      0.813604      0.503339      0.308853   \n",
              "min        1980.000000      0.000000      0.000000      0.000000   \n",
              "25%        2003.000000      0.000000      0.000000      0.000000   \n",
              "50%        2007.000000      0.080000      0.020000      0.000000   \n",
              "75%        2010.000000      0.240000      0.110000      0.040000   \n",
              "max        2016.000000     41.360000     28.960000     10.220000   \n",
              "\n",
              "        Other_sales  Critic_Score  \n",
              "count  16715.000000   8137.000000  \n",
              "mean       0.047342     68.967679  \n",
              "std        0.186731     13.938165  \n",
              "min        0.000000     13.000000  \n",
              "25%        0.000000     60.000000  \n",
              "50%        0.010000     71.000000  \n",
              "75%        0.030000     79.000000  \n",
              "max       10.570000     98.000000  "
            ]
          },
          "execution_count": 73,
          "metadata": {},
          "output_type": "execute_result"
        }
      ],
      "source": [
        "df_games.describe()"
      ]
    },
    {
      "cell_type": "code",
      "execution_count": null,
      "metadata": {
        "id": "qY1wao6jer40",
        "outputId": "d92e3417-480e-4149-d839-8f8de78d9986"
      },
      "outputs": [
        {
          "data": {
            "text/html": [
              "<div>\n",
              "<style scoped>\n",
              "    .dataframe tbody tr th:only-of-type {\n",
              "        vertical-align: middle;\n",
              "    }\n",
              "\n",
              "    .dataframe tbody tr th {\n",
              "        vertical-align: top;\n",
              "    }\n",
              "\n",
              "    .dataframe thead th {\n",
              "        text-align: right;\n",
              "    }\n",
              "</style>\n",
              "<table border=\"1\" class=\"dataframe\">\n",
              "  <thead>\n",
              "    <tr style=\"text-align: right;\">\n",
              "      <th></th>\n",
              "      <th>Name</th>\n",
              "      <th>Platform</th>\n",
              "      <th>Year_of_Release</th>\n",
              "      <th>Genre</th>\n",
              "      <th>NA_sales</th>\n",
              "      <th>EU_sales</th>\n",
              "      <th>JP_sales</th>\n",
              "      <th>Other_sales</th>\n",
              "      <th>Critic_Score</th>\n",
              "      <th>User_Score</th>\n",
              "      <th>Rating</th>\n",
              "    </tr>\n",
              "  </thead>\n",
              "  <tbody>\n",
              "    <tr>\n",
              "      <td>0</td>\n",
              "      <td>Wii Sports</td>\n",
              "      <td>Wii</td>\n",
              "      <td>2006.0</td>\n",
              "      <td>Sports</td>\n",
              "      <td>41.36</td>\n",
              "      <td>28.96</td>\n",
              "      <td>3.77</td>\n",
              "      <td>8.45</td>\n",
              "      <td>76.0</td>\n",
              "      <td>8</td>\n",
              "      <td>E</td>\n",
              "    </tr>\n",
              "    <tr>\n",
              "      <td>1</td>\n",
              "      <td>Super Mario Bros.</td>\n",
              "      <td>NES</td>\n",
              "      <td>1985.0</td>\n",
              "      <td>Platform</td>\n",
              "      <td>29.08</td>\n",
              "      <td>3.58</td>\n",
              "      <td>6.81</td>\n",
              "      <td>0.77</td>\n",
              "      <td>NaN</td>\n",
              "      <td>NaN</td>\n",
              "      <td>NaN</td>\n",
              "    </tr>\n",
              "    <tr>\n",
              "      <td>2</td>\n",
              "      <td>Mario Kart Wii</td>\n",
              "      <td>Wii</td>\n",
              "      <td>2008.0</td>\n",
              "      <td>Racing</td>\n",
              "      <td>15.68</td>\n",
              "      <td>12.76</td>\n",
              "      <td>3.79</td>\n",
              "      <td>3.29</td>\n",
              "      <td>82.0</td>\n",
              "      <td>8.3</td>\n",
              "      <td>E</td>\n",
              "    </tr>\n",
              "    <tr>\n",
              "      <td>3</td>\n",
              "      <td>Wii Sports Resort</td>\n",
              "      <td>Wii</td>\n",
              "      <td>2009.0</td>\n",
              "      <td>Sports</td>\n",
              "      <td>15.61</td>\n",
              "      <td>10.93</td>\n",
              "      <td>3.28</td>\n",
              "      <td>2.95</td>\n",
              "      <td>80.0</td>\n",
              "      <td>8</td>\n",
              "      <td>E</td>\n",
              "    </tr>\n",
              "    <tr>\n",
              "      <td>4</td>\n",
              "      <td>Pokemon Red/Pokemon Blue</td>\n",
              "      <td>GB</td>\n",
              "      <td>1996.0</td>\n",
              "      <td>Role-Playing</td>\n",
              "      <td>11.27</td>\n",
              "      <td>8.89</td>\n",
              "      <td>10.22</td>\n",
              "      <td>1.00</td>\n",
              "      <td>NaN</td>\n",
              "      <td>NaN</td>\n",
              "      <td>NaN</td>\n",
              "    </tr>\n",
              "    <tr>\n",
              "      <td>5</td>\n",
              "      <td>Tetris</td>\n",
              "      <td>GB</td>\n",
              "      <td>1989.0</td>\n",
              "      <td>Puzzle</td>\n",
              "      <td>23.20</td>\n",
              "      <td>2.26</td>\n",
              "      <td>4.22</td>\n",
              "      <td>0.58</td>\n",
              "      <td>NaN</td>\n",
              "      <td>NaN</td>\n",
              "      <td>NaN</td>\n",
              "    </tr>\n",
              "    <tr>\n",
              "      <td>6</td>\n",
              "      <td>New Super Mario Bros.</td>\n",
              "      <td>DS</td>\n",
              "      <td>2006.0</td>\n",
              "      <td>Platform</td>\n",
              "      <td>11.28</td>\n",
              "      <td>9.14</td>\n",
              "      <td>6.50</td>\n",
              "      <td>2.88</td>\n",
              "      <td>89.0</td>\n",
              "      <td>8.5</td>\n",
              "      <td>E</td>\n",
              "    </tr>\n",
              "    <tr>\n",
              "      <td>7</td>\n",
              "      <td>Wii Play</td>\n",
              "      <td>Wii</td>\n",
              "      <td>2006.0</td>\n",
              "      <td>Misc</td>\n",
              "      <td>13.96</td>\n",
              "      <td>9.18</td>\n",
              "      <td>2.93</td>\n",
              "      <td>2.84</td>\n",
              "      <td>58.0</td>\n",
              "      <td>6.6</td>\n",
              "      <td>E</td>\n",
              "    </tr>\n",
              "    <tr>\n",
              "      <td>8</td>\n",
              "      <td>New Super Mario Bros. Wii</td>\n",
              "      <td>Wii</td>\n",
              "      <td>2009.0</td>\n",
              "      <td>Platform</td>\n",
              "      <td>14.44</td>\n",
              "      <td>6.94</td>\n",
              "      <td>4.70</td>\n",
              "      <td>2.24</td>\n",
              "      <td>87.0</td>\n",
              "      <td>8.4</td>\n",
              "      <td>E</td>\n",
              "    </tr>\n",
              "    <tr>\n",
              "      <td>9</td>\n",
              "      <td>Duck Hunt</td>\n",
              "      <td>NES</td>\n",
              "      <td>1984.0</td>\n",
              "      <td>Shooter</td>\n",
              "      <td>26.93</td>\n",
              "      <td>0.63</td>\n",
              "      <td>0.28</td>\n",
              "      <td>0.47</td>\n",
              "      <td>NaN</td>\n",
              "      <td>NaN</td>\n",
              "      <td>NaN</td>\n",
              "    </tr>\n",
              "  </tbody>\n",
              "</table>\n",
              "</div>"
            ],
            "text/plain": [
              "                        Name Platform  Year_of_Release         Genre  \\\n",
              "0                 Wii Sports      Wii           2006.0        Sports   \n",
              "1          Super Mario Bros.      NES           1985.0      Platform   \n",
              "2             Mario Kart Wii      Wii           2008.0        Racing   \n",
              "3          Wii Sports Resort      Wii           2009.0        Sports   \n",
              "4   Pokemon Red/Pokemon Blue       GB           1996.0  Role-Playing   \n",
              "5                     Tetris       GB           1989.0        Puzzle   \n",
              "6      New Super Mario Bros.       DS           2006.0      Platform   \n",
              "7                   Wii Play      Wii           2006.0          Misc   \n",
              "8  New Super Mario Bros. Wii      Wii           2009.0      Platform   \n",
              "9                  Duck Hunt      NES           1984.0       Shooter   \n",
              "\n",
              "   NA_sales  EU_sales  JP_sales  Other_sales  Critic_Score User_Score Rating  \n",
              "0     41.36     28.96      3.77         8.45          76.0          8      E  \n",
              "1     29.08      3.58      6.81         0.77           NaN        NaN    NaN  \n",
              "2     15.68     12.76      3.79         3.29          82.0        8.3      E  \n",
              "3     15.61     10.93      3.28         2.95          80.0          8      E  \n",
              "4     11.27      8.89     10.22         1.00           NaN        NaN    NaN  \n",
              "5     23.20      2.26      4.22         0.58           NaN        NaN    NaN  \n",
              "6     11.28      9.14      6.50         2.88          89.0        8.5      E  \n",
              "7     13.96      9.18      2.93         2.84          58.0        6.6      E  \n",
              "8     14.44      6.94      4.70         2.24          87.0        8.4      E  \n",
              "9     26.93      0.63      0.28         0.47           NaN        NaN    NaN  "
            ]
          },
          "execution_count": 74,
          "metadata": {},
          "output_type": "execute_result"
        }
      ],
      "source": [
        "df_games.head(10)"
      ]
    },
    {
      "cell_type": "markdown",
      "metadata": {
        "id": "SUUQq0uPer41"
      },
      "source": [
        "Вывод, необходимо:\n",
        "- замените названия столбцов (привести к нижнему регистру);\n",
        "- пропуски в столбцах critic_score, user_score и rating;\n",
        "- привести данные к нужным типам year_of_release к целочисленному, user_score к числовому."
      ]
    },
    {
      "cell_type": "markdown",
      "metadata": {
        "id": "lNjE9gLFer41"
      },
      "source": [
        "### Переименование столбцов"
      ]
    },
    {
      "cell_type": "markdown",
      "metadata": {
        "id": "U0TUWEJGer41"
      },
      "source": [
        "Приведем все столбцы к нижнему регистру"
      ]
    },
    {
      "cell_type": "code",
      "execution_count": null,
      "metadata": {
        "id": "tW7nSEsMer42"
      },
      "outputs": [],
      "source": [
        "df_games.columns = df_games.columns.str.lower()"
      ]
    },
    {
      "cell_type": "code",
      "execution_count": null,
      "metadata": {
        "id": "hYlbfYvper42",
        "outputId": "f3513a2e-42ac-4a6a-ee43-6d52f09bfe04"
      },
      "outputs": [
        {
          "name": "stdout",
          "output_type": "stream",
          "text": [
            "<class 'pandas.core.frame.DataFrame'>\n",
            "RangeIndex: 16715 entries, 0 to 16714\n",
            "Data columns (total 11 columns):\n",
            "name               16713 non-null object\n",
            "platform           16715 non-null object\n",
            "year_of_release    16446 non-null float64\n",
            "genre              16713 non-null object\n",
            "na_sales           16715 non-null float64\n",
            "eu_sales           16715 non-null float64\n",
            "jp_sales           16715 non-null float64\n",
            "other_sales        16715 non-null float64\n",
            "critic_score       8137 non-null float64\n",
            "user_score         10014 non-null object\n",
            "rating             9949 non-null object\n",
            "dtypes: float64(6), object(5)\n",
            "memory usage: 1.4+ MB\n"
          ]
        }
      ],
      "source": [
        "df_games.info()"
      ]
    },
    {
      "cell_type": "markdown",
      "metadata": {
        "id": "n-KRMeHEer42"
      },
      "source": [
        "### Изменение типов данных"
      ]
    },
    {
      "cell_type": "markdown",
      "metadata": {
        "id": "KttuTZs1er42"
      },
      "source": [
        "Посмотрим отдельно столбцы.\n",
        "user_score - 'object', странно, если бы там были только числа и NaN, то формат был бы 'float'. Посмотрим все уникальные значения этого столбца"
      ]
    },
    {
      "cell_type": "code",
      "execution_count": null,
      "metadata": {
        "id": "baGtf54ier42",
        "outputId": "75b66cec-36f8-4880-d264-485973f66101"
      },
      "outputs": [
        {
          "data": {
            "text/plain": [
              "array(['8', nan, '8.3', '8.5', '6.6', '8.4', '8.6', '7.7', '6.3', '7.4',\n",
              "       '8.2', '9', '7.9', '8.1', '8.7', '7.1', '3.4', '5.3', '4.8', '3.2',\n",
              "       '8.9', '6.4', '7.8', '7.5', '2.6', '7.2', '9.2', '7', '7.3', '4.3',\n",
              "       '7.6', '5.7', '5', '9.1', '6.5', 'tbd', '8.8', '6.9', '9.4', '6.8',\n",
              "       '6.1', '6.7', '5.4', '4', '4.9', '4.5', '9.3', '6.2', '4.2', '6',\n",
              "       '3.7', '4.1', '5.8', '5.6', '5.5', '4.4', '4.6', '5.9', '3.9',\n",
              "       '3.1', '2.9', '5.2', '3.3', '4.7', '5.1', '3.5', '2.5', '1.9', '3',\n",
              "       '2.7', '2.2', '2', '9.5', '2.1', '3.6', '2.8', '1.8', '3.8', '0',\n",
              "       '1.6', '9.6', '2.4', '1.7', '1.1', '0.3', '1.5', '0.7', '1.2',\n",
              "       '2.3', '0.5', '1.3', '0.2', '0.6', '1.4', '0.9', '1', '9.7'],\n",
              "      dtype=object)"
            ]
          },
          "execution_count": 77,
          "metadata": {},
          "output_type": "execute_result"
        }
      ],
      "source": [
        "df_games['user_score'].unique()"
      ]
    },
    {
      "cell_type": "markdown",
      "metadata": {
        "id": "18xAu_lFer43"
      },
      "source": [
        "Видим значение 'tbd'. Посмотрим сколько таких значений"
      ]
    },
    {
      "cell_type": "code",
      "execution_count": null,
      "metadata": {
        "id": "J2Gddy4eer43",
        "outputId": "5a01291e-ecd8-4c26-d873-76bed18990b6"
      },
      "outputs": [
        {
          "data": {
            "text/plain": [
              "2424"
            ]
          },
          "execution_count": 78,
          "metadata": {},
          "output_type": "execute_result"
        }
      ],
      "source": [
        "df_games[df_games['user_score'] == 'tbd']['user_score'].count()"
      ]
    },
    {
      "cell_type": "code",
      "execution_count": null,
      "metadata": {
        "id": "nFtORn3ier43",
        "outputId": "53f162e7-20f2-42f0-ac30-39673f9418ed"
      },
      "outputs": [
        {
          "data": {
            "text/plain": [
              "14.501944361352079"
            ]
          },
          "execution_count": 79,
          "metadata": {},
          "output_type": "execute_result"
        }
      ],
      "source": [
        "df_games[df_games['user_score'] == 'tbd']['user_score'].count()/len(df_games['user_score'])*100"
      ]
    },
    {
      "cell_type": "markdown",
      "metadata": {
        "id": "TTlNpuaLer43"
      },
      "source": [
        "2424 строки с таким значением (14.5 процентов от всех значений)\n",
        "\n",
        "Почитав игровые форму, выяснилось, что это аббревиатура \"To Be Determined\". Дается тогда, когда игра имеет недостаточное количество отзывов для подсчета рейтинга.\n",
        "Такое может быть когда игры малопопулярны. 'tbd' фактически является NaN, заменим на NaN и приведем значение столбца user_score к числовому c плавающей точкой"
      ]
    },
    {
      "cell_type": "code",
      "execution_count": null,
      "metadata": {
        "id": "8jk9HeNXer43"
      },
      "outputs": [],
      "source": [
        "df_games.loc[df_games['user_score'] == 'tbd','user_score'] = np.nan\n",
        "df_games['user_score'] = df_games['user_score'].astype('float')"
      ]
    },
    {
      "cell_type": "markdown",
      "metadata": {
        "id": "CNAEnfhDer44"
      },
      "source": [
        "Изменим тип данных в столбце year_of_release "
      ]
    },
    {
      "cell_type": "code",
      "execution_count": null,
      "metadata": {
        "id": "msmLwnqher44"
      },
      "outputs": [],
      "source": [
        "df_games['year_of_release'] = df_games['year_of_release'].astype('Int16')"
      ]
    },
    {
      "cell_type": "code",
      "execution_count": null,
      "metadata": {
        "id": "CS-pR-iTer45",
        "outputId": "34c550a3-c06d-4d5a-bc3a-3ea5d1c14e5c"
      },
      "outputs": [
        {
          "name": "stdout",
          "output_type": "stream",
          "text": [
            "<class 'pandas.core.frame.DataFrame'>\n",
            "RangeIndex: 16715 entries, 0 to 16714\n",
            "Data columns (total 11 columns):\n",
            "name               16713 non-null object\n",
            "platform           16715 non-null object\n",
            "year_of_release    16446 non-null Int16\n",
            "genre              16713 non-null object\n",
            "na_sales           16715 non-null float64\n",
            "eu_sales           16715 non-null float64\n",
            "jp_sales           16715 non-null float64\n",
            "other_sales        16715 non-null float64\n",
            "critic_score       8137 non-null float64\n",
            "user_score         7590 non-null float64\n",
            "rating             9949 non-null object\n",
            "dtypes: Int16(1), float64(6), object(4)\n",
            "memory usage: 1.3+ MB\n"
          ]
        }
      ],
      "source": [
        "df_games.info()"
      ]
    },
    {
      "cell_type": "markdown",
      "metadata": {
        "id": "vGt95GHHer45"
      },
      "source": [
        "### Заполнение пропусков"
      ]
    },
    {
      "cell_type": "markdown",
      "metadata": {
        "id": "1RmkVs90er45"
      },
      "source": [
        "Посмотрим сколько пропусков в каждом столбце"
      ]
    },
    {
      "cell_type": "code",
      "execution_count": null,
      "metadata": {
        "id": "tZk6Q7E_er45",
        "outputId": "d6fbd08d-ab1a-4078-90a1-0c7dfd6b5644"
      },
      "outputs": [
        {
          "data": {
            "text/plain": [
              "name                  2\n",
              "platform              0\n",
              "year_of_release     269\n",
              "genre                 2\n",
              "na_sales              0\n",
              "eu_sales              0\n",
              "jp_sales              0\n",
              "other_sales           0\n",
              "critic_score       8578\n",
              "user_score         9125\n",
              "rating             6766\n",
              "dtype: int64"
            ]
          },
          "execution_count": 83,
          "metadata": {},
          "output_type": "execute_result"
        }
      ],
      "source": [
        "df_games.isna().sum()"
      ]
    },
    {
      "cell_type": "markdown",
      "metadata": {
        "id": "EofOED_2er46"
      },
      "source": [
        "- critic_score - оценка критиков - вполне возможно, что игры не оценивались критиками. Было бы неправильно заполнить рейтинг игры средним или медианой, даже если бы мы их считали внутри для каждого жанра отдельно. Для дальнейшей обработки и оценки, поставим этим играм рейтинг -1 (вдруг у какой-то игры есть реально нулевой рейтинг, поставив -1, мы никогда не перемешаем игры с NaN и с реально нулевым рейтингом);\n",
        "- rating - рейтинг от ESRB - невозможно дать рейтинг игре, посчитав его как среднее рейтингов игр того же жанра, к тому же категориальная переменная. Поставим рейтинг \"No ESRB\" - без рейтинга;\n",
        "- user_score - или было tbd или просто игроки не ставили оценку. Поэтому и присутствуют пропуски. Поступим так же, как и со столбцом critic_score."
      ]
    },
    {
      "cell_type": "code",
      "execution_count": null,
      "metadata": {
        "id": "h1bxaxXSer46"
      },
      "outputs": [],
      "source": [
        "# df_games['critic_score'] = df_games['critic_score'].fillna(-1)\n",
        "# df_games['user_score'] = df_games['user_score'].fillna(-1)"
      ]
    },
    {
      "cell_type": "code",
      "execution_count": null,
      "metadata": {
        "id": "kj560llmer46"
      },
      "outputs": [],
      "source": [
        "df_games.loc[df_games['user_score'] == 'tbd', 'user_score'] = float('nan')"
      ]
    },
    {
      "cell_type": "code",
      "execution_count": null,
      "metadata": {
        "id": "kHlT81aFer47",
        "outputId": "58bfa2ea-edf1-49ac-c167-ea0a1424c825"
      },
      "outputs": [
        {
          "data": {
            "text/plain": [
              "array(['E', nan, 'M', 'T', 'E10+', 'K-A', 'AO', 'EC', 'RP'], dtype=object)"
            ]
          },
          "execution_count": 86,
          "metadata": {},
          "output_type": "execute_result"
        }
      ],
      "source": [
        "df_games['rating'].unique()"
      ]
    },
    {
      "cell_type": "code",
      "execution_count": null,
      "metadata": {
        "id": "emnYwQ_oer47"
      },
      "outputs": [],
      "source": [
        "df_games['rating'] = df_games['rating'].fillna(0)"
      ]
    },
    {
      "cell_type": "code",
      "execution_count": null,
      "metadata": {
        "id": "nu36nRrter47"
      },
      "outputs": [],
      "source": [
        "df_games['rating'] = df_games['rating'].replace(0, 'No ESRB')"
      ]
    },
    {
      "cell_type": "code",
      "execution_count": null,
      "metadata": {
        "id": "XbUVqNE9er47",
        "outputId": "25dcace1-378e-41a5-9371-89f92bf3d5cd"
      },
      "outputs": [
        {
          "data": {
            "text/plain": [
              "array(['E', 'No ESRB', 'M', 'T', 'E10+', 'K-A', 'AO', 'EC', 'RP'],\n",
              "      dtype=object)"
            ]
          },
          "execution_count": 89,
          "metadata": {},
          "output_type": "execute_result"
        }
      ],
      "source": [
        "df_games['rating'].unique()"
      ]
    },
    {
      "cell_type": "code",
      "execution_count": null,
      "metadata": {
        "id": "R4X6M6x9er48",
        "outputId": "b8f7443d-fd04-4aa2-de0d-a21ab349bbe8"
      },
      "outputs": [
        {
          "data": {
            "text/plain": [
              "name                  2\n",
              "platform              0\n",
              "year_of_release     269\n",
              "genre                 2\n",
              "na_sales              0\n",
              "eu_sales              0\n",
              "jp_sales              0\n",
              "other_sales           0\n",
              "critic_score       8578\n",
              "user_score         9125\n",
              "rating                0\n",
              "dtype: int64"
            ]
          },
          "execution_count": 90,
          "metadata": {},
          "output_type": "execute_result"
        }
      ],
      "source": [
        "df_games.isna().sum()"
      ]
    },
    {
      "cell_type": "markdown",
      "metadata": {
        "id": "vAyx4G95er48"
      },
      "source": [
        "Посмотрим пропуски в годах выпуска"
      ]
    },
    {
      "cell_type": "code",
      "execution_count": null,
      "metadata": {
        "id": "sCvXQOVTer48",
        "outputId": "13d696d2-b358-40d9-9985-6a81a8bd76e1"
      },
      "outputs": [
        {
          "data": {
            "text/plain": [
              "269"
            ]
          },
          "execution_count": 91,
          "metadata": {},
          "output_type": "execute_result"
        }
      ],
      "source": [
        "df_games['year_of_release'].isna().sum()"
      ]
    },
    {
      "cell_type": "markdown",
      "metadata": {
        "id": "h867-hVUer48"
      },
      "source": [
        "Посмотрим наименования игр где пропущены года"
      ]
    },
    {
      "cell_type": "code",
      "execution_count": null,
      "metadata": {
        "id": "UC94kHGxer48",
        "outputId": "d4f50df4-f814-4661-bc43-84905f8ed65d"
      },
      "outputs": [
        {
          "data": {
            "text/plain": [
              "183                        Madden NFL 2004\n",
              "377                       FIFA Soccer 2004\n",
              "456             LEGO Batman: The Videogame\n",
              "475             wwe Smackdown vs. Raw 2006\n",
              "609                         Space Invaders\n",
              "                       ...                \n",
              "16373    PDC World Championship Darts 2008\n",
              "16405                        Freaky Flyers\n",
              "16448                            Inversion\n",
              "16458          Hakuouki: Shinsengumi Kitan\n",
              "16522                         Virtua Quest\n",
              "Name: name, Length: 269, dtype: object"
            ]
          },
          "execution_count": 92,
          "metadata": {},
          "output_type": "execute_result"
        }
      ],
      "source": [
        "df_games[df_games['year_of_release'].isna() == True]['name']"
      ]
    },
    {
      "cell_type": "markdown",
      "metadata": {
        "id": "Y4lEmTSRer49"
      },
      "source": [
        "Посмотрим есть ли на других платформах год выпуска"
      ]
    },
    {
      "cell_type": "code",
      "execution_count": null,
      "metadata": {
        "id": "g0hDiOn0er49",
        "outputId": "b8e8b1ac-734d-4932-b343-49b237eeb6c2"
      },
      "outputs": [
        {
          "data": {
            "text/html": [
              "<div>\n",
              "<style scoped>\n",
              "    .dataframe tbody tr th:only-of-type {\n",
              "        vertical-align: middle;\n",
              "    }\n",
              "\n",
              "    .dataframe tbody tr th {\n",
              "        vertical-align: top;\n",
              "    }\n",
              "\n",
              "    .dataframe thead th {\n",
              "        text-align: right;\n",
              "    }\n",
              "</style>\n",
              "<table border=\"1\" class=\"dataframe\">\n",
              "  <thead>\n",
              "    <tr style=\"text-align: right;\">\n",
              "      <th></th>\n",
              "      <th>name</th>\n",
              "      <th>platform</th>\n",
              "      <th>year_of_release</th>\n",
              "      <th>genre</th>\n",
              "      <th>na_sales</th>\n",
              "      <th>eu_sales</th>\n",
              "      <th>jp_sales</th>\n",
              "      <th>other_sales</th>\n",
              "      <th>critic_score</th>\n",
              "      <th>user_score</th>\n",
              "      <th>rating</th>\n",
              "    </tr>\n",
              "  </thead>\n",
              "  <tbody>\n",
              "    <tr>\n",
              "      <td>183</td>\n",
              "      <td>Madden NFL 2004</td>\n",
              "      <td>PS2</td>\n",
              "      <td>NaN</td>\n",
              "      <td>Sports</td>\n",
              "      <td>4.26</td>\n",
              "      <td>0.26</td>\n",
              "      <td>0.01</td>\n",
              "      <td>0.71</td>\n",
              "      <td>94.0</td>\n",
              "      <td>8.5</td>\n",
              "      <td>E</td>\n",
              "    </tr>\n",
              "    <tr>\n",
              "      <td>1881</td>\n",
              "      <td>Madden NFL 2004</td>\n",
              "      <td>XB</td>\n",
              "      <td>2003</td>\n",
              "      <td>Sports</td>\n",
              "      <td>1.02</td>\n",
              "      <td>0.02</td>\n",
              "      <td>0.00</td>\n",
              "      <td>0.05</td>\n",
              "      <td>92.0</td>\n",
              "      <td>8.3</td>\n",
              "      <td>E</td>\n",
              "    </tr>\n",
              "    <tr>\n",
              "      <td>3889</td>\n",
              "      <td>Madden NFL 2004</td>\n",
              "      <td>GC</td>\n",
              "      <td>2003</td>\n",
              "      <td>Sports</td>\n",
              "      <td>0.40</td>\n",
              "      <td>0.10</td>\n",
              "      <td>0.00</td>\n",
              "      <td>0.01</td>\n",
              "      <td>94.0</td>\n",
              "      <td>7.7</td>\n",
              "      <td>E</td>\n",
              "    </tr>\n",
              "    <tr>\n",
              "      <td>5708</td>\n",
              "      <td>Madden NFL 2004</td>\n",
              "      <td>GBA</td>\n",
              "      <td>2003</td>\n",
              "      <td>Sports</td>\n",
              "      <td>0.22</td>\n",
              "      <td>0.08</td>\n",
              "      <td>0.00</td>\n",
              "      <td>0.01</td>\n",
              "      <td>70.0</td>\n",
              "      <td>6.6</td>\n",
              "      <td>E</td>\n",
              "    </tr>\n",
              "  </tbody>\n",
              "</table>\n",
              "</div>"
            ],
            "text/plain": [
              "                 name platform  year_of_release   genre  na_sales  eu_sales  \\\n",
              "183   Madden NFL 2004      PS2              NaN  Sports      4.26      0.26   \n",
              "1881  Madden NFL 2004       XB             2003  Sports      1.02      0.02   \n",
              "3889  Madden NFL 2004       GC             2003  Sports      0.40      0.10   \n",
              "5708  Madden NFL 2004      GBA             2003  Sports      0.22      0.08   \n",
              "\n",
              "      jp_sales  other_sales  critic_score  user_score rating  \n",
              "183       0.01         0.71          94.0         8.5      E  \n",
              "1881      0.00         0.05          92.0         8.3      E  \n",
              "3889      0.00         0.01          94.0         7.7      E  \n",
              "5708      0.00         0.01          70.0         6.6      E  "
            ]
          },
          "execution_count": 93,
          "metadata": {},
          "output_type": "execute_result"
        }
      ],
      "source": [
        "df_games.query('name == \"Madden NFL 2004\"')"
      ]
    },
    {
      "cell_type": "markdown",
      "metadata": {
        "id": "s-_M7wb3er49"
      },
      "source": [
        "Заполним пробелы в годах за счет наличия информации об одних и тех же играх, только выпущенных для разных платформ"
      ]
    },
    {
      "cell_type": "code",
      "execution_count": null,
      "metadata": {
        "id": "laV_JMCyer49"
      },
      "outputs": [],
      "source": [
        "for year in df_games[df_games['year_of_release'].isnull() == True].index:  \n",
        "    df_games['year_of_release'][year] = df_games.loc[df_games['name'] == df_games['name'][year], 'year_of_release'].max()"
      ]
    },
    {
      "cell_type": "code",
      "execution_count": null,
      "metadata": {
        "id": "TJGoaA_Ner49",
        "outputId": "208d3229-4720-4adb-ff3d-574c18f968d9"
      },
      "outputs": [
        {
          "data": {
            "text/plain": [
              "146"
            ]
          },
          "execution_count": 95,
          "metadata": {},
          "output_type": "execute_result"
        }
      ],
      "source": [
        "df_games['year_of_release'].isna().sum()"
      ]
    },
    {
      "cell_type": "markdown",
      "metadata": {
        "id": "czacyhy7er4-"
      },
      "source": [
        "Часть пропусков в годах выпуска заполнили"
      ]
    },
    {
      "cell_type": "code",
      "execution_count": null,
      "metadata": {
        "id": "GJIk6Y4Ier4-"
      },
      "outputs": [],
      "source": [
        "df_games = df_games.dropna(subset = ['year_of_release'])"
      ]
    },
    {
      "cell_type": "code",
      "execution_count": null,
      "metadata": {
        "id": "s9r1vTwqer4-",
        "outputId": "37890075-5476-43de-c4bf-3b7b919254db"
      },
      "outputs": [
        {
          "data": {
            "text/plain": [
              "0"
            ]
          },
          "execution_count": 97,
          "metadata": {},
          "output_type": "execute_result"
        }
      ],
      "source": [
        "df_games['year_of_release'].isna().sum()"
      ]
    },
    {
      "cell_type": "markdown",
      "metadata": {
        "id": "iGZjdZKNer4_"
      },
      "source": [
        "### Подсчет суммарных продаж во всех регионах"
      ]
    },
    {
      "cell_type": "code",
      "execution_count": null,
      "metadata": {
        "id": "2PjE9dCrer4_"
      },
      "outputs": [],
      "source": [
        "df_games['global_sales'] = df_games['na_sales'] + df_games['eu_sales'] + df_games['jp_sales'] + df_games['other_sales']"
      ]
    },
    {
      "cell_type": "markdown",
      "metadata": {
        "id": "9Jgv7Wcaer4_"
      },
      "source": [
        "Посмотрим таблицу"
      ]
    },
    {
      "cell_type": "code",
      "execution_count": null,
      "metadata": {
        "scrolled": true,
        "id": "31svfpGCer4_",
        "outputId": "7147dd7a-dfd8-4e41-af25-0105e75eb497"
      },
      "outputs": [
        {
          "data": {
            "text/html": [
              "<div>\n",
              "<style scoped>\n",
              "    .dataframe tbody tr th:only-of-type {\n",
              "        vertical-align: middle;\n",
              "    }\n",
              "\n",
              "    .dataframe tbody tr th {\n",
              "        vertical-align: top;\n",
              "    }\n",
              "\n",
              "    .dataframe thead th {\n",
              "        text-align: right;\n",
              "    }\n",
              "</style>\n",
              "<table border=\"1\" class=\"dataframe\">\n",
              "  <thead>\n",
              "    <tr style=\"text-align: right;\">\n",
              "      <th></th>\n",
              "      <th>name</th>\n",
              "      <th>platform</th>\n",
              "      <th>year_of_release</th>\n",
              "      <th>genre</th>\n",
              "      <th>na_sales</th>\n",
              "      <th>eu_sales</th>\n",
              "      <th>jp_sales</th>\n",
              "      <th>other_sales</th>\n",
              "      <th>critic_score</th>\n",
              "      <th>user_score</th>\n",
              "      <th>rating</th>\n",
              "      <th>global_sales</th>\n",
              "    </tr>\n",
              "  </thead>\n",
              "  <tbody>\n",
              "    <tr>\n",
              "      <td>0</td>\n",
              "      <td>Wii Sports</td>\n",
              "      <td>Wii</td>\n",
              "      <td>2006</td>\n",
              "      <td>Sports</td>\n",
              "      <td>41.36</td>\n",
              "      <td>28.96</td>\n",
              "      <td>3.77</td>\n",
              "      <td>8.45</td>\n",
              "      <td>76.0</td>\n",
              "      <td>8.0</td>\n",
              "      <td>E</td>\n",
              "      <td>82.54</td>\n",
              "    </tr>\n",
              "    <tr>\n",
              "      <td>1</td>\n",
              "      <td>Super Mario Bros.</td>\n",
              "      <td>NES</td>\n",
              "      <td>1985</td>\n",
              "      <td>Platform</td>\n",
              "      <td>29.08</td>\n",
              "      <td>3.58</td>\n",
              "      <td>6.81</td>\n",
              "      <td>0.77</td>\n",
              "      <td>NaN</td>\n",
              "      <td>NaN</td>\n",
              "      <td>No ESRB</td>\n",
              "      <td>40.24</td>\n",
              "    </tr>\n",
              "    <tr>\n",
              "      <td>2</td>\n",
              "      <td>Mario Kart Wii</td>\n",
              "      <td>Wii</td>\n",
              "      <td>2008</td>\n",
              "      <td>Racing</td>\n",
              "      <td>15.68</td>\n",
              "      <td>12.76</td>\n",
              "      <td>3.79</td>\n",
              "      <td>3.29</td>\n",
              "      <td>82.0</td>\n",
              "      <td>8.3</td>\n",
              "      <td>E</td>\n",
              "      <td>35.52</td>\n",
              "    </tr>\n",
              "    <tr>\n",
              "      <td>3</td>\n",
              "      <td>Wii Sports Resort</td>\n",
              "      <td>Wii</td>\n",
              "      <td>2009</td>\n",
              "      <td>Sports</td>\n",
              "      <td>15.61</td>\n",
              "      <td>10.93</td>\n",
              "      <td>3.28</td>\n",
              "      <td>2.95</td>\n",
              "      <td>80.0</td>\n",
              "      <td>8.0</td>\n",
              "      <td>E</td>\n",
              "      <td>32.77</td>\n",
              "    </tr>\n",
              "    <tr>\n",
              "      <td>4</td>\n",
              "      <td>Pokemon Red/Pokemon Blue</td>\n",
              "      <td>GB</td>\n",
              "      <td>1996</td>\n",
              "      <td>Role-Playing</td>\n",
              "      <td>11.27</td>\n",
              "      <td>8.89</td>\n",
              "      <td>10.22</td>\n",
              "      <td>1.00</td>\n",
              "      <td>NaN</td>\n",
              "      <td>NaN</td>\n",
              "      <td>No ESRB</td>\n",
              "      <td>31.38</td>\n",
              "    </tr>\n",
              "    <tr>\n",
              "      <td>5</td>\n",
              "      <td>Tetris</td>\n",
              "      <td>GB</td>\n",
              "      <td>1989</td>\n",
              "      <td>Puzzle</td>\n",
              "      <td>23.20</td>\n",
              "      <td>2.26</td>\n",
              "      <td>4.22</td>\n",
              "      <td>0.58</td>\n",
              "      <td>NaN</td>\n",
              "      <td>NaN</td>\n",
              "      <td>No ESRB</td>\n",
              "      <td>30.26</td>\n",
              "    </tr>\n",
              "    <tr>\n",
              "      <td>6</td>\n",
              "      <td>New Super Mario Bros.</td>\n",
              "      <td>DS</td>\n",
              "      <td>2006</td>\n",
              "      <td>Platform</td>\n",
              "      <td>11.28</td>\n",
              "      <td>9.14</td>\n",
              "      <td>6.50</td>\n",
              "      <td>2.88</td>\n",
              "      <td>89.0</td>\n",
              "      <td>8.5</td>\n",
              "      <td>E</td>\n",
              "      <td>29.80</td>\n",
              "    </tr>\n",
              "    <tr>\n",
              "      <td>7</td>\n",
              "      <td>Wii Play</td>\n",
              "      <td>Wii</td>\n",
              "      <td>2006</td>\n",
              "      <td>Misc</td>\n",
              "      <td>13.96</td>\n",
              "      <td>9.18</td>\n",
              "      <td>2.93</td>\n",
              "      <td>2.84</td>\n",
              "      <td>58.0</td>\n",
              "      <td>6.6</td>\n",
              "      <td>E</td>\n",
              "      <td>28.91</td>\n",
              "    </tr>\n",
              "    <tr>\n",
              "      <td>8</td>\n",
              "      <td>New Super Mario Bros. Wii</td>\n",
              "      <td>Wii</td>\n",
              "      <td>2009</td>\n",
              "      <td>Platform</td>\n",
              "      <td>14.44</td>\n",
              "      <td>6.94</td>\n",
              "      <td>4.70</td>\n",
              "      <td>2.24</td>\n",
              "      <td>87.0</td>\n",
              "      <td>8.4</td>\n",
              "      <td>E</td>\n",
              "      <td>28.32</td>\n",
              "    </tr>\n",
              "    <tr>\n",
              "      <td>9</td>\n",
              "      <td>Duck Hunt</td>\n",
              "      <td>NES</td>\n",
              "      <td>1984</td>\n",
              "      <td>Shooter</td>\n",
              "      <td>26.93</td>\n",
              "      <td>0.63</td>\n",
              "      <td>0.28</td>\n",
              "      <td>0.47</td>\n",
              "      <td>NaN</td>\n",
              "      <td>NaN</td>\n",
              "      <td>No ESRB</td>\n",
              "      <td>28.31</td>\n",
              "    </tr>\n",
              "  </tbody>\n",
              "</table>\n",
              "</div>"
            ],
            "text/plain": [
              "                        name platform  year_of_release         genre  \\\n",
              "0                 Wii Sports      Wii             2006        Sports   \n",
              "1          Super Mario Bros.      NES             1985      Platform   \n",
              "2             Mario Kart Wii      Wii             2008        Racing   \n",
              "3          Wii Sports Resort      Wii             2009        Sports   \n",
              "4   Pokemon Red/Pokemon Blue       GB             1996  Role-Playing   \n",
              "5                     Tetris       GB             1989        Puzzle   \n",
              "6      New Super Mario Bros.       DS             2006      Platform   \n",
              "7                   Wii Play      Wii             2006          Misc   \n",
              "8  New Super Mario Bros. Wii      Wii             2009      Platform   \n",
              "9                  Duck Hunt      NES             1984       Shooter   \n",
              "\n",
              "   na_sales  eu_sales  jp_sales  other_sales  critic_score  user_score  \\\n",
              "0     41.36     28.96      3.77         8.45          76.0         8.0   \n",
              "1     29.08      3.58      6.81         0.77           NaN         NaN   \n",
              "2     15.68     12.76      3.79         3.29          82.0         8.3   \n",
              "3     15.61     10.93      3.28         2.95          80.0         8.0   \n",
              "4     11.27      8.89     10.22         1.00           NaN         NaN   \n",
              "5     23.20      2.26      4.22         0.58           NaN         NaN   \n",
              "6     11.28      9.14      6.50         2.88          89.0         8.5   \n",
              "7     13.96      9.18      2.93         2.84          58.0         6.6   \n",
              "8     14.44      6.94      4.70         2.24          87.0         8.4   \n",
              "9     26.93      0.63      0.28         0.47           NaN         NaN   \n",
              "\n",
              "    rating  global_sales  \n",
              "0        E         82.54  \n",
              "1  No ESRB         40.24  \n",
              "2        E         35.52  \n",
              "3        E         32.77  \n",
              "4  No ESRB         31.38  \n",
              "5  No ESRB         30.26  \n",
              "6        E         29.80  \n",
              "7        E         28.91  \n",
              "8        E         28.32  \n",
              "9  No ESRB         28.31  "
            ]
          },
          "execution_count": 99,
          "metadata": {},
          "output_type": "execute_result"
        }
      ],
      "source": [
        "df_games.head(10)"
      ]
    },
    {
      "cell_type": "markdown",
      "metadata": {
        "id": "epJMxY7ler4_"
      },
      "source": [
        "Проверим на дубликаты на всякий случай"
      ]
    },
    {
      "cell_type": "code",
      "execution_count": null,
      "metadata": {
        "id": "1rvV-ahqer4_",
        "outputId": "efb8f62a-d3d9-487c-ac60-fde53f2119d5"
      },
      "outputs": [
        {
          "data": {
            "text/plain": [
              "0"
            ]
          },
          "execution_count": 100,
          "metadata": {},
          "output_type": "execute_result"
        }
      ],
      "source": [
        "df_games.duplicated().sum()"
      ]
    },
    {
      "cell_type": "markdown",
      "metadata": {
        "id": "d7mP8s0her5A"
      },
      "source": [
        "## Исследовательский анализ данных"
      ]
    },
    {
      "cell_type": "markdown",
      "metadata": {
        "id": "uvg-6dmxer5A"
      },
      "source": [
        "### Сколько игр выпускалось в разные годы"
      ]
    },
    {
      "cell_type": "markdown",
      "metadata": {
        "id": "7HnCfcJDer5A"
      },
      "source": [
        "Напишем функцию для построения гистограмм"
      ]
    },
    {
      "cell_type": "code",
      "execution_count": 1,
      "metadata": {
        "id": "mhLIyn57er5A"
      },
      "outputs": [],
      "source": [
        "def create_bar(groupby_column, func, y='name'):\n",
        "    plt.style.use('seaborn-muted')\n",
        "    df_to_plot = df_games.groupby(groupby_column)[y]\n",
        "    if func == 'count':\n",
        "        plot = df_to_plot.count().plot(kind='bar', y=y, ec='black')\n",
        "    elif func == 'sum':\n",
        "        plot = df_to_plot.sum().sort_values().plot(kind='barh', y=y, ec='black')"
      ]
    },
    {
      "cell_type": "markdown",
      "metadata": {
        "id": "ngttcCwuer5A"
      },
      "source": [
        "<div class=\"alert alert-success\">\n",
        "<font size=\"5\"<b>Комментарий ревьюера</b> </font>\n",
        "    \n",
        "**Успех**\n",
        "\n",
        "Круто, что ты используешь функции для оптимизации кода\n",
        "    \n",
        "</div>"
      ]
    },
    {
      "cell_type": "code",
      "execution_count": 2,
      "metadata": {
        "colab": {
          "base_uri": "https://localhost:8080/",
          "height": 321
        },
        "id": "V4RnFwn_er5A",
        "outputId": "7367ce36-9b95-4d92-fbcc-d0000eab72f8"
      },
      "outputs": [
        {
          "output_type": "error",
          "ename": "NameError",
          "evalue": "ignored",
          "traceback": [
            "\u001b[0;31m---------------------------------------------------------------------------\u001b[0m",
            "\u001b[0;31mNameError\u001b[0m                                 Traceback (most recent call last)",
            "\u001b[0;32m<ipython-input-2-9b6cfd36208f>\u001b[0m in \u001b[0;36m<module>\u001b[0;34m()\u001b[0m\n\u001b[0;32m----> 1\u001b[0;31m \u001b[0mcreate_bar\u001b[0m\u001b[0;34m(\u001b[0m\u001b[0;34m'year_of_release'\u001b[0m\u001b[0;34m,\u001b[0m \u001b[0;34m'count'\u001b[0m\u001b[0;34m)\u001b[0m\u001b[0;34m\u001b[0m\u001b[0;34m\u001b[0m\u001b[0m\n\u001b[0m\u001b[1;32m      2\u001b[0m \u001b[0mplt\u001b[0m\u001b[0;34m.\u001b[0m\u001b[0mxlabel\u001b[0m\u001b[0;34m(\u001b[0m\u001b[0;34m'Год релиза'\u001b[0m\u001b[0;34m,\u001b[0m \u001b[0mfontsize\u001b[0m \u001b[0;34m=\u001b[0m \u001b[0;36m12\u001b[0m\u001b[0;34m)\u001b[0m\u001b[0;34m\u001b[0m\u001b[0;34m\u001b[0m\u001b[0m\n\u001b[1;32m      3\u001b[0m \u001b[0mplt\u001b[0m\u001b[0;34m.\u001b[0m\u001b[0mylabel\u001b[0m\u001b[0;34m(\u001b[0m\u001b[0;34m'Количество игр по годам'\u001b[0m\u001b[0;34m,\u001b[0m \u001b[0mfontsize\u001b[0m \u001b[0;34m=\u001b[0m \u001b[0;36m12\u001b[0m\u001b[0;34m)\u001b[0m\u001b[0;34m;\u001b[0m\u001b[0;34m\u001b[0m\u001b[0;34m\u001b[0m\u001b[0m\n",
            "\u001b[0;32m<ipython-input-1-478d1be81689>\u001b[0m in \u001b[0;36mcreate_bar\u001b[0;34m(groupby_column, func, y)\u001b[0m\n\u001b[1;32m      1\u001b[0m \u001b[0;32mdef\u001b[0m \u001b[0mcreate_bar\u001b[0m\u001b[0;34m(\u001b[0m\u001b[0mgroupby_column\u001b[0m\u001b[0;34m,\u001b[0m \u001b[0mfunc\u001b[0m\u001b[0;34m,\u001b[0m \u001b[0my\u001b[0m\u001b[0;34m=\u001b[0m\u001b[0;34m'name'\u001b[0m\u001b[0;34m)\u001b[0m\u001b[0;34m:\u001b[0m\u001b[0;34m\u001b[0m\u001b[0;34m\u001b[0m\u001b[0m\n\u001b[0;32m----> 2\u001b[0;31m     \u001b[0mplt\u001b[0m\u001b[0;34m.\u001b[0m\u001b[0mstyle\u001b[0m\u001b[0;34m.\u001b[0m\u001b[0muse\u001b[0m\u001b[0;34m(\u001b[0m\u001b[0;34m'seaborn-muted'\u001b[0m\u001b[0;34m)\u001b[0m\u001b[0;34m\u001b[0m\u001b[0;34m\u001b[0m\u001b[0m\n\u001b[0m\u001b[1;32m      3\u001b[0m     \u001b[0mdf_to_plot\u001b[0m \u001b[0;34m=\u001b[0m \u001b[0mdf_games\u001b[0m\u001b[0;34m.\u001b[0m\u001b[0mgroupby\u001b[0m\u001b[0;34m(\u001b[0m\u001b[0mgroupby_column\u001b[0m\u001b[0;34m)\u001b[0m\u001b[0;34m[\u001b[0m\u001b[0my\u001b[0m\u001b[0;34m]\u001b[0m\u001b[0;34m\u001b[0m\u001b[0;34m\u001b[0m\u001b[0m\n\u001b[1;32m      4\u001b[0m     \u001b[0;32mif\u001b[0m \u001b[0mfunc\u001b[0m \u001b[0;34m==\u001b[0m \u001b[0;34m'count'\u001b[0m\u001b[0;34m:\u001b[0m\u001b[0;34m\u001b[0m\u001b[0;34m\u001b[0m\u001b[0m\n\u001b[1;32m      5\u001b[0m         \u001b[0mplot\u001b[0m \u001b[0;34m=\u001b[0m \u001b[0mdf_to_plot\u001b[0m\u001b[0;34m.\u001b[0m\u001b[0mcount\u001b[0m\u001b[0;34m(\u001b[0m\u001b[0;34m)\u001b[0m\u001b[0;34m.\u001b[0m\u001b[0mplot\u001b[0m\u001b[0;34m(\u001b[0m\u001b[0mkind\u001b[0m\u001b[0;34m=\u001b[0m\u001b[0;34m'bar'\u001b[0m\u001b[0;34m,\u001b[0m \u001b[0my\u001b[0m\u001b[0;34m=\u001b[0m\u001b[0my\u001b[0m\u001b[0;34m,\u001b[0m \u001b[0mec\u001b[0m\u001b[0;34m=\u001b[0m\u001b[0;34m'black'\u001b[0m\u001b[0;34m)\u001b[0m\u001b[0;34m\u001b[0m\u001b[0;34m\u001b[0m\u001b[0m\n",
            "\u001b[0;31mNameError\u001b[0m: name 'plt' is not defined"
          ]
        }
      ],
      "source": [
        "create_bar('year_of_release', 'count')\n",
        "plt.xlabel('Год релиза', fontsize = 12)\n",
        "plt.ylabel('Количество игр по годам', fontsize = 12);"
      ]
    },
    {
      "cell_type": "markdown",
      "metadata": {
        "id": "dbH3YXOQer5A"
      },
      "source": [
        "Резкий скачок по количеству игр, выпущенных в год, произошел в 2002 году. Пик - 2008-2009 года. После этого начался спад, связанный с развитием мобильных устройств, интеграция соц. сетей в жизнь людей. Это всё привело к тому, что интерес к самим играм упал, соответственно, упало и их производство. Данные с 1980-1993 не особо значимы"
      ]
    },
    {
      "cell_type": "markdown",
      "metadata": {
        "id": "zQ5SteoWer5B"
      },
      "source": [
        "<div class=\"alert alert-success\">\n",
        "<font size=\"5\"<b>Комментарий ревьюера</b> </font>\n",
        "    \n",
        "**Успех**\n",
        "\n",
        "Наглядный график, понятные выводы\n",
        "    \n",
        "</div>"
      ]
    },
    {
      "cell_type": "markdown",
      "metadata": {
        "id": "GRBU3F4Rer5B"
      },
      "source": [
        "### Просмотр динамики продаж по платформам"
      ]
    },
    {
      "cell_type": "code",
      "execution_count": null,
      "metadata": {
        "id": "SMqaGXgver5B"
      },
      "outputs": [],
      "source": [
        "create_bar('platform', 'sum', 'global_sales')\n",
        "plt.xlabel('Количество продаж', fontsize = 12)\n",
        "plt.ylabel('Платформа', fontsize = 12);"
      ]
    },
    {
      "cell_type": "markdown",
      "metadata": {
        "id": "O7WFb8Tyer5B"
      },
      "source": [
        "Лидер - платформа PS2. Далее идут Xbox360, PS3 и Wii.\n",
        "Самые редкие платформы - представители японского рынка"
      ]
    },
    {
      "cell_type": "markdown",
      "metadata": {
        "id": "q5Zv48gYer5B"
      },
      "source": [
        "Выберем платформы с наибольшими суммарными продажами и построим распределение по годам. Возьмем топ 10 платформ"
      ]
    },
    {
      "cell_type": "code",
      "execution_count": null,
      "metadata": {
        "id": "Xq0KQwzZer5C"
      },
      "outputs": [],
      "source": [
        "top_platforms = df_games.groupby('platform').agg({'global_sales':'sum'}).sort_values(by='global_sales', ascending=False).head(10).index\n",
        "for platform in top_platforms:\n",
        "    df_games[df_games['platform'] == platform].pivot_table(index='year_of_release', values='global_sales', aggfunc='sum').plot(\n",
        "        kind='bar')\n",
        "    plt.title(platform)\n",
        "    plt.style.use('seaborn-muted')\n",
        "    plt.xlabel('Год релиза', fontsize = 12)\n",
        "    plt.ylabel('Количество продаж в мире', fontsize = 12)\n",
        "    plt.show()"
      ]
    },
    {
      "cell_type": "markdown",
      "metadata": {
        "id": "FDTWll-Aer5C"
      },
      "source": [
        "Построим на одном графике"
      ]
    },
    {
      "cell_type": "code",
      "execution_count": null,
      "metadata": {
        "id": "d3t5BtwMer5C"
      },
      "outputs": [],
      "source": [
        "df_games.query('platform in @top_platforms').pivot_table(index='year_of_release', columns = 'platform', \n",
        "                                                   values='global_sales', aggfunc='sum').plot(grid = True,style = 'o-', figsize=(15,6))\n",
        "plt.xlabel('Год релиза', fontsize = 12);"
      ]
    },
    {
      "cell_type": "markdown",
      "metadata": {
        "id": "CyvRqCcter5D"
      },
      "source": [
        "<div class=\"alert alert-success\">\n",
        "<font size=\"5\"<b>Комментарий ревьюера</b> </font>\n",
        "    \n",
        "**Успех**\n",
        "\n",
        "Хорошее решение построить на одном графике, так нагляднее\n",
        "    \n",
        "</div>"
      ]
    },
    {
      "cell_type": "markdown",
      "metadata": {
        "id": "IBGOsqjIer5D"
      },
      "source": [
        "- средний период 'жизни' платформ длится 8-10 лет;\n",
        "- лидирующих по продажам за всё время платформ в нашем датасете заметно идет на убыль к 2016 года (а то и раньше как общий лидер PS2 к 2011 году);\n",
        "- к 2016 году остается на плаву только PS3 и то продаж очень мало;\n",
        "- самая \"прямая\" зависимость у PC. Нет явных спадов и падений;\n",
        "- у PS4 реже всего выходят релизы, зато в 2016 году она актуальна;\n",
        "- такие платформы как PS2, PS, GDA уже до 2010 года перестали выпускать игры."
      ]
    },
    {
      "cell_type": "markdown",
      "metadata": {
        "id": "W1BEx0Rier5D"
      },
      "source": [
        "### Просмотр динамики продаж за актуальный период"
      ]
    },
    {
      "cell_type": "markdown",
      "metadata": {
        "id": "tIfzWFLler5D"
      },
      "source": [
        "Возьмем данные за соответствующий актуальный период. Основным фактором выбора актуального периода является то, что эти данные помогут построить прогноз на 2017 год."
      ]
    },
    {
      "cell_type": "markdown",
      "metadata": {
        "id": "NDvaT3qver5D"
      },
      "source": [
        "Выделяются 3 этапа в индустрии: резкий рост с 2002 до 2008 года, пик 2008 и 2009 годов,и дальнейший упадок\n",
        "Также большей части платформ уже нет в 2016 году, и соответственно в построении прогноза на 2017 год они нам не сильно помогут.\n",
        "При уменьшении периода в рассмотрение попадут только последние поколения платформ.\n",
        "Актуальный период возьмем с 2013 года, так падения продаж не ожидается"
      ]
    },
    {
      "cell_type": "markdown",
      "metadata": {
        "id": "6eHn1-uXer5D"
      },
      "source": [
        "<div class=\"alert alert-danger\">\n",
        "<font size=\"5\"<b>Комментарий ревьюера</b> </font>\n",
        "    \n",
        "**Ошибка**\n",
        "\n",
        "Склонен не согласиться с тобой относительно определения актуального периода.\n",
        "\n",
        "Ты верно сказала, что стоит делать акцент на актуальных платформах, и поэтому стоит ограничиться максимум 2012 годом - годом до выхода последнего (на момент выгрузки данных) поколения консолей. Плюсом к этому в 2008 у нас пик по продажам, а далее до 2011 года идет спад, который все-таки стабилизировался.\n",
        "\n",
        "Если считать от 2008 года, то стоит ожидать падения продаж в 2017 году, а если брать от 2013 года, то падение продаж не ожидается\n",
        "    \n",
        "</div>"
      ]
    },
    {
      "cell_type": "markdown",
      "metadata": {
        "id": "BYGBer7Ker5E"
      },
      "source": [
        "<div class=\"alert alert-info\"> <b>Комментарий студента:</b> Спасибо, актуальный период возьмем с 2013 года </div>"
      ]
    },
    {
      "cell_type": "markdown",
      "metadata": {
        "id": "S7R0c_4Ner5E"
      },
      "source": [
        "<div class=\"alert alert-success\">\n",
        "<font size=\"5\"<b>Комментарий ревьюера 2</b> </font>\n",
        "    \n",
        "**Успех**\n",
        "\n",
        "Спасибо, что прислушиваешься :)\n",
        "    \n",
        "</div>"
      ]
    },
    {
      "cell_type": "code",
      "execution_count": null,
      "metadata": {
        "id": "Q3AyeG-5er5E"
      },
      "outputs": [],
      "source": [
        "actual_period_data = df_games[df_games['year_of_release'] >= 2013]\n",
        "actual_period_data"
      ]
    },
    {
      "cell_type": "markdown",
      "metadata": {
        "id": "bBJ_z1a9er5E"
      },
      "source": [
        "Построим ещё один график, отображающий динамику продаж по уже актуальным годам и ответим на вопрос: Какие платформы лидируют по продажам, растут или падают?"
      ]
    },
    {
      "cell_type": "code",
      "execution_count": null,
      "metadata": {
        "scrolled": false,
        "id": "ixsv-_r6er5E"
      },
      "outputs": [],
      "source": [
        "actual_period_data.query('platform in @top_platforms').pivot_table(index='year_of_release', columns = 'platform', \n",
        "                                                   values='global_sales', aggfunc='sum').plot(grid = True, style = 'o-')\n",
        "actual_period_data.query('platform in @top_platforms').pivot_table(index='year_of_release', columns = 'platform', \n",
        "                                                   values='global_sales', aggfunc='sum')"
      ]
    },
    {
      "cell_type": "markdown",
      "metadata": {
        "id": "pOEEcWm1er5F"
      },
      "source": [
        "<div class=\"alert alert-danger\">\n",
        "<font size=\"5\"<b>Комментарий ревьюера</b> </font>\n",
        "    \n",
        "**Ошибка**\n",
        "\n",
        "Ты потеряла XOne - очень важная платформа в актуальном периоде. Просто она не попала в топ-10 за все времена)\n",
        "    \n",
        "</div>"
      ]
    },
    {
      "cell_type": "markdown",
      "metadata": {
        "id": "WzsiLQTVer5F"
      },
      "source": [
        "<div class=\"alert alert-info\"> <b>Комментарий студента:</b> Попробую не согласиться, ведь мы берем топ-10 не просто так, а по продажам за весь период, а XOne в него не попала, я как человек далекий от игровой индустрии не могу знать важна она или нет. для меня это платформа аж на 18 месте по продажам </div>"
      ]
    },
    {
      "cell_type": "markdown",
      "metadata": {
        "id": "4wb2IJkler5F"
      },
      "source": [
        "<div class=\"alert alert-info\"> <b>Комментарий студента:</b> Но ты совершенно прав что XOne на актуальный период имеет хорошие перспективы, просто она появилась позже остальных и поэтому за все время существования имеет не такие продажи как остальные, поэтому проведем анализ наоборот не как указано в задании к проекту, сначала возьмем актуальный период и уже в нем возьмем ТОП-10 (п.3.4).  </div>"
      ]
    },
    {
      "cell_type": "markdown",
      "metadata": {
        "id": "Dc2_KSJNer5F"
      },
      "source": [
        "<div class=\"alert alert-success\">\n",
        "<font size=\"5\"<b>Комментарий ревьюера 2</b> </font>\n",
        "    \n",
        "**Успех**\n",
        "\n",
        "Да, стоит немного поменять формулировку проекта\n",
        "\n",
        "Спасибо, что прислушалась\n",
        "    \n",
        "</div>"
      ]
    },
    {
      "cell_type": "markdown",
      "metadata": {
        "id": "gFtP8IRger5F"
      },
      "source": [
        "Посмотрим \"срок жизни\" платформ"
      ]
    },
    {
      "cell_type": "code",
      "execution_count": null,
      "metadata": {
        "id": "Vz8PXsS3er5F"
      },
      "outputs": [],
      "source": [
        "time_platforms = df_games.groupby('platform').agg({'year_of_release' : 'max'}) -  df_games.groupby('platform').agg({'year_of_release' : 'min'}) \n",
        "time_platforms"
      ]
    },
    {
      "cell_type": "markdown",
      "metadata": {
        "id": "6sySh4hRer5F"
      },
      "source": [
        "Видим, что XOne всего 3 года на рынке (на данные 2016 года)"
      ]
    },
    {
      "cell_type": "markdown",
      "metadata": {
        "id": "nXGZk1Z0er5G"
      },
      "source": [
        "<div class=\"alert alert-info\"> <b>Комментарий студента:</b> Проведу анализ ТОП-10 за актуальный период </div>"
      ]
    },
    {
      "cell_type": "markdown",
      "metadata": {
        "id": "8wcRZt6Fer5G"
      },
      "source": [
        "### Просмотр динамики продаж за актуальный период ТОП-10 платформ"
      ]
    },
    {
      "cell_type": "markdown",
      "metadata": {
        "id": "V2dSQCOper5G"
      },
      "source": [
        "Выберем платформы с наибольшими суммарными продажами за актуальный перио 2013-2016 года и построим распределение по годам. Возьмем топ 10 платформ"
      ]
    },
    {
      "cell_type": "code",
      "execution_count": null,
      "metadata": {
        "id": "kiJBxmWZer5G"
      },
      "outputs": [],
      "source": [
        "top_platforms_actual = actual_period_data.groupby('platform').agg({'global_sales':'sum'}).sort_values(by='global_sales', ascending=False).head(10).index\n",
        "for platform in top_platforms_actual:\n",
        "    actual_period_data[actual_period_data['platform'] == platform].pivot_table(index='year_of_release', values='global_sales', aggfunc='sum').plot(\n",
        "        kind='bar')\n",
        "    plt.title(platform)\n",
        "    plt.style.use('seaborn-muted')\n",
        "    plt.xlabel('Год релиза', fontsize = 12)\n",
        "    plt.ylabel('Количество продаж в мире', fontsize = 12)\n",
        "    plt.show()"
      ]
    },
    {
      "cell_type": "code",
      "execution_count": null,
      "metadata": {
        "scrolled": false,
        "id": "7gIbi2jUer5G"
      },
      "outputs": [],
      "source": [
        "actual_period_data.query('platform in @top_platforms_actual').pivot_table(index='year_of_release', columns = 'platform', \n",
        "                                                   values='global_sales', aggfunc='sum').plot(grid = True, style = 'o-')\n",
        "actual_period_data.query('platform in @top_platforms_actual').pivot_table(index='year_of_release', columns = 'platform', \n",
        "                                                   values='global_sales', aggfunc='sum')"
      ]
    },
    {
      "cell_type": "markdown",
      "metadata": {
        "id": "onGHF2mter5H"
      },
      "source": [
        "На конец 2016 года лидируют по продажам следующие платформы:\n",
        "\n",
        "- PS4;\n",
        "- XOne\n",
        "- 3DS;\n",
        "\n",
        "Это топ-3. Причем количество продаж игр, выпущенных на каждую из этих платформ, снижается"
      ]
    },
    {
      "cell_type": "markdown",
      "metadata": {
        "id": "yC6siJwKer5H"
      },
      "source": [
        "Построим график «ящик с усами» по глобальным продажам игр в разбивке по платформам. "
      ]
    },
    {
      "cell_type": "code",
      "execution_count": null,
      "metadata": {
        "scrolled": true,
        "id": "-YnHqKdder5H"
      },
      "outputs": [],
      "source": [
        "plt.figure(figsize=(12,10))\n",
        "sns.boxplot(x = 'platform', y = 'global_sales', \n",
        "            data = actual_period_data[actual_period_data.platform.isin(top_platforms_actual)]);\n",
        "plt.ylim(0,1.75)\n",
        "plt.xlabel('Платформа', fontsize=12)\n",
        "plt.ylabel('Глобальные продажи',fontsize=12);"
      ]
    },
    {
      "cell_type": "markdown",
      "metadata": {
        "id": "n5vjmY8Ter5H"
      },
      "source": [
        "<div class=\"alert alert-warning\">\n",
        "<font size=\"5\"<b>Комментарий ревьюера</b> </font>\n",
        "    \n",
        "**Совет**\n",
        "\n",
        "Не стоит ограничивать график по высоте - так мы потеряем важные выбросы\n",
        "    \n",
        "</div>"
      ]
    },
    {
      "cell_type": "markdown",
      "metadata": {
        "id": "rfdceu5qer5H"
      },
      "source": [
        "<div class=\"alert alert-info\"> <b>Комментарий студента:</b> Но ведь если не ограничить по высоте графики станут просто нечитабельны </div>"
      ]
    },
    {
      "cell_type": "markdown",
      "metadata": {
        "id": "1XXpkU6zer5H"
      },
      "source": [
        "<div class=\"alert alert-warning\">\n",
        "<font size=\"5\"<b>Комментарий ревьюера 2</b> </font>\n",
        "    \n",
        "**Совет**\n",
        "\n",
        "Тогда можно посмотреть на 95 и 99 квантиль, и если 99 квантиль все-таки где-то в космосе, то можно его обрезать, и остальные данные все-таки вывести на графики\n",
        "\n",
        "Квантили можно смотреть при помощи `df.column.quantile(n), где 0 < n < 1.`\n",
        "    \n",
        "</div>"
      ]
    },
    {
      "cell_type": "markdown",
      "metadata": {
        "id": "pYHSNwbVer5I"
      },
      "source": [
        "- графиков видно, что медиана протекает у всех по разному. От 0.1 до 0.2 млн.;\n",
        "- верхняя граница, до аномалий, PS4 - на уровне 1,55 млн - максимальные, дальше идет XOne фактически лидер последних (до 2016 года лет)-1,5 млн;\n",
        "- у платформы 3DS,PC3, РС показатели ниже;\n",
        "- у платформ PSV, PSP показатели еще ниже но на 2016 год они все еще актуальны"
      ]
    },
    {
      "cell_type": "markdown",
      "metadata": {
        "id": "E5CTD95Wer5I"
      },
      "source": [
        "<div class=\"alert alert-warning\">\n",
        "<font size=\"5\"<b>Комментарий ревьюера</b> </font>\n",
        "    \n",
        "**Совет**\n",
        "\n",
        "По выбросам тоже следует сделать выводы, вдруг какие-то платформы живут за счет бестселлеров\n",
        "    \n",
        "</div>"
      ]
    },
    {
      "cell_type": "markdown",
      "metadata": {
        "id": "iXwrCaEUer5I"
      },
      "source": [
        "### Влияние на продажи отзывов пользователей и критиков внутри одной платформы"
      ]
    },
    {
      "cell_type": "markdown",
      "metadata": {
        "id": "XmWax5HMer5I"
      },
      "source": [
        "За образец возьмем PS3 - она давно на рынке, по ней много данных, при этом на 2016 год она все еще актуальна (хоть PS4 имеет большую популярность в 2016 году, но она на рынке относительно недавно)"
      ]
    },
    {
      "cell_type": "markdown",
      "metadata": {
        "id": "iT2TiceAer5I"
      },
      "source": [
        "Построим диаграмму рассеяния продаж от оценки пользователей и найдем их корреляцию"
      ]
    },
    {
      "cell_type": "code",
      "execution_count": null,
      "metadata": {
        "id": "2aWOUcZ4er5I"
      },
      "outputs": [],
      "source": [
        "plt.figure(figsize=(12,6))\n",
        "sp3_user = df_games[(df_games['platform'] == 'PS3') & (df_games['user_score'] > 0)]\n",
        "sp3_user.plot(kind = 'scatter', x = 'user_score', y = 'global_sales', alpha = 0.5)\n",
        "plt.xlabel('Количество продаж', fontsize=12)\n",
        "plt.ylabel('Оценка пользователей',fontsize=12)\n",
        "corr_user = sp3_user['user_score'].corr(sp3_user['global_sales'])\n",
        "print(f'Корреляция между продажами и оценкой пользователей: {corr_user}');"
      ]
    },
    {
      "cell_type": "code",
      "execution_count": null,
      "metadata": {
        "id": "GlB1O73mer5J"
      },
      "outputs": [],
      "source": [
        "plt.figure(figsize=(12,6))\n",
        "sp3_critic = df_games[(df_games['platform'] == 'PS3') & (df_games['critic_score'] > 0)]\n",
        "sp3_critic.plot(kind = 'scatter', x = 'critic_score', y = 'global_sales', alpha = 0.5)\n",
        "plt.xlabel('Количество продаж', fontsize=12)\n",
        "plt.ylabel('Оценка китиков',fontsize=12)\n",
        "corr_critic = sp3_critic['critic_score'].corr(sp3_critic['global_sales'])\n",
        "print(f'Корреляция между продажами и оценкой критиков:{corr_critic}');"
      ]
    },
    {
      "cell_type": "markdown",
      "metadata": {
        "id": "R81OvKOaer5J"
      },
      "source": [
        "Наблюдается не сильная связь между оценками критиков и продажами. Связь между оценками пользователей и продажами слабее.  Это говорит о том, что покупатели прислушиваются больше к критикам, нежели к оценкам других пользователей."
      ]
    },
    {
      "cell_type": "markdown",
      "metadata": {
        "id": "_MxAUMvVer5J"
      },
      "source": [
        "<div class=\"alert alert-success\">\n",
        "<font size=\"5\"<b>Комментарий ревьюера</b> </font>\n",
        "    \n",
        "**Успех**\n",
        "\n",
        "Частично верно.\n",
        "\n",
        "Также критики по большей части оценивают игру до её выхода. Чем больше критиков оценило игру высоко, тем скорее всего больше маркетинговый бюджет издателя :D\n",
        "\n",
        "А отзывы игроков приходят уже тогда, когда игра уже продалась большим тиражом\n",
        "    \n",
        "</div>"
      ]
    },
    {
      "cell_type": "markdown",
      "metadata": {
        "id": "nCXdo2Zxer5J"
      },
      "source": [
        "Проверим данную зависимость для других платформ\n",
        "Напишем функцию построения диаграммы рассеяния и подсчета корреляции"
      ]
    },
    {
      "cell_type": "code",
      "execution_count": null,
      "metadata": {
        "id": "2Pz6XB8Ger5f"
      },
      "outputs": [],
      "source": [
        "def platform_corr_matrix(name_of_platform):\n",
        "    platform = df_games[df_games['platform']==name_of_platform]\n",
        "    fig, ax = plt.subplots(1 ,2, figsize=(15,5))\n",
        "    sns.scatterplot(x='user_score', y='global_sales', data=platform, ax=ax[0])\n",
        "    sns.scatterplot(x='critic_score', y='global_sales', data=platform, ax=ax[1])\n",
        "    fig.suptitle(name_of_platform, fontsize=15)\n",
        "    ax[0].set(xlabel='Оценка пользователей')\n",
        "    ax[1].set(xlabel='Оценка критиков')\n",
        "    ax[0].set(ylabel='Количество продаж')\n",
        "    ax[1].set(ylabel='Количество продаж')\n",
        "    plt.show()\n",
        "    \n",
        "    correl = platform['user_score'].corr(platform['global_sales'])\n",
        "    critic_correl = platform['critic_score'].corr(platform['global_sales'])\n",
        "    print(f'Корреляция между продажами и оценкой пользователей:{correl}')\n",
        "    print(f'Корреляция между продажами и оценкой критиков:{critic_correl}')"
      ]
    },
    {
      "cell_type": "code",
      "execution_count": null,
      "metadata": {
        "id": "1P7pxmtAer5f"
      },
      "outputs": [],
      "source": [
        "for platform in top_platforms:\n",
        "    platform_corr_matrix(platform)"
      ]
    },
    {
      "cell_type": "markdown",
      "metadata": {
        "id": "fUQCDj_ker5f"
      },
      "source": [
        "Для платформ PS2, X360 зависимость похожа на зависимость PS3: корреляция между оценкой критиков и продажами сильнее чем корреляция между оценками пользователей и продажами. У платформ Wii, PS4 также корреляция между оценкой критиков и продажами сильнее чем корреляция между оценками пользователей и продажами, но сама корреляция слабее. У платформ PC, GBA корреляция очень слабая. И только PSP у корреляция между оценками пользователей и продажами сильнее чем корреляция между оценкой критиков (у DS зависимость такая же но слабая). \n",
        "\n",
        "В целом связь между оценками пользователей и продажами и оценками критиков и продажами слабая у всех платформ, либо её совсем нет. "
      ]
    },
    {
      "cell_type": "markdown",
      "metadata": {
        "id": "y0tJoGjSer5g"
      },
      "source": [
        "<div class=\"alert alert-success\">\n",
        "<font size=\"5\"<b>Комментарий ревьюера</b> </font>\n",
        "    \n",
        "**Успех**\n",
        "\n",
        "Все верно\n",
        "    \n",
        "</div>"
      ]
    },
    {
      "cell_type": "markdown",
      "metadata": {
        "id": "LwebRDx6er5g"
      },
      "source": [
        "### Оценка распределения игр по жанрам"
      ]
    },
    {
      "cell_type": "code",
      "execution_count": null,
      "metadata": {
        "id": "peZg-3jSer5g"
      },
      "outputs": [],
      "source": [
        "ax = plt.gca()\n",
        "\n",
        "pivot = df_games.groupby('genre').agg({'name': 'count', 'global_sales': 'sum'}).sort_values(by='name', ascending=False)\n",
        "plot1 = pivot['name']\n",
        "plot1.plot(kind='bar', figsize=(15,5), ec='black', ax=ax, width=0.2, position=1)\n",
        "#plot2 = pivot['global_sales']\n",
        "#plot2.plot(kind='bar', figsize=(15,5), ec='black', ax=ax, width=0.2, color='lightgreen', position=0)\n",
        "#ax.legend(['Количество продаж', 'Общая сумма продаж'])\n",
        "plt.xlabel('Жанр', fontsize=12);"
      ]
    },
    {
      "cell_type": "code",
      "execution_count": null,
      "metadata": {
        "id": "-qneWzVNer5g"
      },
      "outputs": [],
      "source": [
        "most_popular_genre = df_games.groupby('genre').agg({'name':'count'}).reset_index()\n",
        "most_popular_genre.sort_values(by='name', ascending=False).head()"
      ]
    },
    {
      "cell_type": "markdown",
      "metadata": {
        "id": "oiLd4NIner5g"
      },
      "source": [
        "<div class=\"alert alert-warning\">\n",
        "<font size=\"5\"<b>Комментарий ревьюера</b> </font>\n",
        "    \n",
        "**Совет**\n",
        "\n",
        "В этом графике легко запутаться. \n",
        "\n",
        "Что такое количество продаж? Я это понимаю, но поймет ли заказчик отчета. \n",
        "\n",
        "Плюс у тебя один показатель считается в штуках (уникальных играх), а второй - в миллионах копий. \n",
        "    \n",
        "</div>"
      ]
    },
    {
      "cell_type": "markdown",
      "metadata": {
        "id": "80P9IQLuer5h"
      },
      "source": [
        "<div class=\"alert alert-info\"> <b>Комментарий студента:</b> Убрала количество продаж </div>"
      ]
    },
    {
      "cell_type": "markdown",
      "metadata": {
        "id": "OC4-0r5zer5h"
      },
      "source": [
        "<div class=\"alert alert-warning\">\n",
        "<font size=\"5\"<b>Комментарий ревьюера</b> </font>\n",
        "    \n",
        "**Совет**\n",
        "\n",
        "Как вариант - можно было оставить оба, но сделать в легенде подписи, в каких величинах смотрим\n",
        "    \n",
        "</div>"
      ]
    },
    {
      "cell_type": "markdown",
      "metadata": {
        "id": "R8fcnNVUer5h"
      },
      "source": [
        "И по количеству и по сумме продаж первое место занимают игры жанра action, меньше всего продаж у жанра puzzle, а меньше всего сумма продаж у жанра adventure (видимо цена игр не велика)"
      ]
    },
    {
      "cell_type": "markdown",
      "metadata": {
        "id": "uI2SoBzKer5h"
      },
      "source": [
        "<div class=\"alert alert-warning\">\n",
        "<font size=\"5\"<b>Комментарий ревьюера</b> </font>\n",
        "    \n",
        "**Совет**\n",
        "\n",
        "У нас в данных никакой цены игр нет. Есть миллионы проданных копий.\n",
        "    \n",
        "</div>"
      ]
    },
    {
      "cell_type": "markdown",
      "metadata": {
        "id": "CvgqSiUSer5h"
      },
      "source": [
        "<div class=\"alert alert-danger\">\n",
        "<font size=\"5\"<b>Комментарий ревьюера</b> </font>\n",
        "    \n",
        "**Ошибка**\n",
        "\n",
        "Стоит добавить средние и медианные продажи по платформам за актуальный период. Вдруг жанр живет за счет бестселлеров, а без них остальной жанр мертв. \n",
        "\n",
        "Частично это можно понять по твоему графику выше, но стоит все-таки сделать на этом акцент и вывести таблицей\n",
        "    \n",
        "</div>"
      ]
    },
    {
      "cell_type": "markdown",
      "metadata": {
        "id": "6JmYBA5-er5h"
      },
      "source": [
        "\n",
        "<div class=\"alert alert-info\"> <b>Комментарий студента:</b> Добавила </div>"
      ]
    },
    {
      "cell_type": "markdown",
      "metadata": {
        "id": "3LItiOdger5h"
      },
      "source": [
        "<div class=\"alert alert-success\">\n",
        "<font size=\"5\"<b>Комментарий ревьюера 2</b> </font>\n",
        "    \n",
        "**Успех**\n",
        "\n",
        "Отлично\n",
        "    \n",
        "</div>"
      ]
    },
    {
      "cell_type": "code",
      "execution_count": null,
      "metadata": {
        "id": "SkhkVcZ1er5i"
      },
      "outputs": [],
      "source": [
        "pivot_actual = actual_period_data.pivot_table(index='genre', \n",
        "                               values='global_sales',aggfunc=['mean','median'])\n",
        "pivot_actual.columns = ['mean', 'median']\n",
        "pivot_actual.sort_values(by='mean',ascending=False)"
      ]
    },
    {
      "cell_type": "markdown",
      "metadata": {
        "id": "2zezoXvter5i"
      },
      "source": [
        "Среднее и медианное значение больше всего у жанра shooter"
      ]
    },
    {
      "cell_type": "markdown",
      "metadata": {
        "id": "YotTxVcxer5i"
      },
      "source": [
        "Посмотрим динамику продаж по годам в зависимости от жанра"
      ]
    },
    {
      "cell_type": "code",
      "execution_count": null,
      "metadata": {
        "id": "h2Jd4oCher5i"
      },
      "outputs": [],
      "source": [
        "actual_period_data.pivot_table(index='year_of_release', columns = 'genre', values='global_sales', \n",
        "                               aggfunc='count').plot(grid = True, style = 'o-')\n",
        "actual_period_data.pivot_table(index='year_of_release', columns = 'genre', values='global_sales', \n",
        "                               aggfunc='count').sort_values(by='year_of_release', ascending=False)\n",
        "plt.style.use('ggplot')"
      ]
    },
    {
      "cell_type": "markdown",
      "metadata": {
        "id": "ItB6L6e1er5i"
      },
      "source": [
        "В целом все жанры падают в продажах из года в год. Чуть растет жанр racing и shooter."
      ]
    },
    {
      "cell_type": "markdown",
      "metadata": {
        "id": "Tr9duYLDer5j"
      },
      "source": [
        "<div class=\"alert alert-warning\">\n",
        "<font size=\"5\"<b>Комментарий ревьюера</b> </font>\n",
        "    \n",
        "**Совет**\n",
        "\n",
        "У тебя узкая цветовая палитра, не совсем понятно, где какой жанр)\n",
        "    \n",
        "</div>"
      ]
    },
    {
      "cell_type": "markdown",
      "metadata": {
        "id": "RFwn91dNer5j"
      },
      "source": [
        "\n",
        "<div class=\"alert alert-info\"> <b>Комментарий студента:</b> Подскажи пожалуйста как задать палитру. и можешь, пожалуйста, еще подсказать как сделать так чтобы не надо было прокручивать окно вывода графиков </div>"
      ]
    },
    {
      "cell_type": "markdown",
      "metadata": {
        "id": "uTjE4MeDer5j"
      },
      "source": [
        "<div class=\"alert alert-warning\">\n",
        "<font size=\"5\"<b>Комментарий ревьюера 2</b> </font>\n",
        "    \n",
        "**Совет**\n",
        "\n",
        "Должна помочь вот такая настройка `plt.style.use('ggplot')`\n",
        "У ggplot пошире цветовая палитра\n",
        "    \n",
        "</div>"
      ]
    },
    {
      "cell_type": "markdown",
      "metadata": {
        "id": "kUoyO8Bter5j"
      },
      "source": [
        "\n",
        "<div class=\"alert alert-info\"> <b>Комментарий студента:</b> Спасибо </div>"
      ]
    },
    {
      "cell_type": "markdown",
      "metadata": {
        "id": "1b13PQTwer5j"
      },
      "source": [
        "## Составление портрета пользователя каждого региона"
      ]
    },
    {
      "cell_type": "markdown",
      "metadata": {
        "id": "_wfLrBg8er5j"
      },
      "source": [
        "### Оценка долей продаж"
      ]
    },
    {
      "cell_type": "markdown",
      "metadata": {
        "id": "a1MUiOarer5j"
      },
      "source": [
        "Напишем функцию для построения графиков в зависимости от того что группируем"
      ]
    },
    {
      "cell_type": "code",
      "execution_count": null,
      "metadata": {
        "id": "cDS15kfMer5k"
      },
      "outputs": [],
      "source": [
        "def top_in_regions(groupby, region_sales, ax):\n",
        "    pivot = actual_period_data.groupby(groupby).agg({region_sales: 'sum'}).sort_values(by=region_sales, ascending=False).head(5)\n",
        "    title = {'na_sales': 'Продажи в Северной Америке', 'eu_sales': 'Продажи в Европе', 'jp_sales': 'Продажи в Японии'}\n",
        "    color = {'na_sales': 'blue', 'eu_sales': 'red', 'jp_sales': 'green'}\n",
        "    plot = pivot.plot(kind='bar', ec='black', title=title[region_sales], ax=axes[ax], \n",
        "                   fontsize=18, color=color[region_sales], rot=30)\n",
        "    plot.set_ylabel('Млн. копий', fontsize = 15)\n",
        "    plot.set_xlabel('')\n",
        "    plot.title.set_size(20)"
      ]
    },
    {
      "cell_type": "markdown",
      "metadata": {
        "id": "y_TlIU9Eer5k"
      },
      "source": [
        "<div class=\"alert alert-danger\">\n",
        "<font size=\"5\"<b>Комментарий ревьюера</b> </font>\n",
        "    \n",
        "**Ошибка**\n",
        "\n",
        "Тут ты смотришь на весь период, а не только актуальный.\n",
        "    \n",
        "</div>"
      ]
    },
    {
      "cell_type": "markdown",
      "metadata": {
        "id": "_yq0E-y-er5k"
      },
      "source": [
        "<div class=\"alert alert-success\">\n",
        "<font size=\"5\"<b>Комментарий ревьюера</b> </font>\n",
        "    \n",
        "**Успех**\n",
        "\n",
        "Функция просто супер\n",
        "    \n",
        "</div>"
      ]
    },
    {
      "cell_type": "markdown",
      "metadata": {
        "id": "n7JJ-wrQer5k"
      },
      "source": [
        "\n",
        "<div class=\"alert alert-info\"> <b>Комментарий студента:</b> Поменяла период. Спасибо)</div>"
      ]
    },
    {
      "cell_type": "markdown",
      "metadata": {
        "id": "_2vuKQJcer5k"
      },
      "source": [
        "<div class=\"alert alert-warning\">\n",
        "<font size=\"5\"<b>Комментарий ревьюера</b> </font>\n",
        "    \n",
        "**Совет**\n",
        "\n",
        "Посоветую заменить столбчатые графики круговой диаграммой, при этом не надо исключать все остальные платформы за пределами топ-5. \n",
        "\n",
        "Вдруг топ-5 платформ занимают только 20% рынка конкретного региона, а остальные 80% - куча консолей с маленькими тиражами\n",
        "    \n",
        "</div>"
      ]
    },
    {
      "cell_type": "code",
      "execution_count": null,
      "metadata": {
        "id": "wfJr-5XEer5k"
      },
      "outputs": [],
      "source": [
        "fig, axes = plt.subplots(1, 3, figsize=(25,6))\n",
        "top_in_regions('platform', 'na_sales', 0)\n",
        "top_in_regions('platform', 'eu_sales', 1)\n",
        "top_in_regions('platform', 'jp_sales', 2)"
      ]
    },
    {
      "cell_type": "markdown",
      "metadata": {
        "id": "SMzVuOKNer5l"
      },
      "source": [
        "В Северной Америке популярнее всего PS4 и XOne, самая не популярная (из топ 5) это PS3.\n",
        "В Европе самая популярная, как и в Америке, это PS4 и XOne(но отствет значительнее от первого места, чем в Америке) самая не популярная - 3DS.\n",
        "В Японии противоположная ситуация: самые непопулярные платформы у Европы и Северной Америке, тут на первом месте - 3DS, а PS4 только на 2, популярный же в Америке XOne даже в топ-5 не зашел."
      ]
    },
    {
      "cell_type": "markdown",
      "metadata": {
        "id": "5NPAjhFder5l"
      },
      "source": [
        "### Оценка самых популярных жанров"
      ]
    },
    {
      "cell_type": "code",
      "execution_count": null,
      "metadata": {
        "id": "RRYBBkkjer5l"
      },
      "outputs": [],
      "source": [
        "fig, axes = plt.subplots(1, 3, figsize=(25,6))\n",
        "top_in_regions('genre', 'na_sales', 0)\n",
        "top_in_regions('genre', 'eu_sales', 1)\n",
        "top_in_regions('genre', 'jp_sales', 2)"
      ]
    },
    {
      "cell_type": "markdown",
      "metadata": {
        "id": "MAc1N0ZGer5l"
      },
      "source": [
        "В Северной Америке самый популярный жанр за актуальный перио стал Shooter, на втором месте Action, самый не популярный это Misc. В Евпоре 2первых мета такиже как в Северной америке, только Action на первом месте, а Shooter на втором, самый же не популярный Rasing. В Японии, как всегда все наоборот, самый популярный Role-Playing, а Shooter на последнем месте из топ-5 жанров."
      ]
    },
    {
      "cell_type": "markdown",
      "metadata": {
        "id": "SvF-Lmv4er5l"
      },
      "source": [
        "### Оценка влияния рейтинга ESRB на продажи в отдельном регионе"
      ]
    },
    {
      "cell_type": "code",
      "execution_count": null,
      "metadata": {
        "id": "ZlWyy8ACer5l"
      },
      "outputs": [],
      "source": [
        "fig, axes = plt.subplots(1, 3, figsize=(25,6))\n",
        "top_in_regions('rating', 'na_sales', 0)\n",
        "top_in_regions('rating', 'eu_sales', 1)\n",
        "top_in_regions('rating', 'jp_sales', 2)"
      ]
    },
    {
      "cell_type": "markdown",
      "metadata": {
        "id": "ohPk9tmrer5m"
      },
      "source": [
        "В Северной Америке и Европе опять похожие распределения: больше всего продаж с рейтингом М - для взрослых, меньше всего для E10+ -для всех от 10 лет и старше. В Японии больше всего продаж у игр без категории (скорее всего они просто не вводят эти категории, потому что рейтинг Американский) "
      ]
    },
    {
      "cell_type": "markdown",
      "metadata": {
        "id": "uwLvf2l1er5m"
      },
      "source": [
        "<div class=\"alert alert-success\">\n",
        "<font size=\"5\"<b>Комментарий ревьюера</b> </font>\n",
        "    \n",
        "**Успех**\n",
        "\n",
        "Хорошая наблюдательность, действительно - ESRB является американской системой оценки.\n",
        "    \n",
        "</div>"
      ]
    },
    {
      "cell_type": "markdown",
      "metadata": {
        "id": "GUA706cUer5m"
      },
      "source": [
        "Вывод:\n",
        "\n",
        "- Типичный пользователь региона Северная Америка: выбирает shooter(стрелялку) с рейтингом \"для взрослых\" и играет на PS4 и XOne;\n",
        "- Типичный пользователь региона Европа: выбирает экшн с рейтингом \"для взрослых\" и играет на PS4;\n",
        "- Типичный пользователь региона Япония: выбирает ролевые игры с рейтингом без рейтинга и играет на 3DS."
      ]
    },
    {
      "cell_type": "markdown",
      "metadata": {
        "id": "QL4I8HC3er5m"
      },
      "source": [
        "<div class=\"alert alert-warning\">\n",
        "<font size=\"5\"<b>Комментарий ревьюера</b> </font>\n",
        "    \n",
        "**Совет**\n",
        "\n",
        "Сами по себе выводы в работе хороши, но они построены на всем периоде :)\n",
        "    \n",
        "</div>"
      ]
    },
    {
      "cell_type": "markdown",
      "metadata": {
        "id": "Rllpuqorer5m"
      },
      "source": [
        "\n",
        "<div class=\"alert alert-info\"> <b>Комментарий студента:</b> Актуализировала. Конечно так попали реально более новые платформы и более популярные игры </div>"
      ]
    },
    {
      "cell_type": "markdown",
      "metadata": {
        "id": "5WAUs1wSer5n"
      },
      "source": [
        "<div class=\"alert alert-success\">\n",
        "<font size=\"5\"<b>Комментарий ревьюера 2</b> </font>\n",
        "    \n",
        "**Успех**\n",
        "\n",
        "Супер, теперь выводы можно использовать для прогноза\n",
        "    \n",
        "</div>"
      ]
    },
    {
      "cell_type": "markdown",
      "metadata": {
        "id": "ZSBEa0LCer5n"
      },
      "source": [
        "## Проверка гипотез"
      ]
    },
    {
      "cell_type": "markdown",
      "metadata": {
        "id": "3EtACUther5n"
      },
      "source": [
        "### Проверка гипотезы: средние пользовательские рейтинги платформ Xbox One и PC одинаковые"
      ]
    },
    {
      "cell_type": "markdown",
      "metadata": {
        "id": "JOCS2gtIer5n"
      },
      "source": [
        "Сформулируем гипотезы:\n",
        "\n",
        "Нулевая гипотеза H0 - средние пользовательские рейтинги платформ Xbox One и PC одинаковые. Альтернативная гипотеза Н1 - средние пользовательские рейтинги платформ Xbox One и PC неодинаковые."
      ]
    },
    {
      "cell_type": "markdown",
      "metadata": {
        "id": "CqLcKp9ner5n"
      },
      "source": [
        "Создадим 2 таблицы с выборкой по каждому платформе. Рейтинг 0 также учтем в срезе, поскольку нулевой рейтинг у игр реально может быть, а пропуски нулями мы не заполняли."
      ]
    },
    {
      "cell_type": "code",
      "execution_count": null,
      "metadata": {
        "id": "0PKSYQD6er5n"
      },
      "outputs": [],
      "source": [
        "xbox_one_platform = actual_period_data.query('platform == \"XOne\" & user_score >= 0')\n",
        "pc_platform = actual_period_data.query('platform == \"PC\" & user_score >= 0')"
      ]
    },
    {
      "cell_type": "markdown",
      "metadata": {
        "id": "Ns3I59OWer5n"
      },
      "source": [
        "Проверка нормальности распределения выборок"
      ]
    },
    {
      "cell_type": "markdown",
      "metadata": {
        "id": "gr64R0wmer5o"
      },
      "source": [
        "Построим распределения наших выборок и сравним с нормальным"
      ]
    },
    {
      "cell_type": "code",
      "execution_count": null,
      "metadata": {
        "id": "6VJcl5L7er5o"
      },
      "outputs": [],
      "source": [
        "fig, ax = plt.subplots(1 ,2, figsize=(15,5))\n",
        "sns.distplot(xbox_one_platform['user_score'], ax=ax[0])\n",
        "sns.distplot(pc_platform['user_score'], ax=ax[1])\n",
        "ax[0].set(xlabel='Оценка пользователей', title = 'Xbox One' )\n",
        "ax[1].set(xlabel='Оценка пользователей', title = 'PC');"
      ]
    },
    {
      "cell_type": "markdown",
      "metadata": {
        "id": "B5XNXgRVer5o"
      },
      "source": [
        "Для точного принятия решения, проведем еще одну проверку на \"нормальность\" распределения, на qq-графиках (квантиль-квантиль)"
      ]
    },
    {
      "cell_type": "code",
      "execution_count": null,
      "metadata": {
        "id": "9vmoWhZWer5o"
      },
      "outputs": [],
      "source": [
        "plt.figure(figsize=(12,8))\n",
        "plt.subplot(2,2,1)\n",
        "st.probplot(xbox_one_platform['user_score'], dist = 'norm', plot=plt)\n",
        "plt.subplot(2,2,2)\n",
        "st.probplot(pc_platform['user_score'], dist = 'norm', plot=plt);"
      ]
    },
    {
      "cell_type": "markdown",
      "metadata": {
        "id": "-pyCOr0her5o"
      },
      "source": [
        "Красная линия на графиках - qq график нормального распределения, наши же распределения далеки от прямой линии."
      ]
    },
    {
      "cell_type": "markdown",
      "metadata": {
        "id": "_8lRidrder5o"
      },
      "source": [
        "<div class=\"alert alert-success\">\n",
        "<font size=\"5\"<b>Комментарий ревьюера</b> </font>\n",
        "    \n",
        "**Успех**\n",
        "\n",
        "Хорошая подготовка к проверке гипотезы, молодец\n",
        "    \n",
        "</div>"
      ]
    },
    {
      "cell_type": "markdown",
      "metadata": {
        "id": "efs9_Oeler5p"
      },
      "source": [
        "Поскольку распределения не являются нормальными будем использовать критерий Манна-Уитни для проверки гипотез. \n",
        "Критический уровень значимости задаем 0.05 (чтобы правильность вывода была не менее 95%)"
      ]
    },
    {
      "cell_type": "code",
      "execution_count": null,
      "metadata": {
        "id": "bSGSro9Aer5p"
      },
      "outputs": [],
      "source": [
        "alpha = 0.05\n",
        "results = st.mannwhitneyu(xbox_one_platform['user_score'], pc_platform['user_score'])\n",
        "print('p-значение:', results.pvalue)\n",
        "if (results.pvalue < alpha):\n",
        "    print('Отвергаем нулевую гипотезу')\n",
        "else:\n",
        "    print('Принимаем нулевую гипотезу')"
      ]
    },
    {
      "cell_type": "markdown",
      "metadata": {
        "id": "x8uE_-XKer5p"
      },
      "source": [
        "Принимаем нулевую гипотезу, т.е. средние пользовательские рейтинги платформ Xbox One и PC одинаковые."
      ]
    },
    {
      "cell_type": "code",
      "execution_count": null,
      "metadata": {
        "id": "b977mET3er5p"
      },
      "outputs": [],
      "source": [
        "print('Средняя оценка пользователей игр Xbox One  - {:.2f}'.format(xbox_one_platform['user_score'].mean()))\n",
        "print('Средняя оценка пользователей игр PC - {:.2f}'.format(pc_platform['user_score'].mean()))"
      ]
    },
    {
      "cell_type": "markdown",
      "metadata": {
        "id": "_bijYkcUer5p"
      },
      "source": [
        "И правда, средни оценки очень близки"
      ]
    },
    {
      "cell_type": "markdown",
      "metadata": {
        "id": "i6HiomuBer5q"
      },
      "source": [
        "<div class=\"alert alert-danger\">\n",
        "<font size=\"5\"<b>Комментарий ревьюера</b> </font>\n",
        "    \n",
        "**Ошибка**\n",
        "\n",
        "У тебя исказились выводы, так как ты смотришь данные за все года :)\n",
        "    \n",
        "</div>"
      ]
    },
    {
      "cell_type": "markdown",
      "metadata": {
        "id": "F1nerzZMer5q"
      },
      "source": [
        "\n",
        "<div class=\"alert alert-info\"> <b>Комментарий студента:</b> Поправила, но результат остался такой же) </div>"
      ]
    },
    {
      "cell_type": "markdown",
      "metadata": {
        "id": "vHZVv0p4er5q"
      },
      "source": [
        "<div class=\"alert alert-danger\">\n",
        "<font size=\"5\"<b>Комментарий ревьюера 2</b> </font>\n",
        "    \n",
        "**Ошибка**\n",
        "\n",
        "Неа, ты взяла X360, а не XOne :)\n",
        "    \n",
        "</div>"
      ]
    },
    {
      "cell_type": "markdown",
      "metadata": {
        "id": "lz7STlkNer5q"
      },
      "source": [
        "\n",
        "<div class=\"alert alert-info\"> <b>Комментарий студента:</b> Поправила, и результат изменился. Полезно такое наблюдать) Спасибо, буду внимательнее </div>"
      ]
    },
    {
      "cell_type": "markdown",
      "metadata": {
        "id": "Hfn-Y0r_er5q"
      },
      "source": [
        "<div class=\"alert alert-success\">\n",
        "<font size=\"5\"<b>Комментарий ревьюера 3</b> </font>\n",
        "    \n",
        "**Успех**\n",
        "\n",
        "Отлично! \n",
        "    \n",
        "</div>"
      ]
    },
    {
      "cell_type": "markdown",
      "metadata": {
        "id": "nMnizZu_er5q"
      },
      "source": [
        "### Проверка гипотезы: средние пользовательские рейтинги жанров Action и Sports разные."
      ]
    },
    {
      "cell_type": "markdown",
      "metadata": {
        "id": "rUH6rUZqer5r"
      },
      "source": [
        "Сформулируем гипотезы:\n",
        "\n",
        "Нулевая гипотеза H0 - средние пользовательские рейтинги жанров Action и Sports одинаковые. Альтернативная гипотеза Н1 - средние пользовательские рейтинги жанров Action и Sports разные."
      ]
    },
    {
      "cell_type": "markdown",
      "metadata": {
        "id": "NkXv91Fwer5r"
      },
      "source": [
        "Создадим 2 таблицы с выборкой по каждому жанру. Рейтинг 0 также учтем в срезе, поскольку нулевой рейтинг у игр реально может быть, а пропуски нулями мы не заполняли."
      ]
    },
    {
      "cell_type": "code",
      "execution_count": null,
      "metadata": {
        "id": "WWW2fJtxer5r"
      },
      "outputs": [],
      "source": [
        "action_games = actual_period_data.query('genre == \"Action\" & user_score >= 0')\n",
        "sports_games = actual_period_data.query('genre == \"Sports\" & user_score >= 0')"
      ]
    },
    {
      "cell_type": "markdown",
      "metadata": {
        "id": "6eoHFP17er5r"
      },
      "source": [
        "Проведем проверка нормальности распределения выборок, как в предыдущем пункте"
      ]
    },
    {
      "cell_type": "code",
      "execution_count": null,
      "metadata": {
        "id": "WFP9ogOeer5r"
      },
      "outputs": [],
      "source": [
        "fig, ax = plt.subplots(1 ,2, figsize=(15,5))\n",
        "sns.distplot(action_games['user_score'], ax=ax[0])\n",
        "sns.distplot(sports_games['user_score'], ax=ax[1])\n",
        "ax[0].set(xlabel='Оценка пользователей', title = 'Экшн игры' )\n",
        "ax[1].set(xlabel='Оценка пользователей', title = 'Спортивные игры');"
      ]
    },
    {
      "cell_type": "code",
      "execution_count": null,
      "metadata": {
        "id": "E0ypZuYler5s"
      },
      "outputs": [],
      "source": [
        "plt.figure(figsize=(12,8))\n",
        "plt.subplot(2,2,1)\n",
        "st.probplot(action_games['user_score'], dist = 'norm', plot=plt)\n",
        "plt.subplot(2,2,2)\n",
        "st.probplot(sports_games['user_score'], dist = 'norm', plot=plt);"
      ]
    },
    {
      "cell_type": "markdown",
      "metadata": {
        "id": "PQifY4Tler5s"
      },
      "source": [
        "Поскольку распределения не являются нормальными(хотя жанр спорт очень близок к нормальному) будем использовать критерий Манна-Уитни для проверки гипотез (более ниверсальный). \n",
        "Критический уровень значимости задаем 0.05 (чтобы правильность вывода была не менее 95%)"
      ]
    },
    {
      "cell_type": "code",
      "execution_count": null,
      "metadata": {
        "id": "122w8IdAer5s"
      },
      "outputs": [],
      "source": [
        "alpha = 0.05\n",
        "results = st.mannwhitneyu(action_games['user_score'], sports_games['user_score'])\n",
        "print('p-значение:', results.pvalue)\n",
        "if (results.pvalue < alpha):\n",
        "    print('Отвергаем нулевую гипотезу')\n",
        "else:\n",
        "    print('Принимаем нулевую гипотезу')"
      ]
    },
    {
      "cell_type": "markdown",
      "metadata": {
        "id": "3R-gS2_ver5t"
      },
      "source": [
        "Отвергаем нулевую гипотезу, то есть рейтинги жанров экшн и спортивных игр разные"
      ]
    },
    {
      "cell_type": "markdown",
      "metadata": {
        "id": "72s8_fD1er5t"
      },
      "source": [
        "Посмотрим средние оценки пользователей по данным жанрам"
      ]
    },
    {
      "cell_type": "code",
      "execution_count": null,
      "metadata": {
        "scrolled": true,
        "id": "xh2mST9der5t"
      },
      "outputs": [],
      "source": [
        "print('Средняя оценка пользователей игр жанра экшн  - {:.2f}'.format(action_games['user_score'].mean()))\n",
        "print('Средняя оценка пользователей жанра спорт - {:.2f}'.format(sports_games['user_score'].mean()))"
      ]
    },
    {
      "cell_type": "markdown",
      "metadata": {
        "id": "aHPv_N2ger5t"
      },
      "source": [
        "Действительно разница средних оценок игр жанров экшн и спортивных игр есть."
      ]
    },
    {
      "cell_type": "markdown",
      "metadata": {
        "id": "_I-Q_GNder5t"
      },
      "source": [
        "<div class=\"alert alert-danger\">\n",
        "<font size=\"5\"<b>Комментарий ревьюера</b> </font>\n",
        "    \n",
        "**Ошибка**\n",
        "\n",
        "Здесь аналогично - выводы исказились из-за использования данных за все года\n",
        "    \n",
        "</div>"
      ]
    },
    {
      "cell_type": "markdown",
      "metadata": {
        "id": "Hb5yaveaer5t"
      },
      "source": [
        "\n",
        "<div class=\"alert alert-info\"> <b>Комментарий студента:</b> Поправила, а тут вот резульат изменился </div>"
      ]
    },
    {
      "cell_type": "markdown",
      "metadata": {
        "id": "a4PxkIdPer5t"
      },
      "source": [
        "<div class=\"alert alert-success\">\n",
        "<font size=\"5\"<b>Комментарий ревьюера 2</b> </font>\n",
        "    \n",
        "**Успех**\n",
        "\n",
        "Тут все верно :) \n",
        "    \n",
        "</div>"
      ]
    },
    {
      "cell_type": "markdown",
      "metadata": {
        "id": "1WWrnCXSer5u"
      },
      "source": [
        "## Общий вывод"
      ]
    },
    {
      "cell_type": "markdown",
      "metadata": {
        "id": "NW4XqiFver5u"
      },
      "source": [
        " По анализу можно сделать вывод, что самое сильное влияние на итоговую выручку оказывают, в большинстве случаев, оценки критиков в большей степени чем оценки пользователей. \n",
        "\n",
        "Пользователи игр в Европе и Северной Америке в среднем схожи, по жанрам и категориям игр, пользователи же из Японии значительно отличаются. Надо определить политику на какой рынок нацелить продажи. Так типичный пользователь региона Северная Америка выбирает шутер с рейтингом \"для взрослых\" и играет на XOne или PS4; типичный пользователь региона Европа: выбирает экшн с рейтингом \"для взрослых\" и играет на PS4; типичный пользователь региона Япония: выбирает ролевые игры с рейтингом без рейтинга и играет на 3DS.\n",
        "\n",
        "В целом рынок компьютерных игр для игровых платформ идет на убыль по продажам игр. Тут могут играть роль развитие мобильных игр, а также несанкционированное скачbвание игр с пиратских ресурсов.  С 2008 произошел резкий спад релиза игр. За весь период  приставок самые популярные оказались: PS2, X360, PS3, WII и DS, PS для японского рынка. Также выявили,что средняя продолжительность жизни игровой приставки составляет порядка 10 лет. Самый пик продаж наступает примерно через 3-5 лет после выпуска игры. Платформа XOne набирает полулярность среди жителей Севреной Америки и Европы.\n",
        "\n",
        "Самый  за последние 10 лет это жанр Action. Растет в продажах жанр shooter. Однако производство игр в жанрах Action или Shooter обходится сильно дороже других игр."
      ]
    }
  ],
  "metadata": {
    "ExecuteTimeLog": [
      {
        "duration": 83,
        "start_time": "2022-01-31T07:34:56.781Z"
      },
      {
        "duration": 1116,
        "start_time": "2022-01-31T07:35:02.413Z"
      },
      {
        "duration": 40,
        "start_time": "2022-01-31T07:38:27.356Z"
      },
      {
        "duration": 10,
        "start_time": "2022-01-31T07:41:06.720Z"
      },
      {
        "duration": 9,
        "start_time": "2022-01-31T07:42:19.310Z"
      },
      {
        "duration": 334,
        "start_time": "2022-01-31T07:42:58.982Z"
      },
      {
        "duration": 10,
        "start_time": "2022-01-31T07:43:35.750Z"
      },
      {
        "duration": 259,
        "start_time": "2022-01-31T07:44:14.780Z"
      },
      {
        "duration": 274,
        "start_time": "2022-01-31T07:44:46.772Z"
      },
      {
        "duration": 11,
        "start_time": "2022-01-31T07:47:47.439Z"
      },
      {
        "duration": 13,
        "start_time": "2022-01-31T07:48:08.590Z"
      },
      {
        "duration": 30,
        "start_time": "2022-01-31T07:48:48.245Z"
      },
      {
        "duration": 13,
        "start_time": "2022-01-31T07:49:01.502Z"
      },
      {
        "duration": 22,
        "start_time": "2022-01-31T07:50:56.291Z"
      },
      {
        "duration": 4,
        "start_time": "2022-01-31T08:01:30.324Z"
      },
      {
        "duration": 10,
        "start_time": "2022-01-31T08:02:05.797Z"
      },
      {
        "duration": 5,
        "start_time": "2022-01-31T08:09:04.372Z"
      },
      {
        "duration": 316,
        "start_time": "2022-01-31T08:10:24.419Z"
      },
      {
        "duration": 13,
        "start_time": "2022-01-31T08:10:30.282Z"
      },
      {
        "duration": 291,
        "start_time": "2022-01-31T08:10:56.506Z"
      },
      {
        "duration": 252,
        "start_time": "2022-01-31T08:11:01.593Z"
      },
      {
        "duration": 24,
        "start_time": "2022-01-31T08:11:08.100Z"
      },
      {
        "duration": 21,
        "start_time": "2022-01-31T08:11:11.714Z"
      },
      {
        "duration": 7,
        "start_time": "2022-01-31T08:13:57.518Z"
      },
      {
        "duration": 7,
        "start_time": "2022-01-31T08:17:52.801Z"
      },
      {
        "duration": 8,
        "start_time": "2022-01-31T08:17:58.201Z"
      },
      {
        "duration": 5,
        "start_time": "2022-01-31T08:22:20.043Z"
      },
      {
        "duration": 7,
        "start_time": "2022-01-31T08:24:23.384Z"
      },
      {
        "duration": 6,
        "start_time": "2022-01-31T08:24:41.537Z"
      },
      {
        "duration": 8,
        "start_time": "2022-01-31T08:24:57.224Z"
      },
      {
        "duration": 7,
        "start_time": "2022-01-31T08:25:22.735Z"
      },
      {
        "duration": 5,
        "start_time": "2022-01-31T08:26:44.485Z"
      },
      {
        "duration": 5,
        "start_time": "2022-01-31T08:27:18.554Z"
      },
      {
        "duration": 11,
        "start_time": "2022-01-31T08:27:52.564Z"
      },
      {
        "duration": 18,
        "start_time": "2022-01-31T08:29:45.045Z"
      },
      {
        "duration": 4,
        "start_time": "2022-01-31T08:37:58.655Z"
      },
      {
        "duration": 5,
        "start_time": "2022-01-31T08:39:52.885Z"
      },
      {
        "duration": 9,
        "start_time": "2022-01-31T08:39:59.677Z"
      },
      {
        "duration": 4,
        "start_time": "2022-01-31T08:40:47.701Z"
      },
      {
        "duration": 5,
        "start_time": "2022-01-31T08:41:12.931Z"
      },
      {
        "duration": 244,
        "start_time": "2022-01-31T08:41:35.555Z"
      },
      {
        "duration": 5,
        "start_time": "2022-01-31T08:41:40.546Z"
      },
      {
        "duration": 287,
        "start_time": "2022-01-31T08:42:08.979Z"
      },
      {
        "duration": 284,
        "start_time": "2022-01-31T08:43:02.473Z"
      },
      {
        "duration": 248,
        "start_time": "2022-01-31T08:43:09.032Z"
      },
      {
        "duration": 238,
        "start_time": "2022-01-31T08:43:28.281Z"
      },
      {
        "duration": 6,
        "start_time": "2022-01-31T08:43:35.048Z"
      },
      {
        "duration": 79,
        "start_time": "2022-01-31T08:43:41.473Z"
      },
      {
        "duration": 86,
        "start_time": "2022-01-31T08:43:58.151Z"
      },
      {
        "duration": 85,
        "start_time": "2022-01-31T08:43:59.767Z"
      },
      {
        "duration": 83,
        "start_time": "2022-01-31T08:45:42.454Z"
      },
      {
        "duration": 276,
        "start_time": "2022-01-31T08:45:49.929Z"
      },
      {
        "duration": 272,
        "start_time": "2022-01-31T08:47:49.501Z"
      },
      {
        "duration": 419,
        "start_time": "2022-01-31T08:48:09.212Z"
      },
      {
        "duration": 247,
        "start_time": "2022-01-31T08:49:33.387Z"
      },
      {
        "duration": 252,
        "start_time": "2022-01-31T08:49:38.400Z"
      },
      {
        "duration": 9,
        "start_time": "2022-01-31T08:49:44.554Z"
      },
      {
        "duration": 10,
        "start_time": "2022-01-31T08:49:55.537Z"
      },
      {
        "duration": 11,
        "start_time": "2022-01-31T08:50:25.900Z"
      },
      {
        "duration": 43,
        "start_time": "2022-01-31T08:50:25.913Z"
      },
      {
        "duration": 11,
        "start_time": "2022-01-31T08:50:25.959Z"
      },
      {
        "duration": 32,
        "start_time": "2022-01-31T08:50:25.972Z"
      },
      {
        "duration": 14,
        "start_time": "2022-01-31T08:50:26.006Z"
      },
      {
        "duration": 6,
        "start_time": "2022-01-31T08:50:26.022Z"
      },
      {
        "duration": 38,
        "start_time": "2022-01-31T08:50:26.030Z"
      },
      {
        "duration": 5,
        "start_time": "2022-01-31T08:50:26.070Z"
      },
      {
        "duration": 9,
        "start_time": "2022-01-31T08:50:26.077Z"
      },
      {
        "duration": 10,
        "start_time": "2022-01-31T08:50:26.088Z"
      },
      {
        "duration": 13,
        "start_time": "2022-01-31T08:50:26.100Z"
      },
      {
        "duration": 6,
        "start_time": "2022-01-31T08:50:26.115Z"
      },
      {
        "duration": 13,
        "start_time": "2022-01-31T08:50:26.122Z"
      },
      {
        "duration": 32,
        "start_time": "2022-01-31T08:50:26.137Z"
      },
      {
        "duration": 5,
        "start_time": "2022-01-31T08:50:26.171Z"
      },
      {
        "duration": 10,
        "start_time": "2022-01-31T08:50:26.177Z"
      },
      {
        "duration": 21,
        "start_time": "2022-01-31T08:50:26.188Z"
      },
      {
        "duration": 16,
        "start_time": "2022-01-31T08:50:26.211Z"
      },
      {
        "duration": 8,
        "start_time": "2022-01-31T08:50:26.229Z"
      },
      {
        "duration": 6,
        "start_time": "2022-01-31T08:51:07.392Z"
      },
      {
        "duration": 261,
        "start_time": "2022-01-31T08:51:13.335Z"
      },
      {
        "duration": 254,
        "start_time": "2022-01-31T08:51:21.047Z"
      },
      {
        "duration": 9,
        "start_time": "2022-01-31T08:51:36.118Z"
      },
      {
        "duration": 6,
        "start_time": "2022-01-31T08:51:37.151Z"
      },
      {
        "duration": 12,
        "start_time": "2022-01-31T08:51:49.369Z"
      },
      {
        "duration": 50,
        "start_time": "2022-01-31T08:51:49.383Z"
      },
      {
        "duration": 13,
        "start_time": "2022-01-31T08:51:49.435Z"
      },
      {
        "duration": 29,
        "start_time": "2022-01-31T08:51:49.450Z"
      },
      {
        "duration": 12,
        "start_time": "2022-01-31T08:51:49.481Z"
      },
      {
        "duration": 10,
        "start_time": "2022-01-31T08:51:49.494Z"
      },
      {
        "duration": 15,
        "start_time": "2022-01-31T08:51:49.505Z"
      },
      {
        "duration": 9,
        "start_time": "2022-01-31T08:51:49.522Z"
      },
      {
        "duration": 9,
        "start_time": "2022-01-31T08:51:49.533Z"
      },
      {
        "duration": 17,
        "start_time": "2022-01-31T08:51:49.544Z"
      },
      {
        "duration": 8,
        "start_time": "2022-01-31T08:51:49.562Z"
      },
      {
        "duration": 7,
        "start_time": "2022-01-31T08:51:49.572Z"
      },
      {
        "duration": 14,
        "start_time": "2022-01-31T08:51:49.581Z"
      },
      {
        "duration": 9,
        "start_time": "2022-01-31T08:51:49.597Z"
      },
      {
        "duration": 6,
        "start_time": "2022-01-31T08:51:49.607Z"
      },
      {
        "duration": 10,
        "start_time": "2022-01-31T08:51:49.615Z"
      },
      {
        "duration": 33,
        "start_time": "2022-01-31T08:51:49.627Z"
      },
      {
        "duration": 5,
        "start_time": "2022-01-31T08:51:49.663Z"
      },
      {
        "duration": 5,
        "start_time": "2022-01-31T08:53:08.462Z"
      },
      {
        "duration": 10,
        "start_time": "2022-01-31T08:53:12.213Z"
      },
      {
        "duration": 4,
        "start_time": "2022-01-31T08:53:21.636Z"
      },
      {
        "duration": 11,
        "start_time": "2022-01-31T08:53:40.932Z"
      },
      {
        "duration": 5,
        "start_time": "2022-01-31T08:53:57.932Z"
      },
      {
        "duration": 5,
        "start_time": "2022-01-31T08:54:01.732Z"
      },
      {
        "duration": 6,
        "start_time": "2022-01-31T08:54:02.307Z"
      },
      {
        "duration": 5,
        "start_time": "2022-01-31T08:54:15.635Z"
      },
      {
        "duration": 5,
        "start_time": "2022-01-31T08:54:16.219Z"
      },
      {
        "duration": 1305,
        "start_time": "2022-01-31T08:54:23.755Z"
      },
      {
        "duration": 40,
        "start_time": "2022-01-31T08:54:25.062Z"
      },
      {
        "duration": 10,
        "start_time": "2022-01-31T08:54:25.104Z"
      },
      {
        "duration": 37,
        "start_time": "2022-01-31T08:54:25.116Z"
      },
      {
        "duration": 13,
        "start_time": "2022-01-31T08:54:25.161Z"
      },
      {
        "duration": 5,
        "start_time": "2022-01-31T08:54:25.176Z"
      },
      {
        "duration": 14,
        "start_time": "2022-01-31T08:54:25.183Z"
      },
      {
        "duration": 8,
        "start_time": "2022-01-31T08:54:25.200Z"
      },
      {
        "duration": 10,
        "start_time": "2022-01-31T08:54:25.210Z"
      },
      {
        "duration": 9,
        "start_time": "2022-01-31T08:54:25.222Z"
      },
      {
        "duration": 32,
        "start_time": "2022-01-31T08:54:25.233Z"
      },
      {
        "duration": 5,
        "start_time": "2022-01-31T08:54:25.266Z"
      },
      {
        "duration": 14,
        "start_time": "2022-01-31T08:54:25.272Z"
      },
      {
        "duration": 7,
        "start_time": "2022-01-31T08:54:25.288Z"
      },
      {
        "duration": 5,
        "start_time": "2022-01-31T08:54:25.297Z"
      },
      {
        "duration": 9,
        "start_time": "2022-01-31T08:54:25.304Z"
      },
      {
        "duration": 7,
        "start_time": "2022-01-31T08:54:25.314Z"
      },
      {
        "duration": 8,
        "start_time": "2022-01-31T08:54:25.323Z"
      },
      {
        "duration": 48,
        "start_time": "2022-01-31T08:54:25.333Z"
      },
      {
        "duration": 11,
        "start_time": "2022-01-31T08:54:25.383Z"
      },
      {
        "duration": 24,
        "start_time": "2022-01-31T08:54:25.395Z"
      },
      {
        "duration": 364,
        "start_time": "2022-01-31T08:55:18.324Z"
      },
      {
        "duration": 5,
        "start_time": "2022-01-31T08:55:25.910Z"
      },
      {
        "duration": 9,
        "start_time": "2022-01-31T08:55:29.156Z"
      },
      {
        "duration": 5,
        "start_time": "2022-01-31T08:55:41.916Z"
      },
      {
        "duration": 5,
        "start_time": "2022-01-31T08:55:48.134Z"
      },
      {
        "duration": 5,
        "start_time": "2022-01-31T08:55:49.099Z"
      },
      {
        "duration": 255,
        "start_time": "2022-01-31T08:56:06.075Z"
      },
      {
        "duration": 278,
        "start_time": "2022-01-31T08:56:12.379Z"
      },
      {
        "duration": 5,
        "start_time": "2022-01-31T08:56:20.498Z"
      },
      {
        "duration": 1244,
        "start_time": "2022-01-31T08:56:36.887Z"
      },
      {
        "duration": 40,
        "start_time": "2022-01-31T08:56:38.133Z"
      },
      {
        "duration": 12,
        "start_time": "2022-01-31T08:56:38.178Z"
      },
      {
        "duration": 32,
        "start_time": "2022-01-31T08:56:38.193Z"
      },
      {
        "duration": 35,
        "start_time": "2022-01-31T08:56:38.227Z"
      },
      {
        "duration": 7,
        "start_time": "2022-01-31T08:56:38.264Z"
      },
      {
        "duration": 12,
        "start_time": "2022-01-31T08:56:38.274Z"
      },
      {
        "duration": 8,
        "start_time": "2022-01-31T08:56:38.289Z"
      },
      {
        "duration": 13,
        "start_time": "2022-01-31T08:56:38.299Z"
      },
      {
        "duration": 7,
        "start_time": "2022-01-31T08:56:38.313Z"
      },
      {
        "duration": 12,
        "start_time": "2022-01-31T08:56:38.321Z"
      },
      {
        "duration": 29,
        "start_time": "2022-01-31T08:56:38.335Z"
      },
      {
        "duration": 13,
        "start_time": "2022-01-31T08:56:38.366Z"
      },
      {
        "duration": 11,
        "start_time": "2022-01-31T08:56:38.381Z"
      },
      {
        "duration": 5,
        "start_time": "2022-01-31T08:56:38.394Z"
      },
      {
        "duration": 6,
        "start_time": "2022-01-31T08:56:38.401Z"
      },
      {
        "duration": 5,
        "start_time": "2022-01-31T08:56:38.409Z"
      },
      {
        "duration": 11,
        "start_time": "2022-01-31T08:56:38.416Z"
      },
      {
        "duration": 37,
        "start_time": "2022-01-31T08:56:38.428Z"
      },
      {
        "duration": 9,
        "start_time": "2022-01-31T08:56:38.467Z"
      },
      {
        "duration": 9,
        "start_time": "2022-01-31T08:56:38.478Z"
      },
      {
        "duration": 9,
        "start_time": "2022-01-31T08:56:38.490Z"
      },
      {
        "duration": 396,
        "start_time": "2022-01-31T10:01:22.784Z"
      },
      {
        "duration": 9,
        "start_time": "2022-01-31T10:01:45.496Z"
      },
      {
        "duration": 272,
        "start_time": "2022-01-31T10:02:02.856Z"
      },
      {
        "duration": 791,
        "start_time": "2022-01-31T10:02:37.351Z"
      },
      {
        "duration": 11,
        "start_time": "2022-01-31T10:02:44.026Z"
      },
      {
        "duration": 8,
        "start_time": "2022-01-31T10:02:54.606Z"
      },
      {
        "duration": 24,
        "start_time": "2022-01-31T10:03:59.821Z"
      },
      {
        "duration": 16,
        "start_time": "2022-01-31T10:04:27.825Z"
      },
      {
        "duration": 281,
        "start_time": "2022-01-31T10:23:21.061Z"
      },
      {
        "duration": 381,
        "start_time": "2022-01-31T10:23:32.192Z"
      },
      {
        "duration": 262,
        "start_time": "2022-01-31T10:23:42.397Z"
      },
      {
        "duration": 5,
        "start_time": "2022-01-31T10:23:46.140Z"
      },
      {
        "duration": 9,
        "start_time": "2022-01-31T10:25:47.737Z"
      },
      {
        "duration": 10,
        "start_time": "2022-01-31T10:28:25.097Z"
      },
      {
        "duration": 16,
        "start_time": "2022-01-31T10:29:20.622Z"
      },
      {
        "duration": 253,
        "start_time": "2022-01-31T10:33:42.320Z"
      },
      {
        "duration": 339,
        "start_time": "2022-01-31T10:34:07.616Z"
      },
      {
        "duration": 333,
        "start_time": "2022-01-31T10:34:14.943Z"
      },
      {
        "duration": 328,
        "start_time": "2022-01-31T10:34:20.687Z"
      },
      {
        "duration": 299,
        "start_time": "2022-01-31T10:34:30.974Z"
      },
      {
        "duration": 767,
        "start_time": "2022-01-31T10:34:40.174Z"
      },
      {
        "duration": 7,
        "start_time": "2022-01-31T10:35:07.006Z"
      },
      {
        "duration": 25,
        "start_time": "2022-01-31T10:35:08.639Z"
      },
      {
        "duration": 268,
        "start_time": "2022-01-31T10:35:18.719Z"
      },
      {
        "duration": 5,
        "start_time": "2022-01-31T10:35:25.405Z"
      },
      {
        "duration": 17,
        "start_time": "2022-01-31T10:35:27.173Z"
      },
      {
        "duration": 3188,
        "start_time": "2022-01-31T10:35:28.989Z"
      },
      {
        "duration": 5,
        "start_time": "2022-01-31T10:39:21.545Z"
      },
      {
        "duration": 263,
        "start_time": "2022-01-31T10:39:29.178Z"
      },
      {
        "duration": 713,
        "start_time": "2022-01-31T10:39:34.773Z"
      },
      {
        "duration": 11,
        "start_time": "2022-01-31T10:39:41.343Z"
      },
      {
        "duration": 4,
        "start_time": "2022-01-31T10:41:15.480Z"
      },
      {
        "duration": 623,
        "start_time": "2022-01-31T10:41:18.474Z"
      },
      {
        "duration": 4,
        "start_time": "2022-01-31T10:41:54.141Z"
      },
      {
        "duration": 607,
        "start_time": "2022-01-31T10:41:55.691Z"
      },
      {
        "duration": 4,
        "start_time": "2022-01-31T10:43:50.091Z"
      },
      {
        "duration": 974,
        "start_time": "2022-01-31T10:43:51.498Z"
      },
      {
        "duration": 4,
        "start_time": "2022-01-31T10:44:05.442Z"
      },
      {
        "duration": 758,
        "start_time": "2022-01-31T10:44:06.374Z"
      },
      {
        "duration": 4,
        "start_time": "2022-01-31T10:44:21.033Z"
      },
      {
        "duration": 677,
        "start_time": "2022-01-31T10:44:22.209Z"
      },
      {
        "duration": 4,
        "start_time": "2022-01-31T10:44:53.344Z"
      },
      {
        "duration": 660,
        "start_time": "2022-01-31T10:44:53.945Z"
      },
      {
        "duration": 15,
        "start_time": "2022-01-31T10:46:21.768Z"
      },
      {
        "duration": 4,
        "start_time": "2022-01-31T10:46:26.952Z"
      },
      {
        "duration": 737,
        "start_time": "2022-01-31T10:46:27.672Z"
      },
      {
        "duration": 260,
        "start_time": "2022-01-31T10:48:59.795Z"
      },
      {
        "duration": 554,
        "start_time": "2022-01-31T10:49:04.603Z"
      },
      {
        "duration": 476,
        "start_time": "2022-01-31T10:49:49.691Z"
      },
      {
        "duration": 692,
        "start_time": "2022-01-31T10:49:59.506Z"
      },
      {
        "duration": 700,
        "start_time": "2022-01-31T10:50:39.089Z"
      },
      {
        "duration": 919,
        "start_time": "2022-01-31T10:50:59.841Z"
      },
      {
        "duration": 559,
        "start_time": "2022-01-31T10:51:38.659Z"
      },
      {
        "duration": 572,
        "start_time": "2022-01-31T10:51:59.601Z"
      },
      {
        "duration": 1247,
        "start_time": "2022-01-31T10:52:24.893Z"
      },
      {
        "duration": 45,
        "start_time": "2022-01-31T10:52:26.142Z"
      },
      {
        "duration": 10,
        "start_time": "2022-01-31T10:52:26.192Z"
      },
      {
        "duration": 35,
        "start_time": "2022-01-31T10:52:26.203Z"
      },
      {
        "duration": 36,
        "start_time": "2022-01-31T10:52:26.239Z"
      },
      {
        "duration": 13,
        "start_time": "2022-01-31T10:52:26.277Z"
      },
      {
        "duration": 21,
        "start_time": "2022-01-31T10:52:26.293Z"
      },
      {
        "duration": 24,
        "start_time": "2022-01-31T10:52:26.316Z"
      },
      {
        "duration": 15,
        "start_time": "2022-01-31T10:52:26.342Z"
      },
      {
        "duration": 23,
        "start_time": "2022-01-31T10:52:26.358Z"
      },
      {
        "duration": 24,
        "start_time": "2022-01-31T10:52:26.382Z"
      },
      {
        "duration": 15,
        "start_time": "2022-01-31T10:52:26.408Z"
      },
      {
        "duration": 33,
        "start_time": "2022-01-31T10:52:26.424Z"
      },
      {
        "duration": 28,
        "start_time": "2022-01-31T10:52:26.459Z"
      },
      {
        "duration": 12,
        "start_time": "2022-01-31T10:52:26.489Z"
      },
      {
        "duration": 15,
        "start_time": "2022-01-31T10:52:26.503Z"
      },
      {
        "duration": 7,
        "start_time": "2022-01-31T10:52:26.520Z"
      },
      {
        "duration": 27,
        "start_time": "2022-01-31T10:52:26.528Z"
      },
      {
        "duration": 42,
        "start_time": "2022-01-31T10:52:26.557Z"
      },
      {
        "duration": 29,
        "start_time": "2022-01-31T10:52:26.601Z"
      },
      {
        "duration": 23,
        "start_time": "2022-01-31T10:52:26.631Z"
      },
      {
        "duration": 35,
        "start_time": "2022-01-31T10:52:26.658Z"
      },
      {
        "duration": 41,
        "start_time": "2022-01-31T10:52:26.695Z"
      },
      {
        "duration": 405,
        "start_time": "2022-01-31T10:52:26.737Z"
      },
      {
        "duration": 4,
        "start_time": "2022-01-31T10:52:27.144Z"
      },
      {
        "duration": 5,
        "start_time": "2022-01-31T10:52:27.163Z"
      },
      {
        "duration": 33,
        "start_time": "2022-01-31T10:52:27.170Z"
      },
      {
        "duration": 29,
        "start_time": "2022-01-31T10:52:27.205Z"
      },
      {
        "duration": 39,
        "start_time": "2022-01-31T10:52:27.235Z"
      },
      {
        "duration": 703,
        "start_time": "2022-01-31T10:52:27.276Z"
      },
      {
        "duration": 611,
        "start_time": "2022-01-31T10:52:27.980Z"
      },
      {
        "duration": 637,
        "start_time": "2022-01-31T10:52:48.495Z"
      },
      {
        "duration": 707,
        "start_time": "2022-01-31T11:05:26.288Z"
      },
      {
        "duration": 4,
        "start_time": "2022-01-31T11:10:10.304Z"
      },
      {
        "duration": 773,
        "start_time": "2022-01-31T11:10:11.602Z"
      },
      {
        "duration": 655,
        "start_time": "2022-01-31T11:10:13.984Z"
      },
      {
        "duration": 5,
        "start_time": "2022-01-31T11:10:36.823Z"
      },
      {
        "duration": 650,
        "start_time": "2022-01-31T11:10:37.727Z"
      },
      {
        "duration": 668,
        "start_time": "2022-01-31T11:10:39.644Z"
      },
      {
        "duration": 6,
        "start_time": "2022-01-31T11:11:01.495Z"
      },
      {
        "duration": 1019,
        "start_time": "2022-01-31T11:11:02.016Z"
      },
      {
        "duration": 493,
        "start_time": "2022-01-31T11:11:03.991Z"
      },
      {
        "duration": 1187,
        "start_time": "2022-01-31T11:11:17.753Z"
      },
      {
        "duration": 40,
        "start_time": "2022-01-31T11:11:18.943Z"
      },
      {
        "duration": 11,
        "start_time": "2022-01-31T11:11:18.986Z"
      },
      {
        "duration": 32,
        "start_time": "2022-01-31T11:11:18.999Z"
      },
      {
        "duration": 35,
        "start_time": "2022-01-31T11:11:19.033Z"
      },
      {
        "duration": 6,
        "start_time": "2022-01-31T11:11:19.070Z"
      },
      {
        "duration": 13,
        "start_time": "2022-01-31T11:11:19.077Z"
      },
      {
        "duration": 8,
        "start_time": "2022-01-31T11:11:19.093Z"
      },
      {
        "duration": 12,
        "start_time": "2022-01-31T11:11:19.103Z"
      },
      {
        "duration": 7,
        "start_time": "2022-01-31T11:11:19.117Z"
      },
      {
        "duration": 38,
        "start_time": "2022-01-31T11:11:19.126Z"
      },
      {
        "duration": 5,
        "start_time": "2022-01-31T11:11:19.166Z"
      },
      {
        "duration": 15,
        "start_time": "2022-01-31T11:11:19.172Z"
      },
      {
        "duration": 9,
        "start_time": "2022-01-31T11:11:19.189Z"
      },
      {
        "duration": 7,
        "start_time": "2022-01-31T11:11:19.200Z"
      },
      {
        "duration": 7,
        "start_time": "2022-01-31T11:11:19.209Z"
      },
      {
        "duration": 9,
        "start_time": "2022-01-31T11:11:19.218Z"
      },
      {
        "duration": 33,
        "start_time": "2022-01-31T11:11:19.229Z"
      },
      {
        "duration": 8,
        "start_time": "2022-01-31T11:11:19.264Z"
      },
      {
        "duration": 13,
        "start_time": "2022-01-31T11:11:19.274Z"
      },
      {
        "duration": 11,
        "start_time": "2022-01-31T11:11:19.288Z"
      },
      {
        "duration": 16,
        "start_time": "2022-01-31T11:11:19.300Z"
      },
      {
        "duration": 16,
        "start_time": "2022-01-31T11:11:19.319Z"
      },
      {
        "duration": 390,
        "start_time": "2022-01-31T11:11:19.337Z"
      },
      {
        "duration": 4,
        "start_time": "2022-01-31T11:11:19.729Z"
      },
      {
        "duration": 6,
        "start_time": "2022-01-31T11:11:19.734Z"
      },
      {
        "duration": 28,
        "start_time": "2022-01-31T11:11:19.742Z"
      },
      {
        "duration": 4,
        "start_time": "2022-01-31T11:11:19.772Z"
      },
      {
        "duration": 5,
        "start_time": "2022-01-31T11:11:19.778Z"
      },
      {
        "duration": 679,
        "start_time": "2022-01-31T11:11:19.784Z"
      },
      {
        "duration": 617,
        "start_time": "2022-01-31T11:11:20.465Z"
      },
      {
        "duration": 4,
        "start_time": "2022-01-31T11:11:47.373Z"
      },
      {
        "duration": 661,
        "start_time": "2022-01-31T11:11:47.849Z"
      },
      {
        "duration": 598,
        "start_time": "2022-01-31T11:11:50.026Z"
      },
      {
        "duration": 246,
        "start_time": "2022-01-31T11:14:08.006Z"
      },
      {
        "duration": 2580,
        "start_time": "2022-01-31T11:14:32.622Z"
      },
      {
        "duration": 2567,
        "start_time": "2022-01-31T11:17:44.984Z"
      },
      {
        "duration": 2513,
        "start_time": "2022-01-31T11:18:16.171Z"
      },
      {
        "duration": 2584,
        "start_time": "2022-01-31T11:20:09.335Z"
      },
      {
        "duration": 2494,
        "start_time": "2022-01-31T11:20:21.458Z"
      },
      {
        "duration": 2631,
        "start_time": "2022-01-31T11:21:04.793Z"
      },
      {
        "duration": 2547,
        "start_time": "2022-01-31T11:21:10.630Z"
      },
      {
        "duration": 4211,
        "start_time": "2022-01-31T11:28:38.037Z"
      },
      {
        "duration": 2685,
        "start_time": "2022-01-31T11:29:23.388Z"
      },
      {
        "duration": 4351,
        "start_time": "2022-01-31T11:29:26.075Z"
      },
      {
        "duration": 4288,
        "start_time": "2022-01-31T11:30:07.894Z"
      },
      {
        "duration": 2718,
        "start_time": "2022-01-31T11:30:30.356Z"
      },
      {
        "duration": 90,
        "start_time": "2022-01-31T11:34:41.273Z"
      },
      {
        "duration": 7,
        "start_time": "2022-01-31T11:34:58.481Z"
      },
      {
        "duration": 581,
        "start_time": "2022-01-31T11:36:44.180Z"
      },
      {
        "duration": 4171,
        "start_time": "2022-01-31T11:37:28.106Z"
      },
      {
        "duration": 603,
        "start_time": "2022-01-31T11:38:00.034Z"
      },
      {
        "duration": 610,
        "start_time": "2022-01-31T11:38:08.473Z"
      },
      {
        "duration": 4093,
        "start_time": "2022-01-31T11:39:20.063Z"
      },
      {
        "duration": 246,
        "start_time": "2022-01-31T11:46:57.358Z"
      },
      {
        "duration": 291,
        "start_time": "2022-01-31T11:47:14.324Z"
      },
      {
        "duration": 330,
        "start_time": "2022-01-31T11:47:20.676Z"
      },
      {
        "duration": 767,
        "start_time": "2022-01-31T11:47:27.704Z"
      },
      {
        "duration": 85,
        "start_time": "2022-01-31T11:47:32.364Z"
      },
      {
        "duration": 672,
        "start_time": "2022-01-31T11:47:34.837Z"
      },
      {
        "duration": 720,
        "start_time": "2022-01-31T11:48:46.411Z"
      },
      {
        "duration": 91,
        "start_time": "2022-01-31T11:49:01.947Z"
      },
      {
        "duration": 635,
        "start_time": "2022-01-31T11:49:08.227Z"
      },
      {
        "duration": 240,
        "start_time": "2022-01-31T11:52:06.415Z"
      },
      {
        "duration": 21,
        "start_time": "2022-01-31T11:52:15.254Z"
      },
      {
        "duration": 565,
        "start_time": "2022-01-31T11:54:13.517Z"
      },
      {
        "duration": 678,
        "start_time": "2022-01-31T11:54:52.948Z"
      },
      {
        "duration": 872,
        "start_time": "2022-01-31T11:55:54.421Z"
      },
      {
        "duration": 862,
        "start_time": "2022-01-31T11:56:05.588Z"
      },
      {
        "duration": 607,
        "start_time": "2022-01-31T11:56:12.778Z"
      },
      {
        "duration": 590,
        "start_time": "2022-01-31T11:57:39.281Z"
      },
      {
        "duration": 615,
        "start_time": "2022-01-31T11:57:47.210Z"
      },
      {
        "duration": 87,
        "start_time": "2022-01-31T11:57:57.080Z"
      },
      {
        "duration": 637,
        "start_time": "2022-01-31T11:58:02.175Z"
      },
      {
        "duration": 269,
        "start_time": "2022-01-31T12:02:35.194Z"
      },
      {
        "duration": 1157,
        "start_time": "2022-01-31T12:03:02.692Z"
      },
      {
        "duration": 40,
        "start_time": "2022-01-31T12:03:03.851Z"
      },
      {
        "duration": 10,
        "start_time": "2022-01-31T12:03:03.894Z"
      },
      {
        "duration": 31,
        "start_time": "2022-01-31T12:03:03.906Z"
      },
      {
        "duration": 26,
        "start_time": "2022-01-31T12:03:03.939Z"
      },
      {
        "duration": 8,
        "start_time": "2022-01-31T12:03:03.967Z"
      },
      {
        "duration": 14,
        "start_time": "2022-01-31T12:03:03.977Z"
      },
      {
        "duration": 5,
        "start_time": "2022-01-31T12:03:03.994Z"
      },
      {
        "duration": 11,
        "start_time": "2022-01-31T12:03:04.001Z"
      },
      {
        "duration": 9,
        "start_time": "2022-01-31T12:03:04.014Z"
      },
      {
        "duration": 11,
        "start_time": "2022-01-31T12:03:04.024Z"
      },
      {
        "duration": 28,
        "start_time": "2022-01-31T12:03:04.037Z"
      },
      {
        "duration": 12,
        "start_time": "2022-01-31T12:03:04.067Z"
      },
      {
        "duration": 9,
        "start_time": "2022-01-31T12:03:04.081Z"
      },
      {
        "duration": 6,
        "start_time": "2022-01-31T12:03:04.092Z"
      },
      {
        "duration": 6,
        "start_time": "2022-01-31T12:03:04.100Z"
      },
      {
        "duration": 7,
        "start_time": "2022-01-31T12:03:04.108Z"
      },
      {
        "duration": 44,
        "start_time": "2022-01-31T12:03:04.116Z"
      },
      {
        "duration": 6,
        "start_time": "2022-01-31T12:03:04.163Z"
      },
      {
        "duration": 10,
        "start_time": "2022-01-31T12:03:04.170Z"
      },
      {
        "duration": 5,
        "start_time": "2022-01-31T12:03:04.182Z"
      },
      {
        "duration": 11,
        "start_time": "2022-01-31T12:03:04.188Z"
      },
      {
        "duration": 20,
        "start_time": "2022-01-31T12:03:04.202Z"
      },
      {
        "duration": 428,
        "start_time": "2022-01-31T12:03:04.225Z"
      },
      {
        "duration": 8,
        "start_time": "2022-01-31T12:03:04.655Z"
      },
      {
        "duration": 27,
        "start_time": "2022-01-31T12:03:04.665Z"
      },
      {
        "duration": 20,
        "start_time": "2022-01-31T12:03:04.694Z"
      },
      {
        "duration": 6,
        "start_time": "2022-01-31T12:03:04.716Z"
      },
      {
        "duration": 10,
        "start_time": "2022-01-31T12:03:04.723Z"
      },
      {
        "duration": 679,
        "start_time": "2022-01-31T12:03:04.735Z"
      },
      {
        "duration": 568,
        "start_time": "2022-01-31T12:03:05.415Z"
      },
      {
        "duration": 4115,
        "start_time": "2022-01-31T12:03:05.984Z"
      },
      {
        "duration": 611,
        "start_time": "2022-01-31T12:03:10.101Z"
      },
      {
        "duration": 22,
        "start_time": "2022-01-31T12:03:10.714Z"
      },
      {
        "duration": 629,
        "start_time": "2022-01-31T12:03:10.737Z"
      },
      {
        "duration": 323,
        "start_time": "2022-01-31T12:03:11.368Z"
      },
      {
        "duration": 240,
        "start_time": "2022-01-31T12:05:17.820Z"
      },
      {
        "duration": 785,
        "start_time": "2022-01-31T12:07:08.794Z"
      },
      {
        "duration": 853,
        "start_time": "2022-01-31T12:07:26.384Z"
      },
      {
        "duration": 87,
        "start_time": "2022-01-31T12:07:29.761Z"
      },
      {
        "duration": 81,
        "start_time": "2022-01-31T12:07:34.936Z"
      },
      {
        "duration": 745,
        "start_time": "2022-01-31T12:07:37.415Z"
      },
      {
        "duration": 737,
        "start_time": "2022-01-31T12:08:54.734Z"
      },
      {
        "duration": 765,
        "start_time": "2022-01-31T12:09:02.190Z"
      },
      {
        "duration": 780,
        "start_time": "2022-01-31T12:09:44.276Z"
      },
      {
        "duration": 242,
        "start_time": "2022-01-31T12:11:16.163Z"
      },
      {
        "duration": 243,
        "start_time": "2022-01-31T12:11:33.514Z"
      },
      {
        "duration": 83,
        "start_time": "2022-01-31T12:12:00.323Z"
      },
      {
        "duration": 83,
        "start_time": "2022-01-31T12:12:04.010Z"
      },
      {
        "duration": 245,
        "start_time": "2022-01-31T12:26:05.296Z"
      },
      {
        "duration": 272,
        "start_time": "2022-01-31T12:26:11.608Z"
      },
      {
        "duration": 251,
        "start_time": "2022-01-31T12:26:55.673Z"
      },
      {
        "duration": 342,
        "start_time": "2022-01-31T12:27:01.391Z"
      },
      {
        "duration": 258,
        "start_time": "2022-01-31T12:27:20.615Z"
      },
      {
        "duration": 261,
        "start_time": "2022-01-31T12:27:24.831Z"
      },
      {
        "duration": 332,
        "start_time": "2022-01-31T12:28:36.134Z"
      },
      {
        "duration": 710,
        "start_time": "2022-01-31T12:28:43.981Z"
      },
      {
        "duration": 267,
        "start_time": "2022-01-31T12:29:03.148Z"
      },
      {
        "duration": 541,
        "start_time": "2022-01-31T12:29:16.710Z"
      },
      {
        "duration": 731,
        "start_time": "2022-01-31T12:29:36.013Z"
      },
      {
        "duration": 583,
        "start_time": "2022-01-31T12:29:46.396Z"
      },
      {
        "duration": 758,
        "start_time": "2022-01-31T12:29:56.787Z"
      },
      {
        "duration": 642,
        "start_time": "2022-01-31T12:30:01.804Z"
      },
      {
        "duration": 6545,
        "start_time": "2022-01-31T12:34:19.366Z"
      },
      {
        "duration": 7,
        "start_time": "2022-01-31T12:35:19.374Z"
      },
      {
        "duration": 79,
        "start_time": "2022-01-31T12:36:55.093Z"
      },
      {
        "duration": 647,
        "start_time": "2022-01-31T12:36:58.059Z"
      },
      {
        "duration": 592,
        "start_time": "2022-01-31T12:37:14.010Z"
      },
      {
        "duration": 6,
        "start_time": "2022-01-31T12:37:17.162Z"
      },
      {
        "duration": 650,
        "start_time": "2022-01-31T12:38:10.850Z"
      },
      {
        "duration": 7175,
        "start_time": "2022-01-31T12:38:30.282Z"
      },
      {
        "duration": 665,
        "start_time": "2022-01-31T12:38:44.584Z"
      },
      {
        "duration": 657,
        "start_time": "2022-01-31T12:39:47.256Z"
      },
      {
        "duration": 6,
        "start_time": "2022-01-31T12:39:50.702Z"
      },
      {
        "duration": 605,
        "start_time": "2022-01-31T12:40:22.789Z"
      },
      {
        "duration": 597,
        "start_time": "2022-01-31T12:40:44.293Z"
      },
      {
        "duration": 123,
        "start_time": "2022-01-31T12:42:12.900Z"
      },
      {
        "duration": 89,
        "start_time": "2022-01-31T12:42:33.948Z"
      },
      {
        "duration": 84,
        "start_time": "2022-01-31T12:42:50.035Z"
      },
      {
        "duration": 79,
        "start_time": "2022-01-31T12:43:10.135Z"
      },
      {
        "duration": 640,
        "start_time": "2022-01-31T12:43:46.147Z"
      },
      {
        "duration": 621,
        "start_time": "2022-01-31T12:48:47.292Z"
      },
      {
        "duration": 668,
        "start_time": "2022-01-31T12:49:20.251Z"
      },
      {
        "duration": 5,
        "start_time": "2022-01-31T12:55:56.517Z"
      },
      {
        "duration": 80,
        "start_time": "2022-01-31T12:56:14.714Z"
      },
      {
        "duration": 136,
        "start_time": "2022-01-31T12:56:46.081Z"
      },
      {
        "duration": 80,
        "start_time": "2022-01-31T12:57:06.201Z"
      },
      {
        "duration": 494,
        "start_time": "2022-01-31T12:57:17.776Z"
      },
      {
        "duration": 5,
        "start_time": "2022-01-31T12:57:33.696Z"
      },
      {
        "duration": 8405,
        "start_time": "2022-01-31T12:57:36.416Z"
      },
      {
        "duration": 13,
        "start_time": "2022-01-31T12:59:44.686Z"
      },
      {
        "duration": 8730,
        "start_time": "2022-01-31T12:59:46.053Z"
      },
      {
        "duration": 5,
        "start_time": "2022-01-31T13:00:23.357Z"
      },
      {
        "duration": 8128,
        "start_time": "2022-01-31T13:00:26.075Z"
      },
      {
        "duration": 102,
        "start_time": "2022-01-31T13:01:37.012Z"
      },
      {
        "duration": 6,
        "start_time": "2022-01-31T13:01:42.985Z"
      },
      {
        "duration": 6,
        "start_time": "2022-01-31T13:01:48.643Z"
      },
      {
        "duration": 9077,
        "start_time": "2022-01-31T13:01:50.553Z"
      },
      {
        "duration": 6,
        "start_time": "2022-01-31T13:03:38.530Z"
      },
      {
        "duration": 8558,
        "start_time": "2022-01-31T13:03:40.954Z"
      },
      {
        "duration": 6,
        "start_time": "2022-01-31T13:04:13.648Z"
      },
      {
        "duration": 8485,
        "start_time": "2022-01-31T13:04:15.783Z"
      },
      {
        "duration": 568,
        "start_time": "2022-01-31T13:15:42.241Z"
      },
      {
        "duration": 574,
        "start_time": "2022-01-31T13:16:21.018Z"
      },
      {
        "duration": 673,
        "start_time": "2022-01-31T13:16:36.095Z"
      },
      {
        "duration": 590,
        "start_time": "2022-01-31T13:17:27.295Z"
      },
      {
        "duration": 555,
        "start_time": "2022-01-31T13:17:31.838Z"
      },
      {
        "duration": 1223,
        "start_time": "2022-01-31T13:21:51.881Z"
      },
      {
        "duration": 45,
        "start_time": "2022-01-31T13:21:53.106Z"
      },
      {
        "duration": 11,
        "start_time": "2022-01-31T13:21:53.154Z"
      },
      {
        "duration": 31,
        "start_time": "2022-01-31T13:21:53.167Z"
      },
      {
        "duration": 30,
        "start_time": "2022-01-31T13:21:53.200Z"
      },
      {
        "duration": 4,
        "start_time": "2022-01-31T13:21:53.232Z"
      },
      {
        "duration": 14,
        "start_time": "2022-01-31T13:21:53.238Z"
      },
      {
        "duration": 4,
        "start_time": "2022-01-31T13:21:53.255Z"
      },
      {
        "duration": 8,
        "start_time": "2022-01-31T13:21:53.261Z"
      },
      {
        "duration": 7,
        "start_time": "2022-01-31T13:21:53.271Z"
      },
      {
        "duration": 39,
        "start_time": "2022-01-31T13:21:53.279Z"
      },
      {
        "duration": 4,
        "start_time": "2022-01-31T13:21:53.321Z"
      },
      {
        "duration": 12,
        "start_time": "2022-01-31T13:21:53.327Z"
      },
      {
        "duration": 8,
        "start_time": "2022-01-31T13:21:53.340Z"
      },
      {
        "duration": 4,
        "start_time": "2022-01-31T13:21:53.350Z"
      },
      {
        "duration": 6,
        "start_time": "2022-01-31T13:21:53.356Z"
      },
      {
        "duration": 5,
        "start_time": "2022-01-31T13:21:53.364Z"
      },
      {
        "duration": 6,
        "start_time": "2022-01-31T13:21:53.371Z"
      },
      {
        "duration": 41,
        "start_time": "2022-01-31T13:21:53.379Z"
      },
      {
        "duration": 10,
        "start_time": "2022-01-31T13:21:53.422Z"
      },
      {
        "duration": 6,
        "start_time": "2022-01-31T13:21:53.434Z"
      },
      {
        "duration": 7,
        "start_time": "2022-01-31T13:21:53.442Z"
      },
      {
        "duration": 21,
        "start_time": "2022-01-31T13:21:53.453Z"
      },
      {
        "duration": 398,
        "start_time": "2022-01-31T13:21:53.476Z"
      },
      {
        "duration": 4,
        "start_time": "2022-01-31T13:21:53.876Z"
      },
      {
        "duration": 8,
        "start_time": "2022-01-31T13:21:53.882Z"
      },
      {
        "duration": 26,
        "start_time": "2022-01-31T13:21:53.892Z"
      },
      {
        "duration": 4,
        "start_time": "2022-01-31T13:21:53.920Z"
      },
      {
        "duration": 7,
        "start_time": "2022-01-31T13:21:53.925Z"
      },
      {
        "duration": 676,
        "start_time": "2022-01-31T13:21:53.933Z"
      },
      {
        "duration": 641,
        "start_time": "2022-01-31T13:21:54.611Z"
      },
      {
        "duration": 4488,
        "start_time": "2022-01-31T13:21:55.254Z"
      },
      {
        "duration": 644,
        "start_time": "2022-01-31T13:21:59.744Z"
      },
      {
        "duration": 37,
        "start_time": "2022-01-31T13:22:00.391Z"
      },
      {
        "duration": 659,
        "start_time": "2022-01-31T13:22:00.430Z"
      },
      {
        "duration": 839,
        "start_time": "2022-01-31T13:22:01.091Z"
      },
      {
        "duration": 995,
        "start_time": "2022-01-31T13:22:01.932Z"
      },
      {
        "duration": -38,
        "start_time": "2022-01-31T13:22:02.967Z"
      },
      {
        "duration": -40,
        "start_time": "2022-01-31T13:22:02.970Z"
      },
      {
        "duration": -42,
        "start_time": "2022-01-31T13:22:02.973Z"
      },
      {
        "duration": -44,
        "start_time": "2022-01-31T13:22:02.976Z"
      },
      {
        "duration": 11,
        "start_time": "2022-02-01T05:46:31.543Z"
      },
      {
        "duration": 44,
        "start_time": "2022-02-01T05:46:31.556Z"
      },
      {
        "duration": 10,
        "start_time": "2022-02-01T05:46:31.602Z"
      },
      {
        "duration": 33,
        "start_time": "2022-02-01T05:46:31.614Z"
      },
      {
        "duration": 13,
        "start_time": "2022-02-01T05:46:31.649Z"
      },
      {
        "duration": 24,
        "start_time": "2022-02-01T05:46:31.663Z"
      },
      {
        "duration": 114,
        "start_time": "2022-02-01T05:46:31.689Z"
      },
      {
        "duration": 13,
        "start_time": "2022-02-01T05:46:31.806Z"
      },
      {
        "duration": 18,
        "start_time": "2022-02-01T05:46:31.821Z"
      },
      {
        "duration": 8,
        "start_time": "2022-02-01T05:46:31.841Z"
      },
      {
        "duration": 16,
        "start_time": "2022-02-01T05:46:31.851Z"
      },
      {
        "duration": 8,
        "start_time": "2022-02-01T05:46:31.868Z"
      },
      {
        "duration": 15,
        "start_time": "2022-02-01T05:46:31.877Z"
      },
      {
        "duration": 12,
        "start_time": "2022-02-01T05:46:31.894Z"
      },
      {
        "duration": 10,
        "start_time": "2022-02-01T05:46:31.908Z"
      },
      {
        "duration": 21,
        "start_time": "2022-02-01T05:46:31.919Z"
      },
      {
        "duration": 15,
        "start_time": "2022-02-01T05:46:31.942Z"
      },
      {
        "duration": 12,
        "start_time": "2022-02-01T05:46:31.958Z"
      },
      {
        "duration": 12,
        "start_time": "2022-02-01T05:46:31.972Z"
      },
      {
        "duration": 11,
        "start_time": "2022-02-01T05:46:31.986Z"
      },
      {
        "duration": 7,
        "start_time": "2022-02-01T05:46:31.999Z"
      },
      {
        "duration": 13,
        "start_time": "2022-02-01T05:46:32.007Z"
      },
      {
        "duration": 23,
        "start_time": "2022-02-01T05:46:32.024Z"
      },
      {
        "duration": 354,
        "start_time": "2022-02-01T05:46:32.049Z"
      },
      {
        "duration": 4,
        "start_time": "2022-02-01T05:46:32.405Z"
      },
      {
        "duration": 10,
        "start_time": "2022-02-01T05:46:32.410Z"
      },
      {
        "duration": 22,
        "start_time": "2022-02-01T05:46:32.421Z"
      },
      {
        "duration": 6,
        "start_time": "2022-02-01T05:46:32.444Z"
      },
      {
        "duration": 7,
        "start_time": "2022-02-01T05:46:32.452Z"
      },
      {
        "duration": 620,
        "start_time": "2022-02-01T05:46:32.461Z"
      },
      {
        "duration": 552,
        "start_time": "2022-02-01T05:46:33.082Z"
      },
      {
        "duration": 3974,
        "start_time": "2022-02-01T05:46:33.636Z"
      },
      {
        "duration": 684,
        "start_time": "2022-02-01T05:46:37.612Z"
      },
      {
        "duration": 34,
        "start_time": "2022-02-01T05:46:38.298Z"
      },
      {
        "duration": 588,
        "start_time": "2022-02-01T05:46:38.334Z"
      },
      {
        "duration": 754,
        "start_time": "2022-02-01T05:46:38.924Z"
      },
      {
        "duration": 950,
        "start_time": "2022-02-01T05:46:39.680Z"
      },
      {
        "duration": -9334,
        "start_time": "2022-02-01T05:46:49.966Z"
      },
      {
        "duration": -9421,
        "start_time": "2022-02-01T05:46:50.054Z"
      },
      {
        "duration": -9425,
        "start_time": "2022-02-01T05:46:50.059Z"
      },
      {
        "duration": -9427,
        "start_time": "2022-02-01T05:46:50.062Z"
      },
      {
        "duration": 949,
        "start_time": "2022-02-01T05:47:17.661Z"
      },
      {
        "duration": 835,
        "start_time": "2022-02-01T05:47:47.460Z"
      },
      {
        "duration": 601,
        "start_time": "2022-02-01T05:47:58.342Z"
      },
      {
        "duration": 872,
        "start_time": "2022-02-01T05:48:08.420Z"
      },
      {
        "duration": 949,
        "start_time": "2022-02-01T05:48:43.923Z"
      },
      {
        "duration": 892,
        "start_time": "2022-02-01T05:49:04.419Z"
      },
      {
        "duration": 86,
        "start_time": "2022-02-01T05:49:33.665Z"
      },
      {
        "duration": 903,
        "start_time": "2022-02-01T05:49:39.145Z"
      },
      {
        "duration": 80,
        "start_time": "2022-02-01T05:50:33.434Z"
      },
      {
        "duration": 627,
        "start_time": "2022-02-01T05:51:19.382Z"
      },
      {
        "duration": 82,
        "start_time": "2022-02-01T05:51:31.290Z"
      },
      {
        "duration": 607,
        "start_time": "2022-02-01T05:51:34.671Z"
      },
      {
        "duration": 691,
        "start_time": "2022-02-01T05:51:45.662Z"
      },
      {
        "duration": 596,
        "start_time": "2022-02-01T05:51:51.542Z"
      },
      {
        "duration": 737,
        "start_time": "2022-02-01T05:52:27.349Z"
      },
      {
        "duration": 630,
        "start_time": "2022-02-01T05:53:44.420Z"
      },
      {
        "duration": 617,
        "start_time": "2022-02-01T05:53:47.212Z"
      },
      {
        "duration": 674,
        "start_time": "2022-02-01T05:54:03.012Z"
      },
      {
        "duration": 6,
        "start_time": "2022-02-01T05:54:13.460Z"
      },
      {
        "duration": 7768,
        "start_time": "2022-02-01T05:54:15.362Z"
      },
      {
        "duration": 537,
        "start_time": "2022-02-01T05:54:27.498Z"
      },
      {
        "duration": 18,
        "start_time": "2022-02-01T05:55:14.642Z"
      },
      {
        "duration": 17,
        "start_time": "2022-02-01T05:55:21.257Z"
      },
      {
        "duration": 62,
        "start_time": "2022-02-01T06:18:50.533Z"
      },
      {
        "duration": 11,
        "start_time": "2022-02-01T06:18:55.722Z"
      },
      {
        "duration": 39,
        "start_time": "2022-02-01T06:18:55.735Z"
      },
      {
        "duration": 9,
        "start_time": "2022-02-01T06:18:55.776Z"
      },
      {
        "duration": 46,
        "start_time": "2022-02-01T06:18:55.786Z"
      },
      {
        "duration": 13,
        "start_time": "2022-02-01T06:18:55.833Z"
      },
      {
        "duration": 10,
        "start_time": "2022-02-01T06:18:55.847Z"
      },
      {
        "duration": 17,
        "start_time": "2022-02-01T06:18:55.859Z"
      },
      {
        "duration": 112,
        "start_time": "2022-02-01T06:18:55.879Z"
      },
      {
        "duration": 17,
        "start_time": "2022-02-01T06:18:55.994Z"
      },
      {
        "duration": 8,
        "start_time": "2022-02-01T06:18:56.013Z"
      },
      {
        "duration": 8,
        "start_time": "2022-02-01T06:18:56.023Z"
      },
      {
        "duration": 8,
        "start_time": "2022-02-01T06:18:56.032Z"
      },
      {
        "duration": 13,
        "start_time": "2022-02-01T06:18:56.042Z"
      },
      {
        "duration": 10,
        "start_time": "2022-02-01T06:18:56.057Z"
      },
      {
        "duration": 4,
        "start_time": "2022-02-01T06:18:56.068Z"
      },
      {
        "duration": 7,
        "start_time": "2022-02-01T06:18:56.074Z"
      },
      {
        "duration": 8,
        "start_time": "2022-02-01T06:18:56.083Z"
      },
      {
        "duration": 5,
        "start_time": "2022-02-01T06:18:56.118Z"
      },
      {
        "duration": 12,
        "start_time": "2022-02-01T06:18:56.125Z"
      },
      {
        "duration": 21,
        "start_time": "2022-02-01T06:18:56.138Z"
      },
      {
        "duration": 10,
        "start_time": "2022-02-01T06:18:56.160Z"
      },
      {
        "duration": 24,
        "start_time": "2022-02-01T06:18:56.171Z"
      },
      {
        "duration": 26,
        "start_time": "2022-02-01T06:18:56.198Z"
      },
      {
        "duration": 370,
        "start_time": "2022-02-01T06:18:56.226Z"
      },
      {
        "duration": 3,
        "start_time": "2022-02-01T06:18:56.598Z"
      },
      {
        "duration": 18,
        "start_time": "2022-02-01T06:18:56.603Z"
      },
      {
        "duration": 30,
        "start_time": "2022-02-01T06:18:56.622Z"
      },
      {
        "duration": 31,
        "start_time": "2022-02-01T06:18:56.653Z"
      },
      {
        "duration": 7,
        "start_time": "2022-02-01T06:18:56.685Z"
      },
      {
        "duration": 12,
        "start_time": "2022-02-01T06:18:56.694Z"
      },
      {
        "duration": 631,
        "start_time": "2022-02-01T06:18:56.708Z"
      },
      {
        "duration": 548,
        "start_time": "2022-02-01T06:18:57.340Z"
      },
      {
        "duration": 4046,
        "start_time": "2022-02-01T06:18:57.889Z"
      },
      {
        "duration": 611,
        "start_time": "2022-02-01T06:19:01.937Z"
      },
      {
        "duration": 22,
        "start_time": "2022-02-01T06:19:02.550Z"
      },
      {
        "duration": 621,
        "start_time": "2022-02-01T06:19:02.574Z"
      },
      {
        "duration": 784,
        "start_time": "2022-02-01T06:19:03.196Z"
      },
      {
        "duration": 675,
        "start_time": "2022-02-01T06:19:03.981Z"
      },
      {
        "duration": 598,
        "start_time": "2022-02-01T06:19:04.658Z"
      },
      {
        "duration": 5,
        "start_time": "2022-02-01T06:19:05.258Z"
      },
      {
        "duration": 7871,
        "start_time": "2022-02-01T06:19:05.264Z"
      },
      {
        "duration": 552,
        "start_time": "2022-02-01T06:19:13.137Z"
      },
      {
        "duration": 96,
        "start_time": "2022-02-01T06:19:47.236Z"
      },
      {
        "duration": 94,
        "start_time": "2022-02-01T06:19:51.225Z"
      },
      {
        "duration": 34,
        "start_time": "2022-02-01T06:19:51.321Z"
      },
      {
        "duration": 9,
        "start_time": "2022-02-01T06:19:51.357Z"
      },
      {
        "duration": 28,
        "start_time": "2022-02-01T06:19:51.367Z"
      },
      {
        "duration": 23,
        "start_time": "2022-02-01T06:19:51.396Z"
      },
      {
        "duration": 3,
        "start_time": "2022-02-01T06:19:51.421Z"
      },
      {
        "duration": 13,
        "start_time": "2022-02-01T06:19:51.425Z"
      },
      {
        "duration": 4,
        "start_time": "2022-02-01T06:19:51.440Z"
      },
      {
        "duration": 12,
        "start_time": "2022-02-01T06:19:51.446Z"
      },
      {
        "duration": 12,
        "start_time": "2022-02-01T06:19:51.459Z"
      },
      {
        "duration": 12,
        "start_time": "2022-02-01T06:19:51.472Z"
      },
      {
        "duration": 6,
        "start_time": "2022-02-01T06:19:51.486Z"
      },
      {
        "duration": 29,
        "start_time": "2022-02-01T06:19:51.493Z"
      },
      {
        "duration": 8,
        "start_time": "2022-02-01T06:19:51.523Z"
      },
      {
        "duration": 3,
        "start_time": "2022-02-01T06:19:51.533Z"
      },
      {
        "duration": 6,
        "start_time": "2022-02-01T06:19:51.538Z"
      },
      {
        "duration": 8,
        "start_time": "2022-02-01T06:19:51.546Z"
      },
      {
        "duration": 8,
        "start_time": "2022-02-01T06:19:51.555Z"
      },
      {
        "duration": 8,
        "start_time": "2022-02-01T06:19:51.564Z"
      },
      {
        "duration": 18,
        "start_time": "2022-02-01T06:19:51.574Z"
      },
      {
        "duration": 6,
        "start_time": "2022-02-01T06:19:51.593Z"
      },
      {
        "duration": 8,
        "start_time": "2022-02-01T06:19:51.619Z"
      },
      {
        "duration": 20,
        "start_time": "2022-02-01T06:19:51.631Z"
      },
      {
        "duration": 389,
        "start_time": "2022-02-01T06:19:51.654Z"
      },
      {
        "duration": 5,
        "start_time": "2022-02-01T06:19:52.045Z"
      },
      {
        "duration": 9,
        "start_time": "2022-02-01T06:19:52.052Z"
      },
      {
        "duration": 19,
        "start_time": "2022-02-01T06:19:52.063Z"
      },
      {
        "duration": 40,
        "start_time": "2022-02-01T06:19:52.085Z"
      },
      {
        "duration": 3,
        "start_time": "2022-02-01T06:19:52.127Z"
      },
      {
        "duration": 10,
        "start_time": "2022-02-01T06:19:52.131Z"
      },
      {
        "duration": 715,
        "start_time": "2022-02-01T06:19:52.142Z"
      },
      {
        "duration": 550,
        "start_time": "2022-02-01T06:19:52.859Z"
      },
      {
        "duration": 4204,
        "start_time": "2022-02-01T06:19:53.418Z"
      },
      {
        "duration": 603,
        "start_time": "2022-02-01T06:19:57.625Z"
      },
      {
        "duration": 23,
        "start_time": "2022-02-01T06:19:58.230Z"
      },
      {
        "duration": 605,
        "start_time": "2022-02-01T06:19:58.255Z"
      },
      {
        "duration": 765,
        "start_time": "2022-02-01T06:19:58.862Z"
      },
      {
        "duration": 728,
        "start_time": "2022-02-01T06:19:59.630Z"
      },
      {
        "duration": 604,
        "start_time": "2022-02-01T06:20:00.360Z"
      },
      {
        "duration": 5,
        "start_time": "2022-02-01T06:20:00.966Z"
      },
      {
        "duration": 8135,
        "start_time": "2022-02-01T06:20:00.972Z"
      },
      {
        "duration": 571,
        "start_time": "2022-02-01T06:20:09.109Z"
      },
      {
        "duration": 115,
        "start_time": "2022-02-01T06:21:37.016Z"
      },
      {
        "duration": 87,
        "start_time": "2022-02-01T06:21:42.737Z"
      },
      {
        "duration": 102,
        "start_time": "2022-02-01T06:21:48.064Z"
      },
      {
        "duration": 2076,
        "start_time": "2022-02-01T06:22:07.032Z"
      },
      {
        "duration": 107,
        "start_time": "2022-02-01T06:22:16.567Z"
      },
      {
        "duration": 245,
        "start_time": "2022-02-01T06:22:34.263Z"
      },
      {
        "duration": 169,
        "start_time": "2022-02-01T06:23:11.090Z"
      },
      {
        "duration": 86,
        "start_time": "2022-02-01T06:23:32.576Z"
      },
      {
        "duration": 12,
        "start_time": "2022-02-01T06:23:37.501Z"
      },
      {
        "duration": 149,
        "start_time": "2022-02-01T06:25:20.668Z"
      },
      {
        "duration": 88,
        "start_time": "2022-02-01T06:25:29.532Z"
      },
      {
        "duration": 390,
        "start_time": "2022-02-01T06:25:35.284Z"
      },
      {
        "duration": 11,
        "start_time": "2022-02-01T06:25:38.587Z"
      },
      {
        "duration": 5,
        "start_time": "2022-02-01T06:32:35.618Z"
      },
      {
        "duration": 1154,
        "start_time": "2022-02-01T06:33:07.315Z"
      },
      {
        "duration": 4,
        "start_time": "2022-02-01T06:33:17.737Z"
      },
      {
        "duration": 1044,
        "start_time": "2022-02-01T06:33:19.705Z"
      },
      {
        "duration": 6,
        "start_time": "2022-02-01T06:33:40.721Z"
      },
      {
        "duration": 1082,
        "start_time": "2022-02-01T06:33:42.128Z"
      },
      {
        "duration": 5,
        "start_time": "2022-02-01T06:34:00.315Z"
      },
      {
        "duration": 1118,
        "start_time": "2022-02-01T06:34:02.936Z"
      },
      {
        "duration": 5,
        "start_time": "2022-02-01T06:34:08.504Z"
      },
      {
        "duration": 5,
        "start_time": "2022-02-01T06:34:44.144Z"
      },
      {
        "duration": 3051,
        "start_time": "2022-02-01T06:34:46.347Z"
      },
      {
        "duration": 7,
        "start_time": "2022-02-01T06:35:37.922Z"
      },
      {
        "duration": 1771,
        "start_time": "2022-02-01T06:35:39.079Z"
      },
      {
        "duration": 4,
        "start_time": "2022-02-01T06:35:45.966Z"
      },
      {
        "duration": 1186,
        "start_time": "2022-02-01T06:35:46.732Z"
      },
      {
        "duration": 582,
        "start_time": "2022-02-01T06:36:37.701Z"
      },
      {
        "duration": 1104,
        "start_time": "2022-02-01T06:37:38.245Z"
      },
      {
        "duration": 45,
        "start_time": "2022-02-01T06:37:51.948Z"
      },
      {
        "duration": 49,
        "start_time": "2022-02-01T06:38:01.939Z"
      },
      {
        "duration": 57,
        "start_time": "2022-02-01T06:38:09.019Z"
      },
      {
        "duration": 49,
        "start_time": "2022-02-01T06:38:22.171Z"
      },
      {
        "duration": 1285,
        "start_time": "2022-02-01T06:38:41.770Z"
      },
      {
        "duration": 1054,
        "start_time": "2022-02-01T06:43:02.326Z"
      },
      {
        "duration": 5,
        "start_time": "2022-02-01T06:43:19.442Z"
      },
      {
        "duration": 1067,
        "start_time": "2022-02-01T06:43:21.174Z"
      },
      {
        "duration": 1060,
        "start_time": "2022-02-01T06:43:25.837Z"
      },
      {
        "duration": 5,
        "start_time": "2022-02-01T06:43:32.029Z"
      },
      {
        "duration": 1052,
        "start_time": "2022-02-01T06:43:33.135Z"
      },
      {
        "duration": 4,
        "start_time": "2022-02-01T06:43:40.148Z"
      },
      {
        "duration": 1555,
        "start_time": "2022-02-01T06:43:41.643Z"
      },
      {
        "duration": 6,
        "start_time": "2022-02-01T06:43:59.915Z"
      },
      {
        "duration": 1227,
        "start_time": "2022-02-01T06:44:00.636Z"
      },
      {
        "duration": 4,
        "start_time": "2022-02-01T06:44:13.868Z"
      },
      {
        "duration": 1133,
        "start_time": "2022-02-01T06:44:14.419Z"
      },
      {
        "duration": 583,
        "start_time": "2022-02-01T06:44:40.810Z"
      },
      {
        "duration": 1102,
        "start_time": "2022-02-01T06:44:49.844Z"
      },
      {
        "duration": 4,
        "start_time": "2022-02-01T06:45:02.292Z"
      },
      {
        "duration": 2026,
        "start_time": "2022-02-01T06:45:02.930Z"
      },
      {
        "duration": 5,
        "start_time": "2022-02-01T06:45:07.938Z"
      },
      {
        "duration": 4,
        "start_time": "2022-02-01T06:45:16.402Z"
      },
      {
        "duration": 1085,
        "start_time": "2022-02-01T06:45:18.492Z"
      },
      {
        "duration": 5,
        "start_time": "2022-02-01T06:45:28.337Z"
      },
      {
        "duration": 1189,
        "start_time": "2022-02-01T06:45:28.961Z"
      },
      {
        "duration": 1140,
        "start_time": "2022-02-01T06:45:33.297Z"
      },
      {
        "duration": 5,
        "start_time": "2022-02-01T06:45:58.649Z"
      },
      {
        "duration": 1103,
        "start_time": "2022-02-01T06:45:59.337Z"
      },
      {
        "duration": 1057,
        "start_time": "2022-02-01T06:46:02.947Z"
      },
      {
        "duration": 5,
        "start_time": "2022-02-01T06:46:36.185Z"
      },
      {
        "duration": 1052,
        "start_time": "2022-02-01T06:46:36.840Z"
      },
      {
        "duration": 4,
        "start_time": "2022-02-01T06:47:01.699Z"
      },
      {
        "duration": 1170,
        "start_time": "2022-02-01T06:47:02.368Z"
      },
      {
        "duration": 5,
        "start_time": "2022-02-01T06:47:08.368Z"
      },
      {
        "duration": 1089,
        "start_time": "2022-02-01T06:47:08.992Z"
      },
      {
        "duration": 4,
        "start_time": "2022-02-01T06:47:44.951Z"
      },
      {
        "duration": 1061,
        "start_time": "2022-02-01T06:47:45.487Z"
      },
      {
        "duration": 5,
        "start_time": "2022-02-01T06:47:52.151Z"
      },
      {
        "duration": 1072,
        "start_time": "2022-02-01T06:47:52.670Z"
      },
      {
        "duration": 1148,
        "start_time": "2022-02-01T06:47:57.983Z"
      },
      {
        "duration": 1009,
        "start_time": "2022-02-01T06:52:11.498Z"
      },
      {
        "duration": 102,
        "start_time": "2022-02-01T07:10:25.149Z"
      },
      {
        "duration": 261,
        "start_time": "2022-02-01T07:18:49.071Z"
      },
      {
        "duration": 270,
        "start_time": "2022-02-01T07:19:22.591Z"
      },
      {
        "duration": 10,
        "start_time": "2022-02-01T07:19:31.262Z"
      },
      {
        "duration": 380,
        "start_time": "2022-02-01T07:20:08.133Z"
      },
      {
        "duration": 3269,
        "start_time": "2022-02-01T07:22:01.699Z"
      },
      {
        "duration": 5,
        "start_time": "2022-02-01T07:22:19.883Z"
      },
      {
        "duration": 245,
        "start_time": "2022-02-01T07:22:34.553Z"
      },
      {
        "duration": 269,
        "start_time": "2022-02-01T07:22:39.250Z"
      },
      {
        "duration": 9,
        "start_time": "2022-02-01T07:22:44.714Z"
      },
      {
        "duration": 307,
        "start_time": "2022-02-01T07:22:45.475Z"
      },
      {
        "duration": 9,
        "start_time": "2022-02-01T07:22:48.147Z"
      },
      {
        "duration": 308,
        "start_time": "2022-02-01T07:22:49.274Z"
      },
      {
        "duration": 90,
        "start_time": "2022-02-01T07:28:35.075Z"
      },
      {
        "duration": 8,
        "start_time": "2022-02-01T07:28:58.602Z"
      },
      {
        "duration": 279,
        "start_time": "2022-02-01T07:29:02.098Z"
      },
      {
        "duration": 11,
        "start_time": "2022-02-01T07:29:42.330Z"
      },
      {
        "duration": 321,
        "start_time": "2022-02-01T07:29:54.065Z"
      },
      {
        "duration": 1160,
        "start_time": "2022-02-01T07:30:19.562Z"
      },
      {
        "duration": 942,
        "start_time": "2022-02-01T07:30:26.289Z"
      },
      {
        "duration": 397,
        "start_time": "2022-02-01T07:30:31.193Z"
      },
      {
        "duration": 13,
        "start_time": "2022-02-01T07:30:50.207Z"
      },
      {
        "duration": 432,
        "start_time": "2022-02-01T07:30:51.200Z"
      },
      {
        "duration": 1036,
        "start_time": "2022-02-01T07:31:14.487Z"
      },
      {
        "duration": 1039,
        "start_time": "2022-02-01T07:32:54.934Z"
      },
      {
        "duration": 801,
        "start_time": "2022-02-01T07:33:30.334Z"
      },
      {
        "duration": 657,
        "start_time": "2022-02-01T07:33:40.621Z"
      },
      {
        "duration": 651,
        "start_time": "2022-02-01T07:34:37.653Z"
      },
      {
        "duration": 631,
        "start_time": "2022-02-01T07:34:43.362Z"
      },
      {
        "duration": 924,
        "start_time": "2022-02-01T07:36:09.394Z"
      },
      {
        "duration": 347,
        "start_time": "2022-02-01T07:37:21.280Z"
      },
      {
        "duration": 720,
        "start_time": "2022-02-01T07:37:39.400Z"
      },
      {
        "duration": 591,
        "start_time": "2022-02-01T07:37:53.023Z"
      },
      {
        "duration": 602,
        "start_time": "2022-02-01T07:37:57.666Z"
      },
      {
        "duration": 336,
        "start_time": "2022-02-01T07:38:12.487Z"
      },
      {
        "duration": 349,
        "start_time": "2022-02-01T07:38:30.496Z"
      },
      {
        "duration": 87,
        "start_time": "2022-02-01T07:38:42.965Z"
      },
      {
        "duration": 467,
        "start_time": "2022-02-01T07:38:52.566Z"
      },
      {
        "duration": 500,
        "start_time": "2022-02-01T07:38:56.582Z"
      },
      {
        "duration": 617,
        "start_time": "2022-02-01T07:39:00.435Z"
      },
      {
        "duration": 657,
        "start_time": "2022-02-01T07:39:40.252Z"
      },
      {
        "duration": 665,
        "start_time": "2022-02-01T07:40:30.965Z"
      },
      {
        "duration": 942,
        "start_time": "2022-02-01T07:41:04.236Z"
      },
      {
        "duration": 678,
        "start_time": "2022-02-01T07:41:08.443Z"
      },
      {
        "duration": 431,
        "start_time": "2022-02-01T07:44:27.733Z"
      },
      {
        "duration": 574,
        "start_time": "2022-02-01T07:45:08.982Z"
      },
      {
        "duration": 255,
        "start_time": "2022-02-01T07:51:44.252Z"
      },
      {
        "duration": 244,
        "start_time": "2022-02-01T07:52:29.780Z"
      },
      {
        "duration": 13,
        "start_time": "2022-02-01T07:52:51.915Z"
      },
      {
        "duration": 242,
        "start_time": "2022-02-01T07:52:56.946Z"
      },
      {
        "duration": 5,
        "start_time": "2022-02-01T07:53:08.450Z"
      },
      {
        "duration": 4,
        "start_time": "2022-02-01T07:53:19.948Z"
      },
      {
        "duration": 7,
        "start_time": "2022-02-01T07:53:55.892Z"
      },
      {
        "duration": 6,
        "start_time": "2022-02-01T07:54:13.674Z"
      },
      {
        "duration": 5,
        "start_time": "2022-02-01T07:54:51.457Z"
      },
      {
        "duration": 6,
        "start_time": "2022-02-01T07:58:23.350Z"
      },
      {
        "duration": 431,
        "start_time": "2022-02-01T08:00:17.604Z"
      },
      {
        "duration": 6,
        "start_time": "2022-02-01T08:00:31.460Z"
      },
      {
        "duration": 5,
        "start_time": "2022-02-01T08:00:57.073Z"
      },
      {
        "duration": 4,
        "start_time": "2022-02-01T08:01:20.450Z"
      },
      {
        "duration": 12,
        "start_time": "2022-02-01T08:06:00.710Z"
      },
      {
        "duration": 670,
        "start_time": "2022-02-01T08:06:38.077Z"
      },
      {
        "duration": 588,
        "start_time": "2022-02-01T08:07:18.411Z"
      },
      {
        "duration": 6,
        "start_time": "2022-02-01T08:08:46.098Z"
      },
      {
        "duration": 6,
        "start_time": "2022-02-01T08:09:52.952Z"
      },
      {
        "duration": 6,
        "start_time": "2022-02-01T08:10:02.671Z"
      },
      {
        "duration": 4,
        "start_time": "2022-02-01T08:10:35.000Z"
      },
      {
        "duration": 11,
        "start_time": "2022-02-01T08:11:07.189Z"
      },
      {
        "duration": 694,
        "start_time": "2022-02-01T08:11:08.212Z"
      },
      {
        "duration": 624,
        "start_time": "2022-02-01T08:11:08.908Z"
      },
      {
        "duration": 6,
        "start_time": "2022-02-01T08:11:11.341Z"
      },
      {
        "duration": 5,
        "start_time": "2022-02-01T08:11:13.780Z"
      },
      {
        "duration": 4,
        "start_time": "2022-02-01T08:13:35.466Z"
      },
      {
        "duration": 1045,
        "start_time": "2022-02-01T08:35:12.148Z"
      },
      {
        "duration": 926,
        "start_time": "2022-02-01T08:36:55.251Z"
      },
      {
        "duration": 927,
        "start_time": "2022-02-01T08:37:03.155Z"
      },
      {
        "duration": 7502,
        "start_time": "2022-02-01T08:38:01.114Z"
      },
      {
        "duration": 6372,
        "start_time": "2022-02-01T08:39:54.591Z"
      },
      {
        "duration": 6595,
        "start_time": "2022-02-01T08:40:16.200Z"
      },
      {
        "duration": 7088,
        "start_time": "2022-02-01T08:40:35.535Z"
      },
      {
        "duration": 661,
        "start_time": "2022-02-01T08:41:09.335Z"
      },
      {
        "duration": 706,
        "start_time": "2022-02-01T08:41:16.329Z"
      },
      {
        "duration": 649,
        "start_time": "2022-02-01T08:41:22.655Z"
      },
      {
        "duration": 1184,
        "start_time": "2022-02-01T10:03:08.804Z"
      },
      {
        "duration": 45,
        "start_time": "2022-02-01T10:03:09.990Z"
      },
      {
        "duration": 11,
        "start_time": "2022-02-01T10:03:10.037Z"
      },
      {
        "duration": 35,
        "start_time": "2022-02-01T10:03:10.050Z"
      },
      {
        "duration": 14,
        "start_time": "2022-02-01T10:03:10.087Z"
      },
      {
        "duration": 15,
        "start_time": "2022-02-01T10:03:10.103Z"
      },
      {
        "duration": 15,
        "start_time": "2022-02-01T10:03:10.121Z"
      },
      {
        "duration": 5,
        "start_time": "2022-02-01T10:03:10.140Z"
      },
      {
        "duration": 9,
        "start_time": "2022-02-01T10:03:10.147Z"
      },
      {
        "duration": 12,
        "start_time": "2022-02-01T10:03:10.157Z"
      },
      {
        "duration": 10,
        "start_time": "2022-02-01T10:03:10.171Z"
      },
      {
        "duration": 38,
        "start_time": "2022-02-01T10:03:10.182Z"
      },
      {
        "duration": 14,
        "start_time": "2022-02-01T10:03:10.222Z"
      },
      {
        "duration": 9,
        "start_time": "2022-02-01T10:03:10.237Z"
      },
      {
        "duration": 7,
        "start_time": "2022-02-01T10:03:10.247Z"
      },
      {
        "duration": 6,
        "start_time": "2022-02-01T10:03:10.256Z"
      },
      {
        "duration": 6,
        "start_time": "2022-02-01T10:03:10.264Z"
      },
      {
        "duration": 7,
        "start_time": "2022-02-01T10:03:10.272Z"
      },
      {
        "duration": 38,
        "start_time": "2022-02-01T10:03:10.281Z"
      },
      {
        "duration": 10,
        "start_time": "2022-02-01T10:03:10.321Z"
      },
      {
        "duration": 5,
        "start_time": "2022-02-01T10:03:10.333Z"
      },
      {
        "duration": 9,
        "start_time": "2022-02-01T10:03:10.340Z"
      },
      {
        "duration": 20,
        "start_time": "2022-02-01T10:03:10.353Z"
      },
      {
        "duration": 382,
        "start_time": "2022-02-01T10:03:10.375Z"
      },
      {
        "duration": 4,
        "start_time": "2022-02-01T10:03:10.759Z"
      },
      {
        "duration": 14,
        "start_time": "2022-02-01T10:03:10.764Z"
      },
      {
        "duration": 15,
        "start_time": "2022-02-01T10:03:10.780Z"
      },
      {
        "duration": 29,
        "start_time": "2022-02-01T10:03:10.796Z"
      },
      {
        "duration": 2,
        "start_time": "2022-02-01T10:03:10.826Z"
      },
      {
        "duration": 9,
        "start_time": "2022-02-01T10:03:10.830Z"
      },
      {
        "duration": 579,
        "start_time": "2022-02-01T10:03:10.841Z"
      },
      {
        "duration": 415,
        "start_time": "2022-02-01T10:03:11.422Z"
      },
      {
        "duration": 4102,
        "start_time": "2022-02-01T10:03:11.839Z"
      },
      {
        "duration": 693,
        "start_time": "2022-02-01T10:03:15.942Z"
      },
      {
        "duration": 21,
        "start_time": "2022-02-01T10:03:16.637Z"
      },
      {
        "duration": 424,
        "start_time": "2022-02-01T10:03:16.660Z"
      },
      {
        "duration": 1087,
        "start_time": "2022-02-01T10:03:17.086Z"
      },
      {
        "duration": 477,
        "start_time": "2022-02-01T10:03:18.175Z"
      },
      {
        "duration": 382,
        "start_time": "2022-02-01T10:03:18.653Z"
      },
      {
        "duration": 5,
        "start_time": "2022-02-01T10:03:19.037Z"
      },
      {
        "duration": 8343,
        "start_time": "2022-02-01T10:03:19.044Z"
      },
      {
        "duration": 630,
        "start_time": "2022-02-01T10:03:27.388Z"
      },
      {
        "duration": 4,
        "start_time": "2022-02-01T10:03:28.020Z"
      },
      {
        "duration": 1148,
        "start_time": "2022-02-01T10:03:28.026Z"
      },
      {
        "duration": 1179,
        "start_time": "2022-02-01T10:03:29.176Z"
      },
      {
        "duration": 1289,
        "start_time": "2022-02-01T10:03:30.357Z"
      },
      {
        "duration": 10,
        "start_time": "2022-02-01T10:03:31.648Z"
      },
      {
        "duration": 698,
        "start_time": "2022-02-01T10:03:31.660Z"
      },
      {
        "duration": 840,
        "start_time": "2022-02-01T10:03:32.360Z"
      },
      {
        "duration": 6,
        "start_time": "2022-02-01T10:03:33.202Z"
      },
      {
        "duration": 4,
        "start_time": "2022-02-01T10:03:33.218Z"
      },
      {
        "duration": 21,
        "start_time": "2022-02-01T10:03:33.224Z"
      },
      {
        "duration": 764,
        "start_time": "2022-02-01T10:03:33.247Z"
      },
      {
        "duration": 731,
        "start_time": "2022-02-01T10:03:34.012Z"
      },
      {
        "duration": 5,
        "start_time": "2022-02-01T10:03:34.745Z"
      },
      {
        "duration": 9,
        "start_time": "2022-02-01T10:03:34.752Z"
      },
      {
        "duration": 11,
        "start_time": "2022-02-01T10:10:24.878Z"
      },
      {
        "duration": 15,
        "start_time": "2022-02-01T10:11:58.814Z"
      },
      {
        "duration": 12,
        "start_time": "2022-02-01T10:12:01.167Z"
      },
      {
        "duration": 52,
        "start_time": "2022-02-01T10:12:01.182Z"
      },
      {
        "duration": 13,
        "start_time": "2022-02-01T10:12:01.236Z"
      },
      {
        "duration": 68,
        "start_time": "2022-02-01T10:12:01.252Z"
      },
      {
        "duration": 17,
        "start_time": "2022-02-01T10:12:01.322Z"
      },
      {
        "duration": 14,
        "start_time": "2022-02-01T10:12:01.341Z"
      },
      {
        "duration": 36,
        "start_time": "2022-02-01T10:12:01.356Z"
      },
      {
        "duration": 23,
        "start_time": "2022-02-01T10:12:01.395Z"
      },
      {
        "duration": 31,
        "start_time": "2022-02-01T10:12:01.421Z"
      },
      {
        "duration": 26,
        "start_time": "2022-02-01T10:12:01.454Z"
      },
      {
        "duration": 32,
        "start_time": "2022-02-01T10:12:01.482Z"
      },
      {
        "duration": 17,
        "start_time": "2022-02-01T10:12:01.516Z"
      },
      {
        "duration": 27,
        "start_time": "2022-02-01T10:12:01.535Z"
      },
      {
        "duration": 17,
        "start_time": "2022-02-01T10:12:01.564Z"
      },
      {
        "duration": 24,
        "start_time": "2022-02-01T10:12:01.582Z"
      },
      {
        "duration": 41,
        "start_time": "2022-02-01T10:12:01.608Z"
      },
      {
        "duration": 36,
        "start_time": "2022-02-01T10:12:01.652Z"
      },
      {
        "duration": 23,
        "start_time": "2022-02-01T10:12:01.690Z"
      },
      {
        "duration": 14,
        "start_time": "2022-02-01T10:12:01.715Z"
      },
      {
        "duration": 45,
        "start_time": "2022-02-01T10:12:01.731Z"
      },
      {
        "duration": 33,
        "start_time": "2022-02-01T10:12:01.778Z"
      },
      {
        "duration": 24,
        "start_time": "2022-02-01T10:12:01.813Z"
      },
      {
        "duration": 34,
        "start_time": "2022-02-01T10:12:01.840Z"
      },
      {
        "duration": 407,
        "start_time": "2022-02-01T10:12:01.877Z"
      },
      {
        "duration": 5,
        "start_time": "2022-02-01T10:12:02.286Z"
      },
      {
        "duration": 24,
        "start_time": "2022-02-01T10:12:02.293Z"
      },
      {
        "duration": 32,
        "start_time": "2022-02-01T10:12:02.319Z"
      },
      {
        "duration": 35,
        "start_time": "2022-02-01T10:12:02.353Z"
      },
      {
        "duration": 35,
        "start_time": "2022-02-01T10:12:02.390Z"
      },
      {
        "duration": 1100,
        "start_time": "2022-02-01T10:12:02.427Z"
      },
      {
        "duration": 968,
        "start_time": "2022-02-01T10:12:03.529Z"
      },
      {
        "duration": 6292,
        "start_time": "2022-02-01T10:12:04.499Z"
      },
      {
        "duration": 1042,
        "start_time": "2022-02-01T10:12:10.794Z"
      },
      {
        "duration": 20,
        "start_time": "2022-02-01T10:12:11.838Z"
      },
      {
        "duration": 670,
        "start_time": "2022-02-01T10:12:11.860Z"
      },
      {
        "duration": 825,
        "start_time": "2022-02-01T10:12:12.532Z"
      },
      {
        "duration": 785,
        "start_time": "2022-02-01T10:12:13.359Z"
      },
      {
        "duration": 662,
        "start_time": "2022-02-01T10:12:14.146Z"
      },
      {
        "duration": 9,
        "start_time": "2022-02-01T10:12:14.810Z"
      },
      {
        "duration": 9766,
        "start_time": "2022-02-01T10:12:14.821Z"
      },
      {
        "duration": 929,
        "start_time": "2022-02-01T10:12:24.589Z"
      },
      {
        "duration": 7,
        "start_time": "2022-02-01T10:12:25.520Z"
      },
      {
        "duration": 1603,
        "start_time": "2022-02-01T10:12:25.529Z"
      },
      {
        "duration": 1728,
        "start_time": "2022-02-01T10:12:27.135Z"
      },
      {
        "duration": 1774,
        "start_time": "2022-02-01T10:12:28.865Z"
      },
      {
        "duration": 15,
        "start_time": "2022-02-01T10:12:30.641Z"
      },
      {
        "duration": 1120,
        "start_time": "2022-02-01T10:12:30.658Z"
      },
      {
        "duration": 1072,
        "start_time": "2022-02-01T10:12:31.780Z"
      },
      {
        "duration": 6,
        "start_time": "2022-02-01T10:12:32.855Z"
      },
      {
        "duration": 17,
        "start_time": "2022-02-01T10:12:32.863Z"
      },
      {
        "duration": 15,
        "start_time": "2022-02-01T10:12:32.882Z"
      },
      {
        "duration": 1281,
        "start_time": "2022-02-01T10:12:32.899Z"
      },
      {
        "duration": 1001,
        "start_time": "2022-02-01T10:12:34.182Z"
      },
      {
        "duration": 6,
        "start_time": "2022-02-01T10:12:35.186Z"
      },
      {
        "duration": 24,
        "start_time": "2022-02-01T10:12:35.194Z"
      },
      {
        "duration": 5835,
        "start_time": "2022-02-01T10:12:35.222Z"
      },
      {
        "duration": 12,
        "start_time": "2022-02-01T10:12:45.340Z"
      },
      {
        "duration": 38,
        "start_time": "2022-02-01T10:12:45.354Z"
      },
      {
        "duration": 10,
        "start_time": "2022-02-01T10:12:45.395Z"
      },
      {
        "duration": 31,
        "start_time": "2022-02-01T10:12:45.408Z"
      },
      {
        "duration": 14,
        "start_time": "2022-02-01T10:12:45.442Z"
      },
      {
        "duration": 5,
        "start_time": "2022-02-01T10:12:45.459Z"
      },
      {
        "duration": 13,
        "start_time": "2022-02-01T10:12:45.466Z"
      },
      {
        "duration": 39,
        "start_time": "2022-02-01T10:12:45.483Z"
      },
      {
        "duration": 8,
        "start_time": "2022-02-01T10:12:45.525Z"
      },
      {
        "duration": 9,
        "start_time": "2022-02-01T10:12:45.535Z"
      },
      {
        "duration": 10,
        "start_time": "2022-02-01T10:12:45.547Z"
      },
      {
        "duration": 9,
        "start_time": "2022-02-01T10:12:45.560Z"
      },
      {
        "duration": 56,
        "start_time": "2022-02-01T10:12:45.571Z"
      },
      {
        "duration": 13,
        "start_time": "2022-02-01T10:12:45.629Z"
      },
      {
        "duration": 5,
        "start_time": "2022-02-01T10:12:45.644Z"
      },
      {
        "duration": 6,
        "start_time": "2022-02-01T10:12:45.651Z"
      },
      {
        "duration": 8,
        "start_time": "2022-02-01T10:12:45.659Z"
      },
      {
        "duration": 6,
        "start_time": "2022-02-01T10:12:45.668Z"
      },
      {
        "duration": 8,
        "start_time": "2022-02-01T10:12:45.676Z"
      },
      {
        "duration": 39,
        "start_time": "2022-02-01T10:12:45.686Z"
      },
      {
        "duration": 5,
        "start_time": "2022-02-01T10:12:45.727Z"
      },
      {
        "duration": 8,
        "start_time": "2022-02-01T10:12:45.734Z"
      },
      {
        "duration": 15,
        "start_time": "2022-02-01T10:12:45.746Z"
      },
      {
        "duration": 422,
        "start_time": "2022-02-01T10:12:45.763Z"
      },
      {
        "duration": 4,
        "start_time": "2022-02-01T10:12:46.187Z"
      },
      {
        "duration": 17,
        "start_time": "2022-02-01T10:12:46.193Z"
      },
      {
        "duration": 23,
        "start_time": "2022-02-01T10:12:46.212Z"
      },
      {
        "duration": 20,
        "start_time": "2022-02-01T10:12:46.237Z"
      },
      {
        "duration": 5,
        "start_time": "2022-02-01T10:12:46.258Z"
      },
      {
        "duration": 833,
        "start_time": "2022-02-01T10:12:46.265Z"
      },
      {
        "duration": 631,
        "start_time": "2022-02-01T10:12:47.100Z"
      },
      {
        "duration": 5775,
        "start_time": "2022-02-01T10:12:47.733Z"
      },
      {
        "duration": 709,
        "start_time": "2022-02-01T10:12:53.509Z"
      },
      {
        "duration": 23,
        "start_time": "2022-02-01T10:12:54.220Z"
      },
      {
        "duration": 774,
        "start_time": "2022-02-01T10:12:54.244Z"
      },
      {
        "duration": 826,
        "start_time": "2022-02-01T10:12:55.020Z"
      },
      {
        "duration": 653,
        "start_time": "2022-02-01T10:12:55.848Z"
      },
      {
        "duration": 772,
        "start_time": "2022-02-01T10:12:56.503Z"
      },
      {
        "duration": 5,
        "start_time": "2022-02-01T10:12:57.277Z"
      },
      {
        "duration": 9186,
        "start_time": "2022-02-01T10:12:57.284Z"
      },
      {
        "duration": 738,
        "start_time": "2022-02-01T10:13:06.472Z"
      },
      {
        "duration": 9,
        "start_time": "2022-02-01T10:13:07.212Z"
      },
      {
        "duration": 1146,
        "start_time": "2022-02-01T10:13:07.223Z"
      },
      {
        "duration": 1175,
        "start_time": "2022-02-01T10:13:08.371Z"
      },
      {
        "duration": 1761,
        "start_time": "2022-02-01T10:13:09.548Z"
      },
      {
        "duration": 18,
        "start_time": "2022-02-01T10:13:11.311Z"
      },
      {
        "duration": 926,
        "start_time": "2022-02-01T10:13:11.331Z"
      },
      {
        "duration": 645,
        "start_time": "2022-02-01T10:13:12.259Z"
      },
      {
        "duration": 12,
        "start_time": "2022-02-01T10:13:12.906Z"
      },
      {
        "duration": 6,
        "start_time": "2022-02-01T10:13:12.920Z"
      },
      {
        "duration": 14,
        "start_time": "2022-02-01T10:13:12.927Z"
      },
      {
        "duration": 888,
        "start_time": "2022-02-01T10:13:12.943Z"
      },
      {
        "duration": 676,
        "start_time": "2022-02-01T10:13:13.832Z"
      },
      {
        "duration": 5,
        "start_time": "2022-02-01T10:13:14.518Z"
      },
      {
        "duration": 12,
        "start_time": "2022-02-01T10:13:14.525Z"
      },
      {
        "duration": 716,
        "start_time": "2022-02-01T10:21:44.791Z"
      },
      {
        "duration": 839,
        "start_time": "2022-02-01T10:22:16.958Z"
      },
      {
        "duration": 717,
        "start_time": "2022-02-01T10:22:36.912Z"
      },
      {
        "duration": 5989,
        "start_time": "2022-02-01T10:28:32.551Z"
      },
      {
        "duration": 5698,
        "start_time": "2022-02-01T10:29:10.047Z"
      },
      {
        "duration": 5918,
        "start_time": "2022-02-01T10:29:35.566Z"
      },
      {
        "duration": 1177,
        "start_time": "2022-02-01T10:29:46.817Z"
      },
      {
        "duration": 40,
        "start_time": "2022-02-01T10:29:47.996Z"
      },
      {
        "duration": 11,
        "start_time": "2022-02-01T10:29:48.039Z"
      },
      {
        "duration": 31,
        "start_time": "2022-02-01T10:29:48.052Z"
      },
      {
        "duration": 13,
        "start_time": "2022-02-01T10:29:48.085Z"
      },
      {
        "duration": 4,
        "start_time": "2022-02-01T10:29:48.119Z"
      },
      {
        "duration": 12,
        "start_time": "2022-02-01T10:29:48.125Z"
      },
      {
        "duration": 5,
        "start_time": "2022-02-01T10:29:48.140Z"
      },
      {
        "duration": 10,
        "start_time": "2022-02-01T10:29:48.147Z"
      },
      {
        "duration": 10,
        "start_time": "2022-02-01T10:29:48.159Z"
      },
      {
        "duration": 12,
        "start_time": "2022-02-01T10:29:48.170Z"
      },
      {
        "duration": 36,
        "start_time": "2022-02-01T10:29:48.184Z"
      },
      {
        "duration": 10,
        "start_time": "2022-02-01T10:29:48.222Z"
      },
      {
        "duration": 10,
        "start_time": "2022-02-01T10:29:48.233Z"
      },
      {
        "duration": 4,
        "start_time": "2022-02-01T10:29:48.244Z"
      },
      {
        "duration": 6,
        "start_time": "2022-02-01T10:29:48.250Z"
      },
      {
        "duration": 5,
        "start_time": "2022-02-01T10:29:48.257Z"
      },
      {
        "duration": 7,
        "start_time": "2022-02-01T10:29:48.264Z"
      },
      {
        "duration": 7,
        "start_time": "2022-02-01T10:29:48.272Z"
      },
      {
        "duration": 42,
        "start_time": "2022-02-01T10:29:48.280Z"
      },
      {
        "duration": 4,
        "start_time": "2022-02-01T10:29:48.324Z"
      },
      {
        "duration": 10,
        "start_time": "2022-02-01T10:29:48.329Z"
      },
      {
        "duration": 20,
        "start_time": "2022-02-01T10:29:48.342Z"
      },
      {
        "duration": 376,
        "start_time": "2022-02-01T10:29:48.364Z"
      },
      {
        "duration": 4,
        "start_time": "2022-02-01T10:29:48.742Z"
      },
      {
        "duration": 8,
        "start_time": "2022-02-01T10:29:48.748Z"
      },
      {
        "duration": 23,
        "start_time": "2022-02-01T10:29:48.757Z"
      },
      {
        "duration": 26,
        "start_time": "2022-02-01T10:29:48.782Z"
      },
      {
        "duration": 3,
        "start_time": "2022-02-01T10:29:48.819Z"
      },
      {
        "duration": 661,
        "start_time": "2022-02-01T10:29:48.824Z"
      },
      {
        "duration": 586,
        "start_time": "2022-02-01T10:29:49.486Z"
      },
      {
        "duration": 5469,
        "start_time": "2022-02-01T10:29:50.075Z"
      },
      {
        "duration": 655,
        "start_time": "2022-02-01T10:29:55.545Z"
      },
      {
        "duration": 31,
        "start_time": "2022-02-01T10:29:56.201Z"
      },
      {
        "duration": 628,
        "start_time": "2022-02-01T10:29:56.234Z"
      },
      {
        "duration": 680,
        "start_time": "2022-02-01T10:29:56.864Z"
      },
      {
        "duration": 795,
        "start_time": "2022-02-01T10:29:57.546Z"
      },
      {
        "duration": 697,
        "start_time": "2022-02-01T10:29:58.342Z"
      },
      {
        "duration": 613,
        "start_time": "2022-02-01T10:29:59.040Z"
      },
      {
        "duration": 6,
        "start_time": "2022-02-01T10:29:59.654Z"
      },
      {
        "duration": 8624,
        "start_time": "2022-02-01T10:29:59.661Z"
      },
      {
        "duration": 598,
        "start_time": "2022-02-01T10:30:08.287Z"
      },
      {
        "duration": 5789,
        "start_time": "2022-02-01T10:30:08.886Z"
      },
      {
        "duration": 5,
        "start_time": "2022-02-01T10:30:14.677Z"
      },
      {
        "duration": 1167,
        "start_time": "2022-02-01T10:30:14.683Z"
      },
      {
        "duration": 1067,
        "start_time": "2022-02-01T10:30:15.851Z"
      },
      {
        "duration": 1064,
        "start_time": "2022-02-01T10:30:16.920Z"
      },
      {
        "duration": 12,
        "start_time": "2022-02-01T10:30:17.986Z"
      },
      {
        "duration": 670,
        "start_time": "2022-02-01T10:30:17.999Z"
      },
      {
        "duration": 695,
        "start_time": "2022-02-01T10:30:18.671Z"
      },
      {
        "duration": 6,
        "start_time": "2022-02-01T10:30:19.368Z"
      },
      {
        "duration": 21,
        "start_time": "2022-02-01T10:30:19.376Z"
      },
      {
        "duration": 25,
        "start_time": "2022-02-01T10:30:19.399Z"
      },
      {
        "duration": 723,
        "start_time": "2022-02-01T10:30:19.426Z"
      },
      {
        "duration": 667,
        "start_time": "2022-02-01T10:30:20.151Z"
      },
      {
        "duration": 6,
        "start_time": "2022-02-01T10:30:20.820Z"
      },
      {
        "duration": 7,
        "start_time": "2022-02-01T10:30:20.828Z"
      },
      {
        "duration": 651,
        "start_time": "2022-02-01T10:30:20.838Z"
      },
      {
        "duration": 6908,
        "start_time": "2022-02-01T10:32:30.917Z"
      },
      {
        "duration": 7080,
        "start_time": "2022-02-01T10:32:47.662Z"
      },
      {
        "duration": 895,
        "start_time": "2022-02-01T10:33:26.606Z"
      },
      {
        "duration": 558,
        "start_time": "2022-02-01T10:34:35.563Z"
      },
      {
        "duration": 403,
        "start_time": "2022-02-01T10:36:51.792Z"
      },
      {
        "duration": 708,
        "start_time": "2022-02-01T10:37:00.512Z"
      },
      {
        "duration": 693,
        "start_time": "2022-02-01T10:37:11.401Z"
      },
      {
        "duration": 614,
        "start_time": "2022-02-01T10:37:20.247Z"
      },
      {
        "duration": 278,
        "start_time": "2022-02-01T10:37:58.455Z"
      },
      {
        "duration": 656,
        "start_time": "2022-02-01T10:38:57.106Z"
      },
      {
        "duration": 8092,
        "start_time": "2022-02-01T10:40:18.530Z"
      },
      {
        "duration": 751,
        "start_time": "2022-02-01T10:40:54.996Z"
      },
      {
        "duration": 618,
        "start_time": "2022-02-01T10:41:10.782Z"
      },
      {
        "duration": 8091,
        "start_time": "2022-02-01T10:41:36.714Z"
      },
      {
        "duration": 280,
        "start_time": "2022-02-01T10:43:25.133Z"
      },
      {
        "duration": 268,
        "start_time": "2022-02-01T10:44:15.054Z"
      },
      {
        "duration": 97,
        "start_time": "2022-02-01T10:44:23.686Z"
      },
      {
        "duration": 119,
        "start_time": "2022-02-01T10:45:32.611Z"
      },
      {
        "duration": 89,
        "start_time": "2022-02-01T10:45:41.189Z"
      },
      {
        "duration": 22,
        "start_time": "2022-02-01T10:46:11.227Z"
      },
      {
        "duration": 86,
        "start_time": "2022-02-01T10:47:01.423Z"
      },
      {
        "duration": 79,
        "start_time": "2022-02-01T10:47:06.907Z"
      },
      {
        "duration": 82,
        "start_time": "2022-02-01T10:47:09.633Z"
      },
      {
        "duration": 543,
        "start_time": "2022-02-01T10:50:06.130Z"
      },
      {
        "duration": 318,
        "start_time": "2022-02-01T10:50:33.438Z"
      },
      {
        "duration": 288,
        "start_time": "2022-02-01T10:50:54.063Z"
      },
      {
        "duration": 440,
        "start_time": "2022-02-01T10:51:33.794Z"
      },
      {
        "duration": 670,
        "start_time": "2022-02-01T10:52:00.660Z"
      },
      {
        "duration": 801,
        "start_time": "2022-02-01T10:52:43.252Z"
      },
      {
        "duration": 744,
        "start_time": "2022-02-01T10:54:30.436Z"
      },
      {
        "duration": 683,
        "start_time": "2022-02-01T10:55:27.112Z"
      },
      {
        "duration": 631,
        "start_time": "2022-02-01T11:02:17.141Z"
      },
      {
        "duration": 11,
        "start_time": "2022-02-01T12:10:33.854Z"
      },
      {
        "duration": 6,
        "start_time": "2022-02-01T12:10:38.793Z"
      },
      {
        "duration": 13,
        "start_time": "2022-02-01T12:10:57.703Z"
      },
      {
        "duration": 700,
        "start_time": "2022-02-01T12:13:08.935Z"
      },
      {
        "duration": 1201,
        "start_time": "2022-02-01T12:22:07.012Z"
      },
      {
        "duration": 41,
        "start_time": "2022-02-01T12:22:08.215Z"
      },
      {
        "duration": 11,
        "start_time": "2022-02-01T12:22:08.258Z"
      },
      {
        "duration": 40,
        "start_time": "2022-02-01T12:22:08.271Z"
      },
      {
        "duration": 13,
        "start_time": "2022-02-01T12:22:08.313Z"
      },
      {
        "duration": 6,
        "start_time": "2022-02-01T12:22:08.328Z"
      },
      {
        "duration": 15,
        "start_time": "2022-02-01T12:22:08.335Z"
      },
      {
        "duration": 6,
        "start_time": "2022-02-01T12:22:08.352Z"
      },
      {
        "duration": 9,
        "start_time": "2022-02-01T12:22:08.360Z"
      },
      {
        "duration": 13,
        "start_time": "2022-02-01T12:22:08.371Z"
      },
      {
        "duration": 11,
        "start_time": "2022-02-01T12:22:08.385Z"
      },
      {
        "duration": 5,
        "start_time": "2022-02-01T12:22:08.419Z"
      },
      {
        "duration": 17,
        "start_time": "2022-02-01T12:22:08.425Z"
      },
      {
        "duration": 9,
        "start_time": "2022-02-01T12:22:08.444Z"
      },
      {
        "duration": 5,
        "start_time": "2022-02-01T12:22:08.454Z"
      },
      {
        "duration": 6,
        "start_time": "2022-02-01T12:22:08.461Z"
      },
      {
        "duration": 7,
        "start_time": "2022-02-01T12:22:08.469Z"
      },
      {
        "duration": 8,
        "start_time": "2022-02-01T12:22:08.477Z"
      },
      {
        "duration": 31,
        "start_time": "2022-02-01T12:22:08.487Z"
      },
      {
        "duration": 8,
        "start_time": "2022-02-01T12:22:08.520Z"
      },
      {
        "duration": 10,
        "start_time": "2022-02-01T12:22:08.530Z"
      },
      {
        "duration": 13,
        "start_time": "2022-02-01T12:22:08.541Z"
      },
      {
        "duration": 17,
        "start_time": "2022-02-01T12:22:08.557Z"
      },
      {
        "duration": 405,
        "start_time": "2022-02-01T12:22:08.576Z"
      },
      {
        "duration": 4,
        "start_time": "2022-02-01T12:22:08.983Z"
      },
      {
        "duration": 25,
        "start_time": "2022-02-01T12:22:08.988Z"
      },
      {
        "duration": 20,
        "start_time": "2022-02-01T12:22:09.015Z"
      },
      {
        "duration": 26,
        "start_time": "2022-02-01T12:22:09.036Z"
      },
      {
        "duration": 6,
        "start_time": "2022-02-01T12:22:09.064Z"
      },
      {
        "duration": 689,
        "start_time": "2022-02-01T12:22:09.071Z"
      },
      {
        "duration": 594,
        "start_time": "2022-02-01T12:22:09.762Z"
      },
      {
        "duration": 5388,
        "start_time": "2022-02-01T12:22:10.358Z"
      },
      {
        "duration": 743,
        "start_time": "2022-02-01T12:22:15.748Z"
      },
      {
        "duration": 36,
        "start_time": "2022-02-01T12:22:16.493Z"
      },
      {
        "duration": 706,
        "start_time": "2022-02-01T12:22:16.531Z"
      },
      {
        "duration": 802,
        "start_time": "2022-02-01T12:22:17.239Z"
      },
      {
        "duration": 656,
        "start_time": "2022-02-01T12:22:18.043Z"
      },
      {
        "duration": 792,
        "start_time": "2022-02-01T12:22:18.702Z"
      },
      {
        "duration": 6,
        "start_time": "2022-02-01T12:22:19.495Z"
      },
      {
        "duration": 7916,
        "start_time": "2022-02-01T12:22:19.518Z"
      },
      {
        "duration": 709,
        "start_time": "2022-02-01T12:22:27.436Z"
      },
      {
        "duration": 729,
        "start_time": "2022-02-01T12:22:28.147Z"
      },
      {
        "duration": 5,
        "start_time": "2022-02-01T12:22:28.878Z"
      },
      {
        "duration": 1277,
        "start_time": "2022-02-01T12:22:28.885Z"
      },
      {
        "duration": 1183,
        "start_time": "2022-02-01T12:22:30.164Z"
      },
      {
        "duration": 1039,
        "start_time": "2022-02-01T12:22:31.350Z"
      },
      {
        "duration": 10,
        "start_time": "2022-02-01T12:22:32.391Z"
      },
      {
        "duration": 656,
        "start_time": "2022-02-01T12:22:32.403Z"
      },
      {
        "duration": 591,
        "start_time": "2022-02-01T12:22:33.061Z"
      },
      {
        "duration": 5,
        "start_time": "2022-02-01T12:22:33.654Z"
      },
      {
        "duration": 7,
        "start_time": "2022-02-01T12:22:33.661Z"
      },
      {
        "duration": 14,
        "start_time": "2022-02-01T12:22:33.669Z"
      },
      {
        "duration": 830,
        "start_time": "2022-02-01T12:22:33.685Z"
      },
      {
        "duration": 619,
        "start_time": "2022-02-01T12:22:34.519Z"
      },
      {
        "duration": 5,
        "start_time": "2022-02-01T12:22:35.140Z"
      },
      {
        "duration": 6,
        "start_time": "2022-02-01T12:22:35.147Z"
      },
      {
        "duration": 1243,
        "start_time": "2022-02-02T07:20:48.469Z"
      },
      {
        "duration": 44,
        "start_time": "2022-02-02T07:20:49.714Z"
      },
      {
        "duration": 14,
        "start_time": "2022-02-02T07:20:49.764Z"
      },
      {
        "duration": 72,
        "start_time": "2022-02-02T07:20:49.780Z"
      },
      {
        "duration": 22,
        "start_time": "2022-02-02T07:20:49.854Z"
      },
      {
        "duration": 9,
        "start_time": "2022-02-02T07:20:49.878Z"
      },
      {
        "duration": 33,
        "start_time": "2022-02-02T07:20:49.890Z"
      },
      {
        "duration": 5,
        "start_time": "2022-02-02T07:20:49.925Z"
      },
      {
        "duration": 17,
        "start_time": "2022-02-02T07:20:49.932Z"
      },
      {
        "duration": 12,
        "start_time": "2022-02-02T07:20:49.950Z"
      },
      {
        "duration": 11,
        "start_time": "2022-02-02T07:20:49.964Z"
      },
      {
        "duration": 6,
        "start_time": "2022-02-02T07:20:49.977Z"
      },
      {
        "duration": 45,
        "start_time": "2022-02-02T07:20:49.985Z"
      },
      {
        "duration": 10,
        "start_time": "2022-02-02T07:20:50.032Z"
      },
      {
        "duration": 5,
        "start_time": "2022-02-02T07:20:50.044Z"
      },
      {
        "duration": 12,
        "start_time": "2022-02-02T07:20:50.051Z"
      },
      {
        "duration": 19,
        "start_time": "2022-02-02T07:20:50.065Z"
      },
      {
        "duration": 36,
        "start_time": "2022-02-02T07:20:50.086Z"
      },
      {
        "duration": 17,
        "start_time": "2022-02-02T07:20:50.124Z"
      },
      {
        "duration": 16,
        "start_time": "2022-02-02T07:20:50.144Z"
      },
      {
        "duration": 15,
        "start_time": "2022-02-02T07:20:50.163Z"
      },
      {
        "duration": 9,
        "start_time": "2022-02-02T07:20:50.183Z"
      },
      {
        "duration": 40,
        "start_time": "2022-02-02T07:20:50.195Z"
      },
      {
        "duration": 415,
        "start_time": "2022-02-02T07:20:50.238Z"
      },
      {
        "duration": 5,
        "start_time": "2022-02-02T07:20:50.655Z"
      },
      {
        "duration": 9,
        "start_time": "2022-02-02T07:20:50.662Z"
      },
      {
        "duration": 20,
        "start_time": "2022-02-02T07:20:50.673Z"
      },
      {
        "duration": 41,
        "start_time": "2022-02-02T07:20:50.695Z"
      },
      {
        "duration": 4,
        "start_time": "2022-02-02T07:20:50.738Z"
      },
      {
        "duration": 769,
        "start_time": "2022-02-02T07:20:50.744Z"
      },
      {
        "duration": 622,
        "start_time": "2022-02-02T07:20:51.515Z"
      },
      {
        "duration": 5567,
        "start_time": "2022-02-02T07:20:52.138Z"
      },
      {
        "duration": 664,
        "start_time": "2022-02-02T07:20:57.707Z"
      },
      {
        "duration": 23,
        "start_time": "2022-02-02T07:20:58.373Z"
      },
      {
        "duration": 644,
        "start_time": "2022-02-02T07:20:58.419Z"
      },
      {
        "duration": 830,
        "start_time": "2022-02-02T07:20:59.065Z"
      },
      {
        "duration": 709,
        "start_time": "2022-02-02T07:20:59.897Z"
      },
      {
        "duration": 766,
        "start_time": "2022-02-02T07:21:00.607Z"
      },
      {
        "duration": 6,
        "start_time": "2022-02-02T07:21:01.375Z"
      },
      {
        "duration": 8401,
        "start_time": "2022-02-02T07:21:01.383Z"
      },
      {
        "duration": 686,
        "start_time": "2022-02-02T07:21:09.785Z"
      },
      {
        "duration": 692,
        "start_time": "2022-02-02T07:21:10.473Z"
      },
      {
        "duration": 4,
        "start_time": "2022-02-02T07:21:11.167Z"
      },
      {
        "duration": 1080,
        "start_time": "2022-02-02T07:21:11.173Z"
      },
      {
        "duration": 1087,
        "start_time": "2022-02-02T07:21:12.254Z"
      },
      {
        "duration": 1063,
        "start_time": "2022-02-02T07:21:13.343Z"
      },
      {
        "duration": 17,
        "start_time": "2022-02-02T07:21:14.409Z"
      },
      {
        "duration": 700,
        "start_time": "2022-02-02T07:21:14.429Z"
      },
      {
        "duration": 612,
        "start_time": "2022-02-02T07:21:15.130Z"
      },
      {
        "duration": 6,
        "start_time": "2022-02-02T07:21:15.744Z"
      },
      {
        "duration": 11,
        "start_time": "2022-02-02T07:21:15.753Z"
      },
      {
        "duration": 16,
        "start_time": "2022-02-02T07:21:15.766Z"
      },
      {
        "duration": 829,
        "start_time": "2022-02-02T07:21:15.784Z"
      },
      {
        "duration": 649,
        "start_time": "2022-02-02T07:21:16.619Z"
      },
      {
        "duration": 7,
        "start_time": "2022-02-02T07:21:17.270Z"
      },
      {
        "duration": 8,
        "start_time": "2022-02-02T07:21:17.278Z"
      },
      {
        "duration": 279,
        "start_time": "2022-02-12T10:48:09.162Z"
      },
      {
        "duration": 1214,
        "start_time": "2022-02-12T10:48:15.610Z"
      },
      {
        "duration": 37,
        "start_time": "2022-02-12T10:48:16.826Z"
      },
      {
        "duration": 12,
        "start_time": "2022-02-12T10:48:16.865Z"
      },
      {
        "duration": 46,
        "start_time": "2022-02-12T10:48:16.879Z"
      },
      {
        "duration": 16,
        "start_time": "2022-02-12T10:48:16.927Z"
      },
      {
        "duration": 6,
        "start_time": "2022-02-12T10:48:16.945Z"
      },
      {
        "duration": 15,
        "start_time": "2022-02-12T10:48:16.953Z"
      },
      {
        "duration": 7,
        "start_time": "2022-02-12T10:48:16.970Z"
      },
      {
        "duration": 33,
        "start_time": "2022-02-12T10:48:16.980Z"
      },
      {
        "duration": 13,
        "start_time": "2022-02-12T10:48:17.015Z"
      },
      {
        "duration": 11,
        "start_time": "2022-02-12T10:48:17.030Z"
      },
      {
        "duration": 9,
        "start_time": "2022-02-12T10:48:17.043Z"
      },
      {
        "duration": 21,
        "start_time": "2022-02-12T10:48:17.054Z"
      },
      {
        "duration": 34,
        "start_time": "2022-02-12T10:48:17.078Z"
      },
      {
        "duration": 9,
        "start_time": "2022-02-12T10:48:17.114Z"
      },
      {
        "duration": 9,
        "start_time": "2022-02-12T10:48:17.125Z"
      },
      {
        "duration": 8,
        "start_time": "2022-02-12T10:48:17.136Z"
      },
      {
        "duration": 11,
        "start_time": "2022-02-12T10:48:17.147Z"
      },
      {
        "duration": 9,
        "start_time": "2022-02-12T10:48:17.160Z"
      },
      {
        "duration": 40,
        "start_time": "2022-02-12T10:48:17.171Z"
      },
      {
        "duration": 5,
        "start_time": "2022-02-12T10:48:17.212Z"
      },
      {
        "duration": 29,
        "start_time": "2022-02-12T10:48:17.220Z"
      },
      {
        "duration": 22,
        "start_time": "2022-02-12T10:48:17.251Z"
      },
      {
        "duration": 389,
        "start_time": "2022-02-12T10:48:17.275Z"
      },
      {
        "duration": 5,
        "start_time": "2022-02-12T10:48:17.666Z"
      },
      {
        "duration": 27,
        "start_time": "2022-02-12T10:48:17.673Z"
      },
      {
        "duration": 28,
        "start_time": "2022-02-12T10:48:17.704Z"
      },
      {
        "duration": 29,
        "start_time": "2022-02-12T10:48:17.735Z"
      },
      {
        "duration": 4,
        "start_time": "2022-02-12T10:48:17.766Z"
      },
      {
        "duration": 707,
        "start_time": "2022-02-12T10:48:17.772Z"
      },
      {
        "duration": 647,
        "start_time": "2022-02-12T10:48:18.481Z"
      },
      {
        "duration": 5697,
        "start_time": "2022-02-12T10:48:19.130Z"
      },
      {
        "duration": 684,
        "start_time": "2022-02-12T10:48:24.829Z"
      },
      {
        "duration": 24,
        "start_time": "2022-02-12T10:48:25.515Z"
      },
      {
        "duration": 675,
        "start_time": "2022-02-12T10:48:25.541Z"
      },
      {
        "duration": 830,
        "start_time": "2022-02-12T10:48:26.219Z"
      },
      {
        "duration": 648,
        "start_time": "2022-02-12T10:48:27.051Z"
      },
      {
        "duration": 780,
        "start_time": "2022-02-12T10:48:27.701Z"
      },
      {
        "duration": 6,
        "start_time": "2022-02-12T10:48:28.483Z"
      },
      {
        "duration": 8716,
        "start_time": "2022-02-12T10:48:28.491Z"
      },
      {
        "duration": 730,
        "start_time": "2022-02-12T10:48:37.209Z"
      },
      {
        "duration": 710,
        "start_time": "2022-02-12T10:48:37.941Z"
      },
      {
        "duration": 5,
        "start_time": "2022-02-12T10:48:38.653Z"
      },
      {
        "duration": 1141,
        "start_time": "2022-02-12T10:48:38.660Z"
      },
      {
        "duration": 1167,
        "start_time": "2022-02-12T10:48:39.802Z"
      },
      {
        "duration": 1139,
        "start_time": "2022-02-12T10:48:40.971Z"
      },
      {
        "duration": 12,
        "start_time": "2022-02-12T10:48:42.112Z"
      },
      {
        "duration": 838,
        "start_time": "2022-02-12T10:48:42.125Z"
      },
      {
        "duration": 633,
        "start_time": "2022-02-12T10:48:42.965Z"
      },
      {
        "duration": 11,
        "start_time": "2022-02-12T10:48:43.600Z"
      },
      {
        "duration": 28,
        "start_time": "2022-02-12T10:48:43.613Z"
      },
      {
        "duration": 27,
        "start_time": "2022-02-12T10:48:43.643Z"
      },
      {
        "duration": 805,
        "start_time": "2022-02-12T10:48:43.672Z"
      },
      {
        "duration": 655,
        "start_time": "2022-02-12T10:48:44.479Z"
      },
      {
        "duration": 6,
        "start_time": "2022-02-12T10:48:45.136Z"
      },
      {
        "duration": 10,
        "start_time": "2022-02-12T10:48:45.144Z"
      },
      {
        "duration": 7,
        "start_time": "2022-02-12T11:03:02.638Z"
      },
      {
        "duration": 8,
        "start_time": "2022-02-12T11:10:06.718Z"
      },
      {
        "duration": 6,
        "start_time": "2022-02-12T11:10:40.787Z"
      },
      {
        "duration": 25,
        "start_time": "2022-02-12T11:19:01.285Z"
      },
      {
        "duration": 654,
        "start_time": "2022-02-12T11:19:09.115Z"
      },
      {
        "duration": 23,
        "start_time": "2022-02-12T11:19:41.092Z"
      },
      {
        "duration": 1135,
        "start_time": "2022-02-12T11:19:46.136Z"
      },
      {
        "duration": 24,
        "start_time": "2022-02-12T11:20:06.149Z"
      },
      {
        "duration": 713,
        "start_time": "2022-02-12T11:20:11.024Z"
      },
      {
        "duration": 6,
        "start_time": "2022-02-12T11:21:59.314Z"
      },
      {
        "duration": 5919,
        "start_time": "2022-02-12T11:32:37.503Z"
      },
      {
        "duration": 796,
        "start_time": "2022-02-12T11:33:43.890Z"
      },
      {
        "duration": 974,
        "start_time": "2022-02-12T11:33:55.628Z"
      },
      {
        "duration": 334,
        "start_time": "2022-02-12T11:40:45.964Z"
      },
      {
        "duration": 258,
        "start_time": "2022-02-12T11:41:03.037Z"
      },
      {
        "duration": 301,
        "start_time": "2022-02-12T11:41:18.918Z"
      },
      {
        "duration": 253,
        "start_time": "2022-02-12T11:44:31.264Z"
      },
      {
        "duration": 648,
        "start_time": "2022-02-12T11:44:57.226Z"
      },
      {
        "duration": 409,
        "start_time": "2022-02-12T11:47:11.664Z"
      },
      {
        "duration": 250,
        "start_time": "2022-02-12T11:47:39.844Z"
      },
      {
        "duration": 1003,
        "start_time": "2022-02-12T11:52:29.705Z"
      },
      {
        "duration": 79,
        "start_time": "2022-02-12T11:52:47.355Z"
      },
      {
        "duration": 678,
        "start_time": "2022-02-12T11:52:56.852Z"
      },
      {
        "duration": 738,
        "start_time": "2022-02-12T11:53:29.779Z"
      },
      {
        "duration": 252,
        "start_time": "2022-02-12T11:56:37.673Z"
      },
      {
        "duration": 18,
        "start_time": "2022-02-12T11:56:59.758Z"
      },
      {
        "duration": 5262,
        "start_time": "2022-02-12T12:05:15.271Z"
      },
      {
        "duration": 709,
        "start_time": "2022-02-12T12:07:57.314Z"
      },
      {
        "duration": 1354,
        "start_time": "2022-02-12T12:17:14.007Z"
      },
      {
        "duration": 7989,
        "start_time": "2022-02-12T12:24:55.655Z"
      },
      {
        "duration": 14,
        "start_time": "2022-02-12T12:25:41.857Z"
      },
      {
        "duration": 566,
        "start_time": "2022-02-12T12:26:35.104Z"
      },
      {
        "duration": 13,
        "start_time": "2022-02-12T12:30:02.248Z"
      },
      {
        "duration": 17,
        "start_time": "2022-02-12T12:30:47.388Z"
      },
      {
        "duration": 571,
        "start_time": "2022-02-12T12:31:08.202Z"
      },
      {
        "duration": 15,
        "start_time": "2022-02-12T12:32:05.110Z"
      },
      {
        "duration": 17,
        "start_time": "2022-02-12T12:34:10.546Z"
      },
      {
        "duration": 79,
        "start_time": "2022-02-12T12:38:59.055Z"
      },
      {
        "duration": 31,
        "start_time": "2022-02-12T12:39:08.815Z"
      },
      {
        "duration": 21,
        "start_time": "2022-02-12T12:39:23.364Z"
      },
      {
        "duration": 55,
        "start_time": "2022-02-12T12:46:00.386Z"
      },
      {
        "duration": 260,
        "start_time": "2022-02-12T12:46:17.835Z"
      },
      {
        "duration": 24,
        "start_time": "2022-02-12T12:46:37.466Z"
      },
      {
        "duration": 285,
        "start_time": "2022-02-12T12:47:27.271Z"
      },
      {
        "duration": 22,
        "start_time": "2022-02-12T12:48:40.633Z"
      },
      {
        "duration": 21,
        "start_time": "2022-02-12T12:48:52.987Z"
      },
      {
        "duration": 331,
        "start_time": "2022-02-12T12:56:49.945Z"
      },
      {
        "duration": 265,
        "start_time": "2022-02-12T12:56:59.977Z"
      },
      {
        "duration": 24,
        "start_time": "2022-02-12T13:01:19.844Z"
      },
      {
        "duration": 301,
        "start_time": "2022-02-12T13:01:40.320Z"
      },
      {
        "duration": 25,
        "start_time": "2022-02-12T13:01:46.872Z"
      },
      {
        "duration": 251,
        "start_time": "2022-02-12T13:02:03.343Z"
      },
      {
        "duration": 261,
        "start_time": "2022-02-12T13:02:10.112Z"
      },
      {
        "duration": 24,
        "start_time": "2022-02-12T13:03:10.161Z"
      },
      {
        "duration": 9977,
        "start_time": "2022-02-12T13:06:25.957Z"
      },
      {
        "duration": 5279,
        "start_time": "2022-02-12T13:06:52.698Z"
      },
      {
        "duration": 7,
        "start_time": "2022-02-12T13:07:42.329Z"
      },
      {
        "duration": 7,
        "start_time": "2022-02-12T13:08:50.804Z"
      },
      {
        "duration": 2065,
        "start_time": "2022-02-12T13:08:56.940Z"
      },
      {
        "duration": 5,
        "start_time": "2022-02-12T13:09:25.331Z"
      },
      {
        "duration": 1225,
        "start_time": "2022-02-12T13:09:28.882Z"
      },
      {
        "duration": 1113,
        "start_time": "2022-02-12T13:12:04.637Z"
      },
      {
        "duration": 1081,
        "start_time": "2022-02-12T13:15:36.837Z"
      },
      {
        "duration": 11,
        "start_time": "2022-02-12T13:20:12.425Z"
      },
      {
        "duration": 711,
        "start_time": "2022-02-12T13:20:16.625Z"
      },
      {
        "duration": 597,
        "start_time": "2022-02-12T13:20:21.681Z"
      },
      {
        "duration": 6,
        "start_time": "2022-02-12T13:20:37.439Z"
      },
      {
        "duration": 5,
        "start_time": "2022-02-12T13:20:43.037Z"
      },
      {
        "duration": 10,
        "start_time": "2022-02-12T13:22:02.885Z"
      },
      {
        "duration": 651,
        "start_time": "2022-02-12T13:22:06.065Z"
      },
      {
        "duration": 647,
        "start_time": "2022-02-12T13:22:09.993Z"
      },
      {
        "duration": 7,
        "start_time": "2022-02-12T13:24:44.225Z"
      },
      {
        "duration": 5,
        "start_time": "2022-02-12T13:26:08.671Z"
      },
      {
        "duration": 11,
        "start_time": "2022-02-12T13:35:44.644Z"
      },
      {
        "duration": 37,
        "start_time": "2022-02-12T13:35:44.692Z"
      },
      {
        "duration": 11,
        "start_time": "2022-02-12T13:35:44.732Z"
      },
      {
        "duration": 141,
        "start_time": "2022-02-12T13:35:44.752Z"
      },
      {
        "duration": 19,
        "start_time": "2022-02-12T13:35:44.914Z"
      },
      {
        "duration": 11,
        "start_time": "2022-02-12T13:35:44.935Z"
      },
      {
        "duration": 29,
        "start_time": "2022-02-12T13:35:44.948Z"
      },
      {
        "duration": 16,
        "start_time": "2022-02-12T13:35:44.979Z"
      },
      {
        "duration": 57,
        "start_time": "2022-02-12T13:35:44.997Z"
      },
      {
        "duration": 39,
        "start_time": "2022-02-12T13:35:45.056Z"
      },
      {
        "duration": 40,
        "start_time": "2022-02-12T13:35:45.098Z"
      },
      {
        "duration": 18,
        "start_time": "2022-02-12T13:35:45.141Z"
      },
      {
        "duration": 16,
        "start_time": "2022-02-12T13:35:45.161Z"
      },
      {
        "duration": 14,
        "start_time": "2022-02-12T13:35:45.180Z"
      },
      {
        "duration": 24,
        "start_time": "2022-02-12T13:35:45.196Z"
      },
      {
        "duration": 12,
        "start_time": "2022-02-12T13:35:45.223Z"
      },
      {
        "duration": 10,
        "start_time": "2022-02-12T13:35:45.238Z"
      },
      {
        "duration": 10,
        "start_time": "2022-02-12T13:35:45.250Z"
      },
      {
        "duration": 15,
        "start_time": "2022-02-12T13:35:45.263Z"
      },
      {
        "duration": 11,
        "start_time": "2022-02-12T13:35:45.281Z"
      },
      {
        "duration": 17,
        "start_time": "2022-02-12T13:35:45.295Z"
      },
      {
        "duration": 19,
        "start_time": "2022-02-12T13:35:45.314Z"
      },
      {
        "duration": 13,
        "start_time": "2022-02-12T13:35:45.335Z"
      },
      {
        "duration": 20,
        "start_time": "2022-02-12T13:35:45.350Z"
      },
      {
        "duration": 472,
        "start_time": "2022-02-12T13:35:45.372Z"
      },
      {
        "duration": 4,
        "start_time": "2022-02-12T13:35:45.847Z"
      },
      {
        "duration": 12,
        "start_time": "2022-02-12T13:35:45.853Z"
      },
      {
        "duration": 8,
        "start_time": "2022-02-12T13:35:45.867Z"
      },
      {
        "duration": 10,
        "start_time": "2022-02-12T13:35:45.876Z"
      },
      {
        "duration": 19,
        "start_time": "2022-02-12T13:35:45.907Z"
      },
      {
        "duration": 33,
        "start_time": "2022-02-12T13:35:45.928Z"
      },
      {
        "duration": 5,
        "start_time": "2022-02-12T13:35:45.963Z"
      },
      {
        "duration": 766,
        "start_time": "2022-02-12T13:35:45.970Z"
      },
      {
        "duration": 721,
        "start_time": "2022-02-12T13:35:46.738Z"
      },
      {
        "duration": 6299,
        "start_time": "2022-02-12T13:35:47.462Z"
      },
      {
        "duration": 853,
        "start_time": "2022-02-12T13:35:53.763Z"
      },
      {
        "duration": 25,
        "start_time": "2022-02-12T13:35:54.619Z"
      },
      {
        "duration": 711,
        "start_time": "2022-02-12T13:35:54.647Z"
      },
      {
        "duration": 19,
        "start_time": "2022-02-12T13:35:55.360Z"
      },
      {
        "duration": 5372,
        "start_time": "2022-02-12T13:35:55.381Z"
      },
      {
        "duration": 715,
        "start_time": "2022-02-12T13:36:00.755Z"
      },
      {
        "duration": 873,
        "start_time": "2022-02-12T13:36:01.472Z"
      },
      {
        "duration": 680,
        "start_time": "2022-02-12T13:36:02.348Z"
      },
      {
        "duration": 681,
        "start_time": "2022-02-12T13:36:03.030Z"
      },
      {
        "duration": 5,
        "start_time": "2022-02-12T13:36:03.713Z"
      },
      {
        "duration": 8801,
        "start_time": "2022-02-12T13:36:03.721Z"
      },
      {
        "duration": 747,
        "start_time": "2022-02-12T13:36:12.524Z"
      },
      {
        "duration": 33,
        "start_time": "2022-02-12T13:36:13.274Z"
      },
      {
        "duration": 25,
        "start_time": "2022-02-12T13:36:13.310Z"
      },
      {
        "duration": 737,
        "start_time": "2022-02-12T13:36:13.337Z"
      },
      {
        "duration": 5,
        "start_time": "2022-02-12T13:36:14.076Z"
      },
      {
        "duration": 1238,
        "start_time": "2022-02-12T13:36:14.083Z"
      },
      {
        "duration": 1204,
        "start_time": "2022-02-12T13:36:15.323Z"
      },
      {
        "duration": 1191,
        "start_time": "2022-02-12T13:36:16.529Z"
      },
      {
        "duration": 9,
        "start_time": "2022-02-12T13:36:17.722Z"
      },
      {
        "duration": 676,
        "start_time": "2022-02-12T13:36:17.733Z"
      },
      {
        "duration": 638,
        "start_time": "2022-02-12T13:36:18.412Z"
      },
      {
        "duration": 7,
        "start_time": "2022-02-12T13:36:19.052Z"
      },
      {
        "duration": 13,
        "start_time": "2022-02-12T13:36:19.061Z"
      },
      {
        "duration": 15,
        "start_time": "2022-02-12T13:36:19.076Z"
      },
      {
        "duration": 678,
        "start_time": "2022-02-12T13:36:19.107Z"
      },
      {
        "duration": 1055,
        "start_time": "2022-02-12T13:36:19.788Z"
      },
      {
        "duration": 7,
        "start_time": "2022-02-12T13:36:20.846Z"
      },
      {
        "duration": 11,
        "start_time": "2022-02-12T13:36:20.855Z"
      },
      {
        "duration": 26,
        "start_time": "2022-02-12T13:37:43.690Z"
      },
      {
        "duration": 667,
        "start_time": "2022-02-12T13:37:48.628Z"
      },
      {
        "duration": 5302,
        "start_time": "2022-02-12T13:38:33.387Z"
      },
      {
        "duration": 675,
        "start_time": "2022-02-12T13:39:22.596Z"
      },
      {
        "duration": 12,
        "start_time": "2022-02-12T13:39:27.915Z"
      },
      {
        "duration": 31,
        "start_time": "2022-02-12T13:39:27.953Z"
      },
      {
        "duration": 11,
        "start_time": "2022-02-12T13:39:28.012Z"
      },
      {
        "duration": 29,
        "start_time": "2022-02-12T13:39:28.025Z"
      },
      {
        "duration": 14,
        "start_time": "2022-02-12T13:39:28.056Z"
      },
      {
        "duration": 7,
        "start_time": "2022-02-12T13:39:28.072Z"
      },
      {
        "duration": 36,
        "start_time": "2022-02-12T13:39:28.082Z"
      },
      {
        "duration": 8,
        "start_time": "2022-02-12T13:39:28.120Z"
      },
      {
        "duration": 16,
        "start_time": "2022-02-12T13:39:28.130Z"
      },
      {
        "duration": 139,
        "start_time": "2022-02-12T13:39:28.148Z"
      },
      {
        "duration": 10,
        "start_time": "2022-02-12T13:39:28.307Z"
      },
      {
        "duration": 6,
        "start_time": "2022-02-12T13:39:28.320Z"
      },
      {
        "duration": 13,
        "start_time": "2022-02-12T13:39:28.328Z"
      },
      {
        "duration": 10,
        "start_time": "2022-02-12T13:39:28.344Z"
      },
      {
        "duration": 3,
        "start_time": "2022-02-12T13:39:28.357Z"
      },
      {
        "duration": 47,
        "start_time": "2022-02-12T13:39:28.362Z"
      },
      {
        "duration": 7,
        "start_time": "2022-02-12T13:39:28.411Z"
      },
      {
        "duration": 9,
        "start_time": "2022-02-12T13:39:28.420Z"
      },
      {
        "duration": 9,
        "start_time": "2022-02-12T13:39:28.431Z"
      },
      {
        "duration": 9,
        "start_time": "2022-02-12T13:39:28.442Z"
      },
      {
        "duration": 14,
        "start_time": "2022-02-12T13:39:28.452Z"
      },
      {
        "duration": 11,
        "start_time": "2022-02-12T13:39:28.468Z"
      },
      {
        "duration": 8,
        "start_time": "2022-02-12T13:39:28.507Z"
      },
      {
        "duration": 21,
        "start_time": "2022-02-12T13:39:28.517Z"
      },
      {
        "duration": 441,
        "start_time": "2022-02-12T13:39:28.541Z"
      },
      {
        "duration": 6,
        "start_time": "2022-02-12T13:39:28.984Z"
      },
      {
        "duration": 21,
        "start_time": "2022-02-12T13:39:28.992Z"
      },
      {
        "duration": 5,
        "start_time": "2022-02-12T13:39:29.015Z"
      },
      {
        "duration": 10,
        "start_time": "2022-02-12T13:39:29.022Z"
      },
      {
        "duration": 17,
        "start_time": "2022-02-12T13:39:29.033Z"
      },
      {
        "duration": 56,
        "start_time": "2022-02-12T13:39:29.052Z"
      },
      {
        "duration": 5,
        "start_time": "2022-02-12T13:39:29.111Z"
      },
      {
        "duration": 767,
        "start_time": "2022-02-12T13:39:29.118Z"
      },
      {
        "duration": 647,
        "start_time": "2022-02-12T13:39:29.887Z"
      },
      {
        "duration": 6254,
        "start_time": "2022-02-12T13:39:30.537Z"
      },
      {
        "duration": 706,
        "start_time": "2022-02-12T13:39:36.795Z"
      },
      {
        "duration": 32,
        "start_time": "2022-02-12T13:39:37.504Z"
      },
      {
        "duration": 699,
        "start_time": "2022-02-12T13:39:37.539Z"
      },
      {
        "duration": 26,
        "start_time": "2022-02-12T13:39:38.241Z"
      },
      {
        "duration": 12,
        "start_time": "2022-02-12T13:44:49.829Z"
      },
      {
        "duration": 33,
        "start_time": "2022-02-12T13:44:49.870Z"
      },
      {
        "duration": 11,
        "start_time": "2022-02-12T13:44:49.905Z"
      },
      {
        "duration": 35,
        "start_time": "2022-02-12T13:44:49.921Z"
      },
      {
        "duration": 16,
        "start_time": "2022-02-12T13:44:49.958Z"
      },
      {
        "duration": 4,
        "start_time": "2022-02-12T13:44:49.989Z"
      },
      {
        "duration": 14,
        "start_time": "2022-02-12T13:44:50.010Z"
      },
      {
        "duration": 7,
        "start_time": "2022-02-12T13:44:50.030Z"
      },
      {
        "duration": 10,
        "start_time": "2022-02-12T13:44:50.051Z"
      },
      {
        "duration": 8,
        "start_time": "2022-02-12T13:44:50.069Z"
      },
      {
        "duration": 10,
        "start_time": "2022-02-12T13:44:50.108Z"
      },
      {
        "duration": 8,
        "start_time": "2022-02-12T13:44:50.124Z"
      },
      {
        "duration": 13,
        "start_time": "2022-02-12T13:44:50.169Z"
      },
      {
        "duration": 10,
        "start_time": "2022-02-12T13:44:50.200Z"
      },
      {
        "duration": 3,
        "start_time": "2022-02-12T13:44:50.220Z"
      },
      {
        "duration": 5,
        "start_time": "2022-02-12T13:44:50.229Z"
      },
      {
        "duration": 6,
        "start_time": "2022-02-12T13:44:50.262Z"
      },
      {
        "duration": 9,
        "start_time": "2022-02-12T13:44:50.281Z"
      },
      {
        "duration": 5,
        "start_time": "2022-02-12T13:44:50.299Z"
      },
      {
        "duration": 6,
        "start_time": "2022-02-12T13:44:50.310Z"
      },
      {
        "duration": 10,
        "start_time": "2022-02-12T13:44:50.351Z"
      },
      {
        "duration": 8,
        "start_time": "2022-02-12T13:44:50.364Z"
      },
      {
        "duration": 9,
        "start_time": "2022-02-12T13:44:50.389Z"
      },
      {
        "duration": 19,
        "start_time": "2022-02-12T13:44:50.409Z"
      },
      {
        "duration": 669,
        "start_time": "2022-02-12T13:44:50.440Z"
      },
      {
        "duration": 6,
        "start_time": "2022-02-12T13:44:51.111Z"
      },
      {
        "duration": 15,
        "start_time": "2022-02-12T13:44:51.120Z"
      },
      {
        "duration": 7,
        "start_time": "2022-02-12T13:44:51.138Z"
      },
      {
        "duration": 12,
        "start_time": "2022-02-12T13:44:51.148Z"
      },
      {
        "duration": 48,
        "start_time": "2022-02-12T13:44:51.163Z"
      },
      {
        "duration": 27,
        "start_time": "2022-02-12T13:44:51.213Z"
      },
      {
        "duration": 5,
        "start_time": "2022-02-12T13:44:51.243Z"
      },
      {
        "duration": 828,
        "start_time": "2022-02-12T13:44:51.251Z"
      },
      {
        "duration": 683,
        "start_time": "2022-02-12T13:44:52.081Z"
      },
      {
        "duration": 6671,
        "start_time": "2022-02-12T13:44:52.767Z"
      },
      {
        "duration": 728,
        "start_time": "2022-02-12T13:44:59.441Z"
      },
      {
        "duration": 46,
        "start_time": "2022-02-12T13:45:00.171Z"
      },
      {
        "duration": 702,
        "start_time": "2022-02-12T13:45:00.219Z"
      },
      {
        "duration": 20,
        "start_time": "2022-02-12T13:45:00.923Z"
      },
      {
        "duration": 5831,
        "start_time": "2022-02-12T13:45:00.946Z"
      },
      {
        "duration": 710,
        "start_time": "2022-02-12T13:45:06.779Z"
      },
      {
        "duration": 837,
        "start_time": "2022-02-12T13:45:07.492Z"
      },
      {
        "duration": 921,
        "start_time": "2022-02-12T13:45:08.332Z"
      },
      {
        "duration": 736,
        "start_time": "2022-02-12T13:45:09.256Z"
      },
      {
        "duration": 16,
        "start_time": "2022-02-12T13:45:09.995Z"
      },
      {
        "duration": 10376,
        "start_time": "2022-02-12T13:45:10.013Z"
      },
      {
        "duration": 600,
        "start_time": "2022-02-12T13:45:20.394Z"
      },
      {
        "duration": 26,
        "start_time": "2022-02-12T13:45:20.997Z"
      },
      {
        "duration": 40,
        "start_time": "2022-02-12T13:45:21.026Z"
      },
      {
        "duration": 967,
        "start_time": "2022-02-12T13:45:21.068Z"
      },
      {
        "duration": 6,
        "start_time": "2022-02-12T13:45:22.037Z"
      },
      {
        "duration": 1131,
        "start_time": "2022-02-12T13:45:22.045Z"
      },
      {
        "duration": 1179,
        "start_time": "2022-02-12T13:45:23.178Z"
      },
      {
        "duration": 1224,
        "start_time": "2022-02-12T13:45:24.359Z"
      },
      {
        "duration": 25,
        "start_time": "2022-02-12T13:45:25.585Z"
      },
      {
        "duration": 670,
        "start_time": "2022-02-12T13:45:25.612Z"
      },
      {
        "duration": 639,
        "start_time": "2022-02-12T13:45:26.285Z"
      },
      {
        "duration": 6,
        "start_time": "2022-02-12T13:45:26.926Z"
      },
      {
        "duration": 8,
        "start_time": "2022-02-12T13:45:26.934Z"
      },
      {
        "duration": 15,
        "start_time": "2022-02-12T13:45:26.944Z"
      },
      {
        "duration": 829,
        "start_time": "2022-02-12T13:45:26.961Z"
      },
      {
        "duration": 650,
        "start_time": "2022-02-12T13:45:27.792Z"
      },
      {
        "duration": 5,
        "start_time": "2022-02-12T13:45:28.444Z"
      },
      {
        "duration": 20,
        "start_time": "2022-02-12T13:45:28.451Z"
      },
      {
        "duration": 7185,
        "start_time": "2022-02-12T13:51:50.827Z"
      },
      {
        "duration": 6082,
        "start_time": "2022-02-12T13:54:30.825Z"
      },
      {
        "duration": 11,
        "start_time": "2022-02-12T13:56:28.686Z"
      },
      {
        "duration": 34,
        "start_time": "2022-02-12T13:56:28.700Z"
      },
      {
        "duration": 11,
        "start_time": "2022-02-12T13:56:28.737Z"
      },
      {
        "duration": 32,
        "start_time": "2022-02-12T13:56:28.751Z"
      },
      {
        "duration": 33,
        "start_time": "2022-02-12T13:56:28.785Z"
      },
      {
        "duration": 14,
        "start_time": "2022-02-12T13:56:28.821Z"
      },
      {
        "duration": 20,
        "start_time": "2022-02-12T13:56:28.837Z"
      },
      {
        "duration": 7,
        "start_time": "2022-02-12T13:56:28.860Z"
      },
      {
        "duration": 41,
        "start_time": "2022-02-12T13:56:28.869Z"
      },
      {
        "duration": 9,
        "start_time": "2022-02-12T13:56:28.912Z"
      },
      {
        "duration": 11,
        "start_time": "2022-02-12T13:56:28.923Z"
      },
      {
        "duration": 10,
        "start_time": "2022-02-12T13:56:28.936Z"
      },
      {
        "duration": 17,
        "start_time": "2022-02-12T13:56:28.949Z"
      },
      {
        "duration": 40,
        "start_time": "2022-02-12T13:56:28.971Z"
      },
      {
        "duration": 3,
        "start_time": "2022-02-12T13:56:29.013Z"
      },
      {
        "duration": 16,
        "start_time": "2022-02-12T13:56:29.018Z"
      },
      {
        "duration": 9,
        "start_time": "2022-02-12T13:56:29.038Z"
      },
      {
        "duration": 15,
        "start_time": "2022-02-12T13:56:29.050Z"
      },
      {
        "duration": 12,
        "start_time": "2022-02-12T13:56:29.068Z"
      },
      {
        "duration": 27,
        "start_time": "2022-02-12T13:56:29.082Z"
      },
      {
        "duration": 15,
        "start_time": "2022-02-12T13:56:29.111Z"
      },
      {
        "duration": 15,
        "start_time": "2022-02-12T13:56:29.129Z"
      },
      {
        "duration": 16,
        "start_time": "2022-02-12T13:56:29.146Z"
      },
      {
        "duration": 27,
        "start_time": "2022-02-12T13:56:29.165Z"
      },
      {
        "duration": 639,
        "start_time": "2022-02-12T13:56:29.194Z"
      },
      {
        "duration": 5,
        "start_time": "2022-02-12T13:56:29.836Z"
      },
      {
        "duration": 11,
        "start_time": "2022-02-12T13:56:29.844Z"
      },
      {
        "duration": 7,
        "start_time": "2022-02-12T13:56:29.857Z"
      },
      {
        "duration": 41,
        "start_time": "2022-02-12T13:56:29.866Z"
      },
      {
        "duration": 22,
        "start_time": "2022-02-12T13:56:29.910Z"
      },
      {
        "duration": 26,
        "start_time": "2022-02-12T13:56:29.934Z"
      },
      {
        "duration": 5,
        "start_time": "2022-02-12T13:56:29.962Z"
      },
      {
        "duration": 950,
        "start_time": "2022-02-12T13:56:29.970Z"
      },
      {
        "duration": 660,
        "start_time": "2022-02-12T13:56:30.924Z"
      },
      {
        "duration": 7162,
        "start_time": "2022-02-12T13:56:31.588Z"
      },
      {
        "duration": 1109,
        "start_time": "2022-02-12T13:56:38.753Z"
      },
      {
        "duration": 26,
        "start_time": "2022-02-12T13:56:39.864Z"
      },
      {
        "duration": 702,
        "start_time": "2022-02-12T13:56:39.908Z"
      },
      {
        "duration": 20,
        "start_time": "2022-02-12T13:56:40.612Z"
      },
      {
        "duration": 5443,
        "start_time": "2022-02-12T13:56:40.634Z"
      },
      {
        "duration": 706,
        "start_time": "2022-02-12T13:56:46.079Z"
      },
      {
        "duration": 869,
        "start_time": "2022-02-12T13:56:46.787Z"
      },
      {
        "duration": 793,
        "start_time": "2022-02-12T13:56:47.657Z"
      },
      {
        "duration": 669,
        "start_time": "2022-02-12T13:56:48.453Z"
      },
      {
        "duration": 7,
        "start_time": "2022-02-12T13:56:49.124Z"
      },
      {
        "duration": 9117,
        "start_time": "2022-02-12T13:56:49.134Z"
      },
      {
        "duration": 674,
        "start_time": "2022-02-12T13:56:58.253Z"
      },
      {
        "duration": 14,
        "start_time": "2022-02-12T13:56:58.929Z"
      },
      {
        "duration": 26,
        "start_time": "2022-02-12T13:56:58.945Z"
      },
      {
        "duration": 734,
        "start_time": "2022-02-12T13:56:58.973Z"
      },
      {
        "duration": 5,
        "start_time": "2022-02-12T13:56:59.709Z"
      },
      {
        "duration": 1751,
        "start_time": "2022-02-12T13:56:59.717Z"
      },
      {
        "duration": 1874,
        "start_time": "2022-02-12T13:57:01.471Z"
      },
      {
        "duration": 1667,
        "start_time": "2022-02-12T13:57:03.348Z"
      },
      {
        "duration": 16,
        "start_time": "2022-02-12T13:57:05.021Z"
      },
      {
        "duration": 1026,
        "start_time": "2022-02-12T13:57:05.040Z"
      },
      {
        "duration": 983,
        "start_time": "2022-02-12T13:57:06.069Z"
      },
      {
        "duration": 8,
        "start_time": "2022-02-12T13:57:07.055Z"
      },
      {
        "duration": 14,
        "start_time": "2022-02-12T13:57:07.065Z"
      },
      {
        "duration": 37,
        "start_time": "2022-02-12T13:57:07.081Z"
      },
      {
        "duration": 1213,
        "start_time": "2022-02-12T13:57:07.121Z"
      },
      {
        "duration": 648,
        "start_time": "2022-02-12T13:57:08.336Z"
      },
      {
        "duration": 6,
        "start_time": "2022-02-12T13:57:08.986Z"
      },
      {
        "duration": 20,
        "start_time": "2022-02-12T13:57:08.994Z"
      },
      {
        "duration": 1518,
        "start_time": "2022-02-13T05:17:58.331Z"
      },
      {
        "duration": 46,
        "start_time": "2022-02-13T05:17:59.852Z"
      },
      {
        "duration": 14,
        "start_time": "2022-02-13T05:17:59.901Z"
      },
      {
        "duration": 66,
        "start_time": "2022-02-13T05:17:59.918Z"
      },
      {
        "duration": 24,
        "start_time": "2022-02-13T05:17:59.986Z"
      },
      {
        "duration": 10,
        "start_time": "2022-02-13T05:18:00.013Z"
      },
      {
        "duration": 35,
        "start_time": "2022-02-13T05:18:00.026Z"
      },
      {
        "duration": 7,
        "start_time": "2022-02-13T05:18:00.065Z"
      },
      {
        "duration": 47,
        "start_time": "2022-02-13T05:18:00.076Z"
      },
      {
        "duration": 17,
        "start_time": "2022-02-13T05:18:00.125Z"
      },
      {
        "duration": 28,
        "start_time": "2022-02-13T05:18:00.144Z"
      },
      {
        "duration": 9,
        "start_time": "2022-02-13T05:18:00.175Z"
      },
      {
        "duration": 51,
        "start_time": "2022-02-13T05:18:00.186Z"
      },
      {
        "duration": 14,
        "start_time": "2022-02-13T05:18:00.239Z"
      },
      {
        "duration": 28,
        "start_time": "2022-02-13T05:18:00.255Z"
      },
      {
        "duration": 22,
        "start_time": "2022-02-13T05:18:00.286Z"
      },
      {
        "duration": 30,
        "start_time": "2022-02-13T05:18:00.311Z"
      },
      {
        "duration": 29,
        "start_time": "2022-02-13T05:18:00.344Z"
      },
      {
        "duration": 37,
        "start_time": "2022-02-13T05:18:00.375Z"
      },
      {
        "duration": 48,
        "start_time": "2022-02-13T05:18:00.414Z"
      },
      {
        "duration": 58,
        "start_time": "2022-02-13T05:18:00.465Z"
      },
      {
        "duration": 30,
        "start_time": "2022-02-13T05:18:00.525Z"
      },
      {
        "duration": 13,
        "start_time": "2022-02-13T05:18:00.562Z"
      },
      {
        "duration": 32,
        "start_time": "2022-02-13T05:18:00.578Z"
      },
      {
        "duration": 536,
        "start_time": "2022-02-13T05:18:00.612Z"
      },
      {
        "duration": 5,
        "start_time": "2022-02-13T05:18:01.151Z"
      },
      {
        "duration": 17,
        "start_time": "2022-02-13T05:18:01.159Z"
      },
      {
        "duration": 10,
        "start_time": "2022-02-13T05:18:01.178Z"
      },
      {
        "duration": 10,
        "start_time": "2022-02-13T05:18:01.190Z"
      },
      {
        "duration": 25,
        "start_time": "2022-02-13T05:18:01.202Z"
      },
      {
        "duration": 28,
        "start_time": "2022-02-13T05:18:01.250Z"
      },
      {
        "duration": 7,
        "start_time": "2022-02-13T05:18:01.282Z"
      },
      {
        "duration": 1112,
        "start_time": "2022-02-13T05:18:01.292Z"
      },
      {
        "duration": 951,
        "start_time": "2022-02-13T05:18:02.407Z"
      },
      {
        "duration": 8386,
        "start_time": "2022-02-13T05:18:03.360Z"
      },
      {
        "duration": 1014,
        "start_time": "2022-02-13T05:18:11.749Z"
      },
      {
        "duration": 36,
        "start_time": "2022-02-13T05:18:12.766Z"
      },
      {
        "duration": 985,
        "start_time": "2022-02-13T05:18:12.805Z"
      },
      {
        "duration": 22,
        "start_time": "2022-02-13T05:18:13.793Z"
      },
      {
        "duration": 7722,
        "start_time": "2022-02-13T05:18:13.817Z"
      },
      {
        "duration": 1020,
        "start_time": "2022-02-13T05:18:21.542Z"
      },
      {
        "duration": 1179,
        "start_time": "2022-02-13T05:18:22.565Z"
      },
      {
        "duration": 937,
        "start_time": "2022-02-13T05:18:23.746Z"
      },
      {
        "duration": 1028,
        "start_time": "2022-02-13T05:18:24.685Z"
      },
      {
        "duration": 8,
        "start_time": "2022-02-13T05:18:25.715Z"
      },
      {
        "duration": 12211,
        "start_time": "2022-02-13T05:18:25.725Z"
      },
      {
        "duration": 803,
        "start_time": "2022-02-13T05:18:37.949Z"
      },
      {
        "duration": 18,
        "start_time": "2022-02-13T05:18:38.754Z"
      },
      {
        "duration": 28,
        "start_time": "2022-02-13T05:18:38.774Z"
      },
      {
        "duration": 1045,
        "start_time": "2022-02-13T05:18:38.804Z"
      },
      {
        "duration": 7,
        "start_time": "2022-02-13T05:18:39.851Z"
      },
      {
        "duration": 1619,
        "start_time": "2022-02-13T05:18:39.861Z"
      },
      {
        "duration": 1678,
        "start_time": "2022-02-13T05:18:41.483Z"
      },
      {
        "duration": 1624,
        "start_time": "2022-02-13T05:18:43.163Z"
      },
      {
        "duration": 14,
        "start_time": "2022-02-13T05:18:44.789Z"
      },
      {
        "duration": 1072,
        "start_time": "2022-02-13T05:18:44.805Z"
      },
      {
        "duration": 931,
        "start_time": "2022-02-13T05:18:45.879Z"
      },
      {
        "duration": 9,
        "start_time": "2022-02-13T05:18:46.812Z"
      },
      {
        "duration": 28,
        "start_time": "2022-02-13T05:18:46.823Z"
      },
      {
        "duration": 17,
        "start_time": "2022-02-13T05:18:46.854Z"
      },
      {
        "duration": 1044,
        "start_time": "2022-02-13T05:18:46.874Z"
      },
      {
        "duration": 932,
        "start_time": "2022-02-13T05:18:47.920Z"
      },
      {
        "duration": 8,
        "start_time": "2022-02-13T05:18:48.855Z"
      },
      {
        "duration": 17,
        "start_time": "2022-02-13T05:18:48.866Z"
      },
      {
        "duration": 990,
        "start_time": "2022-02-13T05:19:55.656Z"
      },
      {
        "duration": 13,
        "start_time": "2022-02-13T05:21:32.345Z"
      },
      {
        "duration": 8,
        "start_time": "2022-02-13T05:21:47.982Z"
      },
      {
        "duration": 6,
        "start_time": "2022-02-13T05:21:55.655Z"
      },
      {
        "duration": 15,
        "start_time": "2022-02-13T05:24:21.596Z"
      },
      {
        "duration": 37,
        "start_time": "2022-02-13T05:24:21.625Z"
      },
      {
        "duration": 14,
        "start_time": "2022-02-13T05:24:21.665Z"
      },
      {
        "duration": 67,
        "start_time": "2022-02-13T05:24:21.683Z"
      },
      {
        "duration": 21,
        "start_time": "2022-02-13T05:24:21.753Z"
      },
      {
        "duration": 6,
        "start_time": "2022-02-13T05:24:21.777Z"
      },
      {
        "duration": 16,
        "start_time": "2022-02-13T05:24:21.785Z"
      },
      {
        "duration": 7,
        "start_time": "2022-02-13T05:24:21.803Z"
      },
      {
        "duration": 9,
        "start_time": "2022-02-13T05:24:21.853Z"
      },
      {
        "duration": 9,
        "start_time": "2022-02-13T05:24:21.865Z"
      },
      {
        "duration": 11,
        "start_time": "2022-02-13T05:24:21.877Z"
      },
      {
        "duration": 6,
        "start_time": "2022-02-13T05:24:21.890Z"
      },
      {
        "duration": 55,
        "start_time": "2022-02-13T05:24:21.898Z"
      },
      {
        "duration": 12,
        "start_time": "2022-02-13T05:24:21.955Z"
      },
      {
        "duration": 2,
        "start_time": "2022-02-13T05:24:21.998Z"
      },
      {
        "duration": 12,
        "start_time": "2022-02-13T05:24:22.003Z"
      },
      {
        "duration": 6,
        "start_time": "2022-02-13T05:24:22.046Z"
      },
      {
        "duration": 6,
        "start_time": "2022-02-13T05:24:22.070Z"
      },
      {
        "duration": 11,
        "start_time": "2022-02-13T05:24:22.078Z"
      },
      {
        "duration": 10,
        "start_time": "2022-02-13T05:24:22.092Z"
      },
      {
        "duration": 13,
        "start_time": "2022-02-13T05:24:22.106Z"
      },
      {
        "duration": 7,
        "start_time": "2022-02-13T05:24:22.150Z"
      },
      {
        "duration": 10,
        "start_time": "2022-02-13T05:24:22.164Z"
      },
      {
        "duration": 25,
        "start_time": "2022-02-13T05:24:22.204Z"
      },
      {
        "duration": 578,
        "start_time": "2022-02-13T05:24:22.232Z"
      },
      {
        "duration": 7,
        "start_time": "2022-02-13T05:24:22.813Z"
      },
      {
        "duration": 32,
        "start_time": "2022-02-13T05:24:22.822Z"
      },
      {
        "duration": 7,
        "start_time": "2022-02-13T05:24:22.856Z"
      },
      {
        "duration": 10,
        "start_time": "2022-02-13T05:24:22.866Z"
      },
      {
        "duration": 27,
        "start_time": "2022-02-13T05:24:22.878Z"
      },
      {
        "duration": 66,
        "start_time": "2022-02-13T05:24:22.910Z"
      },
      {
        "duration": 6,
        "start_time": "2022-02-13T05:24:22.980Z"
      },
      {
        "duration": 1136,
        "start_time": "2022-02-13T05:24:22.989Z"
      },
      {
        "duration": 923,
        "start_time": "2022-02-13T05:24:24.128Z"
      },
      {
        "duration": 8971,
        "start_time": "2022-02-13T05:24:25.053Z"
      },
      {
        "duration": 988,
        "start_time": "2022-02-13T05:24:34.026Z"
      },
      {
        "duration": 48,
        "start_time": "2022-02-13T05:24:35.017Z"
      },
      {
        "duration": 1058,
        "start_time": "2022-02-13T05:24:35.068Z"
      },
      {
        "duration": 38,
        "start_time": "2022-02-13T05:24:36.129Z"
      },
      {
        "duration": 7715,
        "start_time": "2022-02-13T05:24:36.170Z"
      },
      {
        "duration": 998,
        "start_time": "2022-02-13T05:24:43.887Z"
      },
      {
        "duration": 1346,
        "start_time": "2022-02-13T05:24:44.887Z"
      },
      {
        "duration": 990,
        "start_time": "2022-02-13T05:24:46.236Z"
      },
      {
        "duration": 961,
        "start_time": "2022-02-13T05:24:47.229Z"
      },
      {
        "duration": 7,
        "start_time": "2022-02-13T05:24:48.193Z"
      },
      {
        "duration": 12176,
        "start_time": "2022-02-13T05:24:48.208Z"
      },
      {
        "duration": 838,
        "start_time": "2022-02-13T05:25:00.387Z"
      },
      {
        "duration": 35,
        "start_time": "2022-02-13T05:25:01.229Z"
      },
      {
        "duration": 39,
        "start_time": "2022-02-13T05:25:01.267Z"
      },
      {
        "duration": 1045,
        "start_time": "2022-02-13T05:25:01.308Z"
      },
      {
        "duration": 8,
        "start_time": "2022-02-13T05:25:02.357Z"
      },
      {
        "duration": 1688,
        "start_time": "2022-02-13T05:25:02.367Z"
      },
      {
        "duration": 1700,
        "start_time": "2022-02-13T05:25:04.057Z"
      },
      {
        "duration": 1807,
        "start_time": "2022-02-13T05:25:05.760Z"
      },
      {
        "duration": 13,
        "start_time": "2022-02-13T05:25:07.570Z"
      },
      {
        "duration": 1018,
        "start_time": "2022-02-13T05:25:07.585Z"
      },
      {
        "duration": 929,
        "start_time": "2022-02-13T05:25:08.606Z"
      },
      {
        "duration": 17,
        "start_time": "2022-02-13T05:25:09.537Z"
      },
      {
        "duration": 10,
        "start_time": "2022-02-13T05:25:09.557Z"
      },
      {
        "duration": 16,
        "start_time": "2022-02-13T05:25:09.569Z"
      },
      {
        "duration": 1049,
        "start_time": "2022-02-13T05:25:09.588Z"
      },
      {
        "duration": 950,
        "start_time": "2022-02-13T05:25:10.648Z"
      },
      {
        "duration": 8,
        "start_time": "2022-02-13T05:25:11.601Z"
      },
      {
        "duration": 9,
        "start_time": "2022-02-13T05:25:11.612Z"
      },
      {
        "duration": 1033,
        "start_time": "2022-03-03T10:51:37.998Z"
      },
      {
        "duration": 10,
        "start_time": "2022-03-03T10:52:20.396Z"
      }
    ],
    "kernelspec": {
      "display_name": "Python 3 (ipykernel)",
      "language": "python",
      "name": "python3"
    },
    "language_info": {
      "codemirror_mode": {
        "name": "ipython",
        "version": 3
      },
      "file_extension": ".py",
      "mimetype": "text/x-python",
      "name": "python",
      "nbconvert_exporter": "python",
      "pygments_lexer": "ipython3",
      "version": "3.9.5"
    },
    "toc": {
      "base_numbering": 1,
      "nav_menu": {},
      "number_sections": true,
      "sideBar": true,
      "skip_h1_title": true,
      "title_cell": "Содержание",
      "title_sidebar": "Contents",
      "toc_cell": true,
      "toc_position": {},
      "toc_section_display": true,
      "toc_window_display": true
    },
    "colab": {
      "name": "3ff2e8e6-f99a-49ec-a108-f16b9a81cd95.ipynb",
      "provenance": [],
      "collapsed_sections": [
        "GRBU3F4Rer5B",
        "W1BEx0Rier5D",
        "8wcRZt6Fer5G",
        "iXwrCaEUer5I",
        "LwebRDx6er5g",
        "1b13PQTwer5j",
        "_wfLrBg8er5j",
        "5NPAjhFder5l",
        "SvF-Lmv4er5l",
        "ZSBEa0LCer5n",
        "3EtACUther5n",
        "nMnizZu_er5q"
      ]
    }
  },
  "nbformat": 4,
  "nbformat_minor": 0
}