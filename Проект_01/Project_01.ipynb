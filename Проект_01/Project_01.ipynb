{
  "cells": [
    {
      "cell_type": "markdown",
      "source": [
        "# Содержание\n",
        "1. Описание проекта\n",
        "2. Изучение данных\n",
        "3. Предобработка данных\n",
        "  - 2.1.  Переименование столбцов\n",
        "  - 2.2.  Обработка пропусков\n",
        "  - 2.3  Замена типа данных\n",
        "  - 2.4  Обработка дубликатов\n",
        "  - 2.5  Категориальные данные\n",
        "  - 2.6  Количественные данные\n",
        "  - 2.7  Лемматизация\n",
        "  - 2.8  Категоризация данных\n",
        "4.  Выявление зависимостей\n",
        "5.  Вывод и рекомендации\n"
      ],
      "metadata": {
        "id": "blLIqARmx1Xm"
      }
    },
    {
      "cell_type": "markdown",
      "metadata": {
        "id": "p-3TZkOTyWTi"
      },
      "source": [
        "# Исследование надежности заемщиков - анализ банковских данных"
      ]
    },
    {
      "cell_type": "markdown",
      "source": [
        "# 1. Описание проекта"
      ],
      "metadata": {
        "id": "GxmkRbsYyxc1"
      }
    },
    {
      "cell_type": "markdown",
      "metadata": {
        "id": "a6kHkFuiyWTn"
      },
      "source": [
        "Для кредитного отдела банка на основе статистики необходимо выяснить как семейное положение, количесвто детей, уровень дохода и цели клиента влияют на возврат кредита в срок"
      ]
    },
    {
      "cell_type": "markdown",
      "metadata": {
        "id": "jj8eCU0EyWTn"
      },
      "source": [
        "## 2. Изучение данных"
      ]
    },
    {
      "cell_type": "code",
      "execution_count": null,
      "metadata": {
        "scrolled": false,
        "id": "X7scMJrnyWTo"
      },
      "outputs": [],
      "source": [
        "import pandas as pd\n",
        "from pymystem3 import Mystem  # импортируем библиотеку с функцией лемматизации на русском языке\n",
        "m = Mystem()\n",
        "lemmas = m.lemmatize(purposes_str)"
      ]
    },
    {
      "cell_type": "markdown",
      "metadata": {
        "id": "rtSHh61ZyWTp"
      },
      "source": [
        "Запишем данные в переменную"
      ]
    },
    {
      "cell_type": "code",
      "execution_count": null,
      "metadata": {
        "id": "E4R3F8zZyWTq"
      },
      "outputs": [],
      "source": [
        "df = pd.read_csv('/datasets/data.csv')"
      ]
    },
    {
      "cell_type": "markdown",
      "metadata": {
        "id": "qTXMr8OVyWTq"
      },
      "source": [
        "Посмотрим начало и конец данных, для получения представления о них"
      ]
    },
    {
      "cell_type": "code",
      "execution_count": null,
      "metadata": {
        "id": "kE0gT0s0yWTr",
        "outputId": "39cb9c15-7375-4a61-c585-b1be6d1d380b"
      },
      "outputs": [
        {
          "data": {
            "text/html": [
              "<div>\n",
              "<style scoped>\n",
              "    .dataframe tbody tr th:only-of-type {\n",
              "        vertical-align: middle;\n",
              "    }\n",
              "\n",
              "    .dataframe tbody tr th {\n",
              "        vertical-align: top;\n",
              "    }\n",
              "\n",
              "    .dataframe thead th {\n",
              "        text-align: right;\n",
              "    }\n",
              "</style>\n",
              "<table border=\"1\" class=\"dataframe\">\n",
              "  <thead>\n",
              "    <tr style=\"text-align: right;\">\n",
              "      <th></th>\n",
              "      <th>children</th>\n",
              "      <th>days_employed</th>\n",
              "      <th>dob_years</th>\n",
              "      <th>education</th>\n",
              "      <th>education_id</th>\n",
              "      <th>family_status</th>\n",
              "      <th>family_status_id</th>\n",
              "      <th>gender</th>\n",
              "      <th>income_type</th>\n",
              "      <th>debt</th>\n",
              "      <th>total_income</th>\n",
              "      <th>purpose</th>\n",
              "    </tr>\n",
              "  </thead>\n",
              "  <tbody>\n",
              "    <tr>\n",
              "      <th>0</th>\n",
              "      <td>1</td>\n",
              "      <td>-8437.673028</td>\n",
              "      <td>42</td>\n",
              "      <td>высшее</td>\n",
              "      <td>0</td>\n",
              "      <td>женат / замужем</td>\n",
              "      <td>0</td>\n",
              "      <td>F</td>\n",
              "      <td>сотрудник</td>\n",
              "      <td>0</td>\n",
              "      <td>253875.639453</td>\n",
              "      <td>покупка жилья</td>\n",
              "    </tr>\n",
              "    <tr>\n",
              "      <th>1</th>\n",
              "      <td>1</td>\n",
              "      <td>-4024.803754</td>\n",
              "      <td>36</td>\n",
              "      <td>среднее</td>\n",
              "      <td>1</td>\n",
              "      <td>женат / замужем</td>\n",
              "      <td>0</td>\n",
              "      <td>F</td>\n",
              "      <td>сотрудник</td>\n",
              "      <td>0</td>\n",
              "      <td>112080.014102</td>\n",
              "      <td>приобретение автомобиля</td>\n",
              "    </tr>\n",
              "    <tr>\n",
              "      <th>2</th>\n",
              "      <td>0</td>\n",
              "      <td>-5623.422610</td>\n",
              "      <td>33</td>\n",
              "      <td>Среднее</td>\n",
              "      <td>1</td>\n",
              "      <td>женат / замужем</td>\n",
              "      <td>0</td>\n",
              "      <td>M</td>\n",
              "      <td>сотрудник</td>\n",
              "      <td>0</td>\n",
              "      <td>145885.952297</td>\n",
              "      <td>покупка жилья</td>\n",
              "    </tr>\n",
              "    <tr>\n",
              "      <th>3</th>\n",
              "      <td>3</td>\n",
              "      <td>-4124.747207</td>\n",
              "      <td>32</td>\n",
              "      <td>среднее</td>\n",
              "      <td>1</td>\n",
              "      <td>женат / замужем</td>\n",
              "      <td>0</td>\n",
              "      <td>M</td>\n",
              "      <td>сотрудник</td>\n",
              "      <td>0</td>\n",
              "      <td>267628.550329</td>\n",
              "      <td>дополнительное образование</td>\n",
              "    </tr>\n",
              "    <tr>\n",
              "      <th>4</th>\n",
              "      <td>0</td>\n",
              "      <td>340266.072047</td>\n",
              "      <td>53</td>\n",
              "      <td>среднее</td>\n",
              "      <td>1</td>\n",
              "      <td>гражданский брак</td>\n",
              "      <td>1</td>\n",
              "      <td>F</td>\n",
              "      <td>пенсионер</td>\n",
              "      <td>0</td>\n",
              "      <td>158616.077870</td>\n",
              "      <td>сыграть свадьбу</td>\n",
              "    </tr>\n",
              "    <tr>\n",
              "      <th>5</th>\n",
              "      <td>0</td>\n",
              "      <td>-926.185831</td>\n",
              "      <td>27</td>\n",
              "      <td>высшее</td>\n",
              "      <td>0</td>\n",
              "      <td>гражданский брак</td>\n",
              "      <td>1</td>\n",
              "      <td>M</td>\n",
              "      <td>компаньон</td>\n",
              "      <td>0</td>\n",
              "      <td>255763.565419</td>\n",
              "      <td>покупка жилья</td>\n",
              "    </tr>\n",
              "    <tr>\n",
              "      <th>6</th>\n",
              "      <td>0</td>\n",
              "      <td>-2879.202052</td>\n",
              "      <td>43</td>\n",
              "      <td>высшее</td>\n",
              "      <td>0</td>\n",
              "      <td>женат / замужем</td>\n",
              "      <td>0</td>\n",
              "      <td>F</td>\n",
              "      <td>компаньон</td>\n",
              "      <td>0</td>\n",
              "      <td>240525.971920</td>\n",
              "      <td>операции с жильем</td>\n",
              "    </tr>\n",
              "    <tr>\n",
              "      <th>7</th>\n",
              "      <td>0</td>\n",
              "      <td>-152.779569</td>\n",
              "      <td>50</td>\n",
              "      <td>СРЕДНЕЕ</td>\n",
              "      <td>1</td>\n",
              "      <td>женат / замужем</td>\n",
              "      <td>0</td>\n",
              "      <td>M</td>\n",
              "      <td>сотрудник</td>\n",
              "      <td>0</td>\n",
              "      <td>135823.934197</td>\n",
              "      <td>образование</td>\n",
              "    </tr>\n",
              "    <tr>\n",
              "      <th>8</th>\n",
              "      <td>2</td>\n",
              "      <td>-6929.865299</td>\n",
              "      <td>35</td>\n",
              "      <td>ВЫСШЕЕ</td>\n",
              "      <td>0</td>\n",
              "      <td>гражданский брак</td>\n",
              "      <td>1</td>\n",
              "      <td>F</td>\n",
              "      <td>сотрудник</td>\n",
              "      <td>0</td>\n",
              "      <td>95856.832424</td>\n",
              "      <td>на проведение свадьбы</td>\n",
              "    </tr>\n",
              "    <tr>\n",
              "      <th>9</th>\n",
              "      <td>0</td>\n",
              "      <td>-2188.756445</td>\n",
              "      <td>41</td>\n",
              "      <td>среднее</td>\n",
              "      <td>1</td>\n",
              "      <td>женат / замужем</td>\n",
              "      <td>0</td>\n",
              "      <td>M</td>\n",
              "      <td>сотрудник</td>\n",
              "      <td>0</td>\n",
              "      <td>144425.938277</td>\n",
              "      <td>покупка жилья для семьи</td>\n",
              "    </tr>\n",
              "  </tbody>\n",
              "</table>\n",
              "</div>"
            ],
            "text/plain": [
              "   children  days_employed  dob_years education  education_id  \\\n",
              "0         1   -8437.673028         42    высшее             0   \n",
              "1         1   -4024.803754         36   среднее             1   \n",
              "2         0   -5623.422610         33   Среднее             1   \n",
              "3         3   -4124.747207         32   среднее             1   \n",
              "4         0  340266.072047         53   среднее             1   \n",
              "5         0    -926.185831         27    высшее             0   \n",
              "6         0   -2879.202052         43    высшее             0   \n",
              "7         0    -152.779569         50   СРЕДНЕЕ             1   \n",
              "8         2   -6929.865299         35    ВЫСШЕЕ             0   \n",
              "9         0   -2188.756445         41   среднее             1   \n",
              "\n",
              "      family_status  family_status_id gender income_type  debt   total_income  \\\n",
              "0   женат / замужем                 0      F   сотрудник     0  253875.639453   \n",
              "1   женат / замужем                 0      F   сотрудник     0  112080.014102   \n",
              "2   женат / замужем                 0      M   сотрудник     0  145885.952297   \n",
              "3   женат / замужем                 0      M   сотрудник     0  267628.550329   \n",
              "4  гражданский брак                 1      F   пенсионер     0  158616.077870   \n",
              "5  гражданский брак                 1      M   компаньон     0  255763.565419   \n",
              "6   женат / замужем                 0      F   компаньон     0  240525.971920   \n",
              "7   женат / замужем                 0      M   сотрудник     0  135823.934197   \n",
              "8  гражданский брак                 1      F   сотрудник     0   95856.832424   \n",
              "9   женат / замужем                 0      M   сотрудник     0  144425.938277   \n",
              "\n",
              "                      purpose  \n",
              "0               покупка жилья  \n",
              "1     приобретение автомобиля  \n",
              "2               покупка жилья  \n",
              "3  дополнительное образование  \n",
              "4             сыграть свадьбу  \n",
              "5               покупка жилья  \n",
              "6           операции с жильем  \n",
              "7                 образование  \n",
              "8       на проведение свадьбы  \n",
              "9     покупка жилья для семьи  "
            ]
          },
          "execution_count": 80,
          "metadata": {},
          "output_type": "execute_result"
        }
      ],
      "source": [
        "df.head(10)"
      ]
    },
    {
      "cell_type": "code",
      "execution_count": null,
      "metadata": {
        "id": "F0KXtVdmyWTs",
        "outputId": "92a1937b-0a85-4e15-8172-bbf1b5b03526"
      },
      "outputs": [
        {
          "data": {
            "text/html": [
              "<div>\n",
              "<style scoped>\n",
              "    .dataframe tbody tr th:only-of-type {\n",
              "        vertical-align: middle;\n",
              "    }\n",
              "\n",
              "    .dataframe tbody tr th {\n",
              "        vertical-align: top;\n",
              "    }\n",
              "\n",
              "    .dataframe thead th {\n",
              "        text-align: right;\n",
              "    }\n",
              "</style>\n",
              "<table border=\"1\" class=\"dataframe\">\n",
              "  <thead>\n",
              "    <tr style=\"text-align: right;\">\n",
              "      <th></th>\n",
              "      <th>children</th>\n",
              "      <th>days_employed</th>\n",
              "      <th>dob_years</th>\n",
              "      <th>education</th>\n",
              "      <th>education_id</th>\n",
              "      <th>family_status</th>\n",
              "      <th>family_status_id</th>\n",
              "      <th>gender</th>\n",
              "      <th>income_type</th>\n",
              "      <th>debt</th>\n",
              "      <th>total_income</th>\n",
              "      <th>purpose</th>\n",
              "    </tr>\n",
              "  </thead>\n",
              "  <tbody>\n",
              "    <tr>\n",
              "      <th>21515</th>\n",
              "      <td>1</td>\n",
              "      <td>-467.685130</td>\n",
              "      <td>28</td>\n",
              "      <td>среднее</td>\n",
              "      <td>1</td>\n",
              "      <td>женат / замужем</td>\n",
              "      <td>0</td>\n",
              "      <td>F</td>\n",
              "      <td>сотрудник</td>\n",
              "      <td>1</td>\n",
              "      <td>109486.327999</td>\n",
              "      <td>заняться образованием</td>\n",
              "    </tr>\n",
              "    <tr>\n",
              "      <th>21516</th>\n",
              "      <td>0</td>\n",
              "      <td>-914.391429</td>\n",
              "      <td>42</td>\n",
              "      <td>высшее</td>\n",
              "      <td>0</td>\n",
              "      <td>женат / замужем</td>\n",
              "      <td>0</td>\n",
              "      <td>F</td>\n",
              "      <td>компаньон</td>\n",
              "      <td>0</td>\n",
              "      <td>322807.776603</td>\n",
              "      <td>покупка своего жилья</td>\n",
              "    </tr>\n",
              "    <tr>\n",
              "      <th>21517</th>\n",
              "      <td>0</td>\n",
              "      <td>-404.679034</td>\n",
              "      <td>42</td>\n",
              "      <td>высшее</td>\n",
              "      <td>0</td>\n",
              "      <td>гражданский брак</td>\n",
              "      <td>1</td>\n",
              "      <td>F</td>\n",
              "      <td>компаньон</td>\n",
              "      <td>0</td>\n",
              "      <td>178059.553491</td>\n",
              "      <td>на покупку своего автомобиля</td>\n",
              "    </tr>\n",
              "    <tr>\n",
              "      <th>21518</th>\n",
              "      <td>0</td>\n",
              "      <td>373995.710838</td>\n",
              "      <td>59</td>\n",
              "      <td>СРЕДНЕЕ</td>\n",
              "      <td>1</td>\n",
              "      <td>женат / замужем</td>\n",
              "      <td>0</td>\n",
              "      <td>F</td>\n",
              "      <td>пенсионер</td>\n",
              "      <td>0</td>\n",
              "      <td>153864.650328</td>\n",
              "      <td>сделка с автомобилем</td>\n",
              "    </tr>\n",
              "    <tr>\n",
              "      <th>21519</th>\n",
              "      <td>1</td>\n",
              "      <td>-2351.431934</td>\n",
              "      <td>37</td>\n",
              "      <td>ученая степень</td>\n",
              "      <td>4</td>\n",
              "      <td>в разводе</td>\n",
              "      <td>3</td>\n",
              "      <td>M</td>\n",
              "      <td>сотрудник</td>\n",
              "      <td>0</td>\n",
              "      <td>115949.039788</td>\n",
              "      <td>покупка коммерческой недвижимости</td>\n",
              "    </tr>\n",
              "    <tr>\n",
              "      <th>21520</th>\n",
              "      <td>1</td>\n",
              "      <td>-4529.316663</td>\n",
              "      <td>43</td>\n",
              "      <td>среднее</td>\n",
              "      <td>1</td>\n",
              "      <td>гражданский брак</td>\n",
              "      <td>1</td>\n",
              "      <td>F</td>\n",
              "      <td>компаньон</td>\n",
              "      <td>0</td>\n",
              "      <td>224791.862382</td>\n",
              "      <td>операции с жильем</td>\n",
              "    </tr>\n",
              "    <tr>\n",
              "      <th>21521</th>\n",
              "      <td>0</td>\n",
              "      <td>343937.404131</td>\n",
              "      <td>67</td>\n",
              "      <td>среднее</td>\n",
              "      <td>1</td>\n",
              "      <td>женат / замужем</td>\n",
              "      <td>0</td>\n",
              "      <td>F</td>\n",
              "      <td>пенсионер</td>\n",
              "      <td>0</td>\n",
              "      <td>155999.806512</td>\n",
              "      <td>сделка с автомобилем</td>\n",
              "    </tr>\n",
              "    <tr>\n",
              "      <th>21522</th>\n",
              "      <td>1</td>\n",
              "      <td>-2113.346888</td>\n",
              "      <td>38</td>\n",
              "      <td>среднее</td>\n",
              "      <td>1</td>\n",
              "      <td>гражданский брак</td>\n",
              "      <td>1</td>\n",
              "      <td>M</td>\n",
              "      <td>сотрудник</td>\n",
              "      <td>1</td>\n",
              "      <td>89672.561153</td>\n",
              "      <td>недвижимость</td>\n",
              "    </tr>\n",
              "    <tr>\n",
              "      <th>21523</th>\n",
              "      <td>3</td>\n",
              "      <td>-3112.481705</td>\n",
              "      <td>38</td>\n",
              "      <td>среднее</td>\n",
              "      <td>1</td>\n",
              "      <td>женат / замужем</td>\n",
              "      <td>0</td>\n",
              "      <td>M</td>\n",
              "      <td>сотрудник</td>\n",
              "      <td>1</td>\n",
              "      <td>244093.050500</td>\n",
              "      <td>на покупку своего автомобиля</td>\n",
              "    </tr>\n",
              "    <tr>\n",
              "      <th>21524</th>\n",
              "      <td>2</td>\n",
              "      <td>-1984.507589</td>\n",
              "      <td>40</td>\n",
              "      <td>среднее</td>\n",
              "      <td>1</td>\n",
              "      <td>женат / замужем</td>\n",
              "      <td>0</td>\n",
              "      <td>F</td>\n",
              "      <td>сотрудник</td>\n",
              "      <td>0</td>\n",
              "      <td>82047.418899</td>\n",
              "      <td>на покупку автомобиля</td>\n",
              "    </tr>\n",
              "  </tbody>\n",
              "</table>\n",
              "</div>"
            ],
            "text/plain": [
              "       children  days_employed  dob_years       education  education_id  \\\n",
              "21515         1    -467.685130         28         среднее             1   \n",
              "21516         0    -914.391429         42          высшее             0   \n",
              "21517         0    -404.679034         42          высшее             0   \n",
              "21518         0  373995.710838         59         СРЕДНЕЕ             1   \n",
              "21519         1   -2351.431934         37  ученая степень             4   \n",
              "21520         1   -4529.316663         43         среднее             1   \n",
              "21521         0  343937.404131         67         среднее             1   \n",
              "21522         1   -2113.346888         38         среднее             1   \n",
              "21523         3   -3112.481705         38         среднее             1   \n",
              "21524         2   -1984.507589         40         среднее             1   \n",
              "\n",
              "          family_status  family_status_id gender income_type  debt  \\\n",
              "21515   женат / замужем                 0      F   сотрудник     1   \n",
              "21516   женат / замужем                 0      F   компаньон     0   \n",
              "21517  гражданский брак                 1      F   компаньон     0   \n",
              "21518   женат / замужем                 0      F   пенсионер     0   \n",
              "21519         в разводе                 3      M   сотрудник     0   \n",
              "21520  гражданский брак                 1      F   компаньон     0   \n",
              "21521   женат / замужем                 0      F   пенсионер     0   \n",
              "21522  гражданский брак                 1      M   сотрудник     1   \n",
              "21523   женат / замужем                 0      M   сотрудник     1   \n",
              "21524   женат / замужем                 0      F   сотрудник     0   \n",
              "\n",
              "        total_income                            purpose  \n",
              "21515  109486.327999              заняться образованием  \n",
              "21516  322807.776603               покупка своего жилья  \n",
              "21517  178059.553491       на покупку своего автомобиля  \n",
              "21518  153864.650328               сделка с автомобилем  \n",
              "21519  115949.039788  покупка коммерческой недвижимости  \n",
              "21520  224791.862382                  операции с жильем  \n",
              "21521  155999.806512               сделка с автомобилем  \n",
              "21522   89672.561153                       недвижимость  \n",
              "21523  244093.050500       на покупку своего автомобиля  \n",
              "21524   82047.418899              на покупку автомобиля  "
            ]
          },
          "execution_count": 81,
          "metadata": {},
          "output_type": "execute_result"
        }
      ],
      "source": [
        "df.tail(10)"
      ]
    },
    {
      "cell_type": "markdown",
      "metadata": {
        "id": "ZRZ7N5JtyWTt"
      },
      "source": [
        "Посмотрим общую информацию о датафрейме"
      ]
    },
    {
      "cell_type": "code",
      "execution_count": null,
      "metadata": {
        "id": "BSubnkqjyWTt",
        "outputId": "9c92f1f9-64c4-4a79-f25c-e095d60a9d15"
      },
      "outputs": [
        {
          "name": "stdout",
          "output_type": "stream",
          "text": [
            "<class 'pandas.core.frame.DataFrame'>\n",
            "RangeIndex: 21525 entries, 0 to 21524\n",
            "Data columns (total 12 columns):\n",
            " #   Column            Non-Null Count  Dtype  \n",
            "---  ------            --------------  -----  \n",
            " 0   children          21525 non-null  int64  \n",
            " 1   days_employed     19351 non-null  float64\n",
            " 2   dob_years         21525 non-null  int64  \n",
            " 3   education         21525 non-null  object \n",
            " 4   education_id      21525 non-null  int64  \n",
            " 5   family_status     21525 non-null  object \n",
            " 6   family_status_id  21525 non-null  int64  \n",
            " 7   gender            21525 non-null  object \n",
            " 8   income_type       21525 non-null  object \n",
            " 9   debt              21525 non-null  int64  \n",
            " 10  total_income      19351 non-null  float64\n",
            " 11  purpose           21525 non-null  object \n",
            "dtypes: float64(2), int64(5), object(5)\n",
            "memory usage: 2.0+ MB\n"
          ]
        }
      ],
      "source": [
        "df.info() "
      ]
    },
    {
      "cell_type": "markdown",
      "metadata": {
        "id": "SRoWOxG6yWTt"
      },
      "source": [
        "Посмотрим статистику данных"
      ]
    },
    {
      "cell_type": "code",
      "execution_count": null,
      "metadata": {
        "id": "PbHgfpWSyWTu",
        "outputId": "527fc227-199b-42b1-d040-3ffcfdd091c9"
      },
      "outputs": [
        {
          "data": {
            "text/html": [
              "<div>\n",
              "<style scoped>\n",
              "    .dataframe tbody tr th:only-of-type {\n",
              "        vertical-align: middle;\n",
              "    }\n",
              "\n",
              "    .dataframe tbody tr th {\n",
              "        vertical-align: top;\n",
              "    }\n",
              "\n",
              "    .dataframe thead th {\n",
              "        text-align: right;\n",
              "    }\n",
              "</style>\n",
              "<table border=\"1\" class=\"dataframe\">\n",
              "  <thead>\n",
              "    <tr style=\"text-align: right;\">\n",
              "      <th></th>\n",
              "      <th>children</th>\n",
              "      <th>days_employed</th>\n",
              "      <th>dob_years</th>\n",
              "      <th>education_id</th>\n",
              "      <th>family_status_id</th>\n",
              "      <th>debt</th>\n",
              "      <th>total_income</th>\n",
              "    </tr>\n",
              "  </thead>\n",
              "  <tbody>\n",
              "    <tr>\n",
              "      <th>count</th>\n",
              "      <td>21525.000000</td>\n",
              "      <td>19351.000000</td>\n",
              "      <td>21525.000000</td>\n",
              "      <td>21525.000000</td>\n",
              "      <td>21525.000000</td>\n",
              "      <td>21525.000000</td>\n",
              "      <td>1.935100e+04</td>\n",
              "    </tr>\n",
              "    <tr>\n",
              "      <th>mean</th>\n",
              "      <td>0.538908</td>\n",
              "      <td>63046.497661</td>\n",
              "      <td>43.293380</td>\n",
              "      <td>0.817236</td>\n",
              "      <td>0.972544</td>\n",
              "      <td>0.080883</td>\n",
              "      <td>1.674223e+05</td>\n",
              "    </tr>\n",
              "    <tr>\n",
              "      <th>std</th>\n",
              "      <td>1.381587</td>\n",
              "      <td>140827.311974</td>\n",
              "      <td>12.574584</td>\n",
              "      <td>0.548138</td>\n",
              "      <td>1.420324</td>\n",
              "      <td>0.272661</td>\n",
              "      <td>1.029716e+05</td>\n",
              "    </tr>\n",
              "    <tr>\n",
              "      <th>min</th>\n",
              "      <td>-1.000000</td>\n",
              "      <td>-18388.949901</td>\n",
              "      <td>0.000000</td>\n",
              "      <td>0.000000</td>\n",
              "      <td>0.000000</td>\n",
              "      <td>0.000000</td>\n",
              "      <td>2.066726e+04</td>\n",
              "    </tr>\n",
              "    <tr>\n",
              "      <th>25%</th>\n",
              "      <td>0.000000</td>\n",
              "      <td>-2747.423625</td>\n",
              "      <td>33.000000</td>\n",
              "      <td>1.000000</td>\n",
              "      <td>0.000000</td>\n",
              "      <td>0.000000</td>\n",
              "      <td>1.030532e+05</td>\n",
              "    </tr>\n",
              "    <tr>\n",
              "      <th>50%</th>\n",
              "      <td>0.000000</td>\n",
              "      <td>-1203.369529</td>\n",
              "      <td>42.000000</td>\n",
              "      <td>1.000000</td>\n",
              "      <td>0.000000</td>\n",
              "      <td>0.000000</td>\n",
              "      <td>1.450179e+05</td>\n",
              "    </tr>\n",
              "    <tr>\n",
              "      <th>75%</th>\n",
              "      <td>1.000000</td>\n",
              "      <td>-291.095954</td>\n",
              "      <td>53.000000</td>\n",
              "      <td>1.000000</td>\n",
              "      <td>1.000000</td>\n",
              "      <td>0.000000</td>\n",
              "      <td>2.034351e+05</td>\n",
              "    </tr>\n",
              "    <tr>\n",
              "      <th>max</th>\n",
              "      <td>20.000000</td>\n",
              "      <td>401755.400475</td>\n",
              "      <td>75.000000</td>\n",
              "      <td>4.000000</td>\n",
              "      <td>4.000000</td>\n",
              "      <td>1.000000</td>\n",
              "      <td>2.265604e+06</td>\n",
              "    </tr>\n",
              "  </tbody>\n",
              "</table>\n",
              "</div>"
            ],
            "text/plain": [
              "           children  days_employed     dob_years  education_id  \\\n",
              "count  21525.000000   19351.000000  21525.000000  21525.000000   \n",
              "mean       0.538908   63046.497661     43.293380      0.817236   \n",
              "std        1.381587  140827.311974     12.574584      0.548138   \n",
              "min       -1.000000  -18388.949901      0.000000      0.000000   \n",
              "25%        0.000000   -2747.423625     33.000000      1.000000   \n",
              "50%        0.000000   -1203.369529     42.000000      1.000000   \n",
              "75%        1.000000    -291.095954     53.000000      1.000000   \n",
              "max       20.000000  401755.400475     75.000000      4.000000   \n",
              "\n",
              "       family_status_id          debt  total_income  \n",
              "count      21525.000000  21525.000000  1.935100e+04  \n",
              "mean           0.972544      0.080883  1.674223e+05  \n",
              "std            1.420324      0.272661  1.029716e+05  \n",
              "min            0.000000      0.000000  2.066726e+04  \n",
              "25%            0.000000      0.000000  1.030532e+05  \n",
              "50%            0.000000      0.000000  1.450179e+05  \n",
              "75%            1.000000      0.000000  2.034351e+05  \n",
              "max            4.000000      1.000000  2.265604e+06  "
            ]
          },
          "execution_count": 83,
          "metadata": {},
          "output_type": "execute_result"
        }
      ],
      "source": [
        "df.describe()"
      ]
    },
    {
      "cell_type": "markdown",
      "metadata": {
        "id": "QM1X2KtsyWTu"
      },
      "source": [
        "**Промежуточный вывод**"
      ]
    },
    {
      "cell_type": "markdown",
      "metadata": {
        "id": "AGpBdHqmyWTv"
      },
      "source": [
        "\n",
        "Проблемы, которые нужно решить:\n",
        "\n",
        "- отрицательные значения в днях стажа\n",
        "- отсутствуют строки в днях стажа (days_employed) и доходе (total_income) \n",
        "- некачественные названия столбцов\n",
        "- некорректные типы данных — в днях стажа и доходе тип float64 (плавающая точка)\n",
        "- неудобные данные для анализа — дни стажа лучше перевести в года\n",
        "- прыгающий регистр букв в образовании\n",
        "- отрицательное количество детей, и слишком многодетные семьи (20 детей)\n",
        "- максимальный стаж работы выглядит угрожающе 401755 дней (/365 = 1100 лет-впечатляет)(но у нас нет в задании зависимости от трудового стажа, поэтому учитывать не будем)\n"
      ]
    },
    {
      "cell_type": "markdown",
      "metadata": {
        "id": "ZZs1TAQkyWTw"
      },
      "source": [
        "## 2. Предобработка данных"
      ]
    },
    {
      "cell_type": "markdown",
      "metadata": {
        "id": "eZGg6LEeyWTw"
      },
      "source": [
        "### 2.1 Переименование столбцов"
      ]
    },
    {
      "cell_type": "markdown",
      "metadata": {
        "id": "ghcmxSFMyWTw"
      },
      "source": [
        " Вывезем в виде списка нынешние наименования столбцов"
      ]
    },
    {
      "cell_type": "code",
      "execution_count": null,
      "metadata": {
        "id": "vUZdzpRyyWTx",
        "outputId": "9e9c1832-3478-4c0b-c7ca-e60b5a419955"
      },
      "outputs": [
        {
          "data": {
            "text/plain": [
              "['children',\n",
              " 'days_employed',\n",
              " 'dob_years',\n",
              " 'education',\n",
              " 'education_id',\n",
              " 'family_status',\n",
              " 'family_status_id',\n",
              " 'gender',\n",
              " 'income_type',\n",
              " 'debt',\n",
              " 'total_income',\n",
              " 'purpose']"
            ]
          },
          "execution_count": 84,
          "metadata": {},
          "output_type": "execute_result"
        }
      ],
      "source": [
        "df.columns.tolist()"
      ]
    },
    {
      "cell_type": "code",
      "execution_count": null,
      "metadata": {
        "id": "EMFUYT7GyWTx"
      },
      "outputs": [],
      "source": [
        "df = df.rename(columns = {'children':'number_of_children',\n",
        "                       'dob_years':'client_age_in_years',\n",
        "                       'education':'education_level',\n",
        "                       'education_id':'education_level_id',\n",
        "                       'income_type':'employment_type',\n",
        "                       'debt':'credit_repayment_status',\n",
        "                       'total_income':'month_income',\n",
        "                       'purpose':'credit_purpose'})"
      ]
    },
    {
      "cell_type": "markdown",
      "metadata": {
        "id": "RRESnGujyWTx"
      },
      "source": [
        " Убедимся, что столбцы переименованы"
      ]
    },
    {
      "cell_type": "code",
      "execution_count": null,
      "metadata": {
        "id": "noWmOYFYyWTx",
        "outputId": "3ebe24ff-4531-4498-8395-858a8830e3d6"
      },
      "outputs": [
        {
          "data": {
            "text/plain": [
              "['number_of_children',\n",
              " 'days_employed',\n",
              " 'client_age_in_years',\n",
              " 'education_level',\n",
              " 'education_level_id',\n",
              " 'family_status',\n",
              " 'family_status_id',\n",
              " 'gender',\n",
              " 'employment_type',\n",
              " 'credit_repayment_status',\n",
              " 'month_income',\n",
              " 'credit_purpose']"
            ]
          },
          "execution_count": 86,
          "metadata": {},
          "output_type": "execute_result"
        }
      ],
      "source": [
        "df.columns.tolist()"
      ]
    },
    {
      "cell_type": "markdown",
      "metadata": {
        "id": "Cv7ST3FZyWTy"
      },
      "source": [
        "### 2.2 Обработка пропусков"
      ]
    },
    {
      "cell_type": "markdown",
      "metadata": {
        "id": "K2oHWchPyWTy"
      },
      "source": [
        " Посчитаем количество пропусков"
      ]
    },
    {
      "cell_type": "code",
      "execution_count": null,
      "metadata": {
        "id": "DJPc2DLvyWTy",
        "outputId": "c5fabbf2-1c8a-4a90-ade6-fb2f4f109f11"
      },
      "outputs": [
        {
          "data": {
            "text/plain": [
              "number_of_children            0\n",
              "days_employed              2174\n",
              "client_age_in_years           0\n",
              "education_level               0\n",
              "education_level_id            0\n",
              "family_status                 0\n",
              "family_status_id              0\n",
              "gender                        0\n",
              "employment_type               0\n",
              "credit_repayment_status       0\n",
              "month_income               2174\n",
              "credit_purpose                0\n",
              "dtype: int64"
            ]
          },
          "execution_count": 87,
          "metadata": {},
          "output_type": "execute_result"
        }
      ],
      "source": [
        "df.isna().sum()"
      ]
    },
    {
      "cell_type": "markdown",
      "metadata": {
        "id": "N8ak-HePyWTy"
      },
      "source": [
        "Проверим из разных групп клиенты с пропущенными значениями по доходу и стажу, если из одной, то можно будет заполнить средним значением из этой группы"
      ]
    },
    {
      "cell_type": "code",
      "execution_count": null,
      "metadata": {
        "id": "mcKYEY3pyWTy",
        "outputId": "8c0fd219-0e5b-4091-ae5c-51a54f84fad2"
      },
      "outputs": [
        {
          "data": {
            "text/plain": [
              "сотрудник          1105\n",
              "компаньон           508\n",
              "пенсионер           413\n",
              "госслужащий         147\n",
              "предприниматель       1\n",
              "Name: employment_type, dtype: int64"
            ]
          },
          "execution_count": 88,
          "metadata": {},
          "output_type": "execute_result"
        }
      ],
      "source": [
        "df[(df['month_income'].isna() == True) & \n",
        "   (df['days_employed'].isna() == True)]['employment_type'].value_counts()"
      ]
    },
    {
      "cell_type": "markdown",
      "metadata": {
        "id": "uHikr1kcyWTz"
      },
      "source": [
        "Из разных групп, значит надо заполнять средним по каждой группе"
      ]
    },
    {
      "cell_type": "markdown",
      "metadata": {
        "id": "mtWUnjetyWTz"
      },
      "source": [
        "Напишем цикл, который заменит на средний заработок в каждой группе"
      ]
    },
    {
      "cell_type": "code",
      "execution_count": null,
      "metadata": {
        "id": "E8Ec1iSWyWTz"
      },
      "outputs": [],
      "source": [
        "for employment in df['employment_type'].unique():\n",
        "    mean = df.loc[df['employment_type'] == employment, 'month_income'].mean()\n",
        "    df.loc[(df['month_income'].isna()) & (df['employment_type'] == employment), 'month_income']=mean"
      ]
    },
    {
      "cell_type": "markdown",
      "metadata": {
        "id": "OZxj3mbOyWTz"
      },
      "source": [
        "Дни стажа, возьмем значение по модулю и заменим на медианное значение"
      ]
    },
    {
      "cell_type": "code",
      "execution_count": null,
      "metadata": {
        "id": "0JaBjD0dyWTz"
      },
      "outputs": [],
      "source": [
        "df['days_employed'] = df['days_employed'].abs()  \n",
        "df['days_employed'] = df['days_employed'].fillna(df['days_employed'].median())"
      ]
    },
    {
      "cell_type": "markdown",
      "metadata": {
        "id": "kThsjRyyyWT0"
      },
      "source": [
        "Аномально высокие значения стажа(записанные в часах) заменим, по порогу больше 65 лет стажа"
      ]
    },
    {
      "cell_type": "code",
      "execution_count": null,
      "metadata": {
        "id": "MVFTOn_QyWT0"
      },
      "outputs": [],
      "source": [
        "df.loc[df['days_employed'] > (65*365), 'days_employed'] = df.loc[df['days_employed'] > (65*365),\n",
        "                                                               'days_employed']/24 "
      ]
    },
    {
      "cell_type": "code",
      "execution_count": null,
      "metadata": {
        "id": "5sFpHNxKyWT0"
      },
      "outputs": [],
      "source": [
        "info = pd.DataFrame(data=[['Москва', 15740, 11056, 15945], ['Санкт-Петербург', 5614, 7003, 5895]], \n",
        "                    columns=['city', 'monday', 'wednesday', 'friday'])"
      ]
    },
    {
      "cell_type": "markdown",
      "metadata": {
        "id": "YeEWCRaRyWT0"
      },
      "source": [
        "Проверим на наличие пропусков, после замены"
      ]
    },
    {
      "cell_type": "code",
      "execution_count": null,
      "metadata": {
        "id": "PJLfqxOQyWT1",
        "outputId": "98b250e1-b1dd-4305-90eb-cef87274a434"
      },
      "outputs": [
        {
          "data": {
            "text/plain": [
              "number_of_children         0\n",
              "days_employed              0\n",
              "client_age_in_years        0\n",
              "education_level            0\n",
              "education_level_id         0\n",
              "family_status              0\n",
              "family_status_id           0\n",
              "gender                     0\n",
              "employment_type            0\n",
              "credit_repayment_status    0\n",
              "month_income               0\n",
              "credit_purpose             0\n",
              "dtype: int64"
            ]
          },
          "execution_count": 93,
          "metadata": {},
          "output_type": "execute_result"
        }
      ],
      "source": [
        "df.isna().sum()"
      ]
    },
    {
      "cell_type": "markdown",
      "metadata": {
        "id": "1prjbLu5yWT1"
      },
      "source": [
        "Посмотрим как теперь выглядит распределение"
      ]
    },
    {
      "cell_type": "code",
      "execution_count": null,
      "metadata": {
        "id": "YkYxmc9CyWT1",
        "outputId": "702824fd-b129-4836-d2f2-57c1ca3ae4dc"
      },
      "outputs": [
        {
          "data": {
            "text/html": [
              "<div>\n",
              "<style scoped>\n",
              "    .dataframe tbody tr th:only-of-type {\n",
              "        vertical-align: middle;\n",
              "    }\n",
              "\n",
              "    .dataframe tbody tr th {\n",
              "        vertical-align: top;\n",
              "    }\n",
              "\n",
              "    .dataframe thead th {\n",
              "        text-align: right;\n",
              "    }\n",
              "</style>\n",
              "<table border=\"1\" class=\"dataframe\">\n",
              "  <thead>\n",
              "    <tr style=\"text-align: right;\">\n",
              "      <th></th>\n",
              "      <th>number_of_children</th>\n",
              "      <th>days_employed</th>\n",
              "      <th>client_age_in_years</th>\n",
              "      <th>education_level_id</th>\n",
              "      <th>family_status_id</th>\n",
              "      <th>credit_repayment_status</th>\n",
              "      <th>month_income</th>\n",
              "    </tr>\n",
              "  </thead>\n",
              "  <tbody>\n",
              "    <tr>\n",
              "      <th>count</th>\n",
              "      <td>21525.000000</td>\n",
              "      <td>21525.000000</td>\n",
              "      <td>21525.000000</td>\n",
              "      <td>21525.000000</td>\n",
              "      <td>21525.000000</td>\n",
              "      <td>21525.000000</td>\n",
              "      <td>2.152500e+04</td>\n",
              "    </tr>\n",
              "    <tr>\n",
              "      <th>mean</th>\n",
              "      <td>0.538908</td>\n",
              "      <td>4394.454537</td>\n",
              "      <td>43.293380</td>\n",
              "      <td>0.817236</td>\n",
              "      <td>0.972544</td>\n",
              "      <td>0.080883</td>\n",
              "      <td>1.673959e+05</td>\n",
              "    </tr>\n",
              "    <tr>\n",
              "      <th>std</th>\n",
              "      <td>1.381587</td>\n",
              "      <td>5131.551830</td>\n",
              "      <td>12.574584</td>\n",
              "      <td>0.548138</td>\n",
              "      <td>1.420324</td>\n",
              "      <td>0.272661</td>\n",
              "      <td>9.790695e+04</td>\n",
              "    </tr>\n",
              "    <tr>\n",
              "      <th>min</th>\n",
              "      <td>-1.000000</td>\n",
              "      <td>24.141633</td>\n",
              "      <td>0.000000</td>\n",
              "      <td>0.000000</td>\n",
              "      <td>0.000000</td>\n",
              "      <td>0.000000</td>\n",
              "      <td>2.066726e+04</td>\n",
              "    </tr>\n",
              "    <tr>\n",
              "      <th>25%</th>\n",
              "      <td>0.000000</td>\n",
              "      <td>1025.608174</td>\n",
              "      <td>33.000000</td>\n",
              "      <td>1.000000</td>\n",
              "      <td>0.000000</td>\n",
              "      <td>0.000000</td>\n",
              "      <td>1.077982e+05</td>\n",
              "    </tr>\n",
              "    <tr>\n",
              "      <th>50%</th>\n",
              "      <td>0.000000</td>\n",
              "      <td>2194.220567</td>\n",
              "      <td>42.000000</td>\n",
              "      <td>1.000000</td>\n",
              "      <td>0.000000</td>\n",
              "      <td>0.000000</td>\n",
              "      <td>1.519313e+05</td>\n",
              "    </tr>\n",
              "    <tr>\n",
              "      <th>75%</th>\n",
              "      <td>1.000000</td>\n",
              "      <td>4779.587738</td>\n",
              "      <td>53.000000</td>\n",
              "      <td>1.000000</td>\n",
              "      <td>1.000000</td>\n",
              "      <td>0.000000</td>\n",
              "      <td>2.024175e+05</td>\n",
              "    </tr>\n",
              "    <tr>\n",
              "      <th>max</th>\n",
              "      <td>20.000000</td>\n",
              "      <td>18388.949901</td>\n",
              "      <td>75.000000</td>\n",
              "      <td>4.000000</td>\n",
              "      <td>4.000000</td>\n",
              "      <td>1.000000</td>\n",
              "      <td>2.265604e+06</td>\n",
              "    </tr>\n",
              "  </tbody>\n",
              "</table>\n",
              "</div>"
            ],
            "text/plain": [
              "       number_of_children  days_employed  client_age_in_years  \\\n",
              "count        21525.000000   21525.000000         21525.000000   \n",
              "mean             0.538908    4394.454537            43.293380   \n",
              "std              1.381587    5131.551830            12.574584   \n",
              "min             -1.000000      24.141633             0.000000   \n",
              "25%              0.000000    1025.608174            33.000000   \n",
              "50%              0.000000    2194.220567            42.000000   \n",
              "75%              1.000000    4779.587738            53.000000   \n",
              "max             20.000000   18388.949901            75.000000   \n",
              "\n",
              "       education_level_id  family_status_id  credit_repayment_status  \\\n",
              "count        21525.000000      21525.000000             21525.000000   \n",
              "mean             0.817236          0.972544                 0.080883   \n",
              "std              0.548138          1.420324                 0.272661   \n",
              "min              0.000000          0.000000                 0.000000   \n",
              "25%              1.000000          0.000000                 0.000000   \n",
              "50%              1.000000          0.000000                 0.000000   \n",
              "75%              1.000000          1.000000                 0.000000   \n",
              "max              4.000000          4.000000                 1.000000   \n",
              "\n",
              "       month_income  \n",
              "count  2.152500e+04  \n",
              "mean   1.673959e+05  \n",
              "std    9.790695e+04  \n",
              "min    2.066726e+04  \n",
              "25%    1.077982e+05  \n",
              "50%    1.519313e+05  \n",
              "75%    2.024175e+05  \n",
              "max    2.265604e+06  "
            ]
          },
          "execution_count": 94,
          "metadata": {},
          "output_type": "execute_result"
        }
      ],
      "source": [
        "df.describe()"
      ]
    },
    {
      "cell_type": "markdown",
      "metadata": {
        "id": "QdySPfsAyWT1"
      },
      "source": [
        "**Промежуточный вывод**"
      ]
    },
    {
      "cell_type": "markdown",
      "metadata": {
        "id": "3MLPr6XnyWT2"
      },
      "source": [
        "Пропуски заполнены. Одинаковое количество пропусков в количестве рабочих дней и доходе за месяц(в одних и тех же строках). Заменили на среднее значение дохода в каждой группе отдельно. Также обработали количество дней стажа, взяли по модулю отрицательные значения, заменили на медианные значения пропуски и привели все к дням (теперь максимальнй стаж 50 лет)"
      ]
    },
    {
      "cell_type": "markdown",
      "metadata": {
        "id": "4KMsVItnyWT2"
      },
      "source": [
        "P.S.\n",
        "Так как столбец days_employed нам не нужен для дальнейшего анализа, то делать с ним что-то не обязательно, но как его можно было бы обработать более оптимально:\n",
        "- отрицательные значения взять по модулю\n",
        "- пропуски заполнить медианами по возрасту\n",
        "- аномально высокие значения разделить на 24 и тогда получится вполне себе адекватный стаж (в реальной задаче, прежде чем такое делать, стоит уточнить могла ли быть такая ошибка при выгрузке/заполнении данных)    "
      ]
    },
    {
      "cell_type": "markdown",
      "metadata": {
        "id": "e2nkRX-LyWT3"
      },
      "source": [
        "### 2.3 Замена типа данных"
      ]
    },
    {
      "cell_type": "markdown",
      "metadata": {
        "id": "7pI7lODTyWT3"
      },
      "source": [
        "Заменяем тип данных float64 на int"
      ]
    },
    {
      "cell_type": "code",
      "execution_count": null,
      "metadata": {
        "id": "yQWrJalwyWT3"
      },
      "outputs": [],
      "source": [
        "df['days_employed'] = df['days_employed'].astype('int')\n",
        "df['month_income'] = df['month_income'].astype('int')"
      ]
    },
    {
      "cell_type": "markdown",
      "metadata": {
        "id": "_QNXl_HFyWT3"
      },
      "source": [
        "Проверим замену типа данных"
      ]
    },
    {
      "cell_type": "code",
      "execution_count": null,
      "metadata": {
        "id": "NC5LFXxdyWT3",
        "outputId": "818ccfe0-62f5-4cdb-f028-21fd76c5b050"
      },
      "outputs": [
        {
          "name": "stdout",
          "output_type": "stream",
          "text": [
            "<class 'pandas.core.frame.DataFrame'>\n",
            "RangeIndex: 21525 entries, 0 to 21524\n",
            "Data columns (total 12 columns):\n",
            " #   Column                   Non-Null Count  Dtype \n",
            "---  ------                   --------------  ----- \n",
            " 0   number_of_children       21525 non-null  int64 \n",
            " 1   days_employed            21525 non-null  int64 \n",
            " 2   client_age_in_years      21525 non-null  int64 \n",
            " 3   education_level          21525 non-null  object\n",
            " 4   education_level_id       21525 non-null  int64 \n",
            " 5   family_status            21525 non-null  object\n",
            " 6   family_status_id         21525 non-null  int64 \n",
            " 7   gender                   21525 non-null  object\n",
            " 8   employment_type          21525 non-null  object\n",
            " 9   credit_repayment_status  21525 non-null  int64 \n",
            " 10  month_income             21525 non-null  int64 \n",
            " 11  credit_purpose           21525 non-null  object\n",
            "dtypes: int64(7), object(5)\n",
            "memory usage: 2.0+ MB\n"
          ]
        }
      ],
      "source": [
        "df.info()"
      ]
    },
    {
      "cell_type": "markdown",
      "metadata": {
        "id": "fwIFbvshyWT3"
      },
      "source": [
        "**Промежуточный вывод**"
      ]
    },
    {
      "cell_type": "markdown",
      "metadata": {
        "id": "3kp42z8syWT4"
      },
      "source": [
        "Выполнена замена типа данных в столбцах days_employed (трудовой стаж) и month_income (доход за месяц). Для удобства восприятия: дни стажа не могут быть нецелым числом; а в доходе отбрасывание копеек(центов и тд. мы не знаем какая валюта используется) не повлияет на итоговые выводы исследования"
      ]
    },
    {
      "cell_type": "markdown",
      "metadata": {
        "id": "0R9QGkhQyWT4"
      },
      "source": [
        "### 2.4 Обработка дубликатов"
      ]
    },
    {
      "cell_type": "markdown",
      "metadata": {
        "id": "6QBzTMVbyWT4"
      },
      "source": [
        "Проверим на явные дубликаты и посчитаем их количество"
      ]
    },
    {
      "cell_type": "code",
      "execution_count": null,
      "metadata": {
        "id": "BlI9QxdcyWT4",
        "outputId": "e26a79ce-0c68-4b6a-f099-d05888a7c14e"
      },
      "outputs": [
        {
          "data": {
            "text/plain": [
              "54"
            ]
          },
          "execution_count": 97,
          "metadata": {},
          "output_type": "execute_result"
        }
      ],
      "source": [
        "df.duplicated().sum()"
      ]
    },
    {
      "cell_type": "markdown",
      "metadata": {
        "id": "JyXY1F8ByWT4"
      },
      "source": [
        "Скорее всего такие дубликаты возникают из-за человеческого фактора, удалим явные дубликаты"
      ]
    },
    {
      "cell_type": "code",
      "execution_count": null,
      "metadata": {
        "id": "erMUde1PyWT5"
      },
      "outputs": [],
      "source": [
        "df = df.drop_duplicates().reset_index(drop = True)"
      ]
    },
    {
      "cell_type": "markdown",
      "metadata": {
        "id": "Lnco_scryWT5"
      },
      "source": [
        " Проверим удалились ли дубли"
      ]
    },
    {
      "cell_type": "code",
      "execution_count": null,
      "metadata": {
        "id": "bmyE8YugyWT5",
        "outputId": "0773df68-1647-4199-cddd-dc6a865ba8eb"
      },
      "outputs": [
        {
          "data": {
            "text/plain": [
              "0"
            ]
          },
          "execution_count": 99,
          "metadata": {},
          "output_type": "execute_result"
        }
      ],
      "source": [
        "df.duplicated().sum()"
      ]
    },
    {
      "cell_type": "markdown",
      "metadata": {
        "id": "d9_6W9cSyWT5"
      },
      "source": [
        "### 2.5 Категориальные данные"
      ]
    },
    {
      "cell_type": "markdown",
      "metadata": {
        "id": "Q62pMrjhyWT5"
      },
      "source": [
        "Разберемся с неявными дубликатами, такие возникают скорее в столбцах с категорийной информацией (количественная повторяться может с большей вероятностью быть одинаковой). Проверим столбцы с категорийной информацией"
      ]
    },
    {
      "cell_type": "markdown",
      "metadata": {
        "id": "RZGV-XhZyWT6"
      },
      "source": [
        " Выведем уникальные значения уровня образования и индикатора"
      ]
    },
    {
      "cell_type": "code",
      "execution_count": null,
      "metadata": {
        "id": "wPfYHPrLyWT6",
        "outputId": "d46ff55a-26b3-4deb-9104-05416d30eb8a"
      },
      "outputs": [
        {
          "data": {
            "text/plain": [
              "array(['высшее', 'среднее', 'Среднее', 'СРЕДНЕЕ', 'ВЫСШЕЕ',\n",
              "       'неоконченное высшее', 'начальное', 'Высшее',\n",
              "       'НЕОКОНЧЕННОЕ ВЫСШЕЕ', 'Неоконченное высшее', 'НАЧАЛЬНОЕ',\n",
              "       'Начальное', 'Ученая степень', 'УЧЕНАЯ СТЕПЕНЬ', 'ученая степень'],\n",
              "      dtype=object)"
            ]
          },
          "execution_count": 100,
          "metadata": {},
          "output_type": "execute_result"
        }
      ],
      "source": [
        "df['education_level'].unique()"
      ]
    },
    {
      "cell_type": "code",
      "execution_count": null,
      "metadata": {
        "id": "9LXH2ZxWyWT6",
        "outputId": "b3643fe0-aa1e-4652-a9c7-6e982d8e3cbb"
      },
      "outputs": [
        {
          "data": {
            "text/plain": [
              "array([0, 1, 2, 3, 4])"
            ]
          },
          "execution_count": 101,
          "metadata": {},
          "output_type": "execute_result"
        }
      ],
      "source": [
        "df['education_level_id'].unique()"
      ]
    },
    {
      "cell_type": "markdown",
      "metadata": {
        "id": "1LktoCTnyWT6"
      },
      "source": [
        "Видим, что много повторов из-за разного регистра, в том числе в индификаторе образования всего 5 значений а уникальных значений уровня образования больше"
      ]
    },
    {
      "cell_type": "markdown",
      "metadata": {
        "id": "X-5oGHTvyWT6"
      },
      "source": [
        "Приведем столбец с уровнем образования к нижнему регистру"
      ]
    },
    {
      "cell_type": "code",
      "execution_count": null,
      "metadata": {
        "id": "z-HYSww9yWT6"
      },
      "outputs": [],
      "source": [
        "df['education_level'] = df['education_level'].str.lower() "
      ]
    },
    {
      "cell_type": "code",
      "execution_count": null,
      "metadata": {
        "id": "WdCLl_X3yWT7",
        "outputId": "848b5d61-8f7d-44a8-f33a-1229ebeb05b3"
      },
      "outputs": [
        {
          "data": {
            "text/plain": [
              "array(['высшее', 'среднее', 'неоконченное высшее', 'начальное',\n",
              "       'ученая степень'], dtype=object)"
            ]
          },
          "execution_count": 103,
          "metadata": {},
          "output_type": "execute_result"
        }
      ],
      "source": [
        "df['education_level'].unique()"
      ]
    },
    {
      "cell_type": "markdown",
      "metadata": {
        "id": "Aikl19WkyWT7"
      },
      "source": [
        "  Проверим, появились ли новые дубликаты из-за замены в уровне образования"
      ]
    },
    {
      "cell_type": "code",
      "execution_count": null,
      "metadata": {
        "id": "3liTFCzEyWT7",
        "outputId": "0f9b3304-5183-4651-d974-43549467a4cb"
      },
      "outputs": [
        {
          "data": {
            "text/plain": [
              "17"
            ]
          },
          "execution_count": 104,
          "metadata": {},
          "output_type": "execute_result"
        }
      ],
      "source": [
        "df.duplicated().sum()"
      ]
    },
    {
      "cell_type": "markdown",
      "metadata": {
        "id": "YTnpYLkzyWT7"
      },
      "source": [
        " Удалим новые дубликаты"
      ]
    },
    {
      "cell_type": "code",
      "execution_count": null,
      "metadata": {
        "id": "82qV4G-pyWT7"
      },
      "outputs": [],
      "source": [
        "df = df.drop_duplicates().reset_index(drop = True)"
      ]
    },
    {
      "cell_type": "markdown",
      "metadata": {
        "id": "RM1j47w2yWT7"
      },
      "source": [
        "Проверим удаление"
      ]
    },
    {
      "cell_type": "code",
      "execution_count": null,
      "metadata": {
        "id": "-LlpqETqyWT7",
        "outputId": "9286b72a-434a-43cb-e570-10e2201b337d"
      },
      "outputs": [
        {
          "data": {
            "text/plain": [
              "0"
            ]
          },
          "execution_count": 106,
          "metadata": {},
          "output_type": "execute_result"
        }
      ],
      "source": [
        "df.duplicated().sum()"
      ]
    },
    {
      "cell_type": "markdown",
      "metadata": {
        "id": "ltTdejTxyWT8"
      },
      "source": [
        " Проверим столбец с семейным положением"
      ]
    },
    {
      "cell_type": "code",
      "execution_count": null,
      "metadata": {
        "id": "CPlp18NEyWT8",
        "outputId": "85cd6498-5b96-492d-d320-4a9b96e677f8"
      },
      "outputs": [
        {
          "data": {
            "text/plain": [
              "array(['женат / замужем', 'гражданский брак', 'вдовец / вдова',\n",
              "       'в разводе', 'Не женат / не замужем'], dtype=object)"
            ]
          },
          "execution_count": 107,
          "metadata": {},
          "output_type": "execute_result"
        }
      ],
      "source": [
        "df['family_status'].unique()"
      ]
    },
    {
      "cell_type": "code",
      "execution_count": null,
      "metadata": {
        "id": "mDiP7v14yWT8",
        "outputId": "54d6e160-9e56-4132-e1fe-c927b0505f00"
      },
      "outputs": [
        {
          "data": {
            "text/plain": [
              "array([0, 1, 2, 3, 4])"
            ]
          },
          "execution_count": 108,
          "metadata": {},
          "output_type": "execute_result"
        }
      ],
      "source": [
        "df['family_status_id'].unique()"
      ]
    },
    {
      "cell_type": "markdown",
      "metadata": {
        "id": "10aTuPl4yWT8"
      },
      "source": [
        "Тут все в порядке, количество уникальных значений в семейном статусе и в индификаторе семейного статуса совпадают"
      ]
    },
    {
      "cell_type": "markdown",
      "metadata": {
        "id": "ekpsVkhTyWT8"
      },
      "source": [
        "Проверим столбец с полом клиента"
      ]
    },
    {
      "cell_type": "code",
      "execution_count": null,
      "metadata": {
        "id": "xmsAqEm_yWT9",
        "outputId": "dbc2e467-8bf1-4975-acfc-b393a4529e02"
      },
      "outputs": [
        {
          "data": {
            "text/plain": [
              "array(['F', 'M', 'XNA'], dtype=object)"
            ]
          },
          "execution_count": 109,
          "metadata": {},
          "output_type": "execute_result"
        }
      ],
      "source": [
        "df['gender'].unique()"
      ]
    },
    {
      "cell_type": "markdown",
      "metadata": {
        "id": "p4k-q40RyWT9"
      },
      "source": [
        "Посчитаем сколько строк с неизвестным полом"
      ]
    },
    {
      "cell_type": "code",
      "execution_count": null,
      "metadata": {
        "id": "wUAu2zqnyWT9",
        "outputId": "0ef0c980-3b03-48d1-e170-61b6345a954a"
      },
      "outputs": [
        {
          "data": {
            "text/plain": [
              "number_of_children         1\n",
              "days_employed              1\n",
              "client_age_in_years        1\n",
              "education_level            1\n",
              "education_level_id         1\n",
              "family_status              1\n",
              "family_status_id           1\n",
              "gender                     1\n",
              "employment_type            1\n",
              "credit_repayment_status    1\n",
              "month_income               1\n",
              "credit_purpose             1\n",
              "dtype: int64"
            ]
          },
          "execution_count": 110,
          "metadata": {},
          "output_type": "execute_result"
        }
      ],
      "source": [
        "df[df['gender'] == 'XNA'].count()"
      ]
    },
    {
      "cell_type": "markdown",
      "metadata": {
        "id": "LaFvxOPIyWT9"
      },
      "source": [
        "Такая строка всего 1, так что не сильно повлияет на результат"
      ]
    },
    {
      "cell_type": "markdown",
      "metadata": {
        "id": "1zbNLGQwyWT-"
      },
      "source": [
        "Проверим столбец с типом занятости"
      ]
    },
    {
      "cell_type": "code",
      "execution_count": null,
      "metadata": {
        "id": "6gusQv6ayWT-",
        "outputId": "1b462102-7fd2-4486-deb7-6b192e217270"
      },
      "outputs": [
        {
          "data": {
            "text/plain": [
              "array(['сотрудник', 'пенсионер', 'компаньон', 'госслужащий',\n",
              "       'безработный', 'предприниматель', 'студент', 'в декрете'],\n",
              "      dtype=object)"
            ]
          },
          "execution_count": 111,
          "metadata": {},
          "output_type": "execute_result"
        }
      ],
      "source": [
        "df['employment_type'].unique()"
      ]
    },
    {
      "cell_type": "markdown",
      "metadata": {
        "id": "gUBUQAGCyWT-"
      },
      "source": [
        "Тут тоже все в порядке"
      ]
    },
    {
      "cell_type": "markdown",
      "metadata": {
        "id": "L1Q_XbceyWT-"
      },
      "source": [
        "**Промежуточный вывод**\n",
        "\n",
        "Первичную обработку от дубликатов выполнили: привели все к единому регистру и удалили явные дубликаты. Далее надо разобраться с целями (столбец 'credit_purpose' и с отрицательными значениями данных"
      ]
    },
    {
      "cell_type": "markdown",
      "metadata": {
        "id": "xHps4QaMyWT-"
      },
      "source": [
        "### 2.6 Количественные данные"
      ]
    },
    {
      "cell_type": "markdown",
      "metadata": {
        "id": "NoeAa0JCyWT-"
      },
      "source": [
        "С первого просмотра таблицы смутил отрицательный стаж работы (days_employed), возьмем по модулю стаж"
      ]
    },
    {
      "cell_type": "code",
      "execution_count": null,
      "metadata": {
        "id": "6vlYOBo0yWT_"
      },
      "outputs": [],
      "source": [
        "df['days_employed'] = df['days_employed'].abs()"
      ]
    },
    {
      "cell_type": "markdown",
      "metadata": {
        "id": "-3iuk88WyWT_"
      },
      "source": [
        "Проверим другие столбцы на отрицательные значения, выведем уникальные значения количества детей"
      ]
    },
    {
      "cell_type": "code",
      "execution_count": null,
      "metadata": {
        "id": "KMEfISeByWT_",
        "outputId": "90c8a65b-2258-4384-fbde-eb94bcf65779"
      },
      "outputs": [
        {
          "data": {
            "text/plain": [
              "array([ 1,  0,  3,  2, -1,  4, 20,  5])"
            ]
          },
          "execution_count": 113,
          "metadata": {},
          "output_type": "execute_result"
        }
      ],
      "source": [
        "df['number_of_children'].unique()"
      ]
    },
    {
      "cell_type": "markdown",
      "metadata": {
        "id": "mVJxVc8kyWUA"
      },
      "source": [
        "Видим тут тоже значение -1. Одновременно кажется странным значение 20 детей"
      ]
    },
    {
      "cell_type": "markdown",
      "metadata": {
        "id": "rqe5rM5NyWUA"
      },
      "source": [
        "Заменим значение -1 на 1. Скорее всего это просто опечатка можно использовать метод replace"
      ]
    },
    {
      "cell_type": "code",
      "execution_count": null,
      "metadata": {
        "id": "X6Qwo-I4yWUA"
      },
      "outputs": [],
      "source": [
        "df = df.replace( -1 , 1)"
      ]
    },
    {
      "cell_type": "markdown",
      "metadata": {
        "id": "ab4DcJMJyWUA"
      },
      "source": [
        "Проверим одновременно замену -1 и количество \"многодетных\" семей с 20 детьми"
      ]
    },
    {
      "cell_type": "code",
      "execution_count": null,
      "metadata": {
        "id": "aMDEnAS3yWUA",
        "outputId": "05dd3e1e-1cf2-4ea2-fd2c-13332e9bc67b"
      },
      "outputs": [
        {
          "data": {
            "text/plain": [
              "0     14091\n",
              "1      4855\n",
              "2      2052\n",
              "3       330\n",
              "20       76\n",
              "4        41\n",
              "5         9\n",
              "Name: number_of_children, dtype: int64"
            ]
          },
          "execution_count": 115,
          "metadata": {},
          "output_type": "execute_result"
        }
      ],
      "source": [
        "df['number_of_children'].value_counts()"
      ]
    },
    {
      "cell_type": "markdown",
      "metadata": {
        "id": "rnqlsxtmyWUA"
      },
      "source": [
        "Видим, что -1 уже нет в значениях, а вот семей с 20 детьми 76 - такое игнорировать нельзя\n"
      ]
    },
    {
      "cell_type": "markdown",
      "metadata": {
        "id": "AYEK3SKcyWUB"
      },
      "source": [
        "Заменим 20 детей на медианное значение,без учета 20 детей,потому что мы не знаем это 2 с \"нечаянным\" 0, или 0 с \"нечаянной\" 2"
      ]
    },
    {
      "cell_type": "code",
      "execution_count": null,
      "metadata": {
        "id": "1mLyD5m9yWUB"
      },
      "outputs": [],
      "source": [
        "children_median = df[df['number_of_children'] != 20]['number_of_children'].median()\n",
        "df['number_of_children'] = df['number_of_children'].replace(20, children_median)"
      ]
    },
    {
      "cell_type": "markdown",
      "metadata": {
        "id": "JXd4fSF9yWUB"
      },
      "source": [
        "Проверим все замены"
      ]
    },
    {
      "cell_type": "code",
      "execution_count": null,
      "metadata": {
        "id": "XpRwpw-iyWUB",
        "outputId": "33e33dad-7a1f-471b-a8ac-9f0ca5df8954"
      },
      "outputs": [
        {
          "data": {
            "text/plain": [
              "0.0    14167\n",
              "1.0     4855\n",
              "2.0     2052\n",
              "3.0      330\n",
              "4.0       41\n",
              "5.0        9\n",
              "Name: number_of_children, dtype: int64"
            ]
          },
          "execution_count": 117,
          "metadata": {},
          "output_type": "execute_result"
        }
      ],
      "source": [
        "df['number_of_children'].value_counts()"
      ]
    },
    {
      "cell_type": "markdown",
      "metadata": {
        "id": "qAz-lf24yWUB"
      },
      "source": [
        "Проверим столбец возраст клиента на отрицательные и неадекватные значений"
      ]
    },
    {
      "cell_type": "code",
      "execution_count": null,
      "metadata": {
        "id": "K8DGDWzUyWUB",
        "outputId": "0e7c6497-cb32-42bc-d04f-9914d8aa87d4"
      },
      "outputs": [
        {
          "data": {
            "text/plain": [
              "array([42, 36, 33, 32, 53, 27, 43, 50, 35, 41, 40, 65, 54, 56, 26, 48, 24,\n",
              "       21, 57, 67, 28, 63, 62, 47, 34, 68, 25, 31, 30, 20, 49, 37, 45, 61,\n",
              "       64, 44, 52, 46, 23, 38, 39, 51,  0, 59, 29, 60, 55, 58, 71, 22, 73,\n",
              "       66, 69, 19, 72, 70, 74, 75])"
            ]
          },
          "execution_count": 118,
          "metadata": {},
          "output_type": "execute_result"
        }
      ],
      "source": [
        "df['client_age_in_years'].unique()"
      ]
    },
    {
      "cell_type": "markdown",
      "metadata": {
        "id": "mzrHpV6UyWUC"
      },
      "source": [
        "Проверим сколько 0 в данных о возрасте"
      ]
    },
    {
      "cell_type": "code",
      "execution_count": null,
      "metadata": {
        "id": "bTLvxSDLyWUC",
        "outputId": "1b20b925-ac2a-46b1-99c1-972161da576d"
      },
      "outputs": [
        {
          "data": {
            "text/plain": [
              "101"
            ]
          },
          "execution_count": 119,
          "metadata": {},
          "output_type": "execute_result"
        }
      ],
      "source": [
        "df[df['client_age_in_years'] == 0]['client_age_in_years'].count()"
      ]
    },
    {
      "cell_type": "markdown",
      "metadata": {
        "id": "O-yfuSXGyWUC"
      },
      "source": [
        "Видим, что отрицательных значеий в возрасте нет, но есть 101 значение нулевого возраста, заменим его на среднее значение"
      ]
    },
    {
      "cell_type": "code",
      "execution_count": null,
      "metadata": {
        "id": "ge275rZYyWUC"
      },
      "outputs": [],
      "source": [
        "client_years_avg = df[df['client_age_in_years'] != 0]['client_age_in_years'].mean()\n",
        "df['client_age_in_years'] = df['client_age_in_years'].replace(0, client_years_avg).astype(int)"
      ]
    },
    {
      "cell_type": "markdown",
      "metadata": {
        "id": "SKpn6bCMyWUC"
      },
      "source": [
        "Проверим замены и отсортируем"
      ]
    },
    {
      "cell_type": "code",
      "execution_count": null,
      "metadata": {
        "id": "RILWnj-HyWUD",
        "outputId": "4addfa0b-54c3-4591-abce-4cc3125cbfa0"
      },
      "outputs": [
        {
          "data": {
            "text/plain": [
              "array([19, 20, 21, 22, 23, 24, 25, 26, 27, 28, 29, 30, 31, 32, 33, 34, 35,\n",
              "       36, 37, 38, 39, 40, 41, 42, 43, 44, 45, 46, 47, 48, 49, 50, 51, 52,\n",
              "       53, 54, 55, 56, 57, 58, 59, 60, 61, 62, 63, 64, 65, 66, 67, 68, 69,\n",
              "       70, 71, 72, 73, 74, 75])"
            ]
          },
          "execution_count": 121,
          "metadata": {},
          "output_type": "execute_result"
        }
      ],
      "source": [
        "df['client_age_in_years'].sort_values().unique()"
      ]
    },
    {
      "cell_type": "markdown",
      "metadata": {
        "id": "wAi9bfQeyWUD"
      },
      "source": [
        "**Промежуточный вывод**\n",
        "\n",
        "Выполнили замену отрицательных значений в столбце стажа, заменили аномальные значения количества детей на медиану, заменили нулевой возраст клиентов на среднее значение. Далее приступим к обработки целей кредита при помощи лемматизации"
      ]
    },
    {
      "cell_type": "markdown",
      "metadata": {
        "id": "d7vz9XuryWUD"
      },
      "source": [
        "### 2.7 Лемматизация"
      ]
    },
    {
      "cell_type": "markdown",
      "metadata": {
        "id": "Nbyi8QkByWUE"
      },
      "source": [
        "Узнаем названия уникальных значений целей кредита"
      ]
    },
    {
      "cell_type": "code",
      "execution_count": null,
      "metadata": {
        "id": "N61EJkh5yWUE",
        "outputId": "3b702766-a1c1-477f-f42d-e58cd809fc6f"
      },
      "outputs": [
        {
          "data": {
            "text/plain": [
              "['покупка жилья',\n",
              " 'приобретение автомобиля',\n",
              " 'дополнительное образование',\n",
              " 'сыграть свадьбу',\n",
              " 'операции с жильем',\n",
              " 'образование',\n",
              " 'на проведение свадьбы',\n",
              " 'покупка жилья для семьи',\n",
              " 'покупка недвижимости',\n",
              " 'покупка коммерческой недвижимости',\n",
              " 'покупка жилой недвижимости',\n",
              " 'строительство собственной недвижимости',\n",
              " 'недвижимость',\n",
              " 'строительство недвижимости',\n",
              " 'на покупку подержанного автомобиля',\n",
              " 'на покупку своего автомобиля',\n",
              " 'операции с коммерческой недвижимостью',\n",
              " 'строительство жилой недвижимости',\n",
              " 'жилье',\n",
              " 'операции со своей недвижимостью',\n",
              " 'автомобили',\n",
              " 'заняться образованием',\n",
              " 'сделка с подержанным автомобилем',\n",
              " 'получение образования',\n",
              " 'автомобиль',\n",
              " 'свадьба',\n",
              " 'получение дополнительного образования',\n",
              " 'покупка своего жилья',\n",
              " 'операции с недвижимостью',\n",
              " 'получение высшего образования',\n",
              " 'свой автомобиль',\n",
              " 'сделка с автомобилем',\n",
              " 'профильное образование',\n",
              " 'высшее образование',\n",
              " 'покупка жилья для сдачи',\n",
              " 'на покупку автомобиля',\n",
              " 'ремонт жилью',\n",
              " 'заняться высшим образованием']"
            ]
          },
          "execution_count": 122,
          "metadata": {},
          "output_type": "execute_result"
        }
      ],
      "source": [
        "unique_credit_purposes = df['credit_purpose'].unique().tolist()\n",
        "unique_credit_purposes"
      ]
    },
    {
      "cell_type": "markdown",
      "metadata": {
        "id": "IqZMkyVqyWUF"
      },
      "source": [
        "Склеиваем данные уникальных значений в одну строку, символ разделения"
      ]
    },
    {
      "cell_type": "code",
      "execution_count": null,
      "metadata": {
        "id": "j64kpir8yWUF",
        "outputId": "7339abd8-0636-44c4-ca14-aa551a844856"
      },
      "outputs": [
        {
          "data": {
            "text/plain": [
              "'покупка жилья|приобретение автомобиля|дополнительное образование|сыграть свадьбу|операции с жильем|образование|на проведение свадьбы|покупка жилья для семьи|покупка недвижимости|покупка коммерческой недвижимости|покупка жилой недвижимости|строительство собственной недвижимости|недвижимость|строительство недвижимости|на покупку подержанного автомобиля|на покупку своего автомобиля|операции с коммерческой недвижимостью|строительство жилой недвижимости|жилье|операции со своей недвижимостью|автомобили|заняться образованием|сделка с подержанным автомобилем|получение образования|автомобиль|свадьба|получение дополнительного образования|покупка своего жилья|операции с недвижимостью|получение высшего образования|свой автомобиль|сделка с автомобилем|профильное образование|высшее образование|покупка жилья для сдачи|на покупку автомобиля|ремонт жилью|заняться высшим образованием'"
            ]
          },
          "execution_count": 123,
          "metadata": {},
          "output_type": "execute_result"
        }
      ],
      "source": [
        "purposes_str = '|'.join(unique_credit_purposes) \n",
        "purposes_str"
      ]
    },
    {
      "cell_type": "markdown",
      "metadata": {
        "id": "GE8BvatVyWUF"
      },
      "source": [
        "Подсчет упоминаний в тексте, вызываем специальный контейнер Counter из модуля collections"
      ]
    },
    {
      "cell_type": "code",
      "execution_count": null,
      "metadata": {
        "id": "-HGrvRzCyWUF",
        "outputId": "12e045eb-b056-48f7-ac45-ef0dccae5332"
      },
      "outputs": [
        {
          "name": "stdout",
          "output_type": "stream",
          "text": [
            "Counter({' ': 59, '|': 37, 'покупка': 10, 'недвижимость': 10, 'автомобиль': 9, 'образование': 9, 'жилье': 7, 'с': 5, 'операция': 4, 'на': 4, 'свой': 4, 'свадьба': 3, 'строительство': 3, 'получение': 3, 'высокий': 3, 'дополнительный': 2, 'для': 2, 'коммерческий': 2, 'жилой': 2, 'подержать': 2, 'заниматься': 2, 'сделка': 2, 'приобретение': 1, 'сыграть': 1, 'проведение': 1, 'семья': 1, 'собственный': 1, 'со': 1, 'профильный': 1, 'сдача': 1, 'ремонт': 1, '\\n': 1})\n"
          ]
        }
      ],
      "source": [
        "from collections import Counter\n",
        "print(Counter(lemmas))"
      ]
    },
    {
      "cell_type": "markdown",
      "metadata": {
        "id": "ZRKdvZySyWUF"
      },
      "source": [
        "**Промежуточный вывод**\n",
        "\n",
        "Лемматизация произведена. Выделим цели кредитов руками:\n",
        "- недвижимость/жилье\n",
        "- автомобиль\n",
        "- свадьба\n",
        "- образование\n",
        "\n"
      ]
    },
    {
      "cell_type": "markdown",
      "metadata": {
        "id": "6J6IOArhyWUG"
      },
      "source": [
        "### 2.8 Категоризация данных"
      ]
    },
    {
      "cell_type": "markdown",
      "metadata": {
        "id": "QLsV6OjTyWUG"
      },
      "source": [
        "Создадим словарь со списком целей"
      ]
    },
    {
      "cell_type": "code",
      "execution_count": null,
      "metadata": {
        "id": "HGxqlO8JyWUG",
        "outputId": "474490ad-379b-4b63-9afc-2dde9bc29404"
      },
      "outputs": [
        {
          "data": {
            "text/plain": [
              "{'недвиж': 'недвижимость',\n",
              " 'жил': 'недвижимость',\n",
              " 'авто': 'автомобиль',\n",
              " 'свадьб': 'свадьба',\n",
              " 'образов': 'образование'}"
            ]
          },
          "execution_count": 125,
          "metadata": {},
          "output_type": "execute_result"
        }
      ],
      "source": [
        "dict_stemmed_purpose = {'недвиж': 'недвижимость' ,\n",
        "                         'жил' : 'недвижимость',\n",
        "                         'авто' : 'автомобиль',\n",
        "                         'свадьб' : 'свадьба',\n",
        "                         'образов' :'образование'\n",
        "                       }\n",
        "dict_stemmed_purpose"
      ]
    },
    {
      "cell_type": "markdown",
      "metadata": {
        "id": "nk0EFKDGyWUG"
      },
      "source": [
        "Создадим столбец с идентификатором категорий на основе словаря"
      ]
    },
    {
      "cell_type": "code",
      "execution_count": null,
      "metadata": {
        "id": "mBrauv_hyWUG",
        "outputId": "aef6777f-3302-4542-a7d9-7a9b49582791"
      },
      "outputs": [
        {
          "data": {
            "text/html": [
              "<div>\n",
              "<style scoped>\n",
              "    .dataframe tbody tr th:only-of-type {\n",
              "        vertical-align: middle;\n",
              "    }\n",
              "\n",
              "    .dataframe tbody tr th {\n",
              "        vertical-align: top;\n",
              "    }\n",
              "\n",
              "    .dataframe thead th {\n",
              "        text-align: right;\n",
              "    }\n",
              "</style>\n",
              "<table border=\"1\" class=\"dataframe\">\n",
              "  <thead>\n",
              "    <tr style=\"text-align: right;\">\n",
              "      <th></th>\n",
              "      <th>number_of_children</th>\n",
              "      <th>days_employed</th>\n",
              "      <th>client_age_in_years</th>\n",
              "      <th>education_level</th>\n",
              "      <th>education_level_id</th>\n",
              "      <th>family_status</th>\n",
              "      <th>family_status_id</th>\n",
              "      <th>gender</th>\n",
              "      <th>employment_type</th>\n",
              "      <th>credit_repayment_status</th>\n",
              "      <th>month_income</th>\n",
              "      <th>credit_purpose</th>\n",
              "      <th>credit_purpose_id</th>\n",
              "    </tr>\n",
              "  </thead>\n",
              "  <tbody>\n",
              "    <tr>\n",
              "      <th>0</th>\n",
              "      <td>1.0</td>\n",
              "      <td>8437</td>\n",
              "      <td>42</td>\n",
              "      <td>высшее</td>\n",
              "      <td>0</td>\n",
              "      <td>женат / замужем</td>\n",
              "      <td>0</td>\n",
              "      <td>F</td>\n",
              "      <td>сотрудник</td>\n",
              "      <td>0</td>\n",
              "      <td>253875</td>\n",
              "      <td>покупка жилья</td>\n",
              "      <td>недвижимость</td>\n",
              "    </tr>\n",
              "    <tr>\n",
              "      <th>1</th>\n",
              "      <td>1.0</td>\n",
              "      <td>4024</td>\n",
              "      <td>36</td>\n",
              "      <td>среднее</td>\n",
              "      <td>1</td>\n",
              "      <td>женат / замужем</td>\n",
              "      <td>0</td>\n",
              "      <td>F</td>\n",
              "      <td>сотрудник</td>\n",
              "      <td>0</td>\n",
              "      <td>112080</td>\n",
              "      <td>приобретение автомобиля</td>\n",
              "      <td>автомобиль</td>\n",
              "    </tr>\n",
              "    <tr>\n",
              "      <th>2</th>\n",
              "      <td>0.0</td>\n",
              "      <td>5623</td>\n",
              "      <td>33</td>\n",
              "      <td>среднее</td>\n",
              "      <td>1</td>\n",
              "      <td>женат / замужем</td>\n",
              "      <td>0</td>\n",
              "      <td>M</td>\n",
              "      <td>сотрудник</td>\n",
              "      <td>0</td>\n",
              "      <td>145885</td>\n",
              "      <td>покупка жилья</td>\n",
              "      <td>недвижимость</td>\n",
              "    </tr>\n",
              "    <tr>\n",
              "      <th>3</th>\n",
              "      <td>3.0</td>\n",
              "      <td>4124</td>\n",
              "      <td>32</td>\n",
              "      <td>среднее</td>\n",
              "      <td>1</td>\n",
              "      <td>женат / замужем</td>\n",
              "      <td>0</td>\n",
              "      <td>M</td>\n",
              "      <td>сотрудник</td>\n",
              "      <td>0</td>\n",
              "      <td>267628</td>\n",
              "      <td>дополнительное образование</td>\n",
              "      <td>образование</td>\n",
              "    </tr>\n",
              "    <tr>\n",
              "      <th>4</th>\n",
              "      <td>0.0</td>\n",
              "      <td>14177</td>\n",
              "      <td>53</td>\n",
              "      <td>среднее</td>\n",
              "      <td>1</td>\n",
              "      <td>гражданский брак</td>\n",
              "      <td>1</td>\n",
              "      <td>F</td>\n",
              "      <td>пенсионер</td>\n",
              "      <td>0</td>\n",
              "      <td>158616</td>\n",
              "      <td>сыграть свадьбу</td>\n",
              "      <td>свадьба</td>\n",
              "    </tr>\n",
              "    <tr>\n",
              "      <th>5</th>\n",
              "      <td>0.0</td>\n",
              "      <td>926</td>\n",
              "      <td>27</td>\n",
              "      <td>высшее</td>\n",
              "      <td>0</td>\n",
              "      <td>гражданский брак</td>\n",
              "      <td>1</td>\n",
              "      <td>M</td>\n",
              "      <td>компаньон</td>\n",
              "      <td>0</td>\n",
              "      <td>255763</td>\n",
              "      <td>покупка жилья</td>\n",
              "      <td>недвижимость</td>\n",
              "    </tr>\n",
              "    <tr>\n",
              "      <th>6</th>\n",
              "      <td>0.0</td>\n",
              "      <td>2879</td>\n",
              "      <td>43</td>\n",
              "      <td>высшее</td>\n",
              "      <td>0</td>\n",
              "      <td>женат / замужем</td>\n",
              "      <td>0</td>\n",
              "      <td>F</td>\n",
              "      <td>компаньон</td>\n",
              "      <td>0</td>\n",
              "      <td>240525</td>\n",
              "      <td>операции с жильем</td>\n",
              "      <td>недвижимость</td>\n",
              "    </tr>\n",
              "    <tr>\n",
              "      <th>7</th>\n",
              "      <td>0.0</td>\n",
              "      <td>152</td>\n",
              "      <td>50</td>\n",
              "      <td>среднее</td>\n",
              "      <td>1</td>\n",
              "      <td>женат / замужем</td>\n",
              "      <td>0</td>\n",
              "      <td>M</td>\n",
              "      <td>сотрудник</td>\n",
              "      <td>0</td>\n",
              "      <td>135823</td>\n",
              "      <td>образование</td>\n",
              "      <td>образование</td>\n",
              "    </tr>\n",
              "    <tr>\n",
              "      <th>8</th>\n",
              "      <td>2.0</td>\n",
              "      <td>6929</td>\n",
              "      <td>35</td>\n",
              "      <td>высшее</td>\n",
              "      <td>0</td>\n",
              "      <td>гражданский брак</td>\n",
              "      <td>1</td>\n",
              "      <td>F</td>\n",
              "      <td>сотрудник</td>\n",
              "      <td>0</td>\n",
              "      <td>95856</td>\n",
              "      <td>на проведение свадьбы</td>\n",
              "      <td>свадьба</td>\n",
              "    </tr>\n",
              "    <tr>\n",
              "      <th>9</th>\n",
              "      <td>0.0</td>\n",
              "      <td>2188</td>\n",
              "      <td>41</td>\n",
              "      <td>среднее</td>\n",
              "      <td>1</td>\n",
              "      <td>женат / замужем</td>\n",
              "      <td>0</td>\n",
              "      <td>M</td>\n",
              "      <td>сотрудник</td>\n",
              "      <td>0</td>\n",
              "      <td>144425</td>\n",
              "      <td>покупка жилья для семьи</td>\n",
              "      <td>недвижимость</td>\n",
              "    </tr>\n",
              "  </tbody>\n",
              "</table>\n",
              "</div>"
            ],
            "text/plain": [
              "   number_of_children  days_employed  client_age_in_years education_level  \\\n",
              "0                 1.0           8437                   42          высшее   \n",
              "1                 1.0           4024                   36         среднее   \n",
              "2                 0.0           5623                   33         среднее   \n",
              "3                 3.0           4124                   32         среднее   \n",
              "4                 0.0          14177                   53         среднее   \n",
              "5                 0.0            926                   27          высшее   \n",
              "6                 0.0           2879                   43          высшее   \n",
              "7                 0.0            152                   50         среднее   \n",
              "8                 2.0           6929                   35          высшее   \n",
              "9                 0.0           2188                   41         среднее   \n",
              "\n",
              "   education_level_id     family_status  family_status_id gender  \\\n",
              "0                   0   женат / замужем                 0      F   \n",
              "1                   1   женат / замужем                 0      F   \n",
              "2                   1   женат / замужем                 0      M   \n",
              "3                   1   женат / замужем                 0      M   \n",
              "4                   1  гражданский брак                 1      F   \n",
              "5                   0  гражданский брак                 1      M   \n",
              "6                   0   женат / замужем                 0      F   \n",
              "7                   1   женат / замужем                 0      M   \n",
              "8                   0  гражданский брак                 1      F   \n",
              "9                   1   женат / замужем                 0      M   \n",
              "\n",
              "  employment_type  credit_repayment_status  month_income  \\\n",
              "0       сотрудник                        0        253875   \n",
              "1       сотрудник                        0        112080   \n",
              "2       сотрудник                        0        145885   \n",
              "3       сотрудник                        0        267628   \n",
              "4       пенсионер                        0        158616   \n",
              "5       компаньон                        0        255763   \n",
              "6       компаньон                        0        240525   \n",
              "7       сотрудник                        0        135823   \n",
              "8       сотрудник                        0         95856   \n",
              "9       сотрудник                        0        144425   \n",
              "\n",
              "               credit_purpose credit_purpose_id  \n",
              "0               покупка жилья      недвижимость  \n",
              "1     приобретение автомобиля        автомобиль  \n",
              "2               покупка жилья      недвижимость  \n",
              "3  дополнительное образование       образование  \n",
              "4             сыграть свадьбу           свадьба  \n",
              "5               покупка жилья      недвижимость  \n",
              "6           операции с жильем      недвижимость  \n",
              "7                 образование       образование  \n",
              "8       на проведение свадьбы           свадьба  \n",
              "9     покупка жилья для семьи      недвижимость  "
            ]
          },
          "execution_count": 126,
          "metadata": {},
          "output_type": "execute_result"
        }
      ],
      "source": [
        "df['credit_purpose_id'] = 0\n",
        "for row in range(len(df)):\n",
        "    for purpose in dict_stemmed_purpose:\n",
        "        if purpose in df.iloc[row, 11]:\n",
        "            df.iloc[row, 12] = dict_stemmed_purpose[purpose]\n",
        "        \n",
        "df.head(10)"
      ]
    },
    {
      "cell_type": "code",
      "execution_count": null,
      "metadata": {
        "id": "f4YXb7zbyWUH",
        "outputId": "cb5212f7-4c58-4406-e3d3-78304507fac1"
      },
      "outputs": [
        {
          "data": {
            "text/plain": [
              "недвижимость    10811\n",
              "автомобиль       4306\n",
              "образование      4013\n",
              "свадьба          2324\n",
              "Name: credit_purpose_id, dtype: int64"
            ]
          },
          "execution_count": 127,
          "metadata": {},
          "output_type": "execute_result"
        }
      ],
      "source": [
        "df['credit_purpose_id'].value_counts()"
      ]
    },
    {
      "cell_type": "markdown",
      "metadata": {
        "id": "19q3rJrmyWUH"
      },
      "source": [
        "Самае частые кредиты берут на покупку жилья, самые редкие на свадьбу"
      ]
    },
    {
      "cell_type": "markdown",
      "metadata": {
        "id": "T9q0GZp6yWUH"
      },
      "source": [
        "Разобъем данные на категории по возрасту и типу занятости обьединим категрии занятости на есть работа или нет работы:\n",
        "- есть работа: сотрудник, компаньон, госсужащий, предприниматель;\n",
        "- нет работы: пенсионер, безработный, студент, в декрете\n",
        "\n",
        "Напишем функцию"
      ]
    },
    {
      "cell_type": "code",
      "execution_count": null,
      "metadata": {
        "id": "IQnXjTsZyWUH",
        "outputId": "64fd9dd3-30fe-4cdf-f8b8-b6b455eca881"
      },
      "outputs": [
        {
          "data": {
            "text/plain": [
              "'работающий+пенсионный возраст'"
            ]
          },
          "execution_count": 128,
          "metadata": {},
          "output_type": "execute_result"
        }
      ],
      "source": [
        "def age_group_employed(row):\n",
        "    client_age_in_years = row['client_age_in_years']\n",
        "    employment_type = row['employment_type']\n",
        "    if client_age_in_years < 40:\n",
        "        if employment_type == 'сотрудник' or 'компаньон' or 'госсужащий' or 'предприниматель':\n",
        "            return 'работающий+молодой'\n",
        "    if 41 < client_age_in_years < 64:\n",
        "        if employment_type == 'сотрудник' or 'компаньон' or 'госсужащий' or 'предприниматель':\n",
        "            return 'работающий+средний возраст'\n",
        "    if client_age_in_years > 65:\n",
        "        if employment_type == 'сотрудник' or 'компаньон' or 'госсужащий' or 'предприниматель':\n",
        "            return 'работающий+пенсионный возраст'\n",
        "            return 'работающий+пенсионный возраст'\n",
        "    return 'безработный'\n",
        "\n",
        "# создаем 2 списка. В одном значения, во втором названия столбцов\n",
        "row_values = [74, 'сотрудник'] # возраст и занятость\n",
        "row_columns = ['client_age_in_years','employment_type']\n",
        "# формируем строку\n",
        "row = pd.Series(data=row_values, index=row_columns)\n",
        "# передаем строку для тестирования функции\n",
        "age_group_employed(row)    "
      ]
    },
    {
      "cell_type": "markdown",
      "metadata": {
        "id": "M_Bd912YyWUH"
      },
      "source": [
        "Создадим новый столбец "
      ]
    },
    {
      "cell_type": "code",
      "execution_count": null,
      "metadata": {
        "id": "CAokG2SkyWUH",
        "outputId": "f51d8f52-4443-496b-b23a-d6d1884187a0"
      },
      "outputs": [
        {
          "data": {
            "text/html": [
              "<div>\n",
              "<style scoped>\n",
              "    .dataframe tbody tr th:only-of-type {\n",
              "        vertical-align: middle;\n",
              "    }\n",
              "\n",
              "    .dataframe tbody tr th {\n",
              "        vertical-align: top;\n",
              "    }\n",
              "\n",
              "    .dataframe thead th {\n",
              "        text-align: right;\n",
              "    }\n",
              "</style>\n",
              "<table border=\"1\" class=\"dataframe\">\n",
              "  <thead>\n",
              "    <tr style=\"text-align: right;\">\n",
              "      <th></th>\n",
              "      <th>number_of_children</th>\n",
              "      <th>days_employed</th>\n",
              "      <th>client_age_in_years</th>\n",
              "      <th>education_level</th>\n",
              "      <th>education_level_id</th>\n",
              "      <th>family_status</th>\n",
              "      <th>family_status_id</th>\n",
              "      <th>gender</th>\n",
              "      <th>employment_type</th>\n",
              "      <th>credit_repayment_status</th>\n",
              "      <th>month_income</th>\n",
              "      <th>credit_purpose</th>\n",
              "      <th>credit_purpose_id</th>\n",
              "      <th>age_group_employed</th>\n",
              "    </tr>\n",
              "  </thead>\n",
              "  <tbody>\n",
              "    <tr>\n",
              "      <th>0</th>\n",
              "      <td>1.0</td>\n",
              "      <td>8437</td>\n",
              "      <td>42</td>\n",
              "      <td>высшее</td>\n",
              "      <td>0</td>\n",
              "      <td>женат / замужем</td>\n",
              "      <td>0</td>\n",
              "      <td>F</td>\n",
              "      <td>сотрудник</td>\n",
              "      <td>0</td>\n",
              "      <td>253875</td>\n",
              "      <td>покупка жилья</td>\n",
              "      <td>недвижимость</td>\n",
              "      <td>работающий+средний возраст</td>\n",
              "    </tr>\n",
              "    <tr>\n",
              "      <th>1</th>\n",
              "      <td>1.0</td>\n",
              "      <td>4024</td>\n",
              "      <td>36</td>\n",
              "      <td>среднее</td>\n",
              "      <td>1</td>\n",
              "      <td>женат / замужем</td>\n",
              "      <td>0</td>\n",
              "      <td>F</td>\n",
              "      <td>сотрудник</td>\n",
              "      <td>0</td>\n",
              "      <td>112080</td>\n",
              "      <td>приобретение автомобиля</td>\n",
              "      <td>автомобиль</td>\n",
              "      <td>работающий+молодой</td>\n",
              "    </tr>\n",
              "    <tr>\n",
              "      <th>2</th>\n",
              "      <td>0.0</td>\n",
              "      <td>5623</td>\n",
              "      <td>33</td>\n",
              "      <td>среднее</td>\n",
              "      <td>1</td>\n",
              "      <td>женат / замужем</td>\n",
              "      <td>0</td>\n",
              "      <td>M</td>\n",
              "      <td>сотрудник</td>\n",
              "      <td>0</td>\n",
              "      <td>145885</td>\n",
              "      <td>покупка жилья</td>\n",
              "      <td>недвижимость</td>\n",
              "      <td>работающий+молодой</td>\n",
              "    </tr>\n",
              "    <tr>\n",
              "      <th>3</th>\n",
              "      <td>3.0</td>\n",
              "      <td>4124</td>\n",
              "      <td>32</td>\n",
              "      <td>среднее</td>\n",
              "      <td>1</td>\n",
              "      <td>женат / замужем</td>\n",
              "      <td>0</td>\n",
              "      <td>M</td>\n",
              "      <td>сотрудник</td>\n",
              "      <td>0</td>\n",
              "      <td>267628</td>\n",
              "      <td>дополнительное образование</td>\n",
              "      <td>образование</td>\n",
              "      <td>работающий+молодой</td>\n",
              "    </tr>\n",
              "    <tr>\n",
              "      <th>4</th>\n",
              "      <td>0.0</td>\n",
              "      <td>14177</td>\n",
              "      <td>53</td>\n",
              "      <td>среднее</td>\n",
              "      <td>1</td>\n",
              "      <td>гражданский брак</td>\n",
              "      <td>1</td>\n",
              "      <td>F</td>\n",
              "      <td>пенсионер</td>\n",
              "      <td>0</td>\n",
              "      <td>158616</td>\n",
              "      <td>сыграть свадьбу</td>\n",
              "      <td>свадьба</td>\n",
              "      <td>работающий+средний возраст</td>\n",
              "    </tr>\n",
              "    <tr>\n",
              "      <th>5</th>\n",
              "      <td>0.0</td>\n",
              "      <td>926</td>\n",
              "      <td>27</td>\n",
              "      <td>высшее</td>\n",
              "      <td>0</td>\n",
              "      <td>гражданский брак</td>\n",
              "      <td>1</td>\n",
              "      <td>M</td>\n",
              "      <td>компаньон</td>\n",
              "      <td>0</td>\n",
              "      <td>255763</td>\n",
              "      <td>покупка жилья</td>\n",
              "      <td>недвижимость</td>\n",
              "      <td>работающий+молодой</td>\n",
              "    </tr>\n",
              "    <tr>\n",
              "      <th>6</th>\n",
              "      <td>0.0</td>\n",
              "      <td>2879</td>\n",
              "      <td>43</td>\n",
              "      <td>высшее</td>\n",
              "      <td>0</td>\n",
              "      <td>женат / замужем</td>\n",
              "      <td>0</td>\n",
              "      <td>F</td>\n",
              "      <td>компаньон</td>\n",
              "      <td>0</td>\n",
              "      <td>240525</td>\n",
              "      <td>операции с жильем</td>\n",
              "      <td>недвижимость</td>\n",
              "      <td>работающий+средний возраст</td>\n",
              "    </tr>\n",
              "    <tr>\n",
              "      <th>7</th>\n",
              "      <td>0.0</td>\n",
              "      <td>152</td>\n",
              "      <td>50</td>\n",
              "      <td>среднее</td>\n",
              "      <td>1</td>\n",
              "      <td>женат / замужем</td>\n",
              "      <td>0</td>\n",
              "      <td>M</td>\n",
              "      <td>сотрудник</td>\n",
              "      <td>0</td>\n",
              "      <td>135823</td>\n",
              "      <td>образование</td>\n",
              "      <td>образование</td>\n",
              "      <td>работающий+средний возраст</td>\n",
              "    </tr>\n",
              "    <tr>\n",
              "      <th>8</th>\n",
              "      <td>2.0</td>\n",
              "      <td>6929</td>\n",
              "      <td>35</td>\n",
              "      <td>высшее</td>\n",
              "      <td>0</td>\n",
              "      <td>гражданский брак</td>\n",
              "      <td>1</td>\n",
              "      <td>F</td>\n",
              "      <td>сотрудник</td>\n",
              "      <td>0</td>\n",
              "      <td>95856</td>\n",
              "      <td>на проведение свадьбы</td>\n",
              "      <td>свадьба</td>\n",
              "      <td>работающий+молодой</td>\n",
              "    </tr>\n",
              "    <tr>\n",
              "      <th>9</th>\n",
              "      <td>0.0</td>\n",
              "      <td>2188</td>\n",
              "      <td>41</td>\n",
              "      <td>среднее</td>\n",
              "      <td>1</td>\n",
              "      <td>женат / замужем</td>\n",
              "      <td>0</td>\n",
              "      <td>M</td>\n",
              "      <td>сотрудник</td>\n",
              "      <td>0</td>\n",
              "      <td>144425</td>\n",
              "      <td>покупка жилья для семьи</td>\n",
              "      <td>недвижимость</td>\n",
              "      <td>безработный</td>\n",
              "    </tr>\n",
              "  </tbody>\n",
              "</table>\n",
              "</div>"
            ],
            "text/plain": [
              "   number_of_children  days_employed  client_age_in_years education_level  \\\n",
              "0                 1.0           8437                   42          высшее   \n",
              "1                 1.0           4024                   36         среднее   \n",
              "2                 0.0           5623                   33         среднее   \n",
              "3                 3.0           4124                   32         среднее   \n",
              "4                 0.0          14177                   53         среднее   \n",
              "5                 0.0            926                   27          высшее   \n",
              "6                 0.0           2879                   43          высшее   \n",
              "7                 0.0            152                   50         среднее   \n",
              "8                 2.0           6929                   35          высшее   \n",
              "9                 0.0           2188                   41         среднее   \n",
              "\n",
              "   education_level_id     family_status  family_status_id gender  \\\n",
              "0                   0   женат / замужем                 0      F   \n",
              "1                   1   женат / замужем                 0      F   \n",
              "2                   1   женат / замужем                 0      M   \n",
              "3                   1   женат / замужем                 0      M   \n",
              "4                   1  гражданский брак                 1      F   \n",
              "5                   0  гражданский брак                 1      M   \n",
              "6                   0   женат / замужем                 0      F   \n",
              "7                   1   женат / замужем                 0      M   \n",
              "8                   0  гражданский брак                 1      F   \n",
              "9                   1   женат / замужем                 0      M   \n",
              "\n",
              "  employment_type  credit_repayment_status  month_income  \\\n",
              "0       сотрудник                        0        253875   \n",
              "1       сотрудник                        0        112080   \n",
              "2       сотрудник                        0        145885   \n",
              "3       сотрудник                        0        267628   \n",
              "4       пенсионер                        0        158616   \n",
              "5       компаньон                        0        255763   \n",
              "6       компаньон                        0        240525   \n",
              "7       сотрудник                        0        135823   \n",
              "8       сотрудник                        0         95856   \n",
              "9       сотрудник                        0        144425   \n",
              "\n",
              "               credit_purpose credit_purpose_id          age_group_employed  \n",
              "0               покупка жилья      недвижимость  работающий+средний возраст  \n",
              "1     приобретение автомобиля        автомобиль          работающий+молодой  \n",
              "2               покупка жилья      недвижимость          работающий+молодой  \n",
              "3  дополнительное образование       образование          работающий+молодой  \n",
              "4             сыграть свадьбу           свадьба  работающий+средний возраст  \n",
              "5               покупка жилья      недвижимость          работающий+молодой  \n",
              "6           операции с жильем      недвижимость  работающий+средний возраст  \n",
              "7                 образование       образование  работающий+средний возраст  \n",
              "8       на проведение свадьбы           свадьба          работающий+молодой  \n",
              "9     покупка жилья для семьи      недвижимость                 безработный  "
            ]
          },
          "metadata": {},
          "output_type": "display_data"
        }
      ],
      "source": [
        "df['age_group_employed'] = df.apply(age_group_employed, axis = 1)\n",
        "display(df.head(10))"
      ]
    },
    {
      "cell_type": "markdown",
      "metadata": {
        "id": "GBhzq61ayWUI"
      },
      "source": [
        "Посчитаем количество в каждой категории в новом столбце"
      ]
    },
    {
      "cell_type": "code",
      "execution_count": null,
      "metadata": {
        "id": "O4Rxmdz_yWUI",
        "outputId": "04ad8bfa-27a2-4772-ba12-277ea5d71ab3"
      },
      "outputs": [
        {
          "data": {
            "text/plain": [
              "работающий+средний возраст       10245\n",
              "работающий+молодой                8842\n",
              "безработный                       1665\n",
              "работающий+пенсионный возраст      702\n",
              "Name: age_group_employed, dtype: int64"
            ]
          },
          "execution_count": 130,
          "metadata": {},
          "output_type": "execute_result"
        }
      ],
      "source": [
        "df['age_group_employed'].value_counts() "
      ]
    },
    {
      "cell_type": "markdown",
      "metadata": {
        "id": "Wt8M6RfRyWUI"
      },
      "source": [
        "Получилось довольно логично что самая распространенная категория клиентов, берущих кредит, работающие клиенты среднего возраста."
      ]
    },
    {
      "cell_type": "markdown",
      "metadata": {
        "id": "eazdInxByWUI"
      },
      "source": [
        "**Промежуточный вывод**\n",
        "\n",
        "Категоризировали данные путем присвоения идентификатора на цели кредита.Так же категоризировали данные путем обьединения категорий возраста клиента и его типа занятости.\n",
        "В данном датафрейме категоризировать данные можно различными способами и написанием соответствующих функций\n"
      ]
    },
    {
      "cell_type": "markdown",
      "metadata": {
        "id": "rZWQyl8CyWUI"
      },
      "source": [
        "## 3. Выявление зависимостей"
      ]
    },
    {
      "cell_type": "markdown",
      "metadata": {
        "id": "SZQ9i7bByWUJ"
      },
      "source": [
        "Ответим на вопросы:\n",
        "- Есть ли зависимость между наличием детей и возвратом кредита в срок?"
      ]
    },
    {
      "cell_type": "markdown",
      "metadata": {
        "id": "yf_WZBsmyWUJ"
      },
      "source": [
        "Сгруппируем по количсетву детей и посчитаем значения для статуса есть или нет задолжности"
      ]
    },
    {
      "cell_type": "code",
      "execution_count": null,
      "metadata": {
        "id": "c8wmhJ4qyWUJ",
        "outputId": "40c4492d-afa3-40c4-c3d6-3f015b8a34d8"
      },
      "outputs": [
        {
          "data": {
            "text/plain": [
              "number_of_children  credit_repayment_status\n",
              "0.0                 0                          13096\n",
              "                    1                           1071\n",
              "1.0                 0                           4410\n",
              "                    1                            445\n",
              "2.0                 0                           1858\n",
              "                    1                            194\n",
              "3.0                 0                            303\n",
              "                    1                             27\n",
              "4.0                 0                             37\n",
              "                    1                              4\n",
              "5.0                 0                              9\n",
              "Name: credit_repayment_status, dtype: int64"
            ]
          },
          "metadata": {},
          "output_type": "display_data"
        }
      ],
      "source": [
        "grouped_number_of_children = df.groupby('number_of_children'\n",
        "                                       )['credit_repayment_status'].value_counts()\n",
        "display(grouped_number_of_children)"
      ]
    },
    {
      "cell_type": "markdown",
      "metadata": {
        "id": "UCeRx3yqyWUJ"
      },
      "source": [
        "Для наглядности построим сводную таблицу"
      ]
    },
    {
      "cell_type": "code",
      "execution_count": null,
      "metadata": {
        "scrolled": true,
        "id": "wbdmZ5h4yWUJ",
        "outputId": "365e83d8-a58f-4241-eb8f-4f63243085fd"
      },
      "outputs": [
        {
          "data": {
            "text/html": [
              "<div>\n",
              "<style scoped>\n",
              "    .dataframe tbody tr th:only-of-type {\n",
              "        vertical-align: middle;\n",
              "    }\n",
              "\n",
              "    .dataframe tbody tr th {\n",
              "        vertical-align: top;\n",
              "    }\n",
              "\n",
              "    .dataframe thead th {\n",
              "        text-align: right;\n",
              "    }\n",
              "</style>\n",
              "<table border=\"1\" class=\"dataframe\">\n",
              "  <thead>\n",
              "    <tr style=\"text-align: right;\">\n",
              "      <th>credit_repayment_status</th>\n",
              "      <th>0</th>\n",
              "      <th>1</th>\n",
              "      <th>%</th>\n",
              "    </tr>\n",
              "    <tr>\n",
              "      <th>number_of_children</th>\n",
              "      <th></th>\n",
              "      <th></th>\n",
              "      <th></th>\n",
              "    </tr>\n",
              "  </thead>\n",
              "  <tbody>\n",
              "    <tr>\n",
              "      <th>0.0</th>\n",
              "      <td>13096.0</td>\n",
              "      <td>1071.0</td>\n",
              "      <td>8.178070</td>\n",
              "    </tr>\n",
              "    <tr>\n",
              "      <th>1.0</th>\n",
              "      <td>4410.0</td>\n",
              "      <td>445.0</td>\n",
              "      <td>10.090703</td>\n",
              "    </tr>\n",
              "    <tr>\n",
              "      <th>2.0</th>\n",
              "      <td>1858.0</td>\n",
              "      <td>194.0</td>\n",
              "      <td>10.441335</td>\n",
              "    </tr>\n",
              "    <tr>\n",
              "      <th>3.0</th>\n",
              "      <td>303.0</td>\n",
              "      <td>27.0</td>\n",
              "      <td>8.910891</td>\n",
              "    </tr>\n",
              "    <tr>\n",
              "      <th>4.0</th>\n",
              "      <td>37.0</td>\n",
              "      <td>4.0</td>\n",
              "      <td>10.810811</td>\n",
              "    </tr>\n",
              "    <tr>\n",
              "      <th>5.0</th>\n",
              "      <td>9.0</td>\n",
              "      <td>NaN</td>\n",
              "      <td>NaN</td>\n",
              "    </tr>\n",
              "  </tbody>\n",
              "</table>\n",
              "</div>"
            ],
            "text/plain": [
              "credit_repayment_status        0       1          %\n",
              "number_of_children                                 \n",
              "0.0                      13096.0  1071.0   8.178070\n",
              "1.0                       4410.0   445.0  10.090703\n",
              "2.0                       1858.0   194.0  10.441335\n",
              "3.0                        303.0    27.0   8.910891\n",
              "4.0                         37.0     4.0  10.810811\n",
              "5.0                          9.0     NaN        NaN"
            ]
          },
          "execution_count": 132,
          "metadata": {},
          "output_type": "execute_result"
        }
      ],
      "source": [
        "children_pivot = df.pivot_table(index = ['number_of_children'], \n",
        "                                columns = ['credit_repayment_status'], \n",
        "                                values = 'credit_purpose', aggfunc='count')\n",
        "# посмотри процентное соотношение возврата и не возврата кредита\n",
        "children_pivot['%'] = (children_pivot[1] / children_pivot[0]) * 100\n",
        "children_pivot"
      ]
    },
    {
      "cell_type": "markdown",
      "metadata": {
        "id": "5QyF0ITMyWUK"
      },
      "source": [
        "**Промежуточный вывод**\n",
        "\n",
        "У бездетных, как правило реже просрочка оплату по кредиту, чем клиенты с детьми. Однозначный вывод сделать сложно, возможно нужна выборка больше или больше даннных о наличии количества просроченных кредитов "
      ]
    },
    {
      "cell_type": "markdown",
      "metadata": {
        "id": "GQoRr1mWyWUK"
      },
      "source": [
        "- Есть ли зависимость между семейным положением и возвратом кредита в срок?"
      ]
    },
    {
      "cell_type": "code",
      "execution_count": null,
      "metadata": {
        "id": "RZcCuBQZyWUK",
        "outputId": "4cc26d63-7400-40e9-9ab1-9da4983fbaa2"
      },
      "outputs": [
        {
          "data": {
            "text/plain": [
              "family_status          credit_repayment_status\n",
              "Не женат / не замужем  0                           2536\n",
              "                       1                            274\n",
              "в разводе              0                           1110\n",
              "                       1                             85\n",
              "вдовец / вдова         0                            896\n",
              "                       1                             63\n",
              "гражданский брак       0                           3763\n",
              "                       1                            388\n",
              "женат / замужем        0                          11408\n",
              "                       1                            931\n",
              "Name: credit_repayment_status, dtype: int64"
            ]
          },
          "metadata": {},
          "output_type": "display_data"
        }
      ],
      "source": [
        "grouped_family_status = df.groupby('family_status')['credit_repayment_status'].value_counts()\n",
        "display(grouped_family_status)"
      ]
    },
    {
      "cell_type": "markdown",
      "metadata": {
        "id": "aegTUB6myWUL"
      },
      "source": [
        "Для наглядности построим сводную таблицу "
      ]
    },
    {
      "cell_type": "code",
      "execution_count": null,
      "metadata": {
        "id": "OfWxpqYryWUL",
        "outputId": "aabe73eb-0940-4172-905b-c6d3fbca9983"
      },
      "outputs": [
        {
          "data": {
            "text/html": [
              "<div>\n",
              "<style scoped>\n",
              "    .dataframe tbody tr th:only-of-type {\n",
              "        vertical-align: middle;\n",
              "    }\n",
              "\n",
              "    .dataframe tbody tr th {\n",
              "        vertical-align: top;\n",
              "    }\n",
              "\n",
              "    .dataframe thead th {\n",
              "        text-align: right;\n",
              "    }\n",
              "</style>\n",
              "<table border=\"1\" class=\"dataframe\">\n",
              "  <thead>\n",
              "    <tr style=\"text-align: right;\">\n",
              "      <th>credit_repayment_status</th>\n",
              "      <th>0</th>\n",
              "      <th>1</th>\n",
              "      <th>%</th>\n",
              "    </tr>\n",
              "    <tr>\n",
              "      <th>family_status</th>\n",
              "      <th></th>\n",
              "      <th></th>\n",
              "      <th></th>\n",
              "    </tr>\n",
              "  </thead>\n",
              "  <tbody>\n",
              "    <tr>\n",
              "      <th>Не женат / не замужем</th>\n",
              "      <td>2536</td>\n",
              "      <td>274</td>\n",
              "      <td>10.804416</td>\n",
              "    </tr>\n",
              "    <tr>\n",
              "      <th>в разводе</th>\n",
              "      <td>1110</td>\n",
              "      <td>85</td>\n",
              "      <td>7.657658</td>\n",
              "    </tr>\n",
              "    <tr>\n",
              "      <th>вдовец / вдова</th>\n",
              "      <td>896</td>\n",
              "      <td>63</td>\n",
              "      <td>7.031250</td>\n",
              "    </tr>\n",
              "    <tr>\n",
              "      <th>гражданский брак</th>\n",
              "      <td>3763</td>\n",
              "      <td>388</td>\n",
              "      <td>10.310922</td>\n",
              "    </tr>\n",
              "    <tr>\n",
              "      <th>женат / замужем</th>\n",
              "      <td>11408</td>\n",
              "      <td>931</td>\n",
              "      <td>8.160940</td>\n",
              "    </tr>\n",
              "  </tbody>\n",
              "</table>\n",
              "</div>"
            ],
            "text/plain": [
              "credit_repayment_status      0    1          %\n",
              "family_status                                 \n",
              "Не женат / не замужем     2536  274  10.804416\n",
              "в разводе                 1110   85   7.657658\n",
              "вдовец / вдова             896   63   7.031250\n",
              "гражданский брак          3763  388  10.310922\n",
              "женат / замужем          11408  931   8.160940"
            ]
          },
          "execution_count": 134,
          "metadata": {},
          "output_type": "execute_result"
        }
      ],
      "source": [
        "family_status_pivot = df.pivot_table(index=['family_status'], \n",
        "                                     columns=['credit_repayment_status'], \n",
        "                                     values='month_income', aggfunc='count')\n",
        "\n",
        "family_status_pivot['%'] = (family_status_pivot[1] / family_status_pivot[0]) * 100\n",
        "family_status_pivot"
      ]
    },
    {
      "cell_type": "markdown",
      "metadata": {
        "id": "WAKp9UN7yWUL"
      },
      "source": [
        "**Промежуточный вывод**\n",
        "\n",
        "клиенты в гражданском браке и не бывавшие в браке имеют больший процент невозвратов в срок. \n",
        "Но, те кто развелись или овдовели чаще платят в срок, чем клиенты в браке. Самые надежные плательщики вдовцы"
      ]
    },
    {
      "cell_type": "markdown",
      "metadata": {
        "id": "G-_i03uVyWUL"
      },
      "source": [
        "- Есть ли зависимость между уровнем дохода и возвратом кредита в срок?"
      ]
    },
    {
      "cell_type": "markdown",
      "metadata": {
        "id": "TJJ04rTdyWUM"
      },
      "source": [
        "Чтобы было от чего оттолкнуться выведем максимальный,минимальный,медианe и средний доход за месяц и посчитаем количнство таких клиентов"
      ]
    },
    {
      "cell_type": "code",
      "execution_count": null,
      "metadata": {
        "id": "XJwWpcGEyWUM",
        "outputId": "bf605805-2d8e-4803-caff-abd471804cac"
      },
      "outputs": [
        {
          "name": "stdout",
          "output_type": "stream",
          "text": [
            "2265604 ; 20667 ; 151887\n"
          ]
        }
      ],
      "source": [
        "print(df['month_income'].max().astype(int),';', df['month_income'].min().astype(int), ';', \n",
        "      df['month_income'].median().astype(int))"
      ]
    },
    {
      "cell_type": "markdown",
      "metadata": {
        "id": "eM05qOWgyWUM"
      },
      "source": [
        "Поститаем среднее без учета 0 и миллионеров "
      ]
    },
    {
      "cell_type": "code",
      "execution_count": null,
      "metadata": {
        "id": "36BCUPIYyWUM",
        "outputId": "73bc56bf-f130-4dcc-fb48-661574d76495"
      },
      "outputs": [
        {
          "data": {
            "text/plain": [
              "166064"
            ]
          },
          "execution_count": 136,
          "metadata": {},
          "output_type": "execute_result"
        }
      ],
      "source": [
        "df[(df['month_income'] !=0)&(df['month_income'] < 1000000)]['month_income'].mean().astype(int)"
      ]
    },
    {
      "cell_type": "markdown",
      "metadata": {
        "id": "ObVL-GK2yWUM"
      },
      "source": [
        "Напишем функцию, которая условно поделит доходы"
      ]
    },
    {
      "cell_type": "code",
      "execution_count": null,
      "metadata": {
        "id": "QgJFmZJ2yWUM"
      },
      "outputs": [],
      "source": [
        "def income_status(month_income):\n",
        "    if month_income < 135781:\n",
        "            return 'Низкий уровень дохода'\n",
        "    if 135781 < month_income < 165906:\n",
        "            return 'Средний уровень дохода'\n",
        "    if 167421 < month_income < 200000:\n",
        "            return 'Высокий уровень дохода'\n",
        "    return 'Очень высокий уровень дохода'"
      ]
    },
    {
      "cell_type": "markdown",
      "metadata": {
        "id": "rC8vHesWyWUN"
      },
      "source": [
        "Добавим столбец с применением функции к датафрейму"
      ]
    },
    {
      "cell_type": "code",
      "execution_count": null,
      "metadata": {
        "id": "tMlUY9h6yWUN",
        "outputId": "9bdaa483-e979-4f06-ab65-48564de262e8"
      },
      "outputs": [
        {
          "data": {
            "text/html": [
              "<div>\n",
              "<style scoped>\n",
              "    .dataframe tbody tr th:only-of-type {\n",
              "        vertical-align: middle;\n",
              "    }\n",
              "\n",
              "    .dataframe tbody tr th {\n",
              "        vertical-align: top;\n",
              "    }\n",
              "\n",
              "    .dataframe thead th {\n",
              "        text-align: right;\n",
              "    }\n",
              "</style>\n",
              "<table border=\"1\" class=\"dataframe\">\n",
              "  <thead>\n",
              "    <tr style=\"text-align: right;\">\n",
              "      <th></th>\n",
              "      <th>number_of_children</th>\n",
              "      <th>days_employed</th>\n",
              "      <th>client_age_in_years</th>\n",
              "      <th>education_level</th>\n",
              "      <th>education_level_id</th>\n",
              "      <th>family_status</th>\n",
              "      <th>family_status_id</th>\n",
              "      <th>gender</th>\n",
              "      <th>employment_type</th>\n",
              "      <th>credit_repayment_status</th>\n",
              "      <th>month_income</th>\n",
              "      <th>credit_purpose</th>\n",
              "      <th>credit_purpose_id</th>\n",
              "      <th>age_group_employed</th>\n",
              "      <th>income_status</th>\n",
              "    </tr>\n",
              "  </thead>\n",
              "  <tbody>\n",
              "    <tr>\n",
              "      <th>0</th>\n",
              "      <td>1.0</td>\n",
              "      <td>8437</td>\n",
              "      <td>42</td>\n",
              "      <td>высшее</td>\n",
              "      <td>0</td>\n",
              "      <td>женат / замужем</td>\n",
              "      <td>0</td>\n",
              "      <td>F</td>\n",
              "      <td>сотрудник</td>\n",
              "      <td>0</td>\n",
              "      <td>253875</td>\n",
              "      <td>покупка жилья</td>\n",
              "      <td>недвижимость</td>\n",
              "      <td>работающий+средний возраст</td>\n",
              "      <td>Очень высокий уровень дохода</td>\n",
              "    </tr>\n",
              "    <tr>\n",
              "      <th>1</th>\n",
              "      <td>1.0</td>\n",
              "      <td>4024</td>\n",
              "      <td>36</td>\n",
              "      <td>среднее</td>\n",
              "      <td>1</td>\n",
              "      <td>женат / замужем</td>\n",
              "      <td>0</td>\n",
              "      <td>F</td>\n",
              "      <td>сотрудник</td>\n",
              "      <td>0</td>\n",
              "      <td>112080</td>\n",
              "      <td>приобретение автомобиля</td>\n",
              "      <td>автомобиль</td>\n",
              "      <td>работающий+молодой</td>\n",
              "      <td>Низкий уровень дохода</td>\n",
              "    </tr>\n",
              "    <tr>\n",
              "      <th>2</th>\n",
              "      <td>0.0</td>\n",
              "      <td>5623</td>\n",
              "      <td>33</td>\n",
              "      <td>среднее</td>\n",
              "      <td>1</td>\n",
              "      <td>женат / замужем</td>\n",
              "      <td>0</td>\n",
              "      <td>M</td>\n",
              "      <td>сотрудник</td>\n",
              "      <td>0</td>\n",
              "      <td>145885</td>\n",
              "      <td>покупка жилья</td>\n",
              "      <td>недвижимость</td>\n",
              "      <td>работающий+молодой</td>\n",
              "      <td>Средний уровень дохода</td>\n",
              "    </tr>\n",
              "    <tr>\n",
              "      <th>3</th>\n",
              "      <td>3.0</td>\n",
              "      <td>4124</td>\n",
              "      <td>32</td>\n",
              "      <td>среднее</td>\n",
              "      <td>1</td>\n",
              "      <td>женат / замужем</td>\n",
              "      <td>0</td>\n",
              "      <td>M</td>\n",
              "      <td>сотрудник</td>\n",
              "      <td>0</td>\n",
              "      <td>267628</td>\n",
              "      <td>дополнительное образование</td>\n",
              "      <td>образование</td>\n",
              "      <td>работающий+молодой</td>\n",
              "      <td>Очень высокий уровень дохода</td>\n",
              "    </tr>\n",
              "    <tr>\n",
              "      <th>4</th>\n",
              "      <td>0.0</td>\n",
              "      <td>14177</td>\n",
              "      <td>53</td>\n",
              "      <td>среднее</td>\n",
              "      <td>1</td>\n",
              "      <td>гражданский брак</td>\n",
              "      <td>1</td>\n",
              "      <td>F</td>\n",
              "      <td>пенсионер</td>\n",
              "      <td>0</td>\n",
              "      <td>158616</td>\n",
              "      <td>сыграть свадьбу</td>\n",
              "      <td>свадьба</td>\n",
              "      <td>работающий+средний возраст</td>\n",
              "      <td>Средний уровень дохода</td>\n",
              "    </tr>\n",
              "    <tr>\n",
              "      <th>5</th>\n",
              "      <td>0.0</td>\n",
              "      <td>926</td>\n",
              "      <td>27</td>\n",
              "      <td>высшее</td>\n",
              "      <td>0</td>\n",
              "      <td>гражданский брак</td>\n",
              "      <td>1</td>\n",
              "      <td>M</td>\n",
              "      <td>компаньон</td>\n",
              "      <td>0</td>\n",
              "      <td>255763</td>\n",
              "      <td>покупка жилья</td>\n",
              "      <td>недвижимость</td>\n",
              "      <td>работающий+молодой</td>\n",
              "      <td>Очень высокий уровень дохода</td>\n",
              "    </tr>\n",
              "    <tr>\n",
              "      <th>6</th>\n",
              "      <td>0.0</td>\n",
              "      <td>2879</td>\n",
              "      <td>43</td>\n",
              "      <td>высшее</td>\n",
              "      <td>0</td>\n",
              "      <td>женат / замужем</td>\n",
              "      <td>0</td>\n",
              "      <td>F</td>\n",
              "      <td>компаньон</td>\n",
              "      <td>0</td>\n",
              "      <td>240525</td>\n",
              "      <td>операции с жильем</td>\n",
              "      <td>недвижимость</td>\n",
              "      <td>работающий+средний возраст</td>\n",
              "      <td>Очень высокий уровень дохода</td>\n",
              "    </tr>\n",
              "    <tr>\n",
              "      <th>7</th>\n",
              "      <td>0.0</td>\n",
              "      <td>152</td>\n",
              "      <td>50</td>\n",
              "      <td>среднее</td>\n",
              "      <td>1</td>\n",
              "      <td>женат / замужем</td>\n",
              "      <td>0</td>\n",
              "      <td>M</td>\n",
              "      <td>сотрудник</td>\n",
              "      <td>0</td>\n",
              "      <td>135823</td>\n",
              "      <td>образование</td>\n",
              "      <td>образование</td>\n",
              "      <td>работающий+средний возраст</td>\n",
              "      <td>Средний уровень дохода</td>\n",
              "    </tr>\n",
              "    <tr>\n",
              "      <th>8</th>\n",
              "      <td>2.0</td>\n",
              "      <td>6929</td>\n",
              "      <td>35</td>\n",
              "      <td>высшее</td>\n",
              "      <td>0</td>\n",
              "      <td>гражданский брак</td>\n",
              "      <td>1</td>\n",
              "      <td>F</td>\n",
              "      <td>сотрудник</td>\n",
              "      <td>0</td>\n",
              "      <td>95856</td>\n",
              "      <td>на проведение свадьбы</td>\n",
              "      <td>свадьба</td>\n",
              "      <td>работающий+молодой</td>\n",
              "      <td>Низкий уровень дохода</td>\n",
              "    </tr>\n",
              "    <tr>\n",
              "      <th>9</th>\n",
              "      <td>0.0</td>\n",
              "      <td>2188</td>\n",
              "      <td>41</td>\n",
              "      <td>среднее</td>\n",
              "      <td>1</td>\n",
              "      <td>женат / замужем</td>\n",
              "      <td>0</td>\n",
              "      <td>M</td>\n",
              "      <td>сотрудник</td>\n",
              "      <td>0</td>\n",
              "      <td>144425</td>\n",
              "      <td>покупка жилья для семьи</td>\n",
              "      <td>недвижимость</td>\n",
              "      <td>безработный</td>\n",
              "      <td>Средний уровень дохода</td>\n",
              "    </tr>\n",
              "  </tbody>\n",
              "</table>\n",
              "</div>"
            ],
            "text/plain": [
              "   number_of_children  days_employed  client_age_in_years education_level  \\\n",
              "0                 1.0           8437                   42          высшее   \n",
              "1                 1.0           4024                   36         среднее   \n",
              "2                 0.0           5623                   33         среднее   \n",
              "3                 3.0           4124                   32         среднее   \n",
              "4                 0.0          14177                   53         среднее   \n",
              "5                 0.0            926                   27          высшее   \n",
              "6                 0.0           2879                   43          высшее   \n",
              "7                 0.0            152                   50         среднее   \n",
              "8                 2.0           6929                   35          высшее   \n",
              "9                 0.0           2188                   41         среднее   \n",
              "\n",
              "   education_level_id     family_status  family_status_id gender  \\\n",
              "0                   0   женат / замужем                 0      F   \n",
              "1                   1   женат / замужем                 0      F   \n",
              "2                   1   женат / замужем                 0      M   \n",
              "3                   1   женат / замужем                 0      M   \n",
              "4                   1  гражданский брак                 1      F   \n",
              "5                   0  гражданский брак                 1      M   \n",
              "6                   0   женат / замужем                 0      F   \n",
              "7                   1   женат / замужем                 0      M   \n",
              "8                   0  гражданский брак                 1      F   \n",
              "9                   1   женат / замужем                 0      M   \n",
              "\n",
              "  employment_type  credit_repayment_status  month_income  \\\n",
              "0       сотрудник                        0        253875   \n",
              "1       сотрудник                        0        112080   \n",
              "2       сотрудник                        0        145885   \n",
              "3       сотрудник                        0        267628   \n",
              "4       пенсионер                        0        158616   \n",
              "5       компаньон                        0        255763   \n",
              "6       компаньон                        0        240525   \n",
              "7       сотрудник                        0        135823   \n",
              "8       сотрудник                        0         95856   \n",
              "9       сотрудник                        0        144425   \n",
              "\n",
              "               credit_purpose credit_purpose_id          age_group_employed  \\\n",
              "0               покупка жилья      недвижимость  работающий+средний возраст   \n",
              "1     приобретение автомобиля        автомобиль          работающий+молодой   \n",
              "2               покупка жилья      недвижимость          работающий+молодой   \n",
              "3  дополнительное образование       образование          работающий+молодой   \n",
              "4             сыграть свадьбу           свадьба  работающий+средний возраст   \n",
              "5               покупка жилья      недвижимость          работающий+молодой   \n",
              "6           операции с жильем      недвижимость  работающий+средний возраст   \n",
              "7                 образование       образование  работающий+средний возраст   \n",
              "8       на проведение свадьбы           свадьба          работающий+молодой   \n",
              "9     покупка жилья для семьи      недвижимость                 безработный   \n",
              "\n",
              "                  income_status  \n",
              "0  Очень высокий уровень дохода  \n",
              "1         Низкий уровень дохода  \n",
              "2        Средний уровень дохода  \n",
              "3  Очень высокий уровень дохода  \n",
              "4        Средний уровень дохода  \n",
              "5  Очень высокий уровень дохода  \n",
              "6  Очень высокий уровень дохода  \n",
              "7        Средний уровень дохода  \n",
              "8         Низкий уровень дохода  \n",
              "9        Средний уровень дохода  "
            ]
          },
          "execution_count": 138,
          "metadata": {},
          "output_type": "execute_result"
        }
      ],
      "source": [
        "df['income_status'] = df['month_income'].apply(income_status)\n",
        "df.head(10)"
      ]
    },
    {
      "cell_type": "markdown",
      "metadata": {
        "id": "6ibCNp7lyWUN"
      },
      "source": [
        "Проверим количество людей в каждой категории"
      ]
    },
    {
      "cell_type": "code",
      "execution_count": null,
      "metadata": {
        "scrolled": true,
        "id": "52L6chcuyWUN",
        "outputId": "5d436974-2351-4505-f50e-fd3f3bd5cbfd"
      },
      "outputs": [
        {
          "data": {
            "text/plain": [
              "Низкий уровень дохода           0.401976\n",
              "Очень высокий уровень дохода    0.266197\n",
              "Средний уровень дохода          0.213527\n",
              "Высокий уровень дохода          0.118300\n",
              "Name: income_status, dtype: float64"
            ]
          },
          "execution_count": 139,
          "metadata": {},
          "output_type": "execute_result"
        }
      ],
      "source": [
        "df['income_status'].value_counts(normalize = True)"
      ]
    },
    {
      "cell_type": "markdown",
      "metadata": {
        "id": "Pubc22cGyWUN"
      },
      "source": [
        "Выглядит не очень правдоподобно, что среднего дохода меньше чем очень высокого, но социальный контекст нам не известен"
      ]
    },
    {
      "cell_type": "markdown",
      "metadata": {
        "id": "wFoyWtNNyWUN"
      },
      "source": [
        "Построим сводную таблицу"
      ]
    },
    {
      "cell_type": "code",
      "execution_count": null,
      "metadata": {
        "id": "wx7b_o-AyWUN",
        "outputId": "ca9b83a3-36ce-4137-9007-c139af7d46df"
      },
      "outputs": [
        {
          "data": {
            "text/html": [
              "<div>\n",
              "<style scoped>\n",
              "    .dataframe tbody tr th:only-of-type {\n",
              "        vertical-align: middle;\n",
              "    }\n",
              "\n",
              "    .dataframe tbody tr th {\n",
              "        vertical-align: top;\n",
              "    }\n",
              "\n",
              "    .dataframe thead th {\n",
              "        text-align: right;\n",
              "    }\n",
              "</style>\n",
              "<table border=\"1\" class=\"dataframe\">\n",
              "  <thead>\n",
              "    <tr style=\"text-align: right;\">\n",
              "      <th>credit_repayment_status</th>\n",
              "      <th>0</th>\n",
              "      <th>1</th>\n",
              "      <th>%</th>\n",
              "    </tr>\n",
              "    <tr>\n",
              "      <th>income_status</th>\n",
              "      <th></th>\n",
              "      <th></th>\n",
              "      <th></th>\n",
              "    </tr>\n",
              "  </thead>\n",
              "  <tbody>\n",
              "    <tr>\n",
              "      <th>Высокий уровень дохода</th>\n",
              "      <td>2321</td>\n",
              "      <td>217</td>\n",
              "      <td>9.349418</td>\n",
              "    </tr>\n",
              "    <tr>\n",
              "      <th>Низкий уровень дохода</th>\n",
              "      <td>7917</td>\n",
              "      <td>707</td>\n",
              "      <td>8.930150</td>\n",
              "    </tr>\n",
              "    <tr>\n",
              "      <th>Очень высокий уровень дохода</th>\n",
              "      <td>5304</td>\n",
              "      <td>407</td>\n",
              "      <td>7.673454</td>\n",
              "    </tr>\n",
              "    <tr>\n",
              "      <th>Средний уровень дохода</th>\n",
              "      <td>4171</td>\n",
              "      <td>410</td>\n",
              "      <td>9.829777</td>\n",
              "    </tr>\n",
              "  </tbody>\n",
              "</table>\n",
              "</div>"
            ],
            "text/plain": [
              "credit_repayment_status          0    1         %\n",
              "income_status                                    \n",
              "Высокий уровень дохода        2321  217  9.349418\n",
              "Низкий уровень дохода         7917  707  8.930150\n",
              "Очень высокий уровень дохода  5304  407  7.673454\n",
              "Средний уровень дохода        4171  410  9.829777"
            ]
          },
          "execution_count": 140,
          "metadata": {},
          "output_type": "execute_result"
        }
      ],
      "source": [
        "month_income_pivot = df.pivot_table(index=['income_status'], \n",
        "                                    columns=['credit_repayment_status'], \n",
        "                                    values='education_level_id', aggfunc='count')\n",
        "month_income_pivot['%'] = (month_income_pivot[1] / month_income_pivot[0]) * 100\n",
        "month_income_pivot"
      ]
    },
    {
      "cell_type": "markdown",
      "metadata": {
        "id": "fnNCXKzeyWUO"
      },
      "source": [
        "**Промежуточный вывод**\n",
        "\n",
        "клиенты со среднем уровнем дохода чаще не возвращают кредиты,клиенты с очень высоким уровнем дохода чаще всех отдают кредиты. Но деление по доходу было сделано довольно условно, поскольку социальный контекст зарплат не известен и какой уровень дохода относительно выборки реально принимать за средний"
      ]
    },
    {
      "cell_type": "markdown",
      "metadata": {
        "id": "9Uopyz5EyWUO"
      },
      "source": [
        "- Как разные цели кредита влияют на его возврат в срок?"
      ]
    },
    {
      "cell_type": "code",
      "execution_count": null,
      "metadata": {
        "id": "mXkuOc0ryWUO",
        "outputId": "6ebd684d-7b55-4a47-e219-5bdb859d27fe"
      },
      "outputs": [
        {
          "data": {
            "text/html": [
              "<div>\n",
              "<style scoped>\n",
              "    .dataframe tbody tr th:only-of-type {\n",
              "        vertical-align: middle;\n",
              "    }\n",
              "\n",
              "    .dataframe tbody tr th {\n",
              "        vertical-align: top;\n",
              "    }\n",
              "\n",
              "    .dataframe thead th {\n",
              "        text-align: right;\n",
              "    }\n",
              "</style>\n",
              "<table border=\"1\" class=\"dataframe\">\n",
              "  <thead>\n",
              "    <tr style=\"text-align: right;\">\n",
              "      <th>credit_repayment_status</th>\n",
              "      <th>0</th>\n",
              "      <th>1</th>\n",
              "      <th>%</th>\n",
              "    </tr>\n",
              "    <tr>\n",
              "      <th>credit_purpose_id</th>\n",
              "      <th></th>\n",
              "      <th></th>\n",
              "      <th></th>\n",
              "    </tr>\n",
              "  </thead>\n",
              "  <tbody>\n",
              "    <tr>\n",
              "      <th>автомобиль</th>\n",
              "      <td>3903</td>\n",
              "      <td>403</td>\n",
              "      <td>10.325391</td>\n",
              "    </tr>\n",
              "    <tr>\n",
              "      <th>недвижимость</th>\n",
              "      <td>10029</td>\n",
              "      <td>782</td>\n",
              "      <td>7.797388</td>\n",
              "    </tr>\n",
              "    <tr>\n",
              "      <th>образование</th>\n",
              "      <td>3643</td>\n",
              "      <td>370</td>\n",
              "      <td>10.156464</td>\n",
              "    </tr>\n",
              "    <tr>\n",
              "      <th>свадьба</th>\n",
              "      <td>2138</td>\n",
              "      <td>186</td>\n",
              "      <td>8.699719</td>\n",
              "    </tr>\n",
              "  </tbody>\n",
              "</table>\n",
              "</div>"
            ],
            "text/plain": [
              "credit_repayment_status      0    1          %\n",
              "credit_purpose_id                             \n",
              "автомобиль                3903  403  10.325391\n",
              "недвижимость             10029  782   7.797388\n",
              "образование               3643  370  10.156464\n",
              "свадьба                   2138  186   8.699719"
            ]
          },
          "execution_count": 141,
          "metadata": {},
          "output_type": "execute_result"
        }
      ],
      "source": [
        "credit_purpose_pivot = df.pivot_table(index=['credit_purpose_id'], \n",
        "                                      columns=['credit_repayment_status'], \n",
        "                                      values='education_level_id', aggfunc='count')\n",
        "credit_purpose_pivot['%'] = (credit_purpose_pivot[1] / credit_purpose_pivot[0]) * 100\n",
        "credit_purpose_pivot"
      ]
    },
    {
      "cell_type": "markdown",
      "metadata": {
        "id": "G5WVDDb9yWUO"
      },
      "source": [
        "**Промежуточный вывод**\n",
        "\n",
        "Самый меньший процент не возврата кредитов при покупке жилья. Самые плохие показатели при покупке автомобиля и кредита на образование (наверное потому что это более спонтанные траты)"
      ]
    },
    {
      "cell_type": "markdown",
      "metadata": {
        "id": "MwZDjfP-yWUP"
      },
      "source": [
        "## 4. Вывод и рекомендации"
      ]
    },
    {
      "cell_type": "markdown",
      "metadata": {
        "id": "PHvOLiuCyWUP"
      },
      "source": [
        "В ходе исследования были установлено, что есть зависимости между целями кредита, семейным положением, уровнем дохода и количеством детей в семье.А именно:\n",
        "- у клиентов без детей, как правило, реже просрочка оплату по кредиту, чем у людей с детьми;\n",
        "- клиенты состоящие в гражданском браке и не бывавшие в браке имеют больший процент невозвратов в срок. Но, те кто развелись или овдовели чаще платят в срок, чем клиенты в браке. Самые надежные плательщики вдовцы\n",
        "- клиенты со среднем уровнем дохода чаще не возвращают кредиты,клиенты с очень высоким уровнем дохода чаще всех отдают кредиты. Но деление по доходу было сделано довольно условно, поскольку социальный контекст зарплат не известен\n",
        "- самый меньший процент не возврата кредитов при покупке жилья. Самые плохие показатели при покупке автомобиля и кредита на образование.\n",
        "\n",
        "Рекомендации для банка\n",
        "- Уделить внимание правилам заполнения заявок, чтобы больше не сталкиваться с проблемой дублей, пропусков и отрицательных значений. Проблему можно решить и путем невозможности оформления заявки(блокирования) при невыполнении условия заполнения ячеек и всплывающими подсказками\n",
        "- Считать стаж работы в годах, пользователи чаще всего не знают свой стаж в днях\n"
      ]
    },
    {
      "cell_type": "code",
      "source": [
        ""
      ],
      "metadata": {
        "id": "9MsFYGl80jFR"
      },
      "execution_count": null,
      "outputs": []
    }
  ],
  "metadata": {
    "ExecuteTimeLog": [
      {
        "duration": 692,
        "start_time": "2021-12-15T12:46:58.035Z"
      },
      {
        "duration": 37,
        "start_time": "2021-12-15T12:46:59.209Z"
      },
      {
        "duration": 63,
        "start_time": "2021-12-15T12:47:08.256Z"
      },
      {
        "duration": 72,
        "start_time": "2021-12-15T12:47:23.535Z"
      },
      {
        "duration": 60,
        "start_time": "2021-12-15T12:49:10.268Z"
      },
      {
        "duration": 61,
        "start_time": "2021-12-15T12:49:51.728Z"
      },
      {
        "duration": 21,
        "start_time": "2021-12-15T12:50:18.945Z"
      },
      {
        "duration": 84,
        "start_time": "2021-12-15T12:50:50.158Z"
      },
      {
        "duration": 19,
        "start_time": "2021-12-15T12:50:50.244Z"
      },
      {
        "duration": 17,
        "start_time": "2021-12-15T12:52:45.286Z"
      },
      {
        "duration": 59,
        "start_time": "2021-12-15T12:58:43.126Z"
      },
      {
        "duration": 15,
        "start_time": "2021-12-15T12:58:48.725Z"
      },
      {
        "duration": 16,
        "start_time": "2021-12-15T12:59:03.119Z"
      },
      {
        "duration": 61,
        "start_time": "2021-12-15T12:59:12.698Z"
      },
      {
        "duration": 12,
        "start_time": "2021-12-15T12:59:27.846Z"
      },
      {
        "duration": 57,
        "start_time": "2021-12-15T12:59:31.617Z"
      },
      {
        "duration": 486,
        "start_time": "2021-12-15T13:16:26.114Z"
      },
      {
        "duration": 359,
        "start_time": "2021-12-15T13:16:27.360Z"
      },
      {
        "duration": 59,
        "start_time": "2021-12-15T13:20:07.617Z"
      },
      {
        "duration": 12,
        "start_time": "2021-12-15T13:20:07.678Z"
      },
      {
        "duration": 14,
        "start_time": "2021-12-15T13:20:07.692Z"
      },
      {
        "duration": 3511,
        "start_time": "2021-12-15T13:20:07.708Z"
      },
      {
        "duration": 5,
        "start_time": "2021-12-15T13:23:03.935Z"
      },
      {
        "duration": 5,
        "start_time": "2021-12-15T13:23:14.219Z"
      },
      {
        "duration": 387,
        "start_time": "2021-12-15T13:26:15.298Z"
      },
      {
        "duration": 3,
        "start_time": "2021-12-15T13:26:19.845Z"
      },
      {
        "duration": 3,
        "start_time": "2021-12-15T13:26:21.446Z"
      },
      {
        "duration": 3,
        "start_time": "2021-12-15T13:26:22.861Z"
      },
      {
        "duration": 563,
        "start_time": "2021-12-15T13:27:13.382Z"
      },
      {
        "duration": 443,
        "start_time": "2021-12-15T13:27:46.245Z"
      },
      {
        "duration": 77,
        "start_time": "2021-12-15T13:28:01.047Z"
      },
      {
        "duration": 18,
        "start_time": "2021-12-15T13:28:01.127Z"
      },
      {
        "duration": 17,
        "start_time": "2021-12-15T13:28:01.148Z"
      },
      {
        "duration": 5,
        "start_time": "2021-12-15T13:28:01.168Z"
      },
      {
        "duration": 32,
        "start_time": "2021-12-15T13:28:01.175Z"
      },
      {
        "duration": 12,
        "start_time": "2021-12-15T13:28:01.209Z"
      },
      {
        "duration": 355,
        "start_time": "2021-12-15T13:28:01.224Z"
      },
      {
        "duration": 356,
        "start_time": "2021-12-15T13:28:15.650Z"
      },
      {
        "duration": 366,
        "start_time": "2021-12-15T13:28:21.859Z"
      },
      {
        "duration": 350,
        "start_time": "2021-12-15T13:28:28.018Z"
      },
      {
        "duration": 359,
        "start_time": "2021-12-15T13:28:32.557Z"
      },
      {
        "duration": 61,
        "start_time": "2021-12-15T13:28:36.368Z"
      },
      {
        "duration": 14,
        "start_time": "2021-12-15T13:28:36.430Z"
      },
      {
        "duration": 12,
        "start_time": "2021-12-15T13:28:36.447Z"
      },
      {
        "duration": 4,
        "start_time": "2021-12-15T13:28:36.461Z"
      },
      {
        "duration": 4,
        "start_time": "2021-12-15T13:28:36.467Z"
      },
      {
        "duration": 6,
        "start_time": "2021-12-15T13:28:36.472Z"
      },
      {
        "duration": 354,
        "start_time": "2021-12-15T13:28:36.507Z"
      },
      {
        "duration": 356,
        "start_time": "2021-12-15T13:29:04.278Z"
      },
      {
        "duration": 404,
        "start_time": "2021-12-15T13:29:13.496Z"
      },
      {
        "duration": 342,
        "start_time": "2021-12-15T13:29:15.059Z"
      },
      {
        "duration": 345,
        "start_time": "2021-12-15T13:31:19.442Z"
      },
      {
        "duration": 359,
        "start_time": "2021-12-15T13:32:37.008Z"
      },
      {
        "duration": 60,
        "start_time": "2021-12-15T13:33:30.894Z"
      },
      {
        "duration": 13,
        "start_time": "2021-12-15T13:33:30.956Z"
      },
      {
        "duration": 35,
        "start_time": "2021-12-15T13:33:30.972Z"
      },
      {
        "duration": 5,
        "start_time": "2021-12-15T13:33:31.009Z"
      },
      {
        "duration": 4,
        "start_time": "2021-12-15T13:33:31.016Z"
      },
      {
        "duration": 6,
        "start_time": "2021-12-15T13:33:31.022Z"
      },
      {
        "duration": 351,
        "start_time": "2021-12-15T13:33:31.030Z"
      },
      {
        "duration": 349,
        "start_time": "2021-12-15T13:33:53.133Z"
      },
      {
        "duration": 111,
        "start_time": "2021-12-15T13:34:05.433Z"
      },
      {
        "duration": 3,
        "start_time": "2021-12-15T13:34:09.693Z"
      },
      {
        "duration": 412,
        "start_time": "2021-12-15T13:34:17.782Z"
      },
      {
        "duration": 3,
        "start_time": "2021-12-15T13:34:26.696Z"
      },
      {
        "duration": 347,
        "start_time": "2021-12-15T13:40:48.844Z"
      },
      {
        "duration": 359,
        "start_time": "2021-12-15T13:43:05.772Z"
      },
      {
        "duration": 60,
        "start_time": "2021-12-15T13:43:11.792Z"
      },
      {
        "duration": 12,
        "start_time": "2021-12-15T13:43:11.854Z"
      },
      {
        "duration": 16,
        "start_time": "2021-12-15T13:43:11.868Z"
      },
      {
        "duration": 21,
        "start_time": "2021-12-15T13:43:11.887Z"
      },
      {
        "duration": 4,
        "start_time": "2021-12-15T13:43:11.910Z"
      },
      {
        "duration": 12,
        "start_time": "2021-12-15T13:43:11.916Z"
      },
      {
        "duration": 17,
        "start_time": "2021-12-15T13:43:11.930Z"
      },
      {
        "duration": 5,
        "start_time": "2021-12-15T13:43:45.770Z"
      },
      {
        "duration": 6,
        "start_time": "2021-12-15T13:43:54.376Z"
      },
      {
        "duration": 11,
        "start_time": "2021-12-15T13:44:39.362Z"
      },
      {
        "duration": 5,
        "start_time": "2021-12-15T13:49:51.370Z"
      },
      {
        "duration": 11,
        "start_time": "2021-12-15T13:50:38.602Z"
      },
      {
        "duration": 5,
        "start_time": "2021-12-15T13:51:52.047Z"
      },
      {
        "duration": 14,
        "start_time": "2021-12-15T13:51:54.374Z"
      },
      {
        "duration": 65,
        "start_time": "2021-12-15T13:52:00.597Z"
      },
      {
        "duration": 14,
        "start_time": "2021-12-15T13:52:00.664Z"
      },
      {
        "duration": 87,
        "start_time": "2021-12-15T13:52:00.682Z"
      },
      {
        "duration": 34,
        "start_time": "2021-12-15T13:52:00.772Z"
      },
      {
        "duration": 49,
        "start_time": "2021-12-15T13:52:00.809Z"
      },
      {
        "duration": 16,
        "start_time": "2021-12-15T13:52:00.860Z"
      },
      {
        "duration": 45,
        "start_time": "2021-12-15T13:52:00.878Z"
      },
      {
        "duration": 27,
        "start_time": "2021-12-15T13:52:00.926Z"
      },
      {
        "duration": 24,
        "start_time": "2021-12-15T13:52:00.956Z"
      },
      {
        "duration": 60,
        "start_time": "2021-12-16T06:07:28.248Z"
      },
      {
        "duration": 14,
        "start_time": "2021-12-16T06:07:28.310Z"
      },
      {
        "duration": 19,
        "start_time": "2021-12-16T06:07:28.326Z"
      },
      {
        "duration": 3,
        "start_time": "2021-12-16T06:07:28.416Z"
      },
      {
        "duration": 7,
        "start_time": "2021-12-16T06:07:28.421Z"
      },
      {
        "duration": 6,
        "start_time": "2021-12-16T06:07:28.430Z"
      },
      {
        "duration": 11,
        "start_time": "2021-12-16T06:07:28.438Z"
      },
      {
        "duration": 4,
        "start_time": "2021-12-16T06:07:28.451Z"
      },
      {
        "duration": 10,
        "start_time": "2021-12-16T06:07:28.457Z"
      },
      {
        "duration": 4,
        "start_time": "2021-12-16T06:10:57.831Z"
      },
      {
        "duration": 3,
        "start_time": "2021-12-16T06:15:28.981Z"
      },
      {
        "duration": 361,
        "start_time": "2021-12-16T06:16:15.862Z"
      },
      {
        "duration": 5,
        "start_time": "2021-12-16T06:16:30.891Z"
      },
      {
        "duration": 13,
        "start_time": "2021-12-16T06:19:02.507Z"
      },
      {
        "duration": 22,
        "start_time": "2021-12-16T06:19:36.339Z"
      },
      {
        "duration": 11,
        "start_time": "2021-12-16T06:19:57.427Z"
      },
      {
        "duration": 16,
        "start_time": "2021-12-16T06:22:59.691Z"
      },
      {
        "duration": 31,
        "start_time": "2021-12-16T06:35:31.259Z"
      },
      {
        "duration": 417,
        "start_time": "2021-12-16T06:36:28.509Z"
      },
      {
        "duration": 15,
        "start_time": "2021-12-16T06:36:38.336Z"
      },
      {
        "duration": 32,
        "start_time": "2021-12-16T06:37:07.026Z"
      },
      {
        "duration": 19,
        "start_time": "2021-12-16T06:37:10.729Z"
      },
      {
        "duration": 14,
        "start_time": "2021-12-16T06:38:51.494Z"
      },
      {
        "duration": 15,
        "start_time": "2021-12-16T06:38:59.521Z"
      },
      {
        "duration": 15,
        "start_time": "2021-12-16T06:39:01.415Z"
      },
      {
        "duration": 16,
        "start_time": "2021-12-16T06:39:06.330Z"
      },
      {
        "duration": 405,
        "start_time": "2021-12-16T06:39:17.374Z"
      },
      {
        "duration": 445,
        "start_time": "2021-12-16T06:39:23.252Z"
      },
      {
        "duration": 391,
        "start_time": "2021-12-16T06:39:48.827Z"
      },
      {
        "duration": 19,
        "start_time": "2021-12-16T06:40:57.104Z"
      },
      {
        "duration": 2,
        "start_time": "2021-12-16T06:41:26.356Z"
      },
      {
        "duration": 60,
        "start_time": "2021-12-16T06:42:14.187Z"
      },
      {
        "duration": 14,
        "start_time": "2021-12-16T06:42:14.248Z"
      },
      {
        "duration": 12,
        "start_time": "2021-12-16T06:42:14.263Z"
      },
      {
        "duration": 33,
        "start_time": "2021-12-16T06:42:14.277Z"
      },
      {
        "duration": 9,
        "start_time": "2021-12-16T06:42:14.312Z"
      },
      {
        "duration": 4,
        "start_time": "2021-12-16T06:42:14.322Z"
      },
      {
        "duration": 10,
        "start_time": "2021-12-16T06:42:14.328Z"
      },
      {
        "duration": 5,
        "start_time": "2021-12-16T06:42:14.340Z"
      },
      {
        "duration": 10,
        "start_time": "2021-12-16T06:42:14.346Z"
      },
      {
        "duration": 5,
        "start_time": "2021-12-16T06:42:14.358Z"
      },
      {
        "duration": 48,
        "start_time": "2021-12-16T06:42:14.364Z"
      },
      {
        "duration": 21,
        "start_time": "2021-12-16T06:42:14.512Z"
      },
      {
        "duration": 30,
        "start_time": "2021-12-16T06:42:14.535Z"
      },
      {
        "duration": 59,
        "start_time": "2021-12-16T06:43:12.211Z"
      },
      {
        "duration": 12,
        "start_time": "2021-12-16T06:43:12.272Z"
      },
      {
        "duration": 25,
        "start_time": "2021-12-16T06:43:12.286Z"
      },
      {
        "duration": 4,
        "start_time": "2021-12-16T06:43:12.313Z"
      },
      {
        "duration": 7,
        "start_time": "2021-12-16T06:43:12.318Z"
      },
      {
        "duration": 4,
        "start_time": "2021-12-16T06:43:12.327Z"
      },
      {
        "duration": 10,
        "start_time": "2021-12-16T06:43:12.334Z"
      },
      {
        "duration": 5,
        "start_time": "2021-12-16T06:43:12.346Z"
      },
      {
        "duration": 16,
        "start_time": "2021-12-16T06:43:12.353Z"
      },
      {
        "duration": 37,
        "start_time": "2021-12-16T06:43:12.371Z"
      },
      {
        "duration": 13,
        "start_time": "2021-12-16T06:43:12.410Z"
      },
      {
        "duration": 16,
        "start_time": "2021-12-16T06:43:12.425Z"
      },
      {
        "duration": 30,
        "start_time": "2021-12-16T06:43:12.442Z"
      },
      {
        "duration": 45,
        "start_time": "2021-12-16T06:43:12.474Z"
      },
      {
        "duration": 15,
        "start_time": "2021-12-16T06:43:24.973Z"
      },
      {
        "duration": 30,
        "start_time": "2021-12-16T06:43:37.663Z"
      },
      {
        "duration": 16,
        "start_time": "2021-12-16T06:43:40.631Z"
      },
      {
        "duration": 28,
        "start_time": "2021-12-16T06:49:35.761Z"
      },
      {
        "duration": 17,
        "start_time": "2021-12-16T06:49:40.055Z"
      },
      {
        "duration": 353,
        "start_time": "2021-12-16T06:52:51.767Z"
      },
      {
        "duration": 347,
        "start_time": "2021-12-16T06:52:59.478Z"
      },
      {
        "duration": 35,
        "start_time": "2021-12-16T06:53:06.808Z"
      },
      {
        "duration": 15,
        "start_time": "2021-12-16T06:53:09.330Z"
      },
      {
        "duration": 30,
        "start_time": "2021-12-16T06:53:18.967Z"
      },
      {
        "duration": 59,
        "start_time": "2021-12-16T06:54:30.525Z"
      },
      {
        "duration": 12,
        "start_time": "2021-12-16T06:54:30.585Z"
      },
      {
        "duration": 13,
        "start_time": "2021-12-16T06:54:30.599Z"
      },
      {
        "duration": 5,
        "start_time": "2021-12-16T06:54:30.614Z"
      },
      {
        "duration": 20,
        "start_time": "2021-12-16T06:54:30.621Z"
      },
      {
        "duration": 15,
        "start_time": "2021-12-16T06:54:30.643Z"
      },
      {
        "duration": 16,
        "start_time": "2021-12-16T06:54:30.660Z"
      },
      {
        "duration": 13,
        "start_time": "2021-12-16T06:54:30.677Z"
      },
      {
        "duration": 10,
        "start_time": "2021-12-16T06:54:30.693Z"
      },
      {
        "duration": 12,
        "start_time": "2021-12-16T06:54:30.705Z"
      },
      {
        "duration": 21,
        "start_time": "2021-12-16T06:54:30.719Z"
      },
      {
        "duration": 15,
        "start_time": "2021-12-16T06:54:30.742Z"
      },
      {
        "duration": 31,
        "start_time": "2021-12-16T06:54:30.758Z"
      },
      {
        "duration": 16,
        "start_time": "2021-12-16T06:54:30.790Z"
      },
      {
        "duration": 16,
        "start_time": "2021-12-16T06:55:05.589Z"
      },
      {
        "duration": 17,
        "start_time": "2021-12-16T06:55:23.318Z"
      },
      {
        "duration": 15,
        "start_time": "2021-12-16T06:55:25.999Z"
      },
      {
        "duration": 14,
        "start_time": "2021-12-16T06:55:46.788Z"
      },
      {
        "duration": 6,
        "start_time": "2021-12-16T07:03:39.146Z"
      },
      {
        "duration": 390,
        "start_time": "2021-12-16T07:08:21.983Z"
      },
      {
        "duration": 19,
        "start_time": "2021-12-16T07:08:39.232Z"
      },
      {
        "duration": 6,
        "start_time": "2021-12-16T07:09:42.766Z"
      },
      {
        "duration": 6,
        "start_time": "2021-12-16T07:09:58.512Z"
      },
      {
        "duration": 15,
        "start_time": "2021-12-16T07:10:35.558Z"
      },
      {
        "duration": 20,
        "start_time": "2021-12-16T07:11:53.711Z"
      },
      {
        "duration": 366,
        "start_time": "2021-12-16T07:14:06.301Z"
      },
      {
        "duration": 16,
        "start_time": "2021-12-16T07:14:15.502Z"
      },
      {
        "duration": 15,
        "start_time": "2021-12-16T07:14:32.511Z"
      },
      {
        "duration": 60,
        "start_time": "2021-12-16T07:18:38.990Z"
      },
      {
        "duration": 59,
        "start_time": "2021-12-16T07:18:44.051Z"
      },
      {
        "duration": 12,
        "start_time": "2021-12-16T07:18:44.111Z"
      },
      {
        "duration": 13,
        "start_time": "2021-12-16T07:18:44.125Z"
      },
      {
        "duration": 3,
        "start_time": "2021-12-16T07:18:44.140Z"
      },
      {
        "duration": 9,
        "start_time": "2021-12-16T07:18:44.145Z"
      },
      {
        "duration": 3,
        "start_time": "2021-12-16T07:18:44.156Z"
      },
      {
        "duration": 46,
        "start_time": "2021-12-16T07:18:44.161Z"
      },
      {
        "duration": 4,
        "start_time": "2021-12-16T07:18:44.209Z"
      },
      {
        "duration": 9,
        "start_time": "2021-12-16T07:18:44.215Z"
      },
      {
        "duration": 4,
        "start_time": "2021-12-16T07:18:44.226Z"
      },
      {
        "duration": 13,
        "start_time": "2021-12-16T07:18:44.232Z"
      },
      {
        "duration": 14,
        "start_time": "2021-12-16T07:18:44.246Z"
      },
      {
        "duration": 57,
        "start_time": "2021-12-16T07:18:44.261Z"
      },
      {
        "duration": 14,
        "start_time": "2021-12-16T07:18:44.319Z"
      },
      {
        "duration": 4,
        "start_time": "2021-12-16T07:18:44.335Z"
      },
      {
        "duration": 12,
        "start_time": "2021-12-16T07:18:44.341Z"
      },
      {
        "duration": 8,
        "start_time": "2021-12-16T07:18:44.354Z"
      },
      {
        "duration": 45,
        "start_time": "2021-12-16T07:18:44.364Z"
      },
      {
        "duration": 17,
        "start_time": "2021-12-16T07:18:44.411Z"
      },
      {
        "duration": 17,
        "start_time": "2021-12-16T07:18:44.430Z"
      },
      {
        "duration": 6,
        "start_time": "2021-12-16T07:18:44.450Z"
      },
      {
        "duration": 598,
        "start_time": "2021-12-16T07:20:41.407Z"
      },
      {
        "duration": 5,
        "start_time": "2021-12-16T07:20:46.829Z"
      },
      {
        "duration": 5,
        "start_time": "2021-12-16T07:22:44.592Z"
      },
      {
        "duration": 372,
        "start_time": "2021-12-16T07:22:52.583Z"
      },
      {
        "duration": 21,
        "start_time": "2021-12-16T07:23:21.993Z"
      },
      {
        "duration": 17,
        "start_time": "2021-12-16T07:23:22.016Z"
      },
      {
        "duration": 3,
        "start_time": "2021-12-16T07:23:22.035Z"
      },
      {
        "duration": 8,
        "start_time": "2021-12-16T07:23:22.040Z"
      },
      {
        "duration": 6,
        "start_time": "2021-12-16T07:23:22.049Z"
      },
      {
        "duration": 12,
        "start_time": "2021-12-16T07:23:22.056Z"
      },
      {
        "duration": 38,
        "start_time": "2021-12-16T07:23:22.070Z"
      },
      {
        "duration": 17,
        "start_time": "2021-12-16T07:23:22.110Z"
      },
      {
        "duration": 6,
        "start_time": "2021-12-16T07:23:22.128Z"
      },
      {
        "duration": 13,
        "start_time": "2021-12-16T07:23:22.137Z"
      },
      {
        "duration": 16,
        "start_time": "2021-12-16T07:23:22.153Z"
      },
      {
        "duration": 47,
        "start_time": "2021-12-16T07:23:22.171Z"
      },
      {
        "duration": 16,
        "start_time": "2021-12-16T07:23:22.220Z"
      },
      {
        "duration": 5,
        "start_time": "2021-12-16T07:23:22.238Z"
      },
      {
        "duration": 5,
        "start_time": "2021-12-16T07:23:22.246Z"
      },
      {
        "duration": 12,
        "start_time": "2021-12-16T07:23:22.253Z"
      },
      {
        "duration": 41,
        "start_time": "2021-12-16T07:23:22.267Z"
      },
      {
        "duration": 16,
        "start_time": "2021-12-16T07:23:22.310Z"
      },
      {
        "duration": 19,
        "start_time": "2021-12-16T07:23:22.327Z"
      },
      {
        "duration": 18,
        "start_time": "2021-12-16T07:23:22.348Z"
      },
      {
        "duration": 4,
        "start_time": "2021-12-16T07:23:22.368Z"
      },
      {
        "duration": 36,
        "start_time": "2021-12-16T07:23:22.374Z"
      },
      {
        "duration": 59,
        "start_time": "2021-12-16T07:23:22.586Z"
      },
      {
        "duration": -446,
        "start_time": "2021-12-16T07:23:46.384Z"
      },
      {
        "duration": 122,
        "start_time": "2021-12-16T07:25:22.118Z"
      },
      {
        "duration": 5,
        "start_time": "2021-12-16T07:25:27.176Z"
      },
      {
        "duration": -473,
        "start_time": "2021-12-16T07:25:49.551Z"
      },
      {
        "duration": 59,
        "start_time": "2021-12-16T07:26:54.758Z"
      },
      {
        "duration": 12,
        "start_time": "2021-12-16T07:26:54.819Z"
      },
      {
        "duration": 12,
        "start_time": "2021-12-16T07:26:54.833Z"
      },
      {
        "duration": 4,
        "start_time": "2021-12-16T07:26:54.846Z"
      },
      {
        "duration": 9,
        "start_time": "2021-12-16T07:26:54.852Z"
      },
      {
        "duration": 3,
        "start_time": "2021-12-16T07:26:54.863Z"
      },
      {
        "duration": 46,
        "start_time": "2021-12-16T07:26:54.868Z"
      },
      {
        "duration": 5,
        "start_time": "2021-12-16T07:26:54.916Z"
      },
      {
        "duration": 13,
        "start_time": "2021-12-16T07:26:54.922Z"
      },
      {
        "duration": 5,
        "start_time": "2021-12-16T07:26:54.937Z"
      },
      {
        "duration": 15,
        "start_time": "2021-12-16T07:26:54.944Z"
      },
      {
        "duration": 15,
        "start_time": "2021-12-16T07:26:54.961Z"
      },
      {
        "duration": 41,
        "start_time": "2021-12-16T07:26:54.977Z"
      },
      {
        "duration": 14,
        "start_time": "2021-12-16T07:26:55.019Z"
      },
      {
        "duration": 4,
        "start_time": "2021-12-16T07:26:55.035Z"
      },
      {
        "duration": 4,
        "start_time": "2021-12-16T07:26:55.041Z"
      },
      {
        "duration": 11,
        "start_time": "2021-12-16T07:26:55.047Z"
      },
      {
        "duration": 8,
        "start_time": "2021-12-16T07:26:55.060Z"
      },
      {
        "duration": 51,
        "start_time": "2021-12-16T07:26:55.069Z"
      },
      {
        "duration": 16,
        "start_time": "2021-12-16T07:26:55.122Z"
      },
      {
        "duration": 15,
        "start_time": "2021-12-16T07:26:55.140Z"
      },
      {
        "duration": 5,
        "start_time": "2021-12-16T07:26:55.156Z"
      },
      {
        "duration": 5,
        "start_time": "2021-12-16T07:26:55.162Z"
      },
      {
        "duration": 5,
        "start_time": "2021-12-16T07:26:55.168Z"
      },
      {
        "duration": 346,
        "start_time": "2021-12-16T07:29:53.442Z"
      },
      {
        "duration": 5,
        "start_time": "2021-12-16T07:30:00.361Z"
      },
      {
        "duration": 6,
        "start_time": "2021-12-16T07:31:00.144Z"
      },
      {
        "duration": 8,
        "start_time": "2021-12-16T07:31:44.649Z"
      },
      {
        "duration": 9,
        "start_time": "2021-12-16T07:32:02.600Z"
      },
      {
        "duration": 2,
        "start_time": "2021-12-16T07:40:08.975Z"
      },
      {
        "duration": 12,
        "start_time": "2021-12-16T07:50:51.794Z"
      },
      {
        "duration": 396,
        "start_time": "2021-12-16T07:51:27.380Z"
      },
      {
        "duration": 4,
        "start_time": "2021-12-16T07:51:35.424Z"
      },
      {
        "duration": 16,
        "start_time": "2021-12-16T07:53:00.837Z"
      },
      {
        "duration": 13,
        "start_time": "2021-12-16T07:53:40.205Z"
      },
      {
        "duration": 5,
        "start_time": "2021-12-16T07:56:07.622Z"
      },
      {
        "duration": 4,
        "start_time": "2021-12-16T07:56:39.408Z"
      },
      {
        "duration": 393,
        "start_time": "2021-12-16T07:57:53.736Z"
      },
      {
        "duration": 338,
        "start_time": "2021-12-16T07:57:58.295Z"
      },
      {
        "duration": 6,
        "start_time": "2021-12-16T07:58:18.897Z"
      },
      {
        "duration": 9,
        "start_time": "2021-12-16T08:01:34.802Z"
      },
      {
        "duration": 6,
        "start_time": "2021-12-16T08:02:01.967Z"
      },
      {
        "duration": 7,
        "start_time": "2021-12-16T08:04:02.951Z"
      },
      {
        "duration": 3,
        "start_time": "2021-12-16T08:10:49.130Z"
      },
      {
        "duration": 9313,
        "start_time": "2021-12-16T08:13:28.781Z"
      },
      {
        "duration": 11674,
        "start_time": "2021-12-16T08:14:35.137Z"
      },
      {
        "duration": 10,
        "start_time": "2021-12-16T08:15:13.941Z"
      },
      {
        "duration": 7,
        "start_time": "2021-12-16T08:15:33.175Z"
      },
      {
        "duration": 7,
        "start_time": "2021-12-16T08:16:01.639Z"
      },
      {
        "duration": -80,
        "start_time": "2021-12-16T08:20:48.114Z"
      },
      {
        "duration": 12130,
        "start_time": "2021-12-16T08:21:05.916Z"
      },
      {
        "duration": -72,
        "start_time": "2021-12-16T08:23:37.720Z"
      },
      {
        "duration": 14117,
        "start_time": "2021-12-16T08:26:20.161Z"
      },
      {
        "duration": 4,
        "start_time": "2021-12-16T08:27:08.739Z"
      },
      {
        "duration": 6,
        "start_time": "2021-12-16T08:27:59.378Z"
      },
      {
        "duration": 7,
        "start_time": "2021-12-16T08:29:16.364Z"
      },
      {
        "duration": 6,
        "start_time": "2021-12-16T08:33:47.963Z"
      },
      {
        "duration": 61,
        "start_time": "2021-12-16T08:40:37.248Z"
      },
      {
        "duration": 16,
        "start_time": "2021-12-16T08:41:39.904Z"
      },
      {
        "duration": 58,
        "start_time": "2021-12-16T08:45:45.906Z"
      },
      {
        "duration": 12,
        "start_time": "2021-12-16T08:45:45.966Z"
      },
      {
        "duration": 11,
        "start_time": "2021-12-16T08:45:45.980Z"
      },
      {
        "duration": 4,
        "start_time": "2021-12-16T08:45:46.006Z"
      },
      {
        "duration": 10,
        "start_time": "2021-12-16T08:45:46.011Z"
      },
      {
        "duration": 5,
        "start_time": "2021-12-16T08:45:46.022Z"
      },
      {
        "duration": 13,
        "start_time": "2021-12-16T08:45:46.029Z"
      },
      {
        "duration": 5,
        "start_time": "2021-12-16T08:45:46.045Z"
      },
      {
        "duration": 15,
        "start_time": "2021-12-16T08:45:46.053Z"
      },
      {
        "duration": 6,
        "start_time": "2021-12-16T08:45:46.107Z"
      },
      {
        "duration": 15,
        "start_time": "2021-12-16T08:45:46.115Z"
      },
      {
        "duration": 20,
        "start_time": "2021-12-16T08:45:46.132Z"
      },
      {
        "duration": 23,
        "start_time": "2021-12-16T08:45:46.153Z"
      },
      {
        "duration": 44,
        "start_time": "2021-12-16T08:45:46.178Z"
      },
      {
        "duration": 5,
        "start_time": "2021-12-16T08:45:46.224Z"
      },
      {
        "duration": 6,
        "start_time": "2021-12-16T08:45:46.231Z"
      },
      {
        "duration": 12,
        "start_time": "2021-12-16T08:45:46.239Z"
      },
      {
        "duration": 8,
        "start_time": "2021-12-16T08:45:46.253Z"
      },
      {
        "duration": 16,
        "start_time": "2021-12-16T08:45:46.307Z"
      },
      {
        "duration": 17,
        "start_time": "2021-12-16T08:45:46.325Z"
      },
      {
        "duration": 15,
        "start_time": "2021-12-16T08:45:46.344Z"
      },
      {
        "duration": 5,
        "start_time": "2021-12-16T08:45:46.361Z"
      },
      {
        "duration": 4,
        "start_time": "2021-12-16T08:45:46.369Z"
      },
      {
        "duration": 5,
        "start_time": "2021-12-16T08:45:46.407Z"
      },
      {
        "duration": 8,
        "start_time": "2021-12-16T08:45:46.414Z"
      },
      {
        "duration": 11,
        "start_time": "2021-12-16T08:45:46.424Z"
      },
      {
        "duration": 17,
        "start_time": "2021-12-16T08:45:46.437Z"
      },
      {
        "duration": 19,
        "start_time": "2021-12-16T08:45:46.456Z"
      },
      {
        "duration": 5,
        "start_time": "2021-12-16T08:45:46.477Z"
      },
      {
        "duration": 10,
        "start_time": "2021-12-16T08:45:46.507Z"
      },
      {
        "duration": 6,
        "start_time": "2021-12-16T08:45:46.518Z"
      },
      {
        "duration": 11,
        "start_time": "2021-12-16T08:45:46.526Z"
      },
      {
        "duration": 5,
        "start_time": "2021-12-16T08:45:46.539Z"
      },
      {
        "duration": 20,
        "start_time": "2021-12-16T08:45:46.546Z"
      },
      {
        "duration": 19,
        "start_time": "2021-12-16T08:45:46.568Z"
      },
      {
        "duration": 21,
        "start_time": "2021-12-16T08:45:46.589Z"
      },
      {
        "duration": 7,
        "start_time": "2021-12-16T08:45:46.612Z"
      },
      {
        "duration": 8,
        "start_time": "2021-12-16T08:46:30.235Z"
      },
      {
        "duration": 5,
        "start_time": "2021-12-16T08:47:26.762Z"
      },
      {
        "duration": 7,
        "start_time": "2021-12-16T08:48:25.810Z"
      },
      {
        "duration": 6,
        "start_time": "2021-12-16T08:48:27.872Z"
      },
      {
        "duration": 8,
        "start_time": "2021-12-16T08:48:42.302Z"
      },
      {
        "duration": 5,
        "start_time": "2021-12-16T08:48:43.283Z"
      },
      {
        "duration": 9,
        "start_time": "2021-12-16T08:48:50.997Z"
      },
      {
        "duration": 5,
        "start_time": "2021-12-16T08:48:51.961Z"
      },
      {
        "duration": 5,
        "start_time": "2021-12-16T08:52:49.212Z"
      },
      {
        "duration": 7,
        "start_time": "2021-12-16T08:53:09.152Z"
      },
      {
        "duration": 349,
        "start_time": "2021-12-16T08:53:39.989Z"
      },
      {
        "duration": 345,
        "start_time": "2021-12-16T08:54:52.439Z"
      },
      {
        "duration": -906,
        "start_time": "2021-12-16T10:34:34.680Z"
      },
      {
        "duration": -933,
        "start_time": "2021-12-16T10:34:34.709Z"
      },
      {
        "duration": -1000,
        "start_time": "2021-12-16T10:34:34.777Z"
      },
      {
        "duration": -1024,
        "start_time": "2021-12-16T10:34:34.803Z"
      },
      {
        "duration": -1045,
        "start_time": "2021-12-16T10:34:34.825Z"
      },
      {
        "duration": -1064,
        "start_time": "2021-12-16T10:34:34.846Z"
      },
      {
        "duration": -1100,
        "start_time": "2021-12-16T10:34:34.883Z"
      },
      {
        "duration": -1118,
        "start_time": "2021-12-16T10:34:34.903Z"
      },
      {
        "duration": -1138,
        "start_time": "2021-12-16T10:34:34.924Z"
      },
      {
        "duration": -1159,
        "start_time": "2021-12-16T10:34:34.947Z"
      },
      {
        "duration": -1178,
        "start_time": "2021-12-16T10:34:34.967Z"
      },
      {
        "duration": -1196,
        "start_time": "2021-12-16T10:34:34.987Z"
      },
      {
        "duration": -1217,
        "start_time": "2021-12-16T10:34:35.009Z"
      },
      {
        "duration": -1233,
        "start_time": "2021-12-16T10:34:35.026Z"
      },
      {
        "duration": -1250,
        "start_time": "2021-12-16T10:34:35.045Z"
      },
      {
        "duration": -1266,
        "start_time": "2021-12-16T10:34:35.062Z"
      },
      {
        "duration": -1283,
        "start_time": "2021-12-16T10:34:35.081Z"
      },
      {
        "duration": -1304,
        "start_time": "2021-12-16T10:34:35.103Z"
      },
      {
        "duration": -1323,
        "start_time": "2021-12-16T10:34:35.123Z"
      },
      {
        "duration": -1808,
        "start_time": "2021-12-16T10:34:35.610Z"
      },
      {
        "duration": -2242,
        "start_time": "2021-12-16T10:34:36.045Z"
      },
      {
        "duration": -2257,
        "start_time": "2021-12-16T10:34:36.061Z"
      },
      {
        "duration": -2273,
        "start_time": "2021-12-16T10:34:36.079Z"
      },
      {
        "duration": -2288,
        "start_time": "2021-12-16T10:34:36.096Z"
      },
      {
        "duration": -2306,
        "start_time": "2021-12-16T10:34:36.115Z"
      },
      {
        "duration": -2322,
        "start_time": "2021-12-16T10:34:36.132Z"
      },
      {
        "duration": -2359,
        "start_time": "2021-12-16T10:34:36.171Z"
      },
      {
        "duration": -2375,
        "start_time": "2021-12-16T10:34:36.188Z"
      },
      {
        "duration": -2391,
        "start_time": "2021-12-16T10:34:36.206Z"
      },
      {
        "duration": -2408,
        "start_time": "2021-12-16T10:34:36.224Z"
      },
      {
        "duration": -2426,
        "start_time": "2021-12-16T10:34:36.243Z"
      },
      {
        "duration": -2444,
        "start_time": "2021-12-16T10:34:36.263Z"
      },
      {
        "duration": -2493,
        "start_time": "2021-12-16T10:34:36.313Z"
      },
      {
        "duration": -2513,
        "start_time": "2021-12-16T10:34:36.335Z"
      },
      {
        "duration": -2533,
        "start_time": "2021-12-16T10:34:36.356Z"
      },
      {
        "duration": -2552,
        "start_time": "2021-12-16T10:34:36.376Z"
      },
      {
        "duration": -2569,
        "start_time": "2021-12-16T10:34:36.395Z"
      },
      {
        "duration": -2586,
        "start_time": "2021-12-16T10:34:36.413Z"
      },
      {
        "duration": -2604,
        "start_time": "2021-12-16T10:34:36.433Z"
      },
      {
        "duration": -2620,
        "start_time": "2021-12-16T10:34:36.450Z"
      },
      {
        "duration": 65,
        "start_time": "2021-12-16T10:34:56.713Z"
      },
      {
        "duration": 77,
        "start_time": "2021-12-16T10:35:21.389Z"
      },
      {
        "duration": 18,
        "start_time": "2021-12-16T10:35:21.469Z"
      },
      {
        "duration": 36,
        "start_time": "2021-12-16T10:35:21.490Z"
      },
      {
        "duration": 5,
        "start_time": "2021-12-16T10:35:21.528Z"
      },
      {
        "duration": 11,
        "start_time": "2021-12-16T10:35:21.535Z"
      },
      {
        "duration": 5,
        "start_time": "2021-12-16T10:35:21.548Z"
      },
      {
        "duration": 12,
        "start_time": "2021-12-16T10:35:21.556Z"
      },
      {
        "duration": 47,
        "start_time": "2021-12-16T10:35:21.571Z"
      },
      {
        "duration": 12,
        "start_time": "2021-12-16T10:35:21.622Z"
      },
      {
        "duration": 6,
        "start_time": "2021-12-16T10:35:21.636Z"
      },
      {
        "duration": 21,
        "start_time": "2021-12-16T10:35:21.644Z"
      },
      {
        "duration": 60,
        "start_time": "2021-12-16T10:35:21.667Z"
      },
      {
        "duration": 24,
        "start_time": "2021-12-16T10:35:21.729Z"
      },
      {
        "duration": 23,
        "start_time": "2021-12-16T10:35:21.756Z"
      },
      {
        "duration": 35,
        "start_time": "2021-12-16T10:35:21.782Z"
      },
      {
        "duration": 6,
        "start_time": "2021-12-16T10:35:21.820Z"
      },
      {
        "duration": 16,
        "start_time": "2021-12-16T10:35:21.828Z"
      },
      {
        "duration": 10,
        "start_time": "2021-12-16T10:35:21.846Z"
      },
      {
        "duration": 64,
        "start_time": "2021-12-16T10:35:21.858Z"
      },
      {
        "duration": 25,
        "start_time": "2021-12-16T10:35:21.925Z"
      },
      {
        "duration": 23,
        "start_time": "2021-12-16T10:35:21.952Z"
      },
      {
        "duration": 41,
        "start_time": "2021-12-16T10:35:21.978Z"
      },
      {
        "duration": 6,
        "start_time": "2021-12-16T10:35:22.022Z"
      },
      {
        "duration": 9,
        "start_time": "2021-12-16T10:35:22.030Z"
      },
      {
        "duration": 14,
        "start_time": "2021-12-16T10:35:22.042Z"
      },
      {
        "duration": 8,
        "start_time": "2021-12-16T10:35:22.058Z"
      },
      {
        "duration": 64,
        "start_time": "2021-12-16T10:35:22.069Z"
      },
      {
        "duration": 25,
        "start_time": "2021-12-16T10:35:22.135Z"
      },
      {
        "duration": 6,
        "start_time": "2021-12-16T10:35:22.162Z"
      },
      {
        "duration": 16,
        "start_time": "2021-12-16T10:35:22.170Z"
      },
      {
        "duration": 33,
        "start_time": "2021-12-16T10:35:22.190Z"
      },
      {
        "duration": 11,
        "start_time": "2021-12-16T10:35:22.225Z"
      },
      {
        "duration": 7,
        "start_time": "2021-12-16T10:35:22.238Z"
      },
      {
        "duration": 6,
        "start_time": "2021-12-16T10:35:22.247Z"
      },
      {
        "duration": 8,
        "start_time": "2021-12-16T10:35:22.255Z"
      },
      {
        "duration": 56,
        "start_time": "2021-12-16T10:35:22.265Z"
      },
      {
        "duration": 13,
        "start_time": "2021-12-16T10:35:22.324Z"
      },
      {
        "duration": 7,
        "start_time": "2021-12-16T10:35:22.339Z"
      },
      {
        "duration": 8,
        "start_time": "2021-12-16T10:35:22.348Z"
      },
      {
        "duration": 6,
        "start_time": "2021-12-16T10:35:22.358Z"
      },
      {
        "duration": 5,
        "start_time": "2021-12-16T10:36:18.332Z"
      },
      {
        "duration": 4,
        "start_time": "2021-12-16T10:40:02.353Z"
      },
      {
        "duration": 85,
        "start_time": "2021-12-16T10:41:09.096Z"
      },
      {
        "duration": 282,
        "start_time": "2021-12-16T10:46:04.332Z"
      },
      {
        "duration": 241,
        "start_time": "2021-12-16T10:46:40.432Z"
      },
      {
        "duration": 4,
        "start_time": "2021-12-16T10:46:42.195Z"
      },
      {
        "duration": 3,
        "start_time": "2021-12-16T10:46:44.284Z"
      },
      {
        "duration": 1149,
        "start_time": "2021-12-16T10:46:45.531Z"
      },
      {
        "duration": 950,
        "start_time": "2021-12-16T10:48:00.146Z"
      },
      {
        "duration": 6,
        "start_time": "2021-12-16T10:48:21.000Z"
      },
      {
        "duration": 926,
        "start_time": "2021-12-16T10:48:37.648Z"
      },
      {
        "duration": 282,
        "start_time": "2021-12-16T10:50:33.721Z"
      },
      {
        "duration": 242,
        "start_time": "2021-12-16T10:50:49.099Z"
      },
      {
        "duration": 291,
        "start_time": "2021-12-16T10:54:19.509Z"
      },
      {
        "duration": 1022,
        "start_time": "2021-12-16T10:54:46.508Z"
      },
      {
        "duration": 274,
        "start_time": "2021-12-16T10:56:36.667Z"
      },
      {
        "duration": 5,
        "start_time": "2021-12-16T10:57:02.838Z"
      },
      {
        "duration": 231,
        "start_time": "2021-12-16T10:58:33.898Z"
      },
      {
        "duration": 4,
        "start_time": "2021-12-16T10:58:49.925Z"
      },
      {
        "duration": 15,
        "start_time": "2021-12-16T11:01:20.363Z"
      },
      {
        "duration": 6,
        "start_time": "2021-12-16T11:06:50.445Z"
      },
      {
        "duration": 247,
        "start_time": "2021-12-16T11:07:25.950Z"
      },
      {
        "duration": 12,
        "start_time": "2021-12-16T11:07:31.078Z"
      },
      {
        "duration": -24325,
        "start_time": "2021-12-16T11:26:25.489Z"
      },
      {
        "duration": 9,
        "start_time": "2021-12-16T11:27:58.591Z"
      },
      {
        "duration": 3,
        "start_time": "2021-12-16T11:33:19.976Z"
      },
      {
        "duration": 3,
        "start_time": "2021-12-16T11:34:57.206Z"
      },
      {
        "duration": -64,
        "start_time": "2021-12-16T11:49:10.085Z"
      },
      {
        "duration": 7060,
        "start_time": "2021-12-16T11:49:21.943Z"
      },
      {
        "duration": 7093,
        "start_time": "2021-12-16T11:51:00.976Z"
      },
      {
        "duration": 10,
        "start_time": "2021-12-16T11:51:47.837Z"
      },
      {
        "duration": 11,
        "start_time": "2021-12-16T11:52:01.011Z"
      },
      {
        "duration": 240,
        "start_time": "2021-12-16T11:56:40.246Z"
      },
      {
        "duration": -700,
        "start_time": "2021-12-16T11:58:41.745Z"
      },
      {
        "duration": 6958,
        "start_time": "2021-12-16T11:58:42.961Z"
      },
      {
        "duration": -698,
        "start_time": "2021-12-16T11:59:12.926Z"
      },
      {
        "duration": 3334,
        "start_time": "2021-12-16T11:59:18.489Z"
      },
      {
        "duration": 6015,
        "start_time": "2021-12-16T12:00:16.698Z"
      },
      {
        "duration": 3471,
        "start_time": "2021-12-16T12:01:51.688Z"
      },
      {
        "duration": 7227,
        "start_time": "2021-12-16T12:06:18.931Z"
      },
      {
        "duration": 7230,
        "start_time": "2021-12-16T12:07:28.773Z"
      },
      {
        "duration": 6870,
        "start_time": "2021-12-16T12:13:29.593Z"
      },
      {
        "duration": 7407,
        "start_time": "2021-12-16T12:15:27.010Z"
      },
      {
        "duration": 12,
        "start_time": "2021-12-16T12:16:09.082Z"
      },
      {
        "duration": 7450,
        "start_time": "2021-12-16T12:16:28.898Z"
      },
      {
        "duration": 6909,
        "start_time": "2021-12-16T12:18:35.653Z"
      },
      {
        "duration": 11,
        "start_time": "2021-12-16T12:19:05.823Z"
      },
      {
        "duration": 601,
        "start_time": "2021-12-16T12:19:09.258Z"
      },
      {
        "duration": 827,
        "start_time": "2021-12-16T12:19:23.910Z"
      },
      {
        "duration": 607,
        "start_time": "2021-12-16T12:19:59.573Z"
      },
      {
        "duration": 628,
        "start_time": "2021-12-16T12:20:41.107Z"
      },
      {
        "duration": 11,
        "start_time": "2021-12-16T12:21:18.793Z"
      },
      {
        "duration": 544,
        "start_time": "2021-12-16T12:21:31.970Z"
      },
      {
        "duration": 5,
        "start_time": "2021-12-16T12:22:00.753Z"
      },
      {
        "duration": 6,
        "start_time": "2021-12-16T12:22:48.141Z"
      },
      {
        "duration": 429,
        "start_time": "2021-12-16T12:23:07.911Z"
      },
      {
        "duration": 6389,
        "start_time": "2021-12-16T12:24:13.300Z"
      },
      {
        "duration": 23568,
        "start_time": "2021-12-16T12:24:48.750Z"
      },
      {
        "duration": 432,
        "start_time": "2021-12-16T12:25:21.277Z"
      },
      {
        "duration": 22755,
        "start_time": "2021-12-16T12:25:34.828Z"
      },
      {
        "duration": 388,
        "start_time": "2021-12-16T12:29:21.424Z"
      },
      {
        "duration": 420,
        "start_time": "2021-12-16T12:29:46.418Z"
      },
      {
        "duration": 22206,
        "start_time": "2021-12-16T12:30:24.264Z"
      },
      {
        "duration": 414,
        "start_time": "2021-12-16T12:38:22.699Z"
      },
      {
        "duration": 8277,
        "start_time": "2021-12-16T12:38:59.265Z"
      },
      {
        "duration": 10,
        "start_time": "2021-12-16T12:42:49.112Z"
      },
      {
        "duration": 37,
        "start_time": "2021-12-16T12:44:00.599Z"
      },
      {
        "duration": 34,
        "start_time": "2021-12-16T12:44:52.907Z"
      },
      {
        "duration": 18,
        "start_time": "2021-12-16T12:51:39.195Z"
      },
      {
        "duration": 262,
        "start_time": "2021-12-16T12:51:54.320Z"
      },
      {
        "duration": 12,
        "start_time": "2021-12-16T12:52:03.752Z"
      },
      {
        "duration": 11,
        "start_time": "2021-12-16T12:52:05.865Z"
      },
      {
        "duration": 14,
        "start_time": "2021-12-16T12:53:09.261Z"
      },
      {
        "duration": 7,
        "start_time": "2021-12-16T12:53:17.801Z"
      },
      {
        "duration": 9,
        "start_time": "2021-12-16T12:53:19.981Z"
      },
      {
        "duration": 12,
        "start_time": "2021-12-16T12:53:38.943Z"
      },
      {
        "duration": 30,
        "start_time": "2021-12-16T12:55:49.003Z"
      },
      {
        "duration": 29,
        "start_time": "2021-12-16T12:56:33.822Z"
      },
      {
        "duration": 31,
        "start_time": "2021-12-16T12:58:19.624Z"
      },
      {
        "duration": 31,
        "start_time": "2021-12-16T13:00:40.493Z"
      },
      {
        "duration": 277,
        "start_time": "2021-12-16T13:07:37.650Z"
      },
      {
        "duration": 294,
        "start_time": "2021-12-16T13:07:55.378Z"
      },
      {
        "duration": 14,
        "start_time": "2021-12-16T13:08:39.101Z"
      },
      {
        "duration": 639,
        "start_time": "2021-12-16T13:16:15.414Z"
      },
      {
        "duration": 32,
        "start_time": "2021-12-16T13:16:28.359Z"
      },
      {
        "duration": 10,
        "start_time": "2021-12-16T13:16:44.821Z"
      },
      {
        "duration": 12,
        "start_time": "2021-12-16T13:16:54.552Z"
      },
      {
        "duration": 16,
        "start_time": "2021-12-16T13:17:08.356Z"
      },
      {
        "duration": 274,
        "start_time": "2021-12-16T13:17:36.368Z"
      },
      {
        "duration": 33,
        "start_time": "2021-12-16T13:17:46.452Z"
      },
      {
        "duration": 6,
        "start_time": "2021-12-16T13:28:44.373Z"
      },
      {
        "duration": 7,
        "start_time": "2021-12-16T13:30:46.958Z"
      },
      {
        "duration": 8,
        "start_time": "2021-12-16T13:31:33.538Z"
      },
      {
        "duration": 4,
        "start_time": "2021-12-16T13:33:05.491Z"
      },
      {
        "duration": 36,
        "start_time": "2021-12-16T13:34:23.371Z"
      },
      {
        "duration": 242,
        "start_time": "2021-12-16T13:39:55.169Z"
      },
      {
        "duration": 23,
        "start_time": "2021-12-16T13:42:05.995Z"
      },
      {
        "duration": 342,
        "start_time": "2021-12-16T13:43:33.423Z"
      },
      {
        "duration": 259,
        "start_time": "2021-12-16T13:44:20.809Z"
      },
      {
        "duration": 32,
        "start_time": "2021-12-16T13:44:30.183Z"
      },
      {
        "duration": 10,
        "start_time": "2021-12-16T13:47:56.691Z"
      },
      {
        "duration": 7,
        "start_time": "2021-12-16T13:48:30.460Z"
      },
      {
        "duration": 8,
        "start_time": "2021-12-16T13:49:24.060Z"
      },
      {
        "duration": 12,
        "start_time": "2021-12-16T13:51:36.535Z"
      },
      {
        "duration": 6,
        "start_time": "2021-12-16T13:52:00.113Z"
      },
      {
        "duration": 51,
        "start_time": "2021-12-16T13:52:02.883Z"
      },
      {
        "duration": 4,
        "start_time": "2021-12-16T13:52:34.253Z"
      },
      {
        "duration": 37,
        "start_time": "2021-12-16T13:52:35.166Z"
      },
      {
        "duration": 37,
        "start_time": "2021-12-16T13:52:40.006Z"
      },
      {
        "duration": 219,
        "start_time": "2021-12-17T05:42:47.515Z"
      },
      {
        "duration": 658,
        "start_time": "2021-12-17T05:43:01.384Z"
      },
      {
        "duration": 12,
        "start_time": "2021-12-17T05:43:02.044Z"
      },
      {
        "duration": 36,
        "start_time": "2021-12-17T05:43:02.058Z"
      },
      {
        "duration": 4,
        "start_time": "2021-12-17T05:43:02.095Z"
      },
      {
        "duration": 18,
        "start_time": "2021-12-17T05:43:02.101Z"
      },
      {
        "duration": 4,
        "start_time": "2021-12-17T05:43:02.120Z"
      },
      {
        "duration": 21,
        "start_time": "2021-12-17T05:43:02.126Z"
      },
      {
        "duration": 6,
        "start_time": "2021-12-17T05:43:02.150Z"
      },
      {
        "duration": 34,
        "start_time": "2021-12-17T05:43:02.158Z"
      },
      {
        "duration": 5,
        "start_time": "2021-12-17T05:43:02.194Z"
      },
      {
        "duration": 14,
        "start_time": "2021-12-17T05:43:02.200Z"
      },
      {
        "duration": 13,
        "start_time": "2021-12-17T05:43:02.216Z"
      },
      {
        "duration": 16,
        "start_time": "2021-12-17T05:43:02.231Z"
      },
      {
        "duration": 53,
        "start_time": "2021-12-17T05:43:02.249Z"
      },
      {
        "duration": 4,
        "start_time": "2021-12-17T05:43:02.304Z"
      },
      {
        "duration": 6,
        "start_time": "2021-12-17T05:43:02.310Z"
      },
      {
        "duration": 12,
        "start_time": "2021-12-17T05:43:02.318Z"
      },
      {
        "duration": 15,
        "start_time": "2021-12-17T05:43:02.331Z"
      },
      {
        "duration": 18,
        "start_time": "2021-12-17T05:43:02.348Z"
      },
      {
        "duration": 18,
        "start_time": "2021-12-17T05:43:02.391Z"
      },
      {
        "duration": 15,
        "start_time": "2021-12-17T05:43:02.411Z"
      },
      {
        "duration": 5,
        "start_time": "2021-12-17T05:43:02.427Z"
      },
      {
        "duration": 4,
        "start_time": "2021-12-17T05:43:02.436Z"
      },
      {
        "duration": 5,
        "start_time": "2021-12-17T05:43:02.442Z"
      },
      {
        "duration": 44,
        "start_time": "2021-12-17T05:43:02.449Z"
      },
      {
        "duration": 5,
        "start_time": "2021-12-17T05:43:02.495Z"
      },
      {
        "duration": 13,
        "start_time": "2021-12-17T05:43:02.501Z"
      },
      {
        "duration": 13,
        "start_time": "2021-12-17T05:43:02.515Z"
      },
      {
        "duration": 14,
        "start_time": "2021-12-17T05:43:02.530Z"
      },
      {
        "duration": 12,
        "start_time": "2021-12-17T05:43:02.546Z"
      },
      {
        "duration": 7,
        "start_time": "2021-12-17T05:43:02.559Z"
      },
      {
        "duration": 31,
        "start_time": "2021-12-17T05:43:02.567Z"
      },
      {
        "duration": 6,
        "start_time": "2021-12-17T05:43:02.600Z"
      },
      {
        "duration": 5,
        "start_time": "2021-12-17T05:43:02.608Z"
      },
      {
        "duration": 7,
        "start_time": "2021-12-17T05:43:02.614Z"
      },
      {
        "duration": 7,
        "start_time": "2021-12-17T05:43:02.622Z"
      },
      {
        "duration": 7,
        "start_time": "2021-12-17T05:43:02.631Z"
      },
      {
        "duration": 53,
        "start_time": "2021-12-17T05:43:02.640Z"
      },
      {
        "duration": 4,
        "start_time": "2021-12-17T05:43:02.695Z"
      },
      {
        "duration": 653,
        "start_time": "2021-12-17T05:43:02.701Z"
      },
      {
        "duration": 4,
        "start_time": "2021-12-17T05:43:03.356Z"
      },
      {
        "duration": 10,
        "start_time": "2021-12-17T05:43:03.361Z"
      },
      {
        "duration": 368,
        "start_time": "2021-12-17T05:43:03.372Z"
      },
      {
        "duration": 7,
        "start_time": "2021-12-17T05:43:03.742Z"
      },
      {
        "duration": 13,
        "start_time": "2021-12-17T05:43:03.751Z"
      },
      {
        "duration": 42,
        "start_time": "2021-12-17T05:43:03.766Z"
      },
      {
        "duration": 9,
        "start_time": "2021-12-17T05:43:03.810Z"
      },
      {
        "duration": 19,
        "start_time": "2021-12-17T05:43:03.821Z"
      },
      {
        "duration": 5,
        "start_time": "2021-12-17T05:43:03.841Z"
      },
      {
        "duration": 10,
        "start_time": "2021-12-17T05:43:03.848Z"
      },
      {
        "duration": 32,
        "start_time": "2021-12-17T05:43:03.859Z"
      },
      {
        "duration": 19,
        "start_time": "2021-12-17T05:43:03.893Z"
      },
      {
        "duration": 25,
        "start_time": "2021-12-17T05:43:03.913Z"
      },
      {
        "duration": 4467,
        "start_time": "2021-12-17T05:44:21.223Z"
      },
      {
        "duration": 5156,
        "start_time": "2021-12-17T05:44:43.819Z"
      },
      {
        "duration": 9,
        "start_time": "2021-12-17T05:45:06.001Z"
      },
      {
        "duration": 7,
        "start_time": "2021-12-17T05:45:08.505Z"
      },
      {
        "duration": 8,
        "start_time": "2021-12-17T05:45:11.302Z"
      },
      {
        "duration": 8,
        "start_time": "2021-12-17T05:46:46.088Z"
      },
      {
        "duration": 61,
        "start_time": "2021-12-17T05:47:21.659Z"
      },
      {
        "duration": 200,
        "start_time": "2021-12-17T05:47:45.508Z"
      },
      {
        "duration": 186,
        "start_time": "2021-12-17T05:48:28.515Z"
      },
      {
        "duration": 7,
        "start_time": "2021-12-17T05:48:42.739Z"
      },
      {
        "duration": 7,
        "start_time": "2021-12-17T05:49:06.377Z"
      },
      {
        "duration": 6,
        "start_time": "2021-12-17T05:49:24.722Z"
      },
      {
        "duration": 233,
        "start_time": "2021-12-17T05:52:39.798Z"
      },
      {
        "duration": 59,
        "start_time": "2021-12-17T05:53:30.245Z"
      },
      {
        "duration": 171,
        "start_time": "2021-12-17T05:53:43.697Z"
      },
      {
        "duration": 174,
        "start_time": "2021-12-17T05:53:57.085Z"
      },
      {
        "duration": 185,
        "start_time": "2021-12-17T05:56:34.443Z"
      },
      {
        "duration": 10,
        "start_time": "2021-12-17T05:56:59.365Z"
      },
      {
        "duration": 9,
        "start_time": "2021-12-17T05:57:13.126Z"
      },
      {
        "duration": 3,
        "start_time": "2021-12-17T05:58:07.552Z"
      },
      {
        "duration": 5014,
        "start_time": "2021-12-17T05:59:57.182Z"
      },
      {
        "duration": 58,
        "start_time": "2021-12-17T06:00:15.603Z"
      },
      {
        "duration": 12,
        "start_time": "2021-12-17T06:00:15.663Z"
      },
      {
        "duration": 12,
        "start_time": "2021-12-17T06:00:15.677Z"
      },
      {
        "duration": 4,
        "start_time": "2021-12-17T06:00:15.691Z"
      },
      {
        "duration": 11,
        "start_time": "2021-12-17T06:00:15.697Z"
      },
      {
        "duration": 3,
        "start_time": "2021-12-17T06:00:15.710Z"
      },
      {
        "duration": 13,
        "start_time": "2021-12-17T06:00:15.715Z"
      },
      {
        "duration": 4,
        "start_time": "2021-12-17T06:00:15.729Z"
      },
      {
        "duration": 10,
        "start_time": "2021-12-17T06:00:15.735Z"
      },
      {
        "duration": 4,
        "start_time": "2021-12-17T06:00:15.746Z"
      },
      {
        "duration": 42,
        "start_time": "2021-12-17T06:00:15.751Z"
      },
      {
        "duration": 14,
        "start_time": "2021-12-17T06:00:15.795Z"
      },
      {
        "duration": 36,
        "start_time": "2021-12-17T06:00:15.811Z"
      },
      {
        "duration": 24,
        "start_time": "2021-12-17T06:00:15.848Z"
      },
      {
        "duration": 27,
        "start_time": "2021-12-17T06:00:15.874Z"
      },
      {
        "duration": 18,
        "start_time": "2021-12-17T06:00:15.903Z"
      },
      {
        "duration": 38,
        "start_time": "2021-12-17T06:00:15.922Z"
      },
      {
        "duration": 60,
        "start_time": "2021-12-17T06:00:15.962Z"
      },
      {
        "duration": 36,
        "start_time": "2021-12-17T06:00:16.024Z"
      },
      {
        "duration": 30,
        "start_time": "2021-12-17T06:00:16.062Z"
      },
      {
        "duration": 17,
        "start_time": "2021-12-17T06:00:16.093Z"
      },
      {
        "duration": 18,
        "start_time": "2021-12-17T06:00:16.112Z"
      },
      {
        "duration": 21,
        "start_time": "2021-12-17T06:00:16.132Z"
      },
      {
        "duration": 22,
        "start_time": "2021-12-17T06:00:16.154Z"
      },
      {
        "duration": 33,
        "start_time": "2021-12-17T06:00:16.178Z"
      },
      {
        "duration": 24,
        "start_time": "2021-12-17T06:00:16.213Z"
      },
      {
        "duration": 17,
        "start_time": "2021-12-17T06:00:16.241Z"
      },
      {
        "duration": 25,
        "start_time": "2021-12-17T06:00:16.260Z"
      },
      {
        "duration": 12,
        "start_time": "2021-12-17T06:00:16.287Z"
      },
      {
        "duration": 31,
        "start_time": "2021-12-17T06:00:16.301Z"
      },
      {
        "duration": 7,
        "start_time": "2021-12-17T06:00:16.334Z"
      },
      {
        "duration": 22,
        "start_time": "2021-12-17T06:00:16.342Z"
      },
      {
        "duration": 15,
        "start_time": "2021-12-17T06:00:16.366Z"
      },
      {
        "duration": 15,
        "start_time": "2021-12-17T06:00:16.382Z"
      },
      {
        "duration": 12,
        "start_time": "2021-12-17T06:00:16.398Z"
      },
      {
        "duration": 13,
        "start_time": "2021-12-17T06:00:16.412Z"
      },
      {
        "duration": 16,
        "start_time": "2021-12-17T06:00:16.426Z"
      },
      {
        "duration": 10,
        "start_time": "2021-12-17T06:00:16.443Z"
      },
      {
        "duration": 11,
        "start_time": "2021-12-17T06:00:16.455Z"
      },
      {
        "duration": 682,
        "start_time": "2021-12-17T06:00:16.862Z"
      },
      {
        "duration": 4,
        "start_time": "2021-12-17T06:00:17.547Z"
      },
      {
        "duration": 8,
        "start_time": "2021-12-17T06:00:17.553Z"
      },
      {
        "duration": 369,
        "start_time": "2021-12-17T06:00:17.563Z"
      },
      {
        "duration": 7,
        "start_time": "2021-12-17T06:00:17.934Z"
      },
      {
        "duration": 22,
        "start_time": "2021-12-17T06:00:17.942Z"
      },
      {
        "duration": 31,
        "start_time": "2021-12-17T06:00:17.966Z"
      },
      {
        "duration": 8,
        "start_time": "2021-12-17T06:00:17.999Z"
      },
      {
        "duration": 22,
        "start_time": "2021-12-17T06:00:18.009Z"
      },
      {
        "duration": 6,
        "start_time": "2021-12-17T06:00:18.033Z"
      },
      {
        "duration": 7,
        "start_time": "2021-12-17T06:00:18.041Z"
      },
      {
        "duration": 8,
        "start_time": "2021-12-17T06:00:18.049Z"
      },
      {
        "duration": 38,
        "start_time": "2021-12-17T06:00:18.058Z"
      },
      {
        "duration": 4444,
        "start_time": "2021-12-17T06:00:18.098Z"
      },
      {
        "duration": -2939,
        "start_time": "2021-12-17T06:00:25.483Z"
      },
      {
        "duration": -2958,
        "start_time": "2021-12-17T06:00:25.503Z"
      },
      {
        "duration": -2978,
        "start_time": "2021-12-17T06:00:25.524Z"
      },
      {
        "duration": 4831,
        "start_time": "2021-12-17T06:04:00.296Z"
      },
      {
        "duration": 6,
        "start_time": "2021-12-17T06:05:15.691Z"
      },
      {
        "duration": 9,
        "start_time": "2021-12-17T06:05:22.104Z"
      },
      {
        "duration": 7,
        "start_time": "2021-12-17T06:09:23.781Z"
      },
      {
        "duration": -1072,
        "start_time": "2021-12-17T06:09:48.980Z"
      },
      {
        "duration": 10,
        "start_time": "2021-12-17T06:13:58.620Z"
      },
      {
        "duration": 10,
        "start_time": "2021-12-17T06:14:04.481Z"
      },
      {
        "duration": 8,
        "start_time": "2021-12-17T06:15:12.599Z"
      },
      {
        "duration": 8,
        "start_time": "2021-12-17T06:15:38.540Z"
      },
      {
        "duration": 6,
        "start_time": "2021-12-17T06:15:46.820Z"
      },
      {
        "duration": 9,
        "start_time": "2021-12-17T06:16:18.171Z"
      },
      {
        "duration": 7,
        "start_time": "2021-12-17T06:16:22.784Z"
      },
      {
        "duration": 8,
        "start_time": "2021-12-17T06:16:47.739Z"
      },
      {
        "duration": 7,
        "start_time": "2021-12-17T06:16:54.497Z"
      },
      {
        "duration": 9,
        "start_time": "2021-12-17T06:17:02.337Z"
      },
      {
        "duration": 7,
        "start_time": "2021-12-17T06:17:03.509Z"
      },
      {
        "duration": 32620,
        "start_time": "2021-12-17T06:18:17.311Z"
      },
      {
        "duration": 32304,
        "start_time": "2021-12-17T06:19:36.419Z"
      },
      {
        "duration": 125,
        "start_time": "2021-12-17T06:21:33.529Z"
      },
      {
        "duration": 6,
        "start_time": "2021-12-17T06:25:46.780Z"
      },
      {
        "duration": 4,
        "start_time": "2021-12-17T06:26:11.027Z"
      },
      {
        "duration": 29,
        "start_time": "2021-12-17T06:26:13.170Z"
      },
      {
        "duration": 31,
        "start_time": "2021-12-17T06:26:20.981Z"
      },
      {
        "duration": 4,
        "start_time": "2021-12-17T06:26:55.508Z"
      },
      {
        "duration": 9,
        "start_time": "2021-12-17T06:28:13.848Z"
      },
      {
        "duration": 32,
        "start_time": "2021-12-17T06:30:05.800Z"
      },
      {
        "duration": 61,
        "start_time": "2021-12-17T06:30:17.114Z"
      },
      {
        "duration": 13,
        "start_time": "2021-12-17T06:30:17.177Z"
      },
      {
        "duration": 14,
        "start_time": "2021-12-17T06:30:17.192Z"
      },
      {
        "duration": 31,
        "start_time": "2021-12-17T06:30:17.208Z"
      },
      {
        "duration": 4,
        "start_time": "2021-12-17T06:30:17.241Z"
      },
      {
        "duration": 7,
        "start_time": "2021-12-17T06:30:17.246Z"
      },
      {
        "duration": 4,
        "start_time": "2021-12-17T06:30:17.254Z"
      },
      {
        "duration": 42,
        "start_time": "2021-12-17T06:30:17.259Z"
      },
      {
        "duration": 4,
        "start_time": "2021-12-17T06:30:17.304Z"
      },
      {
        "duration": 10,
        "start_time": "2021-12-17T06:30:17.310Z"
      },
      {
        "duration": 4,
        "start_time": "2021-12-17T06:30:17.321Z"
      },
      {
        "duration": 11,
        "start_time": "2021-12-17T06:30:17.327Z"
      },
      {
        "duration": 59,
        "start_time": "2021-12-17T06:30:17.339Z"
      },
      {
        "duration": 19,
        "start_time": "2021-12-17T06:30:17.400Z"
      },
      {
        "duration": 16,
        "start_time": "2021-12-17T06:30:17.420Z"
      },
      {
        "duration": 4,
        "start_time": "2021-12-17T06:30:17.438Z"
      },
      {
        "duration": 5,
        "start_time": "2021-12-17T06:30:17.444Z"
      },
      {
        "duration": 11,
        "start_time": "2021-12-17T06:30:17.491Z"
      },
      {
        "duration": 9,
        "start_time": "2021-12-17T06:30:17.504Z"
      },
      {
        "duration": 17,
        "start_time": "2021-12-17T06:30:17.515Z"
      },
      {
        "duration": 17,
        "start_time": "2021-12-17T06:30:17.533Z"
      },
      {
        "duration": 52,
        "start_time": "2021-12-17T06:30:17.552Z"
      },
      {
        "duration": 5,
        "start_time": "2021-12-17T06:30:17.607Z"
      },
      {
        "duration": 4,
        "start_time": "2021-12-17T06:30:17.614Z"
      },
      {
        "duration": 6,
        "start_time": "2021-12-17T06:30:17.620Z"
      },
      {
        "duration": 9,
        "start_time": "2021-12-17T06:30:17.627Z"
      },
      {
        "duration": 7,
        "start_time": "2021-12-17T06:30:17.638Z"
      },
      {
        "duration": 13,
        "start_time": "2021-12-17T06:30:17.692Z"
      },
      {
        "duration": 14,
        "start_time": "2021-12-17T06:30:17.707Z"
      },
      {
        "duration": 5,
        "start_time": "2021-12-17T06:30:17.724Z"
      },
      {
        "duration": 9,
        "start_time": "2021-12-17T06:30:17.731Z"
      },
      {
        "duration": 5,
        "start_time": "2021-12-17T06:30:17.742Z"
      },
      {
        "duration": 43,
        "start_time": "2021-12-17T06:30:17.749Z"
      },
      {
        "duration": 6,
        "start_time": "2021-12-17T06:30:17.794Z"
      },
      {
        "duration": 4,
        "start_time": "2021-12-17T06:30:17.802Z"
      },
      {
        "duration": 7,
        "start_time": "2021-12-17T06:30:17.808Z"
      },
      {
        "duration": 8,
        "start_time": "2021-12-17T06:30:17.817Z"
      },
      {
        "duration": 7,
        "start_time": "2021-12-17T06:30:17.827Z"
      },
      {
        "duration": 7,
        "start_time": "2021-12-17T06:30:17.836Z"
      },
      {
        "duration": 5,
        "start_time": "2021-12-17T06:30:17.892Z"
      },
      {
        "duration": 700,
        "start_time": "2021-12-17T06:30:17.899Z"
      },
      {
        "duration": 5,
        "start_time": "2021-12-17T06:30:18.601Z"
      },
      {
        "duration": 10,
        "start_time": "2021-12-17T06:30:18.608Z"
      },
      {
        "duration": 373,
        "start_time": "2021-12-17T06:30:18.622Z"
      },
      {
        "duration": 8,
        "start_time": "2021-12-17T06:30:18.997Z"
      },
      {
        "duration": 15,
        "start_time": "2021-12-17T06:30:19.007Z"
      },
      {
        "duration": 22,
        "start_time": "2021-12-17T06:30:19.024Z"
      },
      {
        "duration": 9,
        "start_time": "2021-12-17T06:30:19.048Z"
      },
      {
        "duration": 49,
        "start_time": "2021-12-17T06:30:19.059Z"
      },
      {
        "duration": 4540,
        "start_time": "2021-12-17T06:30:19.110Z"
      },
      {
        "duration": -4247,
        "start_time": "2021-12-17T06:30:27.899Z"
      },
      {
        "duration": -4266,
        "start_time": "2021-12-17T06:30:27.919Z"
      },
      {
        "duration": -4352,
        "start_time": "2021-12-17T06:30:28.006Z"
      },
      {
        "duration": -4418,
        "start_time": "2021-12-17T06:30:28.073Z"
      },
      {
        "duration": -4437,
        "start_time": "2021-12-17T06:30:28.093Z"
      },
      {
        "duration": -4451,
        "start_time": "2021-12-17T06:30:28.109Z"
      },
      {
        "duration": -4468,
        "start_time": "2021-12-17T06:30:28.127Z"
      },
      {
        "duration": -4484,
        "start_time": "2021-12-17T06:30:28.144Z"
      },
      {
        "duration": 4582,
        "start_time": "2021-12-17T06:33:52.510Z"
      },
      {
        "duration": 6,
        "start_time": "2021-12-17T06:34:12.496Z"
      },
      {
        "duration": 5,
        "start_time": "2021-12-17T06:34:16.420Z"
      },
      {
        "duration": 4,
        "start_time": "2021-12-17T06:34:26.348Z"
      },
      {
        "duration": 8,
        "start_time": "2021-12-17T06:34:31.980Z"
      },
      {
        "duration": 5,
        "start_time": "2021-12-17T06:34:33.388Z"
      },
      {
        "duration": 63,
        "start_time": "2021-12-17T06:34:39.460Z"
      },
      {
        "duration": 14,
        "start_time": "2021-12-17T06:34:39.525Z"
      },
      {
        "duration": 15,
        "start_time": "2021-12-17T06:34:39.541Z"
      },
      {
        "duration": 69,
        "start_time": "2021-12-17T06:34:39.558Z"
      },
      {
        "duration": 4,
        "start_time": "2021-12-17T06:34:39.629Z"
      },
      {
        "duration": 9,
        "start_time": "2021-12-17T06:34:39.634Z"
      },
      {
        "duration": 4,
        "start_time": "2021-12-17T06:34:39.645Z"
      },
      {
        "duration": 10,
        "start_time": "2021-12-17T06:34:39.651Z"
      },
      {
        "duration": 4268,
        "start_time": "2021-12-17T06:34:39.662Z"
      },
      {
        "duration": -1404,
        "start_time": "2021-12-17T06:34:45.337Z"
      },
      {
        "duration": -1423,
        "start_time": "2021-12-17T06:34:45.357Z"
      },
      {
        "duration": -1469,
        "start_time": "2021-12-17T06:34:45.403Z"
      },
      {
        "duration": -1487,
        "start_time": "2021-12-17T06:34:45.422Z"
      },
      {
        "duration": -1509,
        "start_time": "2021-12-17T06:34:45.445Z"
      },
      {
        "duration": -1528,
        "start_time": "2021-12-17T06:34:45.465Z"
      },
      {
        "duration": -1547,
        "start_time": "2021-12-17T06:34:45.485Z"
      },
      {
        "duration": -1564,
        "start_time": "2021-12-17T06:34:45.503Z"
      },
      {
        "duration": -1584,
        "start_time": "2021-12-17T06:34:45.524Z"
      },
      {
        "duration": -1601,
        "start_time": "2021-12-17T06:34:45.542Z"
      },
      {
        "duration": -1620,
        "start_time": "2021-12-17T06:34:45.562Z"
      },
      {
        "duration": -1638,
        "start_time": "2021-12-17T06:34:45.581Z"
      },
      {
        "duration": -1660,
        "start_time": "2021-12-17T06:34:45.604Z"
      },
      {
        "duration": -1679,
        "start_time": "2021-12-17T06:34:45.624Z"
      },
      {
        "duration": -1715,
        "start_time": "2021-12-17T06:34:45.660Z"
      },
      {
        "duration": -1766,
        "start_time": "2021-12-17T06:34:45.712Z"
      },
      {
        "duration": -1785,
        "start_time": "2021-12-17T06:34:45.732Z"
      },
      {
        "duration": -1809,
        "start_time": "2021-12-17T06:34:45.757Z"
      },
      {
        "duration": -1833,
        "start_time": "2021-12-17T06:34:45.782Z"
      },
      {
        "duration": -1855,
        "start_time": "2021-12-17T06:34:45.805Z"
      },
      {
        "duration": -1926,
        "start_time": "2021-12-17T06:34:45.877Z"
      },
      {
        "duration": -1943,
        "start_time": "2021-12-17T06:34:45.895Z"
      },
      {
        "duration": -1962,
        "start_time": "2021-12-17T06:34:45.915Z"
      },
      {
        "duration": -1996,
        "start_time": "2021-12-17T06:34:45.950Z"
      },
      {
        "duration": -2013,
        "start_time": "2021-12-17T06:34:45.968Z"
      },
      {
        "duration": -2030,
        "start_time": "2021-12-17T06:34:45.986Z"
      },
      {
        "duration": -2048,
        "start_time": "2021-12-17T06:34:46.005Z"
      },
      {
        "duration": -2064,
        "start_time": "2021-12-17T06:34:46.022Z"
      },
      {
        "duration": -2083,
        "start_time": "2021-12-17T06:34:46.041Z"
      },
      {
        "duration": -2099,
        "start_time": "2021-12-17T06:34:46.059Z"
      },
      {
        "duration": -2141,
        "start_time": "2021-12-17T06:34:46.101Z"
      },
      {
        "duration": -2161,
        "start_time": "2021-12-17T06:34:46.122Z"
      },
      {
        "duration": -2183,
        "start_time": "2021-12-17T06:34:46.145Z"
      },
      {
        "duration": -2200,
        "start_time": "2021-12-17T06:34:46.163Z"
      },
      {
        "duration": -2219,
        "start_time": "2021-12-17T06:34:46.183Z"
      },
      {
        "duration": -2261,
        "start_time": "2021-12-17T06:34:46.226Z"
      },
      {
        "duration": -2280,
        "start_time": "2021-12-17T06:34:46.246Z"
      },
      {
        "duration": -2297,
        "start_time": "2021-12-17T06:34:46.264Z"
      },
      {
        "duration": -2316,
        "start_time": "2021-12-17T06:34:46.284Z"
      },
      {
        "duration": -2333,
        "start_time": "2021-12-17T06:34:46.302Z"
      },
      {
        "duration": -2353,
        "start_time": "2021-12-17T06:34:46.323Z"
      },
      {
        "duration": -2376,
        "start_time": "2021-12-17T06:34:46.346Z"
      },
      {
        "duration": -2404,
        "start_time": "2021-12-17T06:34:46.395Z"
      },
      {
        "duration": -2420,
        "start_time": "2021-12-17T06:34:46.412Z"
      },
      {
        "duration": -2439,
        "start_time": "2021-12-17T06:34:46.432Z"
      },
      {
        "duration": -2455,
        "start_time": "2021-12-17T06:34:46.449Z"
      },
      {
        "duration": -2473,
        "start_time": "2021-12-17T06:34:46.468Z"
      },
      {
        "duration": -2490,
        "start_time": "2021-12-17T06:34:46.486Z"
      },
      {
        "duration": -2508,
        "start_time": "2021-12-17T06:34:46.505Z"
      },
      {
        "duration": 5,
        "start_time": "2021-12-17T06:34:59.397Z"
      },
      {
        "duration": 5,
        "start_time": "2021-12-17T06:35:16.907Z"
      },
      {
        "duration": 21,
        "start_time": "2021-12-17T06:35:34.837Z"
      },
      {
        "duration": 7,
        "start_time": "2021-12-17T06:35:46.810Z"
      },
      {
        "duration": 9,
        "start_time": "2021-12-17T06:35:48.709Z"
      },
      {
        "duration": 8,
        "start_time": "2021-12-17T06:35:50.003Z"
      },
      {
        "duration": 7,
        "start_time": "2021-12-17T06:35:51.160Z"
      },
      {
        "duration": 4236,
        "start_time": "2021-12-17T06:36:52.157Z"
      },
      {
        "duration": 59,
        "start_time": "2021-12-17T06:37:28.308Z"
      },
      {
        "duration": 12,
        "start_time": "2021-12-17T06:37:28.369Z"
      },
      {
        "duration": 34,
        "start_time": "2021-12-17T06:37:28.383Z"
      },
      {
        "duration": 45,
        "start_time": "2021-12-17T06:37:28.419Z"
      },
      {
        "duration": 4,
        "start_time": "2021-12-17T06:37:28.466Z"
      },
      {
        "duration": 30,
        "start_time": "2021-12-17T06:37:28.471Z"
      },
      {
        "duration": 15,
        "start_time": "2021-12-17T06:37:28.504Z"
      },
      {
        "duration": 36,
        "start_time": "2021-12-17T06:37:28.521Z"
      },
      {
        "duration": 21,
        "start_time": "2021-12-17T06:37:28.559Z"
      },
      {
        "duration": 31,
        "start_time": "2021-12-17T06:37:28.581Z"
      },
      {
        "duration": 26,
        "start_time": "2021-12-17T06:37:28.614Z"
      },
      {
        "duration": 42,
        "start_time": "2021-12-17T06:37:28.641Z"
      },
      {
        "duration": 14,
        "start_time": "2021-12-17T06:37:28.937Z"
      },
      {
        "duration": 20,
        "start_time": "2021-12-17T06:37:28.953Z"
      },
      {
        "duration": 14,
        "start_time": "2021-12-17T06:37:28.974Z"
      },
      {
        "duration": 13,
        "start_time": "2021-12-17T06:37:28.990Z"
      },
      {
        "duration": 24,
        "start_time": "2021-12-17T06:37:29.005Z"
      },
      {
        "duration": 23,
        "start_time": "2021-12-17T06:37:29.030Z"
      },
      {
        "duration": 35,
        "start_time": "2021-12-17T06:37:29.054Z"
      },
      {
        "duration": 22,
        "start_time": "2021-12-17T06:37:29.091Z"
      },
      {
        "duration": 24,
        "start_time": "2021-12-17T06:37:29.115Z"
      },
      {
        "duration": 32,
        "start_time": "2021-12-17T06:37:29.141Z"
      },
      {
        "duration": 13,
        "start_time": "2021-12-17T06:37:29.174Z"
      },
      {
        "duration": 27,
        "start_time": "2021-12-17T06:37:29.188Z"
      },
      {
        "duration": 12,
        "start_time": "2021-12-17T06:37:29.217Z"
      },
      {
        "duration": 76,
        "start_time": "2021-12-17T06:37:29.231Z"
      },
      {
        "duration": 19,
        "start_time": "2021-12-17T06:37:29.309Z"
      },
      {
        "duration": 23,
        "start_time": "2021-12-17T06:37:29.330Z"
      },
      {
        "duration": 33,
        "start_time": "2021-12-17T06:37:29.355Z"
      },
      {
        "duration": 24,
        "start_time": "2021-12-17T06:37:29.390Z"
      },
      {
        "duration": 23,
        "start_time": "2021-12-17T06:37:29.415Z"
      },
      {
        "duration": 20,
        "start_time": "2021-12-17T06:37:29.440Z"
      },
      {
        "duration": 12,
        "start_time": "2021-12-17T06:37:29.461Z"
      },
      {
        "duration": 22,
        "start_time": "2021-12-17T06:37:29.475Z"
      },
      {
        "duration": 12,
        "start_time": "2021-12-17T06:37:29.499Z"
      },
      {
        "duration": 22,
        "start_time": "2021-12-17T06:37:29.512Z"
      },
      {
        "duration": 28,
        "start_time": "2021-12-17T06:37:29.536Z"
      },
      {
        "duration": 15,
        "start_time": "2021-12-17T06:37:29.566Z"
      },
      {
        "duration": 21,
        "start_time": "2021-12-17T06:37:29.583Z"
      },
      {
        "duration": 27,
        "start_time": "2021-12-17T06:37:29.606Z"
      },
      {
        "duration": 688,
        "start_time": "2021-12-17T06:37:29.634Z"
      },
      {
        "duration": 3,
        "start_time": "2021-12-17T06:37:30.325Z"
      },
      {
        "duration": 24,
        "start_time": "2021-12-17T06:37:30.330Z"
      },
      {
        "duration": 373,
        "start_time": "2021-12-17T06:37:30.355Z"
      },
      {
        "duration": 8,
        "start_time": "2021-12-17T06:37:30.729Z"
      },
      {
        "duration": 35,
        "start_time": "2021-12-17T06:37:30.740Z"
      },
      {
        "duration": 23,
        "start_time": "2021-12-17T06:37:30.778Z"
      },
      {
        "duration": 15,
        "start_time": "2021-12-17T06:37:30.803Z"
      },
      {
        "duration": 36,
        "start_time": "2021-12-17T06:37:30.820Z"
      },
      {
        "duration": 8,
        "start_time": "2021-12-17T06:37:30.859Z"
      },
      {
        "duration": 27,
        "start_time": "2021-12-17T06:37:30.869Z"
      },
      {
        "duration": 27,
        "start_time": "2021-12-17T06:37:30.898Z"
      },
      {
        "duration": 24,
        "start_time": "2021-12-17T06:37:30.927Z"
      },
      {
        "duration": 30,
        "start_time": "2021-12-17T06:37:30.952Z"
      },
      {
        "duration": 15,
        "start_time": "2021-12-17T06:37:30.984Z"
      },
      {
        "duration": 39,
        "start_time": "2021-12-17T06:37:31.001Z"
      },
      {
        "duration": 26,
        "start_time": "2021-12-17T06:37:31.042Z"
      },
      {
        "duration": 8,
        "start_time": "2021-12-17T06:37:31.070Z"
      },
      {
        "duration": 62,
        "start_time": "2021-12-17T06:44:35.765Z"
      },
      {
        "duration": 13,
        "start_time": "2021-12-17T06:44:35.829Z"
      },
      {
        "duration": 20,
        "start_time": "2021-12-17T06:44:35.844Z"
      },
      {
        "duration": 50,
        "start_time": "2021-12-17T06:44:35.866Z"
      },
      {
        "duration": 4,
        "start_time": "2021-12-17T06:44:35.918Z"
      },
      {
        "duration": 15,
        "start_time": "2021-12-17T06:44:35.925Z"
      },
      {
        "duration": 19,
        "start_time": "2021-12-17T06:44:35.942Z"
      },
      {
        "duration": 28,
        "start_time": "2021-12-17T06:44:35.963Z"
      },
      {
        "duration": 8,
        "start_time": "2021-12-17T06:44:35.993Z"
      },
      {
        "duration": 27,
        "start_time": "2021-12-17T06:44:36.003Z"
      },
      {
        "duration": 5,
        "start_time": "2021-12-17T06:44:36.032Z"
      },
      {
        "duration": 22,
        "start_time": "2021-12-17T06:44:36.039Z"
      },
      {
        "duration": 14,
        "start_time": "2021-12-17T06:44:36.063Z"
      },
      {
        "duration": 25,
        "start_time": "2021-12-17T06:44:36.078Z"
      },
      {
        "duration": 15,
        "start_time": "2021-12-17T06:44:36.105Z"
      },
      {
        "duration": 4,
        "start_time": "2021-12-17T06:44:36.121Z"
      },
      {
        "duration": 5,
        "start_time": "2021-12-17T06:44:36.128Z"
      },
      {
        "duration": 12,
        "start_time": "2021-12-17T06:44:36.134Z"
      },
      {
        "duration": 15,
        "start_time": "2021-12-17T06:44:36.147Z"
      },
      {
        "duration": 17,
        "start_time": "2021-12-17T06:44:36.192Z"
      },
      {
        "duration": 17,
        "start_time": "2021-12-17T06:44:36.210Z"
      },
      {
        "duration": 15,
        "start_time": "2021-12-17T06:44:36.229Z"
      },
      {
        "duration": 5,
        "start_time": "2021-12-17T06:44:36.246Z"
      },
      {
        "duration": 41,
        "start_time": "2021-12-17T06:44:36.252Z"
      },
      {
        "duration": 5,
        "start_time": "2021-12-17T06:44:36.295Z"
      },
      {
        "duration": 11,
        "start_time": "2021-12-17T06:44:36.301Z"
      },
      {
        "duration": 16,
        "start_time": "2021-12-17T06:44:36.313Z"
      },
      {
        "duration": 16,
        "start_time": "2021-12-17T06:44:36.331Z"
      },
      {
        "duration": 13,
        "start_time": "2021-12-17T06:44:36.349Z"
      },
      {
        "duration": 35,
        "start_time": "2021-12-17T06:44:36.364Z"
      },
      {
        "duration": 11,
        "start_time": "2021-12-17T06:44:36.401Z"
      },
      {
        "duration": 6,
        "start_time": "2021-12-17T06:44:36.413Z"
      },
      {
        "duration": 12,
        "start_time": "2021-12-17T06:44:36.420Z"
      },
      {
        "duration": 6,
        "start_time": "2021-12-17T06:44:36.433Z"
      },
      {
        "duration": 8,
        "start_time": "2021-12-17T06:44:36.441Z"
      },
      {
        "duration": 10,
        "start_time": "2021-12-17T06:44:36.451Z"
      },
      {
        "duration": 33,
        "start_time": "2021-12-17T06:44:36.462Z"
      },
      {
        "duration": 6,
        "start_time": "2021-12-17T06:44:36.496Z"
      },
      {
        "duration": 8,
        "start_time": "2021-12-17T06:44:36.504Z"
      },
      {
        "duration": 9,
        "start_time": "2021-12-17T06:44:36.513Z"
      },
      {
        "duration": 694,
        "start_time": "2021-12-17T06:44:36.523Z"
      },
      {
        "duration": 4,
        "start_time": "2021-12-17T06:44:37.219Z"
      },
      {
        "duration": 20,
        "start_time": "2021-12-17T06:44:37.225Z"
      },
      {
        "duration": 358,
        "start_time": "2021-12-17T06:44:37.248Z"
      },
      {
        "duration": 7,
        "start_time": "2021-12-17T06:44:37.608Z"
      },
      {
        "duration": 14,
        "start_time": "2021-12-17T06:44:37.617Z"
      },
      {
        "duration": 20,
        "start_time": "2021-12-17T06:44:37.633Z"
      },
      {
        "duration": 8,
        "start_time": "2021-12-17T06:44:37.655Z"
      },
      {
        "duration": 43,
        "start_time": "2021-12-17T06:44:37.665Z"
      },
      {
        "duration": 5,
        "start_time": "2021-12-17T06:44:37.710Z"
      },
      {
        "duration": 9,
        "start_time": "2021-12-17T06:44:37.717Z"
      },
      {
        "duration": 16,
        "start_time": "2021-12-17T06:44:37.727Z"
      },
      {
        "duration": 12,
        "start_time": "2021-12-17T06:44:37.745Z"
      },
      {
        "duration": 6,
        "start_time": "2021-12-17T06:44:37.758Z"
      },
      {
        "duration": 4477,
        "start_time": "2021-12-17T06:44:37.766Z"
      },
      {
        "duration": -2316,
        "start_time": "2021-12-17T06:44:44.561Z"
      },
      {
        "duration": -2334,
        "start_time": "2021-12-17T06:44:44.580Z"
      },
      {
        "duration": -2360,
        "start_time": "2021-12-17T06:44:44.608Z"
      },
      {
        "duration": 4575,
        "start_time": "2021-12-17T06:45:11.851Z"
      },
      {
        "duration": 21,
        "start_time": "2021-12-17T06:45:25.767Z"
      },
      {
        "duration": 9,
        "start_time": "2021-12-17T06:45:32.471Z"
      },
      {
        "duration": 8,
        "start_time": "2021-12-17T06:45:53.145Z"
      },
      {
        "duration": 8,
        "start_time": "2021-12-17T06:46:04.056Z"
      },
      {
        "duration": 59,
        "start_time": "2021-12-17T06:46:10.376Z"
      },
      {
        "duration": 13,
        "start_time": "2021-12-17T06:46:10.436Z"
      },
      {
        "duration": 11,
        "start_time": "2021-12-17T06:46:10.451Z"
      },
      {
        "duration": 57,
        "start_time": "2021-12-17T06:46:10.464Z"
      },
      {
        "duration": 3,
        "start_time": "2021-12-17T06:46:10.523Z"
      },
      {
        "duration": 8,
        "start_time": "2021-12-17T06:46:10.528Z"
      },
      {
        "duration": 6,
        "start_time": "2021-12-17T06:46:10.538Z"
      },
      {
        "duration": 11,
        "start_time": "2021-12-17T06:46:10.546Z"
      },
      {
        "duration": 35,
        "start_time": "2021-12-17T06:46:10.559Z"
      },
      {
        "duration": 10,
        "start_time": "2021-12-17T06:46:10.595Z"
      },
      {
        "duration": 4,
        "start_time": "2021-12-17T06:46:10.606Z"
      },
      {
        "duration": 12,
        "start_time": "2021-12-17T06:46:10.612Z"
      },
      {
        "duration": 16,
        "start_time": "2021-12-17T06:46:10.625Z"
      },
      {
        "duration": 59,
        "start_time": "2021-12-17T06:46:10.644Z"
      },
      {
        "duration": 17,
        "start_time": "2021-12-17T06:46:10.706Z"
      },
      {
        "duration": 6,
        "start_time": "2021-12-17T06:46:10.725Z"
      },
      {
        "duration": 6,
        "start_time": "2021-12-17T06:46:10.732Z"
      },
      {
        "duration": 51,
        "start_time": "2021-12-17T06:46:10.740Z"
      },
      {
        "duration": 8,
        "start_time": "2021-12-17T06:46:10.793Z"
      },
      {
        "duration": 19,
        "start_time": "2021-12-17T06:46:10.803Z"
      },
      {
        "duration": 18,
        "start_time": "2021-12-17T06:46:10.824Z"
      },
      {
        "duration": 49,
        "start_time": "2021-12-17T06:46:10.846Z"
      },
      {
        "duration": 5,
        "start_time": "2021-12-17T06:46:10.898Z"
      },
      {
        "duration": 5,
        "start_time": "2021-12-17T06:46:10.904Z"
      },
      {
        "duration": 13,
        "start_time": "2021-12-17T06:46:10.910Z"
      },
      {
        "duration": 10,
        "start_time": "2021-12-17T06:46:10.925Z"
      },
      {
        "duration": 7,
        "start_time": "2021-12-17T06:46:10.936Z"
      },
      {
        "duration": 12,
        "start_time": "2021-12-17T06:46:10.944Z"
      },
      {
        "duration": 42,
        "start_time": "2021-12-17T06:46:10.957Z"
      },
      {
        "duration": 13,
        "start_time": "2021-12-17T06:46:11.000Z"
      },
      {
        "duration": 12,
        "start_time": "2021-12-17T06:46:11.015Z"
      },
      {
        "duration": 5,
        "start_time": "2021-12-17T06:46:11.029Z"
      },
      {
        "duration": 13,
        "start_time": "2021-12-17T06:46:11.036Z"
      },
      {
        "duration": 8,
        "start_time": "2021-12-17T06:46:11.051Z"
      },
      {
        "duration": 32,
        "start_time": "2021-12-17T06:46:11.062Z"
      },
      {
        "duration": 6,
        "start_time": "2021-12-17T06:46:11.096Z"
      },
      {
        "duration": 9,
        "start_time": "2021-12-17T06:46:11.104Z"
      },
      {
        "duration": 5,
        "start_time": "2021-12-17T06:46:11.117Z"
      },
      {
        "duration": 5,
        "start_time": "2021-12-17T06:46:11.125Z"
      },
      {
        "duration": 3,
        "start_time": "2021-12-17T06:46:11.132Z"
      },
      {
        "duration": 714,
        "start_time": "2021-12-17T06:46:11.137Z"
      },
      {
        "duration": 3,
        "start_time": "2021-12-17T06:46:11.853Z"
      },
      {
        "duration": 27,
        "start_time": "2021-12-17T06:46:11.858Z"
      },
      {
        "duration": 371,
        "start_time": "2021-12-17T06:46:11.887Z"
      },
      {
        "duration": 7,
        "start_time": "2021-12-17T06:46:12.260Z"
      },
      {
        "duration": 26,
        "start_time": "2021-12-17T06:46:12.269Z"
      },
      {
        "duration": 21,
        "start_time": "2021-12-17T06:46:12.296Z"
      },
      {
        "duration": 9,
        "start_time": "2021-12-17T06:46:12.319Z"
      },
      {
        "duration": 20,
        "start_time": "2021-12-17T06:46:12.329Z"
      },
      {
        "duration": 6,
        "start_time": "2021-12-17T06:46:12.350Z"
      },
      {
        "duration": 39,
        "start_time": "2021-12-17T06:46:12.358Z"
      },
      {
        "duration": 8,
        "start_time": "2021-12-17T06:46:12.399Z"
      },
      {
        "duration": 8,
        "start_time": "2021-12-17T06:46:12.409Z"
      },
      {
        "duration": 5,
        "start_time": "2021-12-17T06:46:12.419Z"
      },
      {
        "duration": 3,
        "start_time": "2021-12-17T06:46:12.426Z"
      },
      {
        "duration": 18,
        "start_time": "2021-12-17T06:46:12.431Z"
      },
      {
        "duration": 41,
        "start_time": "2021-12-17T06:46:12.451Z"
      },
      {
        "duration": 22,
        "start_time": "2021-12-17T06:46:12.495Z"
      },
      {
        "duration": 7,
        "start_time": "2021-12-17T06:46:40.136Z"
      },
      {
        "duration": 7,
        "start_time": "2021-12-17T06:47:03.702Z"
      },
      {
        "duration": 8,
        "start_time": "2021-12-17T06:47:05.721Z"
      },
      {
        "duration": 9,
        "start_time": "2021-12-17T06:47:09.105Z"
      },
      {
        "duration": 8,
        "start_time": "2021-12-17T06:47:10.282Z"
      },
      {
        "duration": 7,
        "start_time": "2021-12-17T06:47:11.405Z"
      },
      {
        "duration": 8,
        "start_time": "2021-12-17T06:49:01.231Z"
      },
      {
        "duration": 9,
        "start_time": "2021-12-17T06:49:22.022Z"
      },
      {
        "duration": 6,
        "start_time": "2021-12-17T06:49:23.575Z"
      },
      {
        "duration": 7,
        "start_time": "2021-12-17T06:49:32.902Z"
      },
      {
        "duration": 9,
        "start_time": "2021-12-17T06:49:42.741Z"
      },
      {
        "duration": 9,
        "start_time": "2021-12-17T06:49:47.683Z"
      },
      {
        "duration": 9,
        "start_time": "2021-12-17T06:50:04.540Z"
      },
      {
        "duration": 8,
        "start_time": "2021-12-17T06:50:17.020Z"
      },
      {
        "duration": 6,
        "start_time": "2021-12-17T06:50:18.362Z"
      },
      {
        "duration": 8,
        "start_time": "2021-12-17T06:50:30.940Z"
      },
      {
        "duration": 9,
        "start_time": "2021-12-17T06:50:44.550Z"
      },
      {
        "duration": 6,
        "start_time": "2021-12-17T06:50:46.272Z"
      },
      {
        "duration": 7,
        "start_time": "2021-12-17T06:50:53.993Z"
      },
      {
        "duration": 7,
        "start_time": "2021-12-17T06:50:55.413Z"
      },
      {
        "duration": 3,
        "start_time": "2021-12-17T06:51:14.481Z"
      },
      {
        "duration": 19,
        "start_time": "2021-12-17T06:51:16.373Z"
      },
      {
        "duration": 8,
        "start_time": "2021-12-17T06:51:19.874Z"
      },
      {
        "duration": 8,
        "start_time": "2021-12-17T06:51:49.741Z"
      },
      {
        "duration": 8,
        "start_time": "2021-12-17T06:52:05.850Z"
      },
      {
        "duration": 7,
        "start_time": "2021-12-17T06:52:07.763Z"
      },
      {
        "duration": 7,
        "start_time": "2021-12-17T06:52:56.706Z"
      },
      {
        "duration": 8,
        "start_time": "2021-12-17T06:53:10.128Z"
      },
      {
        "duration": 7,
        "start_time": "2021-12-17T06:53:11.335Z"
      },
      {
        "duration": 8,
        "start_time": "2021-12-17T06:53:12.643Z"
      },
      {
        "duration": 7,
        "start_time": "2021-12-17T06:53:13.823Z"
      },
      {
        "duration": 10,
        "start_time": "2021-12-17T06:53:54.762Z"
      },
      {
        "duration": 7,
        "start_time": "2021-12-17T06:54:28.654Z"
      },
      {
        "duration": 195,
        "start_time": "2021-12-17T07:00:06.814Z"
      },
      {
        "duration": 6,
        "start_time": "2021-12-17T07:02:11.378Z"
      },
      {
        "duration": 181,
        "start_time": "2021-12-17T07:02:36.449Z"
      },
      {
        "duration": 32,
        "start_time": "2021-12-17T07:05:45.617Z"
      },
      {
        "duration": 484,
        "start_time": "2021-12-17T07:16:02.849Z"
      },
      {
        "duration": 278,
        "start_time": "2021-12-17T07:16:17.659Z"
      },
      {
        "duration": 8,
        "start_time": "2021-12-17T07:16:27.313Z"
      },
      {
        "duration": 19,
        "start_time": "2021-12-17T07:16:54.759Z"
      },
      {
        "duration": 20,
        "start_time": "2021-12-17T07:17:31.249Z"
      },
      {
        "duration": 60,
        "start_time": "2021-12-17T07:17:40.462Z"
      },
      {
        "duration": 14,
        "start_time": "2021-12-17T07:17:40.525Z"
      },
      {
        "duration": 12,
        "start_time": "2021-12-17T07:17:40.541Z"
      },
      {
        "duration": 65,
        "start_time": "2021-12-17T07:17:40.555Z"
      },
      {
        "duration": 4,
        "start_time": "2021-12-17T07:17:40.622Z"
      },
      {
        "duration": 10,
        "start_time": "2021-12-17T07:17:40.627Z"
      },
      {
        "duration": 5,
        "start_time": "2021-12-17T07:17:40.638Z"
      },
      {
        "duration": 48,
        "start_time": "2021-12-17T07:17:40.645Z"
      },
      {
        "duration": 5,
        "start_time": "2021-12-17T07:17:40.695Z"
      },
      {
        "duration": 14,
        "start_time": "2021-12-17T07:17:40.701Z"
      },
      {
        "duration": 5,
        "start_time": "2021-12-17T07:17:40.716Z"
      },
      {
        "duration": 16,
        "start_time": "2021-12-17T07:17:40.722Z"
      },
      {
        "duration": 17,
        "start_time": "2021-12-17T07:17:40.739Z"
      },
      {
        "duration": 53,
        "start_time": "2021-12-17T07:17:40.757Z"
      },
      {
        "duration": 17,
        "start_time": "2021-12-17T07:17:40.812Z"
      },
      {
        "duration": 8,
        "start_time": "2021-12-17T07:17:40.831Z"
      },
      {
        "duration": 9,
        "start_time": "2021-12-17T07:17:40.841Z"
      },
      {
        "duration": 49,
        "start_time": "2021-12-17T07:17:40.852Z"
      },
      {
        "duration": 14,
        "start_time": "2021-12-17T07:17:40.903Z"
      },
      {
        "duration": 24,
        "start_time": "2021-12-17T07:17:40.919Z"
      },
      {
        "duration": 19,
        "start_time": "2021-12-17T07:17:40.945Z"
      },
      {
        "duration": 18,
        "start_time": "2021-12-17T07:17:40.991Z"
      },
      {
        "duration": 6,
        "start_time": "2021-12-17T07:17:41.012Z"
      },
      {
        "duration": 11,
        "start_time": "2021-12-17T07:17:41.020Z"
      },
      {
        "duration": 16,
        "start_time": "2021-12-17T07:17:41.033Z"
      },
      {
        "duration": 44,
        "start_time": "2021-12-17T07:17:41.051Z"
      },
      {
        "duration": 16,
        "start_time": "2021-12-17T07:17:41.097Z"
      },
      {
        "duration": 17,
        "start_time": "2021-12-17T07:17:41.115Z"
      },
      {
        "duration": 18,
        "start_time": "2021-12-17T07:17:41.133Z"
      },
      {
        "duration": 6,
        "start_time": "2021-12-17T07:17:41.153Z"
      },
      {
        "duration": 10,
        "start_time": "2021-12-17T07:17:41.160Z"
      },
      {
        "duration": 23,
        "start_time": "2021-12-17T07:17:41.172Z"
      },
      {
        "duration": 8,
        "start_time": "2021-12-17T07:17:41.197Z"
      },
      {
        "duration": 6,
        "start_time": "2021-12-17T07:17:41.207Z"
      },
      {
        "duration": 6,
        "start_time": "2021-12-17T07:17:41.215Z"
      },
      {
        "duration": 12,
        "start_time": "2021-12-17T07:17:41.222Z"
      },
      {
        "duration": 6,
        "start_time": "2021-12-17T07:17:41.236Z"
      },
      {
        "duration": 52,
        "start_time": "2021-12-17T07:17:41.244Z"
      },
      {
        "duration": 5,
        "start_time": "2021-12-17T07:17:41.299Z"
      },
      {
        "duration": 5,
        "start_time": "2021-12-17T07:17:41.306Z"
      },
      {
        "duration": 701,
        "start_time": "2021-12-17T07:17:41.313Z"
      },
      {
        "duration": 4,
        "start_time": "2021-12-17T07:17:42.016Z"
      },
      {
        "duration": 33,
        "start_time": "2021-12-17T07:17:42.021Z"
      },
      {
        "duration": 6,
        "start_time": "2021-12-17T07:17:42.056Z"
      },
      {
        "duration": 378,
        "start_time": "2021-12-17T07:17:42.064Z"
      },
      {
        "duration": 7,
        "start_time": "2021-12-17T07:17:42.444Z"
      },
      {
        "duration": 16,
        "start_time": "2021-12-17T07:17:42.453Z"
      },
      {
        "duration": 22,
        "start_time": "2021-12-17T07:17:42.490Z"
      },
      {
        "duration": 9,
        "start_time": "2021-12-17T07:17:42.514Z"
      },
      {
        "duration": 21,
        "start_time": "2021-12-17T07:17:42.524Z"
      },
      {
        "duration": 6,
        "start_time": "2021-12-17T07:17:42.546Z"
      },
      {
        "duration": 40,
        "start_time": "2021-12-17T07:17:42.553Z"
      },
      {
        "duration": 30,
        "start_time": "2021-12-17T07:17:42.594Z"
      },
      {
        "duration": 9,
        "start_time": "2021-12-17T07:17:42.626Z"
      },
      {
        "duration": 28,
        "start_time": "2021-12-17T07:20:57.933Z"
      },
      {
        "duration": 2471,
        "start_time": "2021-12-17T07:22:10.603Z"
      },
      {
        "duration": 465,
        "start_time": "2021-12-17T07:22:35.860Z"
      },
      {
        "duration": 713,
        "start_time": "2021-12-17T07:23:05.570Z"
      },
      {
        "duration": 63,
        "start_time": "2021-12-17T07:23:19.243Z"
      },
      {
        "duration": 13,
        "start_time": "2021-12-17T07:23:19.308Z"
      },
      {
        "duration": 17,
        "start_time": "2021-12-17T07:23:19.323Z"
      },
      {
        "duration": 57,
        "start_time": "2021-12-17T07:23:19.343Z"
      },
      {
        "duration": 3,
        "start_time": "2021-12-17T07:23:19.402Z"
      },
      {
        "duration": 13,
        "start_time": "2021-12-17T07:23:19.407Z"
      },
      {
        "duration": 21,
        "start_time": "2021-12-17T07:23:19.421Z"
      },
      {
        "duration": 22,
        "start_time": "2021-12-17T07:23:19.444Z"
      },
      {
        "duration": 10,
        "start_time": "2021-12-17T07:23:19.469Z"
      },
      {
        "duration": 38,
        "start_time": "2021-12-17T07:23:19.481Z"
      },
      {
        "duration": 22,
        "start_time": "2021-12-17T07:23:19.521Z"
      },
      {
        "duration": 27,
        "start_time": "2021-12-17T07:23:19.545Z"
      },
      {
        "duration": 26,
        "start_time": "2021-12-17T07:23:19.575Z"
      },
      {
        "duration": 19,
        "start_time": "2021-12-17T07:23:19.603Z"
      },
      {
        "duration": 22,
        "start_time": "2021-12-17T07:23:19.624Z"
      },
      {
        "duration": 23,
        "start_time": "2021-12-17T07:23:19.648Z"
      },
      {
        "duration": 22,
        "start_time": "2021-12-17T07:23:19.673Z"
      },
      {
        "duration": 22,
        "start_time": "2021-12-17T07:23:19.697Z"
      },
      {
        "duration": 17,
        "start_time": "2021-12-17T07:23:19.720Z"
      },
      {
        "duration": 29,
        "start_time": "2021-12-17T07:23:19.739Z"
      },
      {
        "duration": 37,
        "start_time": "2021-12-17T07:23:19.770Z"
      },
      {
        "duration": 18,
        "start_time": "2021-12-17T07:23:19.810Z"
      },
      {
        "duration": 17,
        "start_time": "2021-12-17T07:23:19.830Z"
      },
      {
        "duration": 22,
        "start_time": "2021-12-17T07:23:19.848Z"
      },
      {
        "duration": 20,
        "start_time": "2021-12-17T07:23:19.872Z"
      },
      {
        "duration": 43,
        "start_time": "2021-12-17T07:23:19.894Z"
      },
      {
        "duration": 22,
        "start_time": "2021-12-17T07:23:19.940Z"
      },
      {
        "duration": 25,
        "start_time": "2021-12-17T07:23:19.964Z"
      },
      {
        "duration": 36,
        "start_time": "2021-12-17T07:23:19.990Z"
      },
      {
        "duration": 17,
        "start_time": "2021-12-17T07:23:20.028Z"
      },
      {
        "duration": 39,
        "start_time": "2021-12-17T07:23:20.046Z"
      },
      {
        "duration": 23,
        "start_time": "2021-12-17T07:23:20.086Z"
      },
      {
        "duration": 14,
        "start_time": "2021-12-17T07:23:20.111Z"
      },
      {
        "duration": 14,
        "start_time": "2021-12-17T07:23:20.127Z"
      },
      {
        "duration": 23,
        "start_time": "2021-12-17T07:23:20.143Z"
      },
      {
        "duration": 21,
        "start_time": "2021-12-17T07:23:20.168Z"
      },
      {
        "duration": 32,
        "start_time": "2021-12-17T07:23:20.191Z"
      },
      {
        "duration": 10,
        "start_time": "2021-12-17T07:23:20.225Z"
      },
      {
        "duration": 35,
        "start_time": "2021-12-17T07:23:20.237Z"
      },
      {
        "duration": 31,
        "start_time": "2021-12-17T07:23:20.274Z"
      },
      {
        "duration": 753,
        "start_time": "2021-12-17T07:23:20.307Z"
      },
      {
        "duration": 5,
        "start_time": "2021-12-17T07:23:21.063Z"
      },
      {
        "duration": 35,
        "start_time": "2021-12-17T07:23:21.072Z"
      },
      {
        "duration": 2448,
        "start_time": "2021-12-17T07:23:21.109Z"
      },
      {
        "duration": -3896,
        "start_time": "2021-12-17T07:23:27.455Z"
      },
      {
        "duration": -3913,
        "start_time": "2021-12-17T07:23:27.473Z"
      },
      {
        "duration": -3928,
        "start_time": "2021-12-17T07:23:27.489Z"
      },
      {
        "duration": -3946,
        "start_time": "2021-12-17T07:23:27.507Z"
      },
      {
        "duration": -3961,
        "start_time": "2021-12-17T07:23:27.523Z"
      },
      {
        "duration": -4130,
        "start_time": "2021-12-17T07:23:27.693Z"
      },
      {
        "duration": -4150,
        "start_time": "2021-12-17T07:23:27.714Z"
      },
      {
        "duration": -4169,
        "start_time": "2021-12-17T07:23:27.734Z"
      },
      {
        "duration": -4189,
        "start_time": "2021-12-17T07:23:27.755Z"
      },
      {
        "duration": -4206,
        "start_time": "2021-12-17T07:23:27.773Z"
      },
      {
        "duration": -4225,
        "start_time": "2021-12-17T07:23:27.793Z"
      },
      {
        "duration": 24,
        "start_time": "2021-12-17T07:25:45.018Z"
      },
      {
        "duration": 10520,
        "start_time": "2021-12-17T07:25:54.727Z"
      },
      {
        "duration": 18,
        "start_time": "2021-12-17T07:26:17.588Z"
      },
      {
        "duration": 3826,
        "start_time": "2021-12-17T07:26:32.352Z"
      },
      {
        "duration": 60,
        "start_time": "2021-12-17T07:26:49.254Z"
      },
      {
        "duration": 12,
        "start_time": "2021-12-17T07:26:49.316Z"
      },
      {
        "duration": 11,
        "start_time": "2021-12-17T07:26:49.330Z"
      },
      {
        "duration": 56,
        "start_time": "2021-12-17T07:26:49.343Z"
      },
      {
        "duration": 4,
        "start_time": "2021-12-17T07:26:49.401Z"
      },
      {
        "duration": 8,
        "start_time": "2021-12-17T07:26:49.407Z"
      },
      {
        "duration": 5,
        "start_time": "2021-12-17T07:26:49.417Z"
      },
      {
        "duration": 11,
        "start_time": "2021-12-17T07:26:49.424Z"
      },
      {
        "duration": 4,
        "start_time": "2021-12-17T07:26:49.437Z"
      },
      {
        "duration": 54,
        "start_time": "2021-12-17T07:26:49.443Z"
      },
      {
        "duration": 5,
        "start_time": "2021-12-17T07:26:49.499Z"
      },
      {
        "duration": 17,
        "start_time": "2021-12-17T07:26:49.506Z"
      },
      {
        "duration": 14,
        "start_time": "2021-12-17T07:26:49.525Z"
      },
      {
        "duration": 59,
        "start_time": "2021-12-17T07:26:49.541Z"
      },
      {
        "duration": 15,
        "start_time": "2021-12-17T07:26:49.601Z"
      },
      {
        "duration": 4,
        "start_time": "2021-12-17T07:26:49.618Z"
      },
      {
        "duration": 6,
        "start_time": "2021-12-17T07:26:49.624Z"
      },
      {
        "duration": 13,
        "start_time": "2021-12-17T07:26:49.631Z"
      },
      {
        "duration": 48,
        "start_time": "2021-12-17T07:26:49.645Z"
      },
      {
        "duration": 16,
        "start_time": "2021-12-17T07:26:49.695Z"
      },
      {
        "duration": 18,
        "start_time": "2021-12-17T07:26:49.714Z"
      },
      {
        "duration": 15,
        "start_time": "2021-12-17T07:26:49.734Z"
      },
      {
        "duration": 41,
        "start_time": "2021-12-17T07:26:49.751Z"
      },
      {
        "duration": 5,
        "start_time": "2021-12-17T07:26:49.794Z"
      },
      {
        "duration": 7,
        "start_time": "2021-12-17T07:26:49.800Z"
      },
      {
        "duration": 9,
        "start_time": "2021-12-17T07:26:49.808Z"
      },
      {
        "duration": 6,
        "start_time": "2021-12-17T07:26:49.818Z"
      },
      {
        "duration": 11,
        "start_time": "2021-12-17T07:26:49.825Z"
      },
      {
        "duration": 59,
        "start_time": "2021-12-17T07:26:49.837Z"
      },
      {
        "duration": 8,
        "start_time": "2021-12-17T07:26:49.898Z"
      },
      {
        "duration": 10,
        "start_time": "2021-12-17T07:26:49.908Z"
      },
      {
        "duration": 5,
        "start_time": "2021-12-17T07:26:49.920Z"
      },
      {
        "duration": 11,
        "start_time": "2021-12-17T07:26:49.926Z"
      },
      {
        "duration": 6,
        "start_time": "2021-12-17T07:26:49.939Z"
      },
      {
        "duration": 45,
        "start_time": "2021-12-17T07:26:49.947Z"
      },
      {
        "duration": 5,
        "start_time": "2021-12-17T07:26:49.994Z"
      },
      {
        "duration": 10,
        "start_time": "2021-12-17T07:26:50.001Z"
      },
      {
        "duration": 7,
        "start_time": "2021-12-17T07:26:50.013Z"
      },
      {
        "duration": 10,
        "start_time": "2021-12-17T07:26:50.022Z"
      },
      {
        "duration": 4,
        "start_time": "2021-12-17T07:26:50.035Z"
      },
      {
        "duration": 727,
        "start_time": "2021-12-17T07:26:50.044Z"
      },
      {
        "duration": 4,
        "start_time": "2021-12-17T07:26:50.775Z"
      },
      {
        "duration": 30,
        "start_time": "2021-12-17T07:26:50.781Z"
      },
      {
        "duration": 556,
        "start_time": "2021-12-17T07:26:50.813Z"
      },
      {
        "duration": -6341,
        "start_time": "2021-12-17T07:26:57.712Z"
      },
      {
        "duration": -6361,
        "start_time": "2021-12-17T07:26:57.734Z"
      },
      {
        "duration": -6378,
        "start_time": "2021-12-17T07:26:57.753Z"
      },
      {
        "duration": -6398,
        "start_time": "2021-12-17T07:26:57.774Z"
      },
      {
        "duration": -6416,
        "start_time": "2021-12-17T07:26:57.794Z"
      },
      {
        "duration": -6510,
        "start_time": "2021-12-17T07:26:57.889Z"
      },
      {
        "duration": -6584,
        "start_time": "2021-12-17T07:26:57.964Z"
      },
      {
        "duration": -6618,
        "start_time": "2021-12-17T07:26:58.000Z"
      },
      {
        "duration": -6703,
        "start_time": "2021-12-17T07:26:58.086Z"
      },
      {
        "duration": -6898,
        "start_time": "2021-12-17T07:26:58.282Z"
      },
      {
        "duration": -7468,
        "start_time": "2021-12-17T07:26:58.854Z"
      },
      {
        "duration": 335,
        "start_time": "2021-12-17T07:27:34.296Z"
      },
      {
        "duration": 191,
        "start_time": "2021-12-17T07:30:19.015Z"
      },
      {
        "duration": 5,
        "start_time": "2021-12-17T07:32:23.861Z"
      },
      {
        "duration": 3,
        "start_time": "2021-12-17T07:32:55.542Z"
      },
      {
        "duration": 180,
        "start_time": "2021-12-17T07:34:31.187Z"
      },
      {
        "duration": 172,
        "start_time": "2021-12-17T07:34:49.744Z"
      },
      {
        "duration": 174,
        "start_time": "2021-12-17T07:34:58.076Z"
      },
      {
        "duration": 20376,
        "start_time": "2021-12-17T07:35:06.573Z"
      },
      {
        "duration": 19,
        "start_time": "2021-12-17T07:38:09.857Z"
      },
      {
        "duration": 14,
        "start_time": "2021-12-17T07:38:27.668Z"
      },
      {
        "duration": 61,
        "start_time": "2021-12-17T07:38:38.651Z"
      },
      {
        "duration": 19,
        "start_time": "2021-12-17T07:38:38.713Z"
      },
      {
        "duration": 12,
        "start_time": "2021-12-17T07:38:38.734Z"
      },
      {
        "duration": 58,
        "start_time": "2021-12-17T07:38:38.748Z"
      },
      {
        "duration": 4,
        "start_time": "2021-12-17T07:38:38.808Z"
      },
      {
        "duration": 8,
        "start_time": "2021-12-17T07:38:38.814Z"
      },
      {
        "duration": 4,
        "start_time": "2021-12-17T07:38:38.824Z"
      },
      {
        "duration": 10,
        "start_time": "2021-12-17T07:38:38.830Z"
      },
      {
        "duration": 4,
        "start_time": "2021-12-17T07:38:38.841Z"
      },
      {
        "duration": 50,
        "start_time": "2021-12-17T07:38:38.847Z"
      },
      {
        "duration": 5,
        "start_time": "2021-12-17T07:38:38.899Z"
      },
      {
        "duration": 14,
        "start_time": "2021-12-17T07:38:38.905Z"
      },
      {
        "duration": 15,
        "start_time": "2021-12-17T07:38:38.920Z"
      },
      {
        "duration": 56,
        "start_time": "2021-12-17T07:38:38.937Z"
      },
      {
        "duration": 16,
        "start_time": "2021-12-17T07:38:38.995Z"
      },
      {
        "duration": 5,
        "start_time": "2021-12-17T07:38:39.013Z"
      },
      {
        "duration": 5,
        "start_time": "2021-12-17T07:38:39.019Z"
      },
      {
        "duration": 14,
        "start_time": "2021-12-17T07:38:39.025Z"
      },
      {
        "duration": 50,
        "start_time": "2021-12-17T07:38:39.041Z"
      },
      {
        "duration": 19,
        "start_time": "2021-12-17T07:38:39.095Z"
      },
      {
        "duration": 18,
        "start_time": "2021-12-17T07:38:39.116Z"
      },
      {
        "duration": 59,
        "start_time": "2021-12-17T07:38:39.136Z"
      },
      {
        "duration": 7,
        "start_time": "2021-12-17T07:38:39.197Z"
      },
      {
        "duration": 6,
        "start_time": "2021-12-17T07:38:39.206Z"
      },
      {
        "duration": 4,
        "start_time": "2021-12-17T07:38:39.214Z"
      },
      {
        "duration": 10,
        "start_time": "2021-12-17T07:38:39.220Z"
      },
      {
        "duration": 5,
        "start_time": "2021-12-17T07:38:39.232Z"
      },
      {
        "duration": 64,
        "start_time": "2021-12-17T07:38:39.239Z"
      },
      {
        "duration": 14,
        "start_time": "2021-12-17T07:38:39.306Z"
      },
      {
        "duration": 6,
        "start_time": "2021-12-17T07:38:39.322Z"
      },
      {
        "duration": 12,
        "start_time": "2021-12-17T07:38:39.329Z"
      },
      {
        "duration": 49,
        "start_time": "2021-12-17T07:38:39.343Z"
      },
      {
        "duration": 9,
        "start_time": "2021-12-17T07:38:39.393Z"
      },
      {
        "duration": 6,
        "start_time": "2021-12-17T07:38:39.403Z"
      },
      {
        "duration": 5,
        "start_time": "2021-12-17T07:38:39.411Z"
      },
      {
        "duration": 9,
        "start_time": "2021-12-17T07:38:39.418Z"
      },
      {
        "duration": 7,
        "start_time": "2021-12-17T07:38:39.429Z"
      },
      {
        "duration": 6,
        "start_time": "2021-12-17T07:38:39.438Z"
      },
      {
        "duration": 47,
        "start_time": "2021-12-17T07:38:39.446Z"
      },
      {
        "duration": 5,
        "start_time": "2021-12-17T07:38:39.494Z"
      },
      {
        "duration": 708,
        "start_time": "2021-12-17T07:38:39.501Z"
      },
      {
        "duration": 5,
        "start_time": "2021-12-17T07:38:40.212Z"
      },
      {
        "duration": 8,
        "start_time": "2021-12-17T07:38:40.218Z"
      },
      {
        "duration": 23,
        "start_time": "2021-12-17T07:38:40.228Z"
      },
      {
        "duration": 39,
        "start_time": "2021-12-17T07:38:40.253Z"
      },
      {
        "duration": 7,
        "start_time": "2021-12-17T07:38:40.296Z"
      },
      {
        "duration": 378,
        "start_time": "2021-12-17T07:38:40.305Z"
      },
      {
        "duration": 11,
        "start_time": "2021-12-17T07:38:40.684Z"
      },
      {
        "duration": 17,
        "start_time": "2021-12-17T07:38:40.697Z"
      },
      {
        "duration": 21,
        "start_time": "2021-12-17T07:38:40.716Z"
      },
      {
        "duration": 9,
        "start_time": "2021-12-17T07:38:40.739Z"
      },
      {
        "duration": 55,
        "start_time": "2021-12-17T07:38:40.749Z"
      },
      {
        "duration": 6,
        "start_time": "2021-12-17T07:38:40.806Z"
      },
      {
        "duration": 3,
        "start_time": "2021-12-17T07:38:40.814Z"
      },
      {
        "duration": 23,
        "start_time": "2021-12-17T07:38:40.819Z"
      },
      {
        "duration": 7,
        "start_time": "2021-12-17T07:38:40.843Z"
      },
      {
        "duration": 20634,
        "start_time": "2021-12-17T07:39:51.926Z"
      },
      {
        "duration": 79,
        "start_time": "2021-12-17T07:41:26.831Z"
      },
      {
        "duration": 14,
        "start_time": "2021-12-17T07:41:29.857Z"
      },
      {
        "duration": 12,
        "start_time": "2021-12-17T07:41:32.428Z"
      },
      {
        "duration": 33,
        "start_time": "2021-12-17T07:41:34.578Z"
      },
      {
        "duration": 4,
        "start_time": "2021-12-17T07:41:38.971Z"
      },
      {
        "duration": 8,
        "start_time": "2021-12-17T07:41:40.600Z"
      },
      {
        "duration": 4,
        "start_time": "2021-12-17T07:41:44.338Z"
      },
      {
        "duration": 11,
        "start_time": "2021-12-17T07:41:48.098Z"
      },
      {
        "duration": 5,
        "start_time": "2021-12-17T07:41:50.210Z"
      },
      {
        "duration": 9,
        "start_time": "2021-12-17T07:41:51.849Z"
      },
      {
        "duration": 6,
        "start_time": "2021-12-17T07:41:54.839Z"
      },
      {
        "duration": 13,
        "start_time": "2021-12-17T07:41:56.062Z"
      },
      {
        "duration": 14,
        "start_time": "2021-12-17T07:41:59.036Z"
      },
      {
        "duration": 19,
        "start_time": "2021-12-17T07:42:00.818Z"
      },
      {
        "duration": 18,
        "start_time": "2021-12-17T07:42:02.131Z"
      },
      {
        "duration": 5,
        "start_time": "2021-12-17T07:42:04.422Z"
      },
      {
        "duration": 5,
        "start_time": "2021-12-17T07:42:06.201Z"
      },
      {
        "duration": 18,
        "start_time": "2021-12-17T07:42:08.051Z"
      },
      {
        "duration": 7,
        "start_time": "2021-12-17T07:42:09.318Z"
      },
      {
        "duration": 16,
        "start_time": "2021-12-17T07:42:11.262Z"
      },
      {
        "duration": 18,
        "start_time": "2021-12-17T07:42:12.650Z"
      },
      {
        "duration": 15,
        "start_time": "2021-12-17T07:42:13.764Z"
      },
      {
        "duration": 5,
        "start_time": "2021-12-17T07:42:15.524Z"
      },
      {
        "duration": 5,
        "start_time": "2021-12-17T07:42:17.205Z"
      },
      {
        "duration": 7,
        "start_time": "2021-12-17T07:42:18.972Z"
      },
      {
        "duration": 8,
        "start_time": "2021-12-17T07:42:20.448Z"
      },
      {
        "duration": 5,
        "start_time": "2021-12-17T07:42:22.679Z"
      },
      {
        "duration": 12,
        "start_time": "2021-12-17T07:42:24.717Z"
      },
      {
        "duration": 11,
        "start_time": "2021-12-17T07:42:26.652Z"
      },
      {
        "duration": 5,
        "start_time": "2021-12-17T07:42:29.516Z"
      },
      {
        "duration": 11,
        "start_time": "2021-12-17T07:42:30.940Z"
      },
      {
        "duration": 6,
        "start_time": "2021-12-17T07:42:32.644Z"
      },
      {
        "duration": 9,
        "start_time": "2021-12-17T07:42:35.078Z"
      },
      {
        "duration": 8,
        "start_time": "2021-12-17T07:42:36.740Z"
      },
      {
        "duration": 5,
        "start_time": "2021-12-17T07:42:41.372Z"
      },
      {
        "duration": 6,
        "start_time": "2021-12-17T07:42:44.497Z"
      },
      {
        "duration": 10,
        "start_time": "2021-12-17T07:42:46.921Z"
      },
      {
        "duration": 9,
        "start_time": "2021-12-17T07:42:48.011Z"
      },
      {
        "duration": 8,
        "start_time": "2021-12-17T07:42:50.529Z"
      },
      {
        "duration": 4,
        "start_time": "2021-12-17T07:42:53.631Z"
      },
      {
        "duration": 661,
        "start_time": "2021-12-17T07:42:55.857Z"
      },
      {
        "duration": 5,
        "start_time": "2021-12-17T07:43:01.687Z"
      },
      {
        "duration": 4,
        "start_time": "2021-12-17T07:43:04.658Z"
      },
      {
        "duration": 19,
        "start_time": "2021-12-17T07:43:06.956Z"
      },
      {
        "duration": 17,
        "start_time": "2021-12-17T07:43:17.916Z"
      },
      {
        "duration": 19979,
        "start_time": "2021-12-17T07:43:28.725Z"
      },
      {
        "duration": 19346,
        "start_time": "2021-12-17T07:44:57.723Z"
      },
      {
        "duration": 13,
        "start_time": "2021-12-17T07:46:04.922Z"
      },
      {
        "duration": 58,
        "start_time": "2021-12-17T07:46:31.956Z"
      },
      {
        "duration": 13,
        "start_time": "2021-12-17T07:46:32.015Z"
      },
      {
        "duration": 44,
        "start_time": "2021-12-17T07:46:32.029Z"
      },
      {
        "duration": 61,
        "start_time": "2021-12-17T07:46:32.075Z"
      },
      {
        "duration": 12,
        "start_time": "2021-12-17T07:46:32.137Z"
      },
      {
        "duration": 36,
        "start_time": "2021-12-17T07:46:32.151Z"
      },
      {
        "duration": 26,
        "start_time": "2021-12-17T07:46:32.188Z"
      },
      {
        "duration": 32,
        "start_time": "2021-12-17T07:46:32.215Z"
      },
      {
        "duration": 16,
        "start_time": "2021-12-17T07:46:32.250Z"
      },
      {
        "duration": 39,
        "start_time": "2021-12-17T07:46:32.268Z"
      },
      {
        "duration": 26,
        "start_time": "2021-12-17T07:46:32.308Z"
      },
      {
        "duration": 42,
        "start_time": "2021-12-17T07:46:32.335Z"
      },
      {
        "duration": 25,
        "start_time": "2021-12-17T07:46:32.379Z"
      },
      {
        "duration": 38,
        "start_time": "2021-12-17T07:46:32.406Z"
      },
      {
        "duration": 23,
        "start_time": "2021-12-17T07:46:32.446Z"
      },
      {
        "duration": 14,
        "start_time": "2021-12-17T07:46:32.471Z"
      },
      {
        "duration": 34,
        "start_time": "2021-12-17T07:46:32.487Z"
      },
      {
        "duration": 29,
        "start_time": "2021-12-17T07:46:32.523Z"
      },
      {
        "duration": 24,
        "start_time": "2021-12-17T07:46:32.554Z"
      },
      {
        "duration": 36,
        "start_time": "2021-12-17T07:46:32.580Z"
      },
      {
        "duration": 17,
        "start_time": "2021-12-17T07:46:32.617Z"
      },
      {
        "duration": 21,
        "start_time": "2021-12-17T07:46:32.636Z"
      },
      {
        "duration": 4,
        "start_time": "2021-12-17T07:46:32.659Z"
      },
      {
        "duration": 7,
        "start_time": "2021-12-17T07:46:32.665Z"
      },
      {
        "duration": 20,
        "start_time": "2021-12-17T07:46:32.674Z"
      },
      {
        "duration": 22,
        "start_time": "2021-12-17T07:46:32.696Z"
      },
      {
        "duration": 27,
        "start_time": "2021-12-17T07:46:32.722Z"
      },
      {
        "duration": 23,
        "start_time": "2021-12-17T07:46:32.752Z"
      },
      {
        "duration": 25,
        "start_time": "2021-12-17T07:46:32.777Z"
      },
      {
        "duration": 15,
        "start_time": "2021-12-17T07:46:32.804Z"
      },
      {
        "duration": 31,
        "start_time": "2021-12-17T07:46:32.821Z"
      },
      {
        "duration": 17,
        "start_time": "2021-12-17T07:46:32.854Z"
      },
      {
        "duration": 35,
        "start_time": "2021-12-17T07:46:32.872Z"
      },
      {
        "duration": 10,
        "start_time": "2021-12-17T07:46:32.909Z"
      },
      {
        "duration": 22,
        "start_time": "2021-12-17T07:46:32.920Z"
      },
      {
        "duration": 18,
        "start_time": "2021-12-17T07:46:32.943Z"
      },
      {
        "duration": 13,
        "start_time": "2021-12-17T07:46:32.963Z"
      },
      {
        "duration": 36,
        "start_time": "2021-12-17T07:46:32.977Z"
      },
      {
        "duration": 11,
        "start_time": "2021-12-17T07:46:33.014Z"
      },
      {
        "duration": 20,
        "start_time": "2021-12-17T07:46:33.026Z"
      },
      {
        "duration": 684,
        "start_time": "2021-12-17T07:46:33.047Z"
      },
      {
        "duration": 4,
        "start_time": "2021-12-17T07:46:33.733Z"
      },
      {
        "duration": 27,
        "start_time": "2021-12-17T07:46:33.738Z"
      },
      {
        "duration": 21,
        "start_time": "2021-12-17T07:46:33.767Z"
      },
      {
        "duration": 43,
        "start_time": "2021-12-17T07:46:33.790Z"
      },
      {
        "duration": 20246,
        "start_time": "2021-12-17T07:46:33.835Z"
      },
      {
        "duration": 13,
        "start_time": "2021-12-17T07:46:54.083Z"
      },
      {
        "duration": 377,
        "start_time": "2021-12-17T07:46:54.098Z"
      },
      {
        "duration": 7,
        "start_time": "2021-12-17T07:46:54.477Z"
      },
      {
        "duration": 18,
        "start_time": "2021-12-17T07:46:54.492Z"
      },
      {
        "duration": 22,
        "start_time": "2021-12-17T07:46:54.511Z"
      },
      {
        "duration": 9,
        "start_time": "2021-12-17T07:46:54.534Z"
      },
      {
        "duration": 53,
        "start_time": "2021-12-17T07:46:54.544Z"
      },
      {
        "duration": 7,
        "start_time": "2021-12-17T07:46:54.599Z"
      },
      {
        "duration": 3,
        "start_time": "2021-12-17T07:46:54.608Z"
      },
      {
        "duration": 33,
        "start_time": "2021-12-17T07:46:54.613Z"
      },
      {
        "duration": 10,
        "start_time": "2021-12-17T07:46:54.648Z"
      },
      {
        "duration": 8,
        "start_time": "2021-12-17T07:58:30.194Z"
      },
      {
        "duration": 17,
        "start_time": "2021-12-17T07:58:38.061Z"
      },
      {
        "duration": 7,
        "start_time": "2021-12-17T07:59:08.308Z"
      },
      {
        "duration": 15,
        "start_time": "2021-12-17T07:59:11.146Z"
      },
      {
        "duration": 15,
        "start_time": "2021-12-17T07:59:27.114Z"
      },
      {
        "duration": 57,
        "start_time": "2021-12-17T07:59:36.288Z"
      },
      {
        "duration": 13,
        "start_time": "2021-12-17T07:59:36.346Z"
      },
      {
        "duration": 12,
        "start_time": "2021-12-17T07:59:36.361Z"
      },
      {
        "duration": 46,
        "start_time": "2021-12-17T07:59:36.376Z"
      },
      {
        "duration": 4,
        "start_time": "2021-12-17T07:59:36.424Z"
      },
      {
        "duration": 8,
        "start_time": "2021-12-17T07:59:36.430Z"
      },
      {
        "duration": 4,
        "start_time": "2021-12-17T07:59:36.439Z"
      },
      {
        "duration": 11,
        "start_time": "2021-12-17T07:59:36.445Z"
      },
      {
        "duration": 6,
        "start_time": "2021-12-17T07:59:36.492Z"
      },
      {
        "duration": 12,
        "start_time": "2021-12-17T07:59:36.500Z"
      },
      {
        "duration": 6,
        "start_time": "2021-12-17T07:59:36.709Z"
      },
      {
        "duration": 17,
        "start_time": "2021-12-17T07:59:36.717Z"
      },
      {
        "duration": 15,
        "start_time": "2021-12-17T07:59:37.729Z"
      },
      {
        "duration": 20,
        "start_time": "2021-12-17T07:59:37.745Z"
      },
      {
        "duration": 14,
        "start_time": "2021-12-17T07:59:37.767Z"
      },
      {
        "duration": 8,
        "start_time": "2021-12-17T07:59:37.783Z"
      },
      {
        "duration": 4,
        "start_time": "2021-12-17T07:59:37.794Z"
      },
      {
        "duration": 12,
        "start_time": "2021-12-17T07:59:37.800Z"
      },
      {
        "duration": 9,
        "start_time": "2021-12-17T07:59:37.813Z"
      },
      {
        "duration": 15,
        "start_time": "2021-12-17T07:59:37.823Z"
      },
      {
        "duration": 16,
        "start_time": "2021-12-17T07:59:37.841Z"
      },
      {
        "duration": 44,
        "start_time": "2021-12-17T07:59:37.859Z"
      },
      {
        "duration": 4,
        "start_time": "2021-12-17T07:59:37.905Z"
      },
      {
        "duration": 4,
        "start_time": "2021-12-17T07:59:37.911Z"
      },
      {
        "duration": 9,
        "start_time": "2021-12-17T07:59:37.917Z"
      },
      {
        "duration": 8,
        "start_time": "2021-12-17T07:59:37.928Z"
      },
      {
        "duration": 6,
        "start_time": "2021-12-17T07:59:37.938Z"
      },
      {
        "duration": 45,
        "start_time": "2021-12-17T07:59:37.946Z"
      },
      {
        "duration": 13,
        "start_time": "2021-12-17T07:59:37.993Z"
      },
      {
        "duration": 6,
        "start_time": "2021-12-17T07:59:38.008Z"
      },
      {
        "duration": 12,
        "start_time": "2021-12-17T07:59:38.016Z"
      },
      {
        "duration": 6,
        "start_time": "2021-12-17T07:59:38.029Z"
      },
      {
        "duration": 8,
        "start_time": "2021-12-17T07:59:38.037Z"
      },
      {
        "duration": 5,
        "start_time": "2021-12-17T07:59:38.047Z"
      },
      {
        "duration": 39,
        "start_time": "2021-12-17T07:59:38.053Z"
      },
      {
        "duration": 6,
        "start_time": "2021-12-17T07:59:38.094Z"
      },
      {
        "duration": 9,
        "start_time": "2021-12-17T07:59:38.101Z"
      },
      {
        "duration": 10,
        "start_time": "2021-12-17T07:59:38.111Z"
      },
      {
        "duration": 6,
        "start_time": "2021-12-17T07:59:38.124Z"
      },
      {
        "duration": 4,
        "start_time": "2021-12-17T07:59:38.132Z"
      },
      {
        "duration": 707,
        "start_time": "2021-12-17T07:59:38.138Z"
      },
      {
        "duration": 4,
        "start_time": "2021-12-17T07:59:38.848Z"
      },
      {
        "duration": 15,
        "start_time": "2021-12-17T07:59:38.854Z"
      },
      {
        "duration": 40,
        "start_time": "2021-12-17T07:59:38.870Z"
      },
      {
        "duration": 40,
        "start_time": "2021-12-17T07:59:38.912Z"
      },
      {
        "duration": 27,
        "start_time": "2021-12-17T07:59:38.955Z"
      },
      {
        "duration": 19,
        "start_time": "2021-12-17T07:59:38.984Z"
      },
      {
        "duration": 388,
        "start_time": "2021-12-17T07:59:39.004Z"
      },
      {
        "duration": 7,
        "start_time": "2021-12-17T07:59:39.394Z"
      },
      {
        "duration": 32,
        "start_time": "2021-12-17T07:59:39.403Z"
      },
      {
        "duration": 33,
        "start_time": "2021-12-17T07:59:39.437Z"
      },
      {
        "duration": 9,
        "start_time": "2021-12-17T07:59:39.472Z"
      },
      {
        "duration": 39,
        "start_time": "2021-12-17T07:59:39.483Z"
      },
      {
        "duration": 29,
        "start_time": "2021-12-17T07:59:39.523Z"
      },
      {
        "duration": 4,
        "start_time": "2021-12-17T07:59:39.554Z"
      },
      {
        "duration": 28,
        "start_time": "2021-12-17T07:59:39.560Z"
      },
      {
        "duration": 9,
        "start_time": "2021-12-17T07:59:39.590Z"
      },
      {
        "duration": 20412,
        "start_time": "2021-12-17T08:00:15.780Z"
      },
      {
        "duration": 12,
        "start_time": "2021-12-17T08:01:35.736Z"
      },
      {
        "duration": 7,
        "start_time": "2021-12-17T08:01:41.336Z"
      },
      {
        "duration": 14,
        "start_time": "2021-12-17T08:01:42.867Z"
      },
      {
        "duration": 20411,
        "start_time": "2021-12-17T08:01:49.413Z"
      },
      {
        "duration": 19192,
        "start_time": "2021-12-17T08:03:02.495Z"
      },
      {
        "duration": 7,
        "start_time": "2021-12-17T08:10:34.320Z"
      },
      {
        "duration": 15,
        "start_time": "2021-12-17T08:10:46.826Z"
      },
      {
        "duration": 14,
        "start_time": "2021-12-17T08:10:57.865Z"
      },
      {
        "duration": 63,
        "start_time": "2021-12-17T08:11:00.137Z"
      },
      {
        "duration": 13,
        "start_time": "2021-12-17T08:11:00.201Z"
      },
      {
        "duration": 32,
        "start_time": "2021-12-17T08:11:00.217Z"
      },
      {
        "duration": 49,
        "start_time": "2021-12-17T08:11:00.251Z"
      },
      {
        "duration": 4,
        "start_time": "2021-12-17T08:11:00.301Z"
      },
      {
        "duration": 13,
        "start_time": "2021-12-17T08:11:00.307Z"
      },
      {
        "duration": 13,
        "start_time": "2021-12-17T08:11:00.322Z"
      },
      {
        "duration": 20,
        "start_time": "2021-12-17T08:11:00.336Z"
      },
      {
        "duration": 14,
        "start_time": "2021-12-17T08:11:00.358Z"
      },
      {
        "duration": 33,
        "start_time": "2021-12-17T08:11:00.374Z"
      },
      {
        "duration": 26,
        "start_time": "2021-12-17T08:11:00.409Z"
      },
      {
        "duration": 24,
        "start_time": "2021-12-17T08:11:00.437Z"
      },
      {
        "duration": 26,
        "start_time": "2021-12-17T08:11:00.463Z"
      },
      {
        "duration": 30,
        "start_time": "2021-12-17T08:11:00.491Z"
      },
      {
        "duration": 16,
        "start_time": "2021-12-17T08:11:00.523Z"
      },
      {
        "duration": 26,
        "start_time": "2021-12-17T08:11:00.541Z"
      },
      {
        "duration": 23,
        "start_time": "2021-12-17T08:11:00.569Z"
      },
      {
        "duration": 21,
        "start_time": "2021-12-17T08:11:00.595Z"
      },
      {
        "duration": 24,
        "start_time": "2021-12-17T08:11:00.618Z"
      },
      {
        "duration": 30,
        "start_time": "2021-12-17T08:11:00.644Z"
      },
      {
        "duration": 17,
        "start_time": "2021-12-17T08:11:00.676Z"
      },
      {
        "duration": 15,
        "start_time": "2021-12-17T08:11:00.695Z"
      },
      {
        "duration": 8,
        "start_time": "2021-12-17T08:11:00.712Z"
      },
      {
        "duration": 7,
        "start_time": "2021-12-17T08:11:00.721Z"
      },
      {
        "duration": 27,
        "start_time": "2021-12-17T08:11:00.730Z"
      },
      {
        "duration": 10,
        "start_time": "2021-12-17T08:11:00.759Z"
      },
      {
        "duration": 34,
        "start_time": "2021-12-17T08:11:00.771Z"
      },
      {
        "duration": 25,
        "start_time": "2021-12-17T08:11:00.807Z"
      },
      {
        "duration": 13,
        "start_time": "2021-12-17T08:11:00.915Z"
      },
      {
        "duration": 10,
        "start_time": "2021-12-17T08:11:00.930Z"
      },
      {
        "duration": 17,
        "start_time": "2021-12-17T08:11:00.943Z"
      },
      {
        "duration": 18,
        "start_time": "2021-12-17T08:11:00.962Z"
      },
      {
        "duration": 27,
        "start_time": "2021-12-17T08:11:00.982Z"
      },
      {
        "duration": 8,
        "start_time": "2021-12-17T08:11:01.011Z"
      },
      {
        "duration": 13,
        "start_time": "2021-12-17T08:11:01.020Z"
      },
      {
        "duration": 36,
        "start_time": "2021-12-17T08:11:01.035Z"
      },
      {
        "duration": 27,
        "start_time": "2021-12-17T08:11:01.073Z"
      },
      {
        "duration": 25,
        "start_time": "2021-12-17T08:11:01.103Z"
      },
      {
        "duration": 20,
        "start_time": "2021-12-17T08:11:01.130Z"
      },
      {
        "duration": 7,
        "start_time": "2021-12-17T08:11:01.151Z"
      },
      {
        "duration": 746,
        "start_time": "2021-12-17T08:11:01.159Z"
      },
      {
        "duration": 4,
        "start_time": "2021-12-17T08:11:01.907Z"
      },
      {
        "duration": 13,
        "start_time": "2021-12-17T08:11:01.912Z"
      },
      {
        "duration": 37,
        "start_time": "2021-12-17T08:11:01.926Z"
      },
      {
        "duration": 35,
        "start_time": "2021-12-17T08:11:01.965Z"
      },
      {
        "duration": 41,
        "start_time": "2021-12-17T08:11:02.002Z"
      },
      {
        "duration": 393,
        "start_time": "2021-12-17T08:11:02.045Z"
      },
      {
        "duration": 8,
        "start_time": "2021-12-17T08:11:02.440Z"
      },
      {
        "duration": 33,
        "start_time": "2021-12-17T08:11:02.450Z"
      },
      {
        "duration": 22,
        "start_time": "2021-12-17T08:11:02.492Z"
      },
      {
        "duration": 9,
        "start_time": "2021-12-17T08:11:02.516Z"
      },
      {
        "duration": 20,
        "start_time": "2021-12-17T08:11:02.529Z"
      },
      {
        "duration": 42,
        "start_time": "2021-12-17T08:11:02.551Z"
      },
      {
        "duration": 12,
        "start_time": "2021-12-17T08:11:02.596Z"
      },
      {
        "duration": 23,
        "start_time": "2021-12-17T08:11:02.609Z"
      },
      {
        "duration": 9,
        "start_time": "2021-12-17T08:11:02.635Z"
      },
      {
        "duration": 7,
        "start_time": "2021-12-17T08:11:40.795Z"
      },
      {
        "duration": 14,
        "start_time": "2021-12-17T08:11:42.087Z"
      },
      {
        "duration": 20266,
        "start_time": "2021-12-17T08:12:37.553Z"
      },
      {
        "duration": 59,
        "start_time": "2021-12-17T08:13:28.827Z"
      },
      {
        "duration": 13,
        "start_time": "2021-12-17T08:13:28.888Z"
      },
      {
        "duration": 11,
        "start_time": "2021-12-17T08:13:28.903Z"
      },
      {
        "duration": 32,
        "start_time": "2021-12-17T08:13:28.916Z"
      },
      {
        "duration": 4,
        "start_time": "2021-12-17T08:13:28.950Z"
      },
      {
        "duration": 8,
        "start_time": "2021-12-17T08:13:28.956Z"
      },
      {
        "duration": 4,
        "start_time": "2021-12-17T08:13:28.992Z"
      },
      {
        "duration": 12,
        "start_time": "2021-12-17T08:13:28.997Z"
      },
      {
        "duration": 4,
        "start_time": "2021-12-17T08:13:29.012Z"
      },
      {
        "duration": 9,
        "start_time": "2021-12-17T08:13:29.018Z"
      },
      {
        "duration": 4,
        "start_time": "2021-12-17T08:13:29.029Z"
      },
      {
        "duration": 14,
        "start_time": "2021-12-17T08:13:29.035Z"
      },
      {
        "duration": 50,
        "start_time": "2021-12-17T08:13:29.051Z"
      },
      {
        "duration": 16,
        "start_time": "2021-12-17T08:13:29.103Z"
      },
      {
        "duration": 15,
        "start_time": "2021-12-17T08:13:29.120Z"
      },
      {
        "duration": 4,
        "start_time": "2021-12-17T08:13:29.136Z"
      },
      {
        "duration": 5,
        "start_time": "2021-12-17T08:13:29.142Z"
      },
      {
        "duration": 45,
        "start_time": "2021-12-17T08:13:29.148Z"
      },
      {
        "duration": 13,
        "start_time": "2021-12-17T08:13:29.195Z"
      },
      {
        "duration": 15,
        "start_time": "2021-12-17T08:13:29.210Z"
      },
      {
        "duration": 16,
        "start_time": "2021-12-17T08:13:29.226Z"
      },
      {
        "duration": 16,
        "start_time": "2021-12-17T08:13:29.244Z"
      },
      {
        "duration": 5,
        "start_time": "2021-12-17T08:13:29.291Z"
      },
      {
        "duration": 4,
        "start_time": "2021-12-17T08:13:29.298Z"
      },
      {
        "duration": 4,
        "start_time": "2021-12-17T08:13:29.304Z"
      },
      {
        "duration": 7,
        "start_time": "2021-12-17T08:13:29.310Z"
      },
      {
        "duration": 10,
        "start_time": "2021-12-17T08:13:29.318Z"
      },
      {
        "duration": 12,
        "start_time": "2021-12-17T08:13:29.329Z"
      },
      {
        "duration": 57,
        "start_time": "2021-12-17T08:13:29.343Z"
      },
      {
        "duration": 6,
        "start_time": "2021-12-17T08:13:29.402Z"
      },
      {
        "duration": 11,
        "start_time": "2021-12-17T08:13:29.409Z"
      },
      {
        "duration": 6,
        "start_time": "2021-12-17T08:13:29.421Z"
      },
      {
        "duration": 9,
        "start_time": "2021-12-17T08:13:29.428Z"
      },
      {
        "duration": 6,
        "start_time": "2021-12-17T08:13:29.439Z"
      },
      {
        "duration": 45,
        "start_time": "2021-12-17T08:13:29.447Z"
      },
      {
        "duration": 9,
        "start_time": "2021-12-17T08:13:29.494Z"
      },
      {
        "duration": 8,
        "start_time": "2021-12-17T08:13:29.505Z"
      },
      {
        "duration": 8,
        "start_time": "2021-12-17T08:13:29.515Z"
      },
      {
        "duration": 9,
        "start_time": "2021-12-17T08:13:29.524Z"
      },
      {
        "duration": 3,
        "start_time": "2021-12-17T08:13:29.535Z"
      },
      {
        "duration": 736,
        "start_time": "2021-12-17T08:13:29.542Z"
      },
      {
        "duration": 10,
        "start_time": "2021-12-17T08:13:30.282Z"
      },
      {
        "duration": 4,
        "start_time": "2021-12-17T08:13:30.294Z"
      },
      {
        "duration": 17,
        "start_time": "2021-12-17T08:13:30.299Z"
      },
      {
        "duration": 21,
        "start_time": "2021-12-17T08:13:30.318Z"
      },
      {
        "duration": 19907,
        "start_time": "2021-12-17T08:13:30.340Z"
      },
      {
        "duration": 6,
        "start_time": "2021-12-17T08:13:50.249Z"
      },
      {
        "duration": 399,
        "start_time": "2021-12-17T08:13:50.257Z"
      },
      {
        "duration": 8,
        "start_time": "2021-12-17T08:13:50.658Z"
      },
      {
        "duration": 35,
        "start_time": "2021-12-17T08:13:50.668Z"
      },
      {
        "duration": 26,
        "start_time": "2021-12-17T08:13:50.705Z"
      },
      {
        "duration": 12,
        "start_time": "2021-12-17T08:13:50.733Z"
      },
      {
        "duration": 31,
        "start_time": "2021-12-17T08:13:50.747Z"
      },
      {
        "duration": 13,
        "start_time": "2021-12-17T08:13:50.780Z"
      },
      {
        "duration": 28,
        "start_time": "2021-12-17T08:13:50.795Z"
      },
      {
        "duration": 50,
        "start_time": "2021-12-17T08:13:50.824Z"
      },
      {
        "duration": 22,
        "start_time": "2021-12-17T08:13:50.876Z"
      },
      {
        "duration": 19914,
        "start_time": "2021-12-17T08:16:58.646Z"
      },
      {
        "duration": 60,
        "start_time": "2021-12-17T08:18:01.803Z"
      },
      {
        "duration": 12,
        "start_time": "2021-12-17T08:18:01.865Z"
      },
      {
        "duration": 39,
        "start_time": "2021-12-17T08:18:01.879Z"
      },
      {
        "duration": 65,
        "start_time": "2021-12-17T08:18:01.919Z"
      },
      {
        "duration": 3,
        "start_time": "2021-12-17T08:18:01.986Z"
      },
      {
        "duration": 26,
        "start_time": "2021-12-17T08:18:01.991Z"
      },
      {
        "duration": 27,
        "start_time": "2021-12-17T08:18:02.019Z"
      },
      {
        "duration": 44,
        "start_time": "2021-12-17T08:18:02.048Z"
      },
      {
        "duration": 13,
        "start_time": "2021-12-17T08:18:02.094Z"
      },
      {
        "duration": 26,
        "start_time": "2021-12-17T08:18:02.109Z"
      },
      {
        "duration": 34,
        "start_time": "2021-12-17T08:18:02.137Z"
      },
      {
        "duration": 22,
        "start_time": "2021-12-17T08:18:02.173Z"
      },
      {
        "duration": 17,
        "start_time": "2021-12-17T08:18:02.196Z"
      },
      {
        "duration": 18,
        "start_time": "2021-12-17T08:18:02.214Z"
      },
      {
        "duration": 30,
        "start_time": "2021-12-17T08:18:02.234Z"
      },
      {
        "duration": 9,
        "start_time": "2021-12-17T08:18:02.266Z"
      },
      {
        "duration": 16,
        "start_time": "2021-12-17T08:18:02.276Z"
      },
      {
        "duration": 29,
        "start_time": "2021-12-17T08:18:02.294Z"
      },
      {
        "duration": 25,
        "start_time": "2021-12-17T08:18:02.325Z"
      },
      {
        "duration": 31,
        "start_time": "2021-12-17T08:18:02.352Z"
      },
      {
        "duration": 18,
        "start_time": "2021-12-17T08:18:02.385Z"
      },
      {
        "duration": 17,
        "start_time": "2021-12-17T08:18:02.405Z"
      },
      {
        "duration": 6,
        "start_time": "2021-12-17T08:18:02.423Z"
      },
      {
        "duration": 19,
        "start_time": "2021-12-17T08:18:02.431Z"
      },
      {
        "duration": 32,
        "start_time": "2021-12-17T08:18:02.452Z"
      },
      {
        "duration": 27,
        "start_time": "2021-12-17T08:18:02.486Z"
      },
      {
        "duration": 24,
        "start_time": "2021-12-17T08:18:02.517Z"
      },
      {
        "duration": 36,
        "start_time": "2021-12-17T08:18:02.544Z"
      },
      {
        "duration": 19,
        "start_time": "2021-12-17T08:18:02.582Z"
      },
      {
        "duration": 19,
        "start_time": "2021-12-17T08:18:02.602Z"
      },
      {
        "duration": 16,
        "start_time": "2021-12-17T08:18:02.622Z"
      },
      {
        "duration": 15,
        "start_time": "2021-12-17T08:18:02.639Z"
      },
      {
        "duration": 23,
        "start_time": "2021-12-17T08:18:02.655Z"
      },
      {
        "duration": 25,
        "start_time": "2021-12-17T08:18:02.680Z"
      },
      {
        "duration": 18,
        "start_time": "2021-12-17T08:18:02.707Z"
      },
      {
        "duration": 33,
        "start_time": "2021-12-17T08:18:02.727Z"
      },
      {
        "duration": 22,
        "start_time": "2021-12-17T08:18:02.762Z"
      },
      {
        "duration": 21,
        "start_time": "2021-12-17T08:18:02.786Z"
      },
      {
        "duration": 20,
        "start_time": "2021-12-17T08:18:02.808Z"
      },
      {
        "duration": 12,
        "start_time": "2021-12-17T08:18:02.830Z"
      },
      {
        "duration": 704,
        "start_time": "2021-12-17T08:18:02.844Z"
      },
      {
        "duration": 4,
        "start_time": "2021-12-17T08:18:03.551Z"
      },
      {
        "duration": 23,
        "start_time": "2021-12-17T08:18:03.557Z"
      },
      {
        "duration": 19,
        "start_time": "2021-12-17T08:18:03.582Z"
      },
      {
        "duration": 47,
        "start_time": "2021-12-17T08:18:03.603Z"
      },
      {
        "duration": 992,
        "start_time": "2021-12-17T08:18:03.652Z"
      },
      {
        "duration": -6190,
        "start_time": "2021-12-17T08:18:10.836Z"
      },
      {
        "duration": -6210,
        "start_time": "2021-12-17T08:18:10.857Z"
      },
      {
        "duration": -6229,
        "start_time": "2021-12-17T08:18:10.877Z"
      },
      {
        "duration": -6246,
        "start_time": "2021-12-17T08:18:10.896Z"
      },
      {
        "duration": -6266,
        "start_time": "2021-12-17T08:18:10.917Z"
      },
      {
        "duration": -6284,
        "start_time": "2021-12-17T08:18:10.936Z"
      },
      {
        "duration": -6304,
        "start_time": "2021-12-17T08:18:10.957Z"
      },
      {
        "duration": -6321,
        "start_time": "2021-12-17T08:18:10.975Z"
      },
      {
        "duration": -6342,
        "start_time": "2021-12-17T08:18:10.997Z"
      },
      {
        "duration": -6360,
        "start_time": "2021-12-17T08:18:11.017Z"
      },
      {
        "duration": -6383,
        "start_time": "2021-12-17T08:18:11.040Z"
      },
      {
        "duration": 20540,
        "start_time": "2021-12-17T08:18:46.299Z"
      },
      {
        "duration": 317,
        "start_time": "2021-12-17T08:25:18.618Z"
      },
      {
        "duration": 21297,
        "start_time": "2021-12-17T08:25:38.697Z"
      },
      {
        "duration": 63,
        "start_time": "2021-12-17T09:41:10.014Z"
      },
      {
        "duration": 59,
        "start_time": "2021-12-17T09:41:29.087Z"
      },
      {
        "duration": 5,
        "start_time": "2021-12-17T09:41:43.057Z"
      },
      {
        "duration": 19788,
        "start_time": "2021-12-17T09:43:46.910Z"
      },
      {
        "duration": 4381,
        "start_time": "2021-12-17T09:49:29.731Z"
      },
      {
        "duration": 4344,
        "start_time": "2021-12-17T09:49:44.318Z"
      },
      {
        "duration": 14,
        "start_time": "2021-12-17T09:50:08.671Z"
      },
      {
        "duration": 17,
        "start_time": "2021-12-17T09:50:19.925Z"
      },
      {
        "duration": 60,
        "start_time": "2021-12-17T09:50:49.687Z"
      },
      {
        "duration": 14,
        "start_time": "2021-12-17T09:50:49.749Z"
      },
      {
        "duration": 26,
        "start_time": "2021-12-17T09:50:49.765Z"
      },
      {
        "duration": 47,
        "start_time": "2021-12-17T09:50:49.794Z"
      },
      {
        "duration": 4,
        "start_time": "2021-12-17T09:50:49.844Z"
      },
      {
        "duration": 46,
        "start_time": "2021-12-17T09:50:49.850Z"
      },
      {
        "duration": 5,
        "start_time": "2021-12-17T09:50:49.898Z"
      },
      {
        "duration": 18,
        "start_time": "2021-12-17T09:50:49.905Z"
      },
      {
        "duration": 6,
        "start_time": "2021-12-17T09:50:49.927Z"
      },
      {
        "duration": 13,
        "start_time": "2021-12-17T09:50:49.935Z"
      },
      {
        "duration": 46,
        "start_time": "2021-12-17T09:50:49.949Z"
      },
      {
        "duration": 32,
        "start_time": "2021-12-17T09:50:49.996Z"
      },
      {
        "duration": 18,
        "start_time": "2021-12-17T09:50:50.030Z"
      },
      {
        "duration": 18,
        "start_time": "2021-12-17T09:50:50.049Z"
      },
      {
        "duration": 43,
        "start_time": "2021-12-17T09:50:50.069Z"
      },
      {
        "duration": 5,
        "start_time": "2021-12-17T09:50:50.114Z"
      },
      {
        "duration": 16,
        "start_time": "2021-12-17T09:50:50.121Z"
      },
      {
        "duration": 19,
        "start_time": "2021-12-17T09:50:50.139Z"
      },
      {
        "duration": 35,
        "start_time": "2021-12-17T09:50:50.160Z"
      },
      {
        "duration": 18,
        "start_time": "2021-12-17T09:50:50.197Z"
      },
      {
        "duration": 22,
        "start_time": "2021-12-17T09:50:50.217Z"
      },
      {
        "duration": 53,
        "start_time": "2021-12-17T09:50:50.241Z"
      },
      {
        "duration": 5,
        "start_time": "2021-12-17T09:50:50.296Z"
      },
      {
        "duration": 7,
        "start_time": "2021-12-17T09:50:50.303Z"
      },
      {
        "duration": 8,
        "start_time": "2021-12-17T09:50:50.312Z"
      },
      {
        "duration": 9,
        "start_time": "2021-12-17T09:50:50.322Z"
      },
      {
        "duration": 57,
        "start_time": "2021-12-17T09:50:50.335Z"
      },
      {
        "duration": 12,
        "start_time": "2021-12-17T09:50:50.395Z"
      },
      {
        "duration": 26,
        "start_time": "2021-12-17T09:50:50.409Z"
      },
      {
        "duration": 21,
        "start_time": "2021-12-17T09:50:50.437Z"
      },
      {
        "duration": 16,
        "start_time": "2021-12-17T09:50:50.460Z"
      },
      {
        "duration": 15,
        "start_time": "2021-12-17T09:50:50.478Z"
      },
      {
        "duration": 14,
        "start_time": "2021-12-17T09:50:50.495Z"
      },
      {
        "duration": 10,
        "start_time": "2021-12-17T09:50:50.511Z"
      },
      {
        "duration": 5,
        "start_time": "2021-12-17T09:50:50.523Z"
      },
      {
        "duration": 9,
        "start_time": "2021-12-17T09:50:50.530Z"
      },
      {
        "duration": 10,
        "start_time": "2021-12-17T09:50:50.540Z"
      },
      {
        "duration": 44,
        "start_time": "2021-12-17T09:50:50.552Z"
      },
      {
        "duration": 7,
        "start_time": "2021-12-17T09:50:50.598Z"
      },
      {
        "duration": 6,
        "start_time": "2021-12-17T09:50:50.606Z"
      },
      {
        "duration": 824,
        "start_time": "2021-12-17T09:50:50.614Z"
      },
      {
        "duration": 4,
        "start_time": "2021-12-17T09:50:51.440Z"
      },
      {
        "duration": 21,
        "start_time": "2021-12-17T09:50:51.445Z"
      },
      {
        "duration": 27,
        "start_time": "2021-12-17T09:50:51.467Z"
      },
      {
        "duration": 19926,
        "start_time": "2021-12-17T09:50:51.496Z"
      },
      {
        "duration": 7,
        "start_time": "2021-12-17T09:51:11.424Z"
      },
      {
        "duration": 481,
        "start_time": "2021-12-17T09:51:11.433Z"
      },
      {
        "duration": 7,
        "start_time": "2021-12-17T09:51:11.916Z"
      },
      {
        "duration": 17,
        "start_time": "2021-12-17T09:51:11.925Z"
      },
      {
        "duration": 51,
        "start_time": "2021-12-17T09:51:11.943Z"
      },
      {
        "duration": 9,
        "start_time": "2021-12-17T09:51:11.996Z"
      },
      {
        "duration": 20,
        "start_time": "2021-12-17T09:51:12.007Z"
      },
      {
        "duration": 6,
        "start_time": "2021-12-17T09:51:12.029Z"
      },
      {
        "duration": 3,
        "start_time": "2021-12-17T09:51:12.037Z"
      },
      {
        "duration": 66,
        "start_time": "2021-12-17T09:51:12.042Z"
      },
      {
        "duration": 7,
        "start_time": "2021-12-17T09:51:12.109Z"
      },
      {
        "duration": 194,
        "start_time": "2021-12-17T09:56:43.861Z"
      },
      {
        "duration": 4557,
        "start_time": "2021-12-17T10:01:41.020Z"
      },
      {
        "duration": 20,
        "start_time": "2021-12-17T10:01:59.651Z"
      },
      {
        "duration": 19,
        "start_time": "2021-12-17T10:02:08.240Z"
      },
      {
        "duration": 23,
        "start_time": "2021-12-17T10:03:37.832Z"
      },
      {
        "duration": 20311,
        "start_time": "2021-12-17T10:04:21.473Z"
      },
      {
        "duration": 77,
        "start_time": "2021-12-17T10:05:08.975Z"
      },
      {
        "duration": 38,
        "start_time": "2021-12-17T10:05:09.055Z"
      },
      {
        "duration": 17,
        "start_time": "2021-12-17T10:05:09.095Z"
      },
      {
        "duration": 37,
        "start_time": "2021-12-17T10:05:09.114Z"
      },
      {
        "duration": 4,
        "start_time": "2021-12-17T10:05:09.153Z"
      },
      {
        "duration": 9,
        "start_time": "2021-12-17T10:05:09.191Z"
      },
      {
        "duration": 5,
        "start_time": "2021-12-17T10:05:09.202Z"
      },
      {
        "duration": 12,
        "start_time": "2021-12-17T10:05:09.209Z"
      },
      {
        "duration": 4,
        "start_time": "2021-12-17T10:05:09.224Z"
      },
      {
        "duration": 11,
        "start_time": "2021-12-17T10:05:09.230Z"
      },
      {
        "duration": 4,
        "start_time": "2021-12-17T10:05:09.243Z"
      },
      {
        "duration": 52,
        "start_time": "2021-12-17T10:05:09.249Z"
      },
      {
        "duration": 15,
        "start_time": "2021-12-17T10:05:09.303Z"
      },
      {
        "duration": 25,
        "start_time": "2021-12-17T10:05:09.320Z"
      },
      {
        "duration": 58,
        "start_time": "2021-12-17T10:05:09.347Z"
      },
      {
        "duration": 5,
        "start_time": "2021-12-17T10:05:09.409Z"
      },
      {
        "duration": 15,
        "start_time": "2021-12-17T10:05:09.416Z"
      },
      {
        "duration": 32,
        "start_time": "2021-12-17T10:05:09.433Z"
      },
      {
        "duration": 26,
        "start_time": "2021-12-17T10:05:09.467Z"
      },
      {
        "duration": 23,
        "start_time": "2021-12-17T10:05:09.495Z"
      },
      {
        "duration": 18,
        "start_time": "2021-12-17T10:05:09.520Z"
      },
      {
        "duration": 21,
        "start_time": "2021-12-17T10:05:09.540Z"
      },
      {
        "duration": 31,
        "start_time": "2021-12-17T10:05:09.563Z"
      },
      {
        "duration": 21,
        "start_time": "2021-12-17T10:05:09.596Z"
      },
      {
        "duration": 11,
        "start_time": "2021-12-17T10:05:09.619Z"
      },
      {
        "duration": 16,
        "start_time": "2021-12-17T10:05:09.632Z"
      },
      {
        "duration": 27,
        "start_time": "2021-12-17T10:05:09.649Z"
      },
      {
        "duration": 24,
        "start_time": "2021-12-17T10:05:09.679Z"
      },
      {
        "duration": 24,
        "start_time": "2021-12-17T10:05:09.705Z"
      },
      {
        "duration": 19,
        "start_time": "2021-12-17T10:05:09.731Z"
      },
      {
        "duration": 21,
        "start_time": "2021-12-17T10:05:09.752Z"
      },
      {
        "duration": 15,
        "start_time": "2021-12-17T10:05:09.775Z"
      },
      {
        "duration": 15,
        "start_time": "2021-12-17T10:05:09.792Z"
      },
      {
        "duration": 15,
        "start_time": "2021-12-17T10:05:09.808Z"
      },
      {
        "duration": 5,
        "start_time": "2021-12-17T10:05:09.825Z"
      },
      {
        "duration": 7,
        "start_time": "2021-12-17T10:05:09.832Z"
      },
      {
        "duration": 7,
        "start_time": "2021-12-17T10:05:09.841Z"
      },
      {
        "duration": 42,
        "start_time": "2021-12-17T10:05:09.850Z"
      },
      {
        "duration": 8,
        "start_time": "2021-12-17T10:05:09.894Z"
      },
      {
        "duration": 5,
        "start_time": "2021-12-17T10:05:09.904Z"
      },
      {
        "duration": 721,
        "start_time": "2021-12-17T10:05:09.911Z"
      },
      {
        "duration": 4,
        "start_time": "2021-12-17T10:05:10.634Z"
      },
      {
        "duration": 7,
        "start_time": "2021-12-17T10:05:10.640Z"
      },
      {
        "duration": 11,
        "start_time": "2021-12-17T10:05:31.787Z"
      },
      {
        "duration": 370,
        "start_time": "2021-12-17T10:05:31.800Z"
      },
      {
        "duration": 18,
        "start_time": "2021-12-17T10:05:32.174Z"
      },
      {
        "duration": 19,
        "start_time": "2021-12-17T10:05:32.195Z"
      },
      {
        "duration": 24,
        "start_time": "2021-12-17T10:05:32.216Z"
      },
      {
        "duration": 11,
        "start_time": "2021-12-17T10:05:32.243Z"
      },
      {
        "duration": 55,
        "start_time": "2021-12-17T10:05:32.256Z"
      },
      {
        "duration": 6,
        "start_time": "2021-12-17T10:05:32.313Z"
      },
      {
        "duration": 4,
        "start_time": "2021-12-17T10:05:32.321Z"
      },
      {
        "duration": 26,
        "start_time": "2021-12-17T10:05:32.327Z"
      },
      {
        "duration": 45,
        "start_time": "2021-12-17T10:05:32.356Z"
      },
      {
        "duration": 22,
        "start_time": "2021-12-17T10:05:32.403Z"
      },
      {
        "duration": 20445,
        "start_time": "2021-12-17T10:05:32.427Z"
      },
      {
        "duration": 25,
        "start_time": "2021-12-17T10:06:36.021Z"
      },
      {
        "duration": 8,
        "start_time": "2021-12-17T10:08:28.710Z"
      },
      {
        "duration": 21,
        "start_time": "2021-12-17T10:10:54.996Z"
      },
      {
        "duration": 21,
        "start_time": "2021-12-17T10:11:04.340Z"
      },
      {
        "duration": 21,
        "start_time": "2021-12-17T10:11:18.670Z"
      },
      {
        "duration": 25,
        "start_time": "2021-12-17T10:11:24.582Z"
      },
      {
        "duration": 21,
        "start_time": "2021-12-17T10:11:31.194Z"
      },
      {
        "duration": 59,
        "start_time": "2021-12-17T10:30:23.555Z"
      },
      {
        "duration": 62,
        "start_time": "2021-12-17T10:30:32.137Z"
      },
      {
        "duration": 13,
        "start_time": "2021-12-17T10:30:32.201Z"
      },
      {
        "duration": 13,
        "start_time": "2021-12-17T10:30:32.215Z"
      },
      {
        "duration": 69,
        "start_time": "2021-12-17T10:30:32.231Z"
      },
      {
        "duration": 4,
        "start_time": "2021-12-17T10:30:32.302Z"
      },
      {
        "duration": 9,
        "start_time": "2021-12-17T10:30:32.307Z"
      },
      {
        "duration": 4,
        "start_time": "2021-12-17T10:30:32.318Z"
      },
      {
        "duration": 10,
        "start_time": "2021-12-17T10:30:32.324Z"
      },
      {
        "duration": 3,
        "start_time": "2021-12-17T10:30:32.336Z"
      },
      {
        "duration": 60,
        "start_time": "2021-12-17T10:30:32.341Z"
      },
      {
        "duration": 5,
        "start_time": "2021-12-17T10:30:32.402Z"
      },
      {
        "duration": 14,
        "start_time": "2021-12-17T10:30:32.408Z"
      },
      {
        "duration": 13,
        "start_time": "2021-12-17T10:30:32.424Z"
      },
      {
        "duration": 70,
        "start_time": "2021-12-17T10:30:32.439Z"
      },
      {
        "duration": 16,
        "start_time": "2021-12-17T10:30:32.510Z"
      },
      {
        "duration": 4,
        "start_time": "2021-12-17T10:30:32.527Z"
      },
      {
        "duration": 5,
        "start_time": "2021-12-17T10:30:32.533Z"
      },
      {
        "duration": 56,
        "start_time": "2021-12-17T10:30:32.539Z"
      },
      {
        "duration": 7,
        "start_time": "2021-12-17T10:30:32.597Z"
      },
      {
        "duration": 18,
        "start_time": "2021-12-17T10:30:32.606Z"
      },
      {
        "duration": 17,
        "start_time": "2021-12-17T10:30:32.625Z"
      },
      {
        "duration": 57,
        "start_time": "2021-12-17T10:30:32.643Z"
      },
      {
        "duration": 5,
        "start_time": "2021-12-17T10:30:32.703Z"
      },
      {
        "duration": 4,
        "start_time": "2021-12-17T10:30:32.710Z"
      },
      {
        "duration": 6,
        "start_time": "2021-12-17T10:30:32.715Z"
      },
      {
        "duration": 7,
        "start_time": "2021-12-17T10:30:32.723Z"
      },
      {
        "duration": 5,
        "start_time": "2021-12-17T10:30:32.732Z"
      },
      {
        "duration": 12,
        "start_time": "2021-12-17T10:30:32.792Z"
      },
      {
        "duration": 26,
        "start_time": "2021-12-17T10:30:32.806Z"
      },
      {
        "duration": 6,
        "start_time": "2021-12-17T10:30:32.833Z"
      },
      {
        "duration": 10,
        "start_time": "2021-12-17T10:30:32.841Z"
      },
      {
        "duration": 7,
        "start_time": "2021-12-17T10:30:32.892Z"
      },
      {
        "duration": 9,
        "start_time": "2021-12-17T10:30:32.902Z"
      },
      {
        "duration": 6,
        "start_time": "2021-12-17T10:30:32.913Z"
      },
      {
        "duration": 5,
        "start_time": "2021-12-17T10:30:32.921Z"
      },
      {
        "duration": 8,
        "start_time": "2021-12-17T10:30:32.928Z"
      },
      {
        "duration": 58,
        "start_time": "2021-12-17T10:30:32.938Z"
      },
      {
        "duration": 7,
        "start_time": "2021-12-17T10:30:32.998Z"
      },
      {
        "duration": 6,
        "start_time": "2021-12-17T10:30:33.007Z"
      },
      {
        "duration": 3,
        "start_time": "2021-12-17T10:30:33.015Z"
      },
      {
        "duration": 712,
        "start_time": "2021-12-17T10:30:33.021Z"
      },
      {
        "duration": 3,
        "start_time": "2021-12-17T10:30:33.736Z"
      },
      {
        "duration": 7,
        "start_time": "2021-12-17T10:30:33.741Z"
      },
      {
        "duration": 20804,
        "start_time": "2021-12-17T10:30:33.750Z"
      },
      {
        "duration": 7,
        "start_time": "2021-12-17T10:30:54.556Z"
      },
      {
        "duration": 29,
        "start_time": "2021-12-17T10:30:54.565Z"
      },
      {
        "duration": 380,
        "start_time": "2021-12-17T10:30:54.596Z"
      },
      {
        "duration": 7,
        "start_time": "2021-12-17T10:30:54.978Z"
      },
      {
        "duration": 13,
        "start_time": "2021-12-17T10:30:54.991Z"
      },
      {
        "duration": 29,
        "start_time": "2021-12-17T10:30:55.006Z"
      },
      {
        "duration": 9,
        "start_time": "2021-12-17T10:30:55.037Z"
      },
      {
        "duration": 57,
        "start_time": "2021-12-17T10:30:55.048Z"
      },
      {
        "duration": 6,
        "start_time": "2021-12-17T10:30:55.107Z"
      },
      {
        "duration": 5,
        "start_time": "2021-12-17T10:30:55.115Z"
      },
      {
        "duration": 21,
        "start_time": "2021-12-17T10:30:55.122Z"
      },
      {
        "duration": 11,
        "start_time": "2021-12-17T10:30:55.145Z"
      },
      {
        "duration": 64,
        "start_time": "2021-12-17T10:30:55.158Z"
      },
      {
        "duration": 26,
        "start_time": "2021-12-17T10:30:55.223Z"
      },
      {
        "duration": 60,
        "start_time": "2021-12-17T10:32:43.087Z"
      },
      {
        "duration": 12,
        "start_time": "2021-12-17T10:39:17.401Z"
      },
      {
        "duration": 32,
        "start_time": "2021-12-17T10:39:51.342Z"
      },
      {
        "duration": 20935,
        "start_time": "2021-12-17T10:48:59.049Z"
      },
      {
        "duration": 60,
        "start_time": "2021-12-17T10:49:53.709Z"
      },
      {
        "duration": 13,
        "start_time": "2021-12-17T10:49:53.770Z"
      },
      {
        "duration": 12,
        "start_time": "2021-12-17T10:49:53.785Z"
      },
      {
        "duration": 31,
        "start_time": "2021-12-17T10:49:53.799Z"
      },
      {
        "duration": 4,
        "start_time": "2021-12-17T10:49:53.832Z"
      },
      {
        "duration": 9,
        "start_time": "2021-12-17T10:49:53.838Z"
      },
      {
        "duration": 4,
        "start_time": "2021-12-17T10:49:53.849Z"
      },
      {
        "duration": 40,
        "start_time": "2021-12-17T10:49:53.855Z"
      },
      {
        "duration": 5,
        "start_time": "2021-12-17T10:49:53.896Z"
      },
      {
        "duration": 12,
        "start_time": "2021-12-17T10:49:53.903Z"
      },
      {
        "duration": 5,
        "start_time": "2021-12-17T10:49:53.918Z"
      },
      {
        "duration": 11,
        "start_time": "2021-12-17T10:49:53.925Z"
      },
      {
        "duration": 15,
        "start_time": "2021-12-17T10:49:53.938Z"
      },
      {
        "duration": 52,
        "start_time": "2021-12-17T10:49:53.954Z"
      },
      {
        "duration": 17,
        "start_time": "2021-12-17T10:49:54.007Z"
      },
      {
        "duration": 5,
        "start_time": "2021-12-17T10:49:54.026Z"
      },
      {
        "duration": 6,
        "start_time": "2021-12-17T10:49:54.033Z"
      },
      {
        "duration": 14,
        "start_time": "2021-12-17T10:49:54.040Z"
      },
      {
        "duration": 37,
        "start_time": "2021-12-17T10:49:54.056Z"
      },
      {
        "duration": 18,
        "start_time": "2021-12-17T10:49:54.095Z"
      },
      {
        "duration": 18,
        "start_time": "2021-12-17T10:49:54.115Z"
      },
      {
        "duration": 14,
        "start_time": "2021-12-17T10:49:54.135Z"
      },
      {
        "duration": 4,
        "start_time": "2021-12-17T10:49:54.151Z"
      },
      {
        "duration": 36,
        "start_time": "2021-12-17T10:49:54.158Z"
      },
      {
        "duration": 6,
        "start_time": "2021-12-17T10:49:54.196Z"
      },
      {
        "duration": 9,
        "start_time": "2021-12-17T10:49:54.203Z"
      },
      {
        "duration": 10,
        "start_time": "2021-12-17T10:49:54.214Z"
      },
      {
        "duration": 12,
        "start_time": "2021-12-17T10:49:54.225Z"
      },
      {
        "duration": 12,
        "start_time": "2021-12-17T10:49:54.239Z"
      },
      {
        "duration": 39,
        "start_time": "2021-12-17T10:49:54.253Z"
      },
      {
        "duration": 9,
        "start_time": "2021-12-17T10:49:54.293Z"
      },
      {
        "duration": 5,
        "start_time": "2021-12-17T10:49:54.304Z"
      },
      {
        "duration": 15,
        "start_time": "2021-12-17T10:49:54.311Z"
      },
      {
        "duration": 6,
        "start_time": "2021-12-17T10:49:54.329Z"
      },
      {
        "duration": 7,
        "start_time": "2021-12-17T10:49:54.337Z"
      },
      {
        "duration": 9,
        "start_time": "2021-12-17T10:49:54.346Z"
      },
      {
        "duration": 36,
        "start_time": "2021-12-17T10:49:54.356Z"
      },
      {
        "duration": 6,
        "start_time": "2021-12-17T10:49:54.394Z"
      },
      {
        "duration": 6,
        "start_time": "2021-12-17T10:49:54.402Z"
      },
      {
        "duration": 4,
        "start_time": "2021-12-17T10:49:54.409Z"
      },
      {
        "duration": 753,
        "start_time": "2021-12-17T10:49:54.414Z"
      },
      {
        "duration": 4,
        "start_time": "2021-12-17T10:49:55.169Z"
      },
      {
        "duration": 17,
        "start_time": "2021-12-17T10:49:55.175Z"
      },
      {
        "duration": 20897,
        "start_time": "2021-12-17T10:49:55.196Z"
      },
      {
        "duration": 7,
        "start_time": "2021-12-17T10:50:16.095Z"
      },
      {
        "duration": 8,
        "start_time": "2021-12-17T10:50:16.104Z"
      },
      {
        "duration": 378,
        "start_time": "2021-12-17T10:50:16.114Z"
      },
      {
        "duration": 9,
        "start_time": "2021-12-17T10:50:16.494Z"
      },
      {
        "duration": 14,
        "start_time": "2021-12-17T10:50:16.505Z"
      },
      {
        "duration": 21,
        "start_time": "2021-12-17T10:50:16.521Z"
      },
      {
        "duration": 9,
        "start_time": "2021-12-17T10:50:16.544Z"
      },
      {
        "duration": 53,
        "start_time": "2021-12-17T10:50:16.555Z"
      },
      {
        "duration": 6,
        "start_time": "2021-12-17T10:50:16.610Z"
      },
      {
        "duration": 4,
        "start_time": "2021-12-17T10:50:16.618Z"
      },
      {
        "duration": 22,
        "start_time": "2021-12-17T10:50:16.623Z"
      },
      {
        "duration": 8,
        "start_time": "2021-12-17T10:50:16.647Z"
      },
      {
        "duration": 58,
        "start_time": "2021-12-17T10:50:16.657Z"
      },
      {
        "duration": 20,
        "start_time": "2021-12-17T10:50:16.717Z"
      },
      {
        "duration": 20778,
        "start_time": "2021-12-17T10:53:17.849Z"
      },
      {
        "duration": 61,
        "start_time": "2021-12-17T10:54:34.487Z"
      },
      {
        "duration": 12,
        "start_time": "2021-12-17T10:54:34.549Z"
      },
      {
        "duration": 13,
        "start_time": "2021-12-17T10:54:34.563Z"
      },
      {
        "duration": 40,
        "start_time": "2021-12-17T10:54:34.578Z"
      },
      {
        "duration": 4,
        "start_time": "2021-12-17T10:54:34.620Z"
      },
      {
        "duration": 8,
        "start_time": "2021-12-17T10:54:34.626Z"
      },
      {
        "duration": 3,
        "start_time": "2021-12-17T10:54:34.636Z"
      },
      {
        "duration": 11,
        "start_time": "2021-12-17T10:54:34.641Z"
      },
      {
        "duration": 39,
        "start_time": "2021-12-17T10:54:34.654Z"
      },
      {
        "duration": 10,
        "start_time": "2021-12-17T10:54:34.696Z"
      },
      {
        "duration": 5,
        "start_time": "2021-12-17T10:54:34.707Z"
      },
      {
        "duration": 15,
        "start_time": "2021-12-17T10:54:34.713Z"
      },
      {
        "duration": 14,
        "start_time": "2021-12-17T10:54:34.730Z"
      },
      {
        "duration": 16,
        "start_time": "2021-12-17T10:54:34.745Z"
      },
      {
        "duration": 16,
        "start_time": "2021-12-17T10:54:34.792Z"
      },
      {
        "duration": 5,
        "start_time": "2021-12-17T10:54:34.810Z"
      },
      {
        "duration": 7,
        "start_time": "2021-12-17T10:54:34.817Z"
      },
      {
        "duration": 17,
        "start_time": "2021-12-17T10:54:34.826Z"
      },
      {
        "duration": 9,
        "start_time": "2021-12-17T10:54:34.845Z"
      },
      {
        "duration": 53,
        "start_time": "2021-12-17T10:54:34.856Z"
      },
      {
        "duration": 18,
        "start_time": "2021-12-17T10:54:34.911Z"
      },
      {
        "duration": 14,
        "start_time": "2021-12-17T10:54:34.931Z"
      },
      {
        "duration": 5,
        "start_time": "2021-12-17T10:54:34.947Z"
      },
      {
        "duration": 4,
        "start_time": "2021-12-17T10:54:34.953Z"
      },
      {
        "duration": 37,
        "start_time": "2021-12-17T10:54:34.958Z"
      },
      {
        "duration": 8,
        "start_time": "2021-12-17T10:54:34.998Z"
      },
      {
        "duration": 8,
        "start_time": "2021-12-17T10:54:35.007Z"
      },
      {
        "duration": 12,
        "start_time": "2021-12-17T10:54:35.016Z"
      },
      {
        "duration": 15,
        "start_time": "2021-12-17T10:54:35.029Z"
      },
      {
        "duration": 5,
        "start_time": "2021-12-17T10:54:35.046Z"
      },
      {
        "duration": 43,
        "start_time": "2021-12-17T10:54:35.053Z"
      },
      {
        "duration": 6,
        "start_time": "2021-12-17T10:54:35.097Z"
      },
      {
        "duration": 10,
        "start_time": "2021-12-17T10:54:35.105Z"
      },
      {
        "duration": 5,
        "start_time": "2021-12-17T10:54:35.117Z"
      },
      {
        "duration": 4,
        "start_time": "2021-12-17T10:54:35.124Z"
      },
      {
        "duration": 6,
        "start_time": "2021-12-17T10:54:35.129Z"
      },
      {
        "duration": 9,
        "start_time": "2021-12-17T10:54:35.137Z"
      },
      {
        "duration": 46,
        "start_time": "2021-12-17T10:54:35.148Z"
      },
      {
        "duration": 7,
        "start_time": "2021-12-17T10:54:35.196Z"
      },
      {
        "duration": 4,
        "start_time": "2021-12-17T10:54:35.204Z"
      },
      {
        "duration": 716,
        "start_time": "2021-12-17T10:54:35.209Z"
      },
      {
        "duration": 4,
        "start_time": "2021-12-17T10:54:35.927Z"
      },
      {
        "duration": 7,
        "start_time": "2021-12-17T10:54:35.934Z"
      },
      {
        "duration": 20670,
        "start_time": "2021-12-17T10:54:35.943Z"
      },
      {
        "duration": 8,
        "start_time": "2021-12-17T10:54:56.614Z"
      },
      {
        "duration": 8,
        "start_time": "2021-12-17T10:54:56.624Z"
      },
      {
        "duration": 375,
        "start_time": "2021-12-17T10:54:56.634Z"
      },
      {
        "duration": 8,
        "start_time": "2021-12-17T10:54:57.011Z"
      },
      {
        "duration": 10,
        "start_time": "2021-12-17T10:54:57.022Z"
      },
      {
        "duration": 22,
        "start_time": "2021-12-17T10:54:57.034Z"
      },
      {
        "duration": 37,
        "start_time": "2021-12-17T10:54:57.057Z"
      },
      {
        "duration": 20,
        "start_time": "2021-12-17T10:54:57.096Z"
      },
      {
        "duration": 6,
        "start_time": "2021-12-17T10:54:57.118Z"
      },
      {
        "duration": 5,
        "start_time": "2021-12-17T10:54:57.125Z"
      },
      {
        "duration": 21,
        "start_time": "2021-12-17T10:54:57.131Z"
      },
      {
        "duration": 7,
        "start_time": "2021-12-17T10:54:57.154Z"
      },
      {
        "duration": 24,
        "start_time": "2021-12-17T10:54:57.192Z"
      },
      {
        "duration": 18,
        "start_time": "2021-12-17T10:54:57.218Z"
      },
      {
        "duration": 20768,
        "start_time": "2021-12-17T10:55:12.667Z"
      },
      {
        "duration": 65,
        "start_time": "2021-12-17T10:55:52.480Z"
      },
      {
        "duration": 44,
        "start_time": "2021-12-17T10:55:52.547Z"
      },
      {
        "duration": 14,
        "start_time": "2021-12-17T10:55:52.594Z"
      },
      {
        "duration": 36,
        "start_time": "2021-12-17T10:55:52.610Z"
      },
      {
        "duration": 8,
        "start_time": "2021-12-17T10:55:52.648Z"
      },
      {
        "duration": 36,
        "start_time": "2021-12-17T10:55:52.659Z"
      },
      {
        "duration": 4,
        "start_time": "2021-12-17T10:55:52.697Z"
      },
      {
        "duration": 12,
        "start_time": "2021-12-17T10:55:52.703Z"
      },
      {
        "duration": 4,
        "start_time": "2021-12-17T10:55:52.719Z"
      },
      {
        "duration": 11,
        "start_time": "2021-12-17T10:55:52.726Z"
      },
      {
        "duration": 9,
        "start_time": "2021-12-17T10:55:52.738Z"
      },
      {
        "duration": 56,
        "start_time": "2021-12-17T10:55:52.749Z"
      },
      {
        "duration": 15,
        "start_time": "2021-12-17T10:55:52.807Z"
      },
      {
        "duration": 18,
        "start_time": "2021-12-17T10:55:52.824Z"
      },
      {
        "duration": 53,
        "start_time": "2021-12-17T10:55:52.844Z"
      },
      {
        "duration": 6,
        "start_time": "2021-12-17T10:55:52.900Z"
      },
      {
        "duration": 5,
        "start_time": "2021-12-17T10:55:52.908Z"
      },
      {
        "duration": 18,
        "start_time": "2021-12-17T10:55:52.914Z"
      },
      {
        "duration": 8,
        "start_time": "2021-12-17T10:55:52.934Z"
      },
      {
        "duration": 59,
        "start_time": "2021-12-17T10:55:52.945Z"
      },
      {
        "duration": 18,
        "start_time": "2021-12-17T10:55:53.006Z"
      },
      {
        "duration": 15,
        "start_time": "2021-12-17T10:55:53.026Z"
      },
      {
        "duration": 4,
        "start_time": "2021-12-17T10:55:53.043Z"
      },
      {
        "duration": 4,
        "start_time": "2021-12-17T10:55:53.049Z"
      },
      {
        "duration": 41,
        "start_time": "2021-12-17T10:55:53.055Z"
      },
      {
        "duration": 10,
        "start_time": "2021-12-17T10:55:53.098Z"
      },
      {
        "duration": 5,
        "start_time": "2021-12-17T10:55:53.112Z"
      },
      {
        "duration": 11,
        "start_time": "2021-12-17T10:55:53.120Z"
      },
      {
        "duration": 16,
        "start_time": "2021-12-17T10:55:53.132Z"
      },
      {
        "duration": 44,
        "start_time": "2021-12-17T10:55:53.149Z"
      },
      {
        "duration": 12,
        "start_time": "2021-12-17T10:55:53.195Z"
      },
      {
        "duration": 6,
        "start_time": "2021-12-17T10:55:53.209Z"
      },
      {
        "duration": 9,
        "start_time": "2021-12-17T10:55:53.216Z"
      },
      {
        "duration": 7,
        "start_time": "2021-12-17T10:55:53.226Z"
      },
      {
        "duration": 5,
        "start_time": "2021-12-17T10:55:53.234Z"
      },
      {
        "duration": 5,
        "start_time": "2021-12-17T10:55:53.241Z"
      },
      {
        "duration": 44,
        "start_time": "2021-12-17T10:55:53.248Z"
      },
      {
        "duration": 8,
        "start_time": "2021-12-17T10:55:53.294Z"
      },
      {
        "duration": 8,
        "start_time": "2021-12-17T10:55:53.304Z"
      },
      {
        "duration": 5,
        "start_time": "2021-12-17T10:55:53.313Z"
      },
      {
        "duration": 778,
        "start_time": "2021-12-17T10:55:53.321Z"
      },
      {
        "duration": 4,
        "start_time": "2021-12-17T10:55:54.101Z"
      },
      {
        "duration": 8,
        "start_time": "2021-12-17T10:55:54.107Z"
      },
      {
        "duration": 20731,
        "start_time": "2021-12-17T10:55:54.116Z"
      },
      {
        "duration": 7,
        "start_time": "2021-12-17T10:56:14.849Z"
      },
      {
        "duration": 10,
        "start_time": "2021-12-17T10:56:14.858Z"
      },
      {
        "duration": 368,
        "start_time": "2021-12-17T10:56:14.869Z"
      },
      {
        "duration": 8,
        "start_time": "2021-12-17T10:56:15.239Z"
      },
      {
        "duration": 12,
        "start_time": "2021-12-17T10:56:15.248Z"
      },
      {
        "duration": 45,
        "start_time": "2021-12-17T10:56:15.262Z"
      },
      {
        "duration": 9,
        "start_time": "2021-12-17T10:56:15.309Z"
      },
      {
        "duration": 20,
        "start_time": "2021-12-17T10:56:15.319Z"
      },
      {
        "duration": 5,
        "start_time": "2021-12-17T10:56:15.341Z"
      },
      {
        "duration": 11,
        "start_time": "2021-12-17T10:56:15.348Z"
      },
      {
        "duration": 46,
        "start_time": "2021-12-17T10:56:15.361Z"
      },
      {
        "duration": 7,
        "start_time": "2021-12-17T10:56:15.409Z"
      },
      {
        "duration": 21,
        "start_time": "2021-12-17T10:56:15.418Z"
      },
      {
        "duration": 18,
        "start_time": "2021-12-17T10:56:15.443Z"
      },
      {
        "duration": 20410,
        "start_time": "2021-12-17T10:56:53.281Z"
      },
      {
        "duration": 20620,
        "start_time": "2021-12-17T10:57:38.430Z"
      },
      {
        "duration": 60,
        "start_time": "2021-12-17T10:58:35.822Z"
      },
      {
        "duration": 15,
        "start_time": "2021-12-17T10:58:35.884Z"
      },
      {
        "duration": 19,
        "start_time": "2021-12-17T10:58:35.901Z"
      },
      {
        "duration": 51,
        "start_time": "2021-12-17T10:58:35.922Z"
      },
      {
        "duration": 5,
        "start_time": "2021-12-17T10:58:35.975Z"
      },
      {
        "duration": 36,
        "start_time": "2021-12-17T10:58:35.991Z"
      },
      {
        "duration": 18,
        "start_time": "2021-12-17T10:58:36.030Z"
      },
      {
        "duration": 11,
        "start_time": "2021-12-17T10:58:36.051Z"
      },
      {
        "duration": 6,
        "start_time": "2021-12-17T10:58:36.064Z"
      },
      {
        "duration": 21,
        "start_time": "2021-12-17T10:58:36.072Z"
      },
      {
        "duration": 9,
        "start_time": "2021-12-17T10:58:36.095Z"
      },
      {
        "duration": 29,
        "start_time": "2021-12-17T10:58:36.106Z"
      },
      {
        "duration": 16,
        "start_time": "2021-12-17T10:58:36.136Z"
      },
      {
        "duration": 28,
        "start_time": "2021-12-17T10:58:36.153Z"
      },
      {
        "duration": 15,
        "start_time": "2021-12-17T10:58:36.183Z"
      },
      {
        "duration": 11,
        "start_time": "2021-12-17T10:58:36.200Z"
      },
      {
        "duration": 11,
        "start_time": "2021-12-17T10:58:36.213Z"
      },
      {
        "duration": 22,
        "start_time": "2021-12-17T10:58:36.226Z"
      },
      {
        "duration": 27,
        "start_time": "2021-12-17T10:58:36.249Z"
      },
      {
        "duration": 38,
        "start_time": "2021-12-17T10:58:36.278Z"
      },
      {
        "duration": 21,
        "start_time": "2021-12-17T10:58:36.318Z"
      },
      {
        "duration": 22,
        "start_time": "2021-12-17T10:58:36.343Z"
      },
      {
        "duration": 23,
        "start_time": "2021-12-17T10:58:36.368Z"
      },
      {
        "duration": 18,
        "start_time": "2021-12-17T10:58:36.393Z"
      },
      {
        "duration": 17,
        "start_time": "2021-12-17T10:58:36.412Z"
      },
      {
        "duration": 22,
        "start_time": "2021-12-17T10:58:36.430Z"
      },
      {
        "duration": 25,
        "start_time": "2021-12-17T10:58:36.454Z"
      },
      {
        "duration": 30,
        "start_time": "2021-12-17T10:58:36.481Z"
      },
      {
        "duration": 33,
        "start_time": "2021-12-17T10:58:36.513Z"
      },
      {
        "duration": 15,
        "start_time": "2021-12-17T10:58:36.547Z"
      },
      {
        "duration": 28,
        "start_time": "2021-12-17T10:58:36.564Z"
      },
      {
        "duration": 10,
        "start_time": "2021-12-17T10:58:36.593Z"
      },
      {
        "duration": 26,
        "start_time": "2021-12-17T10:58:36.604Z"
      },
      {
        "duration": 12,
        "start_time": "2021-12-17T10:58:36.632Z"
      },
      {
        "duration": 13,
        "start_time": "2021-12-17T10:58:36.645Z"
      },
      {
        "duration": 27,
        "start_time": "2021-12-17T10:58:36.660Z"
      },
      {
        "duration": 15,
        "start_time": "2021-12-17T10:58:36.688Z"
      },
      {
        "duration": 16,
        "start_time": "2021-12-17T10:58:36.704Z"
      },
      {
        "duration": 21,
        "start_time": "2021-12-17T10:58:36.721Z"
      },
      {
        "duration": 22,
        "start_time": "2021-12-17T10:58:36.744Z"
      },
      {
        "duration": 723,
        "start_time": "2021-12-17T10:58:36.768Z"
      },
      {
        "duration": 4,
        "start_time": "2021-12-17T10:58:37.493Z"
      },
      {
        "duration": 9,
        "start_time": "2021-12-17T10:58:37.499Z"
      },
      {
        "duration": 20824,
        "start_time": "2021-12-17T10:58:37.509Z"
      },
      {
        "duration": 8,
        "start_time": "2021-12-17T10:58:58.334Z"
      },
      {
        "duration": 13,
        "start_time": "2021-12-17T10:58:58.344Z"
      },
      {
        "duration": 378,
        "start_time": "2021-12-17T10:58:58.358Z"
      },
      {
        "duration": 7,
        "start_time": "2021-12-17T10:58:58.737Z"
      },
      {
        "duration": 14,
        "start_time": "2021-12-17T10:58:58.746Z"
      },
      {
        "duration": 43,
        "start_time": "2021-12-17T10:58:58.762Z"
      },
      {
        "duration": 10,
        "start_time": "2021-12-17T10:58:58.807Z"
      },
      {
        "duration": 19,
        "start_time": "2021-12-17T10:58:58.819Z"
      },
      {
        "duration": 6,
        "start_time": "2021-12-17T10:58:58.839Z"
      },
      {
        "duration": 3,
        "start_time": "2021-12-17T10:58:58.846Z"
      },
      {
        "duration": 54,
        "start_time": "2021-12-17T10:58:58.851Z"
      },
      {
        "duration": 7,
        "start_time": "2021-12-17T10:58:58.907Z"
      },
      {
        "duration": 26,
        "start_time": "2021-12-17T10:58:58.915Z"
      },
      {
        "duration": 17,
        "start_time": "2021-12-17T10:58:58.942Z"
      },
      {
        "duration": 20619,
        "start_time": "2021-12-17T10:58:58.962Z"
      },
      {
        "duration": 21537,
        "start_time": "2021-12-17T11:00:10.844Z"
      },
      {
        "duration": 20793,
        "start_time": "2021-12-17T11:00:45.936Z"
      },
      {
        "duration": 41,
        "start_time": "2021-12-17T11:46:12.045Z"
      },
      {
        "duration": 61,
        "start_time": "2021-12-17T11:55:45.069Z"
      },
      {
        "duration": 12,
        "start_time": "2021-12-17T11:55:45.132Z"
      },
      {
        "duration": 12,
        "start_time": "2021-12-17T11:55:45.147Z"
      },
      {
        "duration": 57,
        "start_time": "2021-12-17T11:55:45.161Z"
      },
      {
        "duration": 4,
        "start_time": "2021-12-17T11:55:45.220Z"
      },
      {
        "duration": 8,
        "start_time": "2021-12-17T11:55:45.226Z"
      },
      {
        "duration": 4,
        "start_time": "2021-12-17T11:55:45.236Z"
      },
      {
        "duration": 11,
        "start_time": "2021-12-17T11:55:45.242Z"
      },
      {
        "duration": 39,
        "start_time": "2021-12-17T11:55:45.256Z"
      },
      {
        "duration": 13,
        "start_time": "2021-12-17T11:55:45.297Z"
      },
      {
        "duration": 4,
        "start_time": "2021-12-17T11:55:45.312Z"
      },
      {
        "duration": 12,
        "start_time": "2021-12-17T11:55:45.318Z"
      },
      {
        "duration": 15,
        "start_time": "2021-12-17T11:55:45.332Z"
      },
      {
        "duration": 45,
        "start_time": "2021-12-17T11:55:45.349Z"
      },
      {
        "duration": 15,
        "start_time": "2021-12-17T11:55:45.396Z"
      },
      {
        "duration": 4,
        "start_time": "2021-12-17T11:55:45.413Z"
      },
      {
        "duration": 5,
        "start_time": "2021-12-17T11:55:45.419Z"
      },
      {
        "duration": 11,
        "start_time": "2021-12-17T11:55:45.425Z"
      },
      {
        "duration": 8,
        "start_time": "2021-12-17T11:55:45.438Z"
      },
      {
        "duration": 55,
        "start_time": "2021-12-17T11:55:45.448Z"
      },
      {
        "duration": 16,
        "start_time": "2021-12-17T11:55:45.507Z"
      },
      {
        "duration": 14,
        "start_time": "2021-12-17T11:55:45.525Z"
      },
      {
        "duration": 5,
        "start_time": "2021-12-17T11:55:45.540Z"
      },
      {
        "duration": 19,
        "start_time": "2021-12-17T11:55:45.546Z"
      },
      {
        "duration": 25,
        "start_time": "2021-12-17T11:55:45.567Z"
      },
      {
        "duration": 16,
        "start_time": "2021-12-17T11:55:45.594Z"
      },
      {
        "duration": 15,
        "start_time": "2021-12-17T11:55:45.611Z"
      },
      {
        "duration": 20,
        "start_time": "2021-12-17T11:55:45.627Z"
      },
      {
        "duration": 19,
        "start_time": "2021-12-17T11:55:45.649Z"
      },
      {
        "duration": 11,
        "start_time": "2021-12-17T11:55:45.669Z"
      },
      {
        "duration": 18,
        "start_time": "2021-12-17T11:55:45.681Z"
      },
      {
        "duration": 11,
        "start_time": "2021-12-17T11:55:45.700Z"
      },
      {
        "duration": 29,
        "start_time": "2021-12-17T11:55:45.712Z"
      },
      {
        "duration": 12,
        "start_time": "2021-12-17T11:55:45.743Z"
      },
      {
        "duration": 14,
        "start_time": "2021-12-17T11:55:45.757Z"
      },
      {
        "duration": 11,
        "start_time": "2021-12-17T11:55:45.773Z"
      },
      {
        "duration": 10,
        "start_time": "2021-12-17T11:55:45.788Z"
      },
      {
        "duration": 10,
        "start_time": "2021-12-17T11:55:45.800Z"
      },
      {
        "duration": 12,
        "start_time": "2021-12-17T11:55:45.812Z"
      },
      {
        "duration": 5,
        "start_time": "2021-12-17T11:55:45.825Z"
      },
      {
        "duration": 731,
        "start_time": "2021-12-17T11:55:45.832Z"
      },
      {
        "duration": 4,
        "start_time": "2021-12-17T11:55:46.566Z"
      },
      {
        "duration": 49,
        "start_time": "2021-12-17T11:55:46.572Z"
      },
      {
        "duration": 20808,
        "start_time": "2021-12-17T11:55:46.624Z"
      },
      {
        "duration": 7,
        "start_time": "2021-12-17T11:56:07.434Z"
      },
      {
        "duration": 8,
        "start_time": "2021-12-17T11:56:07.443Z"
      },
      {
        "duration": 375,
        "start_time": "2021-12-17T11:56:07.453Z"
      },
      {
        "duration": 7,
        "start_time": "2021-12-17T11:56:07.829Z"
      },
      {
        "duration": 13,
        "start_time": "2021-12-17T11:56:07.838Z"
      },
      {
        "duration": 42,
        "start_time": "2021-12-17T11:56:07.853Z"
      },
      {
        "duration": 9,
        "start_time": "2021-12-17T11:56:07.897Z"
      },
      {
        "duration": 19,
        "start_time": "2021-12-17T11:56:07.908Z"
      },
      {
        "duration": 6,
        "start_time": "2021-12-17T11:56:07.928Z"
      },
      {
        "duration": 3,
        "start_time": "2021-12-17T11:56:07.936Z"
      },
      {
        "duration": 55,
        "start_time": "2021-12-17T11:56:07.941Z"
      },
      {
        "duration": 9,
        "start_time": "2021-12-17T11:56:07.999Z"
      },
      {
        "duration": 24,
        "start_time": "2021-12-17T11:56:08.010Z"
      },
      {
        "duration": 19,
        "start_time": "2021-12-17T11:56:08.036Z"
      },
      {
        "duration": 8,
        "start_time": "2021-12-17T13:00:08.687Z"
      },
      {
        "duration": 14,
        "start_time": "2021-12-17T13:02:47.533Z"
      },
      {
        "duration": 7,
        "start_time": "2021-12-17T13:02:59.720Z"
      },
      {
        "duration": 60,
        "start_time": "2021-12-17T13:23:11.154Z"
      },
      {
        "duration": 13,
        "start_time": "2021-12-17T13:23:11.216Z"
      },
      {
        "duration": 43,
        "start_time": "2021-12-17T13:23:11.231Z"
      },
      {
        "duration": 43,
        "start_time": "2021-12-17T13:23:11.277Z"
      },
      {
        "duration": 20,
        "start_time": "2021-12-17T13:23:11.322Z"
      },
      {
        "duration": 14,
        "start_time": "2021-12-17T13:23:11.344Z"
      },
      {
        "duration": 9,
        "start_time": "2021-12-17T13:23:11.360Z"
      },
      {
        "duration": 37,
        "start_time": "2021-12-17T13:23:11.371Z"
      },
      {
        "duration": 21,
        "start_time": "2021-12-17T13:23:11.411Z"
      },
      {
        "duration": 31,
        "start_time": "2021-12-17T13:23:11.434Z"
      },
      {
        "duration": 34,
        "start_time": "2021-12-17T13:23:11.467Z"
      },
      {
        "duration": 28,
        "start_time": "2021-12-17T13:23:11.503Z"
      },
      {
        "duration": 43,
        "start_time": "2021-12-17T13:23:11.533Z"
      },
      {
        "duration": 37,
        "start_time": "2021-12-17T13:23:11.578Z"
      },
      {
        "duration": 14,
        "start_time": "2021-12-17T13:23:11.617Z"
      },
      {
        "duration": 27,
        "start_time": "2021-12-17T13:23:11.632Z"
      },
      {
        "duration": 12,
        "start_time": "2021-12-17T13:23:11.661Z"
      },
      {
        "duration": 49,
        "start_time": "2021-12-17T13:23:11.675Z"
      },
      {
        "duration": 32,
        "start_time": "2021-12-17T13:23:11.725Z"
      },
      {
        "duration": 37,
        "start_time": "2021-12-17T13:23:11.758Z"
      },
      {
        "duration": 37,
        "start_time": "2021-12-17T13:23:11.796Z"
      },
      {
        "duration": 26,
        "start_time": "2021-12-17T13:23:11.835Z"
      },
      {
        "duration": 30,
        "start_time": "2021-12-17T13:23:11.864Z"
      },
      {
        "duration": 28,
        "start_time": "2021-12-17T13:23:11.896Z"
      },
      {
        "duration": 7,
        "start_time": "2021-12-17T13:23:11.926Z"
      },
      {
        "duration": 10,
        "start_time": "2021-12-17T13:23:11.934Z"
      },
      {
        "duration": 7,
        "start_time": "2021-12-17T13:23:11.945Z"
      },
      {
        "duration": 11,
        "start_time": "2021-12-17T13:23:11.953Z"
      },
      {
        "duration": 20,
        "start_time": "2021-12-17T13:23:11.966Z"
      },
      {
        "duration": 4,
        "start_time": "2021-12-17T13:23:11.992Z"
      },
      {
        "duration": 14,
        "start_time": "2021-12-17T13:23:11.998Z"
      },
      {
        "duration": 6,
        "start_time": "2021-12-17T13:23:12.014Z"
      },
      {
        "duration": 9,
        "start_time": "2021-12-17T13:23:12.021Z"
      },
      {
        "duration": 6,
        "start_time": "2021-12-17T13:23:12.032Z"
      },
      {
        "duration": 4,
        "start_time": "2021-12-17T13:23:12.039Z"
      },
      {
        "duration": 5,
        "start_time": "2021-12-17T13:23:12.045Z"
      },
      {
        "duration": 8,
        "start_time": "2021-12-17T13:23:12.092Z"
      },
      {
        "duration": 10,
        "start_time": "2021-12-17T13:23:12.101Z"
      },
      {
        "duration": 7,
        "start_time": "2021-12-17T13:23:12.112Z"
      },
      {
        "duration": 3,
        "start_time": "2021-12-17T13:23:12.121Z"
      },
      {
        "duration": 726,
        "start_time": "2021-12-17T13:23:12.126Z"
      },
      {
        "duration": 4,
        "start_time": "2021-12-17T13:23:12.854Z"
      },
      {
        "duration": 8,
        "start_time": "2021-12-17T13:23:12.859Z"
      },
      {
        "duration": 20535,
        "start_time": "2021-12-17T13:23:12.869Z"
      },
      {
        "duration": 7,
        "start_time": "2021-12-17T13:23:33.406Z"
      },
      {
        "duration": 10,
        "start_time": "2021-12-17T13:23:33.414Z"
      },
      {
        "duration": 372,
        "start_time": "2021-12-17T13:23:33.426Z"
      },
      {
        "duration": 8,
        "start_time": "2021-12-17T13:23:33.800Z"
      },
      {
        "duration": 22,
        "start_time": "2021-12-17T13:23:33.810Z"
      },
      {
        "duration": 22,
        "start_time": "2021-12-17T13:23:33.836Z"
      },
      {
        "duration": 34,
        "start_time": "2021-12-17T13:23:33.860Z"
      },
      {
        "duration": 20,
        "start_time": "2021-12-17T13:23:33.896Z"
      },
      {
        "duration": 6,
        "start_time": "2021-12-17T13:23:33.918Z"
      },
      {
        "duration": 6,
        "start_time": "2021-12-17T13:23:33.925Z"
      },
      {
        "duration": 20,
        "start_time": "2021-12-17T13:23:33.933Z"
      },
      {
        "duration": 40,
        "start_time": "2021-12-17T13:23:33.955Z"
      },
      {
        "duration": 30,
        "start_time": "2021-12-17T13:23:33.997Z"
      },
      {
        "duration": 22,
        "start_time": "2021-12-17T13:23:34.029Z"
      },
      {
        "duration": 7,
        "start_time": "2021-12-17T13:24:51.098Z"
      },
      {
        "duration": 64,
        "start_time": "2021-12-17T13:27:48.677Z"
      },
      {
        "duration": 13,
        "start_time": "2021-12-17T13:27:48.743Z"
      },
      {
        "duration": 34,
        "start_time": "2021-12-17T13:27:48.758Z"
      },
      {
        "duration": 34,
        "start_time": "2021-12-17T13:27:48.794Z"
      },
      {
        "duration": 4,
        "start_time": "2021-12-17T13:27:48.829Z"
      },
      {
        "duration": 8,
        "start_time": "2021-12-17T13:27:48.834Z"
      },
      {
        "duration": 4,
        "start_time": "2021-12-17T13:27:48.843Z"
      },
      {
        "duration": 43,
        "start_time": "2021-12-17T13:27:48.850Z"
      },
      {
        "duration": 5,
        "start_time": "2021-12-17T13:27:48.895Z"
      },
      {
        "duration": 14,
        "start_time": "2021-12-17T13:27:48.901Z"
      },
      {
        "duration": 10,
        "start_time": "2021-12-17T13:27:48.917Z"
      },
      {
        "duration": 12,
        "start_time": "2021-12-17T13:27:48.929Z"
      },
      {
        "duration": 16,
        "start_time": "2021-12-17T13:27:48.944Z"
      },
      {
        "duration": 48,
        "start_time": "2021-12-17T13:27:48.962Z"
      },
      {
        "duration": 16,
        "start_time": "2021-12-17T13:27:49.013Z"
      },
      {
        "duration": 5,
        "start_time": "2021-12-17T13:27:49.032Z"
      },
      {
        "duration": 5,
        "start_time": "2021-12-17T13:27:49.039Z"
      },
      {
        "duration": 54,
        "start_time": "2021-12-17T13:27:49.046Z"
      },
      {
        "duration": 8,
        "start_time": "2021-12-17T13:27:49.102Z"
      },
      {
        "duration": 16,
        "start_time": "2021-12-17T13:27:49.112Z"
      },
      {
        "duration": 17,
        "start_time": "2021-12-17T13:27:49.130Z"
      },
      {
        "duration": 51,
        "start_time": "2021-12-17T13:27:49.148Z"
      },
      {
        "duration": 7,
        "start_time": "2021-12-17T13:27:49.201Z"
      },
      {
        "duration": 6,
        "start_time": "2021-12-17T13:27:49.209Z"
      },
      {
        "duration": 6,
        "start_time": "2021-12-17T13:27:49.217Z"
      },
      {
        "duration": 9,
        "start_time": "2021-12-17T13:27:49.225Z"
      },
      {
        "duration": 5,
        "start_time": "2021-12-17T13:27:49.237Z"
      },
      {
        "duration": 58,
        "start_time": "2021-12-17T13:27:49.244Z"
      },
      {
        "duration": 16,
        "start_time": "2021-12-17T13:27:49.304Z"
      },
      {
        "duration": 7,
        "start_time": "2021-12-17T13:27:49.321Z"
      },
      {
        "duration": 12,
        "start_time": "2021-12-17T13:27:49.329Z"
      },
      {
        "duration": 5,
        "start_time": "2021-12-17T13:27:49.343Z"
      },
      {
        "duration": 9,
        "start_time": "2021-12-17T13:27:49.350Z"
      },
      {
        "duration": 37,
        "start_time": "2021-12-17T13:27:49.361Z"
      },
      {
        "duration": 5,
        "start_time": "2021-12-17T13:27:49.400Z"
      },
      {
        "duration": 5,
        "start_time": "2021-12-17T13:27:49.407Z"
      },
      {
        "duration": 10,
        "start_time": "2021-12-17T13:27:49.414Z"
      },
      {
        "duration": 6,
        "start_time": "2021-12-17T13:27:49.425Z"
      },
      {
        "duration": 6,
        "start_time": "2021-12-17T13:27:49.433Z"
      },
      {
        "duration": 3,
        "start_time": "2021-12-17T13:27:49.441Z"
      },
      {
        "duration": 730,
        "start_time": "2021-12-17T13:27:49.491Z"
      },
      {
        "duration": 4,
        "start_time": "2021-12-17T13:27:50.223Z"
      },
      {
        "duration": 6,
        "start_time": "2021-12-17T13:27:50.230Z"
      },
      {
        "duration": 21014,
        "start_time": "2021-12-17T13:27:50.238Z"
      },
      {
        "duration": 8,
        "start_time": "2021-12-17T13:28:11.254Z"
      },
      {
        "duration": 24,
        "start_time": "2021-12-17T13:28:11.264Z"
      },
      {
        "duration": 364,
        "start_time": "2021-12-17T13:28:11.290Z"
      },
      {
        "duration": 7,
        "start_time": "2021-12-17T13:28:11.655Z"
      },
      {
        "duration": 29,
        "start_time": "2021-12-17T13:28:11.664Z"
      },
      {
        "duration": 21,
        "start_time": "2021-12-17T13:28:11.694Z"
      },
      {
        "duration": 13,
        "start_time": "2021-12-17T13:28:11.717Z"
      },
      {
        "duration": 23,
        "start_time": "2021-12-17T13:28:11.732Z"
      },
      {
        "duration": 6,
        "start_time": "2021-12-17T13:28:11.756Z"
      },
      {
        "duration": 44,
        "start_time": "2021-12-17T13:28:11.764Z"
      },
      {
        "duration": 23,
        "start_time": "2021-12-17T13:28:11.809Z"
      },
      {
        "duration": 10,
        "start_time": "2021-12-17T13:28:11.834Z"
      },
      {
        "duration": 42,
        "start_time": "2021-12-17T13:28:11.846Z"
      },
      {
        "duration": 19,
        "start_time": "2021-12-17T13:28:11.890Z"
      },
      {
        "duration": 8520,
        "start_time": "2021-12-17T13:33:54.472Z"
      },
      {
        "duration": 8,
        "start_time": "2021-12-17T13:34:31.980Z"
      },
      {
        "duration": 9,
        "start_time": "2021-12-17T13:34:44.892Z"
      },
      {
        "duration": 9,
        "start_time": "2021-12-17T13:35:40.312Z"
      },
      {
        "duration": 4,
        "start_time": "2021-12-17T13:36:21.613Z"
      },
      {
        "duration": 9,
        "start_time": "2021-12-17T13:36:29.120Z"
      },
      {
        "duration": 21,
        "start_time": "2021-12-17T13:36:34.833Z"
      },
      {
        "duration": 6,
        "start_time": "2021-12-17T13:38:11.491Z"
      },
      {
        "duration": 7,
        "start_time": "2021-12-17T13:38:23.884Z"
      },
      {
        "duration": 9,
        "start_time": "2021-12-17T13:38:58.349Z"
      },
      {
        "duration": 10,
        "start_time": "2021-12-17T13:39:30.566Z"
      },
      {
        "duration": 6,
        "start_time": "2021-12-17T13:39:37.015Z"
      },
      {
        "duration": 8,
        "start_time": "2021-12-17T13:39:52.376Z"
      },
      {
        "duration": 176,
        "start_time": "2021-12-17T13:40:26.231Z"
      },
      {
        "duration": 7,
        "start_time": "2021-12-17T13:40:33.624Z"
      },
      {
        "duration": 9,
        "start_time": "2021-12-17T13:40:46.486Z"
      },
      {
        "duration": 4,
        "start_time": "2021-12-17T13:40:56.972Z"
      },
      {
        "duration": 8,
        "start_time": "2021-12-17T13:40:58.453Z"
      },
      {
        "duration": 18,
        "start_time": "2021-12-17T13:41:13.846Z"
      },
      {
        "duration": 62,
        "start_time": "2021-12-17T13:44:01.556Z"
      },
      {
        "duration": 13,
        "start_time": "2021-12-17T13:44:01.620Z"
      },
      {
        "duration": 13,
        "start_time": "2021-12-17T13:44:01.635Z"
      },
      {
        "duration": 57,
        "start_time": "2021-12-17T13:44:01.650Z"
      },
      {
        "duration": 3,
        "start_time": "2021-12-17T13:44:01.709Z"
      },
      {
        "duration": 9,
        "start_time": "2021-12-17T13:44:01.713Z"
      },
      {
        "duration": 8,
        "start_time": "2021-12-17T13:44:01.724Z"
      },
      {
        "duration": 14,
        "start_time": "2021-12-17T13:44:01.734Z"
      },
      {
        "duration": 8,
        "start_time": "2021-12-17T13:44:01.749Z"
      },
      {
        "duration": 37,
        "start_time": "2021-12-17T13:44:01.758Z"
      },
      {
        "duration": 4,
        "start_time": "2021-12-17T13:44:01.797Z"
      },
      {
        "duration": 22,
        "start_time": "2021-12-17T13:44:01.802Z"
      },
      {
        "duration": 15,
        "start_time": "2021-12-17T13:44:01.827Z"
      },
      {
        "duration": 18,
        "start_time": "2021-12-17T13:44:01.844Z"
      },
      {
        "duration": 41,
        "start_time": "2021-12-17T13:44:01.864Z"
      },
      {
        "duration": 5,
        "start_time": "2021-12-17T13:44:01.907Z"
      },
      {
        "duration": 35,
        "start_time": "2021-12-17T13:44:01.914Z"
      },
      {
        "duration": 18,
        "start_time": "2021-12-17T13:44:01.951Z"
      },
      {
        "duration": 48,
        "start_time": "2021-12-17T13:44:01.970Z"
      },
      {
        "duration": 40,
        "start_time": "2021-12-17T13:44:02.021Z"
      },
      {
        "duration": 17,
        "start_time": "2021-12-17T13:44:02.063Z"
      },
      {
        "duration": 18,
        "start_time": "2021-12-17T13:44:02.081Z"
      },
      {
        "duration": 5,
        "start_time": "2021-12-17T13:44:02.100Z"
      },
      {
        "duration": 13,
        "start_time": "2021-12-17T13:44:02.106Z"
      },
      {
        "duration": 14,
        "start_time": "2021-12-17T13:44:02.120Z"
      },
      {
        "duration": 20,
        "start_time": "2021-12-17T13:44:02.135Z"
      },
      {
        "duration": 12,
        "start_time": "2021-12-17T13:44:02.156Z"
      },
      {
        "duration": 21,
        "start_time": "2021-12-17T13:44:02.170Z"
      },
      {
        "duration": 17,
        "start_time": "2021-12-17T13:44:02.193Z"
      },
      {
        "duration": 9,
        "start_time": "2021-12-17T13:44:02.212Z"
      },
      {
        "duration": 13,
        "start_time": "2021-12-17T13:44:02.223Z"
      },
      {
        "duration": 6,
        "start_time": "2021-12-17T13:44:02.239Z"
      },
      {
        "duration": 14,
        "start_time": "2021-12-17T13:44:02.247Z"
      },
      {
        "duration": 13,
        "start_time": "2021-12-17T13:44:02.262Z"
      },
      {
        "duration": 17,
        "start_time": "2021-12-17T13:44:02.277Z"
      },
      {
        "duration": 8,
        "start_time": "2021-12-17T13:44:02.296Z"
      },
      {
        "duration": 14,
        "start_time": "2021-12-17T13:44:02.305Z"
      },
      {
        "duration": 6,
        "start_time": "2021-12-17T13:44:02.321Z"
      },
      {
        "duration": 6,
        "start_time": "2021-12-17T13:44:02.329Z"
      },
      {
        "duration": 9,
        "start_time": "2021-12-17T13:44:02.337Z"
      },
      {
        "duration": 754,
        "start_time": "2021-12-17T13:44:02.347Z"
      },
      {
        "duration": 4,
        "start_time": "2021-12-17T13:44:03.104Z"
      },
      {
        "duration": 7,
        "start_time": "2021-12-17T13:44:03.111Z"
      },
      {
        "duration": 20548,
        "start_time": "2021-12-17T13:44:03.120Z"
      },
      {
        "duration": 7,
        "start_time": "2021-12-17T13:44:23.670Z"
      },
      {
        "duration": 8,
        "start_time": "2021-12-17T13:44:23.693Z"
      },
      {
        "duration": 381,
        "start_time": "2021-12-17T13:44:23.702Z"
      },
      {
        "duration": 11,
        "start_time": "2021-12-17T13:44:24.084Z"
      },
      {
        "duration": 14,
        "start_time": "2021-12-17T13:44:24.097Z"
      },
      {
        "duration": 21,
        "start_time": "2021-12-17T13:44:24.113Z"
      },
      {
        "duration": 8,
        "start_time": "2021-12-17T13:44:24.136Z"
      },
      {
        "duration": 49,
        "start_time": "2021-12-17T13:44:24.145Z"
      },
      {
        "duration": 6,
        "start_time": "2021-12-17T13:44:24.196Z"
      },
      {
        "duration": 9,
        "start_time": "2021-12-17T13:44:24.203Z"
      },
      {
        "duration": 7,
        "start_time": "2021-12-17T13:44:24.213Z"
      },
      {
        "duration": 25,
        "start_time": "2021-12-17T13:44:24.221Z"
      },
      {
        "duration": 7,
        "start_time": "2021-12-17T13:44:24.248Z"
      },
      {
        "duration": 58,
        "start_time": "2021-12-17T13:44:24.257Z"
      },
      {
        "duration": 18,
        "start_time": "2021-12-17T13:44:24.317Z"
      },
      {
        "duration": 61,
        "start_time": "2021-12-17T13:44:32.560Z"
      },
      {
        "duration": 12,
        "start_time": "2021-12-17T13:44:32.623Z"
      },
      {
        "duration": 13,
        "start_time": "2021-12-17T13:44:32.638Z"
      },
      {
        "duration": 56,
        "start_time": "2021-12-17T13:44:32.652Z"
      },
      {
        "duration": 3,
        "start_time": "2021-12-17T13:44:32.710Z"
      },
      {
        "duration": 7,
        "start_time": "2021-12-17T13:44:32.715Z"
      },
      {
        "duration": 3,
        "start_time": "2021-12-17T13:44:32.724Z"
      },
      {
        "duration": 9,
        "start_time": "2021-12-17T13:44:32.730Z"
      },
      {
        "duration": 4,
        "start_time": "2021-12-17T13:44:32.741Z"
      },
      {
        "duration": 55,
        "start_time": "2021-12-17T13:44:32.746Z"
      },
      {
        "duration": 7,
        "start_time": "2021-12-17T13:44:32.803Z"
      },
      {
        "duration": 15,
        "start_time": "2021-12-17T13:44:32.812Z"
      },
      {
        "duration": 16,
        "start_time": "2021-12-17T13:44:32.829Z"
      },
      {
        "duration": 52,
        "start_time": "2021-12-17T13:44:32.847Z"
      },
      {
        "duration": 17,
        "start_time": "2021-12-17T13:44:32.900Z"
      },
      {
        "duration": 4,
        "start_time": "2021-12-17T13:44:32.918Z"
      },
      {
        "duration": 5,
        "start_time": "2021-12-17T13:44:32.924Z"
      },
      {
        "duration": 17,
        "start_time": "2021-12-17T13:44:32.930Z"
      },
      {
        "duration": 7,
        "start_time": "2021-12-17T13:44:32.948Z"
      },
      {
        "duration": 19,
        "start_time": "2021-12-17T13:44:32.993Z"
      },
      {
        "duration": 18,
        "start_time": "2021-12-17T13:44:33.014Z"
      },
      {
        "duration": 18,
        "start_time": "2021-12-17T13:44:33.034Z"
      },
      {
        "duration": 37,
        "start_time": "2021-12-17T13:44:33.056Z"
      },
      {
        "duration": 5,
        "start_time": "2021-12-17T13:44:33.097Z"
      },
      {
        "duration": 6,
        "start_time": "2021-12-17T13:44:33.104Z"
      },
      {
        "duration": 8,
        "start_time": "2021-12-17T13:44:33.111Z"
      },
      {
        "duration": 7,
        "start_time": "2021-12-17T13:44:33.121Z"
      },
      {
        "duration": 13,
        "start_time": "2021-12-17T13:44:33.129Z"
      },
      {
        "duration": 52,
        "start_time": "2021-12-17T13:44:33.144Z"
      },
      {
        "duration": 7,
        "start_time": "2021-12-17T13:44:33.198Z"
      },
      {
        "duration": 9,
        "start_time": "2021-12-17T13:44:33.207Z"
      },
      {
        "duration": 6,
        "start_time": "2021-12-17T13:44:33.217Z"
      },
      {
        "duration": 7,
        "start_time": "2021-12-17T13:44:33.225Z"
      },
      {
        "duration": 5,
        "start_time": "2021-12-17T13:44:33.233Z"
      },
      {
        "duration": 4,
        "start_time": "2021-12-17T13:44:33.240Z"
      },
      {
        "duration": 5,
        "start_time": "2021-12-17T13:44:33.246Z"
      },
      {
        "duration": 9,
        "start_time": "2021-12-17T13:44:33.292Z"
      },
      {
        "duration": 8,
        "start_time": "2021-12-17T13:44:33.303Z"
      },
      {
        "duration": 6,
        "start_time": "2021-12-17T13:44:33.313Z"
      },
      {
        "duration": 4,
        "start_time": "2021-12-17T13:44:33.321Z"
      },
      {
        "duration": 735,
        "start_time": "2021-12-17T13:44:33.327Z"
      },
      {
        "duration": 5,
        "start_time": "2021-12-17T13:44:34.064Z"
      },
      {
        "duration": 6,
        "start_time": "2021-12-17T13:44:34.071Z"
      },
      {
        "duration": 20943,
        "start_time": "2021-12-17T13:44:34.092Z"
      },
      {
        "duration": 7,
        "start_time": "2021-12-17T13:44:55.037Z"
      },
      {
        "duration": 9,
        "start_time": "2021-12-17T13:44:55.046Z"
      },
      {
        "duration": 391,
        "start_time": "2021-12-17T13:44:55.056Z"
      },
      {
        "duration": 7,
        "start_time": "2021-12-17T13:44:55.449Z"
      },
      {
        "duration": 14,
        "start_time": "2021-12-17T13:44:55.458Z"
      },
      {
        "duration": 35,
        "start_time": "2021-12-17T13:44:55.476Z"
      },
      {
        "duration": 9,
        "start_time": "2021-12-17T13:44:55.512Z"
      },
      {
        "duration": 20,
        "start_time": "2021-12-17T13:44:55.523Z"
      },
      {
        "duration": 5,
        "start_time": "2021-12-17T13:44:55.545Z"
      },
      {
        "duration": 41,
        "start_time": "2021-12-17T13:44:55.552Z"
      },
      {
        "duration": 3,
        "start_time": "2021-12-17T13:44:55.595Z"
      },
      {
        "duration": 23,
        "start_time": "2021-12-17T13:44:55.600Z"
      },
      {
        "duration": 7,
        "start_time": "2021-12-17T13:44:55.625Z"
      },
      {
        "duration": 24,
        "start_time": "2021-12-17T13:44:55.634Z"
      },
      {
        "duration": 48,
        "start_time": "2021-12-17T13:44:55.659Z"
      },
      {
        "duration": 689,
        "start_time": "2021-12-18T08:43:43.801Z"
      },
      {
        "duration": 11,
        "start_time": "2021-12-18T08:43:44.492Z"
      },
      {
        "duration": 11,
        "start_time": "2021-12-18T08:43:44.506Z"
      },
      {
        "duration": 30,
        "start_time": "2021-12-18T08:43:44.520Z"
      },
      {
        "duration": 4,
        "start_time": "2021-12-18T08:43:44.552Z"
      },
      {
        "duration": 6,
        "start_time": "2021-12-18T08:43:44.589Z"
      },
      {
        "duration": 6,
        "start_time": "2021-12-18T08:43:44.597Z"
      },
      {
        "duration": 9,
        "start_time": "2021-12-18T08:43:44.606Z"
      },
      {
        "duration": 4,
        "start_time": "2021-12-18T08:43:44.617Z"
      },
      {
        "duration": 9,
        "start_time": "2021-12-18T08:43:44.623Z"
      },
      {
        "duration": 5,
        "start_time": "2021-12-18T08:43:44.633Z"
      },
      {
        "duration": 15,
        "start_time": "2021-12-18T08:43:44.688Z"
      },
      {
        "duration": 13,
        "start_time": "2021-12-18T08:43:44.705Z"
      },
      {
        "duration": 15,
        "start_time": "2021-12-18T08:43:44.720Z"
      },
      {
        "duration": 13,
        "start_time": "2021-12-18T08:43:44.737Z"
      },
      {
        "duration": 5,
        "start_time": "2021-12-18T08:43:44.752Z"
      },
      {
        "duration": 4,
        "start_time": "2021-12-18T08:43:44.788Z"
      },
      {
        "duration": 12,
        "start_time": "2021-12-18T08:43:44.794Z"
      },
      {
        "duration": 9,
        "start_time": "2021-12-18T08:43:44.808Z"
      },
      {
        "duration": 24,
        "start_time": "2021-12-18T08:43:44.819Z"
      },
      {
        "duration": 53,
        "start_time": "2021-12-18T08:43:44.845Z"
      },
      {
        "duration": 23,
        "start_time": "2021-12-18T08:43:44.900Z"
      },
      {
        "duration": 7,
        "start_time": "2021-12-18T08:43:44.930Z"
      },
      {
        "duration": 5,
        "start_time": "2021-12-18T08:43:44.940Z"
      },
      {
        "duration": 6,
        "start_time": "2021-12-18T08:43:44.948Z"
      },
      {
        "duration": 40,
        "start_time": "2021-12-18T08:43:44.956Z"
      },
      {
        "duration": 8,
        "start_time": "2021-12-18T08:43:44.998Z"
      },
      {
        "duration": 25,
        "start_time": "2021-12-18T08:43:45.009Z"
      },
      {
        "duration": 21,
        "start_time": "2021-12-18T08:43:45.037Z"
      },
      {
        "duration": 8,
        "start_time": "2021-12-18T08:43:45.060Z"
      },
      {
        "duration": 10,
        "start_time": "2021-12-18T08:43:45.087Z"
      },
      {
        "duration": 5,
        "start_time": "2021-12-18T08:43:45.098Z"
      },
      {
        "duration": 8,
        "start_time": "2021-12-18T08:43:45.104Z"
      },
      {
        "duration": 6,
        "start_time": "2021-12-18T08:43:45.114Z"
      },
      {
        "duration": 10,
        "start_time": "2021-12-18T08:43:45.122Z"
      },
      {
        "duration": 7,
        "start_time": "2021-12-18T08:43:45.133Z"
      },
      {
        "duration": 9,
        "start_time": "2021-12-18T08:43:45.142Z"
      },
      {
        "duration": 7,
        "start_time": "2021-12-18T08:43:45.152Z"
      },
      {
        "duration": 31,
        "start_time": "2021-12-18T08:43:45.160Z"
      },
      {
        "duration": 3,
        "start_time": "2021-12-18T08:43:45.193Z"
      },
      {
        "duration": 610,
        "start_time": "2021-12-18T08:43:45.197Z"
      },
      {
        "duration": 4,
        "start_time": "2021-12-18T08:43:45.809Z"
      },
      {
        "duration": 8,
        "start_time": "2021-12-18T08:43:45.814Z"
      },
      {
        "duration": 19540,
        "start_time": "2021-12-18T08:43:45.823Z"
      },
      {
        "duration": 6,
        "start_time": "2021-12-18T08:44:05.364Z"
      },
      {
        "duration": 6,
        "start_time": "2021-12-18T08:44:05.388Z"
      },
      {
        "duration": 342,
        "start_time": "2021-12-18T08:44:05.395Z"
      },
      {
        "duration": 6,
        "start_time": "2021-12-18T08:44:05.738Z"
      },
      {
        "duration": 26,
        "start_time": "2021-12-18T08:44:05.745Z"
      },
      {
        "duration": 34,
        "start_time": "2021-12-18T08:44:05.772Z"
      },
      {
        "duration": 7,
        "start_time": "2021-12-18T08:44:05.808Z"
      },
      {
        "duration": 17,
        "start_time": "2021-12-18T08:44:05.817Z"
      },
      {
        "duration": 5,
        "start_time": "2021-12-18T08:44:05.835Z"
      },
      {
        "duration": 13,
        "start_time": "2021-12-18T08:44:05.841Z"
      },
      {
        "duration": 32,
        "start_time": "2021-12-18T08:44:05.855Z"
      },
      {
        "duration": 19,
        "start_time": "2021-12-18T08:44:05.889Z"
      },
      {
        "duration": 12,
        "start_time": "2021-12-18T08:44:05.910Z"
      },
      {
        "duration": 27,
        "start_time": "2021-12-18T08:44:05.924Z"
      },
      {
        "duration": 18,
        "start_time": "2021-12-18T08:44:05.953Z"
      },
      {
        "duration": 393,
        "start_time": "2021-12-18T14:01:08.991Z"
      },
      {
        "duration": 724,
        "start_time": "2021-12-18T14:01:22.671Z"
      },
      {
        "duration": 13,
        "start_time": "2021-12-18T14:01:23.397Z"
      },
      {
        "duration": 12,
        "start_time": "2021-12-18T14:01:23.412Z"
      },
      {
        "duration": 33,
        "start_time": "2021-12-18T14:01:23.426Z"
      },
      {
        "duration": 3,
        "start_time": "2021-12-18T14:01:23.461Z"
      },
      {
        "duration": 40,
        "start_time": "2021-12-18T14:01:23.466Z"
      },
      {
        "duration": 4,
        "start_time": "2021-12-18T14:01:23.508Z"
      },
      {
        "duration": 10,
        "start_time": "2021-12-18T14:01:23.516Z"
      },
      {
        "duration": 3,
        "start_time": "2021-12-18T14:01:23.528Z"
      },
      {
        "duration": 8724,
        "start_time": "2021-12-18T14:01:23.533Z"
      },
      {
        "duration": -223,
        "start_time": "2021-12-18T14:01:32.483Z"
      },
      {
        "duration": -246,
        "start_time": "2021-12-18T14:01:32.507Z"
      },
      {
        "duration": -277,
        "start_time": "2021-12-18T14:01:32.539Z"
      },
      {
        "duration": -302,
        "start_time": "2021-12-18T14:01:32.565Z"
      },
      {
        "duration": -330,
        "start_time": "2021-12-18T14:01:32.594Z"
      },
      {
        "duration": -353,
        "start_time": "2021-12-18T14:01:32.617Z"
      },
      {
        "duration": -379,
        "start_time": "2021-12-18T14:01:32.644Z"
      },
      {
        "duration": -401,
        "start_time": "2021-12-18T14:01:32.667Z"
      },
      {
        "duration": -428,
        "start_time": "2021-12-18T14:01:32.695Z"
      },
      {
        "duration": -452,
        "start_time": "2021-12-18T14:01:32.720Z"
      },
      {
        "duration": -480,
        "start_time": "2021-12-18T14:01:32.749Z"
      },
      {
        "duration": -501,
        "start_time": "2021-12-18T14:01:32.771Z"
      },
      {
        "duration": -524,
        "start_time": "2021-12-18T14:01:32.795Z"
      },
      {
        "duration": -548,
        "start_time": "2021-12-18T14:01:32.820Z"
      },
      {
        "duration": -574,
        "start_time": "2021-12-18T14:01:32.847Z"
      },
      {
        "duration": -594,
        "start_time": "2021-12-18T14:01:32.868Z"
      },
      {
        "duration": -620,
        "start_time": "2021-12-18T14:01:32.895Z"
      },
      {
        "duration": -643,
        "start_time": "2021-12-18T14:01:32.920Z"
      },
      {
        "duration": -671,
        "start_time": "2021-12-18T14:01:32.949Z"
      },
      {
        "duration": -696,
        "start_time": "2021-12-18T14:01:32.975Z"
      },
      {
        "duration": -729,
        "start_time": "2021-12-18T14:01:33.009Z"
      },
      {
        "duration": -761,
        "start_time": "2021-12-18T14:01:33.042Z"
      },
      {
        "duration": -791,
        "start_time": "2021-12-18T14:01:33.073Z"
      },
      {
        "duration": -814,
        "start_time": "2021-12-18T14:01:33.097Z"
      },
      {
        "duration": -838,
        "start_time": "2021-12-18T14:01:33.122Z"
      },
      {
        "duration": -870,
        "start_time": "2021-12-18T14:01:33.155Z"
      },
      {
        "duration": -2047,
        "start_time": "2021-12-18T14:01:34.333Z"
      },
      {
        "duration": -2569,
        "start_time": "2021-12-18T14:01:34.856Z"
      },
      {
        "duration": -3712,
        "start_time": "2021-12-18T14:01:36.000Z"
      },
      {
        "duration": -3732,
        "start_time": "2021-12-18T14:01:36.021Z"
      },
      {
        "duration": -3756,
        "start_time": "2021-12-18T14:01:36.046Z"
      },
      {
        "duration": -3777,
        "start_time": "2021-12-18T14:01:36.068Z"
      },
      {
        "duration": -3802,
        "start_time": "2021-12-18T14:01:36.094Z"
      },
      {
        "duration": -3824,
        "start_time": "2021-12-18T14:01:36.117Z"
      },
      {
        "duration": -3845,
        "start_time": "2021-12-18T14:01:36.139Z"
      },
      {
        "duration": -3866,
        "start_time": "2021-12-18T14:01:36.161Z"
      },
      {
        "duration": -3889,
        "start_time": "2021-12-18T14:01:36.185Z"
      },
      {
        "duration": -3908,
        "start_time": "2021-12-18T14:01:36.205Z"
      },
      {
        "duration": -3931,
        "start_time": "2021-12-18T14:01:36.229Z"
      },
      {
        "duration": -3950,
        "start_time": "2021-12-18T14:01:36.249Z"
      },
      {
        "duration": -3974,
        "start_time": "2021-12-18T14:01:36.273Z"
      },
      {
        "duration": -3995,
        "start_time": "2021-12-18T14:01:36.295Z"
      },
      {
        "duration": -4017,
        "start_time": "2021-12-18T14:01:36.318Z"
      },
      {
        "duration": -4031,
        "start_time": "2021-12-18T14:01:36.337Z"
      },
      {
        "duration": -4056,
        "start_time": "2021-12-18T14:01:36.363Z"
      },
      {
        "duration": -4075,
        "start_time": "2021-12-18T14:01:36.383Z"
      },
      {
        "duration": -4100,
        "start_time": "2021-12-18T14:01:36.408Z"
      },
      {
        "duration": -4125,
        "start_time": "2021-12-18T14:01:36.435Z"
      },
      {
        "duration": -4150,
        "start_time": "2021-12-18T14:01:36.460Z"
      },
      {
        "duration": -4168,
        "start_time": "2021-12-18T14:01:36.479Z"
      },
      {
        "duration": 8,
        "start_time": "2021-12-18T14:03:28.230Z"
      },
      {
        "duration": 8,
        "start_time": "2021-12-18T14:03:56.783Z"
      },
      {
        "duration": 9,
        "start_time": "2021-12-18T14:04:20.844Z"
      },
      {
        "duration": 5,
        "start_time": "2021-12-18T14:04:58.708Z"
      },
      {
        "duration": 21397,
        "start_time": "2021-12-18T14:05:02.835Z"
      },
      {
        "duration": 7,
        "start_time": "2021-12-18T14:05:24.234Z"
      },
      {
        "duration": 89,
        "start_time": "2021-12-19T07:28:14.354Z"
      },
      {
        "duration": 88,
        "start_time": "2021-12-19T07:28:33.975Z"
      },
      {
        "duration": 303,
        "start_time": "2021-12-19T07:35:10.225Z"
      },
      {
        "duration": 671,
        "start_time": "2021-12-19T07:35:15.797Z"
      },
      {
        "duration": 12,
        "start_time": "2021-12-19T07:35:16.470Z"
      },
      {
        "duration": 13,
        "start_time": "2021-12-19T07:35:16.485Z"
      },
      {
        "duration": 41,
        "start_time": "2021-12-19T07:35:16.501Z"
      },
      {
        "duration": 5,
        "start_time": "2021-12-19T07:35:16.564Z"
      },
      {
        "duration": 11,
        "start_time": "2021-12-19T07:35:16.570Z"
      },
      {
        "duration": 5,
        "start_time": "2021-12-19T07:35:16.583Z"
      },
      {
        "duration": 14,
        "start_time": "2021-12-19T07:35:16.591Z"
      },
      {
        "duration": 4,
        "start_time": "2021-12-19T07:35:16.608Z"
      },
      {
        "duration": 10,
        "start_time": "2021-12-19T07:35:16.614Z"
      },
      {
        "duration": 46,
        "start_time": "2021-12-19T07:35:16.625Z"
      },
      {
        "duration": 321,
        "start_time": "2021-12-19T07:35:16.673Z"
      },
      {
        "duration": -1908,
        "start_time": "2021-12-19T07:35:18.905Z"
      },
      {
        "duration": -2118,
        "start_time": "2021-12-19T07:35:19.116Z"
      },
      {
        "duration": -2141,
        "start_time": "2021-12-19T07:35:19.140Z"
      },
      {
        "duration": -2163,
        "start_time": "2021-12-19T07:35:19.162Z"
      },
      {
        "duration": -2183,
        "start_time": "2021-12-19T07:35:19.184Z"
      },
      {
        "duration": -2202,
        "start_time": "2021-12-19T07:35:19.204Z"
      },
      {
        "duration": -2226,
        "start_time": "2021-12-19T07:35:19.229Z"
      },
      {
        "duration": -2246,
        "start_time": "2021-12-19T07:35:19.249Z"
      },
      {
        "duration": -2268,
        "start_time": "2021-12-19T07:35:19.272Z"
      },
      {
        "duration": -2286,
        "start_time": "2021-12-19T07:35:19.291Z"
      },
      {
        "duration": -2309,
        "start_time": "2021-12-19T07:35:19.315Z"
      },
      {
        "duration": -2328,
        "start_time": "2021-12-19T07:35:19.335Z"
      },
      {
        "duration": -2350,
        "start_time": "2021-12-19T07:35:19.358Z"
      },
      {
        "duration": -2369,
        "start_time": "2021-12-19T07:35:19.378Z"
      },
      {
        "duration": -2392,
        "start_time": "2021-12-19T07:35:19.402Z"
      },
      {
        "duration": -2410,
        "start_time": "2021-12-19T07:35:19.422Z"
      },
      {
        "duration": -2431,
        "start_time": "2021-12-19T07:35:19.444Z"
      },
      {
        "duration": -2450,
        "start_time": "2021-12-19T07:35:19.464Z"
      },
      {
        "duration": -2473,
        "start_time": "2021-12-19T07:35:19.489Z"
      },
      {
        "duration": -2492,
        "start_time": "2021-12-19T07:35:19.509Z"
      },
      {
        "duration": -2517,
        "start_time": "2021-12-19T07:35:19.535Z"
      },
      {
        "duration": -2578,
        "start_time": "2021-12-19T07:35:19.597Z"
      },
      {
        "duration": -2600,
        "start_time": "2021-12-19T07:35:19.620Z"
      },
      {
        "duration": -2619,
        "start_time": "2021-12-19T07:35:19.640Z"
      },
      {
        "duration": -2640,
        "start_time": "2021-12-19T07:35:19.662Z"
      },
      {
        "duration": -2658,
        "start_time": "2021-12-19T07:35:19.681Z"
      },
      {
        "duration": -2682,
        "start_time": "2021-12-19T07:35:19.706Z"
      },
      {
        "duration": -2700,
        "start_time": "2021-12-19T07:35:19.725Z"
      },
      {
        "duration": -2720,
        "start_time": "2021-12-19T07:35:19.746Z"
      },
      {
        "duration": -2738,
        "start_time": "2021-12-19T07:35:19.765Z"
      },
      {
        "duration": -2759,
        "start_time": "2021-12-19T07:35:19.787Z"
      },
      {
        "duration": -2807,
        "start_time": "2021-12-19T07:35:19.836Z"
      },
      {
        "duration": -2829,
        "start_time": "2021-12-19T07:35:19.859Z"
      },
      {
        "duration": -2848,
        "start_time": "2021-12-19T07:35:19.879Z"
      },
      {
        "duration": -2871,
        "start_time": "2021-12-19T07:35:19.902Z"
      },
      {
        "duration": -2891,
        "start_time": "2021-12-19T07:35:19.923Z"
      },
      {
        "duration": -2911,
        "start_time": "2021-12-19T07:35:19.944Z"
      },
      {
        "duration": -2931,
        "start_time": "2021-12-19T07:35:19.964Z"
      },
      {
        "duration": -2951,
        "start_time": "2021-12-19T07:35:19.985Z"
      },
      {
        "duration": -2941,
        "start_time": "2021-12-19T07:35:20.004Z"
      },
      {
        "duration": -2961,
        "start_time": "2021-12-19T07:35:20.025Z"
      },
      {
        "duration": -2979,
        "start_time": "2021-12-19T07:35:20.044Z"
      },
      {
        "duration": -3001,
        "start_time": "2021-12-19T07:35:20.067Z"
      },
      {
        "duration": -3020,
        "start_time": "2021-12-19T07:35:20.087Z"
      },
      {
        "duration": -3041,
        "start_time": "2021-12-19T07:35:20.109Z"
      },
      {
        "duration": -3059,
        "start_time": "2021-12-19T07:35:20.128Z"
      },
      {
        "duration": -3120,
        "start_time": "2021-12-19T07:35:20.189Z"
      },
      {
        "duration": -3139,
        "start_time": "2021-12-19T07:35:20.209Z"
      },
      {
        "duration": 8,
        "start_time": "2021-12-19T07:38:22.703Z"
      },
      {
        "duration": 12,
        "start_time": "2021-12-19T07:39:32.895Z"
      },
      {
        "duration": 10,
        "start_time": "2021-12-19T07:43:34.113Z"
      },
      {
        "duration": 11,
        "start_time": "2021-12-19T07:43:50.905Z"
      },
      {
        "duration": 10,
        "start_time": "2021-12-19T07:44:16.676Z"
      },
      {
        "duration": 92,
        "start_time": "2021-12-19T07:44:48.174Z"
      },
      {
        "duration": 12,
        "start_time": "2021-12-19T07:44:54.157Z"
      },
      {
        "duration": 10,
        "start_time": "2021-12-19T07:44:59.868Z"
      },
      {
        "duration": 8722,
        "start_time": "2021-12-19T07:45:29.746Z"
      },
      {
        "duration": 8,
        "start_time": "2021-12-19T07:46:04.086Z"
      },
      {
        "duration": 264,
        "start_time": "2021-12-19T07:48:29.467Z"
      },
      {
        "duration": 7,
        "start_time": "2021-12-19T07:48:39.637Z"
      },
      {
        "duration": 85,
        "start_time": "2021-12-19T07:49:10.383Z"
      },
      {
        "duration": 91,
        "start_time": "2021-12-19T07:49:21.288Z"
      },
      {
        "duration": 6,
        "start_time": "2021-12-19T07:49:43.227Z"
      },
      {
        "duration": 3,
        "start_time": "2021-12-19T07:50:06.366Z"
      },
      {
        "duration": 7,
        "start_time": "2021-12-19T07:50:07.958Z"
      },
      {
        "duration": 11,
        "start_time": "2021-12-19T07:50:15.236Z"
      },
      {
        "duration": 10,
        "start_time": "2021-12-19T07:50:19.679Z"
      },
      {
        "duration": 2,
        "start_time": "2021-12-19T07:50:23.078Z"
      },
      {
        "duration": 59,
        "start_time": "2021-12-19T07:50:28.467Z"
      },
      {
        "duration": 11,
        "start_time": "2021-12-19T07:50:28.528Z"
      },
      {
        "duration": 15,
        "start_time": "2021-12-19T07:50:28.541Z"
      },
      {
        "duration": 35,
        "start_time": "2021-12-19T07:50:28.557Z"
      },
      {
        "duration": 3,
        "start_time": "2021-12-19T07:50:28.594Z"
      },
      {
        "duration": 16,
        "start_time": "2021-12-19T07:50:28.599Z"
      },
      {
        "duration": 4,
        "start_time": "2021-12-19T07:50:28.617Z"
      },
      {
        "duration": 12,
        "start_time": "2021-12-19T07:50:28.623Z"
      },
      {
        "duration": 2,
        "start_time": "2021-12-19T07:50:28.637Z"
      },
      {
        "duration": 8,
        "start_time": "2021-12-19T07:50:28.663Z"
      },
      {
        "duration": 10,
        "start_time": "2021-12-19T07:50:28.673Z"
      },
      {
        "duration": 374,
        "start_time": "2021-12-19T07:50:28.688Z"
      },
      {
        "duration": -2680,
        "start_time": "2021-12-19T07:50:31.745Z"
      },
      {
        "duration": -2700,
        "start_time": "2021-12-19T07:50:31.767Z"
      },
      {
        "duration": -2720,
        "start_time": "2021-12-19T07:50:31.788Z"
      },
      {
        "duration": -2739,
        "start_time": "2021-12-19T07:50:31.808Z"
      },
      {
        "duration": -2759,
        "start_time": "2021-12-19T07:50:31.829Z"
      },
      {
        "duration": -2777,
        "start_time": "2021-12-19T07:50:31.849Z"
      },
      {
        "duration": -2799,
        "start_time": "2021-12-19T07:50:31.872Z"
      },
      {
        "duration": -2818,
        "start_time": "2021-12-19T07:50:31.892Z"
      },
      {
        "duration": -2840,
        "start_time": "2021-12-19T07:50:31.915Z"
      },
      {
        "duration": -2859,
        "start_time": "2021-12-19T07:50:31.935Z"
      },
      {
        "duration": -3028,
        "start_time": "2021-12-19T07:50:32.105Z"
      },
      {
        "duration": -3046,
        "start_time": "2021-12-19T07:50:32.124Z"
      },
      {
        "duration": -3065,
        "start_time": "2021-12-19T07:50:32.145Z"
      },
      {
        "duration": -3084,
        "start_time": "2021-12-19T07:50:32.165Z"
      },
      {
        "duration": -3106,
        "start_time": "2021-12-19T07:50:32.188Z"
      },
      {
        "duration": -3125,
        "start_time": "2021-12-19T07:50:32.208Z"
      },
      {
        "duration": -3146,
        "start_time": "2021-12-19T07:50:32.230Z"
      },
      {
        "duration": -3165,
        "start_time": "2021-12-19T07:50:32.250Z"
      },
      {
        "duration": -3189,
        "start_time": "2021-12-19T07:50:32.275Z"
      },
      {
        "duration": -3208,
        "start_time": "2021-12-19T07:50:32.295Z"
      },
      {
        "duration": 10,
        "start_time": "2021-12-19T07:50:29.089Z"
      },
      {
        "duration": 63,
        "start_time": "2021-12-19T07:50:29.101Z"
      },
      {
        "duration": 8,
        "start_time": "2021-12-19T07:50:29.168Z"
      },
      {
        "duration": 7,
        "start_time": "2021-12-19T07:50:29.178Z"
      },
      {
        "duration": 6,
        "start_time": "2021-12-19T07:50:29.187Z"
      },
      {
        "duration": 9,
        "start_time": "2021-12-19T07:50:29.196Z"
      },
      {
        "duration": 56,
        "start_time": "2021-12-19T07:50:29.207Z"
      },
      {
        "duration": 7,
        "start_time": "2021-12-19T07:50:29.265Z"
      },
      {
        "duration": 6,
        "start_time": "2021-12-19T07:50:29.274Z"
      },
      {
        "duration": 748,
        "start_time": "2021-12-19T07:50:29.282Z"
      },
      {
        "duration": 4,
        "start_time": "2021-12-19T07:50:30.033Z"
      },
      {
        "duration": 13,
        "start_time": "2021-12-19T07:50:30.039Z"
      },
      {
        "duration": 20561,
        "start_time": "2021-12-19T07:50:30.063Z"
      },
      {
        "duration": 7,
        "start_time": "2021-12-19T07:50:50.627Z"
      },
      {
        "duration": 26,
        "start_time": "2021-12-19T07:50:50.637Z"
      },
      {
        "duration": 579,
        "start_time": "2021-12-19T07:50:50.666Z"
      },
      {
        "duration": 18,
        "start_time": "2021-12-19T07:50:51.247Z"
      },
      {
        "duration": 17,
        "start_time": "2021-12-19T07:50:51.268Z"
      },
      {
        "duration": 36,
        "start_time": "2021-12-19T07:50:51.287Z"
      },
      {
        "duration": 13,
        "start_time": "2021-12-19T07:50:51.325Z"
      },
      {
        "duration": 35,
        "start_time": "2021-12-19T07:50:51.364Z"
      },
      {
        "duration": 7,
        "start_time": "2021-12-19T07:50:51.401Z"
      },
      {
        "duration": 19,
        "start_time": "2021-12-19T07:50:51.410Z"
      },
      {
        "duration": 12,
        "start_time": "2021-12-19T07:50:51.432Z"
      },
      {
        "duration": 36,
        "start_time": "2021-12-19T07:50:51.463Z"
      },
      {
        "duration": 11,
        "start_time": "2021-12-19T07:50:51.501Z"
      },
      {
        "duration": 49,
        "start_time": "2021-12-19T07:50:51.516Z"
      },
      {
        "duration": 20,
        "start_time": "2021-12-19T07:50:51.568Z"
      },
      {
        "duration": 14,
        "start_time": "2021-12-19T07:50:51.591Z"
      },
      {
        "duration": 8,
        "start_time": "2021-12-19T07:50:58.571Z"
      },
      {
        "duration": 6,
        "start_time": "2021-12-19T07:51:06.575Z"
      },
      {
        "duration": 67,
        "start_time": "2021-12-19T07:51:15.653Z"
      },
      {
        "duration": 10,
        "start_time": "2021-12-19T07:51:41.116Z"
      },
      {
        "duration": 6639,
        "start_time": "2021-12-19T07:51:48.932Z"
      },
      {
        "duration": 5,
        "start_time": "2021-12-19T07:52:11.292Z"
      },
      {
        "duration": 4,
        "start_time": "2021-12-19T07:52:19.989Z"
      },
      {
        "duration": 6,
        "start_time": "2021-12-19T07:52:25.631Z"
      },
      {
        "duration": 8,
        "start_time": "2021-12-19T07:52:28.827Z"
      },
      {
        "duration": 260,
        "start_time": "2021-12-19T07:52:33.722Z"
      },
      {
        "duration": 7,
        "start_time": "2021-12-19T07:52:47.251Z"
      },
      {
        "duration": 272,
        "start_time": "2021-12-19T07:52:57.356Z"
      },
      {
        "duration": 6,
        "start_time": "2021-12-19T07:53:07.929Z"
      },
      {
        "duration": 9,
        "start_time": "2021-12-19T07:53:21.660Z"
      },
      {
        "duration": 7,
        "start_time": "2021-12-19T07:53:38.297Z"
      },
      {
        "duration": 95,
        "start_time": "2021-12-19T07:54:31.265Z"
      },
      {
        "duration": 8,
        "start_time": "2021-12-19T07:54:37.219Z"
      },
      {
        "duration": 273,
        "start_time": "2021-12-19T07:54:48.007Z"
      },
      {
        "duration": 317,
        "start_time": "2021-12-19T07:54:56.539Z"
      },
      {
        "duration": 11,
        "start_time": "2021-12-19T07:55:08.330Z"
      },
      {
        "duration": 6820,
        "start_time": "2021-12-19T07:55:23.129Z"
      },
      {
        "duration": 8,
        "start_time": "2021-12-19T07:55:45.669Z"
      },
      {
        "duration": 10,
        "start_time": "2021-12-19T07:56:01.896Z"
      },
      {
        "duration": 285,
        "start_time": "2021-12-19T07:56:35.363Z"
      },
      {
        "duration": 6742,
        "start_time": "2021-12-19T07:58:37.784Z"
      },
      {
        "duration": 4,
        "start_time": "2021-12-19T07:59:05.026Z"
      },
      {
        "duration": 13,
        "start_time": "2021-12-19T07:59:10.551Z"
      },
      {
        "duration": 5,
        "start_time": "2021-12-19T08:01:10.062Z"
      },
      {
        "duration": 150,
        "start_time": "2021-12-19T13:36:08.578Z"
      },
      {
        "duration": 9,
        "start_time": "2021-12-19T13:36:26.534Z"
      },
      {
        "duration": 11,
        "start_time": "2021-12-19T13:36:32.116Z"
      },
      {
        "duration": 12,
        "start_time": "2021-12-19T13:36:35.315Z"
      },
      {
        "duration": 6,
        "start_time": "2021-12-19T13:37:13.908Z"
      },
      {
        "duration": 10,
        "start_time": "2021-12-19T13:37:56.402Z"
      },
      {
        "duration": 11,
        "start_time": "2021-12-19T13:39:08.426Z"
      },
      {
        "duration": 10,
        "start_time": "2021-12-19T13:39:22.799Z"
      },
      {
        "duration": 295,
        "start_time": "2021-12-19T13:41:53.436Z"
      },
      {
        "duration": 7476,
        "start_time": "2021-12-19T13:42:08.941Z"
      },
      {
        "duration": 12,
        "start_time": "2021-12-19T13:42:35.245Z"
      },
      {
        "duration": 10,
        "start_time": "2021-12-19T13:43:02.892Z"
      },
      {
        "duration": 8,
        "start_time": "2021-12-19T13:43:27.081Z"
      },
      {
        "duration": 89,
        "start_time": "2021-12-19T13:44:16.670Z"
      },
      {
        "duration": 9,
        "start_time": "2021-12-19T13:44:24.256Z"
      },
      {
        "duration": 7035,
        "start_time": "2021-12-19T13:49:01.994Z"
      },
      {
        "duration": 5,
        "start_time": "2021-12-19T13:49:23.124Z"
      },
      {
        "duration": 7,
        "start_time": "2021-12-19T13:49:54.852Z"
      },
      {
        "duration": 9,
        "start_time": "2021-12-19T13:50:13.583Z"
      },
      {
        "duration": 86,
        "start_time": "2021-12-19T13:50:50.954Z"
      },
      {
        "duration": 8,
        "start_time": "2021-12-19T13:51:03.509Z"
      },
      {
        "duration": 8,
        "start_time": "2021-12-19T13:51:57.898Z"
      },
      {
        "duration": 30,
        "start_time": "2021-12-19T13:52:21.577Z"
      },
      {
        "duration": 995,
        "start_time": "2021-12-19T13:52:52.575Z"
      },
      {
        "duration": 10,
        "start_time": "2021-12-19T13:53:16.602Z"
      },
      {
        "duration": 9,
        "start_time": "2021-12-19T13:54:25.684Z"
      },
      {
        "duration": 10,
        "start_time": "2021-12-19T13:54:45.674Z"
      },
      {
        "duration": 275,
        "start_time": "2021-12-19T13:54:52.146Z"
      },
      {
        "duration": 284,
        "start_time": "2021-12-19T13:54:57.344Z"
      },
      {
        "duration": 280,
        "start_time": "2021-12-19T13:55:38.976Z"
      },
      {
        "duration": 292,
        "start_time": "2021-12-19T13:55:50.394Z"
      },
      {
        "duration": 84,
        "start_time": "2021-12-19T13:55:59.386Z"
      },
      {
        "duration": 17,
        "start_time": "2021-12-19T13:55:59.472Z"
      },
      {
        "duration": 17,
        "start_time": "2021-12-19T13:55:59.492Z"
      },
      {
        "duration": 70,
        "start_time": "2021-12-19T13:55:59.512Z"
      },
      {
        "duration": 5,
        "start_time": "2021-12-19T13:55:59.584Z"
      },
      {
        "duration": 9,
        "start_time": "2021-12-19T13:55:59.591Z"
      },
      {
        "duration": 5,
        "start_time": "2021-12-19T13:55:59.602Z"
      },
      {
        "duration": 55,
        "start_time": "2021-12-19T13:55:59.610Z"
      },
      {
        "duration": 2,
        "start_time": "2021-12-19T13:55:59.667Z"
      },
      {
        "duration": 17,
        "start_time": "2021-12-19T13:55:59.671Z"
      },
      {
        "duration": 11,
        "start_time": "2021-12-19T13:55:59.690Z"
      },
      {
        "duration": 393,
        "start_time": "2021-12-19T13:55:59.704Z"
      },
      {
        "duration": -3094,
        "start_time": "2021-12-19T13:56:03.194Z"
      },
      {
        "duration": -3113,
        "start_time": "2021-12-19T13:56:03.215Z"
      },
      {
        "duration": -3137,
        "start_time": "2021-12-19T13:56:03.239Z"
      },
      {
        "duration": -3158,
        "start_time": "2021-12-19T13:56:03.261Z"
      },
      {
        "duration": -3178,
        "start_time": "2021-12-19T13:56:03.282Z"
      },
      {
        "duration": -3200,
        "start_time": "2021-12-19T13:56:03.304Z"
      },
      {
        "duration": -3221,
        "start_time": "2021-12-19T13:56:03.326Z"
      },
      {
        "duration": -3241,
        "start_time": "2021-12-19T13:56:03.347Z"
      },
      {
        "duration": -3261,
        "start_time": "2021-12-19T13:56:03.367Z"
      },
      {
        "duration": -3289,
        "start_time": "2021-12-19T13:56:03.396Z"
      },
      {
        "duration": -3324,
        "start_time": "2021-12-19T13:56:03.431Z"
      },
      {
        "duration": -3358,
        "start_time": "2021-12-19T13:56:03.466Z"
      },
      {
        "duration": -3378,
        "start_time": "2021-12-19T13:56:03.487Z"
      },
      {
        "duration": -3399,
        "start_time": "2021-12-19T13:56:03.508Z"
      },
      {
        "duration": -3419,
        "start_time": "2021-12-19T13:56:03.529Z"
      },
      {
        "duration": -3442,
        "start_time": "2021-12-19T13:56:03.552Z"
      },
      {
        "duration": -3462,
        "start_time": "2021-12-19T13:56:03.573Z"
      },
      {
        "duration": -3645,
        "start_time": "2021-12-19T13:56:03.757Z"
      },
      {
        "duration": -3675,
        "start_time": "2021-12-19T13:56:03.787Z"
      },
      {
        "duration": -3700,
        "start_time": "2021-12-19T13:56:03.813Z"
      },
      {
        "duration": -3724,
        "start_time": "2021-12-19T13:56:03.838Z"
      },
      {
        "duration": -3920,
        "start_time": "2021-12-19T13:56:04.037Z"
      },
      {
        "duration": -3943,
        "start_time": "2021-12-19T13:56:04.061Z"
      },
      {
        "duration": -4035,
        "start_time": "2021-12-19T13:56:04.154Z"
      },
      {
        "duration": -4056,
        "start_time": "2021-12-19T13:56:04.177Z"
      },
      {
        "duration": 10,
        "start_time": "2021-12-19T13:56:00.135Z"
      },
      {
        "duration": 7,
        "start_time": "2021-12-19T13:56:00.171Z"
      },
      {
        "duration": 31,
        "start_time": "2021-12-19T13:56:00.182Z"
      },
      {
        "duration": 20,
        "start_time": "2021-12-19T13:56:00.216Z"
      },
      {
        "duration": 28,
        "start_time": "2021-12-19T13:56:00.240Z"
      },
      {
        "duration": 20,
        "start_time": "2021-12-19T13:56:00.271Z"
      },
      {
        "duration": 11,
        "start_time": "2021-12-19T13:56:00.293Z"
      },
      {
        "duration": 19,
        "start_time": "2021-12-19T13:56:00.307Z"
      },
      {
        "duration": 944,
        "start_time": "2021-12-19T13:56:00.328Z"
      },
      {
        "duration": 4,
        "start_time": "2021-12-19T13:56:01.274Z"
      },
      {
        "duration": 8,
        "start_time": "2021-12-19T13:56:01.280Z"
      },
      {
        "duration": 21255,
        "start_time": "2021-12-19T13:56:01.290Z"
      },
      {
        "duration": 7,
        "start_time": "2021-12-19T13:56:22.547Z"
      },
      {
        "duration": 13,
        "start_time": "2021-12-19T13:56:22.563Z"
      },
      {
        "duration": 365,
        "start_time": "2021-12-19T13:56:22.577Z"
      },
      {
        "duration": 8,
        "start_time": "2021-12-19T13:56:22.944Z"
      },
      {
        "duration": 27,
        "start_time": "2021-12-19T13:56:22.954Z"
      },
      {
        "duration": 23,
        "start_time": "2021-12-19T13:56:22.983Z"
      },
      {
        "duration": 10,
        "start_time": "2021-12-19T13:56:23.008Z"
      },
      {
        "duration": 43,
        "start_time": "2021-12-19T13:56:23.020Z"
      },
      {
        "duration": 6,
        "start_time": "2021-12-19T13:56:23.065Z"
      },
      {
        "duration": 9,
        "start_time": "2021-12-19T13:56:23.073Z"
      },
      {
        "duration": 9,
        "start_time": "2021-12-19T13:56:23.084Z"
      },
      {
        "duration": 25,
        "start_time": "2021-12-19T13:56:23.095Z"
      },
      {
        "duration": 7,
        "start_time": "2021-12-19T13:56:23.121Z"
      },
      {
        "duration": 51,
        "start_time": "2021-12-19T13:56:23.130Z"
      },
      {
        "duration": 18,
        "start_time": "2021-12-19T13:56:23.183Z"
      },
      {
        "duration": 8,
        "start_time": "2021-12-19T13:56:23.203Z"
      },
      {
        "duration": 13,
        "start_time": "2021-12-19T13:56:28.571Z"
      },
      {
        "duration": 279,
        "start_time": "2021-12-19T13:56:30.486Z"
      },
      {
        "duration": 16,
        "start_time": "2021-12-19T13:57:01.605Z"
      },
      {
        "duration": 13,
        "start_time": "2021-12-19T13:57:11.263Z"
      },
      {
        "duration": 883,
        "start_time": "2021-12-19T13:57:14.030Z"
      },
      {
        "duration": 10,
        "start_time": "2021-12-19T13:57:21.887Z"
      },
      {
        "duration": 11,
        "start_time": "2021-12-19T13:57:29.852Z"
      },
      {
        "duration": 10,
        "start_time": "2021-12-19T13:57:58.552Z"
      },
      {
        "duration": 8,
        "start_time": "2021-12-19T13:58:17.972Z"
      },
      {
        "duration": 9,
        "start_time": "2021-12-19T13:58:41.507Z"
      },
      {
        "duration": 10,
        "start_time": "2021-12-19T13:58:44.255Z"
      },
      {
        "duration": 9,
        "start_time": "2021-12-19T13:58:46.708Z"
      },
      {
        "duration": 14,
        "start_time": "2021-12-19T13:59:34.630Z"
      },
      {
        "duration": 4,
        "start_time": "2021-12-19T14:00:45.108Z"
      },
      {
        "duration": 13,
        "start_time": "2021-12-19T14:03:06.997Z"
      },
      {
        "duration": 13,
        "start_time": "2021-12-19T14:03:11.033Z"
      },
      {
        "duration": 28,
        "start_time": "2021-12-19T14:03:38.799Z"
      },
      {
        "duration": 636,
        "start_time": "2021-12-20T05:49:33.948Z"
      },
      {
        "duration": 14,
        "start_time": "2021-12-20T05:49:34.586Z"
      },
      {
        "duration": 11,
        "start_time": "2021-12-20T05:49:34.602Z"
      },
      {
        "duration": 28,
        "start_time": "2021-12-20T05:49:34.615Z"
      },
      {
        "duration": 3,
        "start_time": "2021-12-20T05:49:34.645Z"
      },
      {
        "duration": 8,
        "start_time": "2021-12-20T05:49:34.650Z"
      },
      {
        "duration": 4,
        "start_time": "2021-12-20T05:49:34.689Z"
      },
      {
        "duration": 13,
        "start_time": "2021-12-20T05:49:34.695Z"
      },
      {
        "duration": 8,
        "start_time": "2021-12-20T05:49:34.710Z"
      },
      {
        "duration": 7,
        "start_time": "2021-12-20T05:49:34.720Z"
      },
      {
        "duration": 7,
        "start_time": "2021-12-20T05:49:34.729Z"
      },
      {
        "duration": 7,
        "start_time": "2021-12-20T05:49:34.737Z"
      },
      {
        "duration": 44,
        "start_time": "2021-12-20T05:49:34.746Z"
      },
      {
        "duration": 7,
        "start_time": "2021-12-20T05:49:34.791Z"
      },
      {
        "duration": 22,
        "start_time": "2021-12-20T05:49:34.799Z"
      },
      {
        "duration": 3,
        "start_time": "2021-12-20T05:49:34.823Z"
      },
      {
        "duration": 12,
        "start_time": "2021-12-20T05:49:34.827Z"
      },
      {
        "duration": 303,
        "start_time": "2021-12-20T05:49:34.841Z"
      },
      {
        "duration": -4726,
        "start_time": "2021-12-20T05:49:39.873Z"
      },
      {
        "duration": -4759,
        "start_time": "2021-12-20T05:49:39.907Z"
      },
      {
        "duration": -4784,
        "start_time": "2021-12-20T05:49:39.933Z"
      },
      {
        "duration": -4809,
        "start_time": "2021-12-20T05:49:39.958Z"
      },
      {
        "duration": -4829,
        "start_time": "2021-12-20T05:49:39.979Z"
      },
      {
        "duration": -4851,
        "start_time": "2021-12-20T05:49:40.002Z"
      },
      {
        "duration": -4873,
        "start_time": "2021-12-20T05:49:40.024Z"
      },
      {
        "duration": -4896,
        "start_time": "2021-12-20T05:49:40.048Z"
      },
      {
        "duration": -4916,
        "start_time": "2021-12-20T05:49:40.069Z"
      },
      {
        "duration": -4940,
        "start_time": "2021-12-20T05:49:40.094Z"
      },
      {
        "duration": -4961,
        "start_time": "2021-12-20T05:49:40.115Z"
      },
      {
        "duration": -4983,
        "start_time": "2021-12-20T05:49:40.138Z"
      },
      {
        "duration": -5003,
        "start_time": "2021-12-20T05:49:40.159Z"
      },
      {
        "duration": -5069,
        "start_time": "2021-12-20T05:49:40.225Z"
      },
      {
        "duration": -5090,
        "start_time": "2021-12-20T05:49:40.247Z"
      },
      {
        "duration": -5113,
        "start_time": "2021-12-20T05:49:40.270Z"
      },
      {
        "duration": -5134,
        "start_time": "2021-12-20T05:49:40.292Z"
      },
      {
        "duration": -5157,
        "start_time": "2021-12-20T05:49:40.316Z"
      },
      {
        "duration": -5181,
        "start_time": "2021-12-20T05:49:40.341Z"
      },
      {
        "duration": -5202,
        "start_time": "2021-12-20T05:49:40.363Z"
      },
      {
        "duration": -5223,
        "start_time": "2021-12-20T05:49:40.384Z"
      },
      {
        "duration": -5257,
        "start_time": "2021-12-20T05:49:40.419Z"
      },
      {
        "duration": -5276,
        "start_time": "2021-12-20T05:49:40.439Z"
      },
      {
        "duration": -5295,
        "start_time": "2021-12-20T05:49:40.459Z"
      },
      {
        "duration": -5316,
        "start_time": "2021-12-20T05:49:40.481Z"
      },
      {
        "duration": -5339,
        "start_time": "2021-12-20T05:49:40.504Z"
      },
      {
        "duration": -5357,
        "start_time": "2021-12-20T05:49:40.523Z"
      },
      {
        "duration": -5414,
        "start_time": "2021-12-20T05:49:40.581Z"
      },
      {
        "duration": -5434,
        "start_time": "2021-12-20T05:49:40.602Z"
      },
      {
        "duration": -5453,
        "start_time": "2021-12-20T05:49:40.622Z"
      },
      {
        "duration": -5476,
        "start_time": "2021-12-20T05:49:40.645Z"
      },
      {
        "duration": -5495,
        "start_time": "2021-12-20T05:49:40.665Z"
      },
      {
        "duration": -5528,
        "start_time": "2021-12-20T05:49:40.699Z"
      },
      {
        "duration": -5552,
        "start_time": "2021-12-20T05:49:40.724Z"
      },
      {
        "duration": -5575,
        "start_time": "2021-12-20T05:49:40.748Z"
      },
      {
        "duration": -5596,
        "start_time": "2021-12-20T05:49:40.769Z"
      },
      {
        "duration": -5617,
        "start_time": "2021-12-20T05:49:40.791Z"
      },
      {
        "duration": -5636,
        "start_time": "2021-12-20T05:49:40.811Z"
      },
      {
        "duration": -5799,
        "start_time": "2021-12-20T05:49:40.975Z"
      },
      {
        "duration": -7178,
        "start_time": "2021-12-20T05:49:42.355Z"
      },
      {
        "duration": -7642,
        "start_time": "2021-12-20T05:49:42.820Z"
      },
      {
        "duration": -7913,
        "start_time": "2021-12-20T05:49:43.091Z"
      },
      {
        "duration": -7940,
        "start_time": "2021-12-20T05:49:43.119Z"
      },
      {
        "duration": -7960,
        "start_time": "2021-12-20T05:49:43.140Z"
      },
      {
        "duration": -7978,
        "start_time": "2021-12-20T05:49:43.159Z"
      },
      {
        "duration": -7997,
        "start_time": "2021-12-20T05:49:43.179Z"
      },
      {
        "duration": -8015,
        "start_time": "2021-12-20T05:49:43.198Z"
      },
      {
        "duration": -8055,
        "start_time": "2021-12-20T05:49:43.243Z"
      },
      {
        "duration": 243,
        "start_time": "2021-12-20T05:49:35.189Z"
      },
      {
        "duration": 4793,
        "start_time": "2021-12-20T06:02:30.469Z"
      },
      {
        "duration": 9,
        "start_time": "2021-12-20T06:03:06.629Z"
      },
      {
        "duration": 5151,
        "start_time": "2021-12-20T06:03:11.868Z"
      },
      {
        "duration": 10,
        "start_time": "2021-12-20T06:03:24.830Z"
      },
      {
        "duration": 4789,
        "start_time": "2021-12-20T06:09:13.459Z"
      },
      {
        "duration": 79,
        "start_time": "2021-12-20T06:09:33.127Z"
      },
      {
        "duration": 5489,
        "start_time": "2021-12-20T06:09:49.273Z"
      },
      {
        "duration": 5285,
        "start_time": "2021-12-20T06:21:26.590Z"
      },
      {
        "duration": 241,
        "start_time": "2021-12-20T06:21:53.229Z"
      },
      {
        "duration": 239,
        "start_time": "2021-12-20T06:22:16.550Z"
      },
      {
        "duration": 6936,
        "start_time": "2021-12-20T06:28:36.987Z"
      },
      {
        "duration": 275,
        "start_time": "2021-12-20T06:29:05.410Z"
      },
      {
        "duration": 38,
        "start_time": "2021-12-20T06:29:42.743Z"
      },
      {
        "duration": 36,
        "start_time": "2021-12-20T06:29:59.811Z"
      },
      {
        "duration": 4,
        "start_time": "2021-12-20T06:30:10.761Z"
      },
      {
        "duration": 8,
        "start_time": "2021-12-20T06:30:13.561Z"
      },
      {
        "duration": 7,
        "start_time": "2021-12-20T06:31:25.096Z"
      },
      {
        "duration": 8,
        "start_time": "2021-12-20T06:31:37.056Z"
      },
      {
        "duration": 56,
        "start_time": "2021-12-20T06:31:45.048Z"
      },
      {
        "duration": 11,
        "start_time": "2021-12-20T06:31:45.106Z"
      },
      {
        "duration": 13,
        "start_time": "2021-12-20T06:31:45.118Z"
      },
      {
        "duration": 28,
        "start_time": "2021-12-20T06:31:45.133Z"
      },
      {
        "duration": 26,
        "start_time": "2021-12-20T06:31:45.162Z"
      },
      {
        "duration": 8,
        "start_time": "2021-12-20T06:31:45.190Z"
      },
      {
        "duration": 4,
        "start_time": "2021-12-20T06:31:45.199Z"
      },
      {
        "duration": 12,
        "start_time": "2021-12-20T06:31:45.204Z"
      },
      {
        "duration": 9,
        "start_time": "2021-12-20T06:31:45.219Z"
      },
      {
        "duration": 66,
        "start_time": "2021-12-20T06:31:45.230Z"
      },
      {
        "duration": 4,
        "start_time": "2021-12-20T06:31:45.298Z"
      },
      {
        "duration": 10,
        "start_time": "2021-12-20T06:31:45.304Z"
      },
      {
        "duration": 5,
        "start_time": "2021-12-20T06:31:45.316Z"
      },
      {
        "duration": 11,
        "start_time": "2021-12-20T06:31:45.323Z"
      },
      {
        "duration": 13,
        "start_time": "2021-12-20T06:31:45.336Z"
      },
      {
        "duration": 17,
        "start_time": "2021-12-20T06:31:45.389Z"
      },
      {
        "duration": 13,
        "start_time": "2021-12-20T06:31:45.408Z"
      },
      {
        "duration": 4,
        "start_time": "2021-12-20T06:31:45.423Z"
      },
      {
        "duration": 4,
        "start_time": "2021-12-20T06:31:45.428Z"
      },
      {
        "duration": 14,
        "start_time": "2021-12-20T06:31:45.434Z"
      },
      {
        "duration": 8,
        "start_time": "2021-12-20T06:31:45.450Z"
      },
      {
        "duration": 46,
        "start_time": "2021-12-20T06:31:45.459Z"
      },
      {
        "duration": 15,
        "start_time": "2021-12-20T06:31:45.506Z"
      },
      {
        "duration": 14,
        "start_time": "2021-12-20T06:31:45.522Z"
      },
      {
        "duration": 4,
        "start_time": "2021-12-20T06:31:45.538Z"
      },
      {
        "duration": 4,
        "start_time": "2021-12-20T06:31:45.543Z"
      },
      {
        "duration": 39,
        "start_time": "2021-12-20T06:31:45.550Z"
      },
      {
        "duration": 8,
        "start_time": "2021-12-20T06:31:45.591Z"
      },
      {
        "duration": 5,
        "start_time": "2021-12-20T06:31:45.600Z"
      },
      {
        "duration": 3,
        "start_time": "2021-12-20T06:31:45.607Z"
      },
      {
        "duration": 13,
        "start_time": "2021-12-20T06:31:45.612Z"
      },
      {
        "duration": 13,
        "start_time": "2021-12-20T06:31:45.626Z"
      },
      {
        "duration": 7,
        "start_time": "2021-12-20T06:31:45.641Z"
      },
      {
        "duration": 9,
        "start_time": "2021-12-20T06:31:45.650Z"
      },
      {
        "duration": 28,
        "start_time": "2021-12-20T06:31:45.660Z"
      },
      {
        "duration": 6,
        "start_time": "2021-12-20T06:31:45.690Z"
      },
      {
        "duration": 4,
        "start_time": "2021-12-20T06:31:45.698Z"
      },
      {
        "duration": 6,
        "start_time": "2021-12-20T06:31:45.704Z"
      },
      {
        "duration": 10,
        "start_time": "2021-12-20T06:31:45.712Z"
      },
      {
        "duration": 9,
        "start_time": "2021-12-20T06:31:45.723Z"
      },
      {
        "duration": 7,
        "start_time": "2021-12-20T06:31:45.733Z"
      },
      {
        "duration": 6,
        "start_time": "2021-12-20T06:31:45.741Z"
      },
      {
        "duration": 3,
        "start_time": "2021-12-20T06:31:45.749Z"
      },
      {
        "duration": 673,
        "start_time": "2021-12-20T06:31:45.788Z"
      },
      {
        "duration": 3,
        "start_time": "2021-12-20T06:31:46.463Z"
      },
      {
        "duration": 19,
        "start_time": "2021-12-20T06:31:46.469Z"
      },
      {
        "duration": 19439,
        "start_time": "2021-12-20T06:31:46.490Z"
      },
      {
        "duration": 6,
        "start_time": "2021-12-20T06:32:05.931Z"
      },
      {
        "duration": 8,
        "start_time": "2021-12-20T06:32:05.939Z"
      },
      {
        "duration": 370,
        "start_time": "2021-12-20T06:32:05.949Z"
      },
      {
        "duration": 7,
        "start_time": "2021-12-20T06:32:06.320Z"
      },
      {
        "duration": 13,
        "start_time": "2021-12-20T06:32:06.328Z"
      },
      {
        "duration": 20,
        "start_time": "2021-12-20T06:32:06.343Z"
      },
      {
        "duration": 29,
        "start_time": "2021-12-20T06:32:06.365Z"
      },
      {
        "duration": 17,
        "start_time": "2021-12-20T06:32:06.396Z"
      },
      {
        "duration": 5,
        "start_time": "2021-12-20T06:32:06.414Z"
      },
      {
        "duration": 7,
        "start_time": "2021-12-20T06:32:06.421Z"
      },
      {
        "duration": 2,
        "start_time": "2021-12-20T06:32:06.430Z"
      },
      {
        "duration": 20,
        "start_time": "2021-12-20T06:32:06.434Z"
      },
      {
        "duration": 36,
        "start_time": "2021-12-20T06:32:06.455Z"
      },
      {
        "duration": 23,
        "start_time": "2021-12-20T06:32:06.492Z"
      },
      {
        "duration": 17,
        "start_time": "2021-12-20T06:32:06.516Z"
      },
      {
        "duration": 2957,
        "start_time": "2021-12-20T06:35:18.739Z"
      },
      {
        "duration": 12,
        "start_time": "2021-12-20T06:39:24.438Z"
      },
      {
        "duration": 12,
        "start_time": "2021-12-20T06:39:35.396Z"
      },
      {
        "duration": 11,
        "start_time": "2021-12-20T06:40:00.969Z"
      },
      {
        "duration": 7,
        "start_time": "2021-12-20T06:40:39.212Z"
      },
      {
        "duration": 11,
        "start_time": "2021-12-20T06:40:46.550Z"
      },
      {
        "duration": 21,
        "start_time": "2021-12-20T06:42:56.544Z"
      },
      {
        "duration": 11,
        "start_time": "2021-12-20T06:43:28.602Z"
      },
      {
        "duration": 2,
        "start_time": "2021-12-20T06:50:46.302Z"
      },
      {
        "duration": 19,
        "start_time": "2021-12-20T06:51:49.603Z"
      },
      {
        "duration": 18,
        "start_time": "2021-12-20T06:51:59.718Z"
      },
      {
        "duration": 18,
        "start_time": "2021-12-20T06:52:18.586Z"
      },
      {
        "duration": 58,
        "start_time": "2021-12-20T06:54:00.876Z"
      },
      {
        "duration": 12,
        "start_time": "2021-12-20T06:54:00.935Z"
      },
      {
        "duration": 13,
        "start_time": "2021-12-20T06:54:00.948Z"
      },
      {
        "duration": 49,
        "start_time": "2021-12-20T06:54:00.963Z"
      },
      {
        "duration": 4,
        "start_time": "2021-12-20T06:54:01.013Z"
      },
      {
        "duration": 16,
        "start_time": "2021-12-20T06:54:01.018Z"
      },
      {
        "duration": 9,
        "start_time": "2021-12-20T06:54:01.035Z"
      },
      {
        "duration": 17,
        "start_time": "2021-12-20T06:54:01.045Z"
      },
      {
        "duration": 11,
        "start_time": "2021-12-20T06:54:01.064Z"
      },
      {
        "duration": 58,
        "start_time": "2021-12-20T06:54:01.077Z"
      },
      {
        "duration": 6,
        "start_time": "2021-12-20T06:54:01.137Z"
      },
      {
        "duration": 8,
        "start_time": "2021-12-20T06:54:01.144Z"
      },
      {
        "duration": 22,
        "start_time": "2021-12-20T06:54:01.153Z"
      },
      {
        "duration": 252,
        "start_time": "2021-12-20T06:54:01.176Z"
      },
      {
        "duration": -4044,
        "start_time": "2021-12-20T06:54:05.474Z"
      },
      {
        "duration": -4069,
        "start_time": "2021-12-20T06:54:05.500Z"
      },
      {
        "duration": -4089,
        "start_time": "2021-12-20T06:54:05.521Z"
      },
      {
        "duration": -4111,
        "start_time": "2021-12-20T06:54:05.544Z"
      },
      {
        "duration": -4132,
        "start_time": "2021-12-20T06:54:05.566Z"
      },
      {
        "duration": -4155,
        "start_time": "2021-12-20T06:54:05.590Z"
      },
      {
        "duration": -4175,
        "start_time": "2021-12-20T06:54:05.611Z"
      },
      {
        "duration": -4199,
        "start_time": "2021-12-20T06:54:05.636Z"
      },
      {
        "duration": -4365,
        "start_time": "2021-12-20T06:54:05.802Z"
      },
      {
        "duration": -4386,
        "start_time": "2021-12-20T06:54:05.824Z"
      },
      {
        "duration": -4405,
        "start_time": "2021-12-20T06:54:05.844Z"
      },
      {
        "duration": -4423,
        "start_time": "2021-12-20T06:54:05.863Z"
      },
      {
        "duration": -4445,
        "start_time": "2021-12-20T06:54:05.886Z"
      },
      {
        "duration": -4463,
        "start_time": "2021-12-20T06:54:05.905Z"
      },
      {
        "duration": -4483,
        "start_time": "2021-12-20T06:54:05.925Z"
      },
      {
        "duration": -4501,
        "start_time": "2021-12-20T06:54:05.945Z"
      },
      {
        "duration": -4526,
        "start_time": "2021-12-20T06:54:05.970Z"
      },
      {
        "duration": -4544,
        "start_time": "2021-12-20T06:54:05.989Z"
      },
      {
        "duration": -4563,
        "start_time": "2021-12-20T06:54:06.009Z"
      },
      {
        "duration": -4581,
        "start_time": "2021-12-20T06:54:06.028Z"
      },
      {
        "duration": -4602,
        "start_time": "2021-12-20T06:54:06.050Z"
      },
      {
        "duration": -4620,
        "start_time": "2021-12-20T06:54:06.069Z"
      },
      {
        "duration": -4640,
        "start_time": "2021-12-20T06:54:06.089Z"
      },
      {
        "duration": -4658,
        "start_time": "2021-12-20T06:54:06.108Z"
      },
      {
        "duration": -4681,
        "start_time": "2021-12-20T06:54:06.133Z"
      },
      {
        "duration": -4923,
        "start_time": "2021-12-20T06:54:06.376Z"
      },
      {
        "duration": -5013,
        "start_time": "2021-12-20T06:54:06.468Z"
      },
      {
        "duration": -5090,
        "start_time": "2021-12-20T06:54:06.546Z"
      },
      {
        "duration": -5224,
        "start_time": "2021-12-20T06:54:06.682Z"
      },
      {
        "duration": -5298,
        "start_time": "2021-12-20T06:54:06.757Z"
      },
      {
        "duration": -5436,
        "start_time": "2021-12-20T06:54:06.896Z"
      },
      {
        "duration": -5478,
        "start_time": "2021-12-20T06:54:06.939Z"
      },
      {
        "duration": -5500,
        "start_time": "2021-12-20T06:54:06.963Z"
      },
      {
        "duration": -5547,
        "start_time": "2021-12-20T06:54:07.011Z"
      },
      {
        "duration": -5569,
        "start_time": "2021-12-20T06:54:07.034Z"
      },
      {
        "duration": -5567,
        "start_time": "2021-12-20T06:54:07.054Z"
      },
      {
        "duration": -5590,
        "start_time": "2021-12-20T06:54:07.078Z"
      },
      {
        "duration": -5608,
        "start_time": "2021-12-20T06:54:07.098Z"
      },
      {
        "duration": -5627,
        "start_time": "2021-12-20T06:54:07.118Z"
      },
      {
        "duration": -5647,
        "start_time": "2021-12-20T06:54:07.139Z"
      },
      {
        "duration": -5670,
        "start_time": "2021-12-20T06:54:07.164Z"
      },
      {
        "duration": -5688,
        "start_time": "2021-12-20T06:54:07.183Z"
      },
      {
        "duration": -5708,
        "start_time": "2021-12-20T06:54:07.204Z"
      },
      {
        "duration": -5728,
        "start_time": "2021-12-20T06:54:07.225Z"
      },
      {
        "duration": -5752,
        "start_time": "2021-12-20T06:54:07.249Z"
      },
      {
        "duration": -5773,
        "start_time": "2021-12-20T06:54:07.271Z"
      },
      {
        "duration": -5794,
        "start_time": "2021-12-20T06:54:07.293Z"
      },
      {
        "duration": -5813,
        "start_time": "2021-12-20T06:54:07.314Z"
      },
      {
        "duration": 326,
        "start_time": "2021-12-20T06:54:19.843Z"
      },
      {
        "duration": 9,
        "start_time": "2021-12-20T06:54:30.096Z"
      },
      {
        "duration": 8,
        "start_time": "2021-12-20T06:54:34.465Z"
      },
      {
        "duration": 9,
        "start_time": "2021-12-20T06:54:37.548Z"
      },
      {
        "duration": 7,
        "start_time": "2021-12-20T06:55:53.772Z"
      },
      {
        "duration": 10,
        "start_time": "2021-12-20T06:55:57.168Z"
      },
      {
        "duration": 3,
        "start_time": "2021-12-20T06:56:07.168Z"
      },
      {
        "duration": 9,
        "start_time": "2021-12-20T06:56:10.268Z"
      },
      {
        "duration": 5,
        "start_time": "2021-12-20T06:57:07.299Z"
      },
      {
        "duration": 10,
        "start_time": "2021-12-20T06:57:10.665Z"
      },
      {
        "duration": 55,
        "start_time": "2021-12-20T06:57:24.131Z"
      },
      {
        "duration": 11,
        "start_time": "2021-12-20T06:57:24.188Z"
      },
      {
        "duration": 10,
        "start_time": "2021-12-20T06:57:24.201Z"
      },
      {
        "duration": 28,
        "start_time": "2021-12-20T06:57:24.214Z"
      },
      {
        "duration": 4,
        "start_time": "2021-12-20T06:57:24.244Z"
      },
      {
        "duration": 38,
        "start_time": "2021-12-20T06:57:24.250Z"
      },
      {
        "duration": 4,
        "start_time": "2021-12-20T06:57:24.289Z"
      },
      {
        "duration": 11,
        "start_time": "2021-12-20T06:57:24.295Z"
      },
      {
        "duration": 8,
        "start_time": "2021-12-20T06:57:24.309Z"
      },
      {
        "duration": 37,
        "start_time": "2021-12-20T06:57:24.319Z"
      },
      {
        "duration": 32,
        "start_time": "2021-12-20T06:57:24.357Z"
      },
      {
        "duration": 11,
        "start_time": "2021-12-20T06:57:24.391Z"
      },
      {
        "duration": 4,
        "start_time": "2021-12-20T06:57:24.403Z"
      },
      {
        "duration": 11,
        "start_time": "2021-12-20T06:57:24.409Z"
      },
      {
        "duration": 13,
        "start_time": "2021-12-20T06:57:24.421Z"
      },
      {
        "duration": 13,
        "start_time": "2021-12-20T06:57:24.436Z"
      },
      {
        "duration": 48,
        "start_time": "2021-12-20T06:57:24.451Z"
      },
      {
        "duration": 4,
        "start_time": "2021-12-20T06:57:24.501Z"
      },
      {
        "duration": 5,
        "start_time": "2021-12-20T06:57:24.506Z"
      },
      {
        "duration": 11,
        "start_time": "2021-12-20T06:57:24.513Z"
      },
      {
        "duration": 7,
        "start_time": "2021-12-20T06:57:24.526Z"
      },
      {
        "duration": 15,
        "start_time": "2021-12-20T06:57:24.535Z"
      },
      {
        "duration": 45,
        "start_time": "2021-12-20T06:57:24.552Z"
      },
      {
        "duration": 15,
        "start_time": "2021-12-20T06:57:24.599Z"
      },
      {
        "duration": 5,
        "start_time": "2021-12-20T06:57:24.615Z"
      },
      {
        "duration": 8,
        "start_time": "2021-12-20T06:57:24.621Z"
      },
      {
        "duration": 7,
        "start_time": "2021-12-20T06:57:24.630Z"
      },
      {
        "duration": 10,
        "start_time": "2021-12-20T06:57:24.638Z"
      },
      {
        "duration": 8,
        "start_time": "2021-12-20T06:57:24.650Z"
      },
      {
        "duration": 2,
        "start_time": "2021-12-20T06:57:24.688Z"
      },
      {
        "duration": 16,
        "start_time": "2021-12-20T06:57:24.692Z"
      },
      {
        "duration": 4,
        "start_time": "2021-12-20T06:57:24.710Z"
      },
      {
        "duration": 10,
        "start_time": "2021-12-20T06:57:24.716Z"
      },
      {
        "duration": 5,
        "start_time": "2021-12-20T06:57:24.728Z"
      },
      {
        "duration": 7,
        "start_time": "2021-12-20T06:57:24.735Z"
      },
      {
        "duration": 5,
        "start_time": "2021-12-20T06:57:24.744Z"
      },
      {
        "duration": 5,
        "start_time": "2021-12-20T06:57:24.787Z"
      },
      {
        "duration": 6,
        "start_time": "2021-12-20T06:57:24.794Z"
      },
      {
        "duration": 5,
        "start_time": "2021-12-20T06:57:24.802Z"
      },
      {
        "duration": 6,
        "start_time": "2021-12-20T06:57:24.808Z"
      },
      {
        "duration": 8,
        "start_time": "2021-12-20T06:57:24.815Z"
      },
      {
        "duration": 6,
        "start_time": "2021-12-20T06:57:24.825Z"
      },
      {
        "duration": 675,
        "start_time": "2021-12-20T06:57:24.833Z"
      },
      {
        "duration": 3,
        "start_time": "2021-12-20T06:57:25.510Z"
      },
      {
        "duration": 6,
        "start_time": "2021-12-20T06:57:25.515Z"
      },
      {
        "duration": 19786,
        "start_time": "2021-12-20T06:57:25.522Z"
      },
      {
        "duration": 7,
        "start_time": "2021-12-20T06:57:45.310Z"
      },
      {
        "duration": 27,
        "start_time": "2021-12-20T06:57:45.319Z"
      },
      {
        "duration": 357,
        "start_time": "2021-12-20T06:57:45.348Z"
      },
      {
        "duration": 6,
        "start_time": "2021-12-20T06:57:45.707Z"
      },
      {
        "duration": 21,
        "start_time": "2021-12-20T06:57:45.715Z"
      },
      {
        "duration": 19,
        "start_time": "2021-12-20T06:57:45.738Z"
      },
      {
        "duration": 7,
        "start_time": "2021-12-20T06:57:45.758Z"
      },
      {
        "duration": 35,
        "start_time": "2021-12-20T06:57:45.766Z"
      },
      {
        "duration": 6,
        "start_time": "2021-12-20T06:57:45.802Z"
      },
      {
        "duration": 10,
        "start_time": "2021-12-20T06:57:45.809Z"
      },
      {
        "duration": 3,
        "start_time": "2021-12-20T06:57:45.820Z"
      },
      {
        "duration": 19,
        "start_time": "2021-12-20T06:57:45.824Z"
      },
      {
        "duration": 7,
        "start_time": "2021-12-20T06:57:45.845Z"
      },
      {
        "duration": 50,
        "start_time": "2021-12-20T06:57:45.853Z"
      },
      {
        "duration": 18,
        "start_time": "2021-12-20T06:57:45.904Z"
      },
      {
        "duration": 4,
        "start_time": "2021-12-20T06:59:36.855Z"
      },
      {
        "duration": 14,
        "start_time": "2021-12-20T06:59:58.452Z"
      },
      {
        "duration": 13,
        "start_time": "2021-12-20T07:00:04.311Z"
      },
      {
        "duration": 61,
        "start_time": "2021-12-20T07:00:12.365Z"
      },
      {
        "duration": 11,
        "start_time": "2021-12-20T07:00:12.428Z"
      },
      {
        "duration": 11,
        "start_time": "2021-12-20T07:00:12.441Z"
      },
      {
        "duration": 44,
        "start_time": "2021-12-20T07:00:12.454Z"
      },
      {
        "duration": 3,
        "start_time": "2021-12-20T07:00:12.499Z"
      },
      {
        "duration": 6,
        "start_time": "2021-12-20T07:00:12.504Z"
      },
      {
        "duration": 4,
        "start_time": "2021-12-20T07:00:12.512Z"
      },
      {
        "duration": 10,
        "start_time": "2021-12-20T07:00:12.518Z"
      },
      {
        "duration": 8,
        "start_time": "2021-12-20T07:00:12.530Z"
      },
      {
        "duration": 67,
        "start_time": "2021-12-20T07:00:12.539Z"
      },
      {
        "duration": 3,
        "start_time": "2021-12-20T07:00:12.608Z"
      },
      {
        "duration": 12,
        "start_time": "2021-12-20T07:00:12.612Z"
      },
      {
        "duration": 4,
        "start_time": "2021-12-20T07:00:12.625Z"
      },
      {
        "duration": 13,
        "start_time": "2021-12-20T07:00:12.630Z"
      },
      {
        "duration": 13,
        "start_time": "2021-12-20T07:00:12.645Z"
      },
      {
        "duration": 44,
        "start_time": "2021-12-20T07:00:12.660Z"
      },
      {
        "duration": 18,
        "start_time": "2021-12-20T07:00:12.706Z"
      },
      {
        "duration": 6,
        "start_time": "2021-12-20T07:00:12.726Z"
      },
      {
        "duration": 5,
        "start_time": "2021-12-20T07:00:12.733Z"
      },
      {
        "duration": 15,
        "start_time": "2021-12-20T07:00:12.740Z"
      },
      {
        "duration": 37,
        "start_time": "2021-12-20T07:00:12.756Z"
      },
      {
        "duration": 14,
        "start_time": "2021-12-20T07:00:12.795Z"
      },
      {
        "duration": 15,
        "start_time": "2021-12-20T07:00:12.811Z"
      },
      {
        "duration": 13,
        "start_time": "2021-12-20T07:00:12.828Z"
      },
      {
        "duration": 4,
        "start_time": "2021-12-20T07:00:12.843Z"
      },
      {
        "duration": 40,
        "start_time": "2021-12-20T07:00:12.848Z"
      },
      {
        "duration": 4,
        "start_time": "2021-12-20T07:00:12.890Z"
      },
      {
        "duration": 9,
        "start_time": "2021-12-20T07:00:12.896Z"
      },
      {
        "duration": 6,
        "start_time": "2021-12-20T07:00:12.906Z"
      },
      {
        "duration": 2,
        "start_time": "2021-12-20T07:00:12.914Z"
      },
      {
        "duration": 5,
        "start_time": "2021-12-20T07:00:12.918Z"
      },
      {
        "duration": 12,
        "start_time": "2021-12-20T07:00:12.926Z"
      },
      {
        "duration": 5,
        "start_time": "2021-12-20T07:00:12.940Z"
      },
      {
        "duration": 47,
        "start_time": "2021-12-20T07:00:12.947Z"
      },
      {
        "duration": 7,
        "start_time": "2021-12-20T07:00:12.996Z"
      },
      {
        "duration": 8,
        "start_time": "2021-12-20T07:00:13.004Z"
      },
      {
        "duration": 7,
        "start_time": "2021-12-20T07:00:13.013Z"
      },
      {
        "duration": 5,
        "start_time": "2021-12-20T07:00:13.021Z"
      },
      {
        "duration": 5,
        "start_time": "2021-12-20T07:00:13.028Z"
      },
      {
        "duration": 2,
        "start_time": "2021-12-20T07:00:13.035Z"
      },
      {
        "duration": 49,
        "start_time": "2021-12-20T07:00:13.039Z"
      },
      {
        "duration": 6,
        "start_time": "2021-12-20T07:00:13.089Z"
      },
      {
        "duration": 4,
        "start_time": "2021-12-20T07:00:13.096Z"
      },
      {
        "duration": 888,
        "start_time": "2021-12-20T07:00:13.101Z"
      },
      {
        "duration": 3,
        "start_time": "2021-12-20T07:00:13.991Z"
      },
      {
        "duration": 6,
        "start_time": "2021-12-20T07:00:13.996Z"
      },
      {
        "duration": 19918,
        "start_time": "2021-12-20T07:00:14.004Z"
      },
      {
        "duration": 7,
        "start_time": "2021-12-20T07:00:33.923Z"
      },
      {
        "duration": 7,
        "start_time": "2021-12-20T07:00:33.931Z"
      },
      {
        "duration": 353,
        "start_time": "2021-12-20T07:00:33.939Z"
      },
      {
        "duration": 6,
        "start_time": "2021-12-20T07:00:34.294Z"
      },
      {
        "duration": 12,
        "start_time": "2021-12-20T07:00:34.302Z"
      },
      {
        "duration": 19,
        "start_time": "2021-12-20T07:00:34.316Z"
      },
      {
        "duration": 8,
        "start_time": "2021-12-20T07:00:34.337Z"
      },
      {
        "duration": 46,
        "start_time": "2021-12-20T07:00:34.346Z"
      },
      {
        "duration": 6,
        "start_time": "2021-12-20T07:00:34.394Z"
      },
      {
        "duration": 7,
        "start_time": "2021-12-20T07:00:34.401Z"
      },
      {
        "duration": 2,
        "start_time": "2021-12-20T07:00:34.410Z"
      },
      {
        "duration": 21,
        "start_time": "2021-12-20T07:00:34.414Z"
      },
      {
        "duration": 14,
        "start_time": "2021-12-20T07:00:34.436Z"
      },
      {
        "duration": 46,
        "start_time": "2021-12-20T07:00:34.451Z"
      },
      {
        "duration": 24,
        "start_time": "2021-12-20T07:00:34.498Z"
      },
      {
        "duration": 7,
        "start_time": "2021-12-20T07:01:11.236Z"
      },
      {
        "duration": 8,
        "start_time": "2021-12-20T07:01:28.442Z"
      },
      {
        "duration": 7,
        "start_time": "2021-12-20T07:01:31.291Z"
      },
      {
        "duration": 7,
        "start_time": "2021-12-20T07:01:33.943Z"
      },
      {
        "duration": 60,
        "start_time": "2021-12-20T07:01:39.997Z"
      },
      {
        "duration": 10,
        "start_time": "2021-12-20T07:01:40.059Z"
      },
      {
        "duration": 12,
        "start_time": "2021-12-20T07:01:40.071Z"
      },
      {
        "duration": 28,
        "start_time": "2021-12-20T07:01:40.087Z"
      },
      {
        "duration": 3,
        "start_time": "2021-12-20T07:01:40.117Z"
      },
      {
        "duration": 8,
        "start_time": "2021-12-20T07:01:40.122Z"
      },
      {
        "duration": 4,
        "start_time": "2021-12-20T07:01:40.131Z"
      },
      {
        "duration": 10,
        "start_time": "2021-12-20T07:01:40.136Z"
      },
      {
        "duration": 7,
        "start_time": "2021-12-20T07:01:40.148Z"
      },
      {
        "duration": 66,
        "start_time": "2021-12-20T07:01:40.156Z"
      },
      {
        "duration": 2,
        "start_time": "2021-12-20T07:01:40.224Z"
      },
      {
        "duration": 10,
        "start_time": "2021-12-20T07:01:40.228Z"
      },
      {
        "duration": 4,
        "start_time": "2021-12-20T07:01:40.239Z"
      },
      {
        "duration": 17,
        "start_time": "2021-12-20T07:01:40.244Z"
      },
      {
        "duration": 34,
        "start_time": "2021-12-20T07:01:40.262Z"
      },
      {
        "duration": 14,
        "start_time": "2021-12-20T07:01:40.298Z"
      },
      {
        "duration": 13,
        "start_time": "2021-12-20T07:01:40.314Z"
      },
      {
        "duration": 4,
        "start_time": "2021-12-20T07:01:40.329Z"
      },
      {
        "duration": 4,
        "start_time": "2021-12-20T07:01:40.335Z"
      },
      {
        "duration": 13,
        "start_time": "2021-12-20T07:01:40.341Z"
      },
      {
        "duration": 6,
        "start_time": "2021-12-20T07:01:40.389Z"
      },
      {
        "duration": 15,
        "start_time": "2021-12-20T07:01:40.397Z"
      },
      {
        "duration": 16,
        "start_time": "2021-12-20T07:01:40.414Z"
      },
      {
        "duration": 16,
        "start_time": "2021-12-20T07:01:40.431Z"
      },
      {
        "duration": 4,
        "start_time": "2021-12-20T07:01:40.449Z"
      },
      {
        "duration": 35,
        "start_time": "2021-12-20T07:01:40.455Z"
      },
      {
        "duration": 7,
        "start_time": "2021-12-20T07:01:40.492Z"
      },
      {
        "duration": 10,
        "start_time": "2021-12-20T07:01:40.500Z"
      },
      {
        "duration": 5,
        "start_time": "2021-12-20T07:01:40.511Z"
      },
      {
        "duration": 4,
        "start_time": "2021-12-20T07:01:40.517Z"
      },
      {
        "duration": 7,
        "start_time": "2021-12-20T07:01:40.523Z"
      },
      {
        "duration": 13,
        "start_time": "2021-12-20T07:01:40.531Z"
      },
      {
        "duration": 5,
        "start_time": "2021-12-20T07:01:40.545Z"
      },
      {
        "duration": 43,
        "start_time": "2021-12-20T07:01:40.551Z"
      },
      {
        "duration": 5,
        "start_time": "2021-12-20T07:01:40.597Z"
      },
      {
        "duration": 8,
        "start_time": "2021-12-20T07:01:40.604Z"
      },
      {
        "duration": 6,
        "start_time": "2021-12-20T07:01:40.613Z"
      },
      {
        "duration": 4,
        "start_time": "2021-12-20T07:01:40.621Z"
      },
      {
        "duration": 6,
        "start_time": "2021-12-20T07:01:40.626Z"
      },
      {
        "duration": 6,
        "start_time": "2021-12-20T07:01:40.634Z"
      },
      {
        "duration": 5,
        "start_time": "2021-12-20T07:01:40.641Z"
      },
      {
        "duration": 7,
        "start_time": "2021-12-20T07:01:40.648Z"
      },
      {
        "duration": 4,
        "start_time": "2021-12-20T07:01:40.688Z"
      },
      {
        "duration": 658,
        "start_time": "2021-12-20T07:01:40.695Z"
      },
      {
        "duration": 3,
        "start_time": "2021-12-20T07:01:41.355Z"
      },
      {
        "duration": 9,
        "start_time": "2021-12-20T07:01:41.360Z"
      },
      {
        "duration": 19819,
        "start_time": "2021-12-20T07:01:41.371Z"
      },
      {
        "duration": 6,
        "start_time": "2021-12-20T07:02:01.192Z"
      },
      {
        "duration": 8,
        "start_time": "2021-12-20T07:02:01.200Z"
      },
      {
        "duration": 335,
        "start_time": "2021-12-20T07:02:01.210Z"
      },
      {
        "duration": 7,
        "start_time": "2021-12-20T07:02:01.546Z"
      },
      {
        "duration": 45,
        "start_time": "2021-12-20T07:02:01.555Z"
      },
      {
        "duration": 21,
        "start_time": "2021-12-20T07:02:01.602Z"
      },
      {
        "duration": 9,
        "start_time": "2021-12-20T07:02:01.625Z"
      },
      {
        "duration": 17,
        "start_time": "2021-12-20T07:02:01.637Z"
      },
      {
        "duration": 6,
        "start_time": "2021-12-20T07:02:01.656Z"
      },
      {
        "duration": 9,
        "start_time": "2021-12-20T07:02:01.688Z"
      },
      {
        "duration": 29,
        "start_time": "2021-12-20T07:02:01.699Z"
      },
      {
        "duration": 29,
        "start_time": "2021-12-20T07:02:01.729Z"
      },
      {
        "duration": 17,
        "start_time": "2021-12-20T07:02:01.760Z"
      },
      {
        "duration": 32,
        "start_time": "2021-12-20T07:02:01.779Z"
      },
      {
        "duration": 18,
        "start_time": "2021-12-20T07:02:01.814Z"
      },
      {
        "duration": 4,
        "start_time": "2021-12-20T07:03:50.216Z"
      },
      {
        "duration": 5,
        "start_time": "2021-12-20T07:03:57.915Z"
      },
      {
        "duration": 8,
        "start_time": "2021-12-20T07:06:54.917Z"
      },
      {
        "duration": 4,
        "start_time": "2021-12-20T07:06:56.780Z"
      },
      {
        "duration": 11,
        "start_time": "2021-12-20T07:07:03.010Z"
      },
      {
        "duration": 14,
        "start_time": "2021-12-20T07:07:20.271Z"
      },
      {
        "duration": 78,
        "start_time": "2021-12-20T07:08:12.679Z"
      },
      {
        "duration": 7,
        "start_time": "2021-12-20T07:08:28.198Z"
      },
      {
        "duration": 11,
        "start_time": "2021-12-20T07:10:46.495Z"
      },
      {
        "duration": 29,
        "start_time": "2021-12-20T07:11:22.446Z"
      },
      {
        "duration": 3,
        "start_time": "2021-12-20T07:12:24.973Z"
      },
      {
        "duration": 66,
        "start_time": "2021-12-20T07:12:30.339Z"
      },
      {
        "duration": 13,
        "start_time": "2021-12-20T07:12:30.407Z"
      },
      {
        "duration": 13,
        "start_time": "2021-12-20T07:12:30.422Z"
      },
      {
        "duration": 53,
        "start_time": "2021-12-20T07:12:30.437Z"
      },
      {
        "duration": 5,
        "start_time": "2021-12-20T07:12:30.494Z"
      },
      {
        "duration": 18,
        "start_time": "2021-12-20T07:12:30.502Z"
      },
      {
        "duration": 37,
        "start_time": "2021-12-20T07:12:30.521Z"
      },
      {
        "duration": 18,
        "start_time": "2021-12-20T07:12:30.560Z"
      },
      {
        "duration": 17,
        "start_time": "2021-12-20T07:12:30.580Z"
      },
      {
        "duration": 46,
        "start_time": "2021-12-20T07:12:30.599Z"
      },
      {
        "duration": 5,
        "start_time": "2021-12-20T07:12:30.646Z"
      },
      {
        "duration": 17,
        "start_time": "2021-12-20T07:12:30.652Z"
      },
      {
        "duration": 7,
        "start_time": "2021-12-20T07:12:30.671Z"
      },
      {
        "duration": 21,
        "start_time": "2021-12-20T07:12:30.680Z"
      },
      {
        "duration": 43,
        "start_time": "2021-12-20T07:12:30.703Z"
      },
      {
        "duration": 12,
        "start_time": "2021-12-20T07:12:30.747Z"
      },
      {
        "duration": 31,
        "start_time": "2021-12-20T07:12:30.761Z"
      },
      {
        "duration": 19,
        "start_time": "2021-12-20T07:12:30.796Z"
      },
      {
        "duration": 16,
        "start_time": "2021-12-20T07:12:30.817Z"
      },
      {
        "duration": 16,
        "start_time": "2021-12-20T07:12:30.835Z"
      },
      {
        "duration": 29,
        "start_time": "2021-12-20T07:12:30.853Z"
      },
      {
        "duration": 10,
        "start_time": "2021-12-20T07:12:30.890Z"
      },
      {
        "duration": 31,
        "start_time": "2021-12-20T07:12:30.903Z"
      },
      {
        "duration": 20,
        "start_time": "2021-12-20T07:12:30.936Z"
      },
      {
        "duration": 30,
        "start_time": "2021-12-20T07:12:30.958Z"
      },
      {
        "duration": 32,
        "start_time": "2021-12-20T07:12:30.990Z"
      },
      {
        "duration": 15,
        "start_time": "2021-12-20T07:12:31.024Z"
      },
      {
        "duration": 12,
        "start_time": "2021-12-20T07:12:31.041Z"
      },
      {
        "duration": 21,
        "start_time": "2021-12-20T07:12:31.055Z"
      },
      {
        "duration": 23,
        "start_time": "2021-12-20T07:12:31.078Z"
      },
      {
        "duration": 14,
        "start_time": "2021-12-20T07:12:31.103Z"
      },
      {
        "duration": 45,
        "start_time": "2021-12-20T07:12:31.119Z"
      },
      {
        "duration": 55,
        "start_time": "2021-12-20T07:12:31.165Z"
      },
      {
        "duration": 11,
        "start_time": "2021-12-20T07:12:31.221Z"
      },
      {
        "duration": 14,
        "start_time": "2021-12-20T07:12:31.234Z"
      },
      {
        "duration": 10,
        "start_time": "2021-12-20T07:12:31.251Z"
      },
      {
        "duration": 11,
        "start_time": "2021-12-20T07:12:31.263Z"
      },
      {
        "duration": 7,
        "start_time": "2021-12-20T07:12:31.276Z"
      },
      {
        "duration": 15,
        "start_time": "2021-12-20T07:12:31.284Z"
      },
      {
        "duration": 8,
        "start_time": "2021-12-20T07:12:31.301Z"
      },
      {
        "duration": 10,
        "start_time": "2021-12-20T07:12:31.310Z"
      },
      {
        "duration": 7,
        "start_time": "2021-12-20T07:12:31.322Z"
      },
      {
        "duration": 8,
        "start_time": "2021-12-20T07:12:31.330Z"
      },
      {
        "duration": 11,
        "start_time": "2021-12-20T07:12:31.340Z"
      },
      {
        "duration": 12,
        "start_time": "2021-12-20T07:12:31.352Z"
      },
      {
        "duration": 15,
        "start_time": "2021-12-20T07:12:31.365Z"
      },
      {
        "duration": 694,
        "start_time": "2021-12-20T07:12:31.381Z"
      },
      {
        "duration": 3,
        "start_time": "2021-12-20T07:12:32.078Z"
      },
      {
        "duration": 27,
        "start_time": "2021-12-20T07:12:32.083Z"
      },
      {
        "duration": 21752,
        "start_time": "2021-12-20T07:12:32.111Z"
      },
      {
        "duration": 7,
        "start_time": "2021-12-20T07:12:53.865Z"
      },
      {
        "duration": 21,
        "start_time": "2021-12-20T07:12:53.874Z"
      },
      {
        "duration": 355,
        "start_time": "2021-12-20T07:12:53.897Z"
      },
      {
        "duration": 6,
        "start_time": "2021-12-20T07:12:54.253Z"
      },
      {
        "duration": 21,
        "start_time": "2021-12-20T07:12:54.261Z"
      },
      {
        "duration": 26,
        "start_time": "2021-12-20T07:12:54.284Z"
      },
      {
        "duration": 9,
        "start_time": "2021-12-20T07:12:54.311Z"
      },
      {
        "duration": 18,
        "start_time": "2021-12-20T07:12:54.322Z"
      },
      {
        "duration": 4,
        "start_time": "2021-12-20T07:12:54.341Z"
      },
      {
        "duration": 7,
        "start_time": "2021-12-20T07:12:54.347Z"
      },
      {
        "duration": 34,
        "start_time": "2021-12-20T07:12:54.355Z"
      },
      {
        "duration": 24,
        "start_time": "2021-12-20T07:12:54.392Z"
      },
      {
        "duration": 10,
        "start_time": "2021-12-20T07:12:54.418Z"
      },
      {
        "duration": 92,
        "start_time": "2021-12-20T07:12:54.429Z"
      },
      {
        "duration": 20,
        "start_time": "2021-12-20T07:12:54.522Z"
      },
      {
        "duration": 64,
        "start_time": "2021-12-20T07:14:46.091Z"
      },
      {
        "duration": 11,
        "start_time": "2021-12-20T07:14:46.156Z"
      },
      {
        "duration": 12,
        "start_time": "2021-12-20T07:14:46.169Z"
      },
      {
        "duration": 39,
        "start_time": "2021-12-20T07:14:46.182Z"
      },
      {
        "duration": 4,
        "start_time": "2021-12-20T07:14:46.223Z"
      },
      {
        "duration": 8,
        "start_time": "2021-12-20T07:14:46.229Z"
      },
      {
        "duration": 4,
        "start_time": "2021-12-20T07:14:46.238Z"
      },
      {
        "duration": 11,
        "start_time": "2021-12-20T07:14:46.244Z"
      },
      {
        "duration": 35,
        "start_time": "2021-12-20T07:14:46.257Z"
      },
      {
        "duration": 45,
        "start_time": "2021-12-20T07:14:46.295Z"
      },
      {
        "duration": 4,
        "start_time": "2021-12-20T07:14:46.342Z"
      },
      {
        "duration": 6,
        "start_time": "2021-12-20T07:14:46.348Z"
      },
      {
        "duration": 6,
        "start_time": "2021-12-20T07:14:46.356Z"
      },
      {
        "duration": 36,
        "start_time": "2021-12-20T07:14:46.363Z"
      },
      {
        "duration": 34,
        "start_time": "2021-12-20T07:14:46.401Z"
      },
      {
        "duration": 4,
        "start_time": "2021-12-20T07:14:46.437Z"
      },
      {
        "duration": 11,
        "start_time": "2021-12-20T07:14:46.443Z"
      },
      {
        "duration": 47,
        "start_time": "2021-12-20T07:14:46.456Z"
      },
      {
        "duration": 17,
        "start_time": "2021-12-20T07:14:46.507Z"
      },
      {
        "duration": 13,
        "start_time": "2021-12-20T07:14:46.526Z"
      },
      {
        "duration": 9,
        "start_time": "2021-12-20T07:14:46.540Z"
      },
      {
        "duration": 20,
        "start_time": "2021-12-20T07:14:46.551Z"
      },
      {
        "duration": 33,
        "start_time": "2021-12-20T07:14:46.572Z"
      },
      {
        "duration": 24,
        "start_time": "2021-12-20T07:14:46.608Z"
      },
      {
        "duration": 29,
        "start_time": "2021-12-20T07:14:46.634Z"
      },
      {
        "duration": 26,
        "start_time": "2021-12-20T07:14:46.665Z"
      },
      {
        "duration": 29,
        "start_time": "2021-12-20T07:14:46.693Z"
      },
      {
        "duration": 4,
        "start_time": "2021-12-20T07:14:46.724Z"
      },
      {
        "duration": 24,
        "start_time": "2021-12-20T07:14:46.730Z"
      },
      {
        "duration": 16,
        "start_time": "2021-12-20T07:14:46.755Z"
      },
      {
        "duration": 29,
        "start_time": "2021-12-20T07:14:46.773Z"
      },
      {
        "duration": 6,
        "start_time": "2021-12-20T07:14:46.804Z"
      },
      {
        "duration": 6,
        "start_time": "2021-12-20T07:14:46.812Z"
      },
      {
        "duration": 4,
        "start_time": "2021-12-20T07:14:46.820Z"
      },
      {
        "duration": 11,
        "start_time": "2021-12-20T07:14:46.850Z"
      },
      {
        "duration": 5,
        "start_time": "2021-12-20T07:14:46.863Z"
      },
      {
        "duration": 8,
        "start_time": "2021-12-20T07:14:46.879Z"
      },
      {
        "duration": 7,
        "start_time": "2021-12-20T07:14:46.903Z"
      },
      {
        "duration": 6,
        "start_time": "2021-12-20T07:14:46.920Z"
      },
      {
        "duration": 5,
        "start_time": "2021-12-20T07:14:46.934Z"
      },
      {
        "duration": 4,
        "start_time": "2021-12-20T07:14:46.949Z"
      },
      {
        "duration": 5,
        "start_time": "2021-12-20T07:14:46.970Z"
      },
      {
        "duration": 3,
        "start_time": "2021-12-20T07:14:46.990Z"
      },
      {
        "duration": 2,
        "start_time": "2021-12-20T07:14:47.021Z"
      },
      {
        "duration": 6,
        "start_time": "2021-12-20T07:14:47.072Z"
      },
      {
        "duration": 4,
        "start_time": "2021-12-20T07:14:47.094Z"
      },
      {
        "duration": 745,
        "start_time": "2021-12-20T07:14:47.101Z"
      },
      {
        "duration": 4,
        "start_time": "2021-12-20T07:14:47.848Z"
      },
      {
        "duration": 6,
        "start_time": "2021-12-20T07:14:47.853Z"
      },
      {
        "duration": 21243,
        "start_time": "2021-12-20T07:14:47.861Z"
      },
      {
        "duration": 9,
        "start_time": "2021-12-20T07:15:09.105Z"
      },
      {
        "duration": 7,
        "start_time": "2021-12-20T07:15:09.116Z"
      },
      {
        "duration": 364,
        "start_time": "2021-12-20T07:15:09.125Z"
      },
      {
        "duration": 10,
        "start_time": "2021-12-20T07:15:09.493Z"
      },
      {
        "duration": 18,
        "start_time": "2021-12-20T07:15:09.507Z"
      },
      {
        "duration": 26,
        "start_time": "2021-12-20T07:15:09.527Z"
      },
      {
        "duration": 33,
        "start_time": "2021-12-20T07:15:09.555Z"
      },
      {
        "duration": 26,
        "start_time": "2021-12-20T07:15:09.590Z"
      },
      {
        "duration": 5,
        "start_time": "2021-12-20T07:15:09.618Z"
      },
      {
        "duration": 8,
        "start_time": "2021-12-20T07:15:09.625Z"
      },
      {
        "duration": 6,
        "start_time": "2021-12-20T07:15:09.634Z"
      },
      {
        "duration": 24,
        "start_time": "2021-12-20T07:15:09.642Z"
      },
      {
        "duration": 26,
        "start_time": "2021-12-20T07:15:09.667Z"
      },
      {
        "duration": 25,
        "start_time": "2021-12-20T07:15:09.694Z"
      },
      {
        "duration": 16,
        "start_time": "2021-12-20T07:15:09.721Z"
      },
      {
        "duration": 34,
        "start_time": "2021-12-20T07:15:11.988Z"
      },
      {
        "duration": 19,
        "start_time": "2021-12-20T07:16:15.516Z"
      },
      {
        "duration": 885,
        "start_time": "2021-12-20T17:59:54.374Z"
      },
      {
        "duration": 19,
        "start_time": "2021-12-20T17:59:55.263Z"
      },
      {
        "duration": 27,
        "start_time": "2021-12-20T17:59:55.286Z"
      },
      {
        "duration": 90,
        "start_time": "2021-12-20T17:59:55.317Z"
      },
      {
        "duration": 10,
        "start_time": "2021-12-20T17:59:55.410Z"
      },
      {
        "duration": 23,
        "start_time": "2021-12-20T17:59:55.423Z"
      },
      {
        "duration": 29,
        "start_time": "2021-12-20T17:59:55.450Z"
      },
      {
        "duration": 38,
        "start_time": "2021-12-20T17:59:55.483Z"
      },
      {
        "duration": 34,
        "start_time": "2021-12-20T17:59:55.526Z"
      },
      {
        "duration": 111,
        "start_time": "2021-12-20T17:59:55.563Z"
      },
      {
        "duration": 8,
        "start_time": "2021-12-20T17:59:55.677Z"
      },
      {
        "duration": 76,
        "start_time": "2021-12-20T17:59:55.688Z"
      },
      {
        "duration": 3,
        "start_time": "2021-12-20T17:59:55.767Z"
      },
      {
        "duration": 42,
        "start_time": "2021-12-20T17:59:55.773Z"
      },
      {
        "duration": 61,
        "start_time": "2021-12-20T17:59:55.818Z"
      },
      {
        "duration": 6,
        "start_time": "2021-12-20T17:59:55.882Z"
      },
      {
        "duration": 47,
        "start_time": "2021-12-20T17:59:55.891Z"
      },
      {
        "duration": 27,
        "start_time": "2021-12-20T17:59:55.940Z"
      },
      {
        "duration": 39,
        "start_time": "2021-12-20T17:59:55.970Z"
      },
      {
        "duration": 34,
        "start_time": "2021-12-20T17:59:56.012Z"
      },
      {
        "duration": 30,
        "start_time": "2021-12-20T17:59:56.049Z"
      },
      {
        "duration": 19,
        "start_time": "2021-12-20T17:59:56.081Z"
      },
      {
        "duration": 23,
        "start_time": "2021-12-20T17:59:56.107Z"
      },
      {
        "duration": 28,
        "start_time": "2021-12-20T17:59:56.135Z"
      },
      {
        "duration": 55,
        "start_time": "2021-12-20T17:59:56.166Z"
      },
      {
        "duration": 25,
        "start_time": "2021-12-20T17:59:56.224Z"
      },
      {
        "duration": 30,
        "start_time": "2021-12-20T17:59:56.251Z"
      },
      {
        "duration": 14,
        "start_time": "2021-12-20T17:59:56.284Z"
      },
      {
        "duration": 24,
        "start_time": "2021-12-20T17:59:56.300Z"
      },
      {
        "duration": 30,
        "start_time": "2021-12-20T17:59:56.327Z"
      },
      {
        "duration": 29,
        "start_time": "2021-12-20T17:59:56.360Z"
      },
      {
        "duration": 27,
        "start_time": "2021-12-20T17:59:56.392Z"
      },
      {
        "duration": 17,
        "start_time": "2021-12-20T17:59:56.422Z"
      },
      {
        "duration": 35,
        "start_time": "2021-12-20T17:59:56.442Z"
      },
      {
        "duration": 36,
        "start_time": "2021-12-20T17:59:56.479Z"
      },
      {
        "duration": 31,
        "start_time": "2021-12-20T17:59:56.518Z"
      },
      {
        "duration": 25,
        "start_time": "2021-12-20T17:59:56.552Z"
      },
      {
        "duration": 18,
        "start_time": "2021-12-20T17:59:56.580Z"
      },
      {
        "duration": 33,
        "start_time": "2021-12-20T17:59:56.601Z"
      },
      {
        "duration": 45,
        "start_time": "2021-12-20T17:59:56.636Z"
      },
      {
        "duration": 30,
        "start_time": "2021-12-20T17:59:56.684Z"
      },
      {
        "duration": 23,
        "start_time": "2021-12-20T17:59:56.717Z"
      },
      {
        "duration": 21,
        "start_time": "2021-12-20T17:59:56.742Z"
      },
      {
        "duration": 25,
        "start_time": "2021-12-20T17:59:56.766Z"
      },
      {
        "duration": 39,
        "start_time": "2021-12-20T17:59:56.793Z"
      },
      {
        "duration": 19,
        "start_time": "2021-12-20T17:59:56.835Z"
      },
      {
        "duration": 940,
        "start_time": "2021-12-20T17:59:56.857Z"
      },
      {
        "duration": 6,
        "start_time": "2021-12-20T17:59:57.800Z"
      },
      {
        "duration": 46,
        "start_time": "2021-12-20T17:59:57.809Z"
      },
      {
        "duration": 39830,
        "start_time": "2021-12-20T17:59:57.858Z"
      },
      {
        "duration": 13,
        "start_time": "2021-12-20T18:00:37.691Z"
      },
      {
        "duration": 14,
        "start_time": "2021-12-20T18:00:37.707Z"
      },
      {
        "duration": 674,
        "start_time": "2021-12-20T18:00:37.724Z"
      },
      {
        "duration": 11,
        "start_time": "2021-12-20T18:00:38.401Z"
      },
      {
        "duration": 26,
        "start_time": "2021-12-20T18:00:38.415Z"
      },
      {
        "duration": 31,
        "start_time": "2021-12-20T18:00:38.464Z"
      },
      {
        "duration": 14,
        "start_time": "2021-12-20T18:00:38.497Z"
      },
      {
        "duration": 70,
        "start_time": "2021-12-20T18:00:38.514Z"
      },
      {
        "duration": 7,
        "start_time": "2021-12-20T18:00:38.586Z"
      },
      {
        "duration": 13,
        "start_time": "2021-12-20T18:00:38.595Z"
      },
      {
        "duration": 6,
        "start_time": "2021-12-20T18:00:38.611Z"
      },
      {
        "duration": 71,
        "start_time": "2021-12-20T18:00:38.619Z"
      },
      {
        "duration": 11,
        "start_time": "2021-12-20T18:00:38.693Z"
      },
      {
        "duration": 79,
        "start_time": "2021-12-20T18:00:38.707Z"
      },
      {
        "duration": 44,
        "start_time": "2021-12-20T18:00:38.789Z"
      },
      {
        "duration": 399,
        "start_time": "2022-03-09T08:41:10.366Z"
      },
      {
        "duration": 480,
        "start_time": "2022-03-23T07:12:08.473Z"
      },
      {
        "duration": 12,
        "start_time": "2022-03-23T07:12:08.955Z"
      },
      {
        "duration": 40,
        "start_time": "2022-03-23T07:12:08.969Z"
      },
      {
        "duration": 50,
        "start_time": "2022-03-23T07:12:09.011Z"
      },
      {
        "duration": 4,
        "start_time": "2022-03-23T07:12:09.062Z"
      },
      {
        "duration": 10,
        "start_time": "2022-03-23T07:12:09.068Z"
      },
      {
        "duration": 28,
        "start_time": "2022-03-23T07:12:09.079Z"
      },
      {
        "duration": 34,
        "start_time": "2022-03-23T07:12:09.109Z"
      },
      {
        "duration": 19,
        "start_time": "2022-03-23T07:12:09.144Z"
      },
      {
        "duration": 58,
        "start_time": "2022-03-23T07:12:09.166Z"
      },
      {
        "duration": 5,
        "start_time": "2022-03-23T07:12:09.226Z"
      },
      {
        "duration": 33,
        "start_time": "2022-03-23T07:12:09.233Z"
      },
      {
        "duration": 32,
        "start_time": "2022-03-23T07:12:09.268Z"
      },
      {
        "duration": 26,
        "start_time": "2022-03-23T07:12:09.301Z"
      },
      {
        "duration": 55,
        "start_time": "2022-03-23T07:12:09.329Z"
      },
      {
        "duration": 12,
        "start_time": "2022-03-23T07:12:09.386Z"
      },
      {
        "duration": 26,
        "start_time": "2022-03-23T07:12:09.400Z"
      },
      {
        "duration": 29,
        "start_time": "2022-03-23T07:12:09.428Z"
      },
      {
        "duration": 34,
        "start_time": "2022-03-23T07:12:09.458Z"
      },
      {
        "duration": 29,
        "start_time": "2022-03-23T07:12:09.494Z"
      },
      {
        "duration": 28,
        "start_time": "2022-03-23T07:12:09.525Z"
      },
      {
        "duration": 23,
        "start_time": "2022-03-23T07:12:09.555Z"
      },
      {
        "duration": 35,
        "start_time": "2022-03-23T07:12:09.579Z"
      },
      {
        "duration": 19,
        "start_time": "2022-03-23T07:12:09.616Z"
      },
      {
        "duration": 40,
        "start_time": "2022-03-23T07:12:09.637Z"
      },
      {
        "duration": 37,
        "start_time": "2022-03-23T07:12:09.679Z"
      },
      {
        "duration": 27,
        "start_time": "2022-03-23T07:12:09.718Z"
      },
      {
        "duration": 22,
        "start_time": "2022-03-23T07:12:09.749Z"
      },
      {
        "duration": 12,
        "start_time": "2022-03-23T07:12:09.772Z"
      },
      {
        "duration": 27,
        "start_time": "2022-03-23T07:12:09.785Z"
      },
      {
        "duration": 25,
        "start_time": "2022-03-23T07:12:09.814Z"
      },
      {
        "duration": 24,
        "start_time": "2022-03-23T07:12:09.841Z"
      },
      {
        "duration": 39,
        "start_time": "2022-03-23T07:12:09.866Z"
      },
      {
        "duration": 15,
        "start_time": "2022-03-23T07:12:09.907Z"
      },
      {
        "duration": 46,
        "start_time": "2022-03-23T07:12:09.923Z"
      },
      {
        "duration": 14,
        "start_time": "2022-03-23T07:12:09.971Z"
      },
      {
        "duration": 33,
        "start_time": "2022-03-23T07:12:09.986Z"
      },
      {
        "duration": 14,
        "start_time": "2022-03-23T07:12:10.021Z"
      },
      {
        "duration": 42,
        "start_time": "2022-03-23T07:12:10.036Z"
      },
      {
        "duration": 20,
        "start_time": "2022-03-23T07:12:10.080Z"
      },
      {
        "duration": 22,
        "start_time": "2022-03-23T07:12:10.102Z"
      },
      {
        "duration": 18,
        "start_time": "2022-03-23T07:12:10.125Z"
      },
      {
        "duration": 41,
        "start_time": "2022-03-23T07:12:10.144Z"
      },
      {
        "duration": 25,
        "start_time": "2022-03-23T07:12:10.187Z"
      },
      {
        "duration": 42,
        "start_time": "2022-03-23T07:12:10.213Z"
      },
      {
        "duration": 23,
        "start_time": "2022-03-23T07:12:10.257Z"
      },
      {
        "duration": 647,
        "start_time": "2022-03-23T07:12:10.282Z"
      },
      {
        "duration": 4,
        "start_time": "2022-03-23T07:12:10.932Z"
      },
      {
        "duration": 34,
        "start_time": "2022-03-23T07:12:10.938Z"
      },
      {
        "duration": 9616,
        "start_time": "2022-03-23T07:12:10.974Z"
      },
      {
        "duration": 6,
        "start_time": "2022-03-23T07:12:20.593Z"
      },
      {
        "duration": 9,
        "start_time": "2022-03-23T07:12:20.601Z"
      },
      {
        "duration": 200,
        "start_time": "2022-03-23T07:12:20.611Z"
      },
      {
        "duration": 6,
        "start_time": "2022-03-23T07:12:20.813Z"
      },
      {
        "duration": 15,
        "start_time": "2022-03-23T07:12:20.821Z"
      },
      {
        "duration": 34,
        "start_time": "2022-03-23T07:12:20.838Z"
      },
      {
        "duration": 9,
        "start_time": "2022-03-23T07:12:20.874Z"
      },
      {
        "duration": 18,
        "start_time": "2022-03-23T07:12:20.885Z"
      },
      {
        "duration": 5,
        "start_time": "2022-03-23T07:12:20.904Z"
      },
      {
        "duration": 15,
        "start_time": "2022-03-23T07:12:20.911Z"
      },
      {
        "duration": 7,
        "start_time": "2022-03-23T07:12:20.928Z"
      },
      {
        "duration": 44,
        "start_time": "2022-03-23T07:12:20.936Z"
      },
      {
        "duration": 7,
        "start_time": "2022-03-23T07:12:20.983Z"
      },
      {
        "duration": 32,
        "start_time": "2022-03-23T07:12:20.992Z"
      },
      {
        "duration": 39,
        "start_time": "2022-03-23T07:12:21.025Z"
      },
      {
        "duration": 5,
        "start_time": "2022-03-23T07:26:26.188Z"
      },
      {
        "duration": 7,
        "start_time": "2022-03-23T07:27:43.675Z"
      },
      {
        "duration": 3,
        "start_time": "2022-03-23T07:33:47.691Z"
      },
      {
        "duration": 5,
        "start_time": "2022-03-23T07:34:33.705Z"
      },
      {
        "duration": 738,
        "start_time": "2022-03-23T07:44:05.368Z"
      },
      {
        "duration": 56,
        "start_time": "2022-03-23T07:44:17.184Z"
      },
      {
        "duration": 2741,
        "start_time": "2022-03-23T07:47:19.890Z"
      },
      {
        "duration": 10,
        "start_time": "2022-03-23T07:49:07.976Z"
      },
      {
        "duration": 2532,
        "start_time": "2022-03-23T07:50:29.800Z"
      },
      {
        "duration": 677,
        "start_time": "2022-03-23T07:52:05.797Z"
      },
      {
        "duration": 59,
        "start_time": "2022-03-23T07:52:06.477Z"
      },
      {
        "duration": 9,
        "start_time": "2022-03-23T07:52:06.537Z"
      },
      {
        "duration": 0,
        "start_time": "2022-03-23T07:52:06.550Z"
      },
      {
        "duration": 0,
        "start_time": "2022-03-23T07:52:06.551Z"
      },
      {
        "duration": 0,
        "start_time": "2022-03-23T07:52:06.552Z"
      },
      {
        "duration": 0,
        "start_time": "2022-03-23T07:52:06.553Z"
      },
      {
        "duration": 0,
        "start_time": "2022-03-23T07:52:06.554Z"
      },
      {
        "duration": 0,
        "start_time": "2022-03-23T07:52:06.563Z"
      },
      {
        "duration": 0,
        "start_time": "2022-03-23T07:52:06.564Z"
      },
      {
        "duration": 0,
        "start_time": "2022-03-23T07:52:06.565Z"
      },
      {
        "duration": 0,
        "start_time": "2022-03-23T07:52:06.565Z"
      },
      {
        "duration": 0,
        "start_time": "2022-03-23T07:52:06.566Z"
      },
      {
        "duration": 0,
        "start_time": "2022-03-23T07:52:06.567Z"
      },
      {
        "duration": 0,
        "start_time": "2022-03-23T07:52:06.568Z"
      },
      {
        "duration": 0,
        "start_time": "2022-03-23T07:52:06.569Z"
      },
      {
        "duration": 0,
        "start_time": "2022-03-23T07:52:06.571Z"
      },
      {
        "duration": 0,
        "start_time": "2022-03-23T07:52:06.572Z"
      },
      {
        "duration": 0,
        "start_time": "2022-03-23T07:52:06.572Z"
      },
      {
        "duration": 0,
        "start_time": "2022-03-23T07:52:06.574Z"
      },
      {
        "duration": 0,
        "start_time": "2022-03-23T07:52:06.575Z"
      },
      {
        "duration": 0,
        "start_time": "2022-03-23T07:52:06.575Z"
      },
      {
        "duration": 0,
        "start_time": "2022-03-23T07:52:06.576Z"
      },
      {
        "duration": 0,
        "start_time": "2022-03-23T07:52:06.577Z"
      },
      {
        "duration": 1,
        "start_time": "2022-03-23T07:52:06.577Z"
      },
      {
        "duration": 0,
        "start_time": "2022-03-23T07:52:06.578Z"
      },
      {
        "duration": 0,
        "start_time": "2022-03-23T07:52:06.579Z"
      },
      {
        "duration": 0,
        "start_time": "2022-03-23T07:52:06.580Z"
      },
      {
        "duration": 0,
        "start_time": "2022-03-23T07:52:06.581Z"
      },
      {
        "duration": 0,
        "start_time": "2022-03-23T07:52:06.582Z"
      },
      {
        "duration": 0,
        "start_time": "2022-03-23T07:52:06.583Z"
      },
      {
        "duration": 0,
        "start_time": "2022-03-23T07:52:06.584Z"
      },
      {
        "duration": 1,
        "start_time": "2022-03-23T07:52:06.584Z"
      },
      {
        "duration": 0,
        "start_time": "2022-03-23T07:52:06.586Z"
      },
      {
        "duration": 0,
        "start_time": "2022-03-23T07:52:06.587Z"
      },
      {
        "duration": 0,
        "start_time": "2022-03-23T07:52:06.588Z"
      },
      {
        "duration": 0,
        "start_time": "2022-03-23T07:52:06.589Z"
      },
      {
        "duration": 0,
        "start_time": "2022-03-23T07:52:06.590Z"
      },
      {
        "duration": 0,
        "start_time": "2022-03-23T07:52:06.591Z"
      },
      {
        "duration": 0,
        "start_time": "2022-03-23T07:52:06.592Z"
      },
      {
        "duration": 0,
        "start_time": "2022-03-23T07:52:06.593Z"
      },
      {
        "duration": 0,
        "start_time": "2022-03-23T07:52:06.594Z"
      },
      {
        "duration": 0,
        "start_time": "2022-03-23T07:52:06.595Z"
      },
      {
        "duration": 0,
        "start_time": "2022-03-23T07:52:06.596Z"
      },
      {
        "duration": 0,
        "start_time": "2022-03-23T07:52:06.597Z"
      },
      {
        "duration": 0,
        "start_time": "2022-03-23T07:52:06.598Z"
      },
      {
        "duration": 0,
        "start_time": "2022-03-23T07:52:06.699Z"
      },
      {
        "duration": 0,
        "start_time": "2022-03-23T07:52:06.700Z"
      },
      {
        "duration": 0,
        "start_time": "2022-03-23T07:52:06.701Z"
      },
      {
        "duration": 0,
        "start_time": "2022-03-23T07:52:06.702Z"
      },
      {
        "duration": 0,
        "start_time": "2022-03-23T07:52:06.703Z"
      },
      {
        "duration": 0,
        "start_time": "2022-03-23T07:52:06.704Z"
      },
      {
        "duration": 0,
        "start_time": "2022-03-23T07:52:06.704Z"
      },
      {
        "duration": 0,
        "start_time": "2022-03-23T07:52:06.706Z"
      },
      {
        "duration": 0,
        "start_time": "2022-03-23T07:52:06.707Z"
      },
      {
        "duration": 0,
        "start_time": "2022-03-23T07:52:06.708Z"
      },
      {
        "duration": 0,
        "start_time": "2022-03-23T07:52:06.709Z"
      },
      {
        "duration": 0,
        "start_time": "2022-03-23T07:52:06.710Z"
      },
      {
        "duration": 0,
        "start_time": "2022-03-23T07:52:06.711Z"
      },
      {
        "duration": 0,
        "start_time": "2022-03-23T07:52:06.712Z"
      },
      {
        "duration": 0,
        "start_time": "2022-03-23T07:52:06.764Z"
      },
      {
        "duration": 0,
        "start_time": "2022-03-23T07:52:06.765Z"
      },
      {
        "duration": 0,
        "start_time": "2022-03-23T07:52:06.766Z"
      },
      {
        "duration": 0,
        "start_time": "2022-03-23T07:52:06.767Z"
      },
      {
        "duration": 684,
        "start_time": "2022-03-23T07:52:55.734Z"
      },
      {
        "duration": 61,
        "start_time": "2022-03-23T07:52:56.420Z"
      },
      {
        "duration": 13,
        "start_time": "2022-03-23T07:52:56.483Z"
      },
      {
        "duration": 13,
        "start_time": "2022-03-23T07:52:56.499Z"
      },
      {
        "duration": 16,
        "start_time": "2022-03-23T07:52:56.514Z"
      },
      {
        "duration": 51,
        "start_time": "2022-03-23T07:52:56.532Z"
      },
      {
        "duration": 4,
        "start_time": "2022-03-23T07:52:56.585Z"
      },
      {
        "duration": 16,
        "start_time": "2022-03-23T07:52:56.591Z"
      },
      {
        "duration": 14,
        "start_time": "2022-03-23T07:52:56.608Z"
      },
      {
        "duration": 18,
        "start_time": "2022-03-23T07:52:56.625Z"
      },
      {
        "duration": 19,
        "start_time": "2022-03-23T07:52:56.644Z"
      },
      {
        "duration": 39,
        "start_time": "2022-03-23T07:52:56.664Z"
      },
      {
        "duration": 6,
        "start_time": "2022-03-23T07:52:56.705Z"
      },
      {
        "duration": 19,
        "start_time": "2022-03-23T07:52:56.712Z"
      },
      {
        "duration": 14,
        "start_time": "2022-03-23T07:52:56.733Z"
      },
      {
        "duration": 18,
        "start_time": "2022-03-23T07:52:56.748Z"
      },
      {
        "duration": 30,
        "start_time": "2022-03-23T07:52:56.768Z"
      },
      {
        "duration": 5,
        "start_time": "2022-03-23T07:52:56.800Z"
      },
      {
        "duration": 30,
        "start_time": "2022-03-23T07:52:56.807Z"
      },
      {
        "duration": 27,
        "start_time": "2022-03-23T07:52:56.839Z"
      },
      {
        "duration": 19,
        "start_time": "2022-03-23T07:52:56.868Z"
      },
      {
        "duration": 17,
        "start_time": "2022-03-23T07:52:56.889Z"
      },
      {
        "duration": 4,
        "start_time": "2022-03-23T07:52:56.908Z"
      },
      {
        "duration": 19,
        "start_time": "2022-03-23T07:52:56.914Z"
      },
      {
        "duration": 30,
        "start_time": "2022-03-23T07:52:56.935Z"
      },
      {
        "duration": 21,
        "start_time": "2022-03-23T07:52:56.967Z"
      },
      {
        "duration": 30,
        "start_time": "2022-03-23T07:52:56.990Z"
      },
      {
        "duration": 26,
        "start_time": "2022-03-23T07:52:57.023Z"
      },
      {
        "duration": 17,
        "start_time": "2022-03-23T07:52:57.051Z"
      },
      {
        "duration": 5,
        "start_time": "2022-03-23T07:52:57.070Z"
      },
      {
        "duration": 23,
        "start_time": "2022-03-23T07:52:57.077Z"
      },
      {
        "duration": 20,
        "start_time": "2022-03-23T07:52:57.101Z"
      },
      {
        "duration": 14,
        "start_time": "2022-03-23T07:52:57.123Z"
      },
      {
        "duration": 17,
        "start_time": "2022-03-23T07:52:57.139Z"
      },
      {
        "duration": 14,
        "start_time": "2022-03-23T07:52:57.157Z"
      },
      {
        "duration": 13,
        "start_time": "2022-03-23T07:52:57.172Z"
      },
      {
        "duration": 23,
        "start_time": "2022-03-23T07:52:57.186Z"
      },
      {
        "duration": 10,
        "start_time": "2022-03-23T07:52:57.210Z"
      },
      {
        "duration": 17,
        "start_time": "2022-03-23T07:52:57.222Z"
      },
      {
        "duration": 6,
        "start_time": "2022-03-23T07:52:57.241Z"
      },
      {
        "duration": 18,
        "start_time": "2022-03-23T07:52:57.248Z"
      },
      {
        "duration": 20,
        "start_time": "2022-03-23T07:52:57.267Z"
      },
      {
        "duration": 19,
        "start_time": "2022-03-23T07:52:57.288Z"
      },
      {
        "duration": 9,
        "start_time": "2022-03-23T07:52:57.308Z"
      },
      {
        "duration": 11,
        "start_time": "2022-03-23T07:52:57.319Z"
      },
      {
        "duration": 10,
        "start_time": "2022-03-23T07:52:57.332Z"
      },
      {
        "duration": 19,
        "start_time": "2022-03-23T07:52:57.343Z"
      },
      {
        "duration": 17,
        "start_time": "2022-03-23T07:52:57.363Z"
      },
      {
        "duration": 10274,
        "start_time": "2022-03-23T07:52:57.381Z"
      },
      {
        "duration": 11,
        "start_time": "2022-03-23T07:53:07.657Z"
      },
      {
        "duration": 8,
        "start_time": "2022-03-23T07:53:07.670Z"
      },
      {
        "duration": 203,
        "start_time": "2022-03-23T07:53:07.680Z"
      },
      {
        "duration": 7,
        "start_time": "2022-03-23T07:53:07.885Z"
      },
      {
        "duration": 8,
        "start_time": "2022-03-23T07:53:07.894Z"
      },
      {
        "duration": 20,
        "start_time": "2022-03-23T07:53:07.904Z"
      },
      {
        "duration": 9,
        "start_time": "2022-03-23T07:53:07.926Z"
      },
      {
        "duration": 17,
        "start_time": "2022-03-23T07:53:07.964Z"
      },
      {
        "duration": 5,
        "start_time": "2022-03-23T07:53:07.982Z"
      },
      {
        "duration": 9,
        "start_time": "2022-03-23T07:53:07.989Z"
      },
      {
        "duration": 3,
        "start_time": "2022-03-23T07:53:07.999Z"
      },
      {
        "duration": 23,
        "start_time": "2022-03-23T07:53:08.004Z"
      },
      {
        "duration": 39,
        "start_time": "2022-03-23T07:53:08.029Z"
      },
      {
        "duration": 26,
        "start_time": "2022-03-23T07:53:08.069Z"
      },
      {
        "duration": 19,
        "start_time": "2022-03-23T07:53:08.096Z"
      }
    ],
    "kernelspec": {
      "display_name": "Python 3 (ipykernel)",
      "language": "python",
      "name": "python3"
    },
    "language_info": {
      "codemirror_mode": {
        "name": "ipython",
        "version": 3
      },
      "file_extension": ".py",
      "mimetype": "text/x-python",
      "name": "python",
      "nbconvert_exporter": "python",
      "pygments_lexer": "ipython3",
      "version": "3.9.5"
    },
    "toc": {
      "base_numbering": 1,
      "nav_menu": {},
      "number_sections": true,
      "sideBar": true,
      "skip_h1_title": true,
      "title_cell": "Содержание",
      "title_sidebar": "Contents",
      "toc_cell": true,
      "toc_position": {},
      "toc_section_display": true,
      "toc_window_display": true
    },
    "colab": {
      "name": "Project_01.ipynb",
      "provenance": [],
      "collapsed_sections": []
    }
  },
  "nbformat": 4,
  "nbformat_minor": 0
}