{
  "cells": [
    {
      "cell_type": "markdown",
      "metadata": {
        "id": "bqgCZcYCN80E"
      },
      "source": [
        "# Принятие решений в бизнесе на основе данных. Увеличение выручки интернет-магазина. A/B-тест"
      ]
    },
    {
      "cell_type": "markdown",
      "metadata": {
        "toc": true,
        "id": "p0KDX0HRN80E"
      },
      "source": [
        "<h1>Содержание<span class=\"tocSkip\"></span></h1>\n",
        "<div class=\"toc\"><ul class=\"toc-item\"><li><span><a href=\"#Описание-проекта-и-цели\" data-toc-modified-id=\"Описание-проекта-и-цели-1\"><span class=\"toc-item-num\">1&nbsp;&nbsp;</span>Описание проекта и цели</a></span></li><li><span><a href=\"#Описание-данных\" data-toc-modified-id=\"Описание-данных-2\"><span class=\"toc-item-num\">2&nbsp;&nbsp;</span>Описание данных</a></span></li><li><span><a href=\"#Предобработка-данных\" data-toc-modified-id=\"Предобработка-данных-3\"><span class=\"toc-item-num\">3&nbsp;&nbsp;</span>Предобработка данных</a></span><ul class=\"toc-item\"><li><span><a href=\"#Очистка-данных\" data-toc-modified-id=\"Очистка-данных-3.1\"><span class=\"toc-item-num\">3.1&nbsp;&nbsp;</span>Очистка данных</a></span></li></ul></li><li><span><a href=\"#Часть-1.-Приоритизация-гипотез\" data-toc-modified-id=\"Часть-1.-Приоритизация-гипотез-4\"><span class=\"toc-item-num\">4&nbsp;&nbsp;</span>Часть 1. Приоритизация гипотез</a></span><ul class=\"toc-item\"><li><span><a href=\"#Приоритезация-гипотез-методом-ICE\" data-toc-modified-id=\"Приоритезация-гипотез-методом-ICE-4.1\"><span class=\"toc-item-num\">4.1&nbsp;&nbsp;</span>Приоритезация гипотез методом ICE</a></span></li></ul></li><li><span><a href=\"#Часть-2.-Анализ-A/B-теста\" data-toc-modified-id=\"Часть-2.-Анализ-A/B-теста-5\"><span class=\"toc-item-num\">5&nbsp;&nbsp;</span>Часть 2. Анализ A/B-теста</a></span><ul class=\"toc-item\"><li><span><a href=\"#Проверка-равенства-долей-и-расчет-размера-выборки\" data-toc-modified-id=\"Проверка-равенства-долей-и-расчет-размера-выборки-5.1\"><span class=\"toc-item-num\">5.1&nbsp;&nbsp;</span>Проверка равенства долей и расчет размера выборки</a></span></li><li><span><a href=\"#Построение-графика-кумулятивной-выручки-по-группам\" data-toc-modified-id=\"Построение-графика-кумулятивной-выручки-по-группам-5.2\"><span class=\"toc-item-num\">5.2&nbsp;&nbsp;</span>Построение графика кумулятивной выручки по группам</a></span></li><li><span><a href=\"#Построение-графика-кумулятивного-среднего-чека-по-группам\" data-toc-modified-id=\"Построение-графика-кумулятивного-среднего-чека-по-группам-5.3\"><span class=\"toc-item-num\">5.3&nbsp;&nbsp;</span>Построение графика кумулятивного среднего чека по группам</a></span></li><li><span><a href=\"#Построение-графика-относительного-различия-для-среднего-чека\" data-toc-modified-id=\"Построение-графика-относительного-различия-для-среднего-чека-5.4\"><span class=\"toc-item-num\">5.4&nbsp;&nbsp;</span>Построение графика относительного различия для среднего чека</a></span></li><li><span><a href=\"#Построение-графика-кумулятивной-конверсии-по-группам\" data-toc-modified-id=\"Построение-графика-кумулятивной-конверсии-по-группам-5.5\"><span class=\"toc-item-num\">5.5&nbsp;&nbsp;</span>Построение графика кумулятивной конверсии по группам</a></span></li><li><span><a href=\"#Построение-графика-кумулятивной-конверсии-по-группам\" data-toc-modified-id=\"Построение-графика-кумулятивной-конверсии-по-группам-5.6\"><span class=\"toc-item-num\">5.6&nbsp;&nbsp;</span>Построение графика кумулятивной конверсии по группам</a></span></li><li><span><a href=\"#Анализ-выбросов-и-всплесков\" data-toc-modified-id=\"Анализ-выбросов-и-всплесков-5.7\"><span class=\"toc-item-num\">5.7&nbsp;&nbsp;</span>Анализ выбросов и всплесков</a></span><ul class=\"toc-item\"><li><span><a href=\"#Построение-графиков-количества-заказов-по-пользователям\" data-toc-modified-id=\"Построение-графиков-количества-заказов-по-пользователям-5.7.1\"><span class=\"toc-item-num\">5.7.1&nbsp;&nbsp;</span>Построение графиков количества заказов по пользователям</a></span></li><li><span><a href=\"#Построение-графиков-стоимостей-заказов\" data-toc-modified-id=\"Построение-графиков-стоимостей-заказов-5.7.2\"><span class=\"toc-item-num\">5.7.2&nbsp;&nbsp;</span>Построение графиков стоимостей заказов</a></span></li></ul></li><li><span><a href=\"#Подсчет-статистической-значимости\" data-toc-modified-id=\"Подсчет-статистической-значимости-5.8\"><span class=\"toc-item-num\">5.8&nbsp;&nbsp;</span>Подсчет статистической значимости</a></span><ul class=\"toc-item\"><li><span><a href=\"#Различий-в-конверсии-между-группами-по-«сырым»-данным\" data-toc-modified-id=\"Различий-в-конверсии-между-группами-по-«сырым»-данным-5.8.1\"><span class=\"toc-item-num\">5.8.1&nbsp;&nbsp;</span>Различий в конверсии между группами по «сырым» данным</a></span></li><li><span><a href=\"#Различий-в-среднем-чеке-заказа-между-группами-по-«сырым»-данным\" data-toc-modified-id=\"Различий-в-среднем-чеке-заказа-между-группами-по-«сырым»-данным-5.8.2\"><span class=\"toc-item-num\">5.8.2&nbsp;&nbsp;</span>Различий в среднем чеке заказа между группами по «сырым» данным</a></span></li><li><span><a href=\"#Различий-в-конверсии-между-группами-по-«очищенным»-данным\" data-toc-modified-id=\"Различий-в-конверсии-между-группами-по-«очищенным»-данным-5.8.3\"><span class=\"toc-item-num\">5.8.3&nbsp;&nbsp;</span>Различий в конверсии между группами по «очищенным» данным</a></span></li><li><span><a href=\"#Различий-в-среднем-чеке-заказа-между-группами-по-«очищенным»-данным\" data-toc-modified-id=\"Различий-в-среднем-чеке-заказа-между-группами-по-«очищенным»-данным-5.8.4\"><span class=\"toc-item-num\">5.8.4&nbsp;&nbsp;</span>Различий в среднем чеке заказа между группами по «очищенным» данным</a></span></li></ul></li></ul></li><li><span><a href=\"#Вывод-и-принятие-решение-по-результатам-теста\" data-toc-modified-id=\"Вывод-и-принятие-решение-по-результатам-теста-6\"><span class=\"toc-item-num\">6&nbsp;&nbsp;</span>Вывод и принятие решение по результатам теста</a></span></li></ul></div>"
      ]
    },
    {
      "cell_type": "markdown",
      "metadata": {
        "id": "GZYldIuvN80F"
      },
      "source": [
        "## Описание проекта и цели"
      ]
    },
    {
      "cell_type": "markdown",
      "metadata": {
        "id": "qwfJByDGN80G"
      },
      "source": [
        "Как аналитик крупного интернет-магазина, вместе с отделом маркетинга, подготовила список гипотез для увеличения выручки. \n",
        "\n",
        "\n",
        "**Цели:**\n",
        "1. необходимо приоритизировать гипотезы;\n",
        "2. запустить A/B-тест;\n",
        "3. проанализировать результаты и принять решение:\n",
        "    1. Остановить тест, зафиксировать победу одной из групп\n",
        "    2. Остановить тест, зафиксировать отсутствие различий между группами\n",
        "    3. Продолжить тест."
      ]
    },
    {
      "cell_type": "markdown",
      "metadata": {
        "id": "oMNdyLsrN80G"
      },
      "source": [
        "## Описание данных"
      ]
    },
    {
      "cell_type": "markdown",
      "metadata": {
        "id": "I5m21wp2N80G"
      },
      "source": [
        "Данные для первой части\n",
        "Файл /datasets/hypothesis.csv:\n",
        "- Hypothesis — краткое описание гипотезы;\n",
        "- Reach — охват пользователей по 10-балльной шкале;\n",
        "- Impact — влияние на пользователей по 10-балльной шкале;\n",
        "- Confidence — уверенность в гипотезе по 10-балльной шкале;\n",
        "- Efforts — затраты ресурсов на проверку гипотезы по 10-балльной шкале. Чем больше значение Efforts, тем дороже проверка гипотезы."
      ]
    },
    {
      "cell_type": "markdown",
      "metadata": {
        "id": "P-oE3wNlN80G"
      },
      "source": [
        "Данные для второй части\n",
        "Файл /datasets/orders.csv:\n",
        "- transactionId — идентификатор заказа;\n",
        "- visitorId — идентификатор пользователя, совершившего заказ;\n",
        "- date — дата, когда был совершён заказ;\n",
        "- revenue — выручка заказа;\n",
        "- group — группа A/B-теста, в которую попал заказ."
      ]
    },
    {
      "cell_type": "markdown",
      "source": [
        ""
      ],
      "metadata": {
        "id": "7iqinPPYPVfe"
      }
    },
    {
      "cell_type": "markdown",
      "metadata": {
        "id": "mF7tH4F3N80H"
      },
      "source": [
        "Файл /datasets/visitors.csv: \n",
        "- date — дата;\n",
        "- group — группа A/B-теста;\n",
        "- visitors — количество пользователей в указанную дату в указанной группе A/B-теста"
      ]
    },
    {
      "cell_type": "markdown",
      "metadata": {
        "id": "s4TGhT9BN80H"
      },
      "source": [
        "## Предобработка данных"
      ]
    },
    {
      "cell_type": "markdown",
      "metadata": {
        "id": "tHC7CkJ8N80H"
      },
      "source": [
        "Импортируем библиотеки"
      ]
    },
    {
      "cell_type": "code",
      "execution_count": null,
      "metadata": {
        "id": "DSJ4wOBiN80I"
      },
      "outputs": [],
      "source": [
        "import pandas as pd\n",
        "import numpy as np\n",
        "import matplotlib.pyplot as plt\n",
        "import datetime as dt\n",
        "from scipy import stats as st\n",
        "import seaborn as sns\n",
        "import warnings \n",
        "warnings.filterwarnings('ignore')\n",
        "from collections import defaultdict\n",
        "\n",
        "from pylab import rcParams\n",
        "rcParams['figure.figsize'] = 14,6 # задаем размер графиков, если не задано будет другого\n",
        "pd.options.display.max_colwidth = 400 # для полного отображения информации внутри столбцов устанавлоиваем параметр функции"
      ]
    },
    {
      "cell_type": "markdown",
      "metadata": {
        "id": "5voZMWPiN80I"
      },
      "source": [
        "Прочтем файлы и запишем их в соответствуюющие переменные"
      ]
    },
    {
      "cell_type": "code",
      "execution_count": null,
      "metadata": {
        "id": "Dj2v8ciWN80J"
      },
      "outputs": [],
      "source": [
        "hypothesis = pd.read_csv('/datasets/hypothesis.csv')\n",
        "orders = pd.read_csv('/datasets/orders.csv')\n",
        "visitor = pd.read_csv('/datasets/visitors.csv')"
      ]
    },
    {
      "cell_type": "markdown",
      "metadata": {
        "id": "kXGWvmXqN80J"
      },
      "source": [
        "Напишем функцию для первичного анализа датафреймов, смотреть распределение численных значений при помощи describe, анализировать какие строки наиболее частые при помощи value_counts, приведение даты к типу datetime, приведение названий к нижнему регистру, анализ на наличие дубликатов и пропусков"
      ]
    },
    {
      "cell_type": "code",
      "execution_count": null,
      "metadata": {
        "id": "Xy8JFgBxN80J"
      },
      "outputs": [],
      "source": [
        "def inspect(df):\n",
        "    display(df) \n",
        "    df.info() \n",
        "    print ('Количество дубликатов -', df.duplicated().sum())\n",
        "    print ('Количество пропусков -', df.isna().sum())\n",
        "    numeric_columns=df.describe().columns\n",
        "    display(df.describe())\n",
        "    df.columns = [x.lower().replace(' ', '_') for x in df.columns.values]\n",
        "    df.info()\n",
        "    return"
      ]
    },
    {
      "cell_type": "markdown",
      "metadata": {
        "id": "P_fzaMi2N80J"
      },
      "source": [
        "Применим функцию ко всем датасетам"
      ]
    },
    {
      "cell_type": "code",
      "execution_count": null,
      "metadata": {
        "id": "0JRskjkgN80J",
        "outputId": "93f14d83-edfa-4525-a662-47d53becb88e"
      },
      "outputs": [
        {
          "data": {
            "text/html": [
              "<div>\n",
              "<style scoped>\n",
              "    .dataframe tbody tr th:only-of-type {\n",
              "        vertical-align: middle;\n",
              "    }\n",
              "\n",
              "    .dataframe tbody tr th {\n",
              "        vertical-align: top;\n",
              "    }\n",
              "\n",
              "    .dataframe thead th {\n",
              "        text-align: right;\n",
              "    }\n",
              "</style>\n",
              "<table border=\"1\" class=\"dataframe\">\n",
              "  <thead>\n",
              "    <tr style=\"text-align: right;\">\n",
              "      <th></th>\n",
              "      <th>Hypothesis</th>\n",
              "      <th>Reach</th>\n",
              "      <th>Impact</th>\n",
              "      <th>Confidence</th>\n",
              "      <th>Efforts</th>\n",
              "    </tr>\n",
              "  </thead>\n",
              "  <tbody>\n",
              "    <tr>\n",
              "      <th>0</th>\n",
              "      <td>Добавить два новых канала привлечения трафика, что позволит привлекать на 30% больше пользователей</td>\n",
              "      <td>3</td>\n",
              "      <td>10</td>\n",
              "      <td>8</td>\n",
              "      <td>6</td>\n",
              "    </tr>\n",
              "    <tr>\n",
              "      <th>1</th>\n",
              "      <td>Запустить собственную службу доставки, что сократит срок доставки заказов</td>\n",
              "      <td>2</td>\n",
              "      <td>5</td>\n",
              "      <td>4</td>\n",
              "      <td>10</td>\n",
              "    </tr>\n",
              "    <tr>\n",
              "      <th>2</th>\n",
              "      <td>Добавить блоки рекомендаций товаров на сайт интернет магазина, чтобы повысить конверсию и средний чек заказа</td>\n",
              "      <td>8</td>\n",
              "      <td>3</td>\n",
              "      <td>7</td>\n",
              "      <td>3</td>\n",
              "    </tr>\n",
              "    <tr>\n",
              "      <th>3</th>\n",
              "      <td>Изменить структура категорий, что увеличит конверсию, т.к. пользователи быстрее найдут нужный товар</td>\n",
              "      <td>8</td>\n",
              "      <td>3</td>\n",
              "      <td>3</td>\n",
              "      <td>8</td>\n",
              "    </tr>\n",
              "    <tr>\n",
              "      <th>4</th>\n",
              "      <td>Изменить цвет фона главной страницы, чтобы увеличить вовлеченность пользователей</td>\n",
              "      <td>3</td>\n",
              "      <td>1</td>\n",
              "      <td>1</td>\n",
              "      <td>1</td>\n",
              "    </tr>\n",
              "    <tr>\n",
              "      <th>5</th>\n",
              "      <td>Добавить страницу отзывов клиентов о магазине, что позволит увеличить количество заказов</td>\n",
              "      <td>3</td>\n",
              "      <td>2</td>\n",
              "      <td>2</td>\n",
              "      <td>3</td>\n",
              "    </tr>\n",
              "    <tr>\n",
              "      <th>6</th>\n",
              "      <td>Показать на главной странице баннеры с актуальными акциями и распродажами, чтобы увеличить конверсию</td>\n",
              "      <td>5</td>\n",
              "      <td>3</td>\n",
              "      <td>8</td>\n",
              "      <td>3</td>\n",
              "    </tr>\n",
              "    <tr>\n",
              "      <th>7</th>\n",
              "      <td>Добавить форму подписки на все основные страницы, чтобы собрать базу клиентов для email-рассылок</td>\n",
              "      <td>10</td>\n",
              "      <td>7</td>\n",
              "      <td>8</td>\n",
              "      <td>5</td>\n",
              "    </tr>\n",
              "    <tr>\n",
              "      <th>8</th>\n",
              "      <td>Запустить акцию, дающую скидку на товар в день рождения</td>\n",
              "      <td>1</td>\n",
              "      <td>9</td>\n",
              "      <td>9</td>\n",
              "      <td>5</td>\n",
              "    </tr>\n",
              "  </tbody>\n",
              "</table>\n",
              "</div>"
            ],
            "text/plain": [
              "                                                                                                     Hypothesis  \\\n",
              "0            Добавить два новых канала привлечения трафика, что позволит привлекать на 30% больше пользователей   \n",
              "1                                     Запустить собственную службу доставки, что сократит срок доставки заказов   \n",
              "2  Добавить блоки рекомендаций товаров на сайт интернет магазина, чтобы повысить конверсию и средний чек заказа   \n",
              "3           Изменить структура категорий, что увеличит конверсию, т.к. пользователи быстрее найдут нужный товар   \n",
              "4                              Изменить цвет фона главной страницы, чтобы увеличить вовлеченность пользователей   \n",
              "5                      Добавить страницу отзывов клиентов о магазине, что позволит увеличить количество заказов   \n",
              "6          Показать на главной странице баннеры с актуальными акциями и распродажами, чтобы увеличить конверсию   \n",
              "7              Добавить форму подписки на все основные страницы, чтобы собрать базу клиентов для email-рассылок   \n",
              "8                                                       Запустить акцию, дающую скидку на товар в день рождения   \n",
              "\n",
              "   Reach  Impact  Confidence  Efforts  \n",
              "0      3      10           8        6  \n",
              "1      2       5           4       10  \n",
              "2      8       3           7        3  \n",
              "3      8       3           3        8  \n",
              "4      3       1           1        1  \n",
              "5      3       2           2        3  \n",
              "6      5       3           8        3  \n",
              "7     10       7           8        5  \n",
              "8      1       9           9        5  "
            ]
          },
          "metadata": {},
          "output_type": "display_data"
        },
        {
          "name": "stdout",
          "output_type": "stream",
          "text": [
            "<class 'pandas.core.frame.DataFrame'>\n",
            "RangeIndex: 9 entries, 0 to 8\n",
            "Data columns (total 5 columns):\n",
            " #   Column      Non-Null Count  Dtype \n",
            "---  ------      --------------  ----- \n",
            " 0   Hypothesis  9 non-null      object\n",
            " 1   Reach       9 non-null      int64 \n",
            " 2   Impact      9 non-null      int64 \n",
            " 3   Confidence  9 non-null      int64 \n",
            " 4   Efforts     9 non-null      int64 \n",
            "dtypes: int64(4), object(1)\n",
            "memory usage: 488.0+ bytes\n",
            "Количество дубликатов - 0\n",
            "Количество пропусков - Hypothesis    0\n",
            "Reach         0\n",
            "Impact        0\n",
            "Confidence    0\n",
            "Efforts       0\n",
            "dtype: int64\n"
          ]
        },
        {
          "data": {
            "text/html": [
              "<div>\n",
              "<style scoped>\n",
              "    .dataframe tbody tr th:only-of-type {\n",
              "        vertical-align: middle;\n",
              "    }\n",
              "\n",
              "    .dataframe tbody tr th {\n",
              "        vertical-align: top;\n",
              "    }\n",
              "\n",
              "    .dataframe thead th {\n",
              "        text-align: right;\n",
              "    }\n",
              "</style>\n",
              "<table border=\"1\" class=\"dataframe\">\n",
              "  <thead>\n",
              "    <tr style=\"text-align: right;\">\n",
              "      <th></th>\n",
              "      <th>Reach</th>\n",
              "      <th>Impact</th>\n",
              "      <th>Confidence</th>\n",
              "      <th>Efforts</th>\n",
              "    </tr>\n",
              "  </thead>\n",
              "  <tbody>\n",
              "    <tr>\n",
              "      <th>count</th>\n",
              "      <td>9.000000</td>\n",
              "      <td>9.000000</td>\n",
              "      <td>9.000000</td>\n",
              "      <td>9.000000</td>\n",
              "    </tr>\n",
              "    <tr>\n",
              "      <th>mean</th>\n",
              "      <td>4.777778</td>\n",
              "      <td>4.777778</td>\n",
              "      <td>5.555556</td>\n",
              "      <td>4.888889</td>\n",
              "    </tr>\n",
              "    <tr>\n",
              "      <th>std</th>\n",
              "      <td>3.153481</td>\n",
              "      <td>3.192874</td>\n",
              "      <td>3.045944</td>\n",
              "      <td>2.803767</td>\n",
              "    </tr>\n",
              "    <tr>\n",
              "      <th>min</th>\n",
              "      <td>1.000000</td>\n",
              "      <td>1.000000</td>\n",
              "      <td>1.000000</td>\n",
              "      <td>1.000000</td>\n",
              "    </tr>\n",
              "    <tr>\n",
              "      <th>25%</th>\n",
              "      <td>3.000000</td>\n",
              "      <td>3.000000</td>\n",
              "      <td>3.000000</td>\n",
              "      <td>3.000000</td>\n",
              "    </tr>\n",
              "    <tr>\n",
              "      <th>50%</th>\n",
              "      <td>3.000000</td>\n",
              "      <td>3.000000</td>\n",
              "      <td>7.000000</td>\n",
              "      <td>5.000000</td>\n",
              "    </tr>\n",
              "    <tr>\n",
              "      <th>75%</th>\n",
              "      <td>8.000000</td>\n",
              "      <td>7.000000</td>\n",
              "      <td>8.000000</td>\n",
              "      <td>6.000000</td>\n",
              "    </tr>\n",
              "    <tr>\n",
              "      <th>max</th>\n",
              "      <td>10.000000</td>\n",
              "      <td>10.000000</td>\n",
              "      <td>9.000000</td>\n",
              "      <td>10.000000</td>\n",
              "    </tr>\n",
              "  </tbody>\n",
              "</table>\n",
              "</div>"
            ],
            "text/plain": [
              "           Reach     Impact  Confidence    Efforts\n",
              "count   9.000000   9.000000    9.000000   9.000000\n",
              "mean    4.777778   4.777778    5.555556   4.888889\n",
              "std     3.153481   3.192874    3.045944   2.803767\n",
              "min     1.000000   1.000000    1.000000   1.000000\n",
              "25%     3.000000   3.000000    3.000000   3.000000\n",
              "50%     3.000000   3.000000    7.000000   5.000000\n",
              "75%     8.000000   7.000000    8.000000   6.000000\n",
              "max    10.000000  10.000000    9.000000  10.000000"
            ]
          },
          "metadata": {},
          "output_type": "display_data"
        },
        {
          "name": "stdout",
          "output_type": "stream",
          "text": [
            "<class 'pandas.core.frame.DataFrame'>\n",
            "RangeIndex: 9 entries, 0 to 8\n",
            "Data columns (total 5 columns):\n",
            " #   Column      Non-Null Count  Dtype \n",
            "---  ------      --------------  ----- \n",
            " 0   hypothesis  9 non-null      object\n",
            " 1   reach       9 non-null      int64 \n",
            " 2   impact      9 non-null      int64 \n",
            " 3   confidence  9 non-null      int64 \n",
            " 4   efforts     9 non-null      int64 \n",
            "dtypes: int64(4), object(1)\n",
            "memory usage: 488.0+ bytes\n"
          ]
        }
      ],
      "source": [
        "inspect(hypothesis)"
      ]
    },
    {
      "cell_type": "code",
      "execution_count": null,
      "metadata": {
        "scrolled": false,
        "id": "_kpoRITlN80K",
        "outputId": "9cdc4674-5fad-44b9-823d-070a738366d7"
      },
      "outputs": [
        {
          "data": {
            "text/html": [
              "<div>\n",
              "<style scoped>\n",
              "    .dataframe tbody tr th:only-of-type {\n",
              "        vertical-align: middle;\n",
              "    }\n",
              "\n",
              "    .dataframe tbody tr th {\n",
              "        vertical-align: top;\n",
              "    }\n",
              "\n",
              "    .dataframe thead th {\n",
              "        text-align: right;\n",
              "    }\n",
              "</style>\n",
              "<table border=\"1\" class=\"dataframe\">\n",
              "  <thead>\n",
              "    <tr style=\"text-align: right;\">\n",
              "      <th></th>\n",
              "      <th>transactionId</th>\n",
              "      <th>visitorId</th>\n",
              "      <th>date</th>\n",
              "      <th>revenue</th>\n",
              "      <th>group</th>\n",
              "    </tr>\n",
              "  </thead>\n",
              "  <tbody>\n",
              "    <tr>\n",
              "      <th>0</th>\n",
              "      <td>3667963787</td>\n",
              "      <td>3312258926</td>\n",
              "      <td>2019-08-15</td>\n",
              "      <td>1650</td>\n",
              "      <td>B</td>\n",
              "    </tr>\n",
              "    <tr>\n",
              "      <th>1</th>\n",
              "      <td>2804400009</td>\n",
              "      <td>3642806036</td>\n",
              "      <td>2019-08-15</td>\n",
              "      <td>730</td>\n",
              "      <td>B</td>\n",
              "    </tr>\n",
              "    <tr>\n",
              "      <th>2</th>\n",
              "      <td>2961555356</td>\n",
              "      <td>4069496402</td>\n",
              "      <td>2019-08-15</td>\n",
              "      <td>400</td>\n",
              "      <td>A</td>\n",
              "    </tr>\n",
              "    <tr>\n",
              "      <th>3</th>\n",
              "      <td>3797467345</td>\n",
              "      <td>1196621759</td>\n",
              "      <td>2019-08-15</td>\n",
              "      <td>9759</td>\n",
              "      <td>B</td>\n",
              "    </tr>\n",
              "    <tr>\n",
              "      <th>4</th>\n",
              "      <td>2282983706</td>\n",
              "      <td>2322279887</td>\n",
              "      <td>2019-08-15</td>\n",
              "      <td>2308</td>\n",
              "      <td>B</td>\n",
              "    </tr>\n",
              "    <tr>\n",
              "      <th>...</th>\n",
              "      <td>...</td>\n",
              "      <td>...</td>\n",
              "      <td>...</td>\n",
              "      <td>...</td>\n",
              "      <td>...</td>\n",
              "    </tr>\n",
              "    <tr>\n",
              "      <th>1192</th>\n",
              "      <td>2662137336</td>\n",
              "      <td>3733762160</td>\n",
              "      <td>2019-08-14</td>\n",
              "      <td>6490</td>\n",
              "      <td>B</td>\n",
              "    </tr>\n",
              "    <tr>\n",
              "      <th>1193</th>\n",
              "      <td>2203539145</td>\n",
              "      <td>370388673</td>\n",
              "      <td>2019-08-14</td>\n",
              "      <td>3190</td>\n",
              "      <td>A</td>\n",
              "    </tr>\n",
              "    <tr>\n",
              "      <th>1194</th>\n",
              "      <td>1807773912</td>\n",
              "      <td>573423106</td>\n",
              "      <td>2019-08-14</td>\n",
              "      <td>10550</td>\n",
              "      <td>A</td>\n",
              "    </tr>\n",
              "    <tr>\n",
              "      <th>1195</th>\n",
              "      <td>1947021204</td>\n",
              "      <td>1614305549</td>\n",
              "      <td>2019-08-14</td>\n",
              "      <td>100</td>\n",
              "      <td>A</td>\n",
              "    </tr>\n",
              "    <tr>\n",
              "      <th>1196</th>\n",
              "      <td>3936777065</td>\n",
              "      <td>2108080724</td>\n",
              "      <td>2019-08-15</td>\n",
              "      <td>202740</td>\n",
              "      <td>B</td>\n",
              "    </tr>\n",
              "  </tbody>\n",
              "</table>\n",
              "<p>1197 rows × 5 columns</p>\n",
              "</div>"
            ],
            "text/plain": [
              "      transactionId   visitorId        date  revenue group\n",
              "0        3667963787  3312258926  2019-08-15     1650     B\n",
              "1        2804400009  3642806036  2019-08-15      730     B\n",
              "2        2961555356  4069496402  2019-08-15      400     A\n",
              "3        3797467345  1196621759  2019-08-15     9759     B\n",
              "4        2282983706  2322279887  2019-08-15     2308     B\n",
              "...             ...         ...         ...      ...   ...\n",
              "1192     2662137336  3733762160  2019-08-14     6490     B\n",
              "1193     2203539145   370388673  2019-08-14     3190     A\n",
              "1194     1807773912   573423106  2019-08-14    10550     A\n",
              "1195     1947021204  1614305549  2019-08-14      100     A\n",
              "1196     3936777065  2108080724  2019-08-15   202740     B\n",
              "\n",
              "[1197 rows x 5 columns]"
            ]
          },
          "metadata": {},
          "output_type": "display_data"
        },
        {
          "name": "stdout",
          "output_type": "stream",
          "text": [
            "<class 'pandas.core.frame.DataFrame'>\n",
            "RangeIndex: 1197 entries, 0 to 1196\n",
            "Data columns (total 5 columns):\n",
            " #   Column         Non-Null Count  Dtype \n",
            "---  ------         --------------  ----- \n",
            " 0   transactionId  1197 non-null   int64 \n",
            " 1   visitorId      1197 non-null   int64 \n",
            " 2   date           1197 non-null   object\n",
            " 3   revenue        1197 non-null   int64 \n",
            " 4   group          1197 non-null   object\n",
            "dtypes: int64(3), object(2)\n",
            "memory usage: 46.9+ KB\n",
            "Количество дубликатов - 0\n",
            "Количество пропусков - transactionId    0\n",
            "visitorId        0\n",
            "date             0\n",
            "revenue          0\n",
            "group            0\n",
            "dtype: int64\n"
          ]
        },
        {
          "data": {
            "text/html": [
              "<div>\n",
              "<style scoped>\n",
              "    .dataframe tbody tr th:only-of-type {\n",
              "        vertical-align: middle;\n",
              "    }\n",
              "\n",
              "    .dataframe tbody tr th {\n",
              "        vertical-align: top;\n",
              "    }\n",
              "\n",
              "    .dataframe thead th {\n",
              "        text-align: right;\n",
              "    }\n",
              "</style>\n",
              "<table border=\"1\" class=\"dataframe\">\n",
              "  <thead>\n",
              "    <tr style=\"text-align: right;\">\n",
              "      <th></th>\n",
              "      <th>transactionId</th>\n",
              "      <th>visitorId</th>\n",
              "      <th>revenue</th>\n",
              "    </tr>\n",
              "  </thead>\n",
              "  <tbody>\n",
              "    <tr>\n",
              "      <th>count</th>\n",
              "      <td>1.197000e+03</td>\n",
              "      <td>1.197000e+03</td>\n",
              "      <td>1.197000e+03</td>\n",
              "    </tr>\n",
              "    <tr>\n",
              "      <th>mean</th>\n",
              "      <td>2.155621e+09</td>\n",
              "      <td>2.165960e+09</td>\n",
              "      <td>8.348006e+03</td>\n",
              "    </tr>\n",
              "    <tr>\n",
              "      <th>std</th>\n",
              "      <td>1.229085e+09</td>\n",
              "      <td>1.236014e+09</td>\n",
              "      <td>3.919113e+04</td>\n",
              "    </tr>\n",
              "    <tr>\n",
              "      <th>min</th>\n",
              "      <td>1.062393e+06</td>\n",
              "      <td>5.114589e+06</td>\n",
              "      <td>5.000000e+01</td>\n",
              "    </tr>\n",
              "    <tr>\n",
              "      <th>25%</th>\n",
              "      <td>1.166776e+09</td>\n",
              "      <td>1.111826e+09</td>\n",
              "      <td>1.220000e+03</td>\n",
              "    </tr>\n",
              "    <tr>\n",
              "      <th>50%</th>\n",
              "      <td>2.145194e+09</td>\n",
              "      <td>2.217985e+09</td>\n",
              "      <td>2.978000e+03</td>\n",
              "    </tr>\n",
              "    <tr>\n",
              "      <th>75%</th>\n",
              "      <td>3.237740e+09</td>\n",
              "      <td>3.177606e+09</td>\n",
              "      <td>8.290000e+03</td>\n",
              "    </tr>\n",
              "    <tr>\n",
              "      <th>max</th>\n",
              "      <td>4.293856e+09</td>\n",
              "      <td>4.283872e+09</td>\n",
              "      <td>1.294500e+06</td>\n",
              "    </tr>\n",
              "  </tbody>\n",
              "</table>\n",
              "</div>"
            ],
            "text/plain": [
              "       transactionId     visitorId       revenue\n",
              "count   1.197000e+03  1.197000e+03  1.197000e+03\n",
              "mean    2.155621e+09  2.165960e+09  8.348006e+03\n",
              "std     1.229085e+09  1.236014e+09  3.919113e+04\n",
              "min     1.062393e+06  5.114589e+06  5.000000e+01\n",
              "25%     1.166776e+09  1.111826e+09  1.220000e+03\n",
              "50%     2.145194e+09  2.217985e+09  2.978000e+03\n",
              "75%     3.237740e+09  3.177606e+09  8.290000e+03\n",
              "max     4.293856e+09  4.283872e+09  1.294500e+06"
            ]
          },
          "metadata": {},
          "output_type": "display_data"
        },
        {
          "name": "stdout",
          "output_type": "stream",
          "text": [
            "<class 'pandas.core.frame.DataFrame'>\n",
            "RangeIndex: 1197 entries, 0 to 1196\n",
            "Data columns (total 5 columns):\n",
            " #   Column         Non-Null Count  Dtype \n",
            "---  ------         --------------  ----- \n",
            " 0   transactionid  1197 non-null   int64 \n",
            " 1   visitorid      1197 non-null   int64 \n",
            " 2   date           1197 non-null   object\n",
            " 3   revenue        1197 non-null   int64 \n",
            " 4   group          1197 non-null   object\n",
            "dtypes: int64(3), object(2)\n",
            "memory usage: 46.9+ KB\n"
          ]
        }
      ],
      "source": [
        "inspect(orders)"
      ]
    },
    {
      "cell_type": "code",
      "execution_count": null,
      "metadata": {
        "id": "8PsfAhSiN80K",
        "outputId": "da63efb6-f7b1-4133-d4e0-9dec295bbe6f"
      },
      "outputs": [
        {
          "data": {
            "text/html": [
              "<div>\n",
              "<style scoped>\n",
              "    .dataframe tbody tr th:only-of-type {\n",
              "        vertical-align: middle;\n",
              "    }\n",
              "\n",
              "    .dataframe tbody tr th {\n",
              "        vertical-align: top;\n",
              "    }\n",
              "\n",
              "    .dataframe thead th {\n",
              "        text-align: right;\n",
              "    }\n",
              "</style>\n",
              "<table border=\"1\" class=\"dataframe\">\n",
              "  <thead>\n",
              "    <tr style=\"text-align: right;\">\n",
              "      <th></th>\n",
              "      <th>date</th>\n",
              "      <th>group</th>\n",
              "      <th>visitors</th>\n",
              "    </tr>\n",
              "  </thead>\n",
              "  <tbody>\n",
              "    <tr>\n",
              "      <th>0</th>\n",
              "      <td>2019-08-01</td>\n",
              "      <td>A</td>\n",
              "      <td>719</td>\n",
              "    </tr>\n",
              "    <tr>\n",
              "      <th>1</th>\n",
              "      <td>2019-08-02</td>\n",
              "      <td>A</td>\n",
              "      <td>619</td>\n",
              "    </tr>\n",
              "    <tr>\n",
              "      <th>2</th>\n",
              "      <td>2019-08-03</td>\n",
              "      <td>A</td>\n",
              "      <td>507</td>\n",
              "    </tr>\n",
              "    <tr>\n",
              "      <th>3</th>\n",
              "      <td>2019-08-04</td>\n",
              "      <td>A</td>\n",
              "      <td>717</td>\n",
              "    </tr>\n",
              "    <tr>\n",
              "      <th>4</th>\n",
              "      <td>2019-08-05</td>\n",
              "      <td>A</td>\n",
              "      <td>756</td>\n",
              "    </tr>\n",
              "    <tr>\n",
              "      <th>...</th>\n",
              "      <td>...</td>\n",
              "      <td>...</td>\n",
              "      <td>...</td>\n",
              "    </tr>\n",
              "    <tr>\n",
              "      <th>57</th>\n",
              "      <td>2019-08-27</td>\n",
              "      <td>B</td>\n",
              "      <td>720</td>\n",
              "    </tr>\n",
              "    <tr>\n",
              "      <th>58</th>\n",
              "      <td>2019-08-28</td>\n",
              "      <td>B</td>\n",
              "      <td>654</td>\n",
              "    </tr>\n",
              "    <tr>\n",
              "      <th>59</th>\n",
              "      <td>2019-08-29</td>\n",
              "      <td>B</td>\n",
              "      <td>531</td>\n",
              "    </tr>\n",
              "    <tr>\n",
              "      <th>60</th>\n",
              "      <td>2019-08-30</td>\n",
              "      <td>B</td>\n",
              "      <td>490</td>\n",
              "    </tr>\n",
              "    <tr>\n",
              "      <th>61</th>\n",
              "      <td>2019-08-31</td>\n",
              "      <td>B</td>\n",
              "      <td>718</td>\n",
              "    </tr>\n",
              "  </tbody>\n",
              "</table>\n",
              "<p>62 rows × 3 columns</p>\n",
              "</div>"
            ],
            "text/plain": [
              "          date group  visitors\n",
              "0   2019-08-01     A       719\n",
              "1   2019-08-02     A       619\n",
              "2   2019-08-03     A       507\n",
              "3   2019-08-04     A       717\n",
              "4   2019-08-05     A       756\n",
              "..         ...   ...       ...\n",
              "57  2019-08-27     B       720\n",
              "58  2019-08-28     B       654\n",
              "59  2019-08-29     B       531\n",
              "60  2019-08-30     B       490\n",
              "61  2019-08-31     B       718\n",
              "\n",
              "[62 rows x 3 columns]"
            ]
          },
          "metadata": {},
          "output_type": "display_data"
        },
        {
          "name": "stdout",
          "output_type": "stream",
          "text": [
            "<class 'pandas.core.frame.DataFrame'>\n",
            "RangeIndex: 62 entries, 0 to 61\n",
            "Data columns (total 3 columns):\n",
            " #   Column    Non-Null Count  Dtype \n",
            "---  ------    --------------  ----- \n",
            " 0   date      62 non-null     object\n",
            " 1   group     62 non-null     object\n",
            " 2   visitors  62 non-null     int64 \n",
            "dtypes: int64(1), object(2)\n",
            "memory usage: 1.6+ KB\n",
            "Количество дубликатов - 0\n",
            "Количество пропусков - date        0\n",
            "group       0\n",
            "visitors    0\n",
            "dtype: int64\n"
          ]
        },
        {
          "data": {
            "text/html": [
              "<div>\n",
              "<style scoped>\n",
              "    .dataframe tbody tr th:only-of-type {\n",
              "        vertical-align: middle;\n",
              "    }\n",
              "\n",
              "    .dataframe tbody tr th {\n",
              "        vertical-align: top;\n",
              "    }\n",
              "\n",
              "    .dataframe thead th {\n",
              "        text-align: right;\n",
              "    }\n",
              "</style>\n",
              "<table border=\"1\" class=\"dataframe\">\n",
              "  <thead>\n",
              "    <tr style=\"text-align: right;\">\n",
              "      <th></th>\n",
              "      <th>visitors</th>\n",
              "    </tr>\n",
              "  </thead>\n",
              "  <tbody>\n",
              "    <tr>\n",
              "      <th>count</th>\n",
              "      <td>62.000000</td>\n",
              "    </tr>\n",
              "    <tr>\n",
              "      <th>mean</th>\n",
              "      <td>607.290323</td>\n",
              "    </tr>\n",
              "    <tr>\n",
              "      <th>std</th>\n",
              "      <td>114.400560</td>\n",
              "    </tr>\n",
              "    <tr>\n",
              "      <th>min</th>\n",
              "      <td>361.000000</td>\n",
              "    </tr>\n",
              "    <tr>\n",
              "      <th>25%</th>\n",
              "      <td>534.000000</td>\n",
              "    </tr>\n",
              "    <tr>\n",
              "      <th>50%</th>\n",
              "      <td>624.500000</td>\n",
              "    </tr>\n",
              "    <tr>\n",
              "      <th>75%</th>\n",
              "      <td>710.500000</td>\n",
              "    </tr>\n",
              "    <tr>\n",
              "      <th>max</th>\n",
              "      <td>770.000000</td>\n",
              "    </tr>\n",
              "  </tbody>\n",
              "</table>\n",
              "</div>"
            ],
            "text/plain": [
              "         visitors\n",
              "count   62.000000\n",
              "mean   607.290323\n",
              "std    114.400560\n",
              "min    361.000000\n",
              "25%    534.000000\n",
              "50%    624.500000\n",
              "75%    710.500000\n",
              "max    770.000000"
            ]
          },
          "metadata": {},
          "output_type": "display_data"
        },
        {
          "name": "stdout",
          "output_type": "stream",
          "text": [
            "<class 'pandas.core.frame.DataFrame'>\n",
            "RangeIndex: 62 entries, 0 to 61\n",
            "Data columns (total 3 columns):\n",
            " #   Column    Non-Null Count  Dtype \n",
            "---  ------    --------------  ----- \n",
            " 0   date      62 non-null     object\n",
            " 1   group     62 non-null     object\n",
            " 2   visitors  62 non-null     int64 \n",
            "dtypes: int64(1), object(2)\n",
            "memory usage: 1.6+ KB\n"
          ]
        }
      ],
      "source": [
        "inspect(visitor)"
      ]
    },
    {
      "cell_type": "markdown",
      "metadata": {
        "id": "b0ZVze96N80L"
      },
      "source": [
        "Приведем даты к формату датавремя"
      ]
    },
    {
      "cell_type": "code",
      "execution_count": null,
      "metadata": {
        "id": "MPZHhTxbN80L"
      },
      "outputs": [],
      "source": [
        "orders['date'] = orders['date'].astype('datetime64[D]')\n",
        "orders['date'] = orders['date'].map(lambda x: dt.datetime.strftime(x, '%Y-%m-%d'))\n",
        "visitor['date'] = visitor['date'].astype('datetime64[D]')\n",
        "visitor['date'] = visitor['date'].map(lambda x: dt.datetime.strftime(x, '%Y-%m-%d'))"
      ]
    },
    {
      "cell_type": "markdown",
      "metadata": {
        "id": "Zoyjh6f1N80L"
      },
      "source": [
        "Данные прочитали, изменили тип данных у столбцов с датами"
      ]
    },
    {
      "cell_type": "markdown",
      "metadata": {
        "id": "A14wuG8NN80L"
      },
      "source": [
        "[*Назад к содержанию*](#Содержание)"
      ]
    },
    {
      "cell_type": "markdown",
      "metadata": {
        "id": "RFMF74IqN80L"
      },
      "source": [
        "### Очистка данных"
      ]
    },
    {
      "cell_type": "markdown",
      "metadata": {
        "id": "UmD2co6oN80L"
      },
      "source": [
        "Стоит проверить нет ли пользователей, которые оказались в обеих группах одновременно. \n",
        "Cформируем группу пользователей с более чем 1 заказом "
      ]
    },
    {
      "cell_type": "code",
      "execution_count": null,
      "metadata": {
        "id": "IDx9XrHpN80M",
        "outputId": "1d044592-1dfc-4a20-8e85-189c0cb9944c"
      },
      "outputs": [
        {
          "data": {
            "text/html": [
              "<div>\n",
              "<style scoped>\n",
              "    .dataframe tbody tr th:only-of-type {\n",
              "        vertical-align: middle;\n",
              "    }\n",
              "\n",
              "    .dataframe tbody tr th {\n",
              "        vertical-align: top;\n",
              "    }\n",
              "\n",
              "    .dataframe thead th {\n",
              "        text-align: right;\n",
              "    }\n",
              "</style>\n",
              "<table border=\"1\" class=\"dataframe\">\n",
              "  <thead>\n",
              "    <tr style=\"text-align: right;\">\n",
              "      <th></th>\n",
              "      <th>visitorid</th>\n",
              "      <th>group</th>\n",
              "      <th>count</th>\n",
              "    </tr>\n",
              "  </thead>\n",
              "  <tbody>\n",
              "    <tr>\n",
              "      <th>45</th>\n",
              "      <td>199603092</td>\n",
              "      <td>A</td>\n",
              "      <td>4</td>\n",
              "    </tr>\n",
              "    <tr>\n",
              "      <th>58</th>\n",
              "      <td>237748145</td>\n",
              "      <td>A</td>\n",
              "      <td>4</td>\n",
              "    </tr>\n",
              "    <tr>\n",
              "      <th>63</th>\n",
              "      <td>249864742</td>\n",
              "      <td>B</td>\n",
              "      <td>3</td>\n",
              "    </tr>\n",
              "    <tr>\n",
              "      <th>94</th>\n",
              "      <td>366673373</td>\n",
              "      <td>A</td>\n",
              "      <td>2</td>\n",
              "    </tr>\n",
              "    <tr>\n",
              "      <th>104</th>\n",
              "      <td>393266494</td>\n",
              "      <td>B</td>\n",
              "      <td>2</td>\n",
              "    </tr>\n",
              "    <tr>\n",
              "      <th>108</th>\n",
              "      <td>406208401</td>\n",
              "      <td>B</td>\n",
              "      <td>2</td>\n",
              "    </tr>\n",
              "    <tr>\n",
              "      <th>122</th>\n",
              "      <td>457167155</td>\n",
              "      <td>B</td>\n",
              "      <td>3</td>\n",
              "    </tr>\n",
              "    <tr>\n",
              "      <th>138</th>\n",
              "      <td>522292794</td>\n",
              "      <td>B</td>\n",
              "      <td>2</td>\n",
              "    </tr>\n",
              "    <tr>\n",
              "      <th>158</th>\n",
              "      <td>611059232</td>\n",
              "      <td>A</td>\n",
              "      <td>3</td>\n",
              "    </tr>\n",
              "    <tr>\n",
              "      <th>177</th>\n",
              "      <td>678354126</td>\n",
              "      <td>A</td>\n",
              "      <td>2</td>\n",
              "    </tr>\n",
              "  </tbody>\n",
              "</table>\n",
              "</div>"
            ],
            "text/plain": [
              "     visitorid group  count\n",
              "45   199603092     A      4\n",
              "58   237748145     A      4\n",
              "63   249864742     B      3\n",
              "94   366673373     A      2\n",
              "104  393266494     B      2\n",
              "108  406208401     B      2\n",
              "122  457167155     B      3\n",
              "138  522292794     B      2\n",
              "158  611059232     A      3\n",
              "177  678354126     A      2"
            ]
          },
          "execution_count": 8,
          "metadata": {},
          "output_type": "execute_result"
        }
      ],
      "source": [
        "groups = orders.groupby(['visitorid', 'group']).size().reset_index()\n",
        "groups.columns = ['visitorid', 'group', 'count']\n",
        "groups = groups.query('count > 1').sort_values(by='visitorid')\n",
        "groups.head(10)"
      ]
    },
    {
      "cell_type": "markdown",
      "metadata": {
        "id": "UvesRuJfN80M"
      },
      "source": [
        "Caормируем словарь \"пользователь - группы\" и если одному пользователю принадлежит более 1 значения групп, добавляем его в список double_visitors:"
      ]
    },
    {
      "cell_type": "code",
      "execution_count": null,
      "metadata": {
        "id": "cFFXuO3FN80M",
        "outputId": "468a116c-1c5c-4594-f973-f206eb1e92b9"
      },
      "outputs": [
        {
          "name": "stdout",
          "output_type": "stream",
          "text": [
            "Пользователи, которые попали в обе группы:  1230306981, 2038680547, 2378935119, 2458001652, 4256040402\n"
          ]
        }
      ],
      "source": [
        "double_visitors_list = list(zip(groups['visitorid'], groups['group']))\n",
        "double_visitors_dict = defaultdict(list)\n",
        "for visitors, group in double_visitors_list:\n",
        "    double_visitors_dict[visitors].append(group)\n",
        "\n",
        "double_visitors = [visitors for visitors in double_visitors_dict if len(double_visitors_dict[visitors]) > 1]\n",
        "print('Пользователи, которые попали в обе группы: ', ', '.join(str(el) for el in double_visitors))"
      ]
    },
    {
      "cell_type": "markdown",
      "metadata": {
        "id": "3EceIR_vN80M"
      },
      "source": [
        "В обе группы попали 5 пользователей. Посмотрим данные по ним в orders"
      ]
    },
    {
      "cell_type": "code",
      "execution_count": null,
      "metadata": {
        "id": "raqiFc-HN80M",
        "outputId": "83e4dc81-f079-4df7-b864-cde8c2c47bc4"
      },
      "outputs": [
        {
          "name": "stdout",
          "output_type": "stream",
          "text": [
            "Количество строк по этим пользователям: 44\n"
          ]
        },
        {
          "data": {
            "text/html": [
              "<div>\n",
              "<style scoped>\n",
              "    .dataframe tbody tr th:only-of-type {\n",
              "        vertical-align: middle;\n",
              "    }\n",
              "\n",
              "    .dataframe tbody tr th {\n",
              "        vertical-align: top;\n",
              "    }\n",
              "\n",
              "    .dataframe thead th {\n",
              "        text-align: right;\n",
              "    }\n",
              "</style>\n",
              "<table border=\"1\" class=\"dataframe\">\n",
              "  <thead>\n",
              "    <tr style=\"text-align: right;\">\n",
              "      <th></th>\n",
              "      <th>transactionid</th>\n",
              "      <th>visitorid</th>\n",
              "      <th>date</th>\n",
              "      <th>revenue</th>\n",
              "      <th>group</th>\n",
              "    </tr>\n",
              "  </thead>\n",
              "  <tbody>\n",
              "    <tr>\n",
              "      <th>32</th>\n",
              "      <td>3666913472</td>\n",
              "      <td>2038680547</td>\n",
              "      <td>2019-08-15</td>\n",
              "      <td>1680</td>\n",
              "      <td>B</td>\n",
              "    </tr>\n",
              "    <tr>\n",
              "      <th>33</th>\n",
              "      <td>486237576</td>\n",
              "      <td>2378935119</td>\n",
              "      <td>2019-08-15</td>\n",
              "      <td>1650</td>\n",
              "      <td>A</td>\n",
              "    </tr>\n",
              "    <tr>\n",
              "      <th>60</th>\n",
              "      <td>1421016313</td>\n",
              "      <td>4256040402</td>\n",
              "      <td>2019-08-16</td>\n",
              "      <td>56650</td>\n",
              "      <td>B</td>\n",
              "    </tr>\n",
              "    <tr>\n",
              "      <th>114</th>\n",
              "      <td>1120327437</td>\n",
              "      <td>4256040402</td>\n",
              "      <td>2019-08-01</td>\n",
              "      <td>5800</td>\n",
              "      <td>A</td>\n",
              "    </tr>\n",
              "    <tr>\n",
              "      <th>117</th>\n",
              "      <td>722060263</td>\n",
              "      <td>2038680547</td>\n",
              "      <td>2019-08-22</td>\n",
              "      <td>760</td>\n",
              "      <td>A</td>\n",
              "    </tr>\n",
              "  </tbody>\n",
              "</table>\n",
              "</div>"
            ],
            "text/plain": [
              "     transactionid   visitorid        date  revenue group\n",
              "32      3666913472  2038680547  2019-08-15     1680     B\n",
              "33       486237576  2378935119  2019-08-15     1650     A\n",
              "60      1421016313  4256040402  2019-08-16    56650     B\n",
              "114     1120327437  4256040402  2019-08-01     5800     A\n",
              "117      722060263  2038680547  2019-08-22      760     A"
            ]
          },
          "execution_count": 10,
          "metadata": {},
          "output_type": "execute_result"
        }
      ],
      "source": [
        "broken_orders = orders.query('visitorid in @double_visitors')\n",
        "print('Количество строк по этим пользователям: {}'.format(broken_orders.shape[0]))\n",
        "broken_orders.head()"
      ]
    },
    {
      "cell_type": "markdown",
      "metadata": {
        "id": "mTnIyl5kN80N"
      },
      "source": [
        "Посмотрим, сколько заказов они сделали, на какую сумму и по каким группам"
      ]
    },
    {
      "cell_type": "code",
      "execution_count": null,
      "metadata": {
        "id": "kDFtXRbqN80N",
        "outputId": "ec38b37c-60d6-4c89-8d7b-e0a072ed74d8"
      },
      "outputs": [
        {
          "data": {
            "text/html": [
              "<div>\n",
              "<style scoped>\n",
              "    .dataframe tbody tr th:only-of-type {\n",
              "        vertical-align: middle;\n",
              "    }\n",
              "\n",
              "    .dataframe tbody tr th {\n",
              "        vertical-align: top;\n",
              "    }\n",
              "\n",
              "    .dataframe thead th {\n",
              "        text-align: right;\n",
              "    }\n",
              "</style>\n",
              "<table border=\"1\" class=\"dataframe\">\n",
              "  <thead>\n",
              "    <tr style=\"text-align: right;\">\n",
              "      <th></th>\n",
              "      <th></th>\n",
              "      <th></th>\n",
              "      <th>transactionid</th>\n",
              "      <th>revenue</th>\n",
              "    </tr>\n",
              "    <tr>\n",
              "      <th>visitorid</th>\n",
              "      <th>group</th>\n",
              "      <th>date</th>\n",
              "      <th></th>\n",
              "      <th></th>\n",
              "    </tr>\n",
              "  </thead>\n",
              "  <tbody>\n",
              "    <tr>\n",
              "      <th rowspan=\"2\" valign=\"top\">1230306981</th>\n",
              "      <th>A</th>\n",
              "      <th>2019-08-09</th>\n",
              "      <td>3</td>\n",
              "      <td>18440</td>\n",
              "    </tr>\n",
              "    <tr>\n",
              "      <th>B</th>\n",
              "      <th>2019-08-09</th>\n",
              "      <td>2</td>\n",
              "      <td>12840</td>\n",
              "    </tr>\n",
              "    <tr>\n",
              "      <th rowspan=\"7\" valign=\"top\">2038680547</th>\n",
              "      <th rowspan=\"4\" valign=\"top\">A</th>\n",
              "      <th>2019-08-04</th>\n",
              "      <td>2</td>\n",
              "      <td>4070</td>\n",
              "    </tr>\n",
              "    <tr>\n",
              "      <th>2019-08-17</th>\n",
              "      <td>1</td>\n",
              "      <td>3470</td>\n",
              "    </tr>\n",
              "    <tr>\n",
              "      <th>2019-08-22</th>\n",
              "      <td>1</td>\n",
              "      <td>760</td>\n",
              "    </tr>\n",
              "    <tr>\n",
              "      <th>2019-08-25</th>\n",
              "      <td>1</td>\n",
              "      <td>270</td>\n",
              "    </tr>\n",
              "    <tr>\n",
              "      <th rowspan=\"3\" valign=\"top\">B</th>\n",
              "      <th>2019-08-04</th>\n",
              "      <td>1</td>\n",
              "      <td>2800</td>\n",
              "    </tr>\n",
              "    <tr>\n",
              "      <th>2019-08-15</th>\n",
              "      <td>1</td>\n",
              "      <td>1680</td>\n",
              "    </tr>\n",
              "    <tr>\n",
              "      <th>2019-08-29</th>\n",
              "      <td>1</td>\n",
              "      <td>2420</td>\n",
              "    </tr>\n",
              "    <tr>\n",
              "      <th rowspan=\"8\" valign=\"top\">2378935119</th>\n",
              "      <th rowspan=\"4\" valign=\"top\">A</th>\n",
              "      <th>2019-08-10</th>\n",
              "      <td>1</td>\n",
              "      <td>58220</td>\n",
              "    </tr>\n",
              "    <tr>\n",
              "      <th>2019-08-15</th>\n",
              "      <td>1</td>\n",
              "      <td>1650</td>\n",
              "    </tr>\n",
              "    <tr>\n",
              "      <th>2019-08-17</th>\n",
              "      <td>1</td>\n",
              "      <td>310</td>\n",
              "    </tr>\n",
              "    <tr>\n",
              "      <th>2019-08-22</th>\n",
              "      <td>1</td>\n",
              "      <td>3390</td>\n",
              "    </tr>\n",
              "    <tr>\n",
              "      <th rowspan=\"4\" valign=\"top\">B</th>\n",
              "      <th>2019-08-09</th>\n",
              "      <td>1</td>\n",
              "      <td>30649</td>\n",
              "    </tr>\n",
              "    <tr>\n",
              "      <th>2019-08-10</th>\n",
              "      <td>1</td>\n",
              "      <td>2640</td>\n",
              "    </tr>\n",
              "    <tr>\n",
              "      <th>2019-08-25</th>\n",
              "      <td>1</td>\n",
              "      <td>21220</td>\n",
              "    </tr>\n",
              "    <tr>\n",
              "      <th>2019-08-28</th>\n",
              "      <td>2</td>\n",
              "      <td>24860</td>\n",
              "    </tr>\n",
              "    <tr>\n",
              "      <th rowspan=\"10\" valign=\"top\">2458001652</th>\n",
              "      <th rowspan=\"5\" valign=\"top\">A</th>\n",
              "      <th>2019-08-04</th>\n",
              "      <td>1</td>\n",
              "      <td>340</td>\n",
              "    </tr>\n",
              "    <tr>\n",
              "      <th>2019-08-06</th>\n",
              "      <td>1</td>\n",
              "      <td>1620</td>\n",
              "    </tr>\n",
              "    <tr>\n",
              "      <th>2019-08-07</th>\n",
              "      <td>1</td>\n",
              "      <td>17379</td>\n",
              "    </tr>\n",
              "    <tr>\n",
              "      <th>2019-08-11</th>\n",
              "      <td>1</td>\n",
              "      <td>8280</td>\n",
              "    </tr>\n",
              "    <tr>\n",
              "      <th>2019-08-22</th>\n",
              "      <td>1</td>\n",
              "      <td>5190</td>\n",
              "    </tr>\n",
              "    <tr>\n",
              "      <th rowspan=\"5\" valign=\"top\">B</th>\n",
              "      <th>2019-08-05</th>\n",
              "      <td>1</td>\n",
              "      <td>2420</td>\n",
              "    </tr>\n",
              "    <tr>\n",
              "      <th>2019-08-06</th>\n",
              "      <td>2</td>\n",
              "      <td>14030</td>\n",
              "    </tr>\n",
              "    <tr>\n",
              "      <th>2019-08-08</th>\n",
              "      <td>1</td>\n",
              "      <td>5227</td>\n",
              "    </tr>\n",
              "    <tr>\n",
              "      <th>2019-08-09</th>\n",
              "      <td>1</td>\n",
              "      <td>5227</td>\n",
              "    </tr>\n",
              "    <tr>\n",
              "      <th>2019-08-25</th>\n",
              "      <td>1</td>\n",
              "      <td>2385</td>\n",
              "    </tr>\n",
              "    <tr>\n",
              "      <th rowspan=\"11\" valign=\"top\">4256040402</th>\n",
              "      <th rowspan=\"7\" valign=\"top\">A</th>\n",
              "      <th>2019-08-01</th>\n",
              "      <td>1</td>\n",
              "      <td>5800</td>\n",
              "    </tr>\n",
              "    <tr>\n",
              "      <th>2019-08-12</th>\n",
              "      <td>1</td>\n",
              "      <td>50</td>\n",
              "    </tr>\n",
              "    <tr>\n",
              "      <th>2019-08-17</th>\n",
              "      <td>1</td>\n",
              "      <td>1550</td>\n",
              "    </tr>\n",
              "    <tr>\n",
              "      <th>2019-08-20</th>\n",
              "      <td>1</td>\n",
              "      <td>17650</td>\n",
              "    </tr>\n",
              "    <tr>\n",
              "      <th>2019-08-23</th>\n",
              "      <td>1</td>\n",
              "      <td>16950</td>\n",
              "    </tr>\n",
              "    <tr>\n",
              "      <th>2019-08-27</th>\n",
              "      <td>1</td>\n",
              "      <td>1630</td>\n",
              "    </tr>\n",
              "    <tr>\n",
              "      <th>2019-08-31</th>\n",
              "      <td>1</td>\n",
              "      <td>5170</td>\n",
              "    </tr>\n",
              "    <tr>\n",
              "      <th rowspan=\"4\" valign=\"top\">B</th>\n",
              "      <th>2019-08-08</th>\n",
              "      <td>1</td>\n",
              "      <td>58220</td>\n",
              "    </tr>\n",
              "    <tr>\n",
              "      <th>2019-08-16</th>\n",
              "      <td>1</td>\n",
              "      <td>56650</td>\n",
              "    </tr>\n",
              "    <tr>\n",
              "      <th>2019-08-18</th>\n",
              "      <td>1</td>\n",
              "      <td>10970</td>\n",
              "    </tr>\n",
              "    <tr>\n",
              "      <th>2019-08-31</th>\n",
              "      <td>1</td>\n",
              "      <td>1850</td>\n",
              "    </tr>\n",
              "  </tbody>\n",
              "</table>\n",
              "</div>"
            ],
            "text/plain": [
              "                             transactionid  revenue\n",
              "visitorid  group date                              \n",
              "1230306981 A     2019-08-09              3    18440\n",
              "           B     2019-08-09              2    12840\n",
              "2038680547 A     2019-08-04              2     4070\n",
              "                 2019-08-17              1     3470\n",
              "                 2019-08-22              1      760\n",
              "                 2019-08-25              1      270\n",
              "           B     2019-08-04              1     2800\n",
              "                 2019-08-15              1     1680\n",
              "                 2019-08-29              1     2420\n",
              "2378935119 A     2019-08-10              1    58220\n",
              "                 2019-08-15              1     1650\n",
              "                 2019-08-17              1      310\n",
              "                 2019-08-22              1     3390\n",
              "           B     2019-08-09              1    30649\n",
              "                 2019-08-10              1     2640\n",
              "                 2019-08-25              1    21220\n",
              "                 2019-08-28              2    24860\n",
              "2458001652 A     2019-08-04              1      340\n",
              "                 2019-08-06              1     1620\n",
              "                 2019-08-07              1    17379\n",
              "                 2019-08-11              1     8280\n",
              "                 2019-08-22              1     5190\n",
              "           B     2019-08-05              1     2420\n",
              "                 2019-08-06              2    14030\n",
              "                 2019-08-08              1     5227\n",
              "                 2019-08-09              1     5227\n",
              "                 2019-08-25              1     2385\n",
              "4256040402 A     2019-08-01              1     5800\n",
              "                 2019-08-12              1       50\n",
              "                 2019-08-17              1     1550\n",
              "                 2019-08-20              1    17650\n",
              "                 2019-08-23              1    16950\n",
              "                 2019-08-27              1     1630\n",
              "                 2019-08-31              1     5170\n",
              "           B     2019-08-08              1    58220\n",
              "                 2019-08-16              1    56650\n",
              "                 2019-08-18              1    10970\n",
              "                 2019-08-31              1     1850"
            ]
          },
          "execution_count": 11,
          "metadata": {},
          "output_type": "execute_result"
        }
      ],
      "source": [
        "broken_orders_grouped = (broken_orders\n",
        "                        .groupby(['visitorid', 'group', 'date'])\n",
        "                        .agg({'transactionid': 'nunique', 'revenue': 'sum'})\n",
        "                   )\n",
        "broken_orders_grouped"
      ]
    },
    {
      "cell_type": "markdown",
      "metadata": {
        "id": "Zlv2Pu2-N80N"
      },
      "source": [
        "Они сделали в общей сложности 44 заказа и принесли компании немало выручки.\n",
        "\n",
        "В связи с этим, создадим копии наших основных датафреймов orders и visitors и в них уберем данные по этим пользователям из датафрейма orders и для корректности из таблицы visitors удалим по 1 broken-посетителю в соответствующих группах и в соответствии с датами, полученными выше. "
      ]
    },
    {
      "cell_type": "code",
      "execution_count": null,
      "metadata": {
        "id": "8aRZLbl0N80N"
      },
      "outputs": [],
      "source": [
        "orders_filt = orders.query('visitorid not in @double_visitors')"
      ]
    },
    {
      "cell_type": "code",
      "execution_count": null,
      "metadata": {
        "id": "54_QbmrKN80N",
        "outputId": "fb76ec26-7357-4793-8aa4-bfdacb02c54f"
      },
      "outputs": [
        {
          "data": {
            "text/html": [
              "<div>\n",
              "<style scoped>\n",
              "    .dataframe tbody tr th:only-of-type {\n",
              "        vertical-align: middle;\n",
              "    }\n",
              "\n",
              "    .dataframe tbody tr th {\n",
              "        vertical-align: top;\n",
              "    }\n",
              "\n",
              "    .dataframe thead th {\n",
              "        text-align: right;\n",
              "    }\n",
              "</style>\n",
              "<table border=\"1\" class=\"dataframe\">\n",
              "  <thead>\n",
              "    <tr style=\"text-align: right;\">\n",
              "      <th></th>\n",
              "      <th>date</th>\n",
              "      <th>group</th>\n",
              "      <th>visitors</th>\n",
              "    </tr>\n",
              "  </thead>\n",
              "  <tbody>\n",
              "    <tr>\n",
              "      <th>0</th>\n",
              "      <td>2019-08-01</td>\n",
              "      <td>A</td>\n",
              "      <td>718</td>\n",
              "    </tr>\n",
              "    <tr>\n",
              "      <th>1</th>\n",
              "      <td>2019-08-02</td>\n",
              "      <td>A</td>\n",
              "      <td>619</td>\n",
              "    </tr>\n",
              "    <tr>\n",
              "      <th>2</th>\n",
              "      <td>2019-08-03</td>\n",
              "      <td>A</td>\n",
              "      <td>507</td>\n",
              "    </tr>\n",
              "    <tr>\n",
              "      <th>3</th>\n",
              "      <td>2019-08-04</td>\n",
              "      <td>A</td>\n",
              "      <td>716</td>\n",
              "    </tr>\n",
              "    <tr>\n",
              "      <th>4</th>\n",
              "      <td>2019-08-04</td>\n",
              "      <td>A</td>\n",
              "      <td>716</td>\n",
              "    </tr>\n",
              "  </tbody>\n",
              "</table>\n",
              "</div>"
            ],
            "text/plain": [
              "         date group  visitors\n",
              "0  2019-08-01     A       718\n",
              "1  2019-08-02     A       619\n",
              "2  2019-08-03     A       507\n",
              "3  2019-08-04     A       716\n",
              "4  2019-08-04     A       716"
            ]
          },
          "execution_count": 13,
          "metadata": {},
          "output_type": "execute_result"
        }
      ],
      "source": [
        "broken_orders_grouped = broken_orders_grouped.reset_index()\n",
        "broken_orders_grouped['count'] = -1 # добавим к нашему датафрейму столбец count, где проставим значение -1\n",
        "broken_orders_grouped = broken_orders_grouped[['group', 'date', 'count']] # возьмем только столбцы group, date и count\n",
        "visitors_filt = visitor.merge(broken_orders_grouped, on=['date', 'group'], how='left').fillna(0) # объединяем наш начальный датайфрейм visitors \n",
        "#с полученным выше\n",
        "visitors_filt['visitors_'] = visitors_filt['visitors'] + visitors_filt['count'] # добавим новый столбец, где построчно просуммируем\n",
        "# значения столбцов visitors и count\n",
        "visitors_filt = visitors_filt.drop(['visitors', 'count'], axis=1) # отбросим старый столбец visitors и вспомогательный столбец count\n",
        "visitors_filt.columns = ['date', 'group', 'visitors'] # переименуем новый столбец visitors_ в visitors\n",
        "visitors_filt['visitors'] = visitors_filt['visitors'].astype(int)\n",
        "visitors_filt.head() "
      ]
    },
    {
      "cell_type": "markdown",
      "metadata": {
        "id": "dusB037MN80O"
      },
      "source": [
        "Таблицы visitor и orders тоже почищены от заранее некорректных данных."
      ]
    },
    {
      "cell_type": "markdown",
      "metadata": {
        "id": "sNk5g1d7N80O"
      },
      "source": [
        "[*Назад к содержанию*](#Содержание)"
      ]
    },
    {
      "cell_type": "markdown",
      "metadata": {
        "id": "e6dkvN-dN80O"
      },
      "source": [
        "## Часть 1. Приоритизация гипотез"
      ]
    },
    {
      "cell_type": "markdown",
      "metadata": {
        "id": "qzr10FsGN80O"
      },
      "source": [
        "### Приоритезация гипотез методом ICE"
      ]
    },
    {
      "cell_type": "markdown",
      "metadata": {
        "id": "D7LWxJiBN80O"
      },
      "source": [
        "Метод ICE (от англ. impact, confidence, effort / ease «влияние, уверенность, усилия / простота»). Данные берем из таблицы hypothesis"
      ]
    },
    {
      "cell_type": "code",
      "execution_count": null,
      "metadata": {
        "id": "I_-RNFQuN80O"
      },
      "outputs": [],
      "source": [
        "hypothesis['ice'] = hypothesis['impact'] * hypothesis['confidence'] / hypothesis['efforts']"
      ]
    },
    {
      "cell_type": "markdown",
      "metadata": {
        "id": "zVrTPc3aN80P"
      },
      "source": [
        "У этого метода есть модификация RICE (R от англ. reach, «охват»):"
      ]
    },
    {
      "cell_type": "code",
      "execution_count": null,
      "metadata": {
        "id": "Q6VRiRxFN80P"
      },
      "outputs": [],
      "source": [
        "hypothesis['rice'] = hypothesis['reach']*hypothesis['impact'] * hypothesis['confidence'] / hypothesis['efforts']"
      ]
    },
    {
      "cell_type": "markdown",
      "metadata": {
        "id": "N28RKObVN80P"
      },
      "source": [
        "Посмотрим \"рейтинг\""
      ]
    },
    {
      "cell_type": "code",
      "execution_count": null,
      "metadata": {
        "id": "mpaZ7WfuN80P",
        "outputId": "ae3a8b80-68ce-4e80-ad2a-927bc016154f"
      },
      "outputs": [
        {
          "data": {
            "text/html": [
              "<div>\n",
              "<style scoped>\n",
              "    .dataframe tbody tr th:only-of-type {\n",
              "        vertical-align: middle;\n",
              "    }\n",
              "\n",
              "    .dataframe tbody tr th {\n",
              "        vertical-align: top;\n",
              "    }\n",
              "\n",
              "    .dataframe thead th {\n",
              "        text-align: right;\n",
              "    }\n",
              "</style>\n",
              "<table border=\"1\" class=\"dataframe\">\n",
              "  <thead>\n",
              "    <tr style=\"text-align: right;\">\n",
              "      <th></th>\n",
              "      <th>hypothesis</th>\n",
              "      <th>reach</th>\n",
              "      <th>impact</th>\n",
              "      <th>confidence</th>\n",
              "      <th>efforts</th>\n",
              "      <th>ice</th>\n",
              "      <th>rice</th>\n",
              "    </tr>\n",
              "  </thead>\n",
              "  <tbody>\n",
              "    <tr>\n",
              "      <th>8</th>\n",
              "      <td>Запустить акцию, дающую скидку на товар в день рождения</td>\n",
              "      <td>1</td>\n",
              "      <td>9</td>\n",
              "      <td>9</td>\n",
              "      <td>5</td>\n",
              "      <td>16.200000</td>\n",
              "      <td>16.2</td>\n",
              "    </tr>\n",
              "    <tr>\n",
              "      <th>0</th>\n",
              "      <td>Добавить два новых канала привлечения трафика, что позволит привлекать на 30% больше пользователей</td>\n",
              "      <td>3</td>\n",
              "      <td>10</td>\n",
              "      <td>8</td>\n",
              "      <td>6</td>\n",
              "      <td>13.333333</td>\n",
              "      <td>40.0</td>\n",
              "    </tr>\n",
              "    <tr>\n",
              "      <th>7</th>\n",
              "      <td>Добавить форму подписки на все основные страницы, чтобы собрать базу клиентов для email-рассылок</td>\n",
              "      <td>10</td>\n",
              "      <td>7</td>\n",
              "      <td>8</td>\n",
              "      <td>5</td>\n",
              "      <td>11.200000</td>\n",
              "      <td>112.0</td>\n",
              "    </tr>\n",
              "    <tr>\n",
              "      <th>6</th>\n",
              "      <td>Показать на главной странице баннеры с актуальными акциями и распродажами, чтобы увеличить конверсию</td>\n",
              "      <td>5</td>\n",
              "      <td>3</td>\n",
              "      <td>8</td>\n",
              "      <td>3</td>\n",
              "      <td>8.000000</td>\n",
              "      <td>40.0</td>\n",
              "    </tr>\n",
              "    <tr>\n",
              "      <th>2</th>\n",
              "      <td>Добавить блоки рекомендаций товаров на сайт интернет магазина, чтобы повысить конверсию и средний чек заказа</td>\n",
              "      <td>8</td>\n",
              "      <td>3</td>\n",
              "      <td>7</td>\n",
              "      <td>3</td>\n",
              "      <td>7.000000</td>\n",
              "      <td>56.0</td>\n",
              "    </tr>\n",
              "    <tr>\n",
              "      <th>1</th>\n",
              "      <td>Запустить собственную службу доставки, что сократит срок доставки заказов</td>\n",
              "      <td>2</td>\n",
              "      <td>5</td>\n",
              "      <td>4</td>\n",
              "      <td>10</td>\n",
              "      <td>2.000000</td>\n",
              "      <td>4.0</td>\n",
              "    </tr>\n",
              "    <tr>\n",
              "      <th>5</th>\n",
              "      <td>Добавить страницу отзывов клиентов о магазине, что позволит увеличить количество заказов</td>\n",
              "      <td>3</td>\n",
              "      <td>2</td>\n",
              "      <td>2</td>\n",
              "      <td>3</td>\n",
              "      <td>1.333333</td>\n",
              "      <td>4.0</td>\n",
              "    </tr>\n",
              "    <tr>\n",
              "      <th>3</th>\n",
              "      <td>Изменить структура категорий, что увеличит конверсию, т.к. пользователи быстрее найдут нужный товар</td>\n",
              "      <td>8</td>\n",
              "      <td>3</td>\n",
              "      <td>3</td>\n",
              "      <td>8</td>\n",
              "      <td>1.125000</td>\n",
              "      <td>9.0</td>\n",
              "    </tr>\n",
              "    <tr>\n",
              "      <th>4</th>\n",
              "      <td>Изменить цвет фона главной страницы, чтобы увеличить вовлеченность пользователей</td>\n",
              "      <td>3</td>\n",
              "      <td>1</td>\n",
              "      <td>1</td>\n",
              "      <td>1</td>\n",
              "      <td>1.000000</td>\n",
              "      <td>3.0</td>\n",
              "    </tr>\n",
              "  </tbody>\n",
              "</table>\n",
              "</div>"
            ],
            "text/plain": [
              "                                                                                                     hypothesis  \\\n",
              "8                                                       Запустить акцию, дающую скидку на товар в день рождения   \n",
              "0            Добавить два новых канала привлечения трафика, что позволит привлекать на 30% больше пользователей   \n",
              "7              Добавить форму подписки на все основные страницы, чтобы собрать базу клиентов для email-рассылок   \n",
              "6          Показать на главной странице баннеры с актуальными акциями и распродажами, чтобы увеличить конверсию   \n",
              "2  Добавить блоки рекомендаций товаров на сайт интернет магазина, чтобы повысить конверсию и средний чек заказа   \n",
              "1                                     Запустить собственную службу доставки, что сократит срок доставки заказов   \n",
              "5                      Добавить страницу отзывов клиентов о магазине, что позволит увеличить количество заказов   \n",
              "3           Изменить структура категорий, что увеличит конверсию, т.к. пользователи быстрее найдут нужный товар   \n",
              "4                              Изменить цвет фона главной страницы, чтобы увеличить вовлеченность пользователей   \n",
              "\n",
              "   reach  impact  confidence  efforts        ice   rice  \n",
              "8      1       9           9        5  16.200000   16.2  \n",
              "0      3      10           8        6  13.333333   40.0  \n",
              "7     10       7           8        5  11.200000  112.0  \n",
              "6      5       3           8        3   8.000000   40.0  \n",
              "2      8       3           7        3   7.000000   56.0  \n",
              "1      2       5           4       10   2.000000    4.0  \n",
              "5      3       2           2        3   1.333333    4.0  \n",
              "3      8       3           3        8   1.125000    9.0  \n",
              "4      3       1           1        1   1.000000    3.0  "
            ]
          },
          "execution_count": 16,
          "metadata": {},
          "output_type": "execute_result"
        }
      ],
      "source": [
        "hypothesis.sort_values(by='ice', ascending =False)"
      ]
    },
    {
      "cell_type": "code",
      "execution_count": null,
      "metadata": {
        "id": "RkMNFSHgN80P",
        "outputId": "b81e96a8-f712-4d08-9383-ddd6ce803dcc"
      },
      "outputs": [
        {
          "data": {
            "text/html": [
              "<div>\n",
              "<style scoped>\n",
              "    .dataframe tbody tr th:only-of-type {\n",
              "        vertical-align: middle;\n",
              "    }\n",
              "\n",
              "    .dataframe tbody tr th {\n",
              "        vertical-align: top;\n",
              "    }\n",
              "\n",
              "    .dataframe thead th {\n",
              "        text-align: right;\n",
              "    }\n",
              "</style>\n",
              "<table border=\"1\" class=\"dataframe\">\n",
              "  <thead>\n",
              "    <tr style=\"text-align: right;\">\n",
              "      <th></th>\n",
              "      <th>hypothesis</th>\n",
              "      <th>reach</th>\n",
              "      <th>impact</th>\n",
              "      <th>confidence</th>\n",
              "      <th>efforts</th>\n",
              "      <th>ice</th>\n",
              "      <th>rice</th>\n",
              "    </tr>\n",
              "  </thead>\n",
              "  <tbody>\n",
              "    <tr>\n",
              "      <th>7</th>\n",
              "      <td>Добавить форму подписки на все основные страницы, чтобы собрать базу клиентов для email-рассылок</td>\n",
              "      <td>10</td>\n",
              "      <td>7</td>\n",
              "      <td>8</td>\n",
              "      <td>5</td>\n",
              "      <td>11.200000</td>\n",
              "      <td>112.0</td>\n",
              "    </tr>\n",
              "    <tr>\n",
              "      <th>2</th>\n",
              "      <td>Добавить блоки рекомендаций товаров на сайт интернет магазина, чтобы повысить конверсию и средний чек заказа</td>\n",
              "      <td>8</td>\n",
              "      <td>3</td>\n",
              "      <td>7</td>\n",
              "      <td>3</td>\n",
              "      <td>7.000000</td>\n",
              "      <td>56.0</td>\n",
              "    </tr>\n",
              "    <tr>\n",
              "      <th>0</th>\n",
              "      <td>Добавить два новых канала привлечения трафика, что позволит привлекать на 30% больше пользователей</td>\n",
              "      <td>3</td>\n",
              "      <td>10</td>\n",
              "      <td>8</td>\n",
              "      <td>6</td>\n",
              "      <td>13.333333</td>\n",
              "      <td>40.0</td>\n",
              "    </tr>\n",
              "    <tr>\n",
              "      <th>6</th>\n",
              "      <td>Показать на главной странице баннеры с актуальными акциями и распродажами, чтобы увеличить конверсию</td>\n",
              "      <td>5</td>\n",
              "      <td>3</td>\n",
              "      <td>8</td>\n",
              "      <td>3</td>\n",
              "      <td>8.000000</td>\n",
              "      <td>40.0</td>\n",
              "    </tr>\n",
              "    <tr>\n",
              "      <th>8</th>\n",
              "      <td>Запустить акцию, дающую скидку на товар в день рождения</td>\n",
              "      <td>1</td>\n",
              "      <td>9</td>\n",
              "      <td>9</td>\n",
              "      <td>5</td>\n",
              "      <td>16.200000</td>\n",
              "      <td>16.2</td>\n",
              "    </tr>\n",
              "    <tr>\n",
              "      <th>3</th>\n",
              "      <td>Изменить структура категорий, что увеличит конверсию, т.к. пользователи быстрее найдут нужный товар</td>\n",
              "      <td>8</td>\n",
              "      <td>3</td>\n",
              "      <td>3</td>\n",
              "      <td>8</td>\n",
              "      <td>1.125000</td>\n",
              "      <td>9.0</td>\n",
              "    </tr>\n",
              "    <tr>\n",
              "      <th>1</th>\n",
              "      <td>Запустить собственную службу доставки, что сократит срок доставки заказов</td>\n",
              "      <td>2</td>\n",
              "      <td>5</td>\n",
              "      <td>4</td>\n",
              "      <td>10</td>\n",
              "      <td>2.000000</td>\n",
              "      <td>4.0</td>\n",
              "    </tr>\n",
              "    <tr>\n",
              "      <th>5</th>\n",
              "      <td>Добавить страницу отзывов клиентов о магазине, что позволит увеличить количество заказов</td>\n",
              "      <td>3</td>\n",
              "      <td>2</td>\n",
              "      <td>2</td>\n",
              "      <td>3</td>\n",
              "      <td>1.333333</td>\n",
              "      <td>4.0</td>\n",
              "    </tr>\n",
              "    <tr>\n",
              "      <th>4</th>\n",
              "      <td>Изменить цвет фона главной страницы, чтобы увеличить вовлеченность пользователей</td>\n",
              "      <td>3</td>\n",
              "      <td>1</td>\n",
              "      <td>1</td>\n",
              "      <td>1</td>\n",
              "      <td>1.000000</td>\n",
              "      <td>3.0</td>\n",
              "    </tr>\n",
              "  </tbody>\n",
              "</table>\n",
              "</div>"
            ],
            "text/plain": [
              "                                                                                                     hypothesis  \\\n",
              "7              Добавить форму подписки на все основные страницы, чтобы собрать базу клиентов для email-рассылок   \n",
              "2  Добавить блоки рекомендаций товаров на сайт интернет магазина, чтобы повысить конверсию и средний чек заказа   \n",
              "0            Добавить два новых канала привлечения трафика, что позволит привлекать на 30% больше пользователей   \n",
              "6          Показать на главной странице баннеры с актуальными акциями и распродажами, чтобы увеличить конверсию   \n",
              "8                                                       Запустить акцию, дающую скидку на товар в день рождения   \n",
              "3           Изменить структура категорий, что увеличит конверсию, т.к. пользователи быстрее найдут нужный товар   \n",
              "1                                     Запустить собственную службу доставки, что сократит срок доставки заказов   \n",
              "5                      Добавить страницу отзывов клиентов о магазине, что позволит увеличить количество заказов   \n",
              "4                              Изменить цвет фона главной страницы, чтобы увеличить вовлеченность пользователей   \n",
              "\n",
              "   reach  impact  confidence  efforts        ice   rice  \n",
              "7     10       7           8        5  11.200000  112.0  \n",
              "2      8       3           7        3   7.000000   56.0  \n",
              "0      3      10           8        6  13.333333   40.0  \n",
              "6      5       3           8        3   8.000000   40.0  \n",
              "8      1       9           9        5  16.200000   16.2  \n",
              "3      8       3           3        8   1.125000    9.0  \n",
              "1      2       5           4       10   2.000000    4.0  \n",
              "5      3       2           2        3   1.333333    4.0  \n",
              "4      3       1           1        1   1.000000    3.0  "
            ]
          },
          "execution_count": 17,
          "metadata": {},
          "output_type": "execute_result"
        }
      ],
      "source": [
        "hypothesis.sort_values(by='rice', ascending =False)"
      ]
    },
    {
      "cell_type": "markdown",
      "metadata": {
        "id": "phMj8wIMN80Q"
      },
      "source": [
        "Вывод: по методу ICE наибольшую оценку получили гипотезы 8,0 и 7. После применения метода а RICE приоритеты изменились на гпиотезы 7,2 и 0. Это объясняется тем, что в случае фреймворка ICE, в отличие от RICE, не учитывается охват изменений, тогда как это важная составляющая оценки гипотез.\n",
        "\n",
        "В нашем случае наиболее приоритетными гипотезами будут 7, 2, 0."
      ]
    },
    {
      "cell_type": "markdown",
      "metadata": {
        "id": "T33kkNlTN80R"
      },
      "source": [
        "[*Назад к содержанию*](#Содержание)"
      ]
    },
    {
      "cell_type": "markdown",
      "metadata": {
        "id": "ZII-jspbN80R"
      },
      "source": [
        "## Часть 2. Анализ A/B-теста "
      ]
    },
    {
      "cell_type": "markdown",
      "metadata": {
        "id": "AMv-Ir8SN80R"
      },
      "source": [
        "### Проверка равенства долей и расчет размера выборки"
      ]
    },
    {
      "cell_type": "markdown",
      "metadata": {
        "id": "qoiqO7uUN80R"
      },
      "source": [
        "Для начала проверим размеры групп в выборке, есть ли разница между ними и корректно ли был рассчитан размер выборки для проведения теста"
      ]
    },
    {
      "cell_type": "code",
      "execution_count": null,
      "metadata": {
        "id": "V43fTGb0N80S",
        "outputId": "7633c5c7-ff12-44e0-cf87-9f8f850f8863"
      },
      "outputs": [
        {
          "name": "stdout",
          "output_type": "stream",
          "text": [
            "Кол-во посетителей в группе А: 21474\n",
            "Кол-во посетителей в группе B: 21452\n",
            "Кол-во покупок в группе A: 533\n",
            "Кол-во покупок в группе B: 620\n"
          ]
        },
        {
          "data": {
            "image/png": "[encoded data removed]",
            "text/plain": [
              "<Figure size 1008x432 with 1 Axes>"
            ]
          },
          "metadata": {
            "needs_background": "light"
          },
          "output_type": "display_data"
        },
        {
          "name": "stdout",
          "output_type": "stream",
          "text": [
            "P-value:0.49369294388462237\n",
            "Разница в количестве посетителей в группах A и B статистически НЕ значима\n",
            "\n",
            "Конверсия начальная: 0.025\n",
            "Конверсия,полученная после изменений: 0.029\n",
            "Относительное изменение конверсии после изменений: 0.141\n",
            "Количество 42926 посещений\n",
            "\n"
          ]
        }
      ],
      "source": [
        "print('Кол-во посетителей в группе А: {}\\n'\n",
        "      'Кол-во посетителей в группе B: {}'.format(visitors_filt[visitors_filt['group']=='A']['visitors'].sum(), \n",
        "                                                 visitors_filt[visitors_filt['group']=='B']['visitors'].sum()))\n",
        "purchasesA = len(orders_filt[orders_filt['group']=='A']) # Кол-во покупок в группе A\n",
        "purchasesB = len(orders_filt[orders_filt['group']=='B']) # Кол-во покупок в группе B\n",
        "print('Кол-во покупок в группе A: {}'.format(purchasesA))\n",
        "print('Кол-во покупок в группе B: {}'.format(purchasesB))\n",
        "plt.hist(visitors_filt[visitors_filt['group']=='A']['visitors'], alpha = 0.7, label='A', bins = 30) # построение гистограмм\n",
        "plt.hist(visitors_filt[visitors_filt['group']=='B']['visitors'], alpha = 0.7, label='B', bins = 30)\n",
        "plt.legend()\n",
        "plt.title('Гистограммы кол-ва посетителей в день по группам A и B')\n",
        "plt.show()\n",
        "results = st.mannwhitneyu(visitors_filt[visitors_filt['group']=='A']['visitors'], visitors_filt[visitors_filt['group']=='B']['visitors']) #\n",
        "# рассчет статистической значимости между поситетителями в группе\n",
        "alpha = 0.05\n",
        "print('P-value:{}'.format(results.pvalue))\n",
        "if results.pvalue < alpha:\n",
        "    print('Разница в количестве посетителей в группах A и B статистически значима\\n')\n",
        "else:\n",
        "    print('Разница в количестве посетителей в группах A и B статистически НЕ значима\\n')\n",
        "\n",
        "initial_conversion = len(orders_filt[orders_filt['group']=='A']) / visitors_filt[visitors_filt['group']=='A']['visitors'].sum() # начальная конверсия\n",
        "resulting_conversion = len(orders_filt[orders_filt['group']=='B']) / visitors_filt[visitors_filt['group']=='B']['visitors'].sum() # конверсия после изменений\n",
        "print('Конверсия начальная: {:.3f}'.format(initial_conversion))\n",
        "print('Конверсия,полученная после изменений: {:.3f}'.format(resulting_conversion))\n",
        "print('Относительное изменение конверсии после изменений: {:.3f}'.format(abs(1-(initial_conversion/resulting_conversion))))\n",
        "print('Количество {} посещений\\n'.format(visitors_filt['visitors'].sum()))"
      ]
    },
    {
      "cell_type": "markdown",
      "metadata": {
        "id": "AVlFGmaGN80S"
      },
      "source": [
        "Вводим начальную конверсию и полученное относительное изменение конверсии в калькулятор (https://www.evanmiller.org/ab-testing/sample-size.html). Получаем необходимое количество выборки - 31866 для корректного проведения тестирования, у нас 42926 посещения, следовательо кол-во выборки для A/B тестирования подобрано корректно. \n",
        "\n",
        "Разница в количестве посетителей в группах A и B статистически не значима"
      ]
    },
    {
      "cell_type": "markdown",
      "metadata": {
        "id": "Wzqm0gtJN80T"
      },
      "source": [
        "[*Назад к содержанию*](#Содержание)"
      ]
    },
    {
      "cell_type": "markdown",
      "metadata": {
        "id": "reCa9AjnN80T"
      },
      "source": [
        "### Построение графика кумулятивной выручки по группам"
      ]
    },
    {
      "cell_type": "markdown",
      "metadata": {
        "id": "iBgnTISlN80T"
      },
      "source": [
        "Чтобы построить графики, нужно собрать кумулятивные данные"
      ]
    },
    {
      "cell_type": "code",
      "execution_count": null,
      "metadata": {
        "id": "g1yizasfN80T"
      },
      "outputs": [],
      "source": [
        "# создаем массив уникальных пар значений дат и групп теста\n",
        "datesGroups = orders_filt[['date','group']].drop_duplicates() "
      ]
    },
    {
      "cell_type": "markdown",
      "metadata": {
        "id": "EQXEq08hN80T"
      },
      "source": [
        "Соберём агрегированные кумулятивные по дням данные о заказах в несколько действий.\n",
        "\n",
        "1. Получим строки таблицы orders, дата которых меньше или равна дате элемента из datesGroups, а группа теста равна группе из datesGroups\n",
        "2. Агрегируем значения. Вычислим максимальную дату. Для группы тоже рассчитаем максимум, и хотя она будет определённой, сделаем это, чтобы столбец 'group' не пропал из итогового вывода. Найдём число уникальных ID заказов и пользователей. Подсчитаем сумму средних чеков. Применим методы к каждой строке датафрейма: apply(axis=1)\n",
        "3. Oтсортируем результаты по столбцам 'date' и 'group'\n",
        "\n",
        "Этот код работает так, будто мы ежедневно считали результаты тестирования до выбранного дня включительно и сохраняли их в строках таблицы ordersAggregated."
      ]
    },
    {
      "cell_type": "code",
      "execution_count": null,
      "metadata": {
        "id": "Vys7ktLWN80T"
      },
      "outputs": [],
      "source": [
        "ordersAggregated = datesGroups.apply(lambda x: orders_filt[np.logical_and(x['date'] >= orders_filt['date'], \n",
        "                                                                          x['group']==orders_filt['group'])\n",
        "                                                     ].agg({'date':'max', 'group':'max', 'transactionid':'nunique', \n",
        "                                                            'visitorid':'nunique', 'revenue':'sum'}), axis = 1).sort_values(by=['date','group'])"
      ]
    },
    {
      "cell_type": "markdown",
      "metadata": {
        "id": "QpVwyXznN80U"
      },
      "source": [
        "Аналогично получим агрегированные кумулятивные по дням данные о посетителях интернет-магазина:"
      ]
    },
    {
      "cell_type": "code",
      "execution_count": null,
      "metadata": {
        "id": "Aax4hx1RN80U"
      },
      "outputs": [],
      "source": [
        "visitorsAggregated = datesGroups.apply(lambda x: visitors_filt[np.logical_and(visitors_filt['date'] <= x['date'], \n",
        "                                                                              visitors_filt['group'] == x['group'])\n",
        "                                                         ].agg({'date' : 'max', 'group' : 'max', \n",
        "                                                                'visitors' : 'sum'}), axis=1).sort_values(by=['date','group']) "
      ]
    },
    {
      "cell_type": "markdown",
      "metadata": {
        "id": "Nn3CN94FN80U"
      },
      "source": [
        "Объединим обе таблицы в одну с понятными названиями столбцов:"
      ]
    },
    {
      "cell_type": "code",
      "execution_count": null,
      "metadata": {
        "id": "TO0VDlQBN80U",
        "outputId": "ca4819ab-fd2b-4a0b-dadd-52db6ba1d3c1"
      },
      "outputs": [
        {
          "data": {
            "text/html": [
              "<div>\n",
              "<style scoped>\n",
              "    .dataframe tbody tr th:only-of-type {\n",
              "        vertical-align: middle;\n",
              "    }\n",
              "\n",
              "    .dataframe tbody tr th {\n",
              "        vertical-align: top;\n",
              "    }\n",
              "\n",
              "    .dataframe thead th {\n",
              "        text-align: right;\n",
              "    }\n",
              "</style>\n",
              "<table border=\"1\" class=\"dataframe\">\n",
              "  <thead>\n",
              "    <tr style=\"text-align: right;\">\n",
              "      <th></th>\n",
              "      <th>date</th>\n",
              "      <th>group</th>\n",
              "      <th>orders</th>\n",
              "      <th>buyers</th>\n",
              "      <th>revenue</th>\n",
              "      <th>visitors</th>\n",
              "    </tr>\n",
              "  </thead>\n",
              "  <tbody>\n",
              "    <tr>\n",
              "      <th>0</th>\n",
              "      <td>2019-08-01</td>\n",
              "      <td>A</td>\n",
              "      <td>23</td>\n",
              "      <td>19</td>\n",
              "      <td>142779</td>\n",
              "      <td>718</td>\n",
              "    </tr>\n",
              "    <tr>\n",
              "      <th>1</th>\n",
              "      <td>2019-08-01</td>\n",
              "      <td>B</td>\n",
              "      <td>21</td>\n",
              "      <td>20</td>\n",
              "      <td>101217</td>\n",
              "      <td>713</td>\n",
              "    </tr>\n",
              "    <tr>\n",
              "      <th>2</th>\n",
              "      <td>2019-08-02</td>\n",
              "      <td>A</td>\n",
              "      <td>43</td>\n",
              "      <td>37</td>\n",
              "      <td>236601</td>\n",
              "      <td>1337</td>\n",
              "    </tr>\n",
              "    <tr>\n",
              "      <th>3</th>\n",
              "      <td>2019-08-02</td>\n",
              "      <td>B</td>\n",
              "      <td>45</td>\n",
              "      <td>43</td>\n",
              "      <td>266748</td>\n",
              "      <td>1294</td>\n",
              "    </tr>\n",
              "    <tr>\n",
              "      <th>4</th>\n",
              "      <td>2019-08-03</td>\n",
              "      <td>A</td>\n",
              "      <td>67</td>\n",
              "      <td>61</td>\n",
              "      <td>349074</td>\n",
              "      <td>1844</td>\n",
              "    </tr>\n",
              "  </tbody>\n",
              "</table>\n",
              "</div>"
            ],
            "text/plain": [
              "         date group  orders  buyers  revenue  visitors\n",
              "0  2019-08-01     A      23      19   142779       718\n",
              "1  2019-08-01     B      21      20   101217       713\n",
              "2  2019-08-02     A      43      37   236601      1337\n",
              "3  2019-08-02     B      45      43   266748      1294\n",
              "4  2019-08-03     A      67      61   349074      1844"
            ]
          },
          "execution_count": 22,
          "metadata": {},
          "output_type": "execute_result"
        }
      ],
      "source": [
        "cumulativeData = ordersAggregated.merge(visitorsAggregated, left_on=['date', 'group'], right_on=['date', 'group'])\n",
        "cumulativeData.columns = ['date', 'group', 'orders', 'buyers', 'revenue', 'visitors']\n",
        "cumulativeData.head(5)"
      ]
    },
    {
      "cell_type": "markdown",
      "metadata": {
        "id": "jRlhfeM7N80U"
      },
      "source": [
        "Полученная таблица с кумулятивными (накопленными) значениями по дате и группам:\n",
        "\n",
        "- date — дата;\n",
        "- group — группа A/B-теста (A или B);\n",
        "- orders — кумулятивное количество заказов на указанную дату в указанной группе;\n",
        "- buyers — кумулятивное количество покупателей, совершивших хотя бы один заказ, на указанную дату в указанной группе;\n",
        "- revenue — кумулятивная выручка на указанную дату в указанной группе;\n",
        "- visitors — кумулятивное количество посетителей интернет-магазина на указанную дату в определённой группе."
      ]
    },
    {
      "cell_type": "markdown",
      "metadata": {
        "id": "4OtdklKtN80U"
      },
      "source": [
        "Построим графики кумулятивной выручки по группам A/B-тестирования:"
      ]
    },
    {
      "cell_type": "code",
      "execution_count": null,
      "metadata": {
        "id": "31AvNGk0N80V",
        "outputId": "cca2bd5f-576f-4b39-9bfd-9a64a904693f"
      },
      "outputs": [
        {
          "data": {
            "image/png": "[encoded data removed]",
            "text/plain": [
              "<Figure size 1008x432 with 1 Axes>"
            ]
          },
          "metadata": {
            "needs_background": "light"
          },
          "output_type": "display_data"
        }
      ],
      "source": [
        "cumulativeRevenueA = cumulativeData[cumulativeData['group']=='A']\n",
        "cumulativeRevenueB = cumulativeData[cumulativeData['group']=='B']\n",
        "plt.plot(cumulativeRevenueA['date'], cumulativeRevenueA['revenue'], label='A')\n",
        "plt.plot(cumulativeRevenueB['date'], cumulativeRevenueB['revenue'], label='B')\n",
        "plt.ylabel('Выручка')\n",
        "plt.xlabel('Дата')\n",
        "plt.xticks(rotation=45)\n",
        "plt.grid(True)\n",
        "plt.title('Графики кумулятивной выручки по группам A/B')\n",
        "plt.legend()\n",
        "plt.show()"
      ]
    },
    {
      "cell_type": "markdown",
      "metadata": {
        "id": "Qz8Yl1spN80V"
      },
      "source": [
        "Группа B стабильно показывает большую выручку чем группа A. Выручка почти равномерно увеличивается в течение всего теста. \n",
        "Однако график выручки группы B в точке 17.08.2019 резко растет. Это может сигнализировать о всплесках числа заказов, либо о появлении очень дорогих заказов в выборке.\n"
      ]
    },
    {
      "cell_type": "markdown",
      "metadata": {
        "id": "Spm-f7zdN80V"
      },
      "source": [
        "[*Назад к содержанию*](#Содержание)"
      ]
    },
    {
      "cell_type": "markdown",
      "metadata": {
        "id": "wiMtRFkjN80V"
      },
      "source": [
        "### Построение графика кумулятивного среднего чека по группам"
      ]
    },
    {
      "cell_type": "markdown",
      "metadata": {
        "id": "MH-pChbaN80V"
      },
      "source": [
        "Построим графики среднего чека по группам — разделим кумулятивную выручку на кумулятивное число заказов:"
      ]
    },
    {
      "cell_type": "code",
      "execution_count": null,
      "metadata": {
        "id": "wXXsvt8xN80V",
        "outputId": "3431b301-e6bb-4602-823c-79176ae29014"
      },
      "outputs": [
        {
          "data": {
            "image/png": "[encoded data removed]",
            "text/plain": [
              "<Figure size 1008x432 with 1 Axes>"
            ]
          },
          "metadata": {
            "needs_background": "light"
          },
          "output_type": "display_data"
        }
      ],
      "source": [
        "plt.plot(cumulativeRevenueA['date'], cumulativeRevenueA['revenue']/cumulativeRevenueA['orders'], label='A')\n",
        "plt.plot(cumulativeRevenueB['date'], cumulativeRevenueB['revenue']/cumulativeRevenueB['orders'], label='B')\n",
        "plt.ylabel('Средний чек')\n",
        "plt.xlabel('Дата')\n",
        "plt.xticks(rotation=45)\n",
        "plt.grid(True)\n",
        "plt.title('Графики кумулятивного среднего чека по группам A/B')\n",
        "plt.legend() \n",
        "plt.show()"
      ]
    },
    {
      "cell_type": "markdown",
      "metadata": {
        "id": "IbZDdGsWN80W"
      },
      "source": [
        "Средний чек для обеих групп становится равномерным ближе к концу теста: установился и даже чуть растет для группы A и падает  для группы B. Возможно, в группу B в первой половине теста попали крупные заказы (резкий всплеск на графике опять 17.08.2019). "
      ]
    },
    {
      "cell_type": "markdown",
      "metadata": {
        "id": "g2zGz6JIN80W"
      },
      "source": [
        "[*Назад к содержанию*](#Содержание)"
      ]
    },
    {
      "cell_type": "markdown",
      "metadata": {
        "id": "nHBQ8A4zN80W"
      },
      "source": [
        "### Построение графика относительного различия для среднего чека"
      ]
    },
    {
      "cell_type": "markdown",
      "metadata": {
        "id": "wcRs7eSTN80W"
      },
      "source": [
        "Построим график относительного изменения кумулятивного среднего чека группы B к группе A"
      ]
    },
    {
      "cell_type": "code",
      "execution_count": null,
      "metadata": {
        "id": "yBswRHf0N80W",
        "outputId": "f969047a-530a-49f1-a10c-f9efb7f0b0d6"
      },
      "outputs": [
        {
          "data": {
            "image/png": "[encoded data removed]",
            "text/plain": [
              "<Figure size 1008x432 with 1 Axes>"
            ]
          },
          "metadata": {
            "needs_background": "light"
          },
          "output_type": "display_data"
        }
      ],
      "source": [
        "# собираем данные в одном датафрейме\n",
        "mergedCumulativeRevenue = cumulativeRevenueA.merge(cumulativeRevenueB, left_on='date', right_on='date', how='left', suffixes=['A', 'B'])\n",
        "\n",
        "# cтроим отношение средних чеков\n",
        "plt.plot(mergedCumulativeRevenue['date'], (mergedCumulativeRevenue['revenueB']/mergedCumulativeRevenue['ordersB']\n",
        "                                           )/(mergedCumulativeRevenue['revenueA']/mergedCumulativeRevenue['ordersA'])-1)\n",
        "\n",
        "# добавляем ось X\n",
        "plt.axhline(y=0, color='black', linestyle='--') \n",
        "\n",
        "plt.xlabel('Дата')\n",
        "plt.xticks(rotation=45)\n",
        "plt.grid(True)\n",
        "plt.title('График относительного изменения кумулятивного среднего чека группы B к группе A')\n",
        "plt.show()"
      ]
    },
    {
      "cell_type": "markdown",
      "metadata": {
        "id": "fPbE23IfN80X"
      },
      "source": [
        "В нескольких точках график резко \"скачет\".Скорее всего где-то (вероятнее это группа В) есть крупные заказы и выбросы."
      ]
    },
    {
      "cell_type": "markdown",
      "metadata": {
        "id": "3oUmgw7hN80X"
      },
      "source": [
        "[*Назад к содержанию*](#Содержание)"
      ]
    },
    {
      "cell_type": "markdown",
      "metadata": {
        "id": "d0NRkTWON80X"
      },
      "source": [
        "### Построение графика кумулятивной конверсии по группам"
      ]
    },
    {
      "cell_type": "markdown",
      "metadata": {
        "id": "GDn2_2yuN80X"
      },
      "source": [
        "Аналогично проанализируем график кумулятивной конверсии. Зададим масштаб осей методом plt.axis(). Передадим ему минимальное и максимальное значения оси x; минимальное и максимальное значения оси y — [\"2019-04-01\", '2019-04-23', 0, 0.015]:"
      ]
    },
    {
      "cell_type": "code",
      "execution_count": null,
      "metadata": {
        "id": "5JHPXS4aN80X",
        "outputId": "4616dac5-fe20-4710-f9d2-4817b81687bf"
      },
      "outputs": [
        {
          "data": {
            "image/png": "[encoded data removed]",
            "text/plain": [
              "<Figure size 1008x432 with 1 Axes>"
            ]
          },
          "metadata": {
            "needs_background": "light"
          },
          "output_type": "display_data"
        }
      ],
      "source": [
        "# считаем кумулятивную конверсию\n",
        "cumulativeData['conversion'] = cumulativeData['orders']/cumulativeData['visitors']\n",
        "\n",
        "# отделяем данные по группе A\n",
        "cumulativeDataA = cumulativeData[cumulativeData['group']=='A']\n",
        "\n",
        "# отделяем данные по группе B\n",
        "cumulativeDataB = cumulativeData[cumulativeData['group']=='B']\n",
        "\n",
        "# строим графики\n",
        "plt.plot(cumulativeDataA['date'], cumulativeDataA['conversion'], label='A')\n",
        "plt.plot(cumulativeDataB['date'], cumulativeDataB['conversion'], label='B')\n",
        "plt.ylabel('Конверсия')\n",
        "plt.xlabel('Дата')\n",
        "plt.xticks(rotation=45)\n",
        "plt.grid(True)\n",
        "plt.title('Графики кумулятивной конверсии по группам A/B')\n",
        "plt.legend() \n",
        "plt.show()"
      ]
    },
    {
      "cell_type": "markdown",
      "metadata": {
        "id": "qnhrBIbhN80Y"
      },
      "source": [
        "Конверсия у группы В выше, хотя у группы А вначале был всплеск."
      ]
    },
    {
      "cell_type": "markdown",
      "metadata": {
        "id": "K_Ff-B17N80Y"
      },
      "source": [
        "[*Назад к содержанию*](#Содержание)"
      ]
    },
    {
      "cell_type": "markdown",
      "metadata": {
        "id": "cAHSobYoN80Y"
      },
      "source": [
        "### Построение графика кумулятивной конверсии по группам"
      ]
    },
    {
      "cell_type": "markdown",
      "metadata": {
        "id": "pYmf8jiZN80Y"
      },
      "source": [
        "Построим график относительного различия кумулятивных конверсий:"
      ]
    },
    {
      "cell_type": "code",
      "execution_count": null,
      "metadata": {
        "id": "3op30GWjN80Y",
        "outputId": "76eaa1d8-7546-4d97-feb6-17435f9a5083"
      },
      "outputs": [
        {
          "data": {
            "image/png": "[encoded data removed]",
            "text/plain": [
              "<Figure size 1008x432 with 1 Axes>"
            ]
          },
          "metadata": {
            "needs_background": "light"
          },
          "output_type": "display_data"
        }
      ],
      "source": [
        "mergedCumulativeConversions = cumulativeDataA[['date','conversion']\n",
        "                                             ].merge(cumulativeDataB[['date','conversion']],\n",
        "                                                     left_on='date', right_on='date', how='left', suffixes=['A', 'B'])\n",
        "plt.plot(mergedCumulativeConversions['date'], \n",
        "         mergedCumulativeConversions['conversionB']/mergedCumulativeConversions['conversionA']-1)\n",
        "plt.title('График относительного изменения кумулятивной конверсии группы B к группе A')\n",
        "plt.xlabel('Дата')\n",
        "plt.xticks(rotation=45)\n",
        "plt.grid(True)\n",
        "plt.axhline(y=0, color='black', linestyle='--')\n",
        "plt.axhline(y=0.1, color='grey', linestyle='--')\n",
        "plt.show()"
      ]
    },
    {
      "cell_type": "markdown",
      "metadata": {
        "id": "blEz6AYaN80Y"
      },
      "source": [
        "Конверсия в группе B стабильно лучше конверсии в группе A на 10% по просшествии 1 недели после начала теста.  Впрочем, сперва стоит проанализировать аномалии, возможно, они изменят представление\n",
        "\n"
      ]
    },
    {
      "cell_type": "markdown",
      "metadata": {
        "id": "rtjaBq3lN80Z"
      },
      "source": [
        "[*Назад к содержанию*](#Содержание)"
      ]
    },
    {
      "cell_type": "markdown",
      "metadata": {
        "id": "19otALmpN80Z"
      },
      "source": [
        "### Анализ выбросов и всплесков"
      ]
    },
    {
      "cell_type": "markdown",
      "metadata": {
        "id": "95aYrkuON80Z"
      },
      "source": [
        "#### Построение графиков количества заказов по пользователям"
      ]
    },
    {
      "cell_type": "markdown",
      "metadata": {
        "id": "_pGa-4AbN80Z"
      },
      "source": [
        "Подсчитаем количество заказов по пользователям и переименуем столбцы"
      ]
    },
    {
      "cell_type": "code",
      "execution_count": null,
      "metadata": {
        "id": "kNtKKocfN80Z",
        "outputId": "5c2ee17f-aea4-4976-917d-8a7463f94571"
      },
      "outputs": [
        {
          "data": {
            "text/html": [
              "<div>\n",
              "<style scoped>\n",
              "    .dataframe tbody tr th:only-of-type {\n",
              "        vertical-align: middle;\n",
              "    }\n",
              "\n",
              "    .dataframe tbody tr th {\n",
              "        vertical-align: top;\n",
              "    }\n",
              "\n",
              "    .dataframe thead th {\n",
              "        text-align: right;\n",
              "    }\n",
              "</style>\n",
              "<table border=\"1\" class=\"dataframe\">\n",
              "  <thead>\n",
              "    <tr style=\"text-align: right;\">\n",
              "      <th></th>\n",
              "      <th>visitorid</th>\n",
              "      <th>orders</th>\n",
              "    </tr>\n",
              "  </thead>\n",
              "  <tbody>\n",
              "    <tr>\n",
              "      <th>44</th>\n",
              "      <td>199603092</td>\n",
              "      <td>5</td>\n",
              "    </tr>\n",
              "    <tr>\n",
              "      <th>893</th>\n",
              "      <td>3717692402</td>\n",
              "      <td>5</td>\n",
              "    </tr>\n",
              "    <tr>\n",
              "      <th>740</th>\n",
              "      <td>3062433592</td>\n",
              "      <td>5</td>\n",
              "    </tr>\n",
              "    <tr>\n",
              "      <th>913</th>\n",
              "      <td>3803269165</td>\n",
              "      <td>5</td>\n",
              "    </tr>\n",
              "    <tr>\n",
              "      <th>55</th>\n",
              "      <td>237748145</td>\n",
              "      <td>5</td>\n",
              "    </tr>\n",
              "    <tr>\n",
              "      <th>615</th>\n",
              "      <td>2587333274</td>\n",
              "      <td>4</td>\n",
              "    </tr>\n",
              "    <tr>\n",
              "      <th>392</th>\n",
              "      <td>1614305549</td>\n",
              "      <td>4</td>\n",
              "    </tr>\n",
              "    <tr>\n",
              "      <th>114</th>\n",
              "      <td>457167155</td>\n",
              "      <td>4</td>\n",
              "    </tr>\n",
              "    <tr>\n",
              "      <th>933</th>\n",
              "      <td>3908431265</td>\n",
              "      <td>3</td>\n",
              "    </tr>\n",
              "    <tr>\n",
              "      <th>310</th>\n",
              "      <td>1294878855</td>\n",
              "      <td>3</td>\n",
              "    </tr>\n",
              "  </tbody>\n",
              "</table>\n",
              "</div>"
            ],
            "text/plain": [
              "      visitorid  orders\n",
              "44    199603092       5\n",
              "893  3717692402       5\n",
              "740  3062433592       5\n",
              "913  3803269165       5\n",
              "55    237748145       5\n",
              "615  2587333274       4\n",
              "392  1614305549       4\n",
              "114   457167155       4\n",
              "933  3908431265       3\n",
              "310  1294878855       3"
            ]
          },
          "execution_count": 28,
          "metadata": {},
          "output_type": "execute_result"
        }
      ],
      "source": [
        "ordersByUsers = orders_filt.groupby('visitorid', as_index = False\n",
        "                              ).agg({'transactionid':'nunique'}).sort_values(by='transactionid', ascending = False)\n",
        "ordersByUsers.columns = ['visitorid', 'orders']\n",
        "ordersByUsers.head(10)"
      ]
    },
    {
      "cell_type": "markdown",
      "metadata": {
        "id": "iVeyiOo-N80Z"
      },
      "source": [
        "Есть пользователи которые совершали по 5-11 заказов"
      ]
    },
    {
      "cell_type": "markdown",
      "metadata": {
        "id": "o5CPw-QhN80a"
      },
      "source": [
        "Построим гистрограмму распределения количества заказов на одного пользователя"
      ]
    },
    {
      "cell_type": "code",
      "execution_count": null,
      "metadata": {
        "id": "ErIF8LIwN80a",
        "outputId": "6d777e2e-00e2-4633-e596-b92fae501d1d"
      },
      "outputs": [
        {
          "data": {
            "image/png": "[encoded data removed]",
            "text/plain": [
              "<Figure size 1008x432 with 1 Axes>"
            ]
          },
          "metadata": {
            "needs_background": "light"
          },
          "output_type": "display_data"
        }
      ],
      "source": [
        "plt.hist(ordersByUsers['orders'], bins = 10)\n",
        "plt.title('Гистрограмма распределения количества заказов на одного пользователя')\n",
        "plt.grid(True)\n",
        "plt.show()"
      ]
    },
    {
      "cell_type": "markdown",
      "metadata": {
        "id": "YQna_jo0N80a"
      },
      "source": [
        "Большинство покупателей заказывали только один раз. Однако доля пользователей с 2-3 заказами тоже имеет место быть"
      ]
    },
    {
      "cell_type": "markdown",
      "metadata": {
        "id": "73IysAk6N80a"
      },
      "source": [
        "Построим точечную диаграмму числа заказов на одного пользователя"
      ]
    },
    {
      "cell_type": "code",
      "execution_count": null,
      "metadata": {
        "id": "ovYN6unRN80a",
        "outputId": "d0ddad93-349b-4291-dc32-eaff07922c49"
      },
      "outputs": [
        {
          "data": {
            "image/png": "[encoded data removed]",
            "text/plain": [
              "<Figure size 1008x432 with 1 Axes>"
            ]
          },
          "metadata": {
            "needs_background": "light"
          },
          "output_type": "display_data"
        }
      ],
      "source": [
        "x_values = pd.Series(range(0,len(ordersByUsers)))\n",
        "\n",
        "plt.scatter(x_values, ordersByUsers['orders']) \n",
        "plt.title('Точечная диаграмма числа заказов на одного пользователя')\n",
        "plt.grid(True)\n",
        "plt.show()"
      ]
    },
    {
      "cell_type": "markdown",
      "metadata": {
        "id": "THHcTDikN80a"
      },
      "source": [
        "Выводы подтверждаются большинство польхователей заказывают один раз,но и от 2-3 заказов тоже много"
      ]
    },
    {
      "cell_type": "markdown",
      "metadata": {
        "id": "3uYwIQHDN80b"
      },
      "source": [
        "Посчитаем 95 и 99 перцентили количества заказов на одного пользователя "
      ]
    },
    {
      "cell_type": "code",
      "execution_count": null,
      "metadata": {
        "id": "j8mFP6exN80b",
        "outputId": "1233f9d7-330c-4e9e-81dc-7db5f7637859"
      },
      "outputs": [
        {
          "name": "stdout",
          "output_type": "stream",
          "text": [
            "Перцентили:\n",
            "95: 2.0\n",
            "99: 3.0\n"
          ]
        }
      ],
      "source": [
        "percentiles = np.percentile(ordersByUsers['orders'], [95, 99])\n",
        "print('Перцентили:\\n95: {}\\n99: {}'.format(percentiles[0],percentiles[1]))"
      ]
    },
    {
      "cell_type": "markdown",
      "metadata": {
        "id": "2N-aLRyEN80b"
      },
      "source": [
        "Не более 5% пользователей оформляли больше чем 2 заказа, и 1% пользователей заказывали более 3 раз."
      ]
    },
    {
      "cell_type": "markdown",
      "metadata": {
        "id": "BE-V0TVjN80c"
      },
      "source": [
        "[*Назад к содержанию*](#Содержание)"
      ]
    },
    {
      "cell_type": "markdown",
      "metadata": {
        "id": "yPL87FCRN80c"
      },
      "source": [
        "#### Построение графиков стоимостей заказов"
      ]
    },
    {
      "cell_type": "markdown",
      "metadata": {
        "id": "R6cYb80XN80c"
      },
      "source": [
        "Посмотрим еще раз описание файла с заказами"
      ]
    },
    {
      "cell_type": "code",
      "execution_count": null,
      "metadata": {
        "id": "HfGp0vqmN80c",
        "outputId": "3996606c-2503-447b-b705-e20897340184"
      },
      "outputs": [
        {
          "data": {
            "text/html": [
              "<div>\n",
              "<style scoped>\n",
              "    .dataframe tbody tr th:only-of-type {\n",
              "        vertical-align: middle;\n",
              "    }\n",
              "\n",
              "    .dataframe tbody tr th {\n",
              "        vertical-align: top;\n",
              "    }\n",
              "\n",
              "    .dataframe thead th {\n",
              "        text-align: right;\n",
              "    }\n",
              "</style>\n",
              "<table border=\"1\" class=\"dataframe\">\n",
              "  <thead>\n",
              "    <tr style=\"text-align: right;\">\n",
              "      <th></th>\n",
              "      <th>transactionid</th>\n",
              "      <th>visitorid</th>\n",
              "      <th>revenue</th>\n",
              "    </tr>\n",
              "  </thead>\n",
              "  <tbody>\n",
              "    <tr>\n",
              "      <th>count</th>\n",
              "      <td>1.153000e+03</td>\n",
              "      <td>1.153000e+03</td>\n",
              "      <td>1.153000e+03</td>\n",
              "    </tr>\n",
              "    <tr>\n",
              "      <th>mean</th>\n",
              "      <td>2.156483e+09</td>\n",
              "      <td>2.146512e+09</td>\n",
              "      <td>8.295131e+03</td>\n",
              "    </tr>\n",
              "    <tr>\n",
              "      <th>std</th>\n",
              "      <td>1.231644e+09</td>\n",
              "      <td>1.240528e+09</td>\n",
              "      <td>3.983049e+04</td>\n",
              "    </tr>\n",
              "    <tr>\n",
              "      <th>min</th>\n",
              "      <td>1.062393e+06</td>\n",
              "      <td>5.114589e+06</td>\n",
              "      <td>5.000000e+01</td>\n",
              "    </tr>\n",
              "    <tr>\n",
              "      <th>25%</th>\n",
              "      <td>1.162046e+09</td>\n",
              "      <td>1.049628e+09</td>\n",
              "      <td>1.190000e+03</td>\n",
              "    </tr>\n",
              "    <tr>\n",
              "      <th>50%</th>\n",
              "      <td>2.146401e+09</td>\n",
              "      <td>2.162168e+09</td>\n",
              "      <td>2.970000e+03</td>\n",
              "    </tr>\n",
              "    <tr>\n",
              "      <th>75%</th>\n",
              "      <td>3.241914e+09</td>\n",
              "      <td>3.177606e+09</td>\n",
              "      <td>8.290000e+03</td>\n",
              "    </tr>\n",
              "    <tr>\n",
              "      <th>max</th>\n",
              "      <td>4.293856e+09</td>\n",
              "      <td>4.283872e+09</td>\n",
              "      <td>1.294500e+06</td>\n",
              "    </tr>\n",
              "  </tbody>\n",
              "</table>\n",
              "</div>"
            ],
            "text/plain": [
              "       transactionid     visitorid       revenue\n",
              "count   1.153000e+03  1.153000e+03  1.153000e+03\n",
              "mean    2.156483e+09  2.146512e+09  8.295131e+03\n",
              "std     1.231644e+09  1.240528e+09  3.983049e+04\n",
              "min     1.062393e+06  5.114589e+06  5.000000e+01\n",
              "25%     1.162046e+09  1.049628e+09  1.190000e+03\n",
              "50%     2.146401e+09  2.162168e+09  2.970000e+03\n",
              "75%     3.241914e+09  3.177606e+09  8.290000e+03\n",
              "max     4.293856e+09  4.283872e+09  1.294500e+06"
            ]
          },
          "execution_count": 32,
          "metadata": {},
          "output_type": "execute_result"
        }
      ],
      "source": [
        "orders_filt.describe()"
      ]
    },
    {
      "cell_type": "markdown",
      "metadata": {
        "id": "q91tuwaFN80e"
      },
      "source": [
        "Максимальный заказ 1,29 млн, а средний чек при этом 8300. Разница очень значительна. Если такой дорогой заказ попадёт в одну из групп теста, он сразу же исказит результаты и сделает победителем ту группу, где оказался."
      ]
    },
    {
      "cell_type": "markdown",
      "metadata": {
        "id": "goWDxMYgN80e"
      },
      "source": [
        "Изучим гистограмму распределения стоимостей заказов:"
      ]
    },
    {
      "cell_type": "code",
      "execution_count": null,
      "metadata": {
        "id": "FPtxloAlN80e",
        "outputId": "2ad8518b-8d34-4f6a-d644-9ac287a54dc7"
      },
      "outputs": [
        {
          "data": {
            "image/png": "[encoded data removed]",
            "text/plain": [
              "<Figure size 1008x432 with 1 Axes>"
            ]
          },
          "metadata": {
            "needs_background": "light"
          },
          "output_type": "display_data"
        }
      ],
      "source": [
        "plt.hist(orders_filt['revenue'], range=(0,100000), bins = 100)\n",
        "plt.title('Гистрограмма распределения стоимостей заказов')\n",
        "plt.grid(True)\n",
        "plt.show()"
      ]
    },
    {
      "cell_type": "markdown",
      "metadata": {
        "id": "ggFWFF9rN80f"
      },
      "source": [
        "В данных есть заказы дороже 20 000, однако большинство всё-таки имеет меньшую выручку."
      ]
    },
    {
      "cell_type": "markdown",
      "metadata": {
        "id": "VwgZR55EN80f"
      },
      "source": [
        "Построим точечную диаграмму стоимостей заказов"
      ]
    },
    {
      "cell_type": "code",
      "execution_count": null,
      "metadata": {
        "id": "6cL1swmmN80f",
        "outputId": "7d9a105a-7a82-4735-8367-a2466d272faf"
      },
      "outputs": [
        {
          "data": {
            "image/png": "[encoded data removed]",
            "text/plain": [
              "<Figure size 1008x432 with 1 Axes>"
            ]
          },
          "metadata": {
            "needs_background": "light"
          },
          "output_type": "display_data"
        }
      ],
      "source": [
        "x_values = pd.Series(range(0,len(orders_filt)))\n",
        "\n",
        "plt.scatter(x_values, orders_filt['revenue']) \n",
        "plt.title('Точечная диаграмма стоимостей заказа')\n",
        "plt.axis([0, 1200, 0, 200000])\n",
        "plt.grid(True)\n",
        "plt.show()"
      ]
    },
    {
      "cell_type": "markdown",
      "metadata": {
        "id": "0rzLbCzFN80f"
      },
      "source": [
        "Судя по графикам, большая часть пользователей зхаказывает не больше чем 25-30 т.р. Проверим это далее."
      ]
    },
    {
      "cell_type": "markdown",
      "metadata": {
        "id": "xMD30CU5N80f"
      },
      "source": [
        "Посчитаем 95 и 99 перцентили стоимостей заказа"
      ]
    },
    {
      "cell_type": "code",
      "execution_count": null,
      "metadata": {
        "id": "73Deiu8lN80g",
        "outputId": "c2789855-fb9b-446d-db69-cb7543229081"
      },
      "outputs": [
        {
          "name": "stdout",
          "output_type": "stream",
          "text": [
            "Перцентили:\n",
            "95: 27570.000\n",
            "99: 56134.080\n"
          ]
        }
      ],
      "source": [
        "percentiles = np.percentile(orders_filt['revenue'], [95, 99])\n",
        "print('Перцентили:\\n95: {:.3f}\\n99: {:.3f}'.format(percentiles[0],percentiles[1]))"
      ]
    },
    {
      "cell_type": "markdown",
      "metadata": {
        "id": "X1cN9MzHN80g"
      },
      "source": [
        "Не более 5% пользователей оформляли больше чем на 27570 тыс, пользователей заказывали более 56 тыс 1 %"
      ]
    },
    {
      "cell_type": "markdown",
      "metadata": {
        "id": "N78MiYHvN80h"
      },
      "source": [
        "[*Назад к содержанию*](#Содержание)"
      ]
    },
    {
      "cell_type": "markdown",
      "metadata": {
        "id": "vWnjvPDmN80h"
      },
      "source": [
        "### Подсчет статистической значимости"
      ]
    },
    {
      "cell_type": "markdown",
      "metadata": {
        "id": "Mpt5kpSrN80i"
      },
      "source": [
        "#### Различий в конверсии между группами по «сырым» данным"
      ]
    },
    {
      "cell_type": "markdown",
      "metadata": {
        "id": "jn1nmM8fN80i"
      },
      "source": [
        "Посчитаем статистическую значимость различия в конверсии между группами.\n",
        "Создадим переменные ordersByUsersA и ordersByUsersB со столбцами ['visitorId', 'orders']. В них для пользователей, которые заказывали хотя бы 1 раз, укажем число совершённых заказов.\n"
      ]
    },
    {
      "cell_type": "code",
      "execution_count": null,
      "metadata": {
        "id": "Da0Obua-N80i",
        "outputId": "f11f64a1-084c-4437-cbed-67640ce7700c"
      },
      "outputs": [
        {
          "name": "stdout",
          "output_type": "stream",
          "text": [
            "Количество покупателей в группе A: 498\n",
            "Количество покупок в группе А: 533\n",
            "Количество посетителей в группе A: 21474\n",
            "\n",
            "Количество покупателей в группе B: 581\n",
            "Количество покупок в группе B: 620\n",
            "Количество посетителей в группе B: 21452\n"
          ]
        }
      ],
      "source": [
        "ordersByUsersA = (orders_filt[orders_filt['group'] == 'A'].groupby('visitorid', as_index=False).agg({'transactionid': 'nunique'}))\n",
        "ordersByUsersA.columns = ['visitorid', 'orders']\n",
        "\n",
        "ordersByUsersB = (orders_filt[orders_filt['group'] == 'B'].groupby('visitorid', as_index=False).agg({'transactionid': 'nunique'}))\n",
        "ordersByUsersB.columns = ['visitorid', 'orders']\n",
        "                  \n",
        "print('Количество покупателей в группе A: {}'.format(len(ordersByUsersA)))\n",
        "print('Количество покупок в группе А: {}'.format(ordersByUsersA['orders'].sum()))\n",
        "print('Количество посетителей в группе A: {}\\n'.format(visitors_filt[visitors_filt['group']=='A']['visitors'].sum()))\n",
        "print('Количество покупателей в группе B: {}'.format(len(ordersByUsersB)))\n",
        "print('Количество покупок в группе B: {}'.format(ordersByUsersB['orders'].sum()))\n",
        "print('Количество посетителей в группе B: {}'.format(visitors_filt[visitors_filt['group']=='B']['visitors'].sum()))\n"
      ]
    },
    {
      "cell_type": "markdown",
      "metadata": {
        "id": "zQ_0sD7xN80i"
      },
      "source": [
        "Объявим переменные sampleA и sampleB, в которых пользователям из разных групп будет соответствовать количество заказов. Тем, кто ничего не заказал, будут соответствовать нули. Это нужно, чтобы подготовить выборки к проверке критерием Манна-Уитни.\n",
        "Переменная sampleA должна состоять из двух частей:\n",
        "1.\tСписок с количеством заказов для каждого из пользователей: ordersByUsersA['orders'].\n",
        "2.\tНули для пользователей, которые ничего не заказывали. Их количество равно разнице между суммой посетителей и количеством записей о заказах: visitors['group']=='A']['visitors'].sum() - len(ordersByUsersA['orders']). \n",
        "\n",
        "Список индексов создаем функцией np.arange(). Она работает так же, как функция range(), только создаёт массив индексов в формате np.array, который требуется в pd.Series."
      ]
    },
    {
      "cell_type": "code",
      "execution_count": null,
      "metadata": {
        "id": "9olDBpr1N80i"
      },
      "outputs": [],
      "source": [
        "list_orders_1 =[]\n",
        "for i in range(0,(visitors_filt[visitors_filt['group']=='A']['visitors'].sum()-len(ordersByUsersA))):\n",
        "    list_orders_1.append(0)\n",
        "orders_by_non_purchased_users_A = pd.Series(data = list_orders_1, name = 'orders')\n",
        "\n",
        "list_orders_2 =[]\n",
        "for i in range(0,(visitors_filt[visitors_filt['group']=='B']['visitors'].sum()-len(ordersByUsersB))):\n",
        "    list_orders_2.append(0)\n",
        "orders_by_non_purchased_users_B = pd.Series(data = list_orders_2, name = 'orders')\n",
        "\n",
        "\n",
        "\n",
        "sampleA = pd.concat([ordersByUsersA['orders'], orders_by_non_purchased_users_A], axis=0)\n",
        "sampleB = pd.concat([ordersByUsersB['orders'], orders_by_non_purchased_users_B], axis=0)"
      ]
    },
    {
      "cell_type": "markdown",
      "metadata": {
        "id": "xDuOwKw7N80i"
      },
      "source": [
        "Для расчета р-value, используем напараметрический тест Уилкоксона-Манна-Уитни, так как у нас имеются выбросы, а сам тест работает с рангами, не учитывая сами значения. \n",
        "\n",
        "Нулевая гипотеза Н0: нет статистически значимых различий конверсии между группой А и В  по \"сырым\" данным.\n",
        "\n",
        "Альтернативная гипотеза Н1:что статистическая значимость есть\n",
        "\n",
        "Применим критерий и отформатируем p-value, округлив его до 5 знаков после запятой.\n",
        "\n",
        "В sampleA сохранили выборку, где каждый элемент — число заказов определённого пользователя, в том числе ноль. Значит, число элементов sampleA — это количество пользователей, сумма всех элементов — количество заказов. Чтобы получить конверсию в группе, поделим сумму заказов на число пользователей — найдём среднее в выборке sampleA методом mean(). Аналогично найдём конверсию группы B: sampleB.mean().\n",
        "Выведем относительный прирост конверсии группы B: конверсия группы B / конверсия группы A - 1. Округлим до трёх знаков после запятой.\n"
      ]
    },
    {
      "cell_type": "code",
      "execution_count": null,
      "metadata": {
        "id": "jF_CJoNeN80j",
        "outputId": "160d3054-5082-442f-c50b-75e0778b98cb"
      },
      "outputs": [
        {
          "name": "stdout",
          "output_type": "stream",
          "text": [
            "\n",
            "Относительный прирост конверсии группы B по отношению к группе A: 0.164\n",
            "P-value: 0.01000\n",
            "По неочищенным данным в конверсии групп A и B разница статистически значима. Отвергаем нулевую гипотезу\n"
          ]
        }
      ],
      "source": [
        "print('\\nОтносительный прирост конверсии группы B по отношению к группе A: {:.3f}'.format(sampleB.mean()/sampleA.mean()-1))\n",
        "alpha = 0.05\n",
        "results = st.mannwhitneyu(sampleA, sampleB)\n",
        "print('P-value: {:.5f}'.format(results.pvalue))\n",
        "if results.pvalue < alpha:\n",
        "    print('По неочищенным данным в конверсии групп A и B разница статистически значима. Отвергаем нулевую гипотезу')\n",
        "else:\n",
        "    print('По неочищенным данным различий в конверсии групп A и B НЕТ. Не отвергаем нулевую гипотезу')\n"
      ]
    },
    {
      "cell_type": "markdown",
      "metadata": {
        "id": "jbN-bqLHN80j"
      },
      "source": [
        "P-value меньше 0.05,значит, нулевую гипотезу, на 5% уровне значимости, о том, что статистически значимых различий в конверсии между группами нет, **отвергаем**."
      ]
    },
    {
      "cell_type": "markdown",
      "metadata": {
        "id": "tAhij5sPN80j"
      },
      "source": [
        "[*Назад к содержанию*](#Содержание)"
      ]
    },
    {
      "cell_type": "markdown",
      "metadata": {
        "id": "y-KaUr-DN80k"
      },
      "source": [
        "#### Различий в среднем чеке заказа между группами по «сырым» данным"
      ]
    },
    {
      "cell_type": "markdown",
      "metadata": {
        "id": "HuNZ1wLuN80k"
      },
      "source": [
        "Для расчета р-value, используем напараметрический тест Уилкоксона-Манна-Уитни, так как у нас имеются выбросы, а сам тест работает с рангами, не учитывая сами значения. \n",
        "\n",
        "Нулевая гипотеза Н0: нет статистически значимых различий средних чеков между группой А и В  по \"сырым\" данным.\n",
        "\n",
        "Альтернативная гипотеза Н1:что статистическая значимость есть\n",
        "\n",
        "Порогом статистической значимости устанавливаю alpha=0.05.\n",
        "\n",
        "Чтобы рассчитать статистическую значимость различий в среднем чеке между сегментами, передадим критерию mannwhitneyu() данные о выручке с заказов."
      ]
    },
    {
      "cell_type": "code",
      "execution_count": null,
      "metadata": {
        "id": "A030HNg2N80k",
        "outputId": "54439e0d-fcaa-4465-f48b-af8b11b6bb31"
      },
      "outputs": [
        {
          "name": "stdout",
          "output_type": "stream",
          "text": [
            "Относительное изменение среднего чека в группе B по отношению группы A: 0.243\n",
            "P-value: 0.99243\n",
            "По неочищенным данным разница в средних чеках  групп A и B НЕТ. Не отвергаем нулевую гипотезу\n"
          ]
        }
      ],
      "source": [
        "print('Относительное изменение среднего чека в группе B по отношению группы A: {:.3f}'.format(\n",
        "orders_filt[orders_filt['group']=='B']['revenue'].mean()/orders[orders['group']=='A']['revenue'].mean()-1))\n",
        "results = st.mannwhitneyu(orders_filt[orders_filt['group']=='A']['revenue'], orders_filt[orders_filt['group']=='B']['revenue'])\n",
        "print('P-value: {:.5f}'.format(results.pvalue))\n",
        "if results.pvalue < alpha:\n",
        "    print('По неочищенным данным разница в средних чеках групп A и B разница статистически значима. Отвергаем нулевую гипотезу')\n",
        "else:\n",
        "    print('По неочищенным данным разница в средних чеках  групп A и B НЕТ. Не отвергаем нулевую гипотезу')"
      ]
    },
    {
      "cell_type": "markdown",
      "metadata": {
        "id": "f3wZMyVJN80k"
      },
      "source": [
        "[*Назад к содержанию*](#Содержание)"
      ]
    },
    {
      "cell_type": "markdown",
      "metadata": {
        "id": "qJM4DMI1N80k"
      },
      "source": [
        "#### Различий в конверсии между группами по «очищенным» данным"
      ]
    },
    {
      "cell_type": "markdown",
      "metadata": {
        "id": "uyJZeamtN80l"
      },
      "source": [
        "В 4.7.1 и 4.7.2 выяснили, что большинство пользователей не делает более 2 заказов и сумма 1 покупки в большинстве случаев не превышает 28 т.р. Очистим данные от аномальных значений."
      ]
    },
    {
      "cell_type": "markdown",
      "metadata": {
        "id": "xzOKJFiHN80l"
      },
      "source": [
        "Сделаем срезы пользователей с числом заказов больше 2 — usersWithManyOrders и пользователей, совершивших заказы дороже 27 570 — usersWithExpensiveOrders. Объединим их в таблице abnormalUsers.\n",
        "Узнаем, сколько всего аномальных пользователей методом shape().\n"
      ]
    },
    {
      "cell_type": "code",
      "execution_count": null,
      "metadata": {
        "id": "P_yP677cN80l",
        "outputId": "b2a6f186-c9f1-440a-cbfe-057ec43204b1"
      },
      "outputs": [
        {
          "name": "stdout",
          "output_type": "stream",
          "text": [
            "Кол-во аномальных пользователей: 71\n"
          ]
        }
      ],
      "source": [
        "usersWithManyOrders = pd.concat([ordersByUsersA[ordersByUsersA['orders'] > 2]['visitorid'],\n",
        "        ordersByUsersB[ordersByUsersB['orders'] > 2]['visitorid']], axis=0)\n",
        "\n",
        "usersWithExpensiveOrders = orders_filt[orders_filt['revenue'] > 27570]['visitorid']\n",
        "\n",
        "abnormalUsers = pd.concat([usersWithManyOrders, usersWithExpensiveOrders], axis=0).drop_duplicates().sort_values()\n",
        "\n",
        "\n",
        "print('Кол-во аномальных пользователей: {}'.format(len(abnormalUsers)))"
      ]
    },
    {
      "cell_type": "markdown",
      "metadata": {
        "id": "4xpK4glIN80l"
      },
      "source": [
        "Узнаем, как их действия повлияли на результаты теста. Посчитаем статистическую значимость различий в конверсии между группами теста по очищенным данным. Сначала подготовим выборки количества заказов по пользователям по группам теста и применим статистический критерий Манна-Уитни к полученным выборкам.\n",
        "\n",
        "Нулевая гипотеза Н0: нет статистически значимых различий конверсии между группой А и В по \"очищенным\" данным.\n",
        "\n",
        "Альтернативная гипотеза Н1:что статистическая значимость есть"
      ]
    },
    {
      "cell_type": "code",
      "execution_count": null,
      "metadata": {
        "id": "q4DYX0lxN80l",
        "outputId": "d42e728d-4f42-4a1d-ce86-ab82dabe3025"
      },
      "outputs": [
        {
          "name": "stdout",
          "output_type": "stream",
          "text": [
            "\n",
            "Относительный прирост конверсии группы B по отношению к группе A после очистки данных: 0.181\n",
            "P-value: 0.00967\n",
            "По очищенным данным в конверсии групп A и B разница статистически значима. Отвергаем нулевую гипотезу\n"
          ]
        }
      ],
      "source": [
        "sampleAFiltered = pd.concat([\n",
        "    ordersByUsersA[np.logical_not(ordersByUsersA['visitorid'].isin(abnormalUsers))]['orders'],\n",
        "    orders_by_non_purchased_users_A\n",
        "], axis = 0)\n",
        "\n",
        "sampleBFiltered = pd.concat([\n",
        "    ordersByUsersB[np.logical_not(ordersByUsersB['visitorid'].isin(abnormalUsers))]['orders'],\n",
        "    orders_by_non_purchased_users_B\n",
        "], axis = 0)\n",
        "\n",
        "print('\\nОтносительный прирост конверсии группы B по отношению к группе A после очистки данных: {:.3f}\n",
        "      '.format(sampleBFiltered.mean()/sampleAFiltered.mean()-1))\n",
        "results = st.mannwhitneyu(sampleAFiltered, sampleBFiltered)\n",
        "\n",
        "print('P-value: {:.5f}'.format(results.pvalue))\n",
        "if results.pvalue < alpha:\n",
        "    print('По очищенным данным в конверсии групп A и B разница статистически значима. Отвергаем нулевую гипотезу')\n",
        "else:\n",
        "    print('По очищенным данным разницы в конверсии групп A и B нет. Не отвергаем нулевую гипотезу')"
      ]
    },
    {
      "cell_type": "markdown",
      "metadata": {
        "id": "MQY4wKlaN80m"
      },
      "source": [
        "P-value меньше 0.05,значит, нулевую гипотезу, на 5% уровне значимости, о том, что статистически значимых различий в конверсии между группами нет, **отвергаем**."
      ]
    },
    {
      "cell_type": "markdown",
      "metadata": {
        "id": "uxwMVYbkN80m"
      },
      "source": [
        "По сырым данным были следуюшие значения: \n",
        "- Относительный прирост конверсии группы B по отношению к группе A: 0.164\n",
        "- P-value: 0.01000\n",
        "\n",
        "Относительный прирост конверсии увеличился с 16,4 до 18,1 % , разница в конверсии также статистически значима."
      ]
    },
    {
      "cell_type": "markdown",
      "metadata": {
        "id": "sYWAd6AJN80m"
      },
      "source": [
        "[*Назад к содержанию*](#Содержание)"
      ]
    },
    {
      "cell_type": "markdown",
      "metadata": {
        "id": "aSfEq8TuN80m"
      },
      "source": [
        "####  Различий в среднем чеке заказа между группами по «очищенным» данным"
      ]
    },
    {
      "cell_type": "markdown",
      "metadata": {
        "id": "Hgc3CGaBN80m"
      },
      "source": [
        "Нулевая гипотеза Н0: нет статистически значимых различий средних чеков между группой А и В по \"очищенным\" данным.\n",
        "\n",
        "Альтернативная гипотеза Н1:что статистическая значимость есть"
      ]
    },
    {
      "cell_type": "code",
      "execution_count": null,
      "metadata": {
        "id": "9-firQj3N80m",
        "outputId": "a64ec0bd-5c59-4ca7-9f27-c44c62242e5c"
      },
      "outputs": [
        {
          "name": "stdout",
          "output_type": "stream",
          "text": [
            "Относительное изменение среднего чека в группе B по отношению группы A после очистки данных: -0.035\n",
            "P-value: 0.66424\n",
            "По очищенным данным разница в средних чеках  групп A и B НЕТ. Не отвергаем нулевую гипотезу\n"
          ]
        }
      ],
      "source": [
        "print('Относительное изменение среднего чека в группе B по отношению группы A после очистки данных: {:.3f}'.format(\n",
        "orders_filt[np.logical_and(orders_filt['group']=='B', np.logical_not(orders_filt['visitorid'].isin(abnormalUsers)))]['revenue'].mean()\\\n",
        "/orders_filt[np.logical_and(orders_filt['group']=='A', np.logical_not(orders_filt['visitorid'].isin(abnormalUsers)))]['revenue'].mean()-1))\n",
        "       \n",
        "       \n",
        "results = st.mannwhitneyu(orders_filt[np.logical_and(orders_filt['group']=='A', np.logical_not(\n",
        "    orders_filt['visitorid'].isin(abnormalUsers)))]['revenue'], orders_filt[np.logical_and(orders_filt['group']=='B', np.logical_not(\n",
        "        orders_filt['visitorid'].isin(abnormalUsers)))]['revenue'])\n",
        "print('P-value: {:.5f}'.format(results.pvalue))\n",
        "if results.pvalue < alpha:\n",
        "    print('По очищенным данным разница в средних чеках групп A и B разница статистически значима. Отвергаем нулевую гипотезу')\n",
        "else:\n",
        "    print('По очищенным данным разница в средних чеках  групп A и B НЕТ. Не отвергаем нулевую гипотезу')"
      ]
    },
    {
      "cell_type": "markdown",
      "metadata": {
        "id": "LQ-zciqFN80m"
      },
      "source": [
        "P-value больше 0.05,значит, нулевую гипотезу, на 5% уровне значимости, о том, что статистически значимых различий в средних чеках между группами нет, **не отвергаем**."
      ]
    },
    {
      "cell_type": "markdown",
      "metadata": {
        "id": "acO_CCO0N80n"
      },
      "source": [
        "По сырым данным были следующие показатели:\n",
        "- Относительное изменение среднего чека в группе B по отношению группы A: 0.243\n",
        "- P-value: 0.99243\n",
        "\n",
        "P-value практически не изменился, но средний чек изменился почти на 27%"
      ]
    },
    {
      "cell_type": "markdown",
      "metadata": {
        "id": "rjEN8IdmN80n"
      },
      "source": [
        "[*Назад к содержанию*](#Содержание)"
      ]
    },
    {
      "cell_type": "markdown",
      "metadata": {
        "id": "86eDDWcuN80n"
      },
      "source": [
        "## Вывод и принятие решение по результатам теста"
      ]
    },
    {
      "cell_type": "markdown",
      "metadata": {
        "id": "Ysz_R2-XN80n"
      },
      "source": [
        "Варианты принимаемых решений:\n",
        "\n",
        "1. Остановить тест, зафиксировать победу одной из групп.\n",
        "2. Остановить тест, зафиксировать отсутствие различий между группами.\n",
        "3. Продолжить тест.\n",
        "\n",
        "\n",
        "- Выборка данных имеет корректный размер, проблему подглядывания в результате сравнения групп во время проведения теста мы исключили.\n",
        "- Кумулятивные метрики по выручке, среднему чеку и конверсии почти все время лидировали в группе B. \n",
        "- После очистки разница между средними чеками стала минимальна, но это не даёт нам повода сомневаться в проведении теста и его результатах. \n",
        "- До и после очистки данных, показатель конверсии в группе B больше показателя в группе A - сначала на 14% до и на 17% после очистки данных. Данная разница показателей конверсии между группами и до и после очистки данных является статистически значимой.\n",
        "- По среднему чеку статистически значимой разницы нет между группами как по \"сырым\" там и по \"очищенным\" данным.\n",
        "\n",
        "Из всего вышесказанного делаем вывод что можно останавливать тест и зафиксировать победу за группой В, только по конверсии.\n"
      ]
    }
  ],
  "metadata": {
    "ExecuteTimeLog": [
      {
        "duration": 1492,
        "start_time": "2022-03-15T13:39:23.059Z"
      },
      {
        "duration": 1992,
        "start_time": "2022-03-16T06:05:52.489Z"
      },
      {
        "duration": 13,
        "start_time": "2022-03-16T06:06:07.989Z"
      },
      {
        "duration": 24,
        "start_time": "2022-03-16T06:06:27.225Z"
      },
      {
        "duration": 20,
        "start_time": "2022-03-16T06:06:45.358Z"
      },
      {
        "duration": 19,
        "start_time": "2022-03-16T06:06:54.959Z"
      },
      {
        "duration": 238,
        "start_time": "2022-03-16T06:07:21.036Z"
      },
      {
        "duration": 226,
        "start_time": "2022-03-16T06:07:25.016Z"
      },
      {
        "duration": 7,
        "start_time": "2022-03-16T06:07:32.859Z"
      },
      {
        "duration": 6,
        "start_time": "2022-03-16T06:07:53.650Z"
      },
      {
        "duration": 6,
        "start_time": "2022-03-16T06:08:04.298Z"
      },
      {
        "duration": 39,
        "start_time": "2022-03-16T06:16:18.358Z"
      },
      {
        "duration": 7,
        "start_time": "2022-03-16T06:18:01.763Z"
      },
      {
        "duration": 128,
        "start_time": "2022-03-16T06:18:18.756Z"
      },
      {
        "duration": 6,
        "start_time": "2022-03-16T06:18:29.242Z"
      },
      {
        "duration": 69,
        "start_time": "2022-03-16T06:18:31.613Z"
      },
      {
        "duration": 75,
        "start_time": "2022-03-16T06:19:37.510Z"
      },
      {
        "duration": 44,
        "start_time": "2022-03-16T06:19:42.105Z"
      },
      {
        "duration": 89,
        "start_time": "2022-03-16T06:20:51.456Z"
      },
      {
        "duration": 7,
        "start_time": "2022-03-16T06:21:28.958Z"
      },
      {
        "duration": 77,
        "start_time": "2022-03-16T06:21:31.683Z"
      },
      {
        "duration": 9,
        "start_time": "2022-03-16T06:21:52.831Z"
      },
      {
        "duration": 1868,
        "start_time": "2022-03-16T06:22:28.886Z"
      },
      {
        "duration": 1050,
        "start_time": "2022-03-16T06:22:56.073Z"
      },
      {
        "duration": 5,
        "start_time": "2022-03-16T06:23:12.632Z"
      },
      {
        "duration": 1149,
        "start_time": "2022-03-16T06:23:19.950Z"
      },
      {
        "duration": 7,
        "start_time": "2022-03-16T06:24:11.715Z"
      },
      {
        "duration": 84,
        "start_time": "2022-03-16T06:24:13.638Z"
      },
      {
        "duration": 69,
        "start_time": "2022-03-16T06:24:53.949Z"
      },
      {
        "duration": 7,
        "start_time": "2022-03-16T06:25:12.995Z"
      },
      {
        "duration": 88,
        "start_time": "2022-03-16T06:25:14.753Z"
      },
      {
        "duration": 9,
        "start_time": "2022-03-16T06:25:24.507Z"
      },
      {
        "duration": 66,
        "start_time": "2022-03-16T06:25:26.411Z"
      },
      {
        "duration": 69,
        "start_time": "2022-03-16T06:25:29.162Z"
      },
      {
        "duration": 49,
        "start_time": "2022-03-16T06:25:42.499Z"
      },
      {
        "duration": 39,
        "start_time": "2022-03-16T06:26:03.808Z"
      },
      {
        "duration": 5,
        "start_time": "2022-03-16T06:28:52.333Z"
      },
      {
        "duration": 5708,
        "start_time": "2022-03-16T06:34:24.963Z"
      },
      {
        "duration": 5855,
        "start_time": "2022-03-16T06:34:49.715Z"
      },
      {
        "duration": 5580,
        "start_time": "2022-03-16T06:35:21.963Z"
      },
      {
        "duration": 218,
        "start_time": "2022-03-16T06:35:48.310Z"
      },
      {
        "duration": 6137,
        "start_time": "2022-03-16T06:36:12.572Z"
      },
      {
        "duration": 1362,
        "start_time": "2022-03-16T06:36:55.568Z"
      },
      {
        "duration": 37,
        "start_time": "2022-03-16T06:36:56.933Z"
      },
      {
        "duration": 6,
        "start_time": "2022-03-16T06:36:56.973Z"
      },
      {
        "duration": 72,
        "start_time": "2022-03-16T06:36:56.982Z"
      },
      {
        "duration": 92,
        "start_time": "2022-03-16T06:36:57.056Z"
      },
      {
        "duration": 73,
        "start_time": "2022-03-16T06:36:57.151Z"
      },
      {
        "duration": 6,
        "start_time": "2022-03-16T06:36:57.226Z"
      },
      {
        "duration": 7,
        "start_time": "2022-03-16T06:39:09.905Z"
      },
      {
        "duration": 16,
        "start_time": "2022-03-16T06:39:49.139Z"
      },
      {
        "duration": 18,
        "start_time": "2022-03-16T06:40:15.626Z"
      },
      {
        "duration": 15,
        "start_time": "2022-03-16T06:40:34.222Z"
      },
      {
        "duration": 476,
        "start_time": "2022-03-16T06:40:57.198Z"
      },
      {
        "duration": 16,
        "start_time": "2022-03-16T06:40:59.211Z"
      },
      {
        "duration": 929,
        "start_time": "2022-03-16T06:54:55.004Z"
      },
      {
        "duration": 664,
        "start_time": "2022-03-16T06:55:06.894Z"
      },
      {
        "duration": 620,
        "start_time": "2022-03-16T07:05:43.594Z"
      },
      {
        "duration": 859,
        "start_time": "2022-03-16T07:06:08.109Z"
      },
      {
        "duration": 631,
        "start_time": "2022-03-16T07:27:34.258Z"
      },
      {
        "duration": 782,
        "start_time": "2022-03-16T07:42:02.332Z"
      },
      {
        "duration": 10,
        "start_time": "2022-03-16T07:47:33.492Z"
      },
      {
        "duration": 6641,
        "start_time": "2022-03-16T07:50:05.513Z"
      },
      {
        "duration": 6243,
        "start_time": "2022-03-16T07:52:05.983Z"
      },
      {
        "duration": 6313,
        "start_time": "2022-03-16T07:52:40.496Z"
      },
      {
        "duration": 5912,
        "start_time": "2022-03-16T07:53:33.863Z"
      },
      {
        "duration": 5998,
        "start_time": "2022-03-16T07:56:13.068Z"
      },
      {
        "duration": 3547,
        "start_time": "2022-03-16T07:56:28.458Z"
      },
      {
        "duration": 6192,
        "start_time": "2022-03-16T07:56:40.108Z"
      },
      {
        "duration": 1102,
        "start_time": "2022-03-16T07:57:31.119Z"
      },
      {
        "duration": 85,
        "start_time": "2022-03-16T07:58:03.367Z"
      },
      {
        "duration": 5,
        "start_time": "2022-03-16T07:58:14.100Z"
      },
      {
        "duration": 1127,
        "start_time": "2022-03-16T07:58:18.549Z"
      },
      {
        "duration": 17,
        "start_time": "2022-03-16T07:59:05.002Z"
      },
      {
        "duration": 21,
        "start_time": "2022-03-16T07:59:20.985Z"
      },
      {
        "duration": 1181,
        "start_time": "2022-03-16T07:59:27.272Z"
      },
      {
        "duration": 1999,
        "start_time": "2022-03-16T08:00:36.973Z"
      },
      {
        "duration": 7,
        "start_time": "2022-03-16T08:01:01.380Z"
      },
      {
        "duration": 53,
        "start_time": "2022-03-16T08:01:01.390Z"
      },
      {
        "duration": 8,
        "start_time": "2022-03-16T08:01:01.446Z"
      },
      {
        "duration": 80,
        "start_time": "2022-03-16T08:01:01.457Z"
      },
      {
        "duration": 98,
        "start_time": "2022-03-16T08:01:01.541Z"
      },
      {
        "duration": 22,
        "start_time": "2022-03-16T08:01:01.641Z"
      },
      {
        "duration": 75,
        "start_time": "2022-03-16T08:01:01.684Z"
      },
      {
        "duration": 23,
        "start_time": "2022-03-16T08:01:01.762Z"
      },
      {
        "duration": 22,
        "start_time": "2022-03-16T08:01:01.788Z"
      },
      {
        "duration": 32,
        "start_time": "2022-03-16T08:01:01.813Z"
      },
      {
        "duration": 44,
        "start_time": "2022-03-16T08:01:01.848Z"
      },
      {
        "duration": 904,
        "start_time": "2022-03-16T08:01:01.896Z"
      },
      {
        "duration": 9,
        "start_time": "2022-03-16T08:01:02.803Z"
      },
      {
        "duration": 6480,
        "start_time": "2022-03-16T08:01:02.815Z"
      },
      {
        "duration": 6790,
        "start_time": "2022-03-16T08:01:47.378Z"
      },
      {
        "duration": 5,
        "start_time": "2022-03-16T08:02:22.241Z"
      },
      {
        "duration": 82,
        "start_time": "2022-03-16T08:02:25.299Z"
      },
      {
        "duration": 70,
        "start_time": "2022-03-16T08:02:28.361Z"
      },
      {
        "duration": 49,
        "start_time": "2022-03-16T08:02:30.000Z"
      },
      {
        "duration": 261,
        "start_time": "2022-03-16T08:07:02.004Z"
      },
      {
        "duration": 269,
        "start_time": "2022-03-16T08:07:11.837Z"
      },
      {
        "duration": 258,
        "start_time": "2022-03-16T08:08:09.994Z"
      },
      {
        "duration": 236,
        "start_time": "2022-03-16T08:08:58.120Z"
      },
      {
        "duration": 6188,
        "start_time": "2022-03-16T08:09:25.662Z"
      },
      {
        "duration": 13,
        "start_time": "2022-03-16T08:10:02.517Z"
      },
      {
        "duration": 235,
        "start_time": "2022-03-16T08:12:24.540Z"
      },
      {
        "duration": 288,
        "start_time": "2022-03-16T08:14:15.647Z"
      },
      {
        "duration": 1116,
        "start_time": "2022-03-16T08:19:20.189Z"
      },
      {
        "duration": 1155,
        "start_time": "2022-03-16T08:20:21.604Z"
      },
      {
        "duration": 20,
        "start_time": "2022-03-16T08:20:32.598Z"
      },
      {
        "duration": 1162,
        "start_time": "2022-03-16T08:20:59.658Z"
      },
      {
        "duration": 78,
        "start_time": "2022-03-16T08:21:11.040Z"
      },
      {
        "duration": 1108,
        "start_time": "2022-03-16T08:21:16.311Z"
      },
      {
        "duration": 6,
        "start_time": "2022-03-16T08:22:16.615Z"
      },
      {
        "duration": 120,
        "start_time": "2022-03-16T08:22:18.494Z"
      },
      {
        "duration": 79,
        "start_time": "2022-03-16T08:22:26.070Z"
      },
      {
        "duration": 1080,
        "start_time": "2022-03-16T08:22:37.830Z"
      },
      {
        "duration": 1123,
        "start_time": "2022-03-16T08:22:43.221Z"
      },
      {
        "duration": 16,
        "start_time": "2022-03-16T08:23:11.064Z"
      },
      {
        "duration": 39,
        "start_time": "2022-03-16T08:23:30.630Z"
      },
      {
        "duration": 4,
        "start_time": "2022-03-16T08:23:35.209Z"
      },
      {
        "duration": 71,
        "start_time": "2022-03-16T08:23:35.216Z"
      },
      {
        "duration": 21,
        "start_time": "2022-03-16T08:23:35.291Z"
      },
      {
        "duration": 81,
        "start_time": "2022-03-16T08:23:35.314Z"
      },
      {
        "duration": 3,
        "start_time": "2022-03-16T08:23:35.397Z"
      },
      {
        "duration": 34,
        "start_time": "2022-03-16T08:23:35.402Z"
      },
      {
        "duration": 30,
        "start_time": "2022-03-16T08:23:35.438Z"
      },
      {
        "duration": 23,
        "start_time": "2022-03-16T08:23:35.470Z"
      },
      {
        "duration": 20,
        "start_time": "2022-03-16T08:23:35.496Z"
      },
      {
        "duration": 47,
        "start_time": "2022-03-16T08:23:35.519Z"
      },
      {
        "duration": 28,
        "start_time": "2022-03-16T08:23:35.569Z"
      },
      {
        "duration": 627,
        "start_time": "2022-03-16T08:23:35.600Z"
      },
      {
        "duration": 8,
        "start_time": "2022-03-16T08:23:36.230Z"
      },
      {
        "duration": 35,
        "start_time": "2022-03-16T08:23:36.240Z"
      },
      {
        "duration": 404,
        "start_time": "2022-03-16T08:23:36.278Z"
      },
      {
        "duration": 243,
        "start_time": "2022-03-16T08:23:36.685Z"
      },
      {
        "duration": 19,
        "start_time": "2022-03-16T08:23:36.931Z"
      },
      {
        "duration": 268,
        "start_time": "2022-03-16T08:23:36.952Z"
      },
      {
        "duration": 558,
        "start_time": "2022-03-16T08:25:25.588Z"
      },
      {
        "duration": 563,
        "start_time": "2022-03-16T08:25:33.411Z"
      },
      {
        "duration": 618,
        "start_time": "2022-03-16T08:26:06.184Z"
      },
      {
        "duration": 626,
        "start_time": "2022-03-16T08:26:13.347Z"
      },
      {
        "duration": 551,
        "start_time": "2022-03-16T08:26:36.089Z"
      },
      {
        "duration": 87,
        "start_time": "2022-03-16T08:26:51.275Z"
      },
      {
        "duration": 784,
        "start_time": "2022-03-16T08:26:54.762Z"
      },
      {
        "duration": 596,
        "start_time": "2022-03-16T08:27:01.547Z"
      },
      {
        "duration": 540,
        "start_time": "2022-03-16T08:27:07.450Z"
      },
      {
        "duration": 568,
        "start_time": "2022-03-16T08:27:25.474Z"
      },
      {
        "duration": 417,
        "start_time": "2022-03-16T08:27:33.496Z"
      },
      {
        "duration": 553,
        "start_time": "2022-03-16T08:28:48.143Z"
      },
      {
        "duration": 679,
        "start_time": "2022-03-16T08:29:10.622Z"
      },
      {
        "duration": 539,
        "start_time": "2022-03-16T08:29:24.973Z"
      },
      {
        "duration": 571,
        "start_time": "2022-03-16T08:30:23.115Z"
      },
      {
        "duration": 576,
        "start_time": "2022-03-16T08:30:34.197Z"
      },
      {
        "duration": 623,
        "start_time": "2022-03-16T08:30:47.015Z"
      },
      {
        "duration": 578,
        "start_time": "2022-03-16T08:30:58.468Z"
      },
      {
        "duration": 769,
        "start_time": "2022-03-16T08:32:48.817Z"
      },
      {
        "duration": 773,
        "start_time": "2022-03-16T08:33:06.342Z"
      },
      {
        "duration": 574,
        "start_time": "2022-03-16T08:33:59.436Z"
      },
      {
        "duration": 614,
        "start_time": "2022-03-16T08:34:09.074Z"
      },
      {
        "duration": 536,
        "start_time": "2022-03-16T08:39:38.949Z"
      },
      {
        "duration": 578,
        "start_time": "2022-03-16T08:39:48.080Z"
      },
      {
        "duration": 752,
        "start_time": "2022-03-16T08:40:30.623Z"
      },
      {
        "duration": 584,
        "start_time": "2022-03-16T08:43:51.402Z"
      },
      {
        "duration": 701,
        "start_time": "2022-03-16T08:44:42.954Z"
      },
      {
        "duration": 700,
        "start_time": "2022-03-16T08:45:01.453Z"
      },
      {
        "duration": 767,
        "start_time": "2022-03-16T08:51:15.751Z"
      },
      {
        "duration": 785,
        "start_time": "2022-03-16T08:51:29.901Z"
      },
      {
        "duration": 620,
        "start_time": "2022-03-16T08:51:52.589Z"
      },
      {
        "duration": 12,
        "start_time": "2022-03-16T09:49:35.298Z"
      },
      {
        "duration": 668,
        "start_time": "2022-03-16T09:52:43.357Z"
      },
      {
        "duration": 685,
        "start_time": "2022-03-16T09:52:49.358Z"
      },
      {
        "duration": 666,
        "start_time": "2022-03-16T09:55:13.477Z"
      },
      {
        "duration": 12,
        "start_time": "2022-03-16T10:08:58.086Z"
      },
      {
        "duration": 37,
        "start_time": "2022-03-16T10:09:16.901Z"
      },
      {
        "duration": 9,
        "start_time": "2022-03-16T10:16:54.389Z"
      },
      {
        "duration": 10,
        "start_time": "2022-03-16T10:17:17.998Z"
      },
      {
        "duration": 10,
        "start_time": "2022-03-16T10:17:43.292Z"
      },
      {
        "duration": 10,
        "start_time": "2022-03-16T10:17:55.264Z"
      },
      {
        "duration": 16,
        "start_time": "2022-03-16T10:18:36.074Z"
      },
      {
        "duration": 156,
        "start_time": "2022-03-16T10:19:58.027Z"
      },
      {
        "duration": 456,
        "start_time": "2022-03-16T10:23:32.205Z"
      },
      {
        "duration": 470,
        "start_time": "2022-03-16T10:24:47.229Z"
      },
      {
        "duration": 503,
        "start_time": "2022-03-16T10:24:51.586Z"
      },
      {
        "duration": 7,
        "start_time": "2022-03-16T10:26:59.738Z"
      },
      {
        "duration": 6,
        "start_time": "2022-03-16T10:28:23.495Z"
      },
      {
        "duration": 614,
        "start_time": "2022-03-16T10:41:04.340Z"
      },
      {
        "duration": 640,
        "start_time": "2022-03-16T10:41:16.712Z"
      },
      {
        "duration": 589,
        "start_time": "2022-03-16T10:45:43.878Z"
      },
      {
        "duration": 487,
        "start_time": "2022-03-16T10:46:07.634Z"
      },
      {
        "duration": 515,
        "start_time": "2022-03-16T10:46:24.911Z"
      },
      {
        "duration": 514,
        "start_time": "2022-03-16T10:46:34.810Z"
      },
      {
        "duration": 393,
        "start_time": "2022-03-16T10:48:00.045Z"
      },
      {
        "duration": 6,
        "start_time": "2022-03-16T10:48:05.262Z"
      },
      {
        "duration": 7,
        "start_time": "2022-03-16T10:48:34.598Z"
      },
      {
        "duration": 5,
        "start_time": "2022-03-16T10:49:12.442Z"
      },
      {
        "duration": 7,
        "start_time": "2022-03-16T10:49:17.457Z"
      },
      {
        "duration": 227,
        "start_time": "2022-03-16T10:49:23.682Z"
      },
      {
        "duration": 6,
        "start_time": "2022-03-16T10:49:29.107Z"
      },
      {
        "duration": 6,
        "start_time": "2022-03-16T10:49:34.266Z"
      },
      {
        "duration": 6,
        "start_time": "2022-03-16T10:49:39.181Z"
      },
      {
        "duration": 6,
        "start_time": "2022-03-16T10:49:46.121Z"
      },
      {
        "duration": 176,
        "start_time": "2022-03-16T10:59:35.509Z"
      },
      {
        "duration": 89,
        "start_time": "2022-03-16T10:59:59.398Z"
      },
      {
        "duration": 93,
        "start_time": "2022-03-16T11:00:12.280Z"
      },
      {
        "duration": 81,
        "start_time": "2022-03-16T11:00:33.164Z"
      },
      {
        "duration": 243,
        "start_time": "2022-03-16T11:00:40.869Z"
      },
      {
        "duration": 1407,
        "start_time": "2022-03-16T11:02:05.727Z"
      },
      {
        "duration": 50,
        "start_time": "2022-03-16T11:02:07.138Z"
      },
      {
        "duration": 6,
        "start_time": "2022-03-16T11:02:07.192Z"
      },
      {
        "duration": 93,
        "start_time": "2022-03-16T11:02:07.202Z"
      },
      {
        "duration": 84,
        "start_time": "2022-03-16T11:02:07.298Z"
      },
      {
        "duration": 45,
        "start_time": "2022-03-16T11:02:07.385Z"
      },
      {
        "duration": 54,
        "start_time": "2022-03-16T11:02:07.433Z"
      },
      {
        "duration": 11,
        "start_time": "2022-03-16T11:02:07.491Z"
      },
      {
        "duration": 15,
        "start_time": "2022-03-16T11:02:07.505Z"
      },
      {
        "duration": 30,
        "start_time": "2022-03-16T11:02:07.523Z"
      },
      {
        "duration": 22,
        "start_time": "2022-03-16T11:02:07.555Z"
      },
      {
        "duration": 628,
        "start_time": "2022-03-16T11:02:07.583Z"
      },
      {
        "duration": 7,
        "start_time": "2022-03-16T11:02:08.214Z"
      },
      {
        "duration": 327,
        "start_time": "2022-03-16T11:02:08.223Z"
      },
      {
        "duration": 258,
        "start_time": "2022-03-16T11:02:08.552Z"
      },
      {
        "duration": 18,
        "start_time": "2022-03-16T11:02:08.813Z"
      },
      {
        "duration": 596,
        "start_time": "2022-03-16T11:02:08.833Z"
      },
      {
        "duration": 619,
        "start_time": "2022-03-16T11:02:09.432Z"
      },
      {
        "duration": 687,
        "start_time": "2022-03-16T11:02:10.053Z"
      },
      {
        "duration": 597,
        "start_time": "2022-03-16T11:02:10.742Z"
      },
      {
        "duration": 765,
        "start_time": "2022-03-16T11:02:11.342Z"
      },
      {
        "duration": 379,
        "start_time": "2022-03-16T11:02:12.110Z"
      },
      {
        "duration": 5315,
        "start_time": "2022-03-16T11:02:07.178Z"
      },
      {
        "duration": 5313,
        "start_time": "2022-03-16T11:02:07.182Z"
      },
      {
        "duration": 5313,
        "start_time": "2022-03-16T11:02:07.185Z"
      },
      {
        "duration": 5311,
        "start_time": "2022-03-16T11:02:07.189Z"
      },
      {
        "duration": 5310,
        "start_time": "2022-03-16T11:02:07.193Z"
      },
      {
        "duration": 5309,
        "start_time": "2022-03-16T11:02:07.196Z"
      },
      {
        "duration": 5301,
        "start_time": "2022-03-16T11:02:07.206Z"
      },
      {
        "duration": 5300,
        "start_time": "2022-03-16T11:02:07.210Z"
      },
      {
        "duration": 269,
        "start_time": "2022-03-16T11:03:03.809Z"
      },
      {
        "duration": 19,
        "start_time": "2022-03-16T11:03:08.935Z"
      },
      {
        "duration": 375,
        "start_time": "2022-03-16T11:03:10.767Z"
      },
      {
        "duration": 481,
        "start_time": "2022-03-16T11:03:12.710Z"
      },
      {
        "duration": 7,
        "start_time": "2022-03-16T11:03:15.231Z"
      },
      {
        "duration": 685,
        "start_time": "2022-03-16T11:03:16.927Z"
      },
      {
        "duration": 533,
        "start_time": "2022-03-16T11:03:18.851Z"
      },
      {
        "duration": 6,
        "start_time": "2022-03-16T11:03:21.930Z"
      },
      {
        "duration": 25,
        "start_time": "2022-03-16T11:03:23.490Z"
      },
      {
        "duration": 25,
        "start_time": "2022-03-16T11:03:58.423Z"
      },
      {
        "duration": 233,
        "start_time": "2022-03-16T11:05:22.570Z"
      },
      {
        "duration": 10,
        "start_time": "2022-03-16T11:11:31.366Z"
      },
      {
        "duration": 257,
        "start_time": "2022-03-16T11:16:20.580Z"
      },
      {
        "duration": 13,
        "start_time": "2022-03-16T11:16:26.520Z"
      },
      {
        "duration": 11,
        "start_time": "2022-03-16T11:16:45.980Z"
      },
      {
        "duration": 11,
        "start_time": "2022-03-16T11:16:50.357Z"
      },
      {
        "duration": 12,
        "start_time": "2022-03-16T11:21:02.506Z"
      },
      {
        "duration": 10,
        "start_time": "2022-03-16T11:21:42.475Z"
      },
      {
        "duration": 10,
        "start_time": "2022-03-16T11:21:45.870Z"
      },
      {
        "duration": 252,
        "start_time": "2022-03-16T11:25:10.879Z"
      },
      {
        "duration": 16,
        "start_time": "2022-03-16T11:25:22.340Z"
      },
      {
        "duration": 86,
        "start_time": "2022-03-16T11:26:13.725Z"
      },
      {
        "duration": 6627,
        "start_time": "2022-03-16T11:32:31.063Z"
      },
      {
        "duration": 5600,
        "start_time": "2022-03-16T11:32:50.836Z"
      },
      {
        "duration": 14,
        "start_time": "2022-03-16T11:33:12.172Z"
      },
      {
        "duration": 13,
        "start_time": "2022-03-16T11:33:31.986Z"
      },
      {
        "duration": 11,
        "start_time": "2022-03-16T11:37:14.044Z"
      },
      {
        "duration": 10,
        "start_time": "2022-03-16T11:37:16.109Z"
      },
      {
        "duration": 25,
        "start_time": "2022-03-16T11:40:31.768Z"
      },
      {
        "duration": 12,
        "start_time": "2022-03-16T11:40:34.849Z"
      },
      {
        "duration": 11,
        "start_time": "2022-03-16T11:40:49.853Z"
      },
      {
        "duration": 12,
        "start_time": "2022-03-16T11:40:51.118Z"
      },
      {
        "duration": 11,
        "start_time": "2022-03-16T11:40:53.968Z"
      },
      {
        "duration": 12,
        "start_time": "2022-03-16T11:40:55.563Z"
      },
      {
        "duration": 28,
        "start_time": "2022-03-16T11:41:10.332Z"
      },
      {
        "duration": 10,
        "start_time": "2022-03-16T11:41:11.659Z"
      },
      {
        "duration": 5244,
        "start_time": "2022-03-16T11:43:09.859Z"
      },
      {
        "duration": 239,
        "start_time": "2022-03-16T11:43:24.126Z"
      },
      {
        "duration": 17,
        "start_time": "2022-03-16T11:43:31.791Z"
      },
      {
        "duration": 16,
        "start_time": "2022-03-16T11:43:37.432Z"
      },
      {
        "duration": 274,
        "start_time": "2022-03-16T11:47:52.320Z"
      },
      {
        "duration": 22,
        "start_time": "2022-03-16T11:47:56.832Z"
      },
      {
        "duration": 20,
        "start_time": "2022-03-16T11:48:26.229Z"
      },
      {
        "duration": 18,
        "start_time": "2022-03-16T11:49:17.203Z"
      },
      {
        "duration": 18,
        "start_time": "2022-03-16T11:49:23.569Z"
      },
      {
        "duration": 20,
        "start_time": "2022-03-16T11:49:28.714Z"
      },
      {
        "duration": 245,
        "start_time": "2022-03-16T11:51:19.625Z"
      },
      {
        "duration": 6120,
        "start_time": "2022-03-16T11:51:25.863Z"
      },
      {
        "duration": 20,
        "start_time": "2022-03-16T11:51:47.889Z"
      },
      {
        "duration": 249,
        "start_time": "2022-03-16T11:53:14.776Z"
      },
      {
        "duration": 14,
        "start_time": "2022-03-16T11:53:19.551Z"
      },
      {
        "duration": 88,
        "start_time": "2022-03-16T11:55:48.016Z"
      },
      {
        "duration": 30,
        "start_time": "2022-03-16T11:56:09.768Z"
      },
      {
        "duration": 23,
        "start_time": "2022-03-16T11:56:18.831Z"
      },
      {
        "duration": 20,
        "start_time": "2022-03-16T11:56:47.072Z"
      },
      {
        "duration": 17,
        "start_time": "2022-03-16T12:08:55.391Z"
      },
      {
        "duration": 17,
        "start_time": "2022-03-16T12:11:21.041Z"
      },
      {
        "duration": 1541,
        "start_time": "2022-03-16T12:14:20.043Z"
      },
      {
        "duration": 46,
        "start_time": "2022-03-16T12:14:21.588Z"
      },
      {
        "duration": 5,
        "start_time": "2022-03-16T12:14:21.637Z"
      },
      {
        "duration": 71,
        "start_time": "2022-03-16T12:14:21.645Z"
      },
      {
        "duration": 95,
        "start_time": "2022-03-16T12:14:21.719Z"
      },
      {
        "duration": 74,
        "start_time": "2022-03-16T12:14:21.817Z"
      },
      {
        "duration": 22,
        "start_time": "2022-03-16T12:14:21.893Z"
      },
      {
        "duration": 12,
        "start_time": "2022-03-16T12:14:21.919Z"
      },
      {
        "duration": 15,
        "start_time": "2022-03-16T12:14:21.934Z"
      },
      {
        "duration": 45,
        "start_time": "2022-03-16T12:14:21.952Z"
      },
      {
        "duration": 19,
        "start_time": "2022-03-16T12:14:22.000Z"
      },
      {
        "duration": 684,
        "start_time": "2022-03-16T12:14:22.022Z"
      },
      {
        "duration": 8,
        "start_time": "2022-03-16T12:14:22.708Z"
      },
      {
        "duration": 353,
        "start_time": "2022-03-16T12:14:22.719Z"
      },
      {
        "duration": 271,
        "start_time": "2022-03-16T12:14:23.075Z"
      },
      {
        "duration": 35,
        "start_time": "2022-03-16T12:14:23.349Z"
      },
      {
        "duration": 627,
        "start_time": "2022-03-16T12:14:23.387Z"
      },
      {
        "duration": 621,
        "start_time": "2022-03-16T12:14:24.016Z"
      },
      {
        "duration": 782,
        "start_time": "2022-03-16T12:14:24.639Z"
      },
      {
        "duration": 659,
        "start_time": "2022-03-16T12:14:25.423Z"
      },
      {
        "duration": 740,
        "start_time": "2022-03-16T12:14:26.084Z"
      },
      {
        "duration": 19,
        "start_time": "2022-03-16T12:14:26.826Z"
      },
      {
        "duration": 563,
        "start_time": "2022-03-16T12:14:26.851Z"
      },
      {
        "duration": 484,
        "start_time": "2022-03-16T12:14:27.418Z"
      },
      {
        "duration": 7,
        "start_time": "2022-03-16T12:14:27.905Z"
      },
      {
        "duration": 34,
        "start_time": "2022-03-16T12:14:27.914Z"
      },
      {
        "duration": 696,
        "start_time": "2022-03-16T12:14:27.951Z"
      },
      {
        "duration": 549,
        "start_time": "2022-03-16T12:14:28.650Z"
      },
      {
        "duration": 5,
        "start_time": "2022-03-16T12:14:29.202Z"
      },
      {
        "duration": 29,
        "start_time": "2022-03-16T12:14:29.210Z"
      },
      {
        "duration": 46,
        "start_time": "2022-03-16T12:14:29.242Z"
      },
      {
        "duration": 32,
        "start_time": "2022-03-16T12:14:29.291Z"
      },
      {
        "duration": 18,
        "start_time": "2022-03-16T12:14:29.326Z"
      },
      {
        "duration": 47,
        "start_time": "2022-03-16T12:14:29.347Z"
      },
      {
        "duration": 23,
        "start_time": "2022-03-16T12:14:29.397Z"
      },
      {
        "duration": 20,
        "start_time": "2022-03-16T12:14:29.423Z"
      },
      {
        "duration": 641,
        "start_time": "2022-03-16T12:29:53.578Z"
      },
      {
        "duration": 1154,
        "start_time": "2022-03-16T17:57:21.190Z"
      },
      {
        "duration": 38,
        "start_time": "2022-03-16T17:57:22.346Z"
      },
      {
        "duration": 4,
        "start_time": "2022-03-16T17:57:22.387Z"
      },
      {
        "duration": 52,
        "start_time": "2022-03-16T17:57:22.393Z"
      },
      {
        "duration": 51,
        "start_time": "2022-03-16T17:57:22.447Z"
      },
      {
        "duration": 59,
        "start_time": "2022-03-16T17:57:22.500Z"
      },
      {
        "duration": 26,
        "start_time": "2022-03-16T17:57:22.561Z"
      },
      {
        "duration": 19,
        "start_time": "2022-03-16T17:57:22.591Z"
      },
      {
        "duration": 12,
        "start_time": "2022-03-16T17:57:22.613Z"
      },
      {
        "duration": 22,
        "start_time": "2022-03-16T17:57:22.627Z"
      },
      {
        "duration": 18,
        "start_time": "2022-03-16T17:57:22.651Z"
      },
      {
        "duration": 466,
        "start_time": "2022-03-16T17:57:22.672Z"
      },
      {
        "duration": 5,
        "start_time": "2022-03-16T17:57:23.140Z"
      },
      {
        "duration": 205,
        "start_time": "2022-03-16T17:57:23.147Z"
      },
      {
        "duration": 181,
        "start_time": "2022-03-16T17:57:23.353Z"
      },
      {
        "duration": 24,
        "start_time": "2022-03-16T17:57:23.536Z"
      },
      {
        "duration": 458,
        "start_time": "2022-03-16T17:57:23.563Z"
      },
      {
        "duration": 421,
        "start_time": "2022-03-16T17:57:24.023Z"
      },
      {
        "duration": 545,
        "start_time": "2022-03-16T17:57:24.445Z"
      },
      {
        "duration": 467,
        "start_time": "2022-03-16T17:57:24.992Z"
      },
      {
        "duration": 583,
        "start_time": "2022-03-16T17:57:25.461Z"
      },
      {
        "duration": 20,
        "start_time": "2022-03-16T17:57:26.046Z"
      },
      {
        "duration": 273,
        "start_time": "2022-03-16T17:57:26.069Z"
      },
      {
        "duration": 389,
        "start_time": "2022-03-16T17:57:26.345Z"
      },
      {
        "duration": 4,
        "start_time": "2022-03-16T17:57:26.736Z"
      },
      {
        "duration": 32,
        "start_time": "2022-03-16T17:57:26.742Z"
      },
      {
        "duration": 437,
        "start_time": "2022-03-16T17:57:26.775Z"
      },
      {
        "duration": 379,
        "start_time": "2022-03-16T17:57:27.213Z"
      },
      {
        "duration": 4,
        "start_time": "2022-03-16T17:57:27.594Z"
      },
      {
        "duration": 16,
        "start_time": "2022-03-16T17:57:27.600Z"
      },
      {
        "duration": 42,
        "start_time": "2022-03-16T17:57:27.619Z"
      },
      {
        "duration": 13,
        "start_time": "2022-03-16T17:57:27.663Z"
      },
      {
        "duration": 10,
        "start_time": "2022-03-16T17:57:27.678Z"
      },
      {
        "duration": 8,
        "start_time": "2022-03-16T17:57:27.689Z"
      },
      {
        "duration": 13,
        "start_time": "2022-03-16T17:57:27.699Z"
      },
      {
        "duration": 55,
        "start_time": "2022-03-16T17:57:27.714Z"
      },
      {
        "duration": 1674,
        "start_time": "2022-03-17T06:59:30.311Z"
      },
      {
        "duration": 5,
        "start_time": "2022-03-17T06:59:37.611Z"
      },
      {
        "duration": 190,
        "start_time": "2022-03-17T06:59:37.620Z"
      },
      {
        "duration": 6,
        "start_time": "2022-03-17T06:59:37.814Z"
      },
      {
        "duration": 86,
        "start_time": "2022-03-17T06:59:37.822Z"
      },
      {
        "duration": 99,
        "start_time": "2022-03-17T06:59:37.911Z"
      },
      {
        "duration": 80,
        "start_time": "2022-03-17T06:59:38.012Z"
      },
      {
        "duration": 22,
        "start_time": "2022-03-17T06:59:38.094Z"
      },
      {
        "duration": 10,
        "start_time": "2022-03-17T06:59:38.118Z"
      },
      {
        "duration": 5,
        "start_time": "2022-03-17T06:59:38.130Z"
      },
      {
        "duration": 18,
        "start_time": "2022-03-17T06:59:38.137Z"
      },
      {
        "duration": 15,
        "start_time": "2022-03-17T06:59:38.185Z"
      },
      {
        "duration": 500,
        "start_time": "2022-03-17T06:59:38.203Z"
      },
      {
        "duration": 8,
        "start_time": "2022-03-17T06:59:38.705Z"
      },
      {
        "duration": 296,
        "start_time": "2022-03-17T06:59:38.716Z"
      },
      {
        "duration": 226,
        "start_time": "2022-03-17T06:59:39.015Z"
      },
      {
        "duration": 21,
        "start_time": "2022-03-17T06:59:39.244Z"
      },
      {
        "duration": 516,
        "start_time": "2022-03-17T06:59:39.266Z"
      },
      {
        "duration": 520,
        "start_time": "2022-03-17T06:59:39.785Z"
      },
      {
        "duration": 677,
        "start_time": "2022-03-17T06:59:40.308Z"
      },
      {
        "duration": 926,
        "start_time": "2022-03-17T06:59:40.988Z"
      },
      {
        "duration": 991,
        "start_time": "2022-03-17T06:59:41.916Z"
      },
      {
        "duration": 75,
        "start_time": "2022-03-17T06:59:42.909Z"
      },
      {
        "duration": 430,
        "start_time": "2022-03-17T06:59:42.987Z"
      },
      {
        "duration": 553,
        "start_time": "2022-03-17T06:59:43.419Z"
      },
      {
        "duration": 6,
        "start_time": "2022-03-17T06:59:43.981Z"
      },
      {
        "duration": 29,
        "start_time": "2022-03-17T06:59:43.989Z"
      },
      {
        "duration": 437,
        "start_time": "2022-03-17T06:59:44.021Z"
      },
      {
        "duration": 280,
        "start_time": "2022-03-17T06:59:44.460Z"
      },
      {
        "duration": 5,
        "start_time": "2022-03-17T06:59:44.745Z"
      },
      {
        "duration": 44,
        "start_time": "2022-03-17T06:59:44.752Z"
      },
      {
        "duration": 25,
        "start_time": "2022-03-17T06:59:44.798Z"
      },
      {
        "duration": 33,
        "start_time": "2022-03-17T06:59:44.826Z"
      },
      {
        "duration": 16,
        "start_time": "2022-03-17T06:59:44.883Z"
      },
      {
        "duration": 13,
        "start_time": "2022-03-17T06:59:44.901Z"
      },
      {
        "duration": 67,
        "start_time": "2022-03-17T06:59:44.916Z"
      },
      {
        "duration": 22,
        "start_time": "2022-03-17T06:59:44.985Z"
      },
      {
        "duration": 6,
        "start_time": "2022-03-17T07:00:47.581Z"
      },
      {
        "duration": 6,
        "start_time": "2022-03-17T07:01:54.443Z"
      },
      {
        "duration": 26,
        "start_time": "2022-03-17T07:09:10.602Z"
      },
      {
        "duration": 242,
        "start_time": "2022-03-17T07:09:40.004Z"
      },
      {
        "duration": 9,
        "start_time": "2022-03-17T07:10:30.000Z"
      },
      {
        "duration": 44,
        "start_time": "2022-03-17T07:10:36.336Z"
      },
      {
        "duration": 34,
        "start_time": "2022-03-17T07:10:45.477Z"
      },
      {
        "duration": 166,
        "start_time": "2022-03-17T07:14:36.461Z"
      },
      {
        "duration": 151,
        "start_time": "2022-03-17T07:14:59.076Z"
      },
      {
        "duration": 159,
        "start_time": "2022-03-17T07:15:17.722Z"
      },
      {
        "duration": 21,
        "start_time": "2022-03-17T07:15:23.561Z"
      },
      {
        "duration": 21,
        "start_time": "2022-03-17T07:16:18.792Z"
      },
      {
        "duration": 12,
        "start_time": "2022-03-17T07:19:13.032Z"
      },
      {
        "duration": 775,
        "start_time": "2022-03-17T07:19:36.576Z"
      },
      {
        "duration": 700,
        "start_time": "2022-03-17T07:20:17.039Z"
      },
      {
        "duration": 6,
        "start_time": "2022-03-17T07:20:27.151Z"
      },
      {
        "duration": 50,
        "start_time": "2022-03-17T07:20:27.160Z"
      },
      {
        "duration": 6,
        "start_time": "2022-03-17T07:20:27.214Z"
      },
      {
        "duration": 94,
        "start_time": "2022-03-17T07:20:27.222Z"
      },
      {
        "duration": 101,
        "start_time": "2022-03-17T07:20:27.319Z"
      },
      {
        "duration": 84,
        "start_time": "2022-03-17T07:20:27.423Z"
      },
      {
        "duration": 20,
        "start_time": "2022-03-17T07:20:27.509Z"
      },
      {
        "duration": 10,
        "start_time": "2022-03-17T07:20:27.531Z"
      },
      {
        "duration": 8,
        "start_time": "2022-03-17T07:20:27.543Z"
      },
      {
        "duration": 39,
        "start_time": "2022-03-17T07:20:27.553Z"
      },
      {
        "duration": 15,
        "start_time": "2022-03-17T07:20:27.596Z"
      },
      {
        "duration": 26,
        "start_time": "2022-03-17T07:20:27.613Z"
      },
      {
        "duration": 470,
        "start_time": "2022-03-17T07:20:27.642Z"
      },
      {
        "duration": 24,
        "start_time": "2022-03-17T07:20:28.114Z"
      },
      {
        "duration": 47,
        "start_time": "2022-03-17T07:20:28.141Z"
      },
      {
        "duration": 8,
        "start_time": "2022-03-17T07:20:28.191Z"
      },
      {
        "duration": 287,
        "start_time": "2022-03-17T07:20:28.201Z"
      },
      {
        "duration": 218,
        "start_time": "2022-03-17T07:20:28.490Z"
      },
      {
        "duration": 18,
        "start_time": "2022-03-17T07:20:28.710Z"
      },
      {
        "duration": 519,
        "start_time": "2022-03-17T07:20:28.731Z"
      },
      {
        "duration": 508,
        "start_time": "2022-03-17T07:20:29.253Z"
      },
      {
        "duration": 660,
        "start_time": "2022-03-17T07:20:29.764Z"
      },
      {
        "duration": 693,
        "start_time": "2022-03-17T07:20:30.426Z"
      },
      {
        "duration": 584,
        "start_time": "2022-03-17T07:20:31.121Z"
      },
      {
        "duration": 15,
        "start_time": "2022-03-17T07:20:31.707Z"
      },
      {
        "duration": 251,
        "start_time": "2022-03-17T07:20:31.724Z"
      },
      {
        "duration": 250,
        "start_time": "2022-03-17T07:20:31.982Z"
      },
      {
        "duration": 6,
        "start_time": "2022-03-17T07:20:32.234Z"
      },
      {
        "duration": 43,
        "start_time": "2022-03-17T07:20:32.245Z"
      },
      {
        "duration": 443,
        "start_time": "2022-03-17T07:20:32.291Z"
      },
      {
        "duration": 281,
        "start_time": "2022-03-17T07:20:32.737Z"
      },
      {
        "duration": 5,
        "start_time": "2022-03-17T07:20:33.020Z"
      },
      {
        "duration": 23,
        "start_time": "2022-03-17T07:20:33.027Z"
      },
      {
        "duration": 53,
        "start_time": "2022-03-17T07:20:33.052Z"
      },
      {
        "duration": 33,
        "start_time": "2022-03-17T07:20:33.107Z"
      },
      {
        "duration": 15,
        "start_time": "2022-03-17T07:20:33.142Z"
      },
      {
        "duration": 14,
        "start_time": "2022-03-17T07:20:33.186Z"
      },
      {
        "duration": 37,
        "start_time": "2022-03-17T07:20:33.203Z"
      },
      {
        "duration": 49,
        "start_time": "2022-03-17T07:20:33.242Z"
      },
      {
        "duration": 14,
        "start_time": "2022-03-17T07:32:19.403Z"
      },
      {
        "duration": 18,
        "start_time": "2022-03-17T07:32:24.246Z"
      },
      {
        "duration": 21,
        "start_time": "2022-03-17T07:32:38.808Z"
      },
      {
        "duration": 7,
        "start_time": "2022-03-17T07:32:40.860Z"
      },
      {
        "duration": 44,
        "start_time": "2022-03-17T07:34:13.597Z"
      },
      {
        "duration": 16,
        "start_time": "2022-03-17T07:34:23.765Z"
      },
      {
        "duration": 26,
        "start_time": "2022-03-17T07:35:09.622Z"
      },
      {
        "duration": 43,
        "start_time": "2022-03-17T07:36:50.790Z"
      },
      {
        "duration": 7,
        "start_time": "2022-03-17T07:37:12.111Z"
      },
      {
        "duration": 22,
        "start_time": "2022-03-17T07:38:45.608Z"
      },
      {
        "duration": 12,
        "start_time": "2022-03-17T07:38:50.961Z"
      },
      {
        "duration": 9,
        "start_time": "2022-03-17T07:39:34.760Z"
      },
      {
        "duration": 12,
        "start_time": "2022-03-17T07:39:48.407Z"
      },
      {
        "duration": 11,
        "start_time": "2022-03-17T07:39:55.624Z"
      },
      {
        "duration": 18,
        "start_time": "2022-03-17T07:40:15.504Z"
      },
      {
        "duration": 5,
        "start_time": "2022-03-17T07:40:21.940Z"
      },
      {
        "duration": 43,
        "start_time": "2022-03-17T07:40:21.952Z"
      },
      {
        "duration": 6,
        "start_time": "2022-03-17T07:40:21.998Z"
      },
      {
        "duration": 98,
        "start_time": "2022-03-17T07:40:22.007Z"
      },
      {
        "duration": 105,
        "start_time": "2022-03-17T07:40:22.108Z"
      },
      {
        "duration": 83,
        "start_time": "2022-03-17T07:40:22.215Z"
      },
      {
        "duration": 20,
        "start_time": "2022-03-17T07:40:22.300Z"
      },
      {
        "duration": 25,
        "start_time": "2022-03-17T07:40:22.323Z"
      },
      {
        "duration": 36,
        "start_time": "2022-03-17T07:40:22.351Z"
      },
      {
        "duration": 20,
        "start_time": "2022-03-17T07:40:22.390Z"
      },
      {
        "duration": 22,
        "start_time": "2022-03-17T07:40:22.413Z"
      },
      {
        "duration": 11,
        "start_time": "2022-03-17T07:40:22.438Z"
      },
      {
        "duration": 38,
        "start_time": "2022-03-17T07:40:22.451Z"
      },
      {
        "duration": 17,
        "start_time": "2022-03-17T07:40:22.491Z"
      },
      {
        "duration": 0,
        "start_time": "2022-03-17T07:40:22.511Z"
      },
      {
        "duration": 0,
        "start_time": "2022-03-17T07:40:22.513Z"
      },
      {
        "duration": 0,
        "start_time": "2022-03-17T07:40:22.514Z"
      },
      {
        "duration": 0,
        "start_time": "2022-03-17T07:40:22.516Z"
      },
      {
        "duration": 0,
        "start_time": "2022-03-17T07:40:22.518Z"
      },
      {
        "duration": 0,
        "start_time": "2022-03-17T07:40:22.520Z"
      },
      {
        "duration": 0,
        "start_time": "2022-03-17T07:40:22.521Z"
      },
      {
        "duration": 0,
        "start_time": "2022-03-17T07:40:22.523Z"
      },
      {
        "duration": 0,
        "start_time": "2022-03-17T07:40:22.524Z"
      },
      {
        "duration": 0,
        "start_time": "2022-03-17T07:40:22.526Z"
      },
      {
        "duration": 0,
        "start_time": "2022-03-17T07:40:22.527Z"
      },
      {
        "duration": 0,
        "start_time": "2022-03-17T07:40:22.529Z"
      },
      {
        "duration": 0,
        "start_time": "2022-03-17T07:40:22.531Z"
      },
      {
        "duration": 0,
        "start_time": "2022-03-17T07:40:22.583Z"
      },
      {
        "duration": 0,
        "start_time": "2022-03-17T07:40:22.584Z"
      },
      {
        "duration": 0,
        "start_time": "2022-03-17T07:40:22.586Z"
      },
      {
        "duration": 0,
        "start_time": "2022-03-17T07:40:22.587Z"
      },
      {
        "duration": 0,
        "start_time": "2022-03-17T07:40:22.589Z"
      },
      {
        "duration": 0,
        "start_time": "2022-03-17T07:40:22.590Z"
      },
      {
        "duration": 0,
        "start_time": "2022-03-17T07:40:22.592Z"
      },
      {
        "duration": 0,
        "start_time": "2022-03-17T07:40:22.593Z"
      },
      {
        "duration": 0,
        "start_time": "2022-03-17T07:40:22.595Z"
      },
      {
        "duration": 0,
        "start_time": "2022-03-17T07:40:22.597Z"
      },
      {
        "duration": 0,
        "start_time": "2022-03-17T07:40:22.598Z"
      },
      {
        "duration": 0,
        "start_time": "2022-03-17T07:40:22.600Z"
      },
      {
        "duration": 0,
        "start_time": "2022-03-17T07:40:22.602Z"
      },
      {
        "duration": 0,
        "start_time": "2022-03-17T07:40:22.603Z"
      },
      {
        "duration": 0,
        "start_time": "2022-03-17T07:40:22.605Z"
      },
      {
        "duration": 0,
        "start_time": "2022-03-17T07:40:22.606Z"
      },
      {
        "duration": 16,
        "start_time": "2022-03-17T07:41:30.607Z"
      },
      {
        "duration": 13,
        "start_time": "2022-03-17T07:41:40.264Z"
      },
      {
        "duration": 11,
        "start_time": "2022-03-17T07:43:03.446Z"
      },
      {
        "duration": 10,
        "start_time": "2022-03-17T07:43:54.957Z"
      },
      {
        "duration": 1428,
        "start_time": "2022-03-17T07:44:11.343Z"
      },
      {
        "duration": 41,
        "start_time": "2022-03-17T07:44:12.774Z"
      },
      {
        "duration": 6,
        "start_time": "2022-03-17T07:44:12.817Z"
      },
      {
        "duration": 90,
        "start_time": "2022-03-17T07:44:12.825Z"
      },
      {
        "duration": 98,
        "start_time": "2022-03-17T07:44:12.917Z"
      },
      {
        "duration": 83,
        "start_time": "2022-03-17T07:44:13.018Z"
      },
      {
        "duration": 21,
        "start_time": "2022-03-17T07:44:13.103Z"
      },
      {
        "duration": 24,
        "start_time": "2022-03-17T07:44:13.126Z"
      },
      {
        "duration": 7,
        "start_time": "2022-03-17T07:44:13.152Z"
      },
      {
        "duration": 23,
        "start_time": "2022-03-17T07:44:13.186Z"
      },
      {
        "duration": 24,
        "start_time": "2022-03-17T07:44:13.212Z"
      },
      {
        "duration": 10,
        "start_time": "2022-03-17T07:44:13.239Z"
      },
      {
        "duration": 17,
        "start_time": "2022-03-17T07:44:13.285Z"
      },
      {
        "duration": 151,
        "start_time": "2022-03-17T07:44:13.304Z"
      },
      {
        "duration": 0,
        "start_time": "2022-03-17T07:44:13.458Z"
      },
      {
        "duration": 0,
        "start_time": "2022-03-17T07:44:13.459Z"
      },
      {
        "duration": 0,
        "start_time": "2022-03-17T07:44:13.461Z"
      },
      {
        "duration": 0,
        "start_time": "2022-03-17T07:44:13.463Z"
      },
      {
        "duration": 0,
        "start_time": "2022-03-17T07:44:13.464Z"
      },
      {
        "duration": 0,
        "start_time": "2022-03-17T07:44:13.466Z"
      },
      {
        "duration": 0,
        "start_time": "2022-03-17T07:44:13.468Z"
      },
      {
        "duration": 0,
        "start_time": "2022-03-17T07:44:13.482Z"
      },
      {
        "duration": 0,
        "start_time": "2022-03-17T07:44:13.483Z"
      },
      {
        "duration": 0,
        "start_time": "2022-03-17T07:44:13.487Z"
      },
      {
        "duration": 0,
        "start_time": "2022-03-17T07:44:13.488Z"
      },
      {
        "duration": 0,
        "start_time": "2022-03-17T07:44:13.489Z"
      },
      {
        "duration": 0,
        "start_time": "2022-03-17T07:44:13.490Z"
      },
      {
        "duration": 0,
        "start_time": "2022-03-17T07:44:13.492Z"
      },
      {
        "duration": 0,
        "start_time": "2022-03-17T07:44:13.493Z"
      },
      {
        "duration": 0,
        "start_time": "2022-03-17T07:44:13.495Z"
      },
      {
        "duration": 0,
        "start_time": "2022-03-17T07:44:13.497Z"
      },
      {
        "duration": 0,
        "start_time": "2022-03-17T07:44:13.499Z"
      },
      {
        "duration": 0,
        "start_time": "2022-03-17T07:44:13.500Z"
      },
      {
        "duration": 0,
        "start_time": "2022-03-17T07:44:13.502Z"
      },
      {
        "duration": 0,
        "start_time": "2022-03-17T07:44:13.503Z"
      },
      {
        "duration": 0,
        "start_time": "2022-03-17T07:44:13.505Z"
      },
      {
        "duration": 0,
        "start_time": "2022-03-17T07:44:13.506Z"
      },
      {
        "duration": 0,
        "start_time": "2022-03-17T07:44:13.508Z"
      },
      {
        "duration": 0,
        "start_time": "2022-03-17T07:44:13.509Z"
      },
      {
        "duration": 0,
        "start_time": "2022-03-17T07:44:13.511Z"
      },
      {
        "duration": 0,
        "start_time": "2022-03-17T07:44:13.512Z"
      },
      {
        "duration": 0,
        "start_time": "2022-03-17T07:44:13.514Z"
      },
      {
        "duration": 0,
        "start_time": "2022-03-17T07:44:13.515Z"
      },
      {
        "duration": 15,
        "start_time": "2022-03-17T07:45:52.110Z"
      },
      {
        "duration": 5,
        "start_time": "2022-03-17T07:46:04.246Z"
      },
      {
        "duration": 38,
        "start_time": "2022-03-17T07:46:23.171Z"
      },
      {
        "duration": 57,
        "start_time": "2022-03-17T07:46:31.261Z"
      },
      {
        "duration": 25,
        "start_time": "2022-03-17T07:46:37.822Z"
      },
      {
        "duration": 21,
        "start_time": "2022-03-17T07:46:41.573Z"
      },
      {
        "duration": 22,
        "start_time": "2022-03-17T07:46:50.375Z"
      },
      {
        "duration": 15,
        "start_time": "2022-03-17T07:47:14.510Z"
      },
      {
        "duration": 22,
        "start_time": "2022-03-17T07:47:20.030Z"
      },
      {
        "duration": 16,
        "start_time": "2022-03-17T07:49:11.175Z"
      },
      {
        "duration": 22,
        "start_time": "2022-03-17T07:49:25.628Z"
      },
      {
        "duration": 27,
        "start_time": "2022-03-17T07:50:55.884Z"
      },
      {
        "duration": 16,
        "start_time": "2022-03-17T07:52:27.245Z"
      },
      {
        "duration": 1439,
        "start_time": "2022-03-17T07:52:37.522Z"
      },
      {
        "duration": 38,
        "start_time": "2022-03-17T07:52:38.963Z"
      },
      {
        "duration": 5,
        "start_time": "2022-03-17T07:52:39.003Z"
      },
      {
        "duration": 87,
        "start_time": "2022-03-17T07:52:39.013Z"
      },
      {
        "duration": 93,
        "start_time": "2022-03-17T07:52:39.102Z"
      },
      {
        "duration": 56,
        "start_time": "2022-03-17T07:52:39.197Z"
      },
      {
        "duration": 20,
        "start_time": "2022-03-17T07:52:39.283Z"
      },
      {
        "duration": 27,
        "start_time": "2022-03-17T07:52:39.305Z"
      },
      {
        "duration": 6,
        "start_time": "2022-03-17T07:52:39.335Z"
      },
      {
        "duration": 45,
        "start_time": "2022-03-17T07:52:39.345Z"
      },
      {
        "duration": 27,
        "start_time": "2022-03-17T07:52:39.392Z"
      },
      {
        "duration": 8,
        "start_time": "2022-03-17T07:52:39.421Z"
      },
      {
        "duration": 52,
        "start_time": "2022-03-17T07:52:39.431Z"
      },
      {
        "duration": 6,
        "start_time": "2022-03-17T07:52:39.485Z"
      },
      {
        "duration": 7,
        "start_time": "2022-03-17T07:52:39.494Z"
      },
      {
        "duration": 21,
        "start_time": "2022-03-17T07:52:39.503Z"
      },
      {
        "duration": 19,
        "start_time": "2022-03-17T07:52:39.526Z"
      },
      {
        "duration": 163,
        "start_time": "2022-03-17T07:52:39.548Z"
      },
      {
        "duration": 0,
        "start_time": "2022-03-17T07:52:39.714Z"
      },
      {
        "duration": 0,
        "start_time": "2022-03-17T07:52:39.716Z"
      },
      {
        "duration": 0,
        "start_time": "2022-03-17T07:52:39.717Z"
      },
      {
        "duration": 0,
        "start_time": "2022-03-17T07:52:39.719Z"
      },
      {
        "duration": 0,
        "start_time": "2022-03-17T07:52:39.721Z"
      },
      {
        "duration": 0,
        "start_time": "2022-03-17T07:52:39.723Z"
      },
      {
        "duration": 0,
        "start_time": "2022-03-17T07:52:39.724Z"
      },
      {
        "duration": 0,
        "start_time": "2022-03-17T07:52:39.726Z"
      },
      {
        "duration": 0,
        "start_time": "2022-03-17T07:52:39.728Z"
      },
      {
        "duration": 0,
        "start_time": "2022-03-17T07:52:39.729Z"
      },
      {
        "duration": 0,
        "start_time": "2022-03-17T07:52:39.731Z"
      },
      {
        "duration": 0,
        "start_time": "2022-03-17T07:52:39.732Z"
      },
      {
        "duration": 0,
        "start_time": "2022-03-17T07:52:39.734Z"
      },
      {
        "duration": 0,
        "start_time": "2022-03-17T07:52:39.736Z"
      },
      {
        "duration": 0,
        "start_time": "2022-03-17T07:52:39.737Z"
      },
      {
        "duration": 0,
        "start_time": "2022-03-17T07:52:39.783Z"
      },
      {
        "duration": 0,
        "start_time": "2022-03-17T07:52:39.784Z"
      },
      {
        "duration": 0,
        "start_time": "2022-03-17T07:52:39.786Z"
      },
      {
        "duration": 0,
        "start_time": "2022-03-17T07:52:39.788Z"
      },
      {
        "duration": 0,
        "start_time": "2022-03-17T07:52:39.789Z"
      },
      {
        "duration": 0,
        "start_time": "2022-03-17T07:52:39.791Z"
      },
      {
        "duration": 0,
        "start_time": "2022-03-17T07:52:39.793Z"
      },
      {
        "duration": 0,
        "start_time": "2022-03-17T07:52:39.794Z"
      },
      {
        "duration": 0,
        "start_time": "2022-03-17T07:52:39.796Z"
      },
      {
        "duration": 1462,
        "start_time": "2022-03-17T08:03:42.699Z"
      },
      {
        "duration": 38,
        "start_time": "2022-03-17T08:03:44.164Z"
      },
      {
        "duration": 6,
        "start_time": "2022-03-17T08:03:44.204Z"
      },
      {
        "duration": 82,
        "start_time": "2022-03-17T08:03:44.212Z"
      },
      {
        "duration": 95,
        "start_time": "2022-03-17T08:03:44.296Z"
      },
      {
        "duration": 57,
        "start_time": "2022-03-17T08:03:44.393Z"
      },
      {
        "duration": 55,
        "start_time": "2022-03-17T08:03:44.453Z"
      },
      {
        "duration": 27,
        "start_time": "2022-03-17T08:03:44.511Z"
      },
      {
        "duration": 7,
        "start_time": "2022-03-17T08:03:44.540Z"
      },
      {
        "duration": 43,
        "start_time": "2022-03-17T08:03:44.551Z"
      },
      {
        "duration": 24,
        "start_time": "2022-03-17T08:03:44.596Z"
      },
      {
        "duration": 12,
        "start_time": "2022-03-17T08:03:44.623Z"
      },
      {
        "duration": 55,
        "start_time": "2022-03-17T08:03:44.638Z"
      },
      {
        "duration": 5,
        "start_time": "2022-03-17T08:03:44.695Z"
      },
      {
        "duration": 13,
        "start_time": "2022-03-17T08:03:44.703Z"
      },
      {
        "duration": 21,
        "start_time": "2022-03-17T08:03:44.718Z"
      },
      {
        "duration": 41,
        "start_time": "2022-03-17T08:03:44.741Z"
      },
      {
        "duration": 960,
        "start_time": "2022-03-17T08:03:44.785Z"
      },
      {
        "duration": 0,
        "start_time": "2022-03-17T08:03:45.749Z"
      },
      {
        "duration": 0,
        "start_time": "2022-03-17T08:03:45.751Z"
      },
      {
        "duration": 0,
        "start_time": "2022-03-17T08:03:45.753Z"
      },
      {
        "duration": 0,
        "start_time": "2022-03-17T08:03:45.755Z"
      },
      {
        "duration": 0,
        "start_time": "2022-03-17T08:03:45.757Z"
      },
      {
        "duration": 0,
        "start_time": "2022-03-17T08:03:45.758Z"
      },
      {
        "duration": 0,
        "start_time": "2022-03-17T08:03:45.760Z"
      },
      {
        "duration": 0,
        "start_time": "2022-03-17T08:03:45.783Z"
      },
      {
        "duration": 0,
        "start_time": "2022-03-17T08:03:45.785Z"
      },
      {
        "duration": 0,
        "start_time": "2022-03-17T08:03:45.787Z"
      },
      {
        "duration": 0,
        "start_time": "2022-03-17T08:03:45.790Z"
      },
      {
        "duration": 0,
        "start_time": "2022-03-17T08:03:45.792Z"
      },
      {
        "duration": 0,
        "start_time": "2022-03-17T08:03:45.794Z"
      },
      {
        "duration": 0,
        "start_time": "2022-03-17T08:03:45.796Z"
      },
      {
        "duration": 0,
        "start_time": "2022-03-17T08:03:45.798Z"
      },
      {
        "duration": 0,
        "start_time": "2022-03-17T08:03:45.801Z"
      },
      {
        "duration": 0,
        "start_time": "2022-03-17T08:03:45.803Z"
      },
      {
        "duration": 0,
        "start_time": "2022-03-17T08:03:45.805Z"
      },
      {
        "duration": 0,
        "start_time": "2022-03-17T08:03:45.807Z"
      },
      {
        "duration": 0,
        "start_time": "2022-03-17T08:03:45.809Z"
      },
      {
        "duration": 0,
        "start_time": "2022-03-17T08:03:45.812Z"
      },
      {
        "duration": 0,
        "start_time": "2022-03-17T08:03:45.813Z"
      },
      {
        "duration": 0,
        "start_time": "2022-03-17T08:03:45.814Z"
      },
      {
        "duration": 0,
        "start_time": "2022-03-17T08:03:45.816Z"
      },
      {
        "duration": 435,
        "start_time": "2022-03-17T08:04:58.138Z"
      },
      {
        "duration": 8,
        "start_time": "2022-03-17T08:08:26.660Z"
      },
      {
        "duration": 271,
        "start_time": "2022-03-17T08:08:34.852Z"
      },
      {
        "duration": 26,
        "start_time": "2022-03-17T08:08:38.035Z"
      },
      {
        "duration": 205,
        "start_time": "2022-03-17T08:08:55.978Z"
      },
      {
        "duration": 18,
        "start_time": "2022-03-17T08:09:00.525Z"
      },
      {
        "duration": 18,
        "start_time": "2022-03-17T08:09:30.161Z"
      },
      {
        "duration": 573,
        "start_time": "2022-03-17T08:09:32.318Z"
      },
      {
        "duration": 486,
        "start_time": "2022-03-17T08:09:40.131Z"
      },
      {
        "duration": 600,
        "start_time": "2022-03-17T08:09:49.523Z"
      },
      {
        "duration": 492,
        "start_time": "2022-03-17T08:09:57.530Z"
      },
      {
        "duration": 711,
        "start_time": "2022-03-17T08:10:04.771Z"
      },
      {
        "duration": 16,
        "start_time": "2022-03-17T08:10:16.481Z"
      },
      {
        "duration": 269,
        "start_time": "2022-03-17T08:10:19.273Z"
      },
      {
        "duration": 272,
        "start_time": "2022-03-17T08:10:43.297Z"
      },
      {
        "duration": 7,
        "start_time": "2022-03-17T08:10:51.630Z"
      },
      {
        "duration": 27,
        "start_time": "2022-03-17T08:12:07.800Z"
      },
      {
        "duration": 417,
        "start_time": "2022-03-17T08:12:11.689Z"
      },
      {
        "duration": 279,
        "start_time": "2022-03-17T08:12:14.747Z"
      },
      {
        "duration": 6,
        "start_time": "2022-03-17T08:12:21.381Z"
      },
      {
        "duration": 30,
        "start_time": "2022-03-17T08:12:54.097Z"
      },
      {
        "duration": 27,
        "start_time": "2022-03-17T08:13:26.059Z"
      },
      {
        "duration": 14,
        "start_time": "2022-03-17T08:13:34.465Z"
      },
      {
        "duration": 25,
        "start_time": "2022-03-17T08:13:47.922Z"
      },
      {
        "duration": 28,
        "start_time": "2022-03-17T08:13:57.242Z"
      },
      {
        "duration": 13,
        "start_time": "2022-03-17T08:16:15.104Z"
      },
      {
        "duration": 11,
        "start_time": "2022-03-17T08:16:24.778Z"
      },
      {
        "duration": 37,
        "start_time": "2022-03-17T08:16:41.238Z"
      },
      {
        "duration": 27,
        "start_time": "2022-03-17T08:17:26.785Z"
      },
      {
        "duration": 20,
        "start_time": "2022-03-17T08:17:51.139Z"
      },
      {
        "duration": 32,
        "start_time": "2022-03-17T08:18:31.273Z"
      },
      {
        "duration": 14,
        "start_time": "2022-03-17T08:19:31.990Z"
      },
      {
        "duration": 18,
        "start_time": "2022-03-17T08:23:52.534Z"
      },
      {
        "duration": 1390,
        "start_time": "2022-03-17T08:29:05.636Z"
      },
      {
        "duration": 16,
        "start_time": "2022-03-17T08:29:43.107Z"
      },
      {
        "duration": 1599,
        "start_time": "2022-03-17T08:34:58.896Z"
      },
      {
        "duration": 47,
        "start_time": "2022-03-17T08:35:00.498Z"
      },
      {
        "duration": 7,
        "start_time": "2022-03-17T08:35:00.548Z"
      },
      {
        "duration": 107,
        "start_time": "2022-03-17T08:35:00.559Z"
      },
      {
        "duration": 116,
        "start_time": "2022-03-17T08:35:00.669Z"
      },
      {
        "duration": 59,
        "start_time": "2022-03-17T08:35:00.788Z"
      },
      {
        "duration": 51,
        "start_time": "2022-03-17T08:35:00.849Z"
      },
      {
        "duration": 92,
        "start_time": "2022-03-17T08:35:00.903Z"
      },
      {
        "duration": 8,
        "start_time": "2022-03-17T08:35:00.999Z"
      },
      {
        "duration": 44,
        "start_time": "2022-03-17T08:35:01.014Z"
      },
      {
        "duration": 39,
        "start_time": "2022-03-17T08:35:01.061Z"
      },
      {
        "duration": 25,
        "start_time": "2022-03-17T08:35:01.103Z"
      },
      {
        "duration": 40,
        "start_time": "2022-03-17T08:35:01.131Z"
      },
      {
        "duration": 27,
        "start_time": "2022-03-17T08:35:01.174Z"
      },
      {
        "duration": 17,
        "start_time": "2022-03-17T08:35:01.204Z"
      },
      {
        "duration": 31,
        "start_time": "2022-03-17T08:35:01.223Z"
      },
      {
        "duration": 28,
        "start_time": "2022-03-17T08:35:01.256Z"
      },
      {
        "duration": 666,
        "start_time": "2022-03-17T08:35:01.287Z"
      },
      {
        "duration": 26,
        "start_time": "2022-03-17T08:35:01.956Z"
      },
      {
        "duration": 288,
        "start_time": "2022-03-17T08:35:01.985Z"
      },
      {
        "duration": 243,
        "start_time": "2022-03-17T08:35:02.276Z"
      },
      {
        "duration": 46,
        "start_time": "2022-03-17T08:35:02.528Z"
      },
      {
        "duration": 510,
        "start_time": "2022-03-17T08:35:02.577Z"
      },
      {
        "duration": 552,
        "start_time": "2022-03-17T08:35:03.090Z"
      },
      {
        "duration": 650,
        "start_time": "2022-03-17T08:35:03.645Z"
      },
      {
        "duration": 549,
        "start_time": "2022-03-17T08:35:04.297Z"
      },
      {
        "duration": 675,
        "start_time": "2022-03-17T08:35:04.849Z"
      },
      {
        "duration": 19,
        "start_time": "2022-03-17T08:35:05.530Z"
      },
      {
        "duration": 434,
        "start_time": "2022-03-17T08:35:05.551Z"
      },
      {
        "duration": 496,
        "start_time": "2022-03-17T08:35:05.989Z"
      },
      {
        "duration": 7,
        "start_time": "2022-03-17T08:35:06.488Z"
      },
      {
        "duration": 59,
        "start_time": "2022-03-17T08:35:06.498Z"
      },
      {
        "duration": 531,
        "start_time": "2022-03-17T08:35:06.560Z"
      },
      {
        "duration": 314,
        "start_time": "2022-03-17T08:35:07.093Z"
      },
      {
        "duration": 7,
        "start_time": "2022-03-17T08:35:07.409Z"
      },
      {
        "duration": 73,
        "start_time": "2022-03-17T08:35:07.418Z"
      },
      {
        "duration": 48,
        "start_time": "2022-03-17T08:35:07.494Z"
      },
      {
        "duration": 101,
        "start_time": "2022-03-17T08:35:07.545Z"
      },
      {
        "duration": 34,
        "start_time": "2022-03-17T08:35:07.649Z"
      },
      {
        "duration": 41,
        "start_time": "2022-03-17T08:35:07.686Z"
      },
      {
        "duration": 90,
        "start_time": "2022-03-17T08:35:07.730Z"
      },
      {
        "duration": 39,
        "start_time": "2022-03-17T08:35:07.822Z"
      },
      {
        "duration": 347,
        "start_time": "2022-03-17T08:38:37.392Z"
      },
      {
        "duration": 6,
        "start_time": "2022-03-17T08:38:42.944Z"
      },
      {
        "duration": 8,
        "start_time": "2022-03-17T08:38:55.231Z"
      },
      {
        "duration": 328,
        "start_time": "2022-03-17T08:39:07.290Z"
      },
      {
        "duration": 4200,
        "start_time": "2022-03-17T08:39:10.453Z"
      },
      {
        "duration": 8,
        "start_time": "2022-03-17T08:39:21.147Z"
      },
      {
        "duration": 9,
        "start_time": "2022-03-17T08:39:41.686Z"
      },
      {
        "duration": 1222,
        "start_time": "2022-03-17T16:11:17.830Z"
      },
      {
        "duration": 249,
        "start_time": "2022-03-17T16:11:19.054Z"
      },
      {
        "duration": 5,
        "start_time": "2022-03-17T16:11:19.306Z"
      },
      {
        "duration": 74,
        "start_time": "2022-03-17T16:11:19.314Z"
      },
      {
        "duration": 71,
        "start_time": "2022-03-17T16:11:19.391Z"
      },
      {
        "duration": 41,
        "start_time": "2022-03-17T16:11:19.463Z"
      },
      {
        "duration": 37,
        "start_time": "2022-03-17T16:11:19.506Z"
      },
      {
        "duration": 27,
        "start_time": "2022-03-17T16:11:19.544Z"
      },
      {
        "duration": 4,
        "start_time": "2022-03-17T16:11:19.573Z"
      },
      {
        "duration": 13,
        "start_time": "2022-03-17T16:11:19.580Z"
      },
      {
        "duration": 38,
        "start_time": "2022-03-17T16:11:19.595Z"
      },
      {
        "duration": 13,
        "start_time": "2022-03-17T16:11:19.635Z"
      },
      {
        "duration": 24,
        "start_time": "2022-03-17T16:11:19.650Z"
      },
      {
        "duration": 10,
        "start_time": "2022-03-17T16:11:19.676Z"
      },
      {
        "duration": 7,
        "start_time": "2022-03-17T16:11:19.688Z"
      },
      {
        "duration": 15,
        "start_time": "2022-03-17T16:11:19.697Z"
      },
      {
        "duration": 25,
        "start_time": "2022-03-17T16:11:19.714Z"
      },
      {
        "duration": 339,
        "start_time": "2022-03-17T16:11:19.741Z"
      },
      {
        "duration": 5,
        "start_time": "2022-03-17T16:11:20.082Z"
      },
      {
        "duration": 196,
        "start_time": "2022-03-17T16:11:20.089Z"
      },
      {
        "duration": 126,
        "start_time": "2022-03-17T16:11:20.287Z"
      },
      {
        "duration": 24,
        "start_time": "2022-03-17T16:11:20.415Z"
      },
      {
        "duration": 372,
        "start_time": "2022-03-17T16:11:20.441Z"
      },
      {
        "duration": 363,
        "start_time": "2022-03-17T16:11:20.814Z"
      },
      {
        "duration": 446,
        "start_time": "2022-03-17T16:11:21.179Z"
      },
      {
        "duration": 363,
        "start_time": "2022-03-17T16:11:21.631Z"
      },
      {
        "duration": 475,
        "start_time": "2022-03-17T16:11:21.996Z"
      },
      {
        "duration": 11,
        "start_time": "2022-03-17T16:11:22.475Z"
      },
      {
        "duration": 189,
        "start_time": "2022-03-17T16:11:22.488Z"
      },
      {
        "duration": 269,
        "start_time": "2022-03-17T16:11:22.679Z"
      },
      {
        "duration": 5,
        "start_time": "2022-03-17T16:11:22.950Z"
      },
      {
        "duration": 19,
        "start_time": "2022-03-17T16:11:22.957Z"
      },
      {
        "duration": 308,
        "start_time": "2022-03-17T16:11:22.978Z"
      },
      {
        "duration": 196,
        "start_time": "2022-03-17T16:11:23.288Z"
      },
      {
        "duration": 5,
        "start_time": "2022-03-17T16:11:23.486Z"
      },
      {
        "duration": 39,
        "start_time": "2022-03-17T16:11:23.493Z"
      },
      {
        "duration": 23,
        "start_time": "2022-03-17T16:11:23.534Z"
      },
      {
        "duration": 44,
        "start_time": "2022-03-17T16:11:23.559Z"
      },
      {
        "duration": 12,
        "start_time": "2022-03-17T16:11:23.605Z"
      },
      {
        "duration": 21,
        "start_time": "2022-03-17T16:11:23.619Z"
      },
      {
        "duration": 43,
        "start_time": "2022-03-17T16:11:23.642Z"
      },
      {
        "duration": 15,
        "start_time": "2022-03-17T16:11:23.688Z"
      },
      {
        "duration": 4,
        "start_time": "2022-03-17T16:18:09.047Z"
      }
    ],
    "kernelspec": {
      "display_name": "Python 3 (ipykernel)",
      "language": "python",
      "name": "python3"
    },
    "language_info": {
      "codemirror_mode": {
        "name": "ipython",
        "version": 3
      },
      "file_extension": ".py",
      "mimetype": "text/x-python",
      "name": "python",
      "nbconvert_exporter": "python",
      "pygments_lexer": "ipython3",
      "version": "3.9.5"
    },
    "toc": {
      "base_numbering": 1,
      "nav_menu": {},
      "number_sections": true,
      "sideBar": true,
      "skip_h1_title": true,
      "title_cell": "Содержание",
      "title_sidebar": "Contents",
      "toc_cell": true,
      "toc_position": {
        "height": "calc(100% - 180px)",
        "left": "10px",
        "top": "150px",
        "width": "195.09px"
      },
      "toc_section_display": true,
      "toc_window_display": true
    },
    "colab": {
      "name": "Project_06.ipynb",
      "provenance": [],
      "collapsed_sections": []
    }
  },
  "nbformat": 4,
  "nbformat_minor": 0
}